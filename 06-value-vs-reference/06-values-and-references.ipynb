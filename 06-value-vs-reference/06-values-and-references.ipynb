{
 "cells": [
  {
   "cell_type": "code",
   "execution_count": null,
   "metadata": {},
   "outputs": [],
   "source": [
    "%load linked-list\n",
    "\n",
    "Node find(Node node, int value) {\n",
    "    while (node != null) {\n",
    "        if (value == node.getValue()) {\n",
    "            return node;\n",
    "        }\n",
    "        node = node.getNext();\n",
    "    }\n",
    "    return null;\n",
    "}"
   ]
  },
  {
   "cell_type": "code",
   "execution_count": null,
   "metadata": {},
   "outputs": [],
   "source": [
    "Node list = listFromArray(new int[] {1, 2, 3, 4, 5, 6, 7});\n",
    "Node five = find(list, 5);\n",
    "\n",
    "print(list);\n",
    "print(five);\n",
    "\n",
    "add(list, 5);\n",
    "print(list);\n"
   ]
  },
  {
   "cell_type": "code",
   "execution_count": null,
   "metadata": {},
   "outputs": [],
   "source": [
    "Node list = listFromArray(new int[] {1, 2, 3, 4, 5, 6, 7});\n",
    "Node five = find(list, 5);\n",
    "\n",
    "print(list);\n",
    "print(five);\n",
    "\n",
    "add(list, 5);\n",
    "print(list);\n"
   ]
  },
  {
   "cell_type": "code",
   "execution_count": null,
   "metadata": {},
   "outputs": [],
   "source": [
    "%load linked-list\n",
    "\n",
    "void add(Node node, int num) {\n",
    "    while (node != null) {\n",
    "        node.setValue(node.getValue() + num);\n",
    "        node = node.getNext();\n",
    "    }\n",
    "}"
   ]
  },
  {
   "cell_type": "code",
   "execution_count": null,
   "metadata": {},
   "outputs": [],
   "source": [
    "Node list = new Node(new int[] {1, 2, 3, 4, 5, 6, 7});\n",
    "Node five = find(list, 5);\n",
    "\n",
    "/*\n",
    "print(list);\n",
    "add(list, 5);\n",
    "print(list);\n",
    "*/\n",
    "\n",
    "print(five);\n",
    "five.setNext(null);\n",
    "print(five);\n",
    "\n",
    "print(list);"
   ]
  },
  {
   "cell_type": "code",
   "execution_count": null,
   "metadata": {},
   "outputs": [],
   "source": [
    "int n1 = 10;\n",
    "int n2 = 10;\n",
    "print(n1 == n2);"
   ]
  },
  {
   "cell_type": "code",
   "execution_count": null,
   "metadata": {},
   "outputs": [],
   "source": [
    "boolean b1 = true;\n",
    "boolean b2 = false;\n",
    "print(b1 != b2);"
   ]
  },
  {
   "cell_type": "code",
   "execution_count": null,
   "metadata": {},
   "outputs": [],
   "source": [
    "double d1 = 1.0;\n",
    "double d2 = 1.0;\n",
    "print(d1 == d2);"
   ]
  },
  {
   "cell_type": "code",
   "execution_count": null,
   "metadata": {},
   "outputs": [],
   "source": [
    "int n1 = 1;\n",
    "double d2 = 1.0;\n",
    "print(n1 == d2);"
   ]
  },
  {
   "cell_type": "code",
   "execution_count": null,
   "metadata": {},
   "outputs": [],
   "source": [
    "double d1 = 1.0;\n",
    "double d2 = d1 / 3.0;\n",
    "double d3 = d2 * 3.0;\n",
    "print(d1 == d3);"
   ]
  },
  {
   "cell_type": "code",
   "execution_count": null,
   "metadata": {},
   "outputs": [],
   "source": [
    "String s1 = \"AAA\";\n",
    "String s2 = \"BBB\";\n",
    "print(s1 == s2);"
   ]
  },
  {
   "cell_type": "code",
   "execution_count": null,
   "metadata": {},
   "outputs": [],
   "source": [
    "String s1 = \"AAA\";\n",
    "String s2 = \"AAA\";\n",
    "print(s1 == s2);"
   ]
  },
  {
   "cell_type": "code",
   "execution_count": null,
   "metadata": {},
   "outputs": [],
   "source": [
    "String s1 = \"AAA\";\n",
    "String s2 = \"AA\" + \"A\";\n",
    "print(s1 == s2);"
   ]
  },
  {
   "cell_type": "code",
   "execution_count": null,
   "metadata": {},
   "outputs": [],
   "source": [
    "String s1 = \"AAA\";\n",
    "String s2 = \"AA\";\n",
    "String s3 = \"A\";\n",
    "String s4 = s2 + s3;\n",
    "print(s1, s4, s1 == s4);"
   ]
  },
  {
   "cell_type": "code",
   "execution_count": null,
   "metadata": {},
   "outputs": [],
   "source": [
    "String s1 = \"AAA\";\n",
    "String s2 = \"AA\";\n",
    "String s3 = \"A\";\n",
    "String s4 = s2 + s3;\n",
    "print(s1, s4, s1.equals(s4));"
   ]
  },
  {
   "cell_type": "code",
   "execution_count": null,
   "metadata": {},
   "outputs": [],
   "source": [
    "class Person {\n",
    "    public String name;\n",
    "    public int age;\n",
    "\n",
    "    public Person(String name, int age) {\n",
    "        this.name = name;\n",
    "        this.age = age;\n",
    "    }\n",
    "}\n"
   ]
  },
  {
   "cell_type": "code",
   "execution_count": null,
   "metadata": {},
   "outputs": [],
   "source": [
    "Person p1 = new Person(\"Avi\", 123);\n",
    "Person p2 = new Person(\"Avi\", 123);\n",
    "print(p1 == p2);"
   ]
  },
  {
   "cell_type": "code",
   "execution_count": null,
   "metadata": {},
   "outputs": [],
   "source": [
    "Person p1 = new Person(\"Avi\", 123);\n",
    "Person p2 = new Person(\"Yoda\", 321);\n",
    "\n",
    "print(p1.age);\n",
    "\n",
    "p1 = p2;\n",
    "\n",
    "print(p1.name, p1.age);\n",
    "\n",
    "// How to print age of Avi again?"
   ]
  },
  {
   "cell_type": "code",
   "execution_count": null,
   "metadata": {},
   "outputs": [],
   "source": [
    "void printPlusOne(int num) {\n",
    "    num += 1;\n",
    "    System.out.println(num);\n",
    "}\n",
    "\n",
    "void printPlusOne(Person p2) {\n",
    "    p2.age += 1;\n",
    "    System.out.println(p2.age);\n",
    "}\n"
   ]
  },
  {
   "cell_type": "code",
   "execution_count": null,
   "metadata": {},
   "outputs": [],
   "source": [
    "int n1 = 33;\n",
    "Person p = new Person(\"Gili\", 33);\n",
    "\n",
    "printPlusOne(n1);\n",
    "printPlusOne(p);\n",
    "\n",
    "print(n1, p.age, n1 == p.age);"
   ]
  },
  {
   "cell_type": "code",
   "execution_count": null,
   "metadata": {},
   "outputs": [],
   "source": [
    "%load queues\n",
    "\n",
    "int[] numbers = new int[] {1, 2, 3, 4, 5};\n",
    "\n",
    "Node l1 = new Node(numbers);\n",
    "Node l2 = new Node(numbers);\n",
    "Node l3 = l2;\n",
    "\n",
    "print(l1 == l2);\n",
    "print(l2 == l3);\n",
    "print(l1 == l3);"
   ]
  },
  {
   "cell_type": "code",
   "execution_count": null,
   "metadata": {},
   "outputs": [],
   "source": [
    "int[] a = new int[] {1, 2, 3};\n",
    "System.out.println(a);\n",
    "print(a);\n",
    "\n",
    "Node l1 = new Node(a);\n",
    "\n",
    "System.out.println(l1);\n",
    "print(l1);"
   ]
  },
  {
   "cell_type": "code",
   "execution_count": null,
   "metadata": {},
   "outputs": [],
   "source": [
    "void foo(int[] a) {\n",
    "    a[1] += 100;\n",
    "}\n",
    "\n",
    "int[] a = new int[] {1, 2, 3};\n",
    "\n",
    "print(new Node(a));\n",
    "foo(a);\n",
    "print(new Node(a));"
   ]
  },
  {
   "cell_type": "code",
   "execution_count": null,
   "metadata": {},
   "outputs": [],
   "source": [
    "%load queues\n",
    "\n",
    "void foo(Node node) {\n",
    "    node.getNext().setValue(node.getNext().getValue() + 100);\n",
    "}\n",
    "\n",
    "int[] numbers = new int[] {1, 2, 3, 4, 5};\n",
    "var l1 = new Node(numbers);\n",
    "\n",
    "print(l1);\n",
    "foo(l1);\n",
    "print(l1);"
   ]
  },
  {
   "cell_type": "code",
   "execution_count": null,
   "metadata": {},
   "outputs": [],
   "source": [
    "%load queues\n",
    "\n",
    "int[] numbers = new int[] {1, 2, 3, 4, 5};\n",
    "\n",
    "var l1 = new Node(numbers);\n",
    "var l2 = new Node(numbers);\n",
    "\n",
    "print(l1);\n",
    "\n",
    "l1.getNext().getNext().getNext().setNext(l2.getNext());\n",
    "\n",
    "print(l1);"
   ]
  },
  {
   "cell_type": "code",
   "execution_count": null,
   "metadata": {},
   "outputs": [],
   "source": [
    "%load queues\n",
    "\n",
    "int[] numbers = new int[] {1, 2, 3, 4, 5};\n",
    "\n",
    "var l1 = new Node(numbers);\n",
    "\n",
    "l1.getNext().getNext().getNext().setNext(l1.getNext());\n",
    "print(l1);"
   ]
  },
  {
   "cell_type": "markdown",
   "metadata": {},
   "source": [
    "Write a function thet detects loop inside a given list"
   ]
  },
  {
   "cell_type": "code",
   "execution_count": null,
   "metadata": {},
   "outputs": [],
   "source": [
    "%load queues\n",
    "\n",
    "boolean hasLoop(Node l1) {\n",
    "    return false;\n",
    "}"
   ]
  }
 ],
 "metadata": {
  "kernelspec": {
   "display_name": "Java",
   "language": "java",
   "name": "java"
  },
  "language_info": {
   "codemirror_mode": "java",
   "file_extension": ".jshell",
   "mimetype": "text/x-java-source",
   "name": "java",
   "pygments_lexer": "java",
   "version": "17.0.2+8"
  }
 },
 "nbformat": 4,
 "nbformat_minor": 2
}
