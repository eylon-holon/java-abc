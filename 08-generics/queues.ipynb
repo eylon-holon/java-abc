{
 "cells": [
  {
   "cell_type": "code",
   "execution_count": 17,
   "metadata": {
    "vscode": {
     "languageId": "java"
    }
   },
   "outputs": [],
   "source": [
    "%load ../eylon/java-utils\n",
    "%load Node\n",
    "%load Queue\n",
    "%load Stack\n",
    "%load iterate\n",
    "\n",
    "<T> Queue<T> queueFromArray(T[] nums) {\n",
    "    var que = new Queue<T>();\n",
    "    for (var num: nums) {\n",
    "        que.insert(num);\n",
    "    }\n",
    "    return que;\n",
    "}\n",
    "\n",
    "<T> Stack<T> stackFromArray(T[] nums) {\n",
    "    var stack = new Stack<T>();\n",
    "    for (int i = nums.length; i-- > 0; ) {\n",
    "        stack.push(nums[i]);\n",
    "    }\n",
    "    return stack;\n",
    "}\n"
   ]
  }
 ],
 "metadata": {
  "kernelspec": {
   "display_name": "Java",
   "language": "java",
   "name": "java"
  },
  "language_info": {
   "codemirror_mode": "java",
   "file_extension": ".jshell",
   "mimetype": "text/x-java-source",
   "name": "Java",
   "pygments_lexer": "java",
   "version": "23+37-2369"
  }
 },
 "nbformat": 4,
 "nbformat_minor": 2
}
