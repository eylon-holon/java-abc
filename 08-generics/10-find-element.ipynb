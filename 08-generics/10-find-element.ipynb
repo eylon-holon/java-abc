{
 "cells": [
  {
   "cell_type": "code",
   "execution_count": 1,
   "metadata": {
    "vscode": {
     "languageId": "java"
    }
   },
   "outputs": [
    {
     "data": {
      "text/plain": [
       "'08-10' is submitted to Gosha (recheck). Great job! 👍"
      ]
     },
     "execution_count": 1,
     "metadata": {},
     "output_type": "execute_result"
    }
   ],
   "source": [
    "%load ../eylon/submit\n",
    "submit(\"08-10\", \"recheck\");"
   ]
  },
  {
   "cell_type": "markdown",
   "metadata": {},
   "source": [
    "=== F I N D - E L E M E N T - I N - Q U E U E ==="
   ]
  },
  {
   "cell_type": "code",
   "execution_count": 7,
   "metadata": {
    "vscode": {
     "languageId": "java"
    }
   },
   "outputs": [],
   "source": [
    "%load queues\n",
    "<T> boolean has(Queue<T> que, T num) {\n",
    "    boolean found = false;\n",
    "    Queue<T> tmp = new Queue<T>();\n",
    "    while (!que.isEmpty()) {\n",
    "        T x = que.remove();\n",
    "        tmp.insert(x);\n",
    "\n",
    "        if (x==num){\n",
    "            found=true;}\n",
    "        }\n",
    "    \n",
    "    while (!tmp.isEmpty()) {\n",
    "        que.insert(tmp.remove());\n",
    "    }\n",
    "\n",
    "    return found;\n",
    "}"
   ]
  },
  {
   "cell_type": "code",
   "execution_count": 8,
   "metadata": {
    "vscode": {
     "languageId": "java"
    }
   },
   "outputs": [
    {
     "name": "stdout",
     "output_type": "stream",
     "text": [
      "false \n"
     ]
    },
    {
     "name": "stdout",
     "output_type": "stream",
     "text": [
      "true \n",
      "10 \n",
      "20 \n",
      "30 \n",
      "40 \n"
     ]
    }
   ],
   "source": [
    "Queue<Integer> que = queueFromArray(new Integer[] {10, 20, 30, 40});\n",
    "print(has(que, 15));\n",
    "print(has(que, 20));\n",
    "iterate(que);"
   ]
  },
  {
   "cell_type": "markdown",
   "metadata": {},
   "source": [
    "=== F I N D - E L E M E N T - I N - S T A C K ==="
   ]
  },
  {
   "cell_type": "code",
   "execution_count": 9,
   "metadata": {
    "vscode": {
     "languageId": "java"
    }
   },
   "outputs": [],
   "source": [
    "%load queues\n",
    "<T> boolean has(Stack<T> stack, T num) {\n",
    "    boolean found = false;\n",
    "    Stack<T> tmp = new Stack<T>();\n",
    "\n",
    "    while (!stack.isEmpty()) {\n",
    "        T x = stack.pop();\n",
    "        tmp.push(x);\n",
    "\n",
    "        if (x==num){\n",
    "            found=true;\n",
    "        }\n",
    "    }\n",
    "    while (!tmp.isEmpty()) {\n",
    "        stack.push(tmp.pop());\n",
    "    }\n",
    "    return found;\n",
    "}"
   ]
  },
  {
   "cell_type": "code",
   "execution_count": 10,
   "metadata": {
    "vscode": {
     "languageId": "java"
    }
   },
   "outputs": [
    {
     "name": "stdout",
     "output_type": "stream",
     "text": [
      "false \n"
     ]
    },
    {
     "name": "stdout",
     "output_type": "stream",
     "text": [
      "true \n",
      "10 \n",
      "20 \n",
      "30 \n",
      "40 \n"
     ]
    }
   ],
   "source": [
    "Stack<Integer> stack = stackFromArray(new Integer[] {10, 20, 30, 40});\n",
    "print(has(stack, 15));\n",
    "print(has(stack, 20));\n",
    "iterate(stack);"
   ]
  },
  {
   "cell_type": "markdown",
   "metadata": {},
   "source": [
    "=== B R A I N - T E A S E R ==="
   ]
  },
  {
   "cell_type": "code",
   "execution_count": null,
   "metadata": {
    "vscode": {
     "languageId": "java"
    }
   },
   "outputs": [],
   "source": [
    "Integer n1 = new Integer(10);\n",
    "Integer n2 = new Integer(10);\n",
    "print(n1 == 10);\n",
    "print(n2 == 10);\n",
    "print(n1 == n2);"
   ]
  },
  {
   "cell_type": "markdown",
   "metadata": {},
   "source": [
    "=== F I N D - B Y - N A M E ==="
   ]
  },
  {
   "cell_type": "code",
   "execution_count": 3,
   "metadata": {
    "vscode": {
     "languageId": "java"
    }
   },
   "outputs": [],
   "source": [
    "class Person {\n",
    "    public String name;\n",
    "    public int age;\n",
    "\n",
    "    public Person(String name, int age) {\n",
    "        this.name = name;\n",
    "        this.age = age;\n",
    "    }\n",
    "\n",
    "    public String toString() {\n",
    "        return name + \": \" + age;\n",
    "    }\n",
    "}"
   ]
  },
  {
   "cell_type": "code",
   "execution_count": 4,
   "metadata": {
    "vscode": {
     "languageId": "java"
    }
   },
   "outputs": [
    {
     "ename": "CompilationException",
     "evalue": "",
     "output_type": "error",
     "traceback": [
      "\u001b[1m\u001b[30m|   \u001b[1m\u001b[30m    Queue<Person> tmp = \u001b[0m\u001b[1m\u001b[30m\u001b[41mnew Queue<Person>()\u001b[0m\u001b[1m\u001b[30m;\u001b[0m",
      "\u001b[1m\u001b[31mjava.util.Queue is abstract; cannot be instantiated\u001b[0m",
      "",
      "\u001b[1m\u001b[30m|   \u001b[1m\u001b[30m        \u001b[0m\u001b[1m\u001b[30m\u001b[41mtmp.insert\u001b[0m\u001b[1m\u001b[30m(p);\u001b[0m",
      "\u001b[1m\u001b[31mcannot find symbol\u001b[0m",
      "\u001b[1m\u001b[31m  symbol:   method insert(Person)\u001b[0m",
      "",
      "\u001b[1m\u001b[30m|   \u001b[1m\u001b[30m        \u001b[0m\u001b[1m\u001b[30m\u001b[41mque.insert\u001b[0m\u001b[1m\u001b[30m(tmp.remove());\u001b[0m",
      "\u001b[1m\u001b[31mcannot find symbol\u001b[0m",
      "\u001b[1m\u001b[31m  symbol:   method insert(Person)\u001b[0m",
      ""
     ]
    }
   ],
   "source": [
    "Person findByName(Queue<Person> que, String name) {\n",
    "    Queue<Person> tmp = new Queue<Person>();\n",
    "    Person found = null;\n",
    "\n",
    "    while (!que.isEmpty()) {\n",
    "        var p = que.remove();\n",
    "        tmp.insert(p);\n",
    "\n",
    "        if (p.name.equals(name)) {\n",
    "            found = p;\n",
    "        }\n",
    "    }\n",
    "\n",
    "    while (!tmp.isEmpty()) {\n",
    "        que.insert(tmp.remove());\n",
    "    }\n",
    "\n",
    "    return found;\n",
    "}"
   ]
  },
  {
   "cell_type": "code",
   "execution_count": null,
   "metadata": {
    "vscode": {
     "languageId": "java"
    }
   },
   "outputs": [],
   "source": [
    "Queue<Person> que = new Queue<Person>();\n",
    "\n",
    "que.insert(new Person(\"Avi\", 23));\n",
    "que.insert(new Person(\"Beni\", 25));\n",
    "que.insert(new Person(\"Gili\", 27));\n",
    "iterate(que);\n",
    "\n",
    "print(\"findByName:\", findByName(que, \"Beni\"));\n",
    "\n",
    "iterate(que);"
   ]
  },
  {
   "cell_type": "code",
   "execution_count": null,
   "metadata": {
    "vscode": {
     "languageId": "java"
    }
   },
   "outputs": [],
   "source": [
    "Queue<Person> que = new Queue<Person>();\n",
    "\n",
    "que.insert(new Person(\"Avi\", 23));\n",
    "que.insert(new Person(\"Beni\", 25));\n",
    "que.insert(new Person(\"Gili\", 27));\n",
    "iterate(que);\n",
    "\n",
    "String Be = \"Be\";\n",
    "String ni = \"ni\";\n",
    "print(\"findByName:\", findByName(que, Be+ni));\n",
    "\n",
    "iterate(que);"
   ]
  }
 ],
 "metadata": {
  "kernelspec": {
   "display_name": "Java",
   "language": "java",
   "name": "java"
  },
  "language_info": {
   "codemirror_mode": "java",
   "file_extension": ".jshell",
   "mimetype": "text/x-java-source",
   "name": "Java",
   "pygments_lexer": "java",
   "version": "21.0.4+7-LTS"
  }
 },
 "nbformat": 4,
 "nbformat_minor": 2
}
