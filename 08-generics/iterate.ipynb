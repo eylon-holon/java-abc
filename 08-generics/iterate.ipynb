{
 "cells": [
  {
   "cell_type": "code",
   "execution_count": 6,
   "metadata": {
    "vscode": {
     "languageId": "java"
    }
   },
   "outputs": [],
   "source": [
    "<T> void iterate(Queue<T> que) {\n",
    "    Queue<T> tmp = new Queue<T>();\n",
    "\n",
    "    while (!que.isEmpty()) {\n",
    "        T x = que.remove();\n",
    "        tmp.insert(x);\n",
    "\n",
    "        print(x);\n",
    "    }\n",
    "\n",
    "    while (!tmp.isEmpty()) {\n",
    "        que.insert(tmp.remove());\n",
    "    }\n",
    "}"
   ]
  },
  {
   "cell_type": "code",
   "execution_count": 8,
   "metadata": {
    "vscode": {
     "languageId": "java"
    }
   },
   "outputs": [],
   "source": [
    "<T> void iterate(Stack<T> stack) {\n",
    "    Stack<T> tmp = new Stack<T>();\n",
    "\n",
    "    while (!stack.isEmpty()) {\n",
    "        T x = stack.pop();\n",
    "        tmp.push(x);\n",
    "\n",
    "        print(x);\n",
    "    }\n",
    "\n",
    "    while (!tmp.isEmpty()) {\n",
    "        stack.push(tmp.pop());\n",
    "    }\n",
    "}"
   ]
  }
 ],
 "metadata": {
  "kernelspec": {
   "display_name": "Java",
   "language": "java",
   "name": "java"
  },
  "language_info": {
   "codemirror_mode": "java",
   "file_extension": ".jshell",
   "mimetype": "text/x-java-source",
   "name": "Java",
   "pygments_lexer": "java",
   "version": "23+37-2369"
  }
 },
 "nbformat": 4,
 "nbformat_minor": 2
}
