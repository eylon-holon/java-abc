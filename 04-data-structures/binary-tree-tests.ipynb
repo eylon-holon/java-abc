{
 "cells": [
  {
   "cell_type": "code",
   "execution_count": 3,
   "metadata": {
    "vscode": {
     "languageId": "java"
    }
   },
   "outputs": [
    {
     "name": "stdout",
     "output_type": "stream",
     "text": [
      "2 --> [1 3]\n",
      "1 --> [4 5]\n",
      "4 --> [7 null]\n",
      "7 --> X\n",
      "5 --> [null 8]\n",
      "8 --> X\n",
      "3 --> [null 6]\n",
      "6 --> [9 10]\n",
      "9 --> X\n",
      "10 --> X\n"
     ]
    }
   ],
   "source": [
    "%load binary-tree\n",
    "var tree = buildTestTree();\n",
    "\n",
    "print(tree);"
   ]
  },
  {
   "cell_type": "code",
   "execution_count": 2,
   "metadata": {
    "vscode": {
     "languageId": "java"
    }
   },
   "outputs": [
    {
     "name": "stdout",
     "output_type": "stream",
     "text": [
      "10 true \n",
      "5 true \n",
      "11 false \n"
     ]
    }
   ],
   "source": [
    "%load binary-tree\n",
    "var tree = buildTestTree();\n",
    "print3(tree);\n",
    "\n",
    "print(10, hasValue(tree, 10));\n",
    "print(5, hasValue(tree, 5));\n",
    "print(11, hasValue(tree, 11));"
   ]
  },
  {
   "cell_type": "code",
   "execution_count": 1,
   "metadata": {
    "vscode": {
     "languageId": "java"
    }
   },
   "outputs": [
    {
     "name": "stdout",
     "output_type": "stream",
     "text": [
      "55 \n",
      "55 \n",
      "55 \n"
     ]
    }
   ],
   "source": [
    "%load binary-tree\n",
    "var tree = buildTestTree();\n",
    "\n",
    "print(sumPreOrder(tree));\n",
    "print(sumInOrder(tree));\n",
    "print(sumPostOrder(tree));"
   ]
  },
  {
   "cell_type": "code",
   "execution_count": null,
   "metadata": {},
   "outputs": [],
   "source": [
    "%load binary-tree\n",
    "var tree = buildFromMermaid(\"test\", \"mermaid-samples.dib\");\n",
    "print3(tree);"
   ]
  },
  {
   "cell_type": "code",
   "execution_count": null,
   "metadata": {},
   "outputs": [],
   "source": [
    "%load binary-tree\n",
    "var tree = buildFromMermaid(\"my-presentation\", \"mermaid-samples.dib\");\n",
    "print3(tree);"
   ]
  }
 ],
 "metadata": {
  "kernelspec": {
   "display_name": "Java",
   "language": "java",
   "name": "java"
  },
  "language_info": {
   "codemirror_mode": "java",
   "file_extension": ".jshell",
   "mimetype": "text/x-java-source",
   "name": "java",
   "pygments_lexer": "java",
   "version": "21.0.4+7-LTS"
  }
 },
 "nbformat": 4,
 "nbformat_minor": 2
}
