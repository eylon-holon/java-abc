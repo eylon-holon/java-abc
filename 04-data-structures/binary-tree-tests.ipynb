{
 "cells": [
  {
   "cell_type": "code",
   "execution_count": null,
   "metadata": {
    "vscode": {
     "languageId": "java"
    }
   },
   "outputs": [],
   "source": [
    "%load binary-tree\n",
    "var tree = build(\"Simple tree\");\n",
    "\n",
    "print(tree);"
   ]
  },
  {
   "cell_type": "code",
   "execution_count": null,
   "metadata": {
    "vscode": {
     "languageId": "java"
    }
   },
   "outputs": [],
   "source": [
    "%load binary-tree\n",
    "var tree = build(\"Simple tree\");\n",
    "\n",
    "print(10, hasValue(tree, 10));\n",
    "print(5, hasValue(tree, 5));\n",
    "print(11, hasValue(tree, 11));"
   ]
  },
  {
   "cell_type": "code",
   "execution_count": null,
   "metadata": {
    "vscode": {
     "languageId": "java"
    }
   },
   "outputs": [],
   "source": [
    "%load binary-tree\n",
    "var tree = build(\"Simple tree\");\n",
    "\n",
    "print(sumPreOrder(tree));\n",
    "print(sumInOrder(tree));\n",
    "print(sumPostOrder(tree));"
   ]
  }
 ],
 "metadata": {
  "kernelspec": {
   "display_name": "Java",
   "language": "java",
   "name": "java"
  },
  "language_info": {
   "codemirror_mode": "java",
   "file_extension": ".jshell",
   "mimetype": "text/x-java-source",
   "name": "Java",
   "pygments_lexer": "java",
   "version": "23+37-2369"
  }
 },
 "nbformat": 4,
 "nbformat_minor": 2
}
