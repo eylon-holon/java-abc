{
 "cells": [
  {
   "cell_type": "markdown",
   "metadata": {},
   "source": [
    "=== C O N T A I N S - P O S T - O R D E R ==="
   ]
  },
  {
   "cell_type": "code",
   "execution_count": 1,
   "metadata": {
    "vscode": {
     "languageId": "java"
    }
   },
   "outputs": [],
   "source": [
    "%load binary-tree\n",
    "\n",
    "boolean containsPostOrder(BinNode node, int num) {\n",
    "    if (node == null) {\n",
    "        return false;\n",
    "    }\n",
    "    print(node);\n",
    "    if (containsPostOrder(node.getLeft(), num) || \n",
    "        containsPostOrder(node.getRight(), num)\n",
    "    ) {\n",
    "        return true;\n",
    "    }\n",
    "    return num == node.getValue(); \n",
    "}"
   ]
  },
  {
   "cell_type": "code",
   "execution_count": 2,
   "metadata": {
    "vscode": {
     "languageId": "java"
    }
   },
   "outputs": [
    {
     "name": "stdout",
     "output_type": "stream",
     "text": [
      "19 --> [17 15] \n",
      "17 --> [13 12] \n",
      "13 --> [11 null] \n",
      "11 --> X \n",
      "12 --> [23 10] \n",
      "23 --> X \n",
      "10 --> [17 null] \n",
      "17 --> X \n",
      "true \n"
     ]
    }
   ],
   "source": [
    "var tree = buildFromMermaid(\"containsPostOrder\", \"04-binary-tree-a02.trees.dib\");\n",
    "print(containsPostOrder(tree, 17));"
   ]
  },
  {
   "cell_type": "markdown",
   "metadata": {},
   "source": [
    "=== C O N T A I N S - P R E - O R D E R ==="
   ]
  },
  {
   "cell_type": "code",
   "execution_count": 3,
   "metadata": {
    "vscode": {
     "languageId": "java"
    }
   },
   "outputs": [],
   "source": [
    "%load binary-tree\n",
    "\n",
    "boolean containsPreOrder(BinNode node, int num) {\n",
    "    if (node == null) {\n",
    "        return false;\n",
    "    }\n",
    "    print(node);\n",
    "    if (num == node.getValue()) {\n",
    "        return true;\n",
    "    }\n",
    "    return \n",
    "        containsPreOrder(node.getLeft(), num) || \n",
    "        containsPreOrder(node.getRight(), num);\n",
    "}"
   ]
  },
  {
   "cell_type": "code",
   "execution_count": 4,
   "metadata": {
    "vscode": {
     "languageId": "java"
    }
   },
   "outputs": [
    {
     "name": "stdout",
     "output_type": "stream",
     "text": [
      "19 --> [17 15] \n",
      "17 --> [13 12] \n",
      "true \n"
     ]
    }
   ],
   "source": [
    "var tree = buildFromMermaid(\"containsPostOrder\", \"04-binary-tree-a02.trees.dib\");\n",
    "print(containsPreOrder(tree, 17));"
   ]
  },
  {
   "cell_type": "markdown",
   "metadata": {},
   "source": [
    "=== C O U N T - N O D E S ==="
   ]
  },
  {
   "cell_type": "code",
   "execution_count": 5,
   "metadata": {
    "vscode": {
     "languageId": "java"
    }
   },
   "outputs": [],
   "source": [
    "%load binary-tree\n",
    "\n",
    "int countNodes(BinNode node) {\n",
    "    if (node == null) {\n",
    "        return 0;\n",
    "    }\n",
    "    return 1 +\n",
    "        countNodes(node.getLeft()) +\n",
    "        countNodes(node.getRight());\n",
    "}"
   ]
  },
  {
   "cell_type": "code",
   "execution_count": 6,
   "metadata": {
    "vscode": {
     "languageId": "java"
    }
   },
   "outputs": [
    {
     "name": "stdout",
     "output_type": "stream",
     "text": [
      "13 \n"
     ]
    }
   ],
   "source": [
    "var tree = buildFromMermaid(\"containsPostOrder\", \"04-binary-tree-a02.trees.dib\");\n",
    "print(countNodes(tree));"
   ]
  },
  {
   "cell_type": "markdown",
   "metadata": {},
   "source": [
    "=== G E T - T R E E - H E I G H T ==="
   ]
  },
  {
   "cell_type": "code",
   "execution_count": 8,
   "metadata": {
    "vscode": {
     "languageId": "java"
    }
   },
   "outputs": [],
   "source": [
    "%load binary-tree\n",
    "\n",
    "int getHeight(BinNode node) {\n",
    "    if (node == null) {\n",
    "        return 0;\n",
    "    }\n",
    "    return 1 + Math.max(\n",
    "        getHeight(node.getLeft()),\n",
    "        getHeight(node.getRight()));\n",
    "}"
   ]
  },
  {
   "cell_type": "code",
   "execution_count": 9,
   "metadata": {
    "vscode": {
     "languageId": "java"
    }
   },
   "outputs": [
    {
     "name": "stdout",
     "output_type": "stream",
     "text": [
      "5 \n"
     ]
    }
   ],
   "source": [
    "var tree = buildFromMermaid(\"containsPostOrder\", \"04-binary-tree-a02.trees.dib\");\n",
    "print(getHeight(tree));"
   ]
  },
  {
   "cell_type": "markdown",
   "metadata": {},
   "source": [
    "=== C O U N T - L E A V E S ==="
   ]
  },
  {
   "cell_type": "code",
   "execution_count": 11,
   "metadata": {
    "vscode": {
     "languageId": "java"
    }
   },
   "outputs": [],
   "source": [
    "%load binary-tree\n",
    "\n",
    "int countLeaves(BinNode node) {\n",
    "    if (node == null) {\n",
    "        return 0;\n",
    "    }\n",
    "    if (node.getLeft() == null && node.getRight() == null) {\n",
    "        print(node);\n",
    "        return 1;\n",
    "    }\n",
    "    return\n",
    "        countLeaves(node.getLeft()) +\n",
    "        countLeaves(node.getRight());\n",
    "}"
   ]
  },
  {
   "cell_type": "code",
   "execution_count": 12,
   "metadata": {
    "vscode": {
     "languageId": "java"
    }
   },
   "outputs": [
    {
     "name": "stdout",
     "output_type": "stream",
     "text": [
      "11 --> X \n",
      "23 --> X \n",
      "17 --> X \n",
      "22 --> X \n",
      "12 --> X \n",
      "5 \n"
     ]
    }
   ],
   "source": [
    "var tree = buildFromMermaid(\"containsPostOrder\", \"04-binary-tree-a02.trees.dib\");\n",
    "print(countLeaves(tree));"
   ]
  },
  {
   "cell_type": "markdown",
   "metadata": {
    "vscode": {
     "languageId": "java"
    }
   },
   "source": [
    "=== S A M E - T R E E ==="
   ]
  },
  {
   "cell_type": "code",
   "execution_count": 14,
   "metadata": {
    "vscode": {
     "languageId": "java"
    }
   },
   "outputs": [],
   "source": [
    "%load binary-tree\n",
    "\n",
    "boolean sameAs(BinNode a, BinNode b) {\n",
    "    if (a == null && b == null) {\n",
    "        return true;\n",
    "    }\n",
    "    if (a == null || b == null) {\n",
    "        return false;\n",
    "    }\n",
    "    print(a.getValue(), b.getValue());\n",
    "    return\n",
    "        a.getValue() == b.getValue() &&\n",
    "        sameAs(a.getLeft(), b.getLeft()) &&\n",
    "        sameAs(a.getRight(), b.getRight());\n",
    "}"
   ]
  },
  {
   "cell_type": "code",
   "execution_count": 15,
   "metadata": {
    "vscode": {
     "languageId": "java"
    }
   },
   "outputs": [
    {
     "name": "stdout",
     "output_type": "stream",
     "text": [
      "19 19 \n",
      "17 17 \n",
      "13 13 \n",
      "11 11 \n",
      "12 12 \n",
      "23 23 \n",
      "10 10 \n",
      "16 17 \n",
      "false \n",
      "19 19 \n",
      "17 17 \n",
      "13 13 \n",
      "11 11 \n",
      "12 12 \n",
      "23 23 \n",
      "10 10 \n",
      "17 16 \n",
      "false \n",
      "19 19 \n",
      "17 17 \n",
      "13 13 \n",
      "11 11 \n",
      "12 12 \n",
      "23 23 \n",
      "10 10 \n",
      "16 16 \n",
      "15 15 \n",
      "14 14 \n",
      "21 21 \n",
      "22 22 \n",
      "12 12 \n",
      "true \n"
     ]
    },
    {
     "name": "stdout",
     "output_type": "stream",
     "text": [
      "19 19 \n",
      "17 17 \n",
      "13 13 \n",
      "11 11 \n",
      "12 12 \n",
      "23 23 \n",
      "10 10 \n",
      "17 17 \n",
      "15 15 \n",
      "14 14 \n",
      "21 21 \n",
      "22 22 \n",
      "12 12 \n",
      "true \n"
     ]
    }
   ],
   "source": [
    "var a = buildFromMermaid(\"my-presentation\", \"mermaid-samples.dib\");\n",
    "var b = buildFromMermaid(\"containsPostOrder\", \"04-binary-tree-a02.trees.dib\");\n",
    "print(sameAs(a, b));\n",
    "print(sameAs(b, a));\n",
    "print(sameAs(a, a));\n",
    "print(sameAs(b, b));"
   ]
  },
  {
   "cell_type": "markdown",
   "metadata": {},
   "source": [
    "=== B O N U S  ===\n",
    "\n",
    "=== I S - C O N S T A N T ==="
   ]
  },
  {
   "cell_type": "code",
   "execution_count": 18,
   "metadata": {
    "vscode": {
     "languageId": "java"
    }
   },
   "outputs": [],
   "source": [
    "%load binary-tree\n",
    "\n",
    "boolean isConstant(BinNode node, int num) {\n",
    "    if (node == null) {\n",
    "        return true;\n",
    "    }\n",
    "    return \n",
    "        node.getValue() == num &&\n",
    "        isConstant(node.getLeft(), num) &&\n",
    "        isConstant(node.getRight(), num);\n",
    "}\n",
    "\n",
    "boolean isConstant(BinNode node) {\n",
    "    if (node == null) {\n",
    "        return true;\n",
    "    }\n",
    "    return isConstant(node, node.getValue());\n",
    "}"
   ]
  },
  {
   "cell_type": "code",
   "execution_count": 19,
   "metadata": {
    "vscode": {
     "languageId": "java"
    }
   },
   "outputs": [
    {
     "name": "stdout",
     "output_type": "stream",
     "text": [
      "true \n",
      "false \n"
     ]
    }
   ],
   "source": [
    "var a = buildFromMermaid(\"constant-tree\", \"04-binary-tree-a02.trees.dib\");\n",
    "var b = buildFromMermaid(\"containsPostOrder\", \"04-binary-tree-a02.trees.dib\");\n",
    "print(isConstant(a));\n",
    "print(isConstant(b));"
   ]
  }
 ],
 "metadata": {
  "kernelspec": {
   "display_name": "Java",
   "language": "java",
   "name": "java"
  },
  "language_info": {
   "codemirror_mode": "java",
   "file_extension": ".jshell",
   "mimetype": "text/x-java-source",
   "name": "Java",
   "pygments_lexer": "java",
   "version": "21.0.4+7-LTS"
  }
 },
 "nbformat": 4,
 "nbformat_minor": 2
}
