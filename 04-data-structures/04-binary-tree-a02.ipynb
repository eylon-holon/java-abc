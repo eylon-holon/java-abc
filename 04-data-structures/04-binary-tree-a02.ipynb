{
 "cells": [
  {
   "cell_type": "markdown",
   "metadata": {},
   "source": [
    "=== C O N T A I N S - P O S T - O R D E R ==="
   ]
  },
  {
   "cell_type": "code",
   "execution_count": 34,
   "metadata": {},
   "outputs": [],
   "source": [
    "%load binary-tree\n",
    "\n",
    "boolean containsPostOrder(BinNode node, int num) {\n",
    "    if (node == null) {\n",
    "        return false;\n",
    "    }\n",
    "    boolean left = containsPostOrder(node.getLeft(), num);\n",
    "    boolean right = containsPostOrder(node.getRight(), num);\n",
    "    if(node.getValue()==num){\n",
    "        return true;\n",
    "    }\n",
    "    return left || right;\n",
    "}"
   ]
  },
  {
   "cell_type": "markdown",
   "metadata": {},
   "source": []
  },
  {
   "cell_type": "code",
   "execution_count": 35,
   "metadata": {},
   "outputs": [
    {
     "name": "stdout",
     "output_type": "stream",
     "text": [
      "Reading from 'mermaid-samples.dib' ... 55 lines\n",
      "Looking for 'graphName: my-presentation' ... 18 lines\n",
      "true \n"
     ]
    }
   ],
   "source": [
    "var tree = buildFromMermaid(\"my-presentation\", \"mermaid-samples.dib\");\n",
    "print(containsPostOrder(tree, 19));"
   ]
  },
  {
   "cell_type": "markdown",
   "metadata": {},
   "source": [
    "=== C O N T A I N S - P R E - O R D E R ==="
   ]
  },
  {
   "cell_type": "code",
   "execution_count": 10,
   "metadata": {},
   "outputs": [],
   "source": [
    "%load binary-tree\n",
    "\n",
    "boolean containsPreOrder(BinNode node, int num) {\n",
    "    if (node == null) {\n",
    "        return false;\n",
    "    }\n",
    "    if(node.getValue()==num){\n",
    "        return true;\n",
    "    }\n",
    "    return containsPreOrder(node.getLeft(), num) || containsPreOrder(node.getRight(), num);\n",
    "}"
   ]
  },
  {
   "cell_type": "code",
   "execution_count": 11,
   "metadata": {},
   "outputs": [
    {
     "name": "stdout",
     "output_type": "stream",
     "text": [
      "Reading from 'mermaid-samples.dib' ... 55 lines\n",
      "Looking for 'graphName: my-presentation' ... 18 lines\n",
      "true \n"
     ]
    }
   ],
   "source": [
    "var tree = buildFromMermaid(\"my-presentation\", \"mermaid-samples.dib\");\n",
    "print(containsPreOrder(tree, 19));"
   ]
  },
  {
   "cell_type": "markdown",
   "metadata": {},
   "source": [
    "=== C O U N T - N O D E S ==="
   ]
  },
  {
   "cell_type": "code",
   "execution_count": null,
   "metadata": {},
   "outputs": [],
   "source": [
    "%load binary-tree\n",
    "\n",
    "int countNodes(BinNode node) {\n",
    "    if (node == null) {\n",
    "        return 0;\n",
    "    }\n",
    "    print(node);\n",
    "    \n",
    "    return 1 +\n",
    "        countNodes(node.getLeft()) +\n",
    "        countNodes(node.getRight());\n",
    "}"
   ]
  },
  {
   "cell_type": "code",
   "execution_count": 22,
   "metadata": {},
   "outputs": [
    {
     "name": "stdout",
     "output_type": "stream",
     "text": [
      "Reading from 'mermaid-samples.dib' ... 55 lines\n",
      "Looking for 'graphName: my-presentation' ... 18 lines\n",
      "19 --> [17 15] \n",
      "17 --> [13 12] \n",
      "13 --> [11 null] \n",
      "11 --> X \n",
      "12 --> [23 10] \n",
      "23 --> X \n",
      "10 --> [16 null] \n",
      "16 --> X \n",
      "15 --> [null 14] \n",
      "14 --> [21 12] \n",
      "21 --> [null 22] \n",
      "22 --> X \n",
      "12 --> X \n",
      "13 \n"
     ]
    }
   ],
   "source": [
    "var tree = buildFromMermaid(\"my-presentation\", \"mermaid-samples.dib\");\n",
    "print(countNodes(tree));"
   ]
  },
  {
   "cell_type": "markdown",
   "metadata": {},
   "source": [
    "=== G E T - T R E E - H E I G H T ==="
   ]
  },
  {
   "cell_type": "code",
   "execution_count": 22,
   "metadata": {},
   "outputs": [],
   "source": [
    "%load binary-tree\n",
    "\n",
    "int getHeight(BinNode node) {\n",
    "    if (node == null) {\n",
    "        return 0;\n",
    "    }\n",
    "    return 1+\n",
    "    Math.max(getHeight(node.getLeft()), getHeight(node.getRight()));\n",
    "}"
   ]
  },
  {
   "cell_type": "code",
   "execution_count": 23,
   "metadata": {},
   "outputs": [
    {
     "name": "stdout",
     "output_type": "stream",
     "text": [
      "Reading from 'mermaid-samples.dib' ... 55 lines\n",
      "Looking for 'graphName: my-presentation' ... 18 lines\n",
      "5 \n"
     ]
    }
   ],
   "source": [
    "var tree = buildFromMermaid(\"my-presentation\", \"mermaid-samples.dib\");\n",
    "print(getHeight(tree));"
   ]
  },
  {
   "cell_type": "markdown",
   "metadata": {},
   "source": [
    "=== C O U N T - L E A V E S ==="
   ]
  },
  {
   "cell_type": "code",
   "execution_count": 9,
   "metadata": {},
   "outputs": [],
   "source": [
    "%load binary-tree\n",
    "\n",
    "int countLeaves(BinNode node) {\n",
    "    if (node == null) {\n",
    "            return 0;\n",
    "        }\n",
    "\n",
    "    if (node.getLeft() == null && node.getRight() == null){\n",
    "        return 1;\n",
    "    }\n",
    "    return\n",
    "    countLeaves(node.getLeft()) +\n",
    "    countLeaves(node.getRight());\n",
    "}"
   ]
  },
  {
   "cell_type": "code",
   "execution_count": 10,
   "metadata": {},
   "outputs": [
    {
     "name": "stdout",
     "output_type": "stream",
     "text": [
      "Reading from 'mermaid-samples.dib' ... 55 lines\n",
      "Looking for 'graphName: my-presentation' ... 18 lines\n",
      "5 19 --> [17 15] \n"
     ]
    }
   ],
   "source": [
    "var tree = buildFromMermaid(\"my-presentation\", \"mermaid-samples.dib\");\n",
    "print(countLeaves(tree), tree);"
   ]
  },
  {
   "cell_type": "markdown",
   "metadata": {
    "vscode": {
     "languageId": "java"
    }
   },
   "source": [
    "=== S A M E - T R E E ==="
   ]
  },
  {
   "cell_type": "code",
   "execution_count": 12,
   "metadata": {},
   "outputs": [],
   "source": [
    "%load binary-tree\n",
    "\n",
    "boolean sameAs(BinNode A, BinNode B) {\n",
    "    if (A == null && B == null) {\n",
    "        return true;\n",
    "    }\n",
    "    if (A == null || B == null) {\n",
    "        return false;\n",
    "    }\n",
    "    if(A.getValue() != B.getValue()){\n",
    "        return false;\n",
    "    }\n",
    "    return sameAs(A.getLeft(), B.getLeft()) || sameAs(A.getRight(), B.getRight());\n",
    "}"
   ]
  },
  {
   "cell_type": "code",
   "execution_count": 13,
   "metadata": {},
   "outputs": [
    {
     "name": "stdout",
     "output_type": "stream",
     "text": [
      "Reading from 'mermaid-samples.dib' ... 55 lines\n",
      "Looking for 'graphName: my-presentation' ... 18 lines\n",
      "Reading from 'mermaid-samples.dib' ... 55 lines\n",
      "Looking for 'graphName: my-presentation' ... 18 lines\n",
      "true 19 --> [17 15] \n"
     ]
    }
   ],
   "source": [
    "var left = buildFromMermaid(\"my-presentation\", \"mermaid-samples.dib\");\n",
    "var right = buildFromMermaid(\"my-presentation\", \"mermaid-samples.dib\");\n",
    "print(sameAs(left, right), tree);"
   ]
  },
  {
   "cell_type": "markdown",
   "metadata": {},
   "source": [
    "=== B O N U S  ===\n",
    "\n",
    "=== I S - C O N S T A N T ==="
   ]
  },
  {
   "cell_type": "code",
   "execution_count": 1,
   "metadata": {},
   "outputs": [],
   "source": [
    "%load binary-tree\n",
    "\n",
    "boolean isConstant(BinNode node, int num) {\n",
    "    if (node == null) {\n",
    "        return true;\n",
    "    }\n",
    "    return \n",
    "        node.getValue() == num &&\n",
    "        isConstant(node.getLeft(), num) &&\n",
    "        isConstant(node.getRight(), num);\n",
    "}\n",
    "\n",
    "boolean isConstant(BinNode node) {\n",
    "    if (node == null) {\n",
    "        return true;\n",
    "    }\n",
    "    return isConstant(node, node.getValue());\n",
    "}"
   ]
  },
  {
   "cell_type": "code",
   "execution_count": 2,
   "metadata": {},
   "outputs": [
    {
     "name": "stdout",
     "output_type": "stream",
     "text": [
      "true \n"
     ]
    }
   ],
   "source": [
    "var tree = buildFromMermaid(\"tree\", \"mermaid-samples.dib\");\n",
    "print(isConstant(tree));"
   ]
  }
 ],
 "metadata": {
  "kernelspec": {
   "display_name": "Java",
   "language": "java",
   "name": "java"
  },
  "language_info": {
   "codemirror_mode": "java",
   "file_extension": ".jshell",
   "mimetype": "text/x-java-source",
   "name": "java",
   "pygments_lexer": "java",
   "version": "21.0.4+7-LTS"
  }
 },
 "nbformat": 4,
 "nbformat_minor": 2
}
