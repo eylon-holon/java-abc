{
 "cells": [
  {
   "cell_type": "markdown",
   "metadata": {},
   "source": [
    "=== C O N T A I N S - P O S T - O R D E R ==="
   ]
  },
  {
   "cell_type": "code",
   "execution_count": 18,
   "metadata": {
    "vscode": {
     "languageId": "java"
    }
   },
   "outputs": [],
   "source": [
    "%load binary-tree\n",
    "\n",
    "boolean containsPostOrder(BinNode node, int num) {\n",
    "    if (node == null)\n",
    "    return false;\n",
    "    boolean left = containsPostOrder(node.getLeft(), num);\n",
    "    boolean right = containsPostOrder(node.getRight(), num);\n",
    "    if (node.getValue() == num)\n",
    "        return true;\n",
    "\n",
    "    return left || right ;\n",
    "}"
   ]
  },
  {
   "cell_type": "markdown",
   "metadata": {},
   "source": []
  },
  {
   "cell_type": "code",
   "execution_count": 19,
   "metadata": {
    "vscode": {
     "languageId": "java"
    }
   },
   "outputs": [
    {
     "name": "stdout",
     "output_type": "stream",
     "text": [
      "Reading from 'IN-YOUR-NEW-FILE.dib' ... can't find the file\n",
      "1 lines\n",
      "Looking for 'graphName: MAKE-YOU-TREE' ... not found\n",
      "Please add '%% graphName: MAKE-YOU-TREE' as a last line to your mermaid graph\n",
      "false \n"
     ]
    }
   ],
   "source": [
    "var tree = buildFromMermaid(\"MAKE-YOU-TREE\", \"IN-YOUR-NEW-FILE.dib\");\n",
    "print(containsPostOrder(tree, 0));"
   ]
  },
  {
   "cell_type": "markdown",
   "metadata": {},
   "source": [
    "=== C O N T A I N S - P R E - O R D E R ==="
   ]
  },
  {
   "cell_type": "code",
   "execution_count": null,
   "metadata": {
    "vscode": {
     "languageId": "java"
    }
   },
   "outputs": [],
   "source": [
    "%load binary-tree\n",
    "\n",
    "boolean containsPreOrder(BinNode node, int num) {\n",
    "    if (node == null)\n",
    "        return false;\n",
    "    if (node.getValue() == num)\n",
    "        return true;\n",
    "    return(containsPreOrder(node.getLeft(),num)||containsPreOrder(node.getRight(),num));\n",
    "    \n",
    "}"
   ]
  },
  {
   "cell_type": "markdown",
   "metadata": {},
   "source": [
    "=== C O U N T - N O D E S ==="
   ]
  },
  {
   "cell_type": "code",
   "execution_count": 26,
   "metadata": {
    "vscode": {
     "languageId": "java"
    }
   },
   "outputs": [],
   "source": [
    "%load binary-tree\n",
    "\n",
    "int countNodes(BinNode node) {\n",
    "    if(node==null)\n",
    "        return 0;\n",
    "    return( 1 + countNodes(node.getLeft())+countNodes(node.getLeft()));\n",
    "}"
   ]
  },
  {
   "cell_type": "code",
   "execution_count": 27,
   "metadata": {
    "vscode": {
     "languageId": "java"
    }
   },
   "outputs": [
    {
     "name": "stdout",
     "output_type": "stream",
     "text": [
      "Reading from 'IN-YOUR-NEW-FILE.dib' ... can't find the file\n",
      "1 lines\n",
      "Looking for 'graphName: MAKE-YOU-TREE' ... not found\n",
      "Please add '%% graphName: MAKE-YOU-TREE' as a last line to your mermaid graph\n",
      "0 \n"
     ]
    }
   ],
   "source": [
    "var tree = buildFromMermaid(\"MAKE-YOU-TREE\", \"IN-YOUR-NEW-FILE.dib\");\n",
    "print(countNodes(tree));"
   ]
  },
  {
   "cell_type": "markdown",
   "metadata": {},
   "source": [
    "=== G E T - T R E E - H E I G H T ==="
   ]
  },
  {
   "cell_type": "code",
   "execution_count": 3,
   "metadata": {
    "vscode": {
     "languageId": "java"
    }
   },
   "outputs": [],
   "source": [
    "%load binary-tree\n",
    "\n",
    "int getHeight(BinNode node) {\n",
    "    if (node==null)\n",
    "        return 0;\n",
    "    return 1 +\n",
    "        Math.max(getHeight(node.getLeft()),getHeight(node.getRight()));\n",
    "}"
   ]
  },
  {
   "cell_type": "code",
   "execution_count": null,
   "metadata": {
    "vscode": {
     "languageId": "java"
    }
   },
   "outputs": [],
   "source": [
    "var tree = buildFromMermaid(\"MAKE-YOU-TREE\", \"IN-YOUR-NEW-FILE.dib\");\n",
    "print(getHeight(tree));"
   ]
  },
  {
   "cell_type": "markdown",
   "metadata": {},
   "source": [
    "=== C O U N T - L E A V E S ==="
   ]
  },
  {
   "cell_type": "code",
   "execution_count": 7,
   "metadata": {
    "vscode": {
     "languageId": "java"
    }
   },
   "outputs": [],
   "source": [
    "%load binary-tree\n",
    "int countLeaves(BinNode node) {\n",
    "    if (node==null)\n",
    "       return -1;\n",
    "    if (node.getLeft() == null && node.getRight() == null)\n",
    "    return 1;\n",
    "    return countLeaves(node.getLeft())+countLeaves(node.getRight());\n",
    "        \n",
    "    }"
   ]
  },
  {
   "cell_type": "code",
   "execution_count": 8,
   "metadata": {
    "vscode": {
     "languageId": "java"
    }
   },
   "outputs": [
    {
     "name": "stdout",
     "output_type": "stream",
     "text": [
      "Reading from 'mermaid-samples.dib' ... 62 lines\n",
      "Looking for 'graphName: my-presentation' ... 18 lines\n",
      "1 19 --> [17 15] \n"
     ]
    }
   ],
   "source": [
    "var tree = buildFromMermaid(\"my-presentation\", \"mermaid-samples.dib\");\n",
    "print(countLeaves(tree), tree);"
   ]
  },
  {
   "cell_type": "markdown",
   "metadata": {
    "vscode": {
     "languageId": "java"
    }
   },
   "source": [
    "=== S A M E - T R E E ==="
   ]
  },
  {
   "cell_type": "code",
   "execution_count": null,
   "metadata": {
    "vscode": {
     "languageId": "java"
    }
   },
   "outputs": [],
   "source": [
    "boolean sameAs(BinNode left, BinNode right) {\n",
    "    return false;\n",
    "}"
   ]
  },
  {
   "cell_type": "code",
   "execution_count": null,
   "metadata": {
    "vscode": {
     "languageId": "java"
    }
   },
   "outputs": [],
   "source": [
    "var left = buildFromMermaid(\"MAKE-YOU-TREE\", \"IN-YOUR-NEW-FILE.dib\");\n",
    "var right = buildFromMermaid(\"MAKE-YOU-TREE\", \"IN-YOUR-NEW-FILE.dib\");\n",
    "print(sameAs(left, right), tree);"
   ]
  },
  {
   "cell_type": "markdown",
   "metadata": {},
   "source": [
    "=== B O N U S  ===\n",
    "\n",
    "=== I S - C O N S T A N T ==="
   ]
  },
  {
   "cell_type": "code",
   "execution_count": null,
   "metadata": {
    "vscode": {
     "languageId": "java"
    }
   },
   "outputs": [],
   "source": [
    "boolean isConstant(BinNode node) {\n",
    "    return false;\n",
    "}"
   ]
  },
  {
   "cell_type": "code",
   "execution_count": null,
   "metadata": {
    "vscode": {
     "languageId": "java"
    }
   },
   "outputs": [],
   "source": [
    "var tree = buildFromMermaid(\"MAKE-YOU-TREE\", \"IN-YOUR-NEW-FILE.dib\");\n",
    "print(isConstant(tree));"
   ]
  }
 ],
 "metadata": {
  "kernelspec": {
   "display_name": "Java",
   "language": "java",
   "name": "java"
  },
  "language_info": {
   "codemirror_mode": "java",
   "file_extension": ".jshell",
   "mimetype": "text/x-java-source",
   "name": "Java",
   "pygments_lexer": "java",
   "version": "21.0.4+7-LTS"
  }
 },
 "nbformat": 4,
 "nbformat_minor": 2
}
