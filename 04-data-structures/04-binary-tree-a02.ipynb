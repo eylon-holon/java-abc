{
 "cells": [
  {
   "cell_type": "markdown",
   "metadata": {},
   "source": [
    "=== C O N T A I N S - P O S T - O R D E R ==="
   ]
  },
  {
   "cell_type": "code",
   "execution_count": 25,
   "metadata": {},
   "outputs": [],
   "source": [
    "%load binary-tree\n",
    "\n",
    "boolean containsPostOrder(BinNode node, int num) {\n",
    "    if (node==null){\n",
    "        return false;}\n",
    "\n",
    "    boolean left=containsPostOrder(node.getLeft(), num);\n",
    "    boolean right=containsPostOrder(node.getRight(), num);\n",
    "\n",
    "    if (node.getValue()==num){\n",
    "        return true;\n",
    "    }\n",
    "\n",
    "    return left||right;\n",
    "\n",
    "}"
   ]
  },
  {
   "cell_type": "markdown",
   "metadata": {},
   "source": []
  },
  {
   "cell_type": "code",
   "execution_count": 28,
   "metadata": {},
   "outputs": [
    {
     "name": "stdout",
     "output_type": "stream",
     "text": [
      "Reading from '04-mermaid-trees.dib' ... 34 lines\n",
      "Looking for 'graphName: MY-TREE' ... 18 lines\n",
      "true \n"
     ]
    }
   ],
   "source": [
    "var tree = buildFromMermaid(\"MY-TREE\", \"04-mermaid-trees.dib\");\n",
    "print(containsPostOrder(tree, 19));"
   ]
  },
  {
   "cell_type": "markdown",
   "metadata": {},
   "source": [
    "=== C O N T A I N S - P R E - O R D E R ==="
   ]
  },
  {
   "cell_type": "code",
   "execution_count": 8,
   "metadata": {},
   "outputs": [],
   "source": [
    "%load binary-tree\n",
    "\n",
    "boolean containsPreOrder(BinNode node, int num) {\n",
    "    if (node==null){\n",
    "    return false;}\n",
    "\n",
    "    if (node.getValue()==num){\n",
    "        return true;}\n",
    "\n",
    "        return containsPostOrder(node.getLeft(), num) || containsPostOrder(node.getRight(), num);\n",
    "    }\n"
   ]
  },
  {
   "cell_type": "code",
   "execution_count": 9,
   "metadata": {},
   "outputs": [
    {
     "name": "stdout",
     "output_type": "stream",
     "text": [
      "Reading from '04-mermaid-trees.dib' ... 33 lines\n",
      "Looking for 'graphName: MY-TREE' ... 18 lines\n",
      "true \n"
     ]
    }
   ],
   "source": [
    "var tree = buildFromMermaid(\"MY-TREE\", \"04-mermaid-trees.dib\");\n",
    "print(containsPreOrder(tree, 19));"
   ]
  },
  {
   "cell_type": "markdown",
   "metadata": {},
   "source": [
    "=== C O U N T - N O D E S ==="
   ]
  },
  {
   "cell_type": "code",
   "execution_count": 5,
   "metadata": {},
   "outputs": [],
   "source": [
    "%load binary-tree\n",
    "\n",
    "int countNodes(BinNode node) {\n",
    "if (node==null){\n",
    "    return 0;}\n",
    "\n",
    "    return 1+ countNodes(node.getLeft()) + countNodes(node.getRight());\n",
    "\n",
    "}"
   ]
  },
  {
   "cell_type": "code",
   "execution_count": 6,
   "metadata": {},
   "outputs": [
    {
     "name": "stdout",
     "output_type": "stream",
     "text": [
      "Reading from '04-mermaid-trees.dib' ... 33 lines\n",
      "Looking for 'graphName: MY-TREE' ... 18 lines\n",
      "13 \n"
     ]
    }
   ],
   "source": [
    "var tree = buildFromMermaid(\"MY-TREE\", \"04-mermaid-trees.dib\");\n",
    "print(countNodes(tree));"
   ]
  },
  {
   "cell_type": "markdown",
   "metadata": {},
   "source": [
    "=== G E T - T R E E - H E I G H T ==="
   ]
  },
  {
   "cell_type": "code",
   "execution_count": 10,
   "metadata": {},
   "outputs": [],
   "source": [
    "%load binary-tree\n",
    "\n",
    "int getHeight(BinNode node) {\n",
    "    if (node==null){\n",
    "    return 0;}\n",
    "\n",
    "    return 1+Math.max(getHeight(node.getLeft()), getHeight(node.getRight()));\n",
    "}"
   ]
  },
  {
   "cell_type": "code",
   "execution_count": null,
   "metadata": {},
   "outputs": [
    {
     "name": "stdout",
     "output_type": "stream",
     "text": [
      "Reading from '04-mermaid-trees.dib' ... 33 lines\n",
      "Looking for 'graphName: MY-TREE' ... 18 lines\n",
      "5 \n"
     ]
    }
   ],
   "source": [
    "var tree = buildFromMermaid(\"MY-TREE\", \"04-mermaid-trees.dib\");\n",
    "print(getHeight(tree));"
   ]
  },
  {
   "cell_type": "markdown",
   "metadata": {},
   "source": [
    "=== C O U N T - L E A V E S ==="
   ]
  },
  {
   "cell_type": "code",
   "execution_count": 12,
   "metadata": {},
   "outputs": [],
   "source": [
    "%load binary-tree\n",
    "\n",
    "int countLeaves(BinNode node) {\n",
    "    if (node==null){\n",
    "        return 0;}\n",
    "\n",
    "    if (node.getLeft()==null && node.getRight()==null)\n",
    "    return 1;\n",
    "\n",
    "    return countLeaves(node.getLeft()) + countLeaves(node.getRight());\n",
    "}"
   ]
  },
  {
   "cell_type": "code",
   "execution_count": 14,
   "metadata": {},
   "outputs": [
    {
     "name": "stdout",
     "output_type": "stream",
     "text": [
      "Reading from '04-mermaid-trees.dib' ... 33 lines\n",
      "Looking for 'graphName: MY-TREE' ... 18 lines\n",
      "5 19 --> [17 15] \n"
     ]
    }
   ],
   "source": [
    "var tree = buildFromMermaid(\"MY-TREE\", \"04-mermaid-trees.dib\");\n",
    "print(countLeaves(tree), tree);"
   ]
  },
  {
   "cell_type": "markdown",
   "metadata": {
    "vscode": {
     "languageId": "java"
    }
   },
   "source": [
    "=== S A M E - T R E E ==="
   ]
  },
  {
   "cell_type": "code",
   "execution_count": 19,
   "metadata": {},
   "outputs": [],
   "source": [
    "boolean sameAs(BinNode a, BinNode b) {\n",
    "    if (a==null && b==null){\n",
    "        return true; }\n",
    "    \n",
    "    if (a==null || b==null){\n",
    "        return false;\n",
    "    }\n",
    "\n",
    "    if (a.getValue()!=b.getValue()){\n",
    "    return false;}\n",
    "\n",
    "    return sameAs(a.getLeft(), b.getLeft()) || sameAs(a.getRight(), b.getRight());\n",
    "}"
   ]
  },
  {
   "cell_type": "code",
   "execution_count": null,
   "metadata": {},
   "outputs": [
    {
     "name": "stdout",
     "output_type": "stream",
     "text": [
      "Reading from '04-mermaid-trees.dib' ... 34 lines\n",
      "Looking for 'graphName: MY-TREE' ... 18 lines\n",
      "Reading from '04-mermaid-trees.dib' ... 34 lines\n",
      "Looking for 'graphName: MY-TREE' ... 18 lines\n",
      "true 19 --> [17 15] \n"
     ]
    }
   ],
   "source": [
    "var left = buildFromMermaid(\"MY-TREE\", \"04-mermaid-trees.dib\");\n",
    "var right = buildFromMermaid(\"ANOTHER-TREE\", \"04-mermaid-trees.dib\");\n",
    "print(sameAs(left, right), tree);"
   ]
  },
  {
   "cell_type": "markdown",
   "metadata": {},
   "source": [
    "=== B O N U S  ===\n",
    "\n",
    "=== I S - C O N S T A N T ==="
   ]
  },
  {
   "cell_type": "code",
   "execution_count": 3,
   "metadata": {},
   "outputs": [],
   "source": [
    "%load binary-tree\n",
    "\n",
    "boolean isConstant(BinNode node) {\n",
    "    return isConstant2(node,node.getValue());\n",
    "}\n",
    "\n",
    "\n",
    "boolean isConstant2(BinNode node, int num) {\n",
    "    if (node==null){\n",
    "        return false;\n",
    "    }\n",
    "\n",
    "    if(node.getValue()!=num){\n",
    "        return false;\n",
    "    }\n",
    "\n",
    "    if (isCostant2(node.getLeft(),num) && isCostant2(node.getRight(),num)){\n",
    "        return true;\n",
    "    }\n",
    "    return false;\n",
    "\n",
    "}"
   ]
  },
  {
   "cell_type": "code",
   "execution_count": null,
   "metadata": {},
   "outputs": [
    {
     "name": "stdout",
     "output_type": "stream",
     "text": [
      "Reading from '04-mermaid-trees.dib' ... 34 lines\n",
      "Looking for 'graphName: MY-TREE' ... 18 lines\n"
     ]
    },
    {
     "ename": "CompilationException",
     "evalue": "",
     "output_type": "error",
     "traceback": [
      "\u001b[1m\u001b[30m|   \u001b[1m\u001b[30mprint(\u001b[0m\u001b[1m\u001b[30m\u001b[41misConstant2\u001b[0m\u001b[1m\u001b[30m(tree));\u001b[0m",
      "\u001b[1m\u001b[31mmethod isConstant2 in class  cannot be applied to given types;\u001b[0m",
      "\u001b[1m\u001b[31m  required: BinNode,int\u001b[0m",
      "\u001b[1m\u001b[31m  found:    BinNode\u001b[0m",
      "\u001b[1m\u001b[31m  reason: actual and formal argument lists differ in length\u001b[0m",
      ""
     ]
    }
   ],
   "source": [
    "var tree = buildFromMermaid(\"MY-TREE\", \"04-mermaid-trees.dib\");\n",
    "print(isConstant(tree));"
   ]
  }
 ],
 "metadata": {
  "kernelspec": {
   "display_name": "Java",
   "language": "java",
   "name": "java"
  },
  "language_info": {
   "codemirror_mode": "java",
   "file_extension": ".jshell",
   "mimetype": "text/x-java-source",
   "name": "java",
   "pygments_lexer": "java",
   "version": "21.0.4+7-LTS"
  }
 },
 "nbformat": 4,
 "nbformat_minor": 2
}
