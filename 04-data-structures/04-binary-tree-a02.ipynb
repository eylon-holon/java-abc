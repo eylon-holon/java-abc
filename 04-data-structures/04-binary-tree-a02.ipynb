{
 "cells": [
  {
   "cell_type": "markdown",
   "metadata": {},
   "source": [
    "=== C O N T A I N S - P O S T - O R D E R ==="
   ]
  },
  {
   "cell_type": "code",
   "execution_count": 48,
   "metadata": {},
   "outputs": [],
   "source": [
    "%load binary-tree\n",
    "\n",
    "boolean containsPostOrder(BinNode node, int num) {\n",
    "    if (node == null) {\n",
    "        return false;\n",
    "    }\n",
    "    if (containsPostOrder(node.getLeft(), num) == true) {\n",
    "            return true;\n",
    "        }\n",
    "    if (containsPostOrder(node.getRight(), num) == true) {\n",
    "            return true;\n",
    "        }\n",
    "    if (node.getValue() == num) {\n",
    "        return true;\n",
    "    }\n",
    "    return false;\n",
    "}"
   ]
  },
  {
   "cell_type": "markdown",
   "metadata": {},
   "source": []
  },
  {
   "cell_type": "code",
   "execution_count": 49,
   "metadata": {},
   "outputs": [
    {
     "name": "stdout",
     "output_type": "stream",
     "text": [
      "Reading from 'mermaid-samples.dib' ... 55 lines\n",
      "Looking for 'graphName: my-presentation' ... 18 lines\n",
      "true \n"
     ]
    }
   ],
   "source": [
    "var tree = buildFromMermaid(\"my-presentation\", \"mermaid-samples.dib\");\n",
    "print(containsPostOrder(tree, 0));"
   ]
  },
  {
   "cell_type": "markdown",
   "metadata": {},
   "source": [
    "=== C O N T A I N S - P R E - O R D E R ==="
   ]
  },
  {
   "cell_type": "code",
   "execution_count": 50,
   "metadata": {},
   "outputs": [],
   "source": [
    "%load binary-tree\n",
    "\n",
    "boolean containsPreOrder(BinNode node, int num) {\n",
    "    if (node == null) {\n",
    "        return false;\n",
    "    }\n",
    "    if (node.getValue() == num) {\n",
    "        return true;\n",
    "    }\n",
    "    if (containsPostOrder(node.getLeft(), num) == true) {\n",
    "            return true;\n",
    "        }\n",
    "    if (containsPostOrder(node.getRight(), num) == true) {\n",
    "            return true;\n",
    "        }\n",
    "    return false;\n",
    "    }"
   ]
  },
  {
   "cell_type": "code",
   "execution_count": 51,
   "metadata": {},
   "outputs": [
    {
     "name": "stdout",
     "output_type": "stream",
     "text": [
      "Reading from 'mermaid-samples.dib' ... 55 lines\n",
      "Looking for 'graphName: my-presentation' ... 18 lines\n",
      "true \n"
     ]
    }
   ],
   "source": [
    "var tree = buildFromMermaid(\"my-presentation\", \"mermaid-samples.dib\");\n",
    "print(containsPostOrder(tree, 0));"
   ]
  },
  {
   "cell_type": "markdown",
   "metadata": {},
   "source": [
    "=== C O U N T - N O D E S ==="
   ]
  },
  {
   "cell_type": "code",
   "execution_count": 52,
   "metadata": {},
   "outputs": [],
   "source": [
    "%load binary-tree\n",
    "\n",
    "int countNodes(BinNode node) {\n",
    "    if (node == null) {\n",
    "        return 0;\n",
    "    }\n",
    "\n",
    "    return 1 +\n",
    "        countNodes(node.getLeft()) +\n",
    "        countNodes(node.getRight());\n",
    "}"
   ]
  },
  {
   "cell_type": "code",
   "execution_count": 53,
   "metadata": {},
   "outputs": [
    {
     "name": "stdout",
     "output_type": "stream",
     "text": [
      "Reading from 'mermaid-samples.dib' ... 55 lines\n",
      "Looking for 'graphName: my-presentation' ... 18 lines\n",
      "13 \n"
     ]
    }
   ],
   "source": [
    "var tree = buildFromMermaid(\"my-presentation\", \"mermaid-samples.dib\");\n",
    "print(countNodes(tree));"
   ]
  },
  {
   "cell_type": "markdown",
   "metadata": {},
   "source": [
    "=== G E T - T R E E - H E I G H T ==="
   ]
  },
  {
   "cell_type": "code",
   "execution_count": 17,
   "metadata": {},
   "outputs": [],
   "source": [
    "%load binary-tree\n",
    "\n",
    "int getHeight(BinNode node) {\n",
    "    if (node == null) {\n",
    "        return 0;\n",
    "    }\n",
    "    return Math.max(getHeight(node.getLeft()),getHeight(node.getRight())) + 1;\n",
    "}"
   ]
  },
  {
   "cell_type": "code",
   "execution_count": 18,
   "metadata": {},
   "outputs": [
    {
     "name": "stdout",
     "output_type": "stream",
     "text": [
      "Reading from 'mermaid-samples.dib' ... 55 lines\n",
      "Looking for 'graphName: my-presentation' ... 18 lines\n",
      "5 \n"
     ]
    }
   ],
   "source": [
    "var tree = buildFromMermaid(\"my-presentation\", \"mermaid-samples.dib\");\n",
    "print(getHeight(tree));"
   ]
  },
  {
   "cell_type": "markdown",
   "metadata": {},
   "source": [
    "=== C O U N T - L E A V E S ==="
   ]
  },
  {
   "cell_type": "code",
   "execution_count": 19,
   "metadata": {},
   "outputs": [],
   "source": [
    "%load binary-tree\n",
    "\n",
    "int countLeaves(BinNode node) {\n",
    "if (node == null)\n",
    "    return 0;\n",
    "if ((node.getLeft() == null) && (node.getRight() == null))\n",
    "    return 1;\n",
    "return countLeaves(node.getLeft()) + countLeaves(node.getRight());\n",
    "}"
   ]
  },
  {
   "cell_type": "code",
   "execution_count": 20,
   "metadata": {},
   "outputs": [
    {
     "name": "stdout",
     "output_type": "stream",
     "text": [
      "Reading from 'mermaid-samples.dib' ... 55 lines\n",
      "Looking for 'graphName: my-presentation' ... 18 lines\n",
      "5 \n"
     ]
    }
   ],
   "source": [
    "var tree = buildFromMermaid(\"my-presentation\", \"mermaid-samples.dib\");\n",
    "print(countLeaves(tree));"
   ]
  },
  {
   "cell_type": "markdown",
   "metadata": {
    "vscode": {
     "languageId": "java"
    }
   },
   "source": [
    "=== S A M E - T R E E ==="
   ]
  },
  {
   "cell_type": "code",
   "execution_count": 70,
   "metadata": {},
   "outputs": [],
   "source": [
    "%load binary-tree\n",
    "boolean sameAs(BinNode left, BinNode right) {\n",
    "    if ((left == null) && (right == null)) {\n",
    "        return true;\n",
    "    }\n",
    "    if ((left == null) || (right == null)) {\n",
    "        return false;\n",
    "    }\n",
    "    if (left.getValue() != right.getValue()) {\n",
    "        return false;\n",
    "    }\n",
    "    if (sameAs(left.getLeft(), right.getLeft()) == true) {\n",
    "        return(sameAs(left.getRight(), right.getRight()));\n",
    "    }\n",
    "    return false;\n",
    "}"
   ]
  },
  {
   "cell_type": "code",
   "execution_count": 71,
   "metadata": {},
   "outputs": [
    {
     "name": "stdout",
     "output_type": "stream",
     "text": [
      "Reading from 'mermaid-samples.dib' ... 55 lines\n",
      "Looking for 'graphName: my-presentation' ... 18 lines\n",
      "Reading from 'mermaid-samples.dib' ... 55 lines\n",
      "Looking for 'graphName: test' ... 10 lines\n",
      "WARN: node A has 3 children\n",
      "WARN: node B has 3 children\n",
      "false \n"
     ]
    }
   ],
   "source": [
    "var left = buildFromMermaid(\"my-presentation\", \"mermaid-samples.dib\");\n",
    "var right = buildFromMermaid(\"test\", \"mermaid-samples.dib\");\n",
    "print(sameAs(left, right));"
   ]
  },
  {
   "cell_type": "markdown",
   "metadata": {},
   "source": [
    "=== B O N U S  ===\n",
    "\n",
    "=== I S - C O N S T A N T ==="
   ]
  },
  {
   "cell_type": "code",
   "execution_count": 1,
   "metadata": {},
   "outputs": [],
   "source": [
    "%load binary-tree\n",
    "\n",
    "boolean isConstant(BinNode node) {\n",
    "    int x = node.getValue();\n",
    "    return w(node, x);\n",
    "}\n",
    "boolean w(BinNode node, int num) {\n",
    "    if (node == null) {\n",
    "        return true;\n",
    "    }\n",
    "    if (node.getValue() == num) {\n",
    "        return w(node.getLeft(), num) && w(node.getRight(), num);\n",
    "    }\n",
    "    if (!w(node.getLeft(), num) || !w(node.getRight(), num)) {\n",
    "        return false;\n",
    "    }\n",
    "    return false;\n",
    "}"
   ]
  },
  {
   "cell_type": "code",
   "execution_count": 3,
   "metadata": {},
   "outputs": [
    {
     "name": "stdout",
     "output_type": "stream",
     "text": [
      "Reading from 'mermaid-samples.dib' ... 61 lines\n",
      "Looking for 'graphName: dadada' ... 4 lines\n",
      "true \n"
     ]
    }
   ],
   "source": [
    "var tree = buildFromMermaid(\"dadada\", \"mermaid-samples.dib\");\n",
    "print(isConstant(tree));"
   ]
  }
 ],
 "metadata": {
  "kernelspec": {
   "display_name": "Java",
   "language": "java",
   "name": "java"
  },
  "language_info": {
   "codemirror_mode": "java",
   "file_extension": ".jshell",
   "mimetype": "text/x-java-source",
   "name": "java",
   "pygments_lexer": "java",
   "version": "21.0.4+7-LTS"
  }
 },
 "nbformat": 4,
 "nbformat_minor": 2
}
