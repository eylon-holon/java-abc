{
 "cells": [
  {
   "cell_type": "markdown",
   "metadata": {},
   "source": [
    "=== C O N T A I N S - P O S T - O R D E R ==="
   ]
  },
  {
   "cell_type": "code",
   "execution_count": null,
   "metadata": {},
   "outputs": [],
   "source": [
    "%load binary-tree\n",
    "\n",
    "boolean containsPostOrder(BinNode node, int num) {\n",
    "    if (node == null)\n",
    "        return false;\n",
    "    if (node.getValue() == num) \n",
    "        return true;\n",
    "\n",
    "    return containsPostOrder(node.getLeft(), num) || containsPostOrder(node.getRight(), num);\n",
    "}"
   ]
  },
  {
   "cell_type": "markdown",
   "metadata": {},
   "source": []
  },
  {
   "cell_type": "code",
   "execution_count": null,
   "metadata": {},
   "outputs": [
    {
     "name": "stdout",
     "output_type": "stream",
     "text": [
      "Reading from 'IN-YOUR-NEW-FILE.dib' ... can't find the file\n",
      "1 lines\n",
      "Looking for 'graphName: MAKE-YOU-TREE' ... not found\n",
      "Please add '%% graphName: MAKE-YOU-TREE' as a last line to your mermaid graph\n",
      "false \n"
     ]
    }
   ],
   "source": [
    "var tree = buildFromMermaid(\"MAKE-YOU-TREE\", \"IN-YOUR-NEW-FILE.dib\");\n",
    "print(containsPostOrder(tree, 0));"
   ]
  },
  {
   "cell_type": "markdown",
   "metadata": {},
   "source": [
    "=== C O N T A I N S - P R E - O R D E R ==="
   ]
  },
  {
   "cell_type": "code",
   "execution_count": null,
   "metadata": {},
   "outputs": [],
   "source": [
    "%load binary-tree\n",
    "\n",
    "boolean containsPreOrder(BinNode node, int num) {\n",
    "    if (node == null)\n",
    "        return false;\n",
    "    if (node.getValue() == num) \n",
    "        return true;\n",
    "    \n",
    "    return containsPreOrder(node.getLeft(), num) || containsPreOrder(node.getRight(), num);\n",
    "    \n",
    "}"
   ]
  },
  {
   "cell_type": "markdown",
   "metadata": {},
   "source": [
    "=== C O U N T - N O D E S ==="
   ]
  },
  {
   "cell_type": "code",
   "execution_count": null,
   "metadata": {},
   "outputs": [],
   "source": [
    "%load binary-tree\n",
    "\n",
    "int countNodes(BinNode node) {\n",
    "    if (node == null) {\n",
    "        return 0;\n",
    "    }\n",
    "\n",
    "    print(node);\n",
    "\n",
    "    return 1 +\n",
    "        countNodes(node.getLeft()) +\n",
    "        countNodes(node.getRight());\n",
    "}"
   ]
  },
  {
   "cell_type": "code",
   "execution_count": null,
   "metadata": {},
   "outputs": [
    {
     "name": "stdout",
     "output_type": "stream",
     "text": [
      "Reading from 'IN-YOUR-NEW-FILE.dib' ... can't find the file\n",
      "1 lines\n",
      "Looking for 'graphName: MAKE-YOU-TREE' ... not found\n",
      "Please add '%% graphName: MAKE-YOU-TREE' as a last line to your mermaid graph\n",
      "0 \n"
     ]
    }
   ],
   "source": [
    "var tree = buildFromMermaid(\"MAKE-YOU-TREE\", \"IN-YOUR-NEW-FILE.dib\");\n",
    "print(countNodes(tree));"
   ]
  },
  {
   "cell_type": "markdown",
   "metadata": {},
   "source": [
    "=== G E T - T R E E - H E I G H T ==="
   ]
  },
  {
   "cell_type": "code",
   "execution_count": 2,
   "metadata": {},
   "outputs": [],
   "source": [
    "%load binary-tree\n",
    "\n",
    "int getHeight(BinNode node) {\n",
    "    if (node == null) {\n",
    "        return 0;\n",
    "    }\n",
    "    int left = getHeight(node.getLeft());\n",
    "    int right = getHeight(node.getRight());\n",
    "    if(left > right) {\n",
    "        return 1 + \n",
    "        left;\n",
    "    }\n",
    "    else  {\n",
    "        return 1 + \n",
    "        right;\n",
    "    }\n",
    "}"
   ]
  },
  {
   "cell_type": "code",
   "execution_count": 7,
   "metadata": {},
   "outputs": [
    {
     "name": "stdout",
     "output_type": "stream",
     "text": [
      "Reading from 'IN-YOUR-NEW-FILE.dib' ... can't find the file\n",
      "1 lines\n",
      "Looking for 'graphName: MAKE-YOU-TREE' ... not found\n",
      "Please add '%% graphName: MAKE-YOU-TREE' as a last line to your mermaid graph\n",
      "0 \n"
     ]
    }
   ],
   "source": [
    "var tree = buildFromMermaid(\"MAKE-YOU-TREE\", \"IN-YOUR-NEW-FILE.dib\");\n",
    "print(getHeight(tree));"
   ]
  },
  {
   "cell_type": "markdown",
   "metadata": {},
   "source": [
    "=== C O U N T - L E A V E S ==="
   ]
  },
  {
   "cell_type": "code",
   "execution_count": 3,
   "metadata": {},
   "outputs": [],
   "source": [
    "%load binary-tree\n",
    "\n",
    "int countLeaves(BinNode node) {\n",
    "    if (node == null) {\n",
    "        return 0;\n",
    "    }\n",
    "    int left = countLeaves(node.getLeft());\n",
    "    int right = countLeaves(node.getRight());\n",
    "    if(left > right) {\n",
    "        return 1 + \n",
    "        left;\n",
    "    }\n",
    "    else  {\n",
    "        return 1 + \n",
    "        right;\n",
    "    }\n",
    "\n",
    "}"
   ]
  },
  {
   "cell_type": "code",
   "execution_count": 7,
   "metadata": {},
   "outputs": [
    {
     "name": "stdout",
     "output_type": "stream",
     "text": [
      "Reading from 'IN-YOUR-NEW-FILE.dib' ... can't find the file\n",
      "1 lines\n",
      "Looking for 'graphName: MAKE-YOU-TREE' ... not found\n",
      "Please add '%% graphName: MAKE-YOU-TREE' as a last line to your mermaid graph\n",
      "0 null \n"
     ]
    }
   ],
   "source": [
    "var tree = buildFromMermaid(\"MAKE-YOU-TREE\", \"IN-YOUR-NEW-FILE.dib\");\n",
    "print(countLeaves(tree), tree);"
   ]
  },
  {
   "cell_type": "markdown",
   "metadata": {
    "vscode": {
     "languageId": "java"
    }
   },
   "source": [
    "=== S A M E - T R E E ==="
   ]
  },
  {
   "cell_type": "code",
   "execution_count": 4,
   "metadata": {},
   "outputs": [
    {
     "ename": "CompilationException",
     "evalue": "",
     "output_type": "error",
     "traceback": [
      "\u001b[1m\u001b[30m|   \u001b[1m\u001b[30m    if (\u001b[0m\u001b[1m\u001b[30m\u001b[41mnode\u001b[0m\u001b[1m\u001b[30m == null) {\u001b[0m",
      "\u001b[1m\u001b[31mcannot find symbol\u001b[0m",
      "\u001b[1m\u001b[31m  symbol:   variable node\u001b[0m",
      "",
      "\u001b[1m\u001b[30m|   \u001b[1m\u001b[30m        return \u001b[0m\u001b[1m\u001b[30m\u001b[41m0\u001b[0m\u001b[1m\u001b[30m;\u001b[0m",
      "\u001b[1m\u001b[31mincompatible types: int cannot be converted to boolean\u001b[0m",
      "",
      "\u001b[1m\u001b[30m|   \u001b[1m\u001b[30m    \u001b[0m\u001b[1m\u001b[30m\u001b[41mint left = sameAs(node.getLeft());\u001b[0m\u001b[1m\u001b[30m\u001b[0m",
      "\u001b[1m\u001b[31mvariable left is already defined in method sameAs(BinNode,BinNode)\u001b[0m",
      "",
      "\u001b[1m\u001b[30m|   \u001b[1m\u001b[30m    int left = sameAs(\u001b[0m\u001b[1m\u001b[30m\u001b[41mnode\u001b[0m\u001b[1m\u001b[30m.getLeft());\u001b[0m",
      "\u001b[1m\u001b[31mcannot find symbol\u001b[0m",
      "\u001b[1m\u001b[31m  symbol:   variable node\u001b[0m",
      "",
      "\u001b[1m\u001b[30m|   \u001b[1m\u001b[30m    \u001b[0m\u001b[1m\u001b[30m\u001b[41mint right = sameAs(node.getRight());\u001b[0m\u001b[1m\u001b[30m\u001b[0m",
      "\u001b[1m\u001b[31mvariable right is already defined in method sameAs(BinNode,BinNode)\u001b[0m",
      "",
      "\u001b[1m\u001b[30m|   \u001b[1m\u001b[30m    int right = sameAs(\u001b[0m\u001b[1m\u001b[30m\u001b[41mnode\u001b[0m\u001b[1m\u001b[30m.getRight());\u001b[0m",
      "\u001b[1m\u001b[31mcannot find symbol\u001b[0m",
      "\u001b[1m\u001b[31m  symbol:   variable node\u001b[0m",
      "",
      "\u001b[1m\u001b[30m|   \u001b[1m\u001b[30m    if(\u001b[0m\u001b[1m\u001b[30m\u001b[41mleft = right\u001b[0m\u001b[1m\u001b[30m) {\u001b[0m",
      "\u001b[1m\u001b[31mincompatible types: int cannot be converted to boolean\u001b[0m",
      ""
     ]
    }
   ],
   "source": [
    "boolean sameAs(BinNode left, BinNode right) {\n",
    "    if (node == null) {\n",
    "        return 0;\n",
    "    }\n",
    "    int left = sameAs(node.getLeft());\n",
    "    int right = sameAs(node.getRight());\n",
    "    if(left = right) {\n",
    "        return true;\n",
    "    }\n",
    "    else  {\n",
    "        return false;\n",
    "    }\n",
    "}"
   ]
  },
  {
   "cell_type": "code",
   "execution_count": null,
   "metadata": {},
   "outputs": [],
   "source": [
    "var left = buildFromMermaid(\"MAKE-YOU-TREE\", \"IN-YOUR-NEW-FILE.dib\");\n",
    "var right = buildFromMermaid(\"MAKE-YOU-TREE\", \"IN-YOUR-NEW-FILE.dib\");\n",
    "print(sameAs(left, right), tree);"
   ]
  },
  {
   "cell_type": "markdown",
   "metadata": {},
   "source": [
    "=== B O N U S  ===\n",
    "\n",
    "=== I S - C O N S T A N T ==="
   ]
  },
  {
   "cell_type": "code",
   "execution_count": null,
   "metadata": {},
   "outputs": [],
   "source": [
    "boolean isConstant(BinNode node) {\n",
    "    return false;\n",
    "}"
   ]
  },
  {
   "cell_type": "code",
   "execution_count": null,
   "metadata": {},
   "outputs": [],
   "source": [
    "var tree = buildFromMermaid(\"MAKE-YOU-TREE\", \"IN-YOUR-NEW-FILE.dib\");\n",
    "print(isConstant(tree));"
   ]
  }
 ],
 "metadata": {
  "kernelspec": {
   "display_name": "Java",
   "language": "java",
   "name": "java"
  },
  "language_info": {
   "codemirror_mode": "java",
   "file_extension": ".jshell",
   "mimetype": "text/x-java-source",
   "name": "java",
   "pygments_lexer": "java",
   "version": "21.0.4+7-LTS"
  }
 },
 "nbformat": 4,
 "nbformat_minor": 2
}
