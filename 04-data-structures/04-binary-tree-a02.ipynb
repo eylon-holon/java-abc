{
 "cells": [
  {
   "cell_type": "markdown",
   "metadata": {},
   "source": [
    "=== C O N T A I N S - P O S T - O R D E R ==="
   ]
  },
  {
   "cell_type": "code",
   "execution_count": null,
   "metadata": {},
   "outputs": [],
   "source": [
    "%load binary-tree\n",
    "\n",
    "boolean containsPostOrder(BinNode node, int num) {\n",
    "    if (node==null)\n",
    "    {\n",
    "        return false;\n",
    "    }\n",
    "    boolean left = containsPreOrder(node.getLeft(), num);\n",
    "    boolean right =containsPreOrder(node.getRight(), num);\n",
    "    if(node.getValue() == num)\n",
    "    {\n",
    "        return true;\n",
    "    }\n",
    "    return left || right;\n",
    "}\n",
    "\n",
    "   "
   ]
  },
  {
   "cell_type": "markdown",
   "metadata": {},
   "source": []
  },
  {
   "cell_type": "code",
<<<<<<< HEAD
   "execution_count": 20,
   "metadata": {
    "vscode": {
     "languageId": "java"
    }
   },
   "outputs": [
    {
     "name": "stdout",
     "output_type": "stream",
     "text": [
      "Reading from 'mermaid-samples.dib' ... 62 lines\n",
      "Looking for 'graphName: my-presentation' ... 18 lines\n"
     ]
    },
    {
     "ename": "UnresolvedReferenceException",
     "evalue": "Attempt to use definition snippet with unresolved references in MethodSnippet:containsPreOrder/(BinNode,int)boolean-\n\nboolean containsPreOrder(BinNode node, int num) {\n        if (node==null)\n        {\n            return false;\n        }\n        if(node.getValue()==num)\n        {\n            return true;\n        }\n        containsPreOrder(node.getLeft());\n        containsPreOrder(node.getRight());\n\n        return containsPreOrder(node.getLeft()) || containsPreOrder(node.getRight());\n    }\n",
     "output_type": "error",
     "traceback": []
    }
   ],
=======
   "execution_count": null,
   "metadata": {},
   "outputs": [],
>>>>>>> a1a788c8cc74d66ef2767a56e0469e2d0176ef0a
   "source": [
    "var tree = buildFromMermaid(\"my-presentation\", \"mermaid-samples.dib\");\n",
    "print(containsPostOrder(tree, 0));"
   ]
  },
  {
   "cell_type": "markdown",
   "metadata": {},
   "source": [
    "=== C O N T A I N S - P R E - O R D E R ==="
   ]
  },
  {
   "cell_type": "code",
   "execution_count": null,
   "metadata": {},
   "outputs": [],
   "source": [
    "%load binary-tree\n",
    "\n",
    "boolean containsPreOrder(BinNode node, int num) {\n",
    "        if (node==null)\n",
    "        {\n",
    "            return false;\n",
    "        }\n",
    "        if(node.getValue()==num)\n",
    "        {\n",
    "            return true;\n",
    "        }\n",
    "\n",
    "        return containsPreOrder(node.getLeft()) || containsPreOrder(node.getRight());\n",
    "    }\n"
   ]
  },
  {
   "cell_type": "markdown",
   "metadata": {},
   "source": [
    "=== C O U N T - N O D E S ==="
   ]
  },
  {
   "cell_type": "code",
<<<<<<< HEAD
   "execution_count": 22,
   "metadata": {
    "vscode": {
     "languageId": "java"
    }
   },
=======
   "execution_count": null,
   "metadata": {},
>>>>>>> a1a788c8cc74d66ef2767a56e0469e2d0176ef0a
   "outputs": [],
   "source": [
    "%load binary-tree\n",
    "\n",
    "int countNodes(BinNode node) {\n",
    "    if (node == null)\n",
    "     {\n",
    "    return 0;\n",
    "        }\n",
    "\n",
    "    return 1 +\n",
    "    countNodes(node.getLeft()) +\n",
    "    countNodes(node.getRight());\n",
    "}"
   ]
  },
  {
   "cell_type": "code",
<<<<<<< HEAD
   "execution_count": 23,
   "metadata": {
    "vscode": {
     "languageId": "java"
    }
   },
   "outputs": [
    {
     "name": "stdout",
     "output_type": "stream",
     "text": [
      "Reading from 'mermaid-samples.dib' ... 62 lines\n",
      "Looking for 'graphName: my-presentation' ... 18 lines\n",
      "13 \n"
     ]
    }
   ],
=======
   "execution_count": null,
   "metadata": {},
   "outputs": [],
>>>>>>> a1a788c8cc74d66ef2767a56e0469e2d0176ef0a
   "source": [
    "var tree = buildFromMermaid(\"my-presentation\", \"mermaid-samples.dib\");\n",
    "print(countNodes(tree));"
   ]
  },
  {
   "cell_type": "markdown",
   "metadata": {},
   "source": [
    "=== G E T - T R E E - H E I G H T ==="
   ]
  },
  {
   "cell_type": "code",
   "execution_count": null,
   "metadata": {},
   "outputs": [],
   "source": [
    "%load binary-tree\n",
    "int getHeight(BinNode node) {\n",
    "    \n",
    "}"
   ]
  },
  {
   "cell_type": "code",
   "execution_count": null,
   "metadata": {},
   "outputs": [],
   "source": [
    "var tree = buildFromMermaid(\"my-presentation\", \"mermaid-samples.dib\");\n",
    "print(getHeight(tree));"
   ]
  },
  {
   "cell_type": "markdown",
   "metadata": {},
   "source": [
    "=== C O U N T - L E A V E S ==="
   ]
  },
  {
   "cell_type": "code",
<<<<<<< HEAD
   "execution_count": 27,
   "metadata": {
    "vscode": {
     "languageId": "java"
    }
   },
=======
   "execution_count": null,
   "metadata": {},
>>>>>>> a1a788c8cc74d66ef2767a56e0469e2d0176ef0a
   "outputs": [],
   "source": [
    "%load binary-tree\n",
    "\n",
    "int countLeaves(BinNode node) {\n",
    "    if (node == null)\n",
    "    {\n",
    "        return 0;\n",
    "       }\n",
    "       if(node.getLeft() == null && node.getRight() == null)\n",
    "       {\n",
    "        return 1;\n",
    "       }\n",
    "    return countLeaves(node.getLeft()) + countLeaves(node.getRight());\n",
    "}\n"
   ]
  },
  {
   "cell_type": "code",
<<<<<<< HEAD
   "execution_count": 28,
   "metadata": {
    "vscode": {
     "languageId": "java"
    }
   },
   "outputs": [
    {
     "name": "stdout",
     "output_type": "stream",
     "text": [
      "Reading from 'mermaid-samples.dib' ... 62 lines\n",
      "Looking for 'graphName: my-presentation' ... 18 lines\n",
      "5 19 --> [17 15] \n"
     ]
    }
   ],
=======
   "execution_count": null,
   "metadata": {},
   "outputs": [],
>>>>>>> a1a788c8cc74d66ef2767a56e0469e2d0176ef0a
   "source": [
    "var tree = buildFromMermaid(\"my-presentation\", \"mermaid-samples.dib\");\n",
    "print(countLeaves(tree), tree);"
   ]
  },
  {
   "cell_type": "markdown",
   "metadata": {
    "vscode": {
     "languageId": "java"
    }
   },
   "source": [
    "=== S A M E - T R E E ==="
   ]
  },
  {
   "cell_type": "code",
   "execution_count": null,
   "metadata": {},
   "outputs": [],
   "source": [
    "boolean sameAs(BinNode left, BinNode right) {\n",
    "if a ==null && rigth== null;\n",
    "return true\n",
    "if a== null || right== null;\n",
    "return false;\n",
    " if a.getValue != b.getValue;\n",
    " return false;\n",
    "\n",
    "\n",
    "    return false;\n",
    "}"
   ]
  },
  {
   "cell_type": "code",
   "execution_count": null,
   "metadata": {},
   "outputs": [],
   "source": [
    "var left = buildFromMermaid(\"MAKE-YOU-TREE\", \"IN-YOUR-NEW-FILE.dib\");\n",
    "var right = buildFromMermaid(\"MAKE-YOU-TREE\", \"IN-YOUR-NEW-FILE.dib\");\n",
    "print(sameAs(left, right), tree);"
   ]
  },
  {
   "cell_type": "markdown",
   "metadata": {},
   "source": [
    "=== B O N U S  ===\n",
    "\n",
    "=== I S - C O N S T A N T ==="
   ]
  },
  {
   "cell_type": "code",
   "execution_count": null,
   "metadata": {},
   "outputs": [],
   "source": [
    "boolean isConstant(BinNode node) {\n",
    "    return false;\n",
    "}"
   ]
  },
  {
   "cell_type": "code",
   "execution_count": null,
   "metadata": {},
   "outputs": [],
   "source": [
    "var tree = buildFromMermaid(\"MAKE-YOU-TREE\", \"IN-YOUR-NEW-FILE.dib\");\n",
    "print(isConstant(tree));"
   ]
  }
 ],
 "metadata": {
  "kernelspec": {
   "display_name": "Java",
   "language": "java",
   "name": "java"
  },
  "language_info": {
   "codemirror_mode": "java",
   "file_extension": ".jshell",
   "mimetype": "text/x-java-source",
   "name": "java",
   "pygments_lexer": "java",
   "version": "21.0.4+7-LTS"
  }
 },
 "nbformat": 4,
 "nbformat_minor": 2
}
