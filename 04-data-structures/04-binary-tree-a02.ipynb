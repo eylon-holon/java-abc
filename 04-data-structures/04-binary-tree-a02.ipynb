{
 "cells": [
  {
   "cell_type": "markdown",
   "metadata": {},
   "source": [
    "=== C O N T A I N S - P O S T - O R D E R ==="
   ]
  },
  {
   "cell_type": "code",
   "execution_count": 28,
   "metadata": {
    "vscode": {
     "languageId": "java"
    }
   },
   "outputs": [],
   "source": [
    "%load binary-tree\n",
    "\n",
    "boolean containsPostOrder(BinNode node, int num) {\n",
    "    if (node == null) {\n",
    "        return false;\n",
    "    }\n",
    "if (containsPostOrder(node.getLeft(),num))\n",
    "return true;\n",
    "if (containsPostOrder(node.getRight(),num))\n",
    "return true;\n",
    "if (node.getValue()==num)\n",
    "return true;\n",
    "    return false;\n",
    "\n",
    "\n",
    " \n",
    "}"
   ]
  },
  {
   "cell_type": "markdown",
   "metadata": {},
   "source": []
  },
  {
   "cell_type": "code",
   "execution_count": 30,
   "metadata": {
    "vscode": {
     "languageId": "java"
    }
   },
   "outputs": [
    {
     "name": "stdout",
     "output_type": "stream",
     "text": [
      "Reading from 'mermaid-samples.dib' ... 62 lines\n",
      "Looking for 'graphName: my-presentation' ... 18 lines\n",
      "true \n"
     ]
    }
   ],
   "source": [
    "var tree = buildFromMermaid(\"my-presentation\", \"mermaid-samples.dib\");\n",
    "print(containsPostOrder(tree, 12));"
   ]
  },
  {
   "cell_type": "markdown",
   "metadata": {},
   "source": [
    "=== C O N T A I N S - P R E - O R D E R ==="
   ]
  },
  {
   "cell_type": "code",
   "execution_count": 11,
   "metadata": {
    "vscode": {
     "languageId": "java"
    }
   },
   "outputs": [],
   "source": [
    "%load binary-tree\n",
    "\n",
    "boolean containsPreOrder(BinNode node, int num) {\n",
    "    if (node == null) {\n",
    "        return false;\n",
    "    }\n",
    "\n",
    "   if (node.getValue()==num)\n",
    "return true;\n",
    "    var left=containsPreOrder(node.getLeft(),num);\n",
    "    var right=containsPreOrder(node.getRight(),num);\n",
    "      return (left|| right); \n",
    "}"
   ]
  },
  {
   "cell_type": "markdown",
   "metadata": {},
   "source": [
    "=== C O U N T - N O D E S ==="
   ]
  },
  {
   "cell_type": "code",
   "execution_count": 23,
   "metadata": {
    "vscode": {
     "languageId": "java"
    }
   },
   "outputs": [],
   "source": [
    "%load binary-tree\n",
    "\n",
    "int countNodes(BinNode node) {\n",
    "    if (node == null) {\n",
    "        return 0;\n",
    "    }\n",
    "\n",
    "   \n",
    " int count=countNodes(node.getLeft())+\n",
    "    countNodes(node.getRight());\n",
    "    return count+1;\n",
    "   \n",
    "}"
   ]
  },
  {
   "cell_type": "code",
   "execution_count": 24,
   "metadata": {
    "vscode": {
     "languageId": "java"
    }
   },
   "outputs": [
    {
     "name": "stdout",
     "output_type": "stream",
     "text": [
      "Reading from 'mermaid-samples.dib' ... 62 lines\n",
      "Looking for 'graphName: my-presentation' ... 18 lines\n",
      "13 \n"
     ]
    }
   ],
   "source": [
    "var tree = buildFromMermaid(\"my-presentation\", \"mermaid-samples.dib\");\n",
    "print(countNodes(tree));"
   ]
  },
  {
   "cell_type": "markdown",
   "metadata": {},
   "source": [
    "=== G E T - T R E E - H E I G H T ==="
   ]
  },
  {
   "cell_type": "code",
   "execution_count": 10,
   "metadata": {
    "vscode": {
     "languageId": "java"
    }
   },
   "outputs": [],
   "source": [
    "%load binary-tree\n",
    "\n",
    "int getHeight(BinNode node) {\n",
    "    if (node==null)\n",
    "    return 0;\n",
    "    \n",
    "    return Math.max(getHeight(node.getLeft()),getHeight(node.getRight()))+1;\n",
    "}"
   ]
  },
  {
   "cell_type": "code",
   "execution_count": 11,
   "metadata": {
    "vscode": {
     "languageId": "java"
    }
   },
   "outputs": [
    {
     "name": "stdout",
     "output_type": "stream",
     "text": [
      "Reading from 'mermaid-samples.dib' ... 62 lines\n",
      "Looking for 'graphName: my-presentation' ... 18 lines\n",
      "5 \n"
     ]
    }
   ],
   "source": [
    "var tree = buildFromMermaid(\"my-presentation\", \"mermaid-samples.dib\");\n",
    "print(getHeight(tree));"
   ]
  },
  {
   "cell_type": "markdown",
   "metadata": {},
   "source": [
    "=== C O U N T - L E A V E S ==="
   ]
  },
  {
   "cell_type": "code",
   "execution_count": 9,
   "metadata": {
    "vscode": {
     "languageId": "java"
    }
   },
   "outputs": [],
   "source": [
    "%load binary-tree\n",
    "\n",
    "int countLeaves(BinNode node) {\n",
    "    if (node==null)\n",
    "return 0;\n",
    "  if (node.getLeft()==null && node.getRight()==null)\n",
    "  return 1;\n",
    "\n",
    "  return (countLeaves(node.getLeft())+countLeaves(node.getRight()));\n",
    "}"
   ]
  },
  {
   "cell_type": "code",
   "execution_count": 31,
   "metadata": {
    "vscode": {
     "languageId": "java"
    }
   },
   "outputs": [
    {
     "name": "stdout",
     "output_type": "stream",
     "text": [
      "Reading from 'mermaid-samples.dib' ... 62 lines\n",
      "Looking for 'graphName: my-presentation' ... 18 lines\n",
      "5 \n"
     ]
    }
   ],
   "source": [
    "var tree = buildFromMermaid(\"my-presentation\", \"mermaid-samples.dib\");\n",
    "print(countLeaves(tree));"
   ]
  },
  {
   "cell_type": "markdown",
   "metadata": {
    "vscode": {
     "languageId": "java"
    }
   },
   "source": [
    "=== S A M E - T R E E ==="
   ]
  },
  {
   "cell_type": "code",
   "execution_count": 12,
   "metadata": {
    "vscode": {
     "languageId": "java"
    }
   },
   "outputs": [],
   "source": [
    "boolean sameAs(BinNode left, BinNode right) {\n",
    "if (left ==null || right == null)\n",
    "return false;\n",
    "if (left ==null && right == null)\n",
    "return true;\n",
    "if (left.getValue()!= right.getValue())\n",
    "return false;\n",
    "if (sameAs(left.getLeft(), right.getLeft())==true && sameAs(left.getRight(), right.getRight())==true)\n",
    "return true;\n",
    "else \n",
    "return false;\n",
    "\n",
    "}"
   ]
  },
  {
   "cell_type": "code",
   "execution_count": 14,
   "metadata": {
    "vscode": {
     "languageId": "java"
    }
   },
   "outputs": [
    {
     "name": "stdout",
     "output_type": "stream",
     "text": [
      "Reading from 'mermaid-trees' ... can't find the file\n",
      "1 lines\n",
      "Looking for 'graphName: presentation' ... not found\n",
      "Please add '%% graphName: presentation' as a last line to your mermaid graph\n",
      "Reading from 'mermaid-samples' ... can't find the file\n",
      "1 lines\n",
      "Looking for 'graphName: my-presentation' ... not found\n",
      "Please add '%% graphName: my-presentation' as a last line to your mermaid graph\n",
      "false \n"
     ]
    }
   ],
   "source": [
    "var left = buildFromMermaid(\"presentation\", \"mermaid-trees\");\n",
    "var right =buildFromMermaid(\"my-presentation\", \"mermaid-samples\");\n",
    "print(sameAs(left, right) );"
   ]
  },
  {
   "cell_type": "markdown",
   "metadata": {},
   "source": [
    "=== B O N U S  ===\n",
    "\n",
    "=== I S - C O N S T A N T ==="
   ]
  },
  {
   "cell_type": "code",
   "execution_count": 16,
   "metadata": {
    "vscode": {
     "languageId": "java"
    }
   },
   "outputs": [],
   "source": [
    "boolean isConstant(BinNode node) {\n",
    "    if (node==null){\n",
    "        return true;\n",
    "    }\n",
    "    BinNode left=node.getLeft();\n",
    "    BinNode right=node.getRight();\n",
    "    if (node.getValue()!= left.getValue()||node.getValue()!= right.getValue())\n",
    "    return false;\n",
    "    else \n",
    "    return (isConstant(node.getLeft())|| isConstant(node.getRight()));\n",
    "}"
   ]
  },
  {
   "cell_type": "code",
   "execution_count": 17,
   "metadata": {
    "vscode": {
     "languageId": "java"
    }
   },
   "outputs": [
    {
     "name": "stdout",
     "output_type": "stream",
     "text": [
      "Reading from 'mermaid-samples' ... can't find the file\n",
      "1 lines\n",
      "Looking for 'graphName: my-presentation' ... not found\n",
      "Please add '%% graphName: my-presentation' as a last line to your mermaid graph\n",
      "true \n"
     ]
    }
   ],
   "source": [
    "var tree = buildFromMermaid(\"my-presentation\", \"mermaid-samples\");\n",
    "print(isConstant(tree));"
   ]
  }
 ],
 "metadata": {
  "kernelspec": {
   "display_name": "Java",
   "language": "java",
   "name": "java"
  },
  "language_info": {
   "codemirror_mode": "java",
   "file_extension": ".jshell",
   "mimetype": "text/x-java-source",
   "name": "Java",
   "pygments_lexer": "java",
   "version": "21.0.4+7-LTS"
  }
 },
 "nbformat": 4,
 "nbformat_minor": 2
}
