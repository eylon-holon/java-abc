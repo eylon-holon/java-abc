{
 "cells": [
  {
   "cell_type": "markdown",
   "metadata": {},
   "source": [
    "=== C O N T A I N S - P O S T - O R D E R ==="
   ]
  },
  {
   "cell_type": "code",
<<<<<<< HEAD
   "execution_count": 28,
   "metadata": {
    "vscode": {
     "languageId": "java"
    }
   },
=======
   "execution_count": null,
   "metadata": {},
>>>>>>> ab5ce249214ea280d9489ca7b248618046722533
   "outputs": [],
   "source": [
    "%load binary-tree\n",
    "\n",
    "boolean containsPostOrder(BinNode node, int num) {\n",
    "    if(node==null)\n",
    "        return false;\n",
    "    if(containsPostOrder(node.getLeft(), num))\n",
    "        return true;\n",
    "    if(containsPostOrder(node.getRight(), num))\n",
    "        return true;\n",
    "    if(node.getValue()==num)\n",
    "        return true;\n",
    "    return false;\n",
    "}"
   ]
  },
  {
   "cell_type": "markdown",
   "metadata": {},
   "source": []
  },
  {
   "cell_type": "code",
<<<<<<< HEAD
   "execution_count": 27,
   "metadata": {
    "vscode": {
     "languageId": "java"
    }
   },
   "outputs": [
    {
     "name": "stdout",
     "output_type": "stream",
     "text": [
      "Reading from 'mermaid-samples.dib' ... 61 lines\n",
      "Looking for 'graphName: my-presentation' ... 18 lines\n",
      "true \n"
     ]
    }
   ],
=======
   "execution_count": null,
   "metadata": {},
   "outputs": [],
>>>>>>> ab5ce249214ea280d9489ca7b248618046722533
   "source": [
    "var tree = buildFromMermaid(\"my-presentation\", \"mermaid-samples.dib\");\n",
    "print(containsPostOrder(tree, 17));"
   ]
  },
  {
   "cell_type": "markdown",
   "metadata": {},
   "source": [
    "=== C O N T A I N S - P R E - O R D E R ==="
   ]
  },
  {
   "cell_type": "code",
<<<<<<< HEAD
   "execution_count": 9,
   "metadata": {
    "vscode": {
     "languageId": "java"
    }
   },
=======
   "execution_count": null,
   "metadata": {},
>>>>>>> ab5ce249214ea280d9489ca7b248618046722533
   "outputs": [],
   "source": [
    "%load binary-tree\n",
    "\n",
    "boolean containsPreOrder(BinNode node, int num) {\n",
    "    if(node==null)\n",
    "        return false;\n",
    "    if(node.getValue()==num)\n",
    "        return true;\n",
    "    if(containsPostOrder(node.getRight(), num))\n",
    "        return true;\n",
    "    if(containsPostOrder(node.getLeft(), num))\n",
    "        return true;\n",
    "    return false;\n",
    "}"
   ]
  },
  {
   "cell_type": "markdown",
   "metadata": {},
   "source": [
    "=== C O U N T - N O D E S ==="
   ]
  },
  {
   "cell_type": "code",
<<<<<<< HEAD
   "execution_count": 24,
   "metadata": {
    "vscode": {
     "languageId": "java"
    }
   },
=======
   "execution_count": null,
   "metadata": {},
>>>>>>> ab5ce249214ea280d9489ca7b248618046722533
   "outputs": [],
   "source": [
    "%load binary-tree\n",
    "\n",
    "int countNodes(BinNode node) {\n",
    "    if(node==null)\n",
    "        return 0;\n",
    "    return countNodes(node.getLeft()) + countNodes(node.getRight()) + 1;\n",
    "}"
   ]
  },
  {
   "cell_type": "code",
<<<<<<< HEAD
   "execution_count": 25,
   "metadata": {
    "vscode": {
     "languageId": "java"
    }
   },
   "outputs": [
    {
     "name": "stdout",
     "output_type": "stream",
     "text": [
      "Reading from 'mermaid-samples.dib' ... 61 lines\n",
      "Looking for 'graphName: my-presentation' ... 18 lines\n",
      "13 \n"
     ]
    }
   ],
=======
   "execution_count": null,
   "metadata": {},
   "outputs": [],
>>>>>>> ab5ce249214ea280d9489ca7b248618046722533
   "source": [
    "var tree = buildFromMermaid(\"my-presentation\", \"mermaid-samples.dib\");\n",
    "print(countNodes(tree));"
   ]
  },
  {
   "cell_type": "markdown",
   "metadata": {},
   "source": [
    "=== G E T - T R E E - H E I G H T ==="
   ]
  },
  {
   "cell_type": "code",
<<<<<<< HEAD
   "execution_count": 37,
   "metadata": {
    "vscode": {
     "languageId": "java"
    }
   },
=======
   "execution_count": null,
   "metadata": {},
>>>>>>> ab5ce249214ea280d9489ca7b248618046722533
   "outputs": [],
   "source": [
    "%load binary-tree\n",
    "\n",
    "int getHeight(BinNode node) {\n",
    "    if(node==null)\n",
    "        return 0;\n",
    "    return Math.max(getHeight(node.getLeft()),\n",
    "        getHeight(node.getRight())) +1;\n",
    "}"
   ]
  },
  {
   "cell_type": "code",
<<<<<<< HEAD
   "execution_count": 38,
   "metadata": {
    "vscode": {
     "languageId": "java"
    }
   },
   "outputs": [
    {
     "name": "stdout",
     "output_type": "stream",
     "text": [
      "Reading from 'mermaid-samples.dib' ... 61 lines\n",
      "Looking for 'graphName: my-presentation' ... 18 lines\n",
      "5 \n"
     ]
    }
   ],
=======
   "execution_count": null,
   "metadata": {},
   "outputs": [],
>>>>>>> ab5ce249214ea280d9489ca7b248618046722533
   "source": [
    "var tree = buildFromMermaid(\"my-presentation\", \"mermaid-samples.dib\");\n",
    "print(getHeight(tree));"
   ]
  },
  {
   "cell_type": "markdown",
   "metadata": {},
   "source": [
    "=== C O U N T - L E A V E S ==="
   ]
  },
  {
   "cell_type": "code",
<<<<<<< HEAD
   "execution_count": 18,
   "metadata": {
    "vscode": {
     "languageId": "java"
    }
   },
=======
   "execution_count": null,
   "metadata": {},
>>>>>>> ab5ce249214ea280d9489ca7b248618046722533
   "outputs": [],
   "source": [
    "%load binary-tree\n",
    "\n",
    "int countLeaves(BinNode node) {\n",
    "    if(node==null)\n",
    "        return 0;\n",
    "    if(node.getLeft()==null && node.getRight()==null)\n",
    "        return 1;\n",
    "    return countLeaves(node.getLeft()) + countLeaves(node.getRight());\n",
    "}"
   ]
  },
  {
   "cell_type": "code",
   "execution_count": null,
<<<<<<< HEAD
   "metadata": {
    "vscode": {
     "languageId": "java"
    }
   },
   "outputs": [
    {
     "name": "stdout",
     "output_type": "stream",
     "text": [
      "Reading from 'mermaid-samples.dib' ... 61 lines\n",
      "Looking for 'graphName: my-presentation' ... 18 lines\n",
      "5 \n"
     ]
    }
   ],
=======
   "metadata": {},
   "outputs": [],
>>>>>>> ab5ce249214ea280d9489ca7b248618046722533
   "source": [
    "var tree = buildFromMermaid(\"my-presentation\", \"mermaid-samples.dib\");\n",
    "print(countLeaves(tree));"
   ]
  },
  {
   "cell_type": "markdown",
   "metadata": {
    "vscode": {
     "languageId": "java"
    }
   },
   "source": [
    "=== S A M E - T R E E ==="
   ]
  },
  {
   "cell_type": "code",
<<<<<<< HEAD
   "execution_count": 28,
   "metadata": {
    "vscode": {
     "languageId": "java"
    }
   },
=======
   "execution_count": null,
   "metadata": {},
>>>>>>> ab5ce249214ea280d9489ca7b248618046722533
   "outputs": [],
   "source": [
    "%load binary-tree\n",
    "\n",
    "boolean sameAs(BinNode left, BinNode right) {\n",
    "    if(left==null && right==null)\n",
    "        return true;\n",
    "    if(left==null || right==null)\n",
    "        return false;\n",
    "    if(left.getValue()==right.getValue())\n",
    "        return sameAs(left.getLeft(), right.getLeft()) &&\n",
    "            sameAs(left.getRight(), right.getRight());\n",
    "    if(left.getValue()!=right.getValue())\n",
    "        return false;\n",
    "    if(sameAs(left.getLeft(), right.getLeft()) && sameAs(left.getRight(), right.getRight()))\n",
    "        return true;\n",
    "    return false;\n",
    "}"
   ]
  },
  {
   "cell_type": "code",
<<<<<<< HEAD
   "execution_count": 35,
   "metadata": {
    "vscode": {
     "languageId": "java"
    }
   },
   "outputs": [
    {
     "name": "stdout",
     "output_type": "stream",
     "text": [
      "Reading from 'mermaid-samples.dib' ... 89 lines\n",
      "Looking for 'graphName: my-presentation' ... 18 lines\n",
      "Reading from 'mermaid-samples.dib' ... 89 lines\n",
      "Looking for 'graphName: my-presentation2' ... 18 lines\n",
      "true \n"
     ]
    }
   ],
=======
   "execution_count": null,
   "metadata": {},
   "outputs": [],
>>>>>>> ab5ce249214ea280d9489ca7b248618046722533
   "source": [
    "var left = buildFromMermaid(\"my-presentation\", \"mermaid-samples.dib\");\n",
    "var right = buildFromMermaid(\"my-presentation2\", \"mermaid-samples.dib\");\n",
    "print(sameAs(left, right));"
   ]
  },
  {
   "cell_type": "markdown",
   "metadata": {},
   "source": [
    "=== B O N U S  ===\n",
    "\n",
    "=== I S - C O N S T A N T ==="
   ]
  },
  {
   "cell_type": "code",
<<<<<<< HEAD
   "execution_count": 56,
   "metadata": {
    "vscode": {
     "languageId": "java"
    }
   },
=======
   "execution_count": null,
   "metadata": {},
>>>>>>> ab5ce249214ea280d9489ca7b248618046722533
   "outputs": [],
   "source": [
    "boolean isConstant(BinNode node) {\n",
    "    int x = node.getValue();\n",
    "    return what(node, x);\n",
    "}\n",
    "\n",
    "boolean what(BinNode node, int num){\n",
    "    if(node==null)\n",
    "        return true;\n",
    "    if(node.getValue()==num)\n",
    "        return what(node.getLeft(), num) && what(node.getRight(), num);\n",
    "    if (!what(node.getLeft(), num) || !what(node.getRight(), num))\n",
    "        return false;\n",
    "    return false;\n",
    "}"
   ]
  },
  {
   "cell_type": "code",
<<<<<<< HEAD
   "execution_count": 59,
   "metadata": {
    "vscode": {
     "languageId": "java"
    }
   },
   "outputs": [
    {
     "name": "stdout",
     "output_type": "stream",
     "text": [
      "Reading from 'mermaid-samples.dib' ... 69 lines\n",
      "Looking for 'graphName: seven' ... 6 lines\n",
      "true \n"
     ]
    }
   ],
=======
   "execution_count": null,
   "metadata": {},
   "outputs": [],
>>>>>>> ab5ce249214ea280d9489ca7b248618046722533
   "source": [
    "var tree = buildFromMermaid(\"seven\", \"mermaid-samples.dib\");\n",
    "print(isConstant(tree));"
   ]
  }
 ],
 "metadata": {
  "kernelspec": {
   "display_name": "Java",
   "language": "java",
   "name": "java"
  },
  "language_info": {
   "codemirror_mode": "java",
   "file_extension": ".jshell",
   "mimetype": "text/x-java-source",
   "name": "java",
   "pygments_lexer": "java",
   "version": "21.0.4+7-LTS"
  }
 },
 "nbformat": 4,
 "nbformat_minor": 2
}
