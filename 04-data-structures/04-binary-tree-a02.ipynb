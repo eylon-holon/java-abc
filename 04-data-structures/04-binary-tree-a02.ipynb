{
 "cells": [
  {
   "cell_type": "markdown",
   "metadata": {},
   "source": [
    "=== C O N T A I N S - P O S T - O R D E R ==="
   ]
  },
  {
   "cell_type": "code",
   "execution_count": null,
   "metadata": {},
   "outputs": [],
   "source": [
    "%load binary-tree\n",
    "\n",
    "boolean containsPostOrder(BinNode node, int num) {\n",
    "    if(node == null){\n",
    "        return false;\n",
    "    }\n",
    "    print(node);\n",
    "    if(containsPostOrder(node.getLeft(), num) || containsPostOrder(node.getRight(), num)){\n",
    "        return true;\n",
    "    }\n",
    "    return node.getValue() == num;\n",
    "}"
   ]
  },
  {
   "cell_type": "code",
   "execution_count": null,
   "metadata": {},
   "outputs": [],
   "source": [
    "var tree = buildFromMermaid(\"tree\", \"04-mermaid-trees.dib\");\n",
    "print(containsPostOrder(tree, 3));"
   ]
  },
  {
   "cell_type": "markdown",
   "metadata": {},
   "source": [
    "=== C O N T A I N S - P R E - O R D E R ==="
   ]
  },
  {
   "cell_type": "code",
   "execution_count": null,
   "metadata": {},
   "outputs": [],
   "source": [
    "%load binary-tree\n",
    "\n",
    "boolean containsPreOrder(BinNode node, int num) {\n",
    "    if(node == null){\n",
    "        return false;\n",
    "    }\n",
    "    print(node);\n",
    "    if(node.getValue() == num){\n",
    "        return true;\n",
    "    }\n",
    "    return containsPreOrder(node.getLeft(), num) || containsPreOrder(node.getRight(), num);\n",
    "}"
   ]
  },
  {
   "cell_type": "code",
   "execution_count": null,
   "metadata": {},
   "outputs": [],
   "source": [
    "var tree = buildFromMermaid(\"test\", \"mermaid-samples.dib\");\n",
    "print(containsPreOrder(tree, 7));"
   ]
  },
  {
   "cell_type": "markdown",
   "metadata": {},
   "source": [
    "=== C O U N T - N O D E S ==="
   ]
  },
  {
   "cell_type": "code",
   "execution_count": null,
   "metadata": {},
   "outputs": [],
   "source": [
    "%load binary-tree\n",
    "\n",
    "int countNodes(BinNode node) {\n",
    "    if(node == null){\n",
    "        return 0;\n",
    "    }\n",
    "    //print(node)\n",
    "    return 1 +\n",
    "        countNodes(node.getLeft()) +\n",
    "        countNodes(node.getRight());\n",
    "}"
   ]
  },
  {
   "cell_type": "code",
   "execution_count": null,
   "metadata": {},
   "outputs": [],
   "source": [
    "var tree = buildFromMermaid(\"test\", \"mermaid-samples.dib\");\n",
    "print(countNodes(tree));"
   ]
  },
  {
   "cell_type": "markdown",
   "metadata": {},
   "source": [
    "=== G E T - T R E E - H E I G H T ==="
   ]
  },
  {
   "cell_type": "code",
   "execution_count": null,
   "metadata": {},
   "outputs": [],
   "source": [
    "%load binary-tree\n",
    "\n",
    "int getHeight(BinNode node) {\n",
    "    if(node == null){\n",
    "        return 0;\n",
    "    }\n",
    "    //print(node)\n",
    "    int leftHeight = getHeight(node.getLeft());\n",
    "    int rightHeight = getHeight(node.getRight());\n",
    "    return Math.max(leftHeight, rightHeight) + 1;\n",
    "}"
   ]
  },
  {
   "cell_type": "code",
   "execution_count": null,
   "metadata": {},
   "outputs": [],
   "source": [
    "var tree = buildFromMermaid(\"my-presentation\", \"mermaid-samples.dib\");\n",
    "print(\"the height of the tree is \" + getHeight(tree));"
   ]
  },
  {
   "cell_type": "markdown",
   "metadata": {},
   "source": [
    "=== C O U N T - L E A V E S ==="
   ]
  },
  {
   "cell_type": "code",
   "execution_count": null,
   "metadata": {},
   "outputs": [],
   "source": [
    "%load binary-tree\n",
    "\n",
    "int countLeaves(BinNode node) {\n",
    "    int counter = 0;\n",
    "    if(node == null){\n",
    "        return 0;\n",
    "    }\n",
    "    //print(node);\n",
    "    if(node.getLeft() == null && node.getRight() == null){\n",
    "        return 1;\n",
    "    }\n",
    "    return countLeaves(node.getLeft()) + countLeaves(node.getRight());\n",
    "}"
   ]
  },
  {
   "cell_type": "code",
   "execution_count": null,
   "metadata": {},
   "outputs": [],
   "source": [
    "var tree = buildFromMermaid(\"my-presentation\", \"mermaid-samples.dib\");\n",
    "print(\"the num of leaves is \" + countLeaves(tree));"
   ]
  },
  {
   "cell_type": "markdown",
   "metadata": {
    "vscode": {
     "languageId": "java"
    }
   },
   "source": [
    "=== S A M E - T R E E ==="
   ]
  },
  {
   "cell_type": "code",
   "execution_count": null,
   "metadata": {},
   "outputs": [],
   "source": [
    "boolean sameAs(BinNode left, BinNode right) {\n",
    "    if(left == null && right == null){\n",
    "        return true;\n",
    "    }\n",
    "    if (left == null || right == null){\n",
    "        return false;\n",
    "    }\n",
    "    return (left.getValue() == right.getValue()) && sameAs(left.getLeft(), right.getLeft()) && sameAs(left.getRight(), right.getRight());\n",
    "}"
   ]
  },
  {
   "cell_type": "code",
   "execution_count": null,
   "metadata": {},
   "outputs": [],
   "source": [
    "var left = buildFromMermaid(\"sameTree\", \"mermaid-samples.dib\");\n",
    "var right = buildFromMermaid(\"sameTree\", \"mermaid-samples.dib\");\n",
    "print(sameAs(left, right), tree);\n",
    "var left = buildFromMermaid(\"sameTree\", \"mermaid-samples.dib\");\n",
    "var right = buildFromMermaid(\"test\", \"mermaid-samples.dib\");\n",
    "print(sameAs(left, right), tree);"
   ]
  },
  {
   "cell_type": "markdown",
   "metadata": {},
   "source": [
    "=== B O N U S  ===\n",
    "\n",
    "=== I S - C O N S T A N T ==="
   ]
  },
  {
   "cell_type": "code",
   "execution_count": null,
   "metadata": {},
   "outputs": [],
   "source": [
    "boolean isConstant(BinNode node) {\n",
    "    if(node == null){\n",
    "        return false;\n",
    "    }\n",
    "    if(node.getLeft() == null && node.getRight() == null){\n",
    "        return true;\n",
    "    }\n",
    "    if(node.getLeft() != null && node.getRight() != null){\n",
    "        return node.getValue() == node.getLeft().getValue() && node.getValue() == node.getRight().getValue() && isConstant(node.getLeft()) && isConstant(node.getRight());\n",
    "    }\n",
    "    return false;\n",
    "}"
   ]
  },
  {
   "cell_type": "code",
   "execution_count": null,
   "metadata": {},
   "outputs": [],
   "source": [
    "var tree = buildFromMermaid(\"sameTree\", \"mermaid-samples.dib\");\n",
    "print(\"this tree is \" + isConstant(tree));\n",
    "var tree = buildFromMermaid(\"test\", \"mermaid-samples.dib\");\n",
    "print(\"this tree is \" + isConstant(tree));"
   ]
  }
 ],
 "metadata": {
  "kernelspec": {
   "display_name": "Java",
   "language": "java",
   "name": "java"
  },
  "language_info": {
   "codemirror_mode": "java",
   "file_extension": ".jshell",
   "mimetype": "text/x-java-source",
   "name": "java",
   "pygments_lexer": "java",
   "version": "21.0.4+7-LTS"
  }
 },
 "nbformat": 4,
 "nbformat_minor": 2
}
