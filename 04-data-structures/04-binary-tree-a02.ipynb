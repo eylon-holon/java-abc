{
 "cells": [
  {
   "cell_type": "markdown",
   "metadata": {},
   "source": [
    "=== C O N T A I N S - P O S T - O R D E R ==="
   ]
  },
  {
   "cell_type": "code",
   "execution_count": 1,
   "metadata": {},
   "outputs": [],
   "source": [
    "%load binary-tree\n",
    "\n",
    "boolean containsPostOrder(BinNode node, int num) {\n",
    "    if(node == null){\n",
    "        return false;\n",
    "    }\n",
    "    print(node);\n",
    "    if(containsPostOrder(node.getLeft(), num) || containsPostOrder(node.getRight(), num)){\n",
    "        return true;\n",
    "    }\n",
    "    return node.getValue() == num;\n",
    "}"
   ]
  },
  {
   "cell_type": "code",
   "execution_count": 15,
   "metadata": {},
   "outputs": [
    {
     "name": "stdout",
     "output_type": "stream",
     "text": [
      "1 --> [2 null] \n",
      "2 --> [3 5] \n",
      "3 --> X \n",
      "true \n"
     ]
    },
    {
     "name": "stdout",
     "output_type": "stream",
     "text": [
      "19 --> [17 15] \n",
      "17 --> [13 12] \n",
      "13 --> [11 null] \n",
      "11 --> X \n",
      "12 --> [23 10] \n",
      "23 --> X \n",
      "10 --> [17 null] \n",
      "17 --> X \n",
      "true \n"
     ]
    }
   ],
   "source": [
    "var tree = buildFromMermaid(\"tree\", \"04-mermaid-trees.dib\");\n",
    "print(containsPostOrder(tree, 3));\n",
    "var tree = buildFromMermaid(\"containsPostOrder\", \"04-binary-tree-a02.trees.dib\");\n",
    "print(containsPostOrder(tree, 17));"
   ]
  },
  {
   "cell_type": "markdown",
   "metadata": {},
   "source": [
    "=== C O N T A I N S - P R E - O R D E R ==="
   ]
  },
  {
   "cell_type": "code",
   "execution_count": 3,
   "metadata": {},
   "outputs": [],
   "source": [
    "%load binary-tree\n",
    "\n",
    "boolean containsPreOrder(BinNode node, int num) {\n",
    "    if(node == null){\n",
    "        return false;\n",
    "    }\n",
    "    print(node);\n",
    "    if(node.getValue() == num){\n",
    "        return true;\n",
    "    }\n",
    "    return containsPreOrder(node.getLeft(), num) || containsPreOrder(node.getRight(), num);\n",
    "}"
   ]
  },
  {
   "cell_type": "code",
   "execution_count": 16,
   "metadata": {},
   "outputs": [
    {
     "name": "stdout",
     "output_type": "stream",
     "text": [
      "1 --> [2 4] \n",
      "2 --> [5 7] \n",
      "5 --> X \n",
      "7 --> X \n",
      "true \n"
     ]
    },
    {
     "name": "stdout",
     "output_type": "stream",
     "text": [
      "19 --> [17 15] \n",
      "17 --> [13 12] \n",
      "true \n"
     ]
    }
   ],
   "source": [
    "var tree = buildFromMermaid(\"test\", \"mermaid-samples.dib\");\n",
    "print(containsPreOrder(tree, 7));\n",
    "var tree = buildFromMermaid(\"containsPostOrder\", \"04-binary-tree-a02.trees.dib\");\n",
    "print(containsPreOrder(tree, 17));"
   ]
  },
  {
   "cell_type": "markdown",
   "metadata": {},
   "source": [
    "=== C O U N T - N O D E S ==="
   ]
  },
  {
   "cell_type": "code",
   "execution_count": 5,
   "metadata": {},
   "outputs": [],
   "source": [
    "%load binary-tree\n",
    "\n",
    "int countNodes(BinNode node) {\n",
    "    if(node == null){\n",
    "        return 0;\n",
    "    }\n",
    "    //print(node)\n",
    "    return 1 +\n",
    "        countNodes(node.getLeft()) +\n",
    "        countNodes(node.getRight());\n",
    "}"
   ]
  },
  {
   "cell_type": "code",
   "execution_count": 17,
   "metadata": {},
   "outputs": [
    {
     "name": "stdout",
     "output_type": "stream",
     "text": [
      "7 \n",
      "13 \n"
     ]
    }
   ],
   "source": [
    "var tree = buildFromMermaid(\"test\", \"mermaid-samples.dib\");\n",
    "print(countNodes(tree));\n",
    "var tree = buildFromMermaid(\"containsPostOrder\", \"04-binary-tree-a02.trees.dib\");\n",
    "print(countNodes(tree));"
   ]
  },
  {
   "cell_type": "markdown",
   "metadata": {},
   "source": [
    "=== G E T - T R E E - H E I G H T ==="
   ]
  },
  {
   "cell_type": "code",
   "execution_count": 7,
   "metadata": {},
   "outputs": [],
   "source": [
    "%load binary-tree\n",
    "\n",
    "int getHeight(BinNode node) {\n",
    "    if(node == null){\n",
    "        return 0;\n",
    "    }\n",
    "    //print(node)\n",
    "    int leftHeight = getHeight(node.getLeft());\n",
    "    int rightHeight = getHeight(node.getRight());\n",
    "    return Math.max(leftHeight, rightHeight) + 1;\n",
    "}"
   ]
  },
  {
   "cell_type": "code",
   "execution_count": 19,
   "metadata": {},
   "outputs": [
    {
     "name": "stdout",
     "output_type": "stream",
     "text": [
      "the height of the tree is 5 \n"
     ]
    },
    {
     "name": "stdout",
     "output_type": "stream",
     "text": [
      "the height of the tree is 5 \n"
     ]
    }
   ],
   "source": [
    "var tree = buildFromMermaid(\"my-presentation\", \"mermaid-samples.dib\");\n",
    "print(\"the height of the tree is \" + getHeight(tree));\n",
    "var tree = buildFromMermaid(\"containsPostOrder\", \"04-binary-tree-a02.trees.dib\");\n",
    "print(\"the height of the tree is \" + getHeight(tree));"
   ]
  },
  {
   "cell_type": "markdown",
   "metadata": {},
   "source": [
    "=== C O U N T - L E A V E S ==="
   ]
  },
  {
   "cell_type": "code",
   "execution_count": 9,
   "metadata": {},
   "outputs": [],
   "source": [
    "%load binary-tree\n",
    "\n",
    "int countLeaves(BinNode node) {\n",
    "    int counter = 0;\n",
    "    if(node == null){\n",
    "        return 0;\n",
    "    }\n",
    "    //print(node);\n",
    "    if(node.getLeft() == null && node.getRight() == null){\n",
    "        return 1;\n",
    "    }\n",
    "    return countLeaves(node.getLeft()) + countLeaves(node.getRight());\n",
    "}"
   ]
  },
  {
   "cell_type": "code",
   "execution_count": 20,
   "metadata": {},
   "outputs": [
    {
     "name": "stdout",
     "output_type": "stream",
     "text": [
      "the num of leaves is 5 \n",
      "the num of leaves is 5 \n"
     ]
    }
   ],
   "source": [
    "var tree = buildFromMermaid(\"my-presentation\", \"mermaid-samples.dib\");\n",
    "print(\"the num of leaves is \" + countLeaves(tree));\n",
    "var tree = buildFromMermaid(\"containsPostOrder\", \"04-binary-tree-a02.trees.dib\");\n",
    "print(\"the num of leaves is \" + countLeaves(tree));"
   ]
  },
  {
   "cell_type": "markdown",
   "metadata": {
    "vscode": {
     "languageId": "java"
    }
   },
   "source": [
    "=== S A M E - T R E E ==="
   ]
  },
  {
   "cell_type": "code",
   "execution_count": 21,
   "metadata": {},
   "outputs": [],
   "source": [
    "boolean sameAs(BinNode left, BinNode right) {\n",
    "    if(left == null && right == null){\n",
    "        return true;\n",
    "    }\n",
    "    if (left == null || right == null){\n",
    "        return false;\n",
    "    }\n",
    "    return (left.getValue() == right.getValue()) && sameAs(left.getLeft(), right.getLeft()) && sameAs(left.getRight(), right.getRight());\n",
    "}"
   ]
  },
  {
   "cell_type": "code",
   "execution_count": 23,
   "metadata": {},
   "outputs": [
    {
     "name": "stdout",
     "output_type": "stream",
     "text": [
      "true 19 --> [17 15] \n",
      "false 19 --> [17 15] \n"
     ]
    }
   ],
   "source": [
    "var left = buildFromMermaid(\"sameTree\", \"mermaid-samples.dib\");\n",
    "var right = buildFromMermaid(\"sameTree\", \"mermaid-samples.dib\");\n",
    "print(sameAs(left, right), tree);\n",
    "var left = buildFromMermaid(\"sameTree\", \"mermaid-samples.dib\");\n",
    "var right = buildFromMermaid(\"test\", \"mermaid-samples.dib\");\n",
    "print(sameAs(left, right), tree);"
   ]
  },
  {
   "cell_type": "markdown",
   "metadata": {},
   "source": [
    "=== B O N U S  ===\n",
    "\n",
    "=== I S - C O N S T A N T ==="
   ]
  },
  {
   "cell_type": "code",
   "execution_count": 28,
   "metadata": {},
   "outputs": [],
   "source": [
    "boolean isConstant(BinNode node) {\n",
    "    if(node == null){\n",
    "        return false;\n",
    "    }\n",
    "    if(node.getLeft() == null && node.getRight() == null){\n",
    "        return true;\n",
    "    }\n",
    "    if(node.getLeft() != null && node.getRight() != null){\n",
    "        return node.getValue() == node.getLeft().getValue() && node.getValue() == node.getRight().getValue() && isConstant(node.getLeft()) && isConstant(node.getRight());\n",
    "    }\n",
    "    return false;\n",
    "}"
   ]
  },
  {
   "cell_type": "code",
   "execution_count": 29,
   "metadata": {},
   "outputs": [
    {
     "name": "stdout",
     "output_type": "stream",
     "text": [
      "this tree is true \n"
     ]
    },
    {
     "name": "stdout",
     "output_type": "stream",
     "text": [
      "this tree is false \n",
      "false \n",
      "false \n"
     ]
    }
   ],
   "source": [
    "var tree = buildFromMermaid(\"sameTree\", \"mermaid-samples.dib\");\n",
    "print(\"this tree is \" + isConstant(tree));\n",
    "var tree = buildFromMermaid(\"test\", \"mermaid-samples.dib\");\n",
    "print(\"this tree is \" + isConstant(tree));\n",
    "var a = buildFromMermaid(\"constant-tree\", \"04-binary-tree-a02.trees.dib\");\n",
    "var b = buildFromMermaid(\"containsPostOrder\", \"04-binary-tree-a02.trees.dib\");\n",
    "print(isConstant(a));\n",
    "print(isConstant(b));"
   ]
  }
 ],
 "metadata": {
  "kernelspec": {
   "display_name": "Java",
   "language": "java",
   "name": "java"
  },
  "language_info": {
   "codemirror_mode": "java",
   "file_extension": ".jshell",
   "mimetype": "text/x-java-source",
   "name": "java",
   "pygments_lexer": "java",
   "version": "21.0.4+7-LTS"
  }
 },
 "nbformat": 4,
 "nbformat_minor": 2
}
