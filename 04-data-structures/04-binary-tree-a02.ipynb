{
 "cells": [
  {
   "cell_type": "markdown",
   "metadata": {},
   "source": [
    "=== C O N T A I N S - P O S T - O R D E R ==="
   ]
  },
  {
   "cell_type": "code",
   "execution_count": 12,
   "metadata": {
    "vscode": {
     "languageId": "java"
    }
   },
   "outputs": [],
   "source": [
    "%load binary-tree\n",
    "\n",
    "boolean containsPostOrder(BinNode node, int num) {\n",
    "    if (node==null)\n",
    "    {\n",
    "        return false;\n",
    "    }\n",
    "    boolean left= (containsPostOrder(node.getLeft(),num));\n",
    "    boolean right= (containsPostOrder(node.getRight(),num));\n",
    "    if (node.getValue()==num)\n",
    "    {\n",
    "        return true;\n",
    "    }\n",
    "    return left||right;\n",
    "\n",
    "\n",
    "\n",
    "\n",
    "    \n",
    "\n",
    "}"
   ]
  },
  {
   "cell_type": "markdown",
   "metadata": {},
   "source": []
  },
  {
   "cell_type": "code",
   "execution_count": 13,
   "metadata": {
    "vscode": {
     "languageId": "java"
    }
   },
   "outputs": [
    {
     "name": "stdout",
     "output_type": "stream",
     "text": [
      "Reading from 'IN-YOUR-NEW-FILE.dib' ... can't find the file\n",
      "1 lines\n",
      "Looking for 'graphName: MAKE-YOU-TREE' ... not found\n",
      "Please add '%% graphName: MAKE-YOU-TREE' as a last line to your mermaid graph\n",
      "false \n"
     ]
    }
   ],
   "source": [
    "var tree = buildFromMermaid(\"MAKE-YOU-TREE\", \"IN-YOUR-NEW-FILE.dib\");\n",
    "print(containsPostOrder(tree, 0));"
   ]
  },
  {
   "cell_type": "markdown",
   "metadata": {},
   "source": [
    "=== C O N T A I N S - P R E - O R D E R ==="
   ]
  },
  {
   "cell_type": "code",
   "execution_count": 14,
   "metadata": {
    "vscode": {
     "languageId": "java"
    }
   },
   "outputs": [],
   "source": [
    "%load binary-tree\n",
    "\n",
    "boolean containsPreOrder(BinNode node, int num) {\n",
    "   if  (node==null){return false;}\n",
    "   if (node.getValue()==num)\n",
    "   {\n",
    "       return true;\n",
    "   }\n",
    "   boolean left=containsPostOrder(node.getLeft(),num);\n",
    "   boolean right=containsPostOrder(node.getRight(),num);\n",
    "   return left||right;\n",
    "\n",
    "}"
   ]
  },
  {
   "cell_type": "markdown",
   "metadata": {},
   "source": [
    "=== C O U N T - N O D E S ==="
   ]
  },
  {
   "cell_type": "code",
   "execution_count": 38,
   "metadata": {
    "vscode": {
     "languageId": "java"
    }
   },
   "outputs": [],
   "source": [
    "%load binary-tree\n",
    "\n",
    "int countNodes(BinNode node){\n",
    "if (node==null)\n",
    "{return 0;}\n",
    "\n",
    "    return (1+countNodes(node.getLeft())+countNodes(node.getRight()));\n",
    "\n",
    "}"
   ]
  },
  {
   "cell_type": "code",
   "execution_count": 41,
   "metadata": {
    "vscode": {
     "languageId": "java"
    }
   },
   "outputs": [],
   "source": [
    "%load binary-tree\n",
    "\n",
    "int countNodes(BinNode node) {\n",
    "   if (node==null)\n",
    "    {return 0;}\n",
    "\n",
    "    return (1+(countNodes(node.getLeft())))+(countNodes(node.getRight())); \n",
    "}\n"
   ]
  },
  {
   "cell_type": "code",
   "execution_count": 16,
   "metadata": {
    "vscode": {
     "languageId": "java"
    }
   },
   "outputs": [
    {
     "name": "stdout",
     "output_type": "stream",
     "text": [
      "Reading from 'IN-YOUR-NEW-FILE.dib' ... can't find the file\n",
      "1 lines\n",
      "Looking for 'graphName: MAKE-YOU-TREE' ... not found\n",
      "Please add '%% graphName: MAKE-YOU-TREE' as a last line to your mermaid graph\n",
      "-1 \n"
     ]
    }
   ],
   "source": [
    "var tree = buildFromMermaid(\"MAKE-YOU-TREE\", \"IN-YOUR-NEW-FILE.dib\");\n",
    "print(countNodes(tree));"
   ]
  },
  {
   "cell_type": "markdown",
   "metadata": {},
   "source": [
    "=== G E T - T R E E - H E I G H T ==="
   ]
  },
  {
   "cell_type": "code",
   "execution_count": null,
   "metadata": {
    "vscode": {
     "languageId": "java"
    }
   },
   "outputs": [],
   "source": [
    "%load binary-tree\n",
    "\n",
    "int getHeight(BinNode node) {\n",
    "    return -1;\n",
    "}"
   ]
  },
  {
   "cell_type": "code",
   "execution_count": null,
   "metadata": {
    "vscode": {
     "languageId": "java"
    }
   },
   "outputs": [],
   "source": [
    "var tree = buildFromMermaid(\"MAKE-YOU-TREE\", \"IN-YOUR-NEW-FILE.dib\");\n",
    "print(getHeight(tree));"
   ]
  },
  {
   "cell_type": "markdown",
   "metadata": {},
   "source": [
    "=== C O U N T - L E A V E S ==="
   ]
  },
  {
   "cell_type": "code",
   "execution_count": null,
   "metadata": {
    "vscode": {
     "languageId": "java"
    }
   },
   "outputs": [],
   "source": [
    "%load binary-tree\n",
    "\n",
    "int countLeaves(BinNode node) {\n",
    "    return -1;\n",
    "}"
   ]
  },
  {
   "cell_type": "code",
   "execution_count": null,
   "metadata": {
    "vscode": {
     "languageId": "java"
    }
   },
   "outputs": [],
   "source": [
    "var tree = buildFromMermaid(\"MAKE-YOU-TREE\", \"IN-YOUR-NEW-FILE.dib\");\n",
    "print(countLeaves(tree), tree);"
   ]
  },
  {
   "cell_type": "markdown",
   "metadata": {
    "vscode": {
     "languageId": "java"
    }
   },
   "source": [
    "=== S A M E - T R E E ==="
   ]
  },
  {
   "cell_type": "code",
   "execution_count": 61,
   "metadata": {
    "vscode": {
     "languageId": "java"
    }
   },
   "outputs": [],
   "source": [
    "boolean sameAs(BinNode left, BinNode right) {\n",
    "    if (left==null && right==null)\n",
    "    {return true;}\n",
    "    if(left==null||right==null)\n",
    "    {return false;}\n",
    "    if (left.getValue()!=right.getValue())\n",
    "    {return false;}\n",
    "\n",
    "    boolean  leftIsSame = sameAs(left.getLeft(), right.getLeft());\n",
    "    boolean  RightIsSame = sameAs(left.getRight(), right.getRight());\n",
    "    return leftIsSame && RightIsSame;\n",
    "    \n",
    "}"
   ]
  },
  {
   "cell_type": "code",
   "execution_count": 62,
   "metadata": {
    "vscode": {
     "languageId": "java"
    }
   },
   "outputs": [
    {
     "name": "stdout",
     "output_type": "stream",
     "text": [
      "Reading from 'IN-YOUR-NEW-FILE.dib' ... can't find the file\n",
      "1 lines\n",
      "Looking for 'graphName: MAKE-YOU-TREE' ... not found\n",
      "Please add '%% graphName: MAKE-YOU-TREE' as a last line to your mermaid graph\n",
      "Reading from 'IN-YOUR-NEW-FILE.dib' ... can't find the file\n",
      "1 lines\n",
      "Looking for 'graphName: MAKE-YOU-TREE' ... not found\n",
      "Please add '%% graphName: MAKE-YOU-TREE' as a last line to your mermaid graph\n",
      "true \n"
     ]
    }
   ],
   "source": [
    "var left = buildFromMermaid(\"MAKE-YOU-TREE\", \"IN-YOUR-NEW-FILE.dib\");\n",
    "var right = buildFromMermaid(\"MAKE-YOU-TREE\", \"IN-YOUR-NEW-FILE.dib\");\n",
    "print(sameAs(left, right));"
   ]
  },
  {
   "cell_type": "markdown",
   "metadata": {},
   "source": [
    "=== B O N U S  ===\n",
    "\n",
    "=== I S - C O N S T A N T ==="
   ]
  },
  {
   "cell_type": "code",
   "execution_count": 64,
   "metadata": {
    "vscode": {
     "languageId": "java"
    }
   },
   "outputs": [],
   "source": [
    "boolean isConstant(BinNode node ) {\n",
    "   return isConstant2(node,node.getValue());\n",
    "}\n",
    "\n",
    "boolean isConstant2(BinNode node,int num) {\n",
    "    \n",
    "    \n",
    "    if (node==null)\n",
    "    {\n",
    "        return true;\n",
    "    }\n",
    "    if(node.getvalue()!=num)\n",
    "    {\n",
    "        return false;\n",
    "    }\n",
    "    \n",
    "    boolean left=isConstant2(node.getLeft(),num);\n",
    "    boolean right=isConstant2(node.getRight(),num);\n",
    "    return left&&right;\n",
    "}"
   ]
  },
  {
   "cell_type": "code",
   "execution_count": null,
   "metadata": {
    "vscode": {
     "languageId": "java"
    }
   },
   "outputs": [],
   "source": [
    "var tree = buildFromMermaid(\"MAKE-YOU-TREE\", \"IN-YOUR-NEW-FILE.dib\");\n",
    "print(isConstant(tree));"
   ]
  }
 ],
 "metadata": {
  "kernelspec": {
   "display_name": "Java",
   "language": "java",
   "name": "java"
  },
  "language_info": {
   "codemirror_mode": "java",
   "file_extension": ".jshell",
   "mimetype": "text/x-java-source",
   "name": "Java",
   "pygments_lexer": "java",
   "version": "21.0.4+7-LTS"
  }
 },
 "nbformat": 4,
 "nbformat_minor": 2
}
