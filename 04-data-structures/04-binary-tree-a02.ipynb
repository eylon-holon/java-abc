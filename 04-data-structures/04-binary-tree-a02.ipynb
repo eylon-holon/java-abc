{
 "cells": [
  {
   "cell_type": "markdown",
   "metadata": {},
   "source": [
    "=== C O N T A I N S - P O S T - O R D E R ==="
   ]
  },
  {
   "cell_type": "code",
   "execution_count": 17,
   "metadata": {
    "vscode": {
     "languageId": "java"
    }
   },
   "outputs": [
    {
     "data": {
      "text/plain": [
       "'07-04' is submitted to Gosha (please recheck). Great job! 👍"
      ]
     },
     "execution_count": 17,
     "metadata": {},
     "output_type": "execute_result"
    }
   ],
   "source": [
    "%load ../eylon/submit\n",
    "submit(\"07-04\", \"please recheck\");"
   ]
  },
  {
   "cell_type": "code",
   "execution_count": 4,
   "metadata": {
    "vscode": {
     "languageId": "java"
    }
   },
   "outputs": [],
   "source": [
    "%load binary-tree\n",
    "\n",
    "boolean containsPostOrder(BinNode node, int num) { \n",
    "    if (node == null) {\n",
    "        return false;\n",
    "    }\n",
    "    boolean left = containsPostOrder(node.getLeft(), num);\n",
    "    if (left)\n",
    "        return true;\n",
    "    boolean right = containsPostOrder(node.getRight(), num);\n",
    "    if (right)\n",
    "        return true;\n",
    "    if (node.getValue() == num) {\n",
    "        return true;\n",
    "    }\n",
    "    return false;\n",
    "}"
   ]
  },
  {
   "cell_type": "code",
   "execution_count": 5,
   "metadata": {
    "vscode": {
     "languageId": "java"
    }
   },
   "outputs": [
    {
     "name": "stdout",
     "output_type": "stream",
     "text": [
      "true \n"
     ]
    }
   ],
   "source": [
    "var tree = buildFromMermaid(\"containsPostOrder\", \"04-binary-tree-a02.trees.dib\");\n",
    "print(containsPostOrder(tree, 17));"
   ]
  },
  {
   "cell_type": "markdown",
   "metadata": {},
   "source": [
    "%load binary-tree\n",
    "var tree = buildTestTree();\n",
    "print3(tree);\n",
    "\n",
    "print(10, hasValue(tree, 10));\n",
    "print(5, hasValue(tree, 5));\n",
    "print(11, hasValue(tree, 11));"
   ]
  },
  {
   "cell_type": "markdown",
   "metadata": {},
   "source": [
    "=== C O N T A I N S - P R E - O R D E R ==="
   ]
  },
  {
   "cell_type": "code",
   "execution_count": 6,
   "metadata": {
    "vscode": {
     "languageId": "java"
    }
   },
   "outputs": [],
   "source": [
    "%load binary-tree\n",
    "\n",
    "boolean containsPreOrder(BinNode node, int num) {\n",
    "    if (node == null) {\n",
    "        return false;\n",
    "    }\n",
    "    if (node.getValue() == num)\n",
    "        return true;\n",
    "        \n",
    "    return containsPreOrder(node.getLeft(), num) || containsPreOrder(node.getRight(), num);\n",
    "}"
   ]
  },
  {
   "cell_type": "code",
   "execution_count": 7,
   "metadata": {
    "vscode": {
     "languageId": "java"
    }
   },
   "outputs": [
    {
     "name": "stdout",
     "output_type": "stream",
     "text": [
      "true \n"
     ]
    }
   ],
   "source": [
    "var tree = buildFromMermaid(\"containsPostOrder\", \"04-binary-tree-a02.trees.dib\");\n",
    "print(containsPreOrder(tree, 17));"
   ]
  },
  {
   "cell_type": "markdown",
   "metadata": {},
   "source": [
    "=== C O U N T - N O D E S ==="
   ]
  },
  {
   "cell_type": "code",
   "execution_count": 8,
   "metadata": {
    "vscode": {
     "languageId": "java"
    }
   },
   "outputs": [],
   "source": [
    "%load binary-tree\n",
    "\n",
    "int countNodes(BinNode node) {\n",
    "    if (node == null) {\n",
    "        return 0;\n",
    "    }\n",
    "    return (countNodes(node.getRight()) + countNodes(node.getLeft()) + 1);\n",
    "}"
   ]
  },
  {
   "cell_type": "code",
   "execution_count": 9,
   "metadata": {
    "vscode": {
     "languageId": "java"
    }
   },
   "outputs": [
    {
     "name": "stdout",
     "output_type": "stream",
     "text": [
      "13 \n"
     ]
    }
   ],
   "source": [
    "var tree = buildFromMermaid(\"containsPostOrder\", \"04-binary-tree-a02.trees.dib\");\n",
    "print(countNodes(tree));"
   ]
  },
  {
   "cell_type": "markdown",
   "metadata": {},
   "source": [
    "=== G E T - T R E E - H E I G H T ==="
   ]
  },
  {
   "cell_type": "code",
   "execution_count": 10,
   "metadata": {
    "vscode": {
     "languageId": "java"
    }
   },
   "outputs": [],
   "source": [
    "%load binary-tree\n",
    "\n",
    "int getHeight(BinNode node) {\n",
    "    if (node == null) {\n",
    "        return 0;\n",
    "    }\n",
    "    int left = getHeight(node.getLeft());\n",
    "    int right = getHeight(node.getRight());\n",
    "    if (left>right){\n",
    "        return 1 + left;\n",
    "    }\n",
    "    else {\n",
    "        return 1 + right;\n",
    "    }\n",
    "}"
   ]
  },
  {
   "cell_type": "code",
   "execution_count": 11,
   "metadata": {
    "vscode": {
     "languageId": "java"
    }
   },
   "outputs": [
    {
     "name": "stdout",
     "output_type": "stream",
     "text": [
      "5 \n"
     ]
    }
   ],
   "source": [
    "var tree = buildFromMermaid(\"containsPostOrder\", \"04-binary-tree-a02.trees.dib\");\n",
    "print(getHeight(tree));"
   ]
  },
  {
   "cell_type": "markdown",
   "metadata": {},
   "source": [
    "=== C O U N T - L E A V E S ==="
   ]
  },
  {
   "cell_type": "code",
   "execution_count": 12,
   "metadata": {
    "vscode": {
     "languageId": "java"
    }
   },
   "outputs": [],
   "source": [
    "%load binary-tree\n",
    "\n",
    "int countLeaves(BinNode node) {\n",
    "    if (node == null) {\n",
    "        return 0;\n",
    "    }\n",
    "    if (node.getLeft() == null && node.getRight() == null) {\n",
    "        print(node);\n",
    "        return 1;\n",
    "    }\n",
    "    return\n",
    "        countLeaves(node.getLeft()) +\n",
    "        countLeaves(node.getRight());\n",
    "}"
   ]
  },
  {
   "cell_type": "code",
   "execution_count": 13,
   "metadata": {
    "vscode": {
     "languageId": "java"
    }
   },
   "outputs": [
    {
     "name": "stdout",
     "output_type": "stream",
     "text": [
      "11 --> X \n",
      "23 --> X \n",
      "17 --> X \n",
      "22 --> X \n",
      "12 --> X \n",
      "5 \n"
     ]
    }
   ],
   "source": [
    "var tree = buildFromMermaid(\"containsPostOrder\", \"04-binary-tree-a02.trees.dib\");\n",
    "print(countLeaves(tree));"
   ]
  },
  {
   "cell_type": "markdown",
   "metadata": {
    "vscode": {
     "languageId": "java"
    }
   },
   "source": [
    "=== S A M E - T R E E ==="
   ]
  },
  {
   "cell_type": "code",
   "execution_count": 14,
   "metadata": {
    "vscode": {
     "languageId": "java"
    }
   },
   "outputs": [],
   "source": [
    "%load binary-tree\n",
    "\n",
    "boolean sameAs(BinNode a, BinNode b) {\n",
    "    if (a == null && b == null) {\n",
    "        return true;\n",
    "    }\n",
    "    if (a == null || b == null) {\n",
    "        return false;\n",
    "    }\n",
    "    print(a.getValue(), b.getValue());\n",
    "    return\n",
    "        a.getValue() == b.getValue() &&\n",
    "        sameAs(a.getLeft(), b.getLeft()) &&\n",
    "        sameAs(a.getRight(), b.getRight());\n",
    "}"
   ]
  },
  {
   "cell_type": "code",
   "execution_count": 15,
   "metadata": {
    "vscode": {
     "languageId": "java"
    }
   },
   "outputs": [
    {
     "name": "stdout",
     "output_type": "stream",
     "text": [
      "19 19 \n",
      "17 17 \n",
      "13 13 \n",
      "11 11 \n",
      "12 12 \n",
      "23 23 \n",
      "10 10 \n",
      "16 17 \n",
      "false \n",
      "19 19 \n",
      "17 17 \n",
      "13 13 \n",
      "11 11 \n",
      "12 12 \n",
      "23 23 \n",
      "10 10 \n",
      "17 16 \n",
      "false \n",
      "19 19 \n",
      "17 17 \n",
      "13 13 \n",
      "11 11 \n",
      "12 12 \n",
      "23 23 \n",
      "10 10 \n",
      "16 16 \n",
      "15 15 \n",
      "14 14 \n",
      "21 21 \n",
      "22 22 \n",
      "12 12 \n",
      "true \n",
      "19 19 \n",
      "17 17 \n",
      "13 13 \n",
      "11 11 \n",
      "12 12 \n",
      "23 23 \n",
      "10 10 \n",
      "17 17 \n",
      "15 15 \n",
      "14 14 \n",
      "21 21 \n",
      "22 22 \n",
      "12 12 \n",
      "true \n"
     ]
    }
   ],
   "source": [
    "var a = buildFromMermaid(\"my-presentation\", \"mermaid-samples.dib\");\n",
    "var b = buildFromMermaid(\"containsPostOrder\", \"04-binary-tree-a02.trees.dib\");\n",
    "print(sameAs(a, b));\n",
    "print(sameAs(b, a));\n",
    "print(sameAs(a, a));\n",
    "print(sameAs(b, b));"
   ]
  },
  {
   "cell_type": "markdown",
   "metadata": {},
   "source": [
    "=== B O N U S  ===\n",
    "\n",
    "=== I S - C O N S T A N T ==="
   ]
  },
  {
   "cell_type": "code",
   "execution_count": null,
   "metadata": {
    "vscode": {
     "languageId": "java"
    }
   },
   "outputs": [],
   "source": [
    "boolean isConstant(BinNode node) {\n",
    "    return false;\n",
    "}"
   ]
  },
  {
   "cell_type": "code",
   "execution_count": null,
   "metadata": {
    "vscode": {
     "languageId": "java"
    }
   },
   "outputs": [],
   "source": [
    "var tree = buildFromMermaid(\"MAKE-YOU-TREE\", \"IN-YOUR-NEW-FILE.dib\");\n",
    "print(isConstant(tree));"
   ]
  }
 ],
 "metadata": {
  "kernelspec": {
   "display_name": "Java",
   "language": "java",
   "name": "java"
  },
  "language_info": {
   "codemirror_mode": "java",
   "file_extension": ".jshell",
   "mimetype": "text/x-java-source",
   "name": "Java",
   "pygments_lexer": "java",
   "version": "21.0.4+7-LTS"
  },
  "polyglot_notebook": {
   "kernelInfo": {
    "defaultKernelName": "csharp",
    "items": [
     {
      "aliases": [],
      "name": "csharp"
     }
    ]
   }
  }
 },
 "nbformat": 4,
 "nbformat_minor": 2
}
