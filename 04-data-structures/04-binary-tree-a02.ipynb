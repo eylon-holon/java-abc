{
 "cells": [
  {
   "cell_type": "markdown",
   "metadata": {},
   "source": [
    "=== C O N T A I N S - P O S T - O R D E R ==="
   ]
  },
  {
   "cell_type": "code",
   "execution_count": 42,
   "metadata": {},
   "outputs": [],
   "source": [
    "%load binary-tree\n",
    "\n",
    "boolean containsPostOrder(BinNode node, int num) {\n",
    "    if (node==null) {\n",
    "        return false;\n",
    "    }\n",
    "\n",
    "    boolean left=containsPostOrder(node.getLeft(), num);\n",
    "    boolean right=containsPostOrder(node.getRight(), num);\n",
    "\n",
    "    if (node.getValue()==num) {\n",
    "        return true;\n",
    "    }\n",
    "\n",
    "    return left || right;\n",
    "\n",
    "}"
   ]
  },
  {
   "cell_type": "code",
   "execution_count": 44,
   "metadata": {},
   "outputs": [
    {
     "name": "stdout",
     "output_type": "stream",
     "text": [
      "Reading from '04-mermaid-trees.dib' ... 58 lines\n",
      "Looking for 'graphName: my-tree' ... 20 lines\n",
      "true \n"
     ]
    }
   ],
   "source": [
    "var tree = buildFromMermaid(\"my-tree\", \"04-mermaid-trees.dib\");\n",
    "print(containsPostOrder(tree, 12));"
   ]
  },
  {
   "cell_type": "markdown",
   "metadata": {},
   "source": [
    "=== C O N T A I N S - P R E - O R D E R ==="
   ]
  },
  {
   "cell_type": "code",
   "execution_count": 7,
   "metadata": {},
   "outputs": [],
   "source": [
    "%load binary-tree\n",
    "\n",
    "boolean containsPreOrder(BinNode node, int num) {\n",
    "    if (node==null) {\n",
    "        return false;\n",
    "    }\n",
    "    if (node.getValue()==num) {\n",
    "        return true;\n",
    "    }\n",
    "    return containsPreOrder(node.getLeft(), num) ||\n",
    "    containsPreOrder(node.getRight(), num);\n",
    "}"
   ]
  },
  {
   "cell_type": "code",
   "execution_count": 11,
   "metadata": {},
   "outputs": [
    {
     "name": "stdout",
     "output_type": "stream",
     "text": [
      "Reading from '04-mermaid-trees.dib' ... 36 lines\n",
      "Looking for 'graphName: my-tree' ... 20 lines\n",
      "false \n"
     ]
    }
   ],
   "source": [
    "var tree = buildFromMermaid(\"my-tree\", \"04-mermaid-trees.dib\");\n",
    "print(containsPreOrder(tree, 1));"
   ]
  },
  {
   "cell_type": "markdown",
   "metadata": {},
   "source": [
    "=== C O U N T - N O D E S ==="
   ]
  },
  {
   "cell_type": "code",
   "execution_count": null,
   "metadata": {},
   "outputs": [],
   "source": [
    "%load binary-tree\n",
    "\n",
    "int countNodes(BinNode node) {\n",
    "    if (node==null) {\n",
    "        return 0;\n",
    "    }\n",
    "\n",
    "    print(node);\n",
    "\n",
    "    return 1 +\n",
    "        countNodes(node.getLeft()) +\n",
    "        countNodes(node.getRight());\n",
    "}"
   ]
  },
  {
   "cell_type": "code",
   "execution_count": 13,
   "metadata": {},
   "outputs": [
    {
     "name": "stdout",
     "output_type": "stream",
     "text": [
      "Reading from '04-mermaid-trees.dib' ... 36 lines\n",
      "Looking for 'graphName: my-tree' ... 20 lines\n",
      "19 --> [17 15] \n",
      "17 --> [13 12] \n",
      "13 --> [11 null] \n",
      "11 --> [45 null] \n",
      "45 --> X \n",
      "12 --> [23 10] \n",
      "23 --> [null 27] \n",
      "27 --> X \n",
      "10 --> X \n",
      "15 --> [null 14] \n",
      "14 --> [21 12] \n",
      "21 --> [null 22] \n",
      "22 --> X \n",
      "12 --> X \n",
      "14 \n"
     ]
    }
   ],
   "source": [
    "var tree = buildFromMermaid(\"my-tree\", \"04-mermaid-trees.dib\");\n",
    "print(countNodes(tree));"
   ]
  },
  {
   "cell_type": "markdown",
   "metadata": {},
   "source": [
    "=== G E T - T R E E - H E I G H T ==="
   ]
  },
  {
   "cell_type": "code",
   "execution_count": 40,
   "metadata": {},
   "outputs": [],
   "source": [
    "%load binary-tree\n",
    "\n",
    "int getHeight(BinNode node) {\n",
    "    if (node==null) {\n",
    "        return 0;\n",
    "    }\n",
    "\n",
    "    return 1 +\n",
    "    Math.max(getHeight(node.getLeft()), getHeight(node.getRight()));\n",
    "}"
   ]
  },
  {
   "cell_type": "code",
   "execution_count": 41,
   "metadata": {},
   "outputs": [
    {
     "name": "stdout",
     "output_type": "stream",
     "text": [
      "Reading from '04-mermaid-trees.dib' ... 58 lines\n",
      "Looking for 'graphName: my-tree' ... 20 lines\n",
      "5 \n"
     ]
    }
   ],
   "source": [
    "var tree = buildFromMermaid(\"my-tree\", \"04-mermaid-trees.dib\");\n",
    "print(getHeight(tree));"
   ]
  },
  {
   "cell_type": "markdown",
   "metadata": {},
   "source": [
    "=== C O U N T - L E A V E S ==="
   ]
  },
  {
   "cell_type": "code",
   "execution_count": 27,
   "metadata": {},
   "outputs": [],
   "source": [
    "%load binary-tree\n",
    "\n",
    "int countLeaves(BinNode node) {\n",
    "    if (node==null) {\n",
    "        return 0;\n",
    "    }\n",
    "\n",
    "    if (node.getLeft()==null && node.getRight()==null) {\n",
    "        return 1;\n",
    "    }\n",
    "\n",
    "    return countLeaves(node.getLeft()) +\n",
    "    countLeaves(node.getRight());\n",
    "}"
   ]
  },
  {
   "cell_type": "code",
   "execution_count": 28,
   "metadata": {},
   "outputs": [
    {
     "name": "stdout",
     "output_type": "stream",
     "text": [
      "Reading from '04-mermaid-trees.dib' ... 36 lines\n",
      "Looking for 'graphName: my-tree' ... 20 lines\n",
      "5 19 --> [17 15] \n"
     ]
    }
   ],
   "source": [
    "var tree = buildFromMermaid(\"my-tree\", \"04-mermaid-trees.dib\");\n",
    "print(countLeaves(tree), tree);"
   ]
  },
  {
   "cell_type": "markdown",
   "metadata": {
    "vscode": {
     "languageId": "java"
    }
   },
   "source": [
    "=== S A M E - T R E E ==="
   ]
  },
  {
   "cell_type": "code",
   "execution_count": 33,
   "metadata": {},
   "outputs": [],
   "source": [
    "boolean sameAs(BinNode a, BinNode b) { \n",
    "    if (a==null && b==null) {\n",
    "        return true;\n",
    "    }\n",
    "\n",
    "    if (a==null || b==null) {\n",
    "        return false;\n",
    "    }\n",
    "\n",
    "    if (a.getValue()!=b.getValue()) {\n",
    "        return false;\n",
    "    }\n",
    "\n",
    "    return sameAs(a.getLeft(), b.getLeft()) &&\n",
    "    sameAs(a.getRight(), b.getRight());\n",
    "}"
   ]
  },
  {
   "cell_type": "code",
   "execution_count": 36,
   "metadata": {},
   "outputs": [
    {
     "name": "stdout",
     "output_type": "stream",
     "text": [
      "Reading from '04-mermaid-trees.dib' ... 58 lines\n",
      "Looking for 'graphName: my-tree' ... 20 lines\n",
      "Reading from '04-mermaid-trees.dib' ... 58 lines\n",
      "Looking for 'graphName: my-tree2' ... 20 lines\n",
      "false 19 --> [17 15] \n"
     ]
    }
   ],
   "source": [
    "var left = buildFromMermaid(\"my-tree\", \"04-mermaid-trees.dib\");\n",
    "var right = buildFromMermaid(\"my-tree2\", \"04-mermaid-trees.dib\");\n",
    "print(sameAs(left, right), tree);"
   ]
  },
  {
   "cell_type": "markdown",
   "metadata": {},
   "source": [
    "=== B O N U S  ===\n",
    "\n",
    "=== I S - C O N S T A N T ==="
   ]
  },
  {
   "cell_type": "code",
   "execution_count": 55,
   "metadata": {},
   "outputs": [],
   "source": [
    "boolean isConstant(BinNode node) {\n",
    "    return isConstant2(node, node.getValue());\n",
    "}\n",
    "\n",
    "boolean isConstant2(BinNode node, int num) {\n",
    "    if (node==null) {\n",
    "        return false;\n",
    "    }\n",
    "\n",
    "    if (node.getValue()==num) {\n",
    "        return true;\n",
    "    }\n",
    "\n",
    "    return isConstant2(node.getLeft()) &&\n",
    "    isConstant2(node.getRight());\n",
    "\n",
    "}"
   ]
  },
  {
   "cell_type": "code",
   "execution_count": 56,
   "metadata": {},
   "outputs": [
    {
     "name": "stdout",
     "output_type": "stream",
     "text": [
      "Reading from '04-mermaid-trees.dib' ... 58 lines\n",
      "Looking for 'graphName: my-tree' ... 20 lines\n"
     ]
    },
    {
     "ename": "UnresolvedReferenceException",
     "evalue": "Attempt to use definition snippet with unresolved references in MethodSnippet:isConstant2/(BinNode,int)boolean-\n\nboolean isConstant2(BinNode node, int num) {\n    if (node==null) {\n        return false;\n    }\n\n    if (node.getValue()==num) {\n        return true;\n    }\n\n    return isConstant2(node.getLeft()) &&\n    isConstant2(node.getRight());\n\n}",
     "output_type": "error",
     "traceback": []
    }
   ],
   "source": [
    "var tree = buildFromMermaid(\"my-tree\", \"04-mermaid-trees.dib\");\n",
    "print(isConstant(tree));"
   ]
  }
 ],
 "metadata": {
  "kernelspec": {
   "display_name": "Java",
   "language": "java",
   "name": "java"
  },
  "language_info": {
   "codemirror_mode": "java",
   "file_extension": ".jshell",
   "mimetype": "text/x-java-source",
   "name": "java",
   "pygments_lexer": "java",
   "version": "21.0.4+7-LTS"
  }
 },
 "nbformat": 4,
 "nbformat_minor": 2
}
