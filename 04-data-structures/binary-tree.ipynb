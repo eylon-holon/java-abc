{
 "cells": [
  {
   "cell_type": "code",
   "execution_count": null,
   "metadata": {},
   "outputs": [],
   "source": [
    "%load ../eylon/java-utils\n",
    "%load BinNode\n",
    "%load BinTree\n",
    "\n",
    "BinNode buildTestTree() { return BinTree.build(\"test-tree\"); }\n",
    "boolean hasValue(BinNode tree, int value) { return BinTree.hasValue(tree, value); }\n",
    "void print(BinNode tree) { BinTree.print(tree); }\n",
    "int sumPreOrder(BinNode tree) { return BinTree.sumPreOrder(tree); }\n",
    "int sumInOrder(BinNode tree) { return BinTree.sumInOrder(tree); }\n",
    "int sumPostOrder(BinNode tree) { return BinTree.sumPostOrder(tree); }"
   ]
  }
 ],
 "metadata": {
  "kernelspec": {
   "display_name": "Java",
   "language": "java",
   "name": "java"
  },
  "language_info": {
   "codemirror_mode": "java",
   "file_extension": ".jshell",
   "mimetype": "text/x-java-source",
   "name": "java",
   "pygments_lexer": "java",
   "version": "23+37-2369"
  }
 },
 "nbformat": 4,
 "nbformat_minor": 2
}
