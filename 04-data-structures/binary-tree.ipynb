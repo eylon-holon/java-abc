{
 "cells": [
  {
   "cell_type": "code",
   "execution_count": null,
   "metadata": {
    "vscode": {
     "languageId": "java"
    }
   },
   "outputs": [],
   "source": [
    "%load ../eylon/java-utils\n",
    "%load BinNode\n",
    "%load BinTree\n",
    "%load BinTreeFromMermaid\n",
    "\n",
    "BinNode buildTestTree() { return BinTree.buildTestTree(); }\n",
    "boolean hasValue(BinNode tree, int value) { return BinTree.hasValue(tree, value); }\n",
    "void print3(BinNode tree) { BinTree.print3(tree); }\n",
    "int sumPreOrder(BinNode tree) { return BinTree.sumPreOrder(tree); }\n",
    "int sumInOrder(BinNode tree) { return BinTree.sumInOrder(tree); }\n",
    "int sumPostOrder(BinNode tree) { return BinTree.sumPostOrder(tree); }\n",
    "BinNode buildFromMermaid(String graphName, String filePath) { return BinTreeFromMermaid.buildFromMermaid(graphName, filePath); }"
   ]
  }
 ],
 "metadata": {
  "kernelspec": {
   "display_name": "Java",
   "language": "java",
   "name": "java"
  },
  "language_info": {
   "codemirror_mode": "java",
   "file_extension": ".jshell",
   "mimetype": "text/x-java-source",
   "name": "java",
   "pygments_lexer": "java",
   "version": "21.0.4+7-LTS"
  }
 },
 "nbformat": 4,
 "nbformat_minor": 2
}
