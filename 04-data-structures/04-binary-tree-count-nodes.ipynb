{
 "cells": [
  {
   "cell_type": "code",
   "execution_count": null,
   "metadata": {},
   "outputs": [],
   "source": [
    "%load binary-tree\n",
    "\n",
    "int countNodes(BinNode node) {\n",
    "    if (node == null) {\n",
    "        return 0;\n",
    "    }\n",
    "\n",
    "    print(node);\n",
    "\n",
    "    return 1 +\n",
    "        countNodes(node.getLeft()) +\n",
    "        countNodes(node.getRight());\n",
    "}"
   ]
  },
  {
   "cell_type": "code",
   "execution_count": null,
   "metadata": {},
   "outputs": [],
   "source": [
    "var tree = buildFromMermaid(\"my-presentation\", \"mermaid-samples.dib\");\n",
    "countNodes(tree);"
   ]
  }
 ],
 "metadata": {
  "kernelspec": {
   "display_name": "Java",
   "language": "java",
   "name": "java"
  },
  "language_info": {
   "codemirror_mode": "java",
   "file_extension": ".jshell",
   "mimetype": "text/x-java-source",
   "name": "java",
   "pygments_lexer": "java",
   "version": "23+37-2369"
  }
 },
 "nbformat": 4,
 "nbformat_minor": 2
}
