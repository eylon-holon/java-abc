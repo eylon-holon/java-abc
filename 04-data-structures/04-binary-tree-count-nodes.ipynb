{
 "cells": [
  {
   "cell_type": "code",
   "execution_count": 2,
   "metadata": {
    "vscode": {
     "languageId": "java"
    }
   },
   "outputs": [],
   "source": [
    "%load binary-tree\n",
    "\n",
    "int countNodes(BinNode node) {\n",
    "    if (node == null) {\n",
    "        return 0;\n",
    "    }\n",
    "    print(node);\n",
    "    var count = 1 +\n",
    "        countNodes(node.getLeft()) +\n",
    "        countNodes(node.getRight());\n",
    "\n",
    "    return count;\n",
    "}"
   ]
  },
  {
   "cell_type": "code",
   "execution_count": 3,
   "metadata": {
    "vscode": {
     "languageId": "java"
    }
   },
   "outputs": [
    {
     "name": "stdout",
     "output_type": "stream",
     "text": [
      "Reading from '04-mermaid-samples.dib' ... can't find the file\n",
      "1 lines\n",
      "Looking for 'graphName: gg' ... not found\n",
      "Please add '%% graphName: gg' as a last line to your mermaid graph\n"
     ]
    },
    {
     "data": {
      "text/plain": [
       "0"
      ]
     },
     "execution_count": 3,
     "metadata": {},
     "output_type": "execute_result"
    }
   ],
   "source": [
    "var tree = buildFromMermaid(\"gg\", \"04-mermaid-samples.dib\");\n",
    "countNodes(tree);"
   ]
  }
 ],
 "metadata": {
  "kernelspec": {
   "display_name": "Java",
   "language": "java",
   "name": "java"
  },
  "language_info": {
   "codemirror_mode": "java",
   "file_extension": ".jshell",
   "mimetype": "text/x-java-source",
   "name": "Java",
   "pygments_lexer": "java",
   "version": "21.0.4+7-LTS"
  }
 },
 "nbformat": 4,
 "nbformat_minor": 2
}
