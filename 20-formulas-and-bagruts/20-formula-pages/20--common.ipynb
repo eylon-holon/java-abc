{
 "cells": [
  {
   "cell_type": "code",
   "execution_count": null,
   "metadata": {},
   "outputs": [],
   "source": [
    "%load ../formulas"
   ]
  },
  {
   "cell_type": "code",
   "execution_count": null,
   "metadata": {},
   "outputs": [],
   "source": [
    "public static void main() {\n",
    "    System.out.println(\"Hello, World!\");\n",
    "}"
   ]
  },
  {
   "cell_type": "code",
   "execution_count": null,
   "metadata": {},
   "outputs": [],
   "source": [
    "public static void print(arg) {\n",
    "    System.out.println(arg);\n",
    "}"
   ]
  },
  {
   "cell_type": "code",
   "execution_count": null,
   "metadata": {},
   "outputs": [],
   "source": [
    "public static String input(String prompt) {\n",
    "    System.out.print(prompt + \" \");\n",
    "    var scanner = new Scanner(System.in);\n",
    "    var answer = scanner.nextLine();\n",
    "    scanner.close();\n",
    "    return answer;\n",
    "}    "
   ]
  },
  {
   "cell_type": "code",
   "execution_count": null,
   "metadata": {},
   "outputs": [],
   "source": [
    "int x = 0;          // assignment operator\n",
    "return x == 0;      // return boolean expression"
   ]
  },
  {
   "cell_type": "code",
   "execution_count": null,
   "metadata": {},
   "outputs": [],
   "source": [
    "String s1 = input(\"Enter your name: \"); // Avi\n",
    "String s2 = input(\"Enter your age: \");  // Avi\n",
    "boolean no = s1 == s2;          // references are compared\n",
    "boolean yes = s1.equals(s2);    // values are compared"
   ]
  },
  {
   "cell_type": "code",
   "execution_count": null,
   "metadata": {},
   "outputs": [],
   "source": [
    "int[] a = new int[10];   // המערך מאותחל באפסים"
   ]
  },
  {
   "cell_type": "code",
   "execution_count": null,
   "metadata": {},
   "outputs": [],
   "source": [
    "int min = Integer.MAX_VALUE;\n",
    "int max = Integer.MIN_VALUE;"
   ]
  },
  {
   "cell_type": "code",
   "execution_count": null,
   "metadata": {},
   "outputs": [],
   "source": [
    "int num = 123;\n",
    "print(num / 10);    // 12\n",
    "print(num % 10);    // 3"
   ]
  },
  {
   "cell_type": "code",
   "execution_count": null,
   "metadata": {},
   "outputs": [],
   "source": [
    "void printDigits(int num) {\n",
    "    while (num > 0) {\n",
    "        print(num % 10); \n",
    "        num = num / 10;\n",
    "    }\n",
    "}"
   ]
  },
  {
   "cell_type": "code",
   "execution_count": null,
   "metadata": {},
   "outputs": [],
   "source": [
    "boolean isPalindrome(int num) {\n",
    "    int reversed = 0;\n",
    "    int original = num;\n",
    "    while (num > 0) {\n",
    "        reversed = reversed * 10 + num % 10;\n",
    "        num = num / 10;\n",
    "    }\n",
    "    return original == reversed;\n",
    "}"
   ]
  },
  {
   "cell_type": "code",
   "execution_count": null,
   "metadata": {},
   "outputs": [],
   "source": [
    "public static       // פעולה חצונית\n",
    "void foo() {\n",
    "}"
   ]
  },
  {
   "cell_type": "code",
   "execution_count": null,
   "metadata": {},
   "outputs": [],
   "source": [
    "public void foo() {  // פעולה פנימית\n",
    "}"
   ]
  }
 ],
 "metadata": {
  "kernelspec": {
   "display_name": "Java",
   "language": "java",
   "name": "java"
  },
  "language_info": {
   "codemirror_mode": "java",
   "file_extension": ".jshell",
   "mimetype": "text/x-java-source",
   "name": "java",
   "pygments_lexer": "java",
   "version": "23+37-2369"
  }
 },
 "nbformat": 4,
 "nbformat_minor": 2
}
