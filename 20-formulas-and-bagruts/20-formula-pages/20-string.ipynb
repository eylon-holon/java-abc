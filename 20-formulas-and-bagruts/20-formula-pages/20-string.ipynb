{
 "cells": [
  {
   "cell_type": "code",
   "execution_count": 1,
   "metadata": {},
   "outputs": [],
   "source": [
    "%load ../formulas"
   ]
  },
  {
   "cell_type": "markdown",
   "metadata": {},
   "source": [
    "| String function  | Example  | Result  |\n",
    "|---|---|---|\n",
    "| `int length()`                        | `\"01234\".length()`                          | 5                         |\n",
    "| `char charAt(int index)`              | `\"01234\".charAt(1);` <br> `\"01234\".charAt(5)` | '1' <br> Run time error |\n",
    "| `boolean equals(String str)`          | `\"01234\".equal(\"01\" + \"234\")` <br> `\"\".equals(\"\")` <br> `\"01234\".equal(\"01\" + \"34\")`| true <br> true <br> false |\n",
    "| `String substring(int begin)`         | `\"01234\".substring(1)`                        | \"1234\"   |\n",
    "| `String substring(int begin, int end)`| `\"01234\".substring(1, 4)` <br> `\"01234\".substring(1, 2)` | \"123\" <br> \"1\" |\n",
    "| ``                         |                                           |                         |"
   ]
  },
  {
   "cell_type": "code",
   "execution_count": null,
   "metadata": {},
   "outputs": [],
   "source": []
  }
 ],
 "metadata": {
  "kernelspec": {
   "display_name": "Java",
   "language": "java",
   "name": "java"
  },
  "language_info": {
   "codemirror_mode": "java",
   "file_extension": ".jshell",
   "mimetype": "text/x-java-source",
   "name": "java",
   "pygments_lexer": "java",
   "version": "23+37-2369"
  }
 },
 "nbformat": 4,
 "nbformat_minor": 2
}
