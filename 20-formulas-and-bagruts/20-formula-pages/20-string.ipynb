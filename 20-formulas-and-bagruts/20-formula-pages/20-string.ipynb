{
 "cells": [
  {
   "cell_type": "code",
   "execution_count": 1,
   "metadata": {},
   "outputs": [],
   "source": [
    "%load ../formulas"
   ]
  },
  {
   "cell_type": "markdown",
   "metadata": {},
   "source": [
    "| String function  | Example  | Result  |\n",
    "|---|---|---|\n",
    "| <l style=\"font-family:monospace\"> int length()                         | <l style=\"font-family:monospace\"> \"01234\".length()                          | 5                         |\n",
    "| <l style=\"font-family:monospace\"> char charAt(int index)               | <l style=\"font-family:monospace\"> \"01234\".charAt(1); <br> \"01234\".charAt(5) | '1' <br> Run time error |\n",
    "| <l style=\"font-family:monospace\"> boolean equals(String str)           | <l style=\"font-family:monospace\"> \"01234\".equal(\"01\" + \"234\") <br> \"\".equals(\"\") <br> \"01234\".equal(\"01\" + \"34\")| true <br> true <br> false |\n",
    "| <l style=\"font-family:monospace\"> String substring(int begin)          | <l style=\"font-family:monospace\"> \"01234\".substring(1)                        | \"1234\"   |\n",
    "| <l style=\"font-family:monospace\"> String substring(int begin, int end) | <l style=\"font-family:monospace\"> \"01234\".substring(1, 4) <br> \"01234\".substring(1, 2) | \"123\" <br> \"1\" |\n"
   ]
  },
  {
   "cell_type": "code",
   "execution_count": null,
   "metadata": {},
   "outputs": [],
   "source": [
    "String[] arrayOfStrings = new String[] {\"one\", \"two\", \"three\"};"
   ]
  },
  {
   "cell_type": "code",
   "execution_count": null,
   "metadata": {},
   "outputs": [],
   "source": [
    "boolean isPalindrome(String str) {\n",
    "    int len = str.length();\n",
    "    for (int i = 0; i < len / 2; i++) {\n",
    "        if (str.charAt(i) != str.charAt(len - i - 1)) {\n",
    "            return false;\n",
    "        }\n",
    "    }\n",
    "    return true;\n",
    "}"
   ]
  },
  {
   "cell_type": "code",
   "execution_count": null,
   "metadata": {},
   "outputs": [],
   "source": [
    "boolean startsWith(String str, String prefix) {\n",
    "    if (prefix.length() > str.length()) {\n",
    "        return false;\n",
    "    }\n",
    "    for (int i = 0; i < prefix.length(); i++) {\n",
    "        if (str.charAt(i) != prefix.charAt(i)) {\n",
    "            return false;\n",
    "        }\n",
    "    }\n",
    "    return true;\n",
    "}"
   ]
  },
  {
   "cell_type": "code",
   "execution_count": null,
   "metadata": {},
   "outputs": [],
   "source": [
    "boolean endsWith(String str, String suffix) {\n",
    "    if (suffix.length() > str.length()) {\n",
    "        return false;\n",
    "    }\n",
    "    for (int i = 0; i < suffix.length(); i++) {\n",
    "        var curStrCh = str.charAt(str.length() - i - 1);\n",
    "        var curSuffixCh = suffix.charAt(suffix.length() - i - 1);\n",
    "        if (curStrCh != curSuffixCh) {\n",
    "            return false;\n",
    "        }\n",
    "    }\n",
    "    return true;\n",
    "}"
   ]
  },
  {
   "cell_type": "code",
   "execution_count": null,
   "metadata": {},
   "outputs": [],
   "source": [
    "String reverse(String str) {\n",
    "    var rev = \"\";\n",
    "    for (int i = 0; i < str.length(); i++) {\n",
    "        rev += str.charAt(str.length() - i - 1);\n",
    "    }\n",
    "    return rev;\n",
    "}"
   ]
  }
 ],
 "metadata": {
  "kernelspec": {
   "display_name": "Java",
   "language": "java",
   "name": "java"
  },
  "language_info": {
   "codemirror_mode": "java",
   "file_extension": ".jshell",
   "mimetype": "text/x-java-source",
   "name": "java",
   "pygments_lexer": "java",
   "version": "23+37-2369"
  }
 },
 "nbformat": 4,
 "nbformat_minor": 2
}
