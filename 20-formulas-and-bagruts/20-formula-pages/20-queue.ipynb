{
 "cells": [
  {
   "cell_type": "code",
   "execution_count": 2,
   "metadata": {},
   "outputs": [],
   "source": [
    "%load ../formulas"
   ]
  },
  {
   "cell_type": "markdown",
   "metadata": {},
   "source": [
    "| Queue function  | Example  | הסבר  |\n",
    "|---|---|---|\n",
    "| <l style=\"font-family:monospace\"> Queue()                 | <l style=\"font-family:monospace\"> Queue<Integer> que = new Queue<Integer>(); |  פעולה הבונה תור ריק של מספרים|\n",
    "| <l style=\"font-family:monospace\"> boolean isEmpty()       | <l style=\"font-family:monospace\"> while (!que.isEmpty()) { <br> }          | פעולה המחזירה אמת אם התור ריק ושקר אחרת |\n",
    "| <l style=\"font-family:monospace\"> T head()                | <l style=\"font-family:monospace\"> int num = que.head();                      | הפעולה מחזירה את האיבר שבראש התור מבלי להוציאו. <br> תנאי קדם: התור לא ריק |\n",
    "| <l style=\"font-family:monospace\"> void insert(T x)        | <l style=\"font-family:monospace\"> que.insert(10);                            | הפעולה מוסיפה את המספר לסוף התור |\n",
    "| <l style=\"font-family:monospace\"> T remove()              | <l style=\"font-family:monospace\"> int num = que.remove();                    | הפעולה מוציאה ומחזירה את האיבר שבראש התור <br> תנאי קדם: התור לא ריק |\n"
   ]
  },
  {
   "cell_type": "code",
   "execution_count": 4,
   "metadata": {},
   "outputs": [],
   "source": [
    "public static\n",
    "void printQueue(Queue<Integer> que) {\n",
    "    Queue<Integer> tmp = new Queue<Integer>();\n",
    "    while (!que.isEmpty()) {\n",
    "        int x = que.remove();\n",
    "        System.out.print(x + \" \");\n",
    "        tmp.insert(x);\n",
    "    }\n",
    "    while (!tmp.isEmpty()) {\n",
    "        que.insert(tmp.remove());\n",
    "    }\n",
    "    System.out.println();\n",
    "}"
   ]
  },
  {
   "cell_type": "code",
   "execution_count": 5,
   "metadata": {},
   "outputs": [],
   "source": [
    "public static\n",
    "boolean contains(Queue<Integer> que, int value) {\n",
    "    Queue<Integer> tmp = new Queue<Integer>();\n",
    "    boolean found = false;\n",
    "    while (!que.isEmpty()) {\n",
    "        int x = que.remove();\n",
    "        if (x == value) {\n",
    "            found = true;\n",
    "        }\n",
    "        tmp.insert(x);\n",
    "    }\n",
    "    while (!tmp.isEmpty()) {\n",
    "        que.insert(tmp.remove());\n",
    "    }\n",
    "    return found;\n",
    "}"
   ]
  }
 ],
 "metadata": {
  "kernelspec": {
   "display_name": "Java",
   "language": "java",
   "name": "java"
  },
  "language_info": {
   "codemirror_mode": "java",
   "file_extension": ".jshell",
   "mimetype": "text/x-java-source",
   "name": "java",
   "pygments_lexer": "java",
   "version": "23+37-2369"
  }
 },
 "nbformat": 4,
 "nbformat_minor": 2
}
