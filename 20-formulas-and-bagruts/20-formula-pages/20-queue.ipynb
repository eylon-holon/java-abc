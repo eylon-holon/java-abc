{
 "cells": [
  {
   "cell_type": "code",
   "execution_count": 2,
   "metadata": {
    "vscode": {
     "languageId": "java"
    }
   },
   "outputs": [],
   "source": [
    "%load ../formulas"
   ]
  },
  {
   "cell_type": "markdown",
   "metadata": {},
   "source": [
    "| Queue function  | Example  | הסבר  |\n",
    "|---|---|---|\n",
    "| <l style=\"font-family:monospace\"> Queue()                 | <l style=\"font-family:monospace\"> Queue<Integer> que = new Queue<Integer>(); |  פעולה הבונה תור ריק של מספרים|\n",
    "| <l style=\"font-family:monospace\"> boolean isEmpty()       | <l style=\"font-family:monospace\"> while (!que.isEmpty()) { <br> }          | פעולה המחזירה אמת אם התור ריק ושקר אחרת |\n",
    "| <l style=\"font-family:monospace\"> T head()                | <l style=\"font-family:monospace\"> int num = que.head();                      | הפעולה מחזירה את האיבר שבראש התור מבלי להוציאו. <br> תנאי קדם: התור לא ריק |\n",
    "| <l style=\"font-family:monospace\"> void insert(T x)        | <l style=\"font-family:monospace\"> que.insert(10);                            | הפעולה מוסיפה את המספר לסוף התור |\n",
    "| <l style=\"font-family:monospace\"> T remove()              | <l style=\"font-family:monospace\"> int num = que.remove();                    | הפעולה מוציאה ומחזירה את האיבר שבראש התור <br> תנאי קדם: התור לא ריק |\n"
   ]
  },
  {
   "cell_type": "code",
   "execution_count": null,
   "metadata": {
    "vscode": {
     "languageId": "java"
    }
   },
   "outputs": [],
   "source": [
    "void printQueue(Queue<Integer> que) {\n",
    "    Queue<Integer> tmp = new Queue<Integer>();\n",
    "    while (!que.isEmpty()) {\n",
    "        int x = que.remove();\n",
    "        System.out.print(x + \" \");\n",
    "        tmp.insert(x);\n",
    "    }\n",
    "    while (!tmp.isEmpty()) {\n",
    "        que.insert(tmp.remove());\n",
    "    }\n",
    "    System.out.println();\n",
    "}"
   ]
  },
  {
   "cell_type": "code",
   "execution_count": null,
   "metadata": {
    "vscode": {
     "languageId": "java"
    }
   },
   "outputs": [],
   "source": [
    "boolean contains(Queue<Integer> que, int value) {\n",
    "    Queue<Integer> tmp = new Queue<Integer>();\n",
    "    boolean found = false;\n",
    "    while (!que.isEmpty()) {\n",
    "        int x = que.remove();\n",
    "        if (x == value) {\n",
    "            found = true;\n",
    "        }\n",
    "        tmp.insert(x);\n",
    "    }\n",
    "    while (!tmp.isEmpty()) {\n",
    "        que.insert(tmp.remove());\n",
    "    }\n",
    "    return found;\n",
    "}"
   ]
  },
  {
   "cell_type": "code",
   "execution_count": null,
   "metadata": {
    "vscode": {
     "languageId": "java"
    }
   },
   "outputs": [],
   "source": [
    "// assume que has the specified index\n",
    "int atIndex(Queue<Integer> que, int index) {\n",
    "    Queue<Integer> tmp = new Queue<Integer>();\n",
    "    int value = 0;\n",
    "    while (!que.isEmpty()) {\n",
    "        int x = que.remove();\n",
    "        if (index > 0) {\n",
    "            index--;\n",
    "            value = x;\n",
    "        }\n",
    "        tmp.insert(x);\n",
    "    }\n",
    "    while (!tmp.isEmpty()) {\n",
    "        que.insert(tmp.remove());\n",
    "    }\n",
    "    return value;\n",
    "}"
   ]
  },
  {
   "cell_type": "code",
   "execution_count": null,
   "metadata": {
    "vscode": {
     "languageId": "java"
    }
   },
   "outputs": [],
   "source": [
    "Queue<T> copy(Queue<T> que) {\n",
    "    Queue<T> que2 = new Queue<T>();\n",
    "    Queue<T> tmp = new Queue<T>();\n",
    "    while (!que.isEmpty()) {\n",
    "        T x = que.remove();\n",
    "        que2.insert(x);\n",
    "        tmp.insert(x);\n",
    "    }\n",
    "    while (!tmp.isEmpty()) {\n",
    "        que.insert(tmp.remove());\n",
    "    }\n",
    "    return que2;\n",
    "}"
   ]
  },
  {
   "cell_type": "code",
   "execution_count": null,
   "metadata": {
    "vscode": {
     "languageId": "java"
    }
   },
   "outputs": [
    {
     "ename": "CompilationException",
     "evalue": "",
     "output_type": "error",
     "traceback": [
      "\u001b[1m\u001b[30m|   \u001b[1m\u001b[30m    Queue<Integer> que = \u001b[0m\u001b[1m\u001b[30m\u001b[41mnew Queue<Integer>()\u001b[0m\u001b[1m\u001b[30m;\u001b[0m",
      "\u001b[1m\u001b[31mjava.util.Queue is abstract; cannot be instantiated\u001b[0m",
      "",
      "\u001b[1m\u001b[30m|   \u001b[1m\u001b[30m    Queue<Integer> copy1 = \u001b[0m\u001b[1m\u001b[30m\u001b[41mcopy\u001b[0m\u001b[1m\u001b[30m(que1);\u001b[0m",
      "\u001b[1m\u001b[31mcannot find symbol\u001b[0m",
      "\u001b[1m\u001b[31m  symbol:   method copy(java.util.Queue<java.lang.Integer>)\u001b[0m",
      "",
      "\u001b[1m\u001b[30m|   \u001b[1m\u001b[30m    Queue<Integer> copy2 = \u001b[0m\u001b[1m\u001b[30m\u001b[41mcopy\u001b[0m\u001b[1m\u001b[30m(que2);\u001b[0m",
      "\u001b[1m\u001b[31mcannot find symbol\u001b[0m",
      "\u001b[1m\u001b[31m  symbol:   method copy(java.util.Queue<java.lang.Integer>)\u001b[0m",
      "",
      "\u001b[1m\u001b[30m|   \u001b[1m\u001b[30m            \u001b[0m\u001b[1m\u001b[30m\u001b[41mque.insert\u001b[0m\u001b[1m\u001b[30m(copy1.remove());\u001b[0m",
      "\u001b[1m\u001b[31mcannot find symbol\u001b[0m",
      "\u001b[1m\u001b[31m  symbol:   method insert(java.lang.Integer)\u001b[0m",
      "",
      "\u001b[1m\u001b[30m|   \u001b[1m\u001b[30m            \u001b[0m\u001b[1m\u001b[30m\u001b[41mque.insert\u001b[0m\u001b[1m\u001b[30m(copy2.remove());\u001b[0m",
      "\u001b[1m\u001b[31mcannot find symbol\u001b[0m",
      "\u001b[1m\u001b[31m  symbol:   method insert(java.lang.Integer)\u001b[0m",
      "",
      "\u001b[1m\u001b[30m|   \u001b[1m\u001b[30m        if (\u001b[0m\u001b[1m\u001b[30m\u001b[41mcopy1.head\u001b[0m\u001b[1m\u001b[30m() < copy2.head()) {\u001b[0m",
      "\u001b[1m\u001b[31mcannot find symbol\u001b[0m",
      "\u001b[1m\u001b[31m  symbol:   method head()\u001b[0m",
      "",
      "\u001b[1m\u001b[30m|   \u001b[1m\u001b[30m        if (copy1.head() < \u001b[0m\u001b[1m\u001b[30m\u001b[41mcopy2.head\u001b[0m\u001b[1m\u001b[30m()) {\u001b[0m",
      "\u001b[1m\u001b[31mcannot find symbol\u001b[0m",
      "\u001b[1m\u001b[31m  symbol:   method head()\u001b[0m",
      "",
      "\u001b[1m\u001b[30m|   \u001b[1m\u001b[30m            \u001b[0m\u001b[1m\u001b[30m\u001b[41mque.insert\u001b[0m\u001b[1m\u001b[30m(copy1.remove());\u001b[0m",
      "\u001b[1m\u001b[31mcannot find symbol\u001b[0m",
      "\u001b[1m\u001b[31m  symbol:   method insert(java.lang.Integer)\u001b[0m",
      "",
      "\u001b[1m\u001b[30m|   \u001b[1m\u001b[30m            \u001b[0m\u001b[1m\u001b[30m\u001b[41mque.insert\u001b[0m\u001b[1m\u001b[30m(copy2.remove());\u001b[0m",
      "\u001b[1m\u001b[31mcannot find symbol\u001b[0m",
      "\u001b[1m\u001b[31m  symbol:   method insert(java.lang.Integer)\u001b[0m",
      ""
     ]
    }
   ],
   "source": [
    "Queue<Integer> merge(Queue<Integer> que1, Queue<Integer> que2) {\n",
    "    Queue<Integer> que = new Queue<Integer>();\n",
    "    Queue<Integer> copy1 = copy(que1);\n",
    "    Queue<Integer> copy2 = copy(que2);\n",
    "    while (!copy1.isEmpty() && !copy2.isEmpty()) {\n",
    "        if (copy2.isEmpty()) {\n",
    "            que.insert(copy1.remove());\n",
    "        } else\n",
    "        if (copy1.isEmpty()) {\n",
    "            que.insert(copy2.remove());\n",
    "        } else\n",
    "        if (copy1.head() < copy2.head()) {\n",
    "            que.insert(copy1.remove());\n",
    "        } else {\n",
    "            que.insert(copy2.remove());\n",
    "        }\n",
    "    }\n",
    "    return que;\n",
    "}"
   ]
  }
 ],
 "metadata": {
  "kernelspec": {
   "display_name": "Java",
   "language": "java",
   "name": "java"
  },
  "language_info": {
   "codemirror_mode": "java",
   "file_extension": ".jshell",
   "mimetype": "text/x-java-source",
   "name": "Java",
   "pygments_lexer": "java",
   "version": "21.0.4+7-LTS"
  }
 },
 "nbformat": 4,
 "nbformat_minor": 2
}
