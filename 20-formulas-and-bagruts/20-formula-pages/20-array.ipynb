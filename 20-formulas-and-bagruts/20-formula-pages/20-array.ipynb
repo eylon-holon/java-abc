{
 "cells": [
  {
   "cell_type": "code",
   "execution_count": 1,
   "metadata": {},
   "outputs": [],
   "source": [
    "%load ../formulas"
   ]
  },
  {
   "cell_type": "code",
   "execution_count": null,
   "metadata": {},
   "outputs": [],
   "source": [
    "boolean startsWith(int[] prefix, int[] arr) {\n",
    "    if (prefix.length > arr.length) {\n",
    "        return false;\n",
    "    }\n",
    "    for (int i = 0; i < prefix.length; i++) {\n",
    "        if (prefix[i] != arr[i]) {\n",
    "            return false;\n",
    "        }\n",
    "    }\n",
    "    return true;\n",
    "}"
   ]
  },
  {
   "cell_type": "code",
   "execution_count": null,
   "metadata": {},
   "outputs": [],
   "source": [
    "boolean endsWith(int[] suffix, int[] arr) {\n",
    "    if (suffix.length > arr.length) {\n",
    "        return false;\n",
    "    }\n",
    "    for (int i = 0; i < suffix.length; i++) {\n",
    "        int n1 = suffix[suffix.length - i - 1];\n",
    "        int n2 = arr[arr.length - i - 1];\n",
    "        if (n1 != n2) {\n",
    "            return false;\n",
    "        }\n",
    "    }\n",
    "    return true;\n",
    "}"
   ]
  },
  {
   "cell_type": "code",
   "execution_count": null,
   "metadata": {},
   "outputs": [],
   "source": [
    "int[] countFrequences(int[] arr) {\n",
    "    int[] freqs = new int[arr.length];\n",
    "    for (int i = 0; i < arr.length; i++) {\n",
    "        freqs[arr[i]]++;\n",
    "    }\n",
    "    return freqs;\n",
    "}"
   ]
  },
  {
   "cell_type": "code",
   "execution_count": null,
   "metadata": {},
   "outputs": [],
   "source": [
    "boolean isSorted(int[] arr) {\n",
    "    for (int i = 1; i < arr.length; i++) {\n",
    "        if (arr[i-1] > arr[i]) {\n",
    "            return false;\n",
    "        }\n",
    "    }\n",
    "    return true;\n",
    "}"
   ]
  },
  {
   "cell_type": "code",
   "execution_count": null,
   "metadata": {},
   "outputs": [],
   "source": [
    "int[] merge(int[] a, int[] b) {\n",
    "    int count = a.length + b.length;\n",
    "    int[] c = new int[count];\n",
    "    int iA = 0;\n",
    "    int iB = 0;\n",
    "    for (int i = 0; i < count; i++) {\n",
    "        if (iB == b.length) {\n",
    "            c[i] = a[iA];\n",
    "            iA++;\n",
    "        } else \n",
    "        if (iA == a.length) {\n",
    "            c[i] = b[iB];\n",
    "            iB++;\n",
    "        } else\n",
    "        if (a[iA] < b[iB]) {\n",
    "            c[i] = a[iA];\n",
    "            iA++;\n",
    "        } else {\n",
    "            c[i] = b[iB];\n",
    "            iB++;\n",
    "        }\n",
    "    }\n",
    "    return c;\n",
    "}"
   ]
  }
 ],
 "metadata": {
  "kernelspec": {
   "display_name": "Java",
   "language": "java",
   "name": "java"
  },
  "language_info": {
   "codemirror_mode": "java",
   "file_extension": ".jshell",
   "mimetype": "text/x-java-source",
   "name": "java",
   "pygments_lexer": "java",
   "version": "23+37-2369"
  }
 },
 "nbformat": 4,
 "nbformat_minor": 2
}
