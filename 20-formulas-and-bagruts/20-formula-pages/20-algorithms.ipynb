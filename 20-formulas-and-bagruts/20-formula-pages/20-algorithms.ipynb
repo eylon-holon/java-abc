{
 "cells": [
  {
   "cell_type": "code",
   "execution_count": 1,
   "metadata": {},
   "outputs": [],
   "source": [
    "%load ../formulas"
   ]
  },
  {
   "cell_type": "code",
   "execution_count": 2,
   "metadata": {},
   "outputs": [],
   "source": [
    "public static\n",
    "int[] countFrequences(int[] arr) {\n",
    "    int[] freqs = new int[arr.length];\n",
    "    for (int i = 0; i < arr.length; i++) {\n",
    "        freqs[arr[i]]++;\n",
    "    }\n",
    "    return freqs;\n",
    "}"
   ]
  }
 ],
 "metadata": {
  "kernelspec": {
   "display_name": "Java",
   "language": "java",
   "name": "java"
  },
  "language_info": {
   "codemirror_mode": "java",
   "file_extension": ".jshell",
   "mimetype": "text/x-java-source",
   "name": "java",
   "pygments_lexer": "java",
   "version": "23+37-2369"
  }
 },
 "nbformat": 4,
 "nbformat_minor": 2
}
