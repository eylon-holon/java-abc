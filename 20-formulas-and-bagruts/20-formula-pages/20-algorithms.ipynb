{
 "cells": [
  {
   "cell_type": "code",
   "execution_count": 1,
   "metadata": {},
   "outputs": [],
   "source": [
    "%load ../formulas"
   ]
  },
  {
   "cell_type": "code",
   "execution_count": null,
   "metadata": {},
   "outputs": [],
   "source": [
    "int[] countFrequences(int[] arr) {\n",
    "    int[] freqs = new int[arr.length];\n",
    "    for (int i = 0; i < arr.length; i++) {\n",
    "        freqs[arr[i]]++;\n",
    "    }\n",
    "    return freqs;\n",
    "}"
   ]
  },
  {
   "cell_type": "markdown",
   "metadata": {},
   "source": [
    "![](../img/img_00279.png)"
   ]
  },
  {
   "cell_type": "code",
   "execution_count": null,
   "metadata": {},
   "outputs": [],
   "source": [
    "boolean bDividesA(int[] a, int[] b) {\n",
    "    int[] primes = new int[100];\n",
    "    for (int i = 0; i < a.length; i++) {\n",
    "        primes[a[i]]++;\n",
    "    }\n",
    "    for (int i = 0; i < b.length; i++) {\n",
    "        primes[b[i]]--;\n",
    "    }\n",
    "    for (int i = 0; i < primes.length; i++) {\n",
    "        if (primes[i] < 0) {\n",
    "            return false;\n",
    "        }\n",
    "    }\n",
    "    return true;\n",
    "}"
   ]
  }
 ],
 "metadata": {
  "kernelspec": {
   "display_name": "Java",
   "language": "java",
   "name": "java"
  },
  "language_info": {
   "codemirror_mode": "java",
   "file_extension": ".jshell",
   "mimetype": "text/x-java-source",
   "name": "java",
   "pygments_lexer": "java",
   "version": "23+37-2369"
  }
 },
 "nbformat": 4,
 "nbformat_minor": 2
}
