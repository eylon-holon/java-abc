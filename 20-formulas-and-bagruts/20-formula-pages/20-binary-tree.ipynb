{
 "cells": [
  {
   "cell_type": "code",
   "execution_count": 1,
   "metadata": {},
   "outputs": [],
   "source": [
    "%load ../formulas"
   ]
  },
  {
   "cell_type": "markdown",
   "metadata": {},
   "source": [
    "| BinNode class  | הסבר  |\n",
    "|---|---|\n",
    "| <l style=\"font-family:monospace\"> BinNode(T value) <br> BinNode(T value, BinNode\\<T\\> left, BinNode\\<T\\> right) | פעולה בונה |\n",
    "| <l style=\"font-family:monospace\"> T getValue()                   |  ערך של חוליה |\n",
    "| <l style=\"font-family:monospace\"> T getLeft()                   | חוליה left |\n",
    "| <l style=\"font-family:monospace\"> T getRight()                   | חוליה right |\n",
    "| <l style=\"font-family:monospace\"> T hasLeft()                   | <l style=\"font-family:monospace\"> getLeft() != null |\n",
    "| <l style=\"font-family:monospace\"> T hasRight()                   | <l style=\"font-family:monospace\"> getRight() != null |\n",
    "| <l style=\"font-family:monospace\"> void setValue(T value)           |  לשנות ערך של חוליה |\n",
    "| <l style=\"font-family:monospace\"> void setLeft(Node\\<T\\> left)                   | לשנות את left |\n",
    "| <l style=\"font-family:monospace\"> void setRight(Node\\<T\\> right)                   | לשנות את right |"
   ]
  },
  {
   "cell_type": "code",
   "execution_count": null,
   "metadata": {},
   "outputs": [],
   "source": [
    "int countNodes(BinNode<Integer> node) {\n",
    "    if (node == null) {\n",
    "        return 0;\n",
    "    }\n",
    "    return 1 + \n",
    "        count(node.getLeft()) + \n",
    "        count(node.getRight());\n",
    "}"
   ]
  },
  {
   "cell_type": "code",
   "execution_count": null,
   "metadata": {},
   "outputs": [],
   "source": [
    "int countValue(BinNode<Integer> node, int num) {\n",
    "    if (node == null) {\n",
    "        return 0;\n",
    "    }\n",
    "    int me = 0;\n",
    "    if (node.getValue() == num) {\n",
    "        me = 1;\n",
    "    }\n",
    "    return me + \n",
    "        count(node.getLeft(), num) + \n",
    "        count(node.getRight(), num);\n",
    "}"
   ]
  },
  {
   "cell_type": "code",
   "execution_count": null,
   "metadata": {},
   "outputs": [],
   "source": [
    "int countLeaves(BinNode<Integer> node) {\n",
    "    if (node == null) {\n",
    "        return 0;\n",
    "    }\n",
    "    if (node.getLeft() == null && \n",
    "        node.getRight() == null) {\n",
    "        return 1;\n",
    "    }\n",
    "    return \n",
    "        countLeaves(node.getLeft()) + \n",
    "        countLeaves(node.getRight());\n",
    "}"
   ]
  },
  {
   "cell_type": "code",
   "execution_count": null,
   "metadata": {},
   "outputs": [],
   "source": [
    "boolean contains(BinNode<Integer> node, int num) {\n",
    "    if (node == null) {\n",
    "        return false;\n",
    "    }\n",
    "    if (node.getValue() == num) {\n",
    "        return true;\n",
    "    }\n",
    "    return\n",
    "        contains(node.getLeft(), num) || \n",
    "        contains(node.getRight(), num);\n",
    "}"
   ]
  },
  {
   "cell_type": "code",
   "execution_count": null,
   "metadata": {},
   "outputs": [],
   "source": [
    "boolean prefix(BinNode<Integer> node, Node<Integer> list) {\n",
    "    if (list == null) {\n",
    "        return true;\n",
    "    }\n",
    "    if (node == null) {\n",
    "        return false;\n",
    "    }\n",
    "    if (node.getValue() != list.getValue()) {\n",
    "        return false;\n",
    "    }\n",
    "    return \n",
    "        prefix(node.getLeft(), list.getNext()) || \n",
    "        prefix(node.getRight(), list.getNext());\n",
    "}"
   ]
  },
  {
   "cell_type": "code",
   "execution_count": null,
   "metadata": {},
   "outputs": [],
   "source": [
    "boolean prefix(BinNode<Character> node, String str) {\n",
    "    if (str.isEmpty()) {\n",
    "        return true;\n",
    "    }\n",
    "    if (node == null) {\n",
    "        return false;\n",
    "    }\n",
    "    if (node.getValue() != str.charAt(0)) {\n",
    "        return false;\n",
    "    }\n",
    "    return \n",
    "        prefix(node.getLeft(), str.substring(1)) || \n",
    "        prefix(node.getRight(), str.substring(1));\n",
    "}"
   ]
  },
  {
   "cell_type": "code",
   "execution_count": null,
   "metadata": {},
   "outputs": [],
   "source": [
    "boolean sameValues(BinNode<Integer> l1, BinNode<Integer> l2) {\n",
    "    if (l1 == null && l2 == null) {\n",
    "        return true;\n",
    "    }\n",
    "    if (l1 == null || l2 == null) {\n",
    "        return false;\n",
    "    }\n",
    "    return l1.getValue() == l2.getValue() &&\n",
    "        same(l1.getLeft(), l2.getLeft()) &&\n",
    "        same(l1.getRight(), l2.getRight());\n",
    "}"
   ]
  },
  {
   "cell_type": "code",
   "execution_count": null,
   "metadata": {},
   "outputs": [],
   "source": [
    "int depth(BinNode<Integer> node) {\n",
    "    if (node == null) {\n",
    "        return 0;\n",
    "    }\n",
    "    return 1 + Math.max(\n",
    "        depth(node.getLeft()), \n",
    "        depth(node.getRight()));\n",
    "}"
   ]
  },
  {
   "cell_type": "code",
   "execution_count": null,
   "metadata": {},
   "outputs": [],
   "source": [
    "int findMinPath(BinNode<Integer> node) {\n",
    "    if (node == null) {\n",
    "        return 0;\n",
    "    }\n",
    "    return node.getValue() + Math.min(\n",
    "        findMinPath(node.getLeft()), \n",
    "        findMinPath(node.getRight()));\n",
    "}"
   ]
  },
  {
   "cell_type": "code",
   "execution_count": null,
   "metadata": {},
   "outputs": [],
   "source": [
    "int findMaxPath(BinNode<Integer> node) {\n",
    "    if (node == null) {\n",
    "        return 0;\n",
    "    }\n",
    "    return node.getValue() + Math.max(\n",
    "        findMaxPath(node.getLeft()), \n",
    "        findMaxPath(node.getRight()));\n",
    "}"
   ]
  },
  {
   "cell_type": "code",
   "execution_count": null,
   "metadata": {},
   "outputs": [],
   "source": [
    "boolean isBalanced(BinNode<Integer> node) {\n",
    "    if (node == null) {\n",
    "        return true;\n",
    "    }\n",
    "\n",
    "    int balance = Math.abs(\n",
    "        count(node.getLeft()) - \n",
    "        count(node.getRight()));\n",
    "\n",
    "    return balance <= 1 &&\n",
    "        isBalanced(node.getLeft()) &&\n",
    "        isBalanced(node.getRight());\n",
    "}"
   ]
  },
  {
   "cell_type": "code",
   "execution_count": null,
   "metadata": {},
   "outputs": [],
   "source": [
    "void printInOrder(BinNode<Integer> node) {\n",
    "    if (node == null) {\n",
    "        return;\n",
    "    }\n",
    "    printInOrder(node.getLeft());\n",
    "    System.out.print(node.getValue() + \" \");\n",
    "    printInOrder(node.getRight());\n",
    "}"
   ]
  },
  {
   "cell_type": "code",
   "execution_count": null,
   "metadata": {},
   "outputs": [],
   "source": [
    "void printPreOrder(BinNode<Integer> node) {\n",
    "    if (node == null) {\n",
    "        return;\n",
    "    }\n",
    "    System.out.print(node.getValue() + \" \");\n",
    "    printPreOrder(node.getLeft());\n",
    "    printPreOrder(node.getRight());\n",
    "}"
   ]
  },
  {
   "cell_type": "code",
   "execution_count": null,
   "metadata": {},
   "outputs": [],
   "source": [
    "void printPostOrder(BinNode<Integer> node) {\n",
    "    if (node == null) {\n",
    "        return;\n",
    "    }\n",
    "    printPostOrder(node.getLeft());\n",
    "    printPostOrder(node.getRight());\n",
    "    System.out.print(node.getValue() + \" \");\n",
    "}"
   ]
  },
  {
   "cell_type": "code",
   "execution_count": null,
   "metadata": {},
   "outputs": [],
   "source": [
    "void printByLevels(BinNode<Integer> node) {\n",
    "    if (node == null) {\n",
    "        return;\n",
    "    }\n",
    "    Queue<BinNode<Integer>> que = new Queue<>();\n",
    "    que.insert(node);\n",
    "    while (!que.isEmpty()) {\n",
    "        BinNode<Integer> current = que.remove();\n",
    "        System.out.print(current.getValue() + \" \");\n",
    "        if (current.getLeft() != null) {\n",
    "            que.insert(current.getLeft());\n",
    "        }\n",
    "        if (current.getRight() != null) {\n",
    "            que.insert(current.getRight());\n",
    "        }\n",
    "    }\n",
    "}"
   ]
  }
 ],
 "metadata": {
  "kernelspec": {
   "display_name": "Java",
   "language": "java",
   "name": "java"
  },
  "language_info": {
   "codemirror_mode": "java",
   "file_extension": ".jshell",
   "mimetype": "text/x-java-source",
   "name": "java",
   "pygments_lexer": "java",
   "version": "23+37-2369"
  }
 },
 "nbformat": 4,
 "nbformat_minor": 2
}
