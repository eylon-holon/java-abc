{
 "cells": [
  {
   "cell_type": "code",
   "execution_count": 1,
   "metadata": {},
   "outputs": [],
   "source": [
    "%load ../formulas"
   ]
  },
  {
   "cell_type": "markdown",
   "metadata": {},
   "source": [
    "| BinNode class  | הסבר  |\n",
    "|---|---|\n",
    "| <l style=\"font-family:monospace\"> BinNode(T value) <br> BinNode(T value, BinNode\\<T\\> left, BinNode\\<T\\> right) | פעולה בונה |\n",
    "| <l style=\"font-family:monospace\"> T getValue()                   |  ערך של חוליה |\n",
    "| <l style=\"font-family:monospace\"> T getLeft()                   | חוליה left |\n",
    "| <l style=\"font-family:monospace\"> T getRight()                   | חוליה right |\n",
    "| <l style=\"font-family:monospace\"> T hasLeft()                   | <l style=\"font-family:monospace\"> getLeft() != null |\n",
    "| <l style=\"font-family:monospace\"> T hasRight()                   | <l style=\"font-family:monospace\"> getRight() != null |\n",
    "| <l style=\"font-family:monospace\"> void setValue(T value)           |  לשנות ערך של חוליה |\n",
    "| <l style=\"font-family:monospace\"> void setLeft(Node\\<T\\> left)                   | לשנות את left |\n",
    "| <l style=\"font-family:monospace\"> void setRight(Node\\<T\\> right)                   | לשנות את right |"
   ]
  },
  {
   "cell_type": "code",
   "execution_count": null,
   "metadata": {},
   "outputs": [],
   "source": [
    "int countNodes(BinNode<Integer> node) {\n",
    "    if (node == null) {\n",
    "        return 0;\n",
    "    }\n",
    "    return 1 + \n",
    "        count(node.getLeft()) + \n",
    "        count(node.getRight());\n",
    "}"
   ]
  },
  {
   "cell_type": "code",
   "execution_count": null,
   "metadata": {},
   "outputs": [],
   "source": [
    "int countValue(BinNode<Integer> node, int num) {\n",
    "    if (node == null) {\n",
    "        return 0;\n",
    "    }\n",
    "    int me = 0;\n",
    "    if (node.getValue() == num) {\n",
    "        me = 1;\n",
    "    }\n",
    "    return me + \n",
    "        count(node.getLeft(), num) + \n",
    "        count(node.getRight(), num);\n",
    "}"
   ]
  },
  {
   "cell_type": "code",
   "execution_count": null,
   "metadata": {},
   "outputs": [],
   "source": [
    "int countLeaves(BinNode<Integer> node) {\n",
    "    if (node == null) {\n",
    "        return 0;\n",
    "    }\n",
    "    if (node.getLeft() == null && \n",
    "        node.getRight() == null) {\n",
    "        return 1;\n",
    "    }\n",
    "    return \n",
    "        countLeaves(node.getLeft()) + \n",
    "        countLeaves(node.getRight());\n",
    "}"
   ]
  },
  {
   "cell_type": "code",
   "execution_count": null,
   "metadata": {},
   "outputs": [],
   "source": [
    "boolean contains(BinNode<Integer> node, int num) {\n",
    "    if (node == null) {\n",
    "        return false;\n",
    "    }\n",
    "    if (node.getValue() == num) {\n",
    "        return true;\n",
    "    }\n",
    "    return\n",
    "        contains(node.getLeft(), num) || \n",
    "        contains(node.getRight(), num);\n",
    "}"
   ]
  },
  {
   "cell_type": "code",
   "execution_count": null,
   "metadata": {},
   "outputs": [],
   "source": [
    "boolean prefix(BinNode<Integer> node, Node<Integer> list) {\n",
    "    if (list == null) {\n",
    "        return true;\n",
    "    }\n",
    "    if (node == null) {\n",
    "        return false;\n",
    "    }\n",
    "    if (node.getValue() != list.getValue()) {\n",
    "        return false;\n",
    "    }\n",
    "    return \n",
    "        prefix(node.getLeft(), list.getNext()) || \n",
    "        prefix(node.getRight(), list.getNext());\n",
    "}"
   ]
  },
  {
   "cell_type": "code",
   "execution_count": null,
   "metadata": {},
   "outputs": [],
   "source": [
    "boolean prefix(BinNode<Character> node, String str) {\n",
    "    if (str.isEmpty()) {\n",
    "        return true;\n",
    "    }\n",
    "    if (node == null) {\n",
    "        return false;\n",
    "    }\n",
    "    if (node.getValue() != str.charAt(0)) {\n",
    "        return false;\n",
    "    }\n",
    "    return \n",
    "        prefix(node.getLeft(), str.substring(1)) || \n",
    "        prefix(node.getRight(), str.substring(1));\n",
    "}"
   ]
  },
  {
   "cell_type": "code",
   "execution_count": null,
   "metadata": {},
   "outputs": [],
   "source": [
    "boolean sameValues(BinNode<Integer> l1, BinNode<Integer> l2) {\n",
    "    if (l1 == null && l2 == null) {\n",
    "        return true;\n",
    "    }\n",
    "    if (l1 == null || l2 == null) {\n",
    "        return false;\n",
    "    }\n",
    "    return l1.getValue() == l2.getValue() &&\n",
    "        same(l1.getLeft(), l2.getLeft()) &&\n",
    "        same(l1.getRight(), l2.getRight());\n",
    "}"
   ]
  },
  {
   "cell_type": "code",
   "execution_count": null,
   "metadata": {},
   "outputs": [],
   "source": [
    "int depth(BinNode<Integer> node) {\n",
    "    if (node == null) {\n",
    "        return 0;\n",
    "    }\n",
    "    return 1 + Math.max(\n",
    "        depth(node.getLeft()), \n",
    "        depth(node.getRight()));\n",
    "}"
   ]
  },
  {
   "cell_type": "code",
   "execution_count": null,
   "metadata": {},
   "outputs": [],
   "source": [
    "int findMinPath(BinNode<Integer> node) {\n",
    "    if (node == null) {\n",
    "        return 0;\n",
    "    }\n",
    "    return node.getValue() + Math.min(\n",
    "        findMinPath(node.getLeft()), \n",
    "        findMinPath(node.getRight()));\n",
    "}"
   ]
  },
  {
   "cell_type": "code",
   "execution_count": null,
   "metadata": {},
   "outputs": [],
   "source": [
    "int findMaxPath(BinNode<Integer> node) {\n",
    "    if (node == null) {\n",
    "        return 0;\n",
    "    }\n",
    "    return node.getValue() + Math.max(\n",
    "        findMaxPath(node.getLeft()), \n",
    "        findMaxPath(node.getRight()));\n",
    "}"
   ]
  },
  {
   "cell_type": "code",
   "execution_count": null,
   "metadata": {},
   "outputs": [],
   "source": [
    "boolean isBalanced(BinNode<Integer> node) {\n",
    "    if (node == null) {\n",
    "        return true;\n",
    "    }\n",
    "\n",
    "    int balance = Math.abs(\n",
    "        count(node.getLeft()) - \n",
    "        count(node.getRight()));\n",
    "\n",
    "    return balance <= 1 &&\n",
    "        isBalanced(node.getLeft()) &&\n",
    "        isBalanced(node.getRight());\n",
    "}"
   ]
  },
  {
   "cell_type": "code",
   "execution_count": null,
   "metadata": {},
   "outputs": [
    {
     "ename": "CompilationException",
     "evalue": "",
     "output_type": "error",
     "traceback": [
      "\u001b[1m\u001b[30m|   \u001b[1m\u001b[30mboolean tar1(\u001b[0m\u001b[1m\u001b[30m\u001b[41mBinNode\u001b[0m\u001b[1m\u001b[30m<Integer> node, int num) {\u001b[0m",
      "\u001b[1m\u001b[31mcannot find symbol\u001b[0m",
      "\u001b[1m\u001b[31m  symbol:   class BinNode\u001b[0m",
      "",
      "\u001b[1m\u001b[30m|   \u001b[1m\u001b[30m        \u001b[0m\u001b[1m\u001b[30m\u001b[41mreturn;\u001b[0m\u001b[1m\u001b[30m\u001b[0m",
      "\u001b[1m\u001b[31mincompatible types: missing return value\u001b[0m",
      "",
      "\u001b[1m\u001b[30m|   \u001b[1m\u001b[30mboolean tar1(BinNode<Integer> node, int num) \u001b[0m\u001b[1m\u001b[30m\u001b[41m{\u001b[0m",
      "\u001b[1m\u001b[30m|   \u001b[1m\u001b[30m\u001b[41m    int sum;\u001b[0m",
      "\u001b[1m\u001b[30m|   \u001b[1m\u001b[30m\u001b[41m    if (node == null) {\u001b[0m",
      "\u001b[1m\u001b[30m|   \u001b[1m\u001b[30m\u001b[41m        return;\u001b[0m",
      "\u001b[1m\u001b[30m|   \u001b[1m\u001b[30m\u001b[41m    }\u001b[0m",
      "\u001b[1m\u001b[30m|   \u001b[1m\u001b[30m\u001b[41m    sum = sum+ node.getValue();\u001b[0m",
      "\u001b[1m\u001b[30m|   \u001b[1m\u001b[30m\u001b[41m    if (num==sum)\u001b[0m",
      "\u001b[1m\u001b[30m|   \u001b[1m\u001b[30m\u001b[41m        return true;\u001b[0m",
      "\u001b[1m\u001b[30m|   \u001b[1m\u001b[30m\u001b[41m    printInOrder(node.getLeft());\u001b[0m",
      "\u001b[1m\u001b[30m|   \u001b[1m\u001b[30m\u001b[41m    printInOrder(node.getRight());\u001b[0m",
      "\u001b[1m\u001b[30m|   \u001b[1m\u001b[30m\u001b[41m}\u001b[0m",
      "\u001b[1m\u001b[31mmissing return statement\u001b[0m",
      "",
      "\u001b[1m\u001b[30m|   \u001b[1m\u001b[30m    sum = \u001b[0m\u001b[1m\u001b[30m\u001b[41msum\u001b[0m\u001b[1m\u001b[30m+ node.getValue();\u001b[0m",
      "\u001b[1m\u001b[31mvariable sum might not have been initialized\u001b[0m",
      ""
     ]
    }
   ],
   "source": [
    "boolean tar1(BinNode<Integer> node, int num) {\n",
    "    int sum;\n",
    "    if (node == null) {\n",
    "        return false;\n",
    "    }\n",
    "    sum = sum+ node.getValue();\n",
    "    if (num==sum)\n",
    "        return true;\n",
    "    printInOrder(node.getLeft());\n",
    "    printInOrder(node.getRight());\n",
    "}"
   ]
  },
  {
   "cell_type": "code",
   "execution_count": null,
   "metadata": {},
   "outputs": [],
   "source": [
    "void printPreOrder(BinNode<Integer> node) {\n",
    "    if (node == null) {\n",
    "        return;\n",
    "    }\n",
    "    System.out.print(node.getValue() + \" \");\n",
    "    printPreOrder(node.getLeft());\n",
    "    printPreOrder(node.getRight());\n",
    "}"
   ]
  },
  {
   "cell_type": "code",
   "execution_count": null,
   "metadata": {},
   "outputs": [],
   "source": [
    "void printPostOrder(BinNode<Integer> node) {\n",
    "    if (node == null) {\n",
    "        return;\n",
    "    }\n",
    "    printPostOrder(node.getLeft());\n",
    "    printPostOrder(node.getRight());\n",
    "    System.out.print(node.getValue() + \" \");\n",
    "}"
   ]
  },
  {
   "cell_type": "code",
   "execution_count": null,
   "metadata": {},
   "outputs": [],
   "source": [
    "void printByLevels(BinNode<Integer> node) {\n",
    "    if (node == null) {\n",
    "        return;\n",
    "    }\n",
    "    Queue<BinNode<Integer>> que = new Queue<>();\n",
    "    que.insert(node);\n",
    "    while (!que.isEmpty()) {\n",
    "        BinNode<Integer> current = que.remove();\n",
    "        System.out.print(current.getValue() + \" \");\n",
    "        if (current.getLeft() != null) {\n",
    "            que.insert(current.getLeft());\n",
    "        }\n",
    "        if (current.getRight() != null) {\n",
    "            que.insert(current.getRight());\n",
    "        }\n",
    "    }\n",
    "}"
   ]
  },
  {
   "cell_type": "code",
   "execution_count": null,
   "metadata": {},
   "outputs": [],
   "source": [
    "BinNode<T> copy(BinNode<T> node) {\n",
    "    if (node == null) {\n",
    "        return null;\n",
    "    }\n",
    "    BinNode<T> node2 = new BinNode<T>(\n",
    "        node.getValue(),\n",
    "        copy(node.getLeft()), \n",
    "        copy(node.getRight())\n",
    "    );\n",
    "    return node2;\n",
    "}"
   ]
  }
 ],
 "metadata": {
  "kernelspec": {
   "display_name": "Java",
   "language": "java",
   "name": "java"
  },
  "language_info": {
   "codemirror_mode": "java",
   "file_extension": ".jshell",
   "mimetype": "text/x-java-source",
   "name": "java",
   "pygments_lexer": "java",
   "version": "21.0.4+7-LTS"
  }
 },
 "nbformat": 4,
 "nbformat_minor": 2
}
