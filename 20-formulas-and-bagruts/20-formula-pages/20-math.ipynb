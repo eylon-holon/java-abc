{
 "cells": [
  {
   "cell_type": "markdown",
   "id": "10682450",
   "metadata": {
    "vscode": {
     "languageId": "java"
    }
   },
   "source": [
    "| Math class | Example | הסבר  |\n",
    "|---|---|---|\n",
    "| <l style=\"font-family:monospace\"> abs(x)      | <l style=\"font-family:monospace\"> int diff = Math.abs(a[i] - a[i-1]); | ערך מוחלט |\n",
    "| <l style=\"font-family:monospace\"> pow(x, y)   | <l style=\"font-family:monospace\"> int p = Math.pow(2, 5); | $2^5 \\rightarrow 32$ |\n",
    "| <l style=\"font-family:monospace\"> sqrt(x)     | <l style=\"font-family:monospace\"> int x = Math.sqrt(100); | $\\sqrt{100} \\rightarrow 10$ |\n",
    "| <l style=\"font-family:monospace\"> min(x)      | <l style=\"font-family:monospace\"> min = Math.min(min, a[i]); | המינימום בין שני ערכים |\n",
    "| <l style=\"font-family:monospace\"> max(x)      | <l style=\"font-family:monospace\"> max = Math.max(max, a[i]); | המקסימום בין שני ערכים |\n",
    "| <l style=\"font-family:monospace\"> random(x)   | <l style=\"font-family:monospace\"> int num = (int) (Math.random() * 10); <br> int num = (int) (Math.random() * (100-90) + 90); | מספר אקראי מ-0 עד 10 (לא כולל 10) <br> מספר אקראי מ-90 עד 100 (לא כולל 100)|\n"
   ]
  }
 ],
 "metadata": {
  "kernelspec": {
   "display_name": "Java",
   "language": "java",
   "name": "java"
  },
  "language_info": {
   "codemirror_mode": "java",
   "file_extension": ".jshell",
   "mimetype": "text/x-java-source",
   "name": "Java",
   "pygments_lexer": "java",
   "version": "23+37-2369"
  }
 },
 "nbformat": 4,
 "nbformat_minor": 5
}
