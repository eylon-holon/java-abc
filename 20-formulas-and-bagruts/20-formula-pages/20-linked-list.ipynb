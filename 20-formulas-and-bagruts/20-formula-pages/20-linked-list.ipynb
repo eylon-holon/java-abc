{
 "cells": [
  {
   "cell_type": "code",
   "execution_count": null,
   "metadata": {
    "vscode": {
     "languageId": "java"
    }
   },
   "outputs": [],
   "source": [
    "%load ../formulas"
   ]
  },
  {
   "cell_type": "markdown",
   "metadata": {},
   "source": [
    "| Node class  | הסבר  |\n",
    "|---|---|\n",
    "| <l style=\"font-family:monospace\"> Node(T value) <br> Node(T value, Node\\<T\\> next) | פעולה בונה |\n",
    "| <l style=\"font-family:monospace\"> T getValue()                   |  ערך של חוליה |\n",
    "| <l style=\"font-family:monospace\"> T getNext()                   | חוליה הבא |\n",
    "| <l style=\"font-family:monospace\"> T hasNext()                   | <l style=\"font-family:monospace\"> getNext() != null |\n",
    "| <l style=\"font-family:monospace\"> void setValue(T value)           |  לשנות ערך של חוליה |\n",
    "| <l style=\"font-family:monospace\"> void setNext(Node\\<T\\> next)                   | לשנות את חוליה הבא |"
   ]
  },
  {
   "cell_type": "code",
   "execution_count": 1,
   "metadata": {
    "vscode": {
     "languageId": "java"
    }
   },
   "outputs": [],
   "source": [
    "class Student {\n",
    "    private String name;\n",
    "    private int age;\n",
    "    public Student(String name, int age) {\n",
    "        this.name = name;\n",
    "        this.age = age;\n",
    "    }\n",
    "    String getName() { return name; }\n",
    "    int getAge() { return age; }\n",
    "}"
   ]
  },
  {
   "cell_type": "code",
   "execution_count": null,
   "metadata": {
    "vscode": {
     "languageId": "java"
    }
   },
   "outputs": [
    {
     "ename": "SyntaxError",
     "evalue": "cannot assign to comparison (3598066979.py, line 1)",
     "output_type": "error",
     "traceback": [
      "\u001b[0;36m  Cell \u001b[0;32mIn[1], line 1\u001b[0;36m\u001b[0m\n\u001b[0;31m    Node<Integer> node2 = new Node<Integer>(20);\u001b[0m\n\u001b[0m    ^\u001b[0m\n\u001b[0;31mSyntaxError\u001b[0m\u001b[0;31m:\u001b[0m cannot assign to comparison\n"
     ]
    }
   ],
   "source": [
    "Node<Integer> node2 = new Node<Integer>(20);\n",
    "Node<Integer> node = new Node<Integer>(10, node2);\n",
    "node2.setNext(new Node<Integer>(30));\n",
    "Node<Student> node3 = new Node<Student>(new Student(\"Avi\", 21));\n",
    "\n",
    "print(node.getNext().getValue());           // 20\n",
    "print(node.getNext().getNext().getValue()); // 30\n",
    "print(node3.getValue().getName());          // Avi\n",
    "\n",
    "node.getNext().setNext(null);       // remove 30"
   ]
  },
  {
   "cell_type": "code",
   "execution_count": null,
   "metadata": {
    "vscode": {
     "languageId": "java"
    }
   },
   "outputs": [
    {
     "ename": "CompilationException",
     "evalue": "",
     "output_type": "error",
     "traceback": [
      "\u001b[1m\u001b[30m|   \u001b[1m\u001b[30mint countNodes(Node<Integer> node) {\u001b[0m",
      "\u001b[1m\u001b[30m|   \u001b[1m\u001b[30m    int count = 0;\u001b[0m",
      "\u001b[1m\u001b[30m|   \u001b[1m\u001b[30m    while (node != null) {\u001b[0m",
      "\u001b[1m\u001b[30m|   \u001b[1m\u001b[30m        count++;\u001b[0m",
      "\u001b[1m\u001b[30m|   \u001b[1m\u001b[30m        node = node.getNext();\u001b[0m",
      "\u001b[1m\u001b[30m|   \u001b[1m\u001b[30m    }\u001b[0m",
      "\u001b[1m\u001b[30m|   \u001b[1m\u001b[30m    return count;\u001b[0m",
      "\u001b[1m\u001b[30m|   \u001b[1m\u001b[30m}\u001b[0m",
      "\u001b[1m\u001b[31mUnresolved dependencies:\u001b[0m",
      "\u001b[1m\u001b[31m   - class Node\u001b[0m"
     ]
    }
   ],
   "source": [
    "int countNodes(Node<Integer> node) {\n",
    "    int count = 0;\n",
    "    while (node != null) {\n",
    "        count++;\n",
    "        node = node.getNext();\n",
    "    }\n",
    "    return count;\n",
    "}"
   ]
  },
  {
   "cell_type": "code",
   "execution_count": null,
   "metadata": {
    "vscode": {
     "languageId": "java"
    }
   },
   "outputs": [],
   "source": [
    "int countValue(Node<String> node, String str) {\n",
    "    int count = 0;\n",
    "    while (node != null) {\n",
    "        if (node.getValue().equals(str)) {\n",
    "            count++;\n",
    "        }\n",
    "        node = node.getNext();\n",
    "    }\n",
    "    return count;\n",
    "}"
   ]
  },
  {
   "cell_type": "code",
   "execution_count": null,
   "metadata": {
    "vscode": {
     "languageId": "java"
    }
   },
   "outputs": [],
   "source": [
    "boolean contains(Node<Integer> node, int num) {\n",
    "    while (node != null) {\n",
    "        if (node.getValue() == num) {\n",
    "            return true;\n",
    "        }\n",
    "        node = node.getNext();\n",
    "    }\n",
    "    return false;\n",
    "}"
   ]
  },
  {
   "cell_type": "code",
   "execution_count": null,
   "metadata": {
    "vscode": {
     "languageId": "java"
    }
   },
   "outputs": [],
   "source": [
    "boolean prefix(Node<Integer> prefix, Node<Integer> l2) {\n",
    "    while (prefix != null && l2 != null) {\n",
    "        if (prefix.getValue() != l2.getValue()) {\n",
    "            return false;\n",
    "        }\n",
    "        prefix = prefix.getNext();\n",
    "        l2 = l2.getNext();\n",
    "    }\n",
    "    return prefix == null;\n",
    "}"
   ]
  },
  {
   "cell_type": "code",
   "execution_count": null,
   "metadata": {
    "vscode": {
     "languageId": "java"
    }
   },
   "outputs": [],
   "source": [
    "int minValue(Node<Integer> node) {\n",
    "    int min = Integer.MAX_VALUE;\n",
    "    while (node != null) {\n",
    "        min = Math.min(min, node.getValue());\n",
    "        node = node.getNext();\n",
    "    }\n",
    "    return min;\n",
    "}\n"
   ]
  },
  {
   "cell_type": "code",
   "execution_count": null,
   "metadata": {
    "vscode": {
     "languageId": "java"
    }
   },
   "outputs": [],
   "source": [
    "boolean sameValues(Node<Integer> l1, Node<Integer> l2) {\n",
    "    while (l1 != null && l2 != null) {\n",
    "        if (l1.getValue() != l2.getValue()) {\n",
    "            return false;\n",
    "        }\n",
    "        l1 = l1.getNext();\n",
    "        l2 = l2.getNext();\n",
    "    }\n",
    "    return l1 == null && l2 == null;\n",
    "}"
   ]
  },
  {
   "cell_type": "code",
   "execution_count": null,
   "metadata": {
    "vscode": {
     "languageId": "java"
    }
   },
   "outputs": [],
   "source": [
    "boolean sameStudents(Node<Student> l1, Node<Student> l2) {\n",
    "    while (l1 != null && l2 != null) {\n",
    "        Student stu1 = l1.getValue();\n",
    "        Student stu2 = l2.getValue();\n",
    "        if (!stu1.getName().equals(stu2.getName()) || \n",
    "            stu1.getAge() != stu2.getAge()) {\n",
    "            return false;\n",
    "        }\n",
    "        l1 = l1.getNext();\n",
    "        l2 = l2.getNext();\n",
    "    }\n",
    "    return l1 == null && l2 == null;\n",
    "}"
   ]
  },
  {
   "cell_type": "code",
   "execution_count": null,
   "metadata": {
    "vscode": {
     "languageId": "java"
    }
   },
   "outputs": [],
   "source": [
    "Node<Integer> addToHead(Node<Integer> list, int num) {\n",
    "    Node<Integer> newNode = new Node<Integer>(num, list);\n",
    "    return newNode;\n",
    "}"
   ]
  },
  {
   "cell_type": "code",
   "execution_count": null,
   "metadata": {
    "vscode": {
     "languageId": "java"
    }
   },
   "outputs": [],
   "source": [
    "Node<Integer> addToTail(Node<Integer> list, int num) {\n",
    "    Node<Integer> newNode = new Node<Integer>(num);\n",
    "    if (list == null) {\n",
    "        return newNode;\n",
    "    }\n",
    "    Node<Integer> node = list;\n",
    "    while (node.getNext() != null) {\n",
    "        node = node.getNext();\n",
    "    }\n",
    "    node.setNext(newNode);\n",
    "    return list;\n",
    "}"
   ]
  },
  {
   "cell_type": "code",
   "execution_count": null,
   "metadata": {
    "vscode": {
     "languageId": "java"
    }
   },
   "outputs": [],
   "source": [
    "Node<Integer> addToOrdered(Node<Integer> list, int num) {\n",
    "    Node<Integer> newNode = new Node<Integer>(num);\n",
    "    if (list == null) {\n",
    "        return newNode;\n",
    "    }\n",
    "    if (num < list.getValue()) {\n",
    "        newNode.setNext(list);\n",
    "        return newNode;\n",
    "    }\n",
    "    Node<Integer> node = list;\n",
    "    while (node.getNext() != null && \n",
    "           node.getNext().getValue() < num) {\n",
    "        node = node.getNext();\n",
    "    }\n",
    "    newNode.setNext(node.getNext());\n",
    "    node.setNext(newNode);\n",
    "    return list;\n",
    "}"
   ]
  },
  {
   "cell_type": "code",
   "execution_count": null,
   "metadata": {
    "vscode": {
     "languageId": "java"
    }
   },
   "outputs": [],
   "source": [
    "Node<Integer> removeFromHead(Node<Integer> list) {\n",
    "    if (list == null) {\n",
    "        return null;\n",
    "    }\n",
    "    return list.getNext();\n",
    "}"
   ]
  },
  {
   "cell_type": "code",
   "execution_count": null,
   "metadata": {
    "vscode": {
     "languageId": "java"
    }
   },
   "outputs": [],
   "source": [
    "Node<Integer> removeFromTail(Node<Integer> list) {\n",
    "    if (list == null) {\n",
    "        return null;\n",
    "    }\n",
    "    if (list.getNext() == null) {\n",
    "        return null;\n",
    "    }\n",
    "    Node<Integer> node = list;\n",
    "    while (node.getNext().getNext() != null) {\n",
    "        node = node.getNext();\n",
    "    }\n",
    "    node.setNext(null);\n",
    "    return list;\n",
    "}"
   ]
  },
  {
   "cell_type": "code",
   "execution_count": null,
   "metadata": {
    "vscode": {
     "languageId": "java"
    }
   },
   "outputs": [],
   "source": [
    "Node<Integer> removeOne(Node<Integer> list, int num) {\n",
    "    if (list == null) {\n",
    "        return null;\n",
    "    }\n",
    "    if (list.getValue() == num) {\n",
    "        return list.getNext();\n",
    "    }\n",
    "    Node<Integer> node = list;\n",
    "    while (node.getNext() != null) {\n",
    "        if (node.getNext().getValue() == num) {\n",
    "            node.setNext(node.getNext().getNext());\n",
    "            return list;\n",
    "        }\n",
    "        node = node.getNext();\n",
    "    }\n",
    "    return list;\n",
    "}"
   ]
  },
  {
   "cell_type": "code",
   "execution_count": null,
   "metadata": {
    "vscode": {
     "languageId": "java"
    }
   },
   "outputs": [],
   "source": [
    "Node<Integer> removeAll(Node<Integer> list, int num) {\n",
    "    if (list == null) {\n",
    "        return null;\n",
    "    }\n",
    "    while (list != null && list.getValue() == num) {\n",
    "        list = list.getNext();\n",
    "    }\n",
    "    Node<Integer> node = list;\n",
    "    while (node != null && node.getNext() != null) {\n",
    "        if (node.getNext().getValue() == num) {\n",
    "            Node<Integer> next = node.getNext();\n",
    "            while (next != null && next.getValue() == num) {\n",
    "                next = next.getNext();\n",
    "            }\n",
    "            node.setNext(next);\n",
    "        }\n",
    "        node = node.getNext();\n",
    "    }\n",
    "    return list;\n",
    "}"
   ]
  },
  {
   "cell_type": "code",
   "execution_count": null,
   "metadata": {
    "vscode": {
     "languageId": "java"
    }
   },
   "outputs": [],
   "source": [
    "Student findByName(Node<Student> node, String name) {\n",
    "    while (node != null) {\n",
    "        Student student = node.getValue();\n",
    "        if (student.getName().equals(name)) {\n",
    "            return student;\n",
    "        }\n",
    "        node = node.getNext();\n",
    "    }\n",
    "    return null;\n",
    "}"
   ]
  },
  {
   "cell_type": "code",
   "execution_count": null,
   "metadata": {
    "vscode": {
     "languageId": "java"
    }
   },
   "outputs": [],
   "source": [
    "Node<T> atIndex(Node<T> node, int index) {\n",
    "    while (node != null && index > 0) {\n",
    "        node = node.getNext();\n",
    "        index--;\n",
    "    }\n",
    "    return node;\n",
    "}"
   ]
  },
  {
   "cell_type": "code",
   "execution_count": null,
   "metadata": {
    "vscode": {
     "languageId": "java"
    }
   },
   "outputs": [],
   "source": [
    "Node<T> copy(Node<T> list) {\n",
    "    if (list == null) {\n",
    "        return null;\n",
    "    }\n",
    "    Node<T> list2 = new Node<T>(list.getValue());\n",
    "    Node<T> tail2 = list2;\n",
    "    Node<T> node = list.getNext();\n",
    "    while (node != null) {\n",
    "        tail2.setNext(new Node<T>(node.getValue()));\n",
    "        tail2 = tail2.getNext();\n",
    "        list = list.getNext();\n",
    "    }\n",
    "}"
   ]
  },
  {
   "cell_type": "code",
   "execution_count": null,
   "metadata": {
    "vscode": {
     "languageId": "java"
    }
   },
   "outputs": [],
   "source": [
    "Node<Integer> fromArray(int[] arr) {\n",
    "    if (arr.length == 0) {\n",
    "        return null;\n",
    "    }\n",
    "    Node<Integer> list = new Node<Integer>(arr[0]);\n",
    "    Node<Integer> tail = list;\n",
    "    for (int i = 1; i < arr.length; i++) {\n",
    "        tail.setNext(new Node<Integer>(arr[i]));\n",
    "        tail = tail.getNext();\n",
    "    }\n",
    "    return list;\n",
    "}"
   ]
  },
  {
   "cell_type": "code",
   "execution_count": null,
   "metadata": {
    "vscode": {
     "languageId": "java"
    }
   },
   "outputs": [],
   "source": [
    "Node<T> fromQueue(Queue<T> que) {\n",
    "    Node<T> list = null;\n",
    "    Node<T> tail = null;\n",
    "    Queue<T> tmp = new Queue();\n",
    "    while (!que.isEmpty()) {\n",
    "        T x = que.remove();\n",
    "        Node<T> node = new Node<T>(x);\n",
    "        tmp.insert(x);\n",
    "        if (list == null) {\n",
    "            list = node;\n",
    "        }\n",
    "        if (tail != null) {\n",
    "            tail.setNext(node);\n",
    "        }\n",
    "        tail = node;\n",
    "    }\n",
    "    while (!tmp.isEmpty()) {\n",
    "        que.insert(tmp.remove());\n",
    "    }\n",
    "    return list;\n",
    "}"
   ]
  },
  {
   "cell_type": "markdown",
   "metadata": {},
   "source": [
    "---"
   ]
  },
  {
   "cell_type": "code",
   "execution_count": null,
   "metadata": {
    "vscode": {
     "languageId": "java"
    }
   },
   "outputs": [],
   "source": [
    "Student findYoungest(Node<Student> node) {\n",
    "    return null;\n",
    "}"
   ]
  },
  {
   "cell_type": "code",
   "execution_count": null,
   "metadata": {
    "vscode": {
     "languageId": "java"
    }
   },
   "outputs": [],
   "source": [
    "int countOlderThan(Node<Student> node, int age) {\n",
    "    return -1;\n",
    "}"
   ]
  },
  {
   "cell_type": "code",
   "execution_count": null,
   "metadata": {
    "vscode": {
     "languageId": "java"
    }
   },
   "outputs": [],
   "source": [
    "int countNamesakes(Node<Student> node, String name) {\n",
    "    return -1;\n",
    "}"
   ]
  }
 ],
 "metadata": {
  "kernelspec": {
   "display_name": "Java",
   "language": "java",
   "name": "java"
  },
  "language_info": {
   "codemirror_mode": "java",
   "file_extension": ".jshell",
   "mimetype": "text/x-java-source",
   "name": "Java",
   "pygments_lexer": "java",
   "version": "21.0.4+7-LTS"
  }
 },
 "nbformat": 4,
 "nbformat_minor": 2
}
