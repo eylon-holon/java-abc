{
 "cells": [
  {
   "cell_type": "markdown",
   "metadata": {},
   "source": [
    "![](../img/img_00215.png)"
   ]
  },
  {
   "cell_type": "code",
   "execution_count": null,
   "metadata": {
    "vscode": {
     "languageId": "java"
    }
   },
   "outputs": [],
   "source": [
    "public static\n",
    "boolean addNodes(BinNode<Integer> tr) {\n",
    "    int n = tr.getValue();\n",
    "    if (isPrime(n)) {\n",
    "        return false;\n",
    "    }\n",
    "    for (int i = 2; i < n-1; i++) {\n",
    "        if (n % i == 0) {\n",
    "            tr.setLeft(new BinNode<Integer>(i));\n",
    "            tr.setRight(new BinNode<Integer>(n / i));\n",
    "            break;\n",
    "        }\n",
    "    }\n",
    "    return true;\n",
    "}"
   ]
  },
  {
   "cell_type": "markdown",
   "metadata": {},
   "source": [
    "![](../img/img_00216.png)"
   ]
  },
  {
   "cell_type": "markdown",
   "metadata": {},
   "source": [
    "מפרקת את המספר לגורמים ראשונים  \n",
    "כל עלה זה אחד מגורמים הראשונים של חוליה ראשית"
   ]
  },
  {
   "cell_type": "markdown",
   "metadata": {},
   "source": [
    "---"
   ]
  },
  {
   "cell_type": "code",
   "execution_count": 1,
   "metadata": {
    "vscode": {
     "languageId": "java"
    }
   },
   "outputs": [
    {
     "ename": "CompilationException",
     "evalue": "",
     "output_type": "error",
     "traceback": [
      "\u001b[1m\u001b[30m|   \u001b[1m\u001b[30m\u001b[0m",
      "\u001b[1m\u001b[30m|   \u001b[1m\u001b[30m\u001b[0m",
      "\u001b[1m\u001b[30m|   \u001b[1m\u001b[30mpublic static\u001b[0m",
      "\u001b[1m\u001b[30m|   \u001b[1m\u001b[30mvoid what(BinNode<Integer> tr) {\u001b[0m",
      "\u001b[1m\u001b[30m|   \u001b[1m\u001b[30m    if (addNodes(tr)) {\u001b[0m",
      "\u001b[1m\u001b[30m|   \u001b[1m\u001b[30m        what(tr.getLeft());\u001b[0m",
      "\u001b[1m\u001b[30m|   \u001b[1m\u001b[30m        what(tr.getRight());\u001b[0m",
      "\u001b[1m\u001b[30m|   \u001b[1m\u001b[30m    }\u001b[0m",
      "\u001b[1m\u001b[30m|   \u001b[1m\u001b[30m}\u001b[0m",
      "\u001b[1m\u001b[31mUnresolved dependencies:\u001b[0m",
      "\u001b[1m\u001b[31m   - class BinNode\u001b[0m"
     ]
    }
   ],
   "source": [
    "public static\n",
    "boolean isPrime(int num) {\n",
    "    if (num == 1) {\n",
    "        return true;\n",
    "    }\n",
    "    for (int i = 2; i < num-1; i++) {\n",
    "        if (num % i == 0) {\n",
    "            return false;\n",
    "        }\n",
    "    }\n",
    "    return true;\n",
    "}\n",
    "\n",
    "public static\n",
    "void what(BinNode<Integer> tr) {\n",
    "    if (addNodes(tr)) {\n",
    "        what(tr.getLeft());\n",
    "        what(tr.getRight());\n",
    "    }\n",
    "}"
   ]
  },
  {
   "cell_type": "code",
   "execution_count": null,
   "metadata": {
    "vscode": {
     "languageId": "java"
    }
   },
   "outputs": [
    {
     "ename": "SyntaxError",
     "evalue": "invalid syntax (803786237.py, line 3)",
     "output_type": "error",
     "traceback": [
      "\u001b[0;36m  Cell \u001b[0;32mIn[1], line 3\u001b[0;36m\u001b[0m\n\u001b[0;31m    var tree = new BinNode<>(150);\u001b[0m\n\u001b[0m        ^\u001b[0m\n\u001b[0;31mSyntaxError\u001b[0m\u001b[0;31m:\u001b[0m invalid syntax\n"
     ]
    }
   ],
   "source": [
    "%load ../formulas\n",
    "\n",
    "var tree = new BinNode<>(150);\n",
    "what(tree);\n",
    "print3(tree);"
   ]
  }
 ],
 "metadata": {
  "kernelspec": {
   "display_name": "Java",
   "language": "java",
   "name": "java"
  },
  "language_info": {
   "codemirror_mode": "java",
   "file_extension": ".jshell",
   "mimetype": "text/x-java-source",
   "name": "Java",
   "pygments_lexer": "java",
   "version": "21.0.4+7-LTS"
  }
 },
 "nbformat": 4,
 "nbformat_minor": 2
}
