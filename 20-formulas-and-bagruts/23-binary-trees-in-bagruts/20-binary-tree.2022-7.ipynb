{
 "cells": [
  {
   "cell_type": "markdown",
   "metadata": {},
   "source": [
    "![](../img/img_00120.png)"
   ]
  },
  {
   "cell_type": "markdown",
   "metadata": {},
   "source": [
    "![](../img/img_00121.png)"
   ]
  },
  {
   "cell_type": "markdown",
   "metadata": {},
   "source": [
    "![](../img/img_00122.png)"
   ]
  },
  {
   "cell_type": "code",
   "execution_count": 2,
   "metadata": {},
   "outputs": [],
   "source": [
    "public static\n",
    "boolean wordFromRoot(BinNode<Character> node, String str) {\n",
    "    if (str.isEmpty()) {\n",
    "        return true;\n",
    "    }\n",
    "    if (node == null) {\n",
    "        return false;\n",
    "    }\n",
    "    if (node.getValue() != str.charAt(0)) {\n",
    "        return false;\n",
    "    }\n",
    "    return \n",
    "        wordFromRoot(node.getLeft(), str.substring(1)) || \n",
    "        wordFromRoot(node.getRight(), str.substring(1));\n",
    "}"
   ]
  },
  {
   "cell_type": "markdown",
   "metadata": {},
   "source": [
    "---"
   ]
  },
  {
   "cell_type": "code",
   "execution_count": 3,
   "metadata": {},
   "outputs": [
    {
     "name": "stdout",
     "output_type": "stream",
     "text": [
      "true \n",
      "false \n"
     ]
    }
   ],
   "source": [
    "%load ../formulas\n",
    "\n",
    "BinNode<Character> tree = \n",
    "    new BinNode<>('h', \n",
    "        new BinNode<>('n', \n",
    "            new BinNode<>('p'),\n",
    "            null\n",
    "        ), \n",
    "        new BinNode<>('e', \n",
    "            new BinNode<>('u'),\n",
    "            new BinNode<>('l',\n",
    "                new BinNode<>('p',\n",
    "                    null,\n",
    "                    new BinNode<>('u')\n",
    "                ),\n",
    "                null\n",
    "            )\n",
    "        )\n",
    "    );           \n",
    "    \n",
    "    print(wordFromRoot(tree, \"help\"));\n",
    "    print(wordFromRoot(tree, \"heelp\"));"
   ]
  }
 ],
 "metadata": {
  "kernelspec": {
   "display_name": "Java",
   "language": "java",
   "name": "java"
  },
  "language_info": {
   "codemirror_mode": "java",
   "file_extension": ".jshell",
   "mimetype": "text/x-java-source",
   "name": "java",
   "pygments_lexer": "java",
   "version": "21.0.4+7-LTS"
  }
 },
 "nbformat": 4,
 "nbformat_minor": 2
}
