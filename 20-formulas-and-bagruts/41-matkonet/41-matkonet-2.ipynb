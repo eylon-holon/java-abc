{
 "cells": [
  {
   "cell_type": "markdown",
   "id": "6c88afb9",
   "metadata": {},
   "source": [
    "## <span style=\"color:magenta\"> שאלה 1"
   ]
  },
  {
   "cell_type": "markdown",
   "id": "f29523b3",
   "metadata": {},
   "source": [
    "אנחנו ממשים מערעת בחירות. יש לנו שני מחלקות עם ממשק הבאה"
   ]
  },
  {
   "cell_type": "markdown",
   "id": "433eb23f",
   "metadata": {
    "vscode": {
     "languageId": "java"
    }
   },
   "source": [
    "```java\n",
    "class Candidate {\n",
    "    public String getName();\n",
    "    public int getVotes();\n",
    "}\n",
    "\n",
    "class Selection {\n",
    "    void vote(String name);\n",
    "    String getPresident();\n",
    "}\n",
    "```"
   ]
  },
  {
   "cell_type": "markdown",
   "id": "7338898b",
   "metadata": {},
   "source": [
    "פונקציה פנימית  \n",
    "<tt><b>vote(String name)</b></tt>    \n",
    "מקבלת שם של מועמד ומגדילה את כמות ההצבעות עבורו  \n",
    "אם המועמד לא נמצא, פונקציה יוצרת מועמד עם שם הנתון עם כמות 1 של ההצבעות  \n",
    "ההניחו שכל השמות שונים"
   ]
  },
  {
   "cell_type": "markdown",
   "id": "68b88ebf",
   "metadata": {},
   "source": [
    "**א.** כתבו את הכותרת של המחלקות"
   ]
  },
  {
   "cell_type": "markdown",
   "id": "87a994d7",
   "metadata": {},
   "source": [
    "**ב.** ממשו פונקציה   \n",
    "<tt><b>vote()</b></tt>  \n",
    "של מחלקה  \n",
    "<tt><b>Selection"
   ]
  },
  {
   "cell_type": "markdown",
   "id": "b987c2c2",
   "metadata": {},
   "source": [
    "**ג.** ממשו פונקציה   \n",
    "<tt><b>getPresident()</b></tt>  \n",
    "של מחלקה  \n",
    "<tt><b>Selection</b></tt>  \n",
    "בהנחה שאין שני מועמדים עם אותה כמות של הצבעות"
   ]
  },
  {
   "cell_type": "markdown",
   "id": "e3a5b4ca",
   "metadata": {},
   "source": [
    "**ד.** מה סיבוכיות זמן ריצה של פונקציה  \n",
    "<tt><b>getPresident()</b></tt>  \n",
    "שממשתם? נמקו"
   ]
  },
  {
   "cell_type": "markdown",
   "id": "2c6911e2",
   "metadata": {},
   "source": [
    "**ה.** האם אפשר להגיע לסיבוכיות זמן ריצה  \n",
    "$O(1)$?  \n",
    "הציעו שינוי בכותרת של מחלקה  \n",
    "<tt><b>Selection</b></tt>"
   ]
  },
  {
   "cell_type": "markdown",
   "id": "d78cddb5",
   "metadata": {},
   "source": [
    "---"
   ]
  },
  {
   "cell_type": "markdown",
   "id": "1d548e90",
   "metadata": {},
   "source": [
    "## <span style=\"color:magenta\"> שאלה 2"
   ]
  },
  {
   "cell_type": "markdown",
   "id": "a719e2a4",
   "metadata": {},
   "source": [
    "**א.** נקרא לעץ זוגי אם מתקיימים בו תנאים הבאים  \n",
    "1. לכל צומת יש שני בנים  \n",
    "2. סכום של שני ערכי הבנים הוא מספר זוגי  \n",
    "3. ערך של כל עלה הוא מספר זוגי  \n",
    "\n",
    "ממשו פונקציה חיצונית שבודקת האם עץ המתקבל הוא עץ זוגי"
   ]
  },
  {
   "cell_type": "markdown",
   "id": "c522bc39",
   "metadata": {},
   "source": [
    "---"
   ]
  },
  {
   "cell_type": "markdown",
   "id": "06adb86d",
   "metadata": {},
   "source": [
    "**ב.** (אין קשר לסעיף קודם)  \n",
    "נתונה פונקציה הבא"
   ]
  },
  {
   "cell_type": "markdown",
   "id": "a44e4513",
   "metadata": {
    "vscode": {
     "languageId": "java"
    }
   },
   "source": [
    "```java\n",
    "void what(BinNode<Integer> tree) {\n",
    "    Queue<BinNode<Integer>> que = new Queue<BinNode<Integer>>();\n",
    "    que.insert(tree);\n",
    "    while (!que.isEmpty()) {\n",
    "        BinNode<Integer> node = que.remove();\n",
    "        System.out.println(node.getValue());\n",
    "        BinNode<Integer> left = node.getLeft();\n",
    "        BinNode<Integer> right = node.getRight();\n",
    "        if (left != null) {\n",
    "            que.insert(left);\n",
    "        }\n",
    "        if (right != null) {\n",
    "            que.insert(right);\n",
    "        }\n",
    "    }\n",
    "}\n",
    "```"
   ]
  },
  {
   "cell_type": "markdown",
   "id": "d101dbb1",
   "metadata": {},
   "source": [
    "1. עקבו אחרי קריא לפונקציה עם עץ הבא  \n",
    "<img src=\"../img/img_00674.png\" width=250px/>"
   ]
  },
  {
   "cell_type": "markdown",
   "id": "9d2292ab",
   "metadata": {},
   "source": [
    "2. רשמו מה היא מתרת הפונקציה"
   ]
  },
  {
   "cell_type": "markdown",
   "id": "5e9f5ccb",
   "metadata": {},
   "source": [
    "3. מה יודפס אחרי קריא לפונקציה עם עץ הבא  \n",
    "<img src=\"../img/img_00675.png\" width=250px/>"
   ]
  },
  {
   "cell_type": "markdown",
   "id": "b16ec490",
   "metadata": {},
   "source": [
    "---"
   ]
  },
  {
   "cell_type": "code",
   "execution_count": null,
   "id": "9fe5f9af",
   "metadata": {
    "vscode": {
     "languageId": "java"
    }
   },
   "outputs": [],
   "source": [
    "%load ../formulas"
   ]
  },
  {
   "cell_type": "code",
   "execution_count": null,
   "id": "e52ec049",
   "metadata": {
    "vscode": {
     "languageId": "java"
    }
   },
   "outputs": [],
   "source": [
    "what(new BinNode(1,\n",
    "    new BinNode(2,\n",
    "        new BinNode(4),\n",
    "        new BinNode(5)\n",
    "    ),\n",
    "    new BinNode(3)\n",
    "));"
   ]
  },
  {
   "cell_type": "markdown",
   "id": "fbc28679",
   "metadata": {},
   "source": [
    "---"
   ]
  },
  {
   "cell_type": "markdown",
   "id": "5c992746",
   "metadata": {},
   "source": [
    "## <span style=\"color:magenta\"> שאלה 3"
   ]
  },
  {
   "cell_type": "markdown",
   "id": "77e9d736",
   "metadata": {},
   "source": [
    "**א.** נתונה ספה מעל הא\"ב   \n",
    "$\\{a,b,c\\}$  \n",
    "$L=\\{a^n b^m (ac)^{k} \\ | \\ n \\ge 0, \\ m > 0, \\ k=2n+m \\}$  \n",
    "1. רשמו את המילה הקצרה ביותר של הספה  \n",
    "2. בנו אוטומת מחסנית דטרמיניסטי המקבל את הספה  \n",
    "<span style=\"font-size:16px\"><i>תזכורת: אפשר לדחוף יותר מאות אחת לתוך מחסנית בפעולה אחת"
   ]
  },
  {
   "cell_type": "markdown",
   "id": "854edb25",
   "metadata": {},
   "source": [
    "---"
   ]
  },
  {
   "cell_type": "markdown",
   "id": "d6ab2d50",
   "metadata": {},
   "source": [
    "**ב.** (אין קשר לסעיף קודם)  \n",
    "1. האם איחוד של ספה רגולרית וספה לא רגולרית בהכרח ספה לא רגולרית?  \n",
    " אם כן נמקו למה, אם לא תנו דוגמה לשתי ספות כאלה  "
   ]
  },
  {
   "cell_type": "markdown",
   "id": "20a52cbb",
   "metadata": {},
   "source": [
    "2. נתונות שתי ספות מעל הא\"ב  \n",
    "$\\{a, b\\}$  \n",
    "$L_1=\\{ w \\ | \\ |w| \\bmod 2 = 0  \\}$  \n",
    "$L_2=\\{  כל \\ המילים \\  שעורכן \\ היא \\ כפולה \\ של \\ שש \\ \\}$  <br><br>\n",
    "תנו הגדרה הקצרה ביותר של ספה  \n",
    "$L_1 \\cap L_2$"
   ]
  },
  {
   "cell_type": "markdown",
   "id": "16b354f3",
   "metadata": {},
   "source": [
    "---"
   ]
  },
  {
   "cell_type": "markdown",
   "id": "683e7604",
   "metadata": {},
   "source": [
    "## <span style=\"color:magenta\"> שאלה 4"
   ]
  },
  {
   "cell_type": "markdown",
   "id": "79220a7b",
   "metadata": {},
   "source": [
    "נתונות ארבע ספות מעל הא\"ב  \n",
    "$\\{a,b\\}$  \n",
    "<br>\n",
    "$L_1=\\{ a^k b^l \\ | \\ k \\ge 0, \\ k > l \\}$  \n",
    "$L_2=\\{ a^m b^k \\ | \\ m,k \\ge 0, \\ m \\bmod 2 = k \\bmod 2 \\}$  \n",
    "$L_3=\\{(ab)^k (ab)^l \\ | \\ k > 0, \\ l \\ge 0, \\ k + l \\neq 2 \\}$  \n",
    "$L_4=\\{ (ba)^{n} (ab)^m \\ | \\ n,m \\ge 0, \\ n \\neq m+2 \\}$  \n",
    "<br><br>\n",
    "עבור כל ספה רשמו האם היא רגולרית  \n",
    "אם כן בנו אס\"ד המקבל את הספה  \n",
    "אם לא, נמקו למה"
   ]
  }
 ],
 "metadata": {
  "kernelspec": {
   "display_name": "Java",
   "language": "java",
   "name": "java"
  },
  "language_info": {
   "codemirror_mode": "java",
   "file_extension": ".jshell",
   "mimetype": "text/x-java-source",
   "name": "Java",
   "pygments_lexer": "java",
   "version": "23+37-2369"
  }
 },
 "nbformat": 4,
 "nbformat_minor": 5
}
