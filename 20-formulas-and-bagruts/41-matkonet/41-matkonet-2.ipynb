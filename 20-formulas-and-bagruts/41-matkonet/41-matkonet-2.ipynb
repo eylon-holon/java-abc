{
 "cells": [
  {
   "cell_type": "markdown",
   "id": "6c88afb9",
   "metadata": {},
   "source": [
    "## <span style=\"color:magenta\"> שאלה 1"
   ]
  },
  {
   "cell_type": "markdown",
   "id": "f29523b3",
   "metadata": {},
   "source": [
    "אנחנו ממשים מערעת בחירות. יש לנו שני מחלקות עם ממשק הבאה"
   ]
  },
  {
   "cell_type": "markdown",
   "id": "433eb23f",
   "metadata": {
    "vscode": {
     "languageId": "java"
    }
   },
   "source": [
    "```java\n",
    "class Candidate {\n",
    "    public String getName();\n",
    "    public int getVotes();\n",
    "    public void setVotes(int votes);\n",
    "}\n",
    "\n",
    "class Selection {\n",
    "    void vote(String name);\n",
    "    String getPresident();\n",
    "}\n",
    "```"
   ]
  },
  {
   "cell_type": "markdown",
   "id": "7338898b",
   "metadata": {},
   "source": [
    "פונקציה פנימית  \n",
    "<tt><b>vote(String name)</b></tt>    \n",
    "מקבלת שם של מועמד ומגדילה את כמות ההצבעות עבורו  \n",
    "אם המועמד לא נמצא, פונקציה יוצרת מועמד עם שם הנתון עם כמות 1 של ההצבעות  \n",
    "ההניחו שכל השמות שונים"
   ]
  },
  {
   "cell_type": "markdown",
   "id": "68b88ebf",
   "metadata": {},
   "source": [
    "**א.** כתבו את הכותרת של המחלקות"
   ]
  },
  {
   "cell_type": "code",
   "execution_count": null,
   "id": "75a7fbde",
   "metadata": {},
   "outputs": [],
   "source": [
    "class Candidate {\n",
    "    private String name;\n",
    "    private int votes;\n",
    "}\n",
    "\n",
    "class Selection {\n",
    "    private Node<Candidate> candidates;\n",
    "}"
   ]
  },
  {
   "cell_type": "markdown",
   "id": "87a994d7",
   "metadata": {},
   "source": [
    "**ב.** ממשו פונקציה   \n",
    "<tt><b>vote()</b></tt>  \n",
    "של מחלקה  \n",
    "<tt><b>Selection"
   ]
  },
  {
   "cell_type": "code",
   "execution_count": null,
   "id": "8e6fc624",
   "metadata": {},
   "outputs": [],
   "source": [
    "public void vote(String name) {\n",
    "    // if list of candidates is empty, create first node\n",
    "    if (candidates == null) {\n",
    "        candidates = new Node<Candidate>(new Candidate(name, 1))\n",
    "        return;\n",
    "    }\n",
    "\n",
    "    // try to find the candidate by its name\n",
    "    Node<Candidate> current = candidates;\n",
    "    while (current.getNext() != null) {\n",
    "        var candidate = current.getValue();\n",
    "        if (candidate.getName().equals(name)) {\n",
    "            candidate.setVotes(candidate.getVotes() + 1);\n",
    "            return;\n",
    "        }\n",
    "        current = current.getNext();\n",
    "    }\n",
    "\n",
    "    // no candidate is found, so add new one to the list\n",
    "    Node<Candidate> newOne = new Node<Candidate>(new Candidate(name, 1));\n",
    "    newOne.setNext(candidates);\n",
    "    candidates = newOne;\n",
    "}\n"
   ]
  },
  {
   "cell_type": "markdown",
   "id": "b987c2c2",
   "metadata": {},
   "source": [
    "**ג.** ממשו פונקציה   \n",
    "<tt><b>getPresident()</b></tt>  \n",
    "של מחלקה  \n",
    "<tt><b>Selection</b></tt>  \n",
    "בהנחה שאין שני מועמדים עם אותה כמות של הצבעות"
   ]
  },
  {
   "cell_type": "markdown",
   "id": "e3a5b4ca",
   "metadata": {},
   "source": [
    "**ד.** מה סיבוכיות זמן ריצה של פונקציה  \n",
    "<tt><b>getPresident()</b></tt>  \n",
    "שממשתם? נמקו"
   ]
  },
  {
   "cell_type": "code",
   "execution_count": null,
   "id": "ba9fec71",
   "metadata": {},
   "outputs": [],
   "source": [
    "public String getPresident() {\n",
    "    if (candidates == null) {\n",
    "        return null;\n",
    "    }\n",
    "\n",
    "    Candidate president = candidates.getValue();\n",
    "\n",
    "    Node<Candidate> node = candidates;\n",
    "    while (node != null) {\n",
    "        if (node.getValue().getVotes() > president.getVotes()) {\n",
    "            president = node;\n",
    "        }\n",
    "        node = node.getNext();\n",
    "    }\n",
    "\n",
    "    return president.getName();\n",
    "}"
   ]
  },
  {
   "cell_type": "markdown",
   "id": "2c6911e2",
   "metadata": {},
   "source": [
    "**ה.** האם אפשר להגיע לסיבוכיות זמן ריצה  \n",
    "$O(1)$?  \n",
    "הציעו שינוי בכותרת של מחלקה  \n",
    "<tt><b>Selection</b></tt>"
   ]
  },
  {
   "cell_type": "code",
   "execution_count": null,
   "id": "3b8908f0",
   "metadata": {},
   "outputs": [],
   "source": [
    "class Selection {\n",
    "    private Candidate president;\n",
    "    private Node<Candidate> candidates;\n",
    "}"
   ]
  },
  {
   "cell_type": "markdown",
   "id": "c246a257",
   "metadata": {},
   "source": [
    "---"
   ]
  },
  {
   "cell_type": "code",
   "execution_count": null,
   "id": "b4a5d4cd",
   "metadata": {},
   "outputs": [],
   "source": [
    "class Candidate {\n",
    "    private String name;\n",
    "    private int votes;\n",
    "\n",
    "    public String getName() { return name; }\n",
    "    public int getVotes() { return votes; }\n",
    "\n",
    "    public void setName(String name) { this.name = name; }\n",
    "    public void setVotes(int votes) { this.votes = votes; }\n",
    "\n",
    "    public Candidate(String name, int votes) {\n",
    "        this.name = name;\n",
    "        this.votes = votes;\n",
    "    }\n",
    "}\n",
    "\n",
    "class Selection {\n",
    "    private Candidate president;\n",
    "    private Node<Candidate> candidates;\n",
    "\n",
    "    public void vote(String name) {\n",
    "        // if list of candidates is empty, create first node\n",
    "        if (candidates == null) {\n",
    "            candidates = new Node<Candidate>(new Candidate(name, 1))\n",
    "            president = candidate.getValue();\n",
    "            return;\n",
    "        }\n",
    "\n",
    "        // try to find the candidate by its name\n",
    "        Node<Candidate> node = candidates;\n",
    "        while (node.getNext() != null) {\n",
    "            Candidate candidate = node.getValue();\n",
    "            if (candidate.getName().equals(name)) {\n",
    "                candidate.setVotes(candidate.getVotes() + 1);\n",
    "                if (candidate.getVotes() > _president.getVotes()) {\n",
    "                    president = candidate;\n",
    "                }\n",
    "                return;\n",
    "            }\n",
    "            node = node.getNext();\n",
    "        }\n",
    "\n",
    "        // no candidate is found, so add new one to the list\n",
    "        // no restrictions on order, so add as head node\n",
    "        Node<Candidate> newNode = new Node<Candidate>(new Candidate(name, 1));\n",
    "        newNode.setNext(candidates);\n",
    "        candidates = newNode;\n",
    "    }\n",
    "\n",
    "    public String getPresident_O_n() {\n",
    "        if (candidates == null) {\n",
    "            return null;\n",
    "        }\n",
    "\n",
    "        Candidate president = candidates.getValue();\n",
    "\n",
    "        Node<Candidate> node = candidates;\n",
    "        while (node != null) {\n",
    "            if (node.getValue().getVotes() > president.getVotes()) {\n",
    "                president = node.getValue();\n",
    "            }\n",
    "            node = node.getNext();\n",
    "        }\n",
    "\n",
    "        return president.getName();\n",
    "    }\n",
    "\n",
    "    public String getPresident_O_1() {\n",
    "        if (president == null) {\n",
    "            return null;\n",
    "        }\n",
    "        return president.getName();\n",
    "    }\n",
    "}"
   ]
  },
  {
   "cell_type": "markdown",
   "id": "d78cddb5",
   "metadata": {},
   "source": [
    "---"
   ]
  },
  {
   "cell_type": "markdown",
   "id": "1d548e90",
   "metadata": {},
   "source": [
    "## <span style=\"color:magenta\"> שאלה 2"
   ]
  },
  {
   "cell_type": "markdown",
   "id": "a719e2a4",
   "metadata": {},
   "source": [
    "**א.** נקרא לעץ זוגי אם מתקיימים בו תנאים הבאים  \n",
    "1. לכל צומת יש שני בנים  \n",
    "2. סכום של שני ערכי הבנים הוא מספר זוגי  \n",
    "3. ערך של כל עלה הוא מספר זוגי  \n",
    "\n",
    "ממשו פונקציה חיצונית שבודקת האם עץ המתקבל הוא עץ זוגי"
   ]
  },
  {
   "cell_type": "code",
   "execution_count": null,
   "id": "537c53d8",
   "metadata": {},
   "outputs": [],
   "source": [
    "public static\n",
    "boolean isEven(BinNode<Integer> node) {\n",
    "    if (node == null) {\n",
    "        return true;\n",
    "    }\n",
    "    BinNode<Integer> left = node.getLeft();\n",
    "    BinNode<Integer> right = node.getRight();\n",
    "\n",
    "    if (left == null && right == null) {\n",
    "        return node.getValue() % 2 == 0;\n",
    "    }\n",
    "\n",
    "    if (left == null || right == null) {\n",
    "        return false;\n",
    "    }\n",
    "\n",
    "    int sum = left.getValue() + right.getValue();\n",
    "\n",
    "    return sum % 2 == 0 && isEven(left) && isEven(right);\n",
    "}"
   ]
  },
  {
   "cell_type": "markdown",
   "id": "c522bc39",
   "metadata": {},
   "source": [
    "---"
   ]
  },
  {
   "cell_type": "markdown",
   "id": "06adb86d",
   "metadata": {},
   "source": [
    "**ב.** (אין קשר לסעיף קודם)  \n",
    "נתונה פונקציה הבא"
   ]
  },
  {
   "cell_type": "markdown",
   "id": "a44e4513",
   "metadata": {
    "vscode": {
     "languageId": "java"
    }
   },
   "source": [
    "```java\n",
    "void what(BinNode<Integer> tree) {\n",
    "    Queue<BinNode<Integer>> que = new Queue<BinNode<Integer>>();\n",
    "    que.insert(tree);\n",
    "    while (!que.isEmpty()) {\n",
    "        BinNode<Integer> node = que.remove();\n",
    "        System.out.println(node.getValue());\n",
    "        BinNode<Integer> left = node.getLeft();\n",
    "        BinNode<Integer> right = node.getRight();\n",
    "        if (left != null) {\n",
    "            que.insert(left);\n",
    "        }\n",
    "        if (right != null) {\n",
    "            que.insert(right);\n",
    "        }\n",
    "    }\n",
    "}\n",
    "```"
   ]
  },
  {
   "cell_type": "markdown",
   "id": "4ef00abc",
   "metadata": {},
   "source": [
    "|<tt>que        |<tt>node=que.remove()   |<tt>print(node.getValue())  |\n",
    "|---            |---        |---        |\n",
    "|    [19]       |           |           |\n",
    "| <tt>while (!que.isEmpty())   |        |           |\n",
    "|               |   19      |    <b>19  |\n",
    "|   [17,15]     |           |           |\n",
    "|               |   17      |    <b>17  |\n",
    "|               |           |           |\n",
    "| [15,13,12]    |           |           |\n",
    "|               |   15      |    <b>15  |\n",
    "| [13,12,14]    |           |           |\n",
    "|               |   13      |    <b>13  |\n",
    "| [12,14]       |           |           |\n",
    "|               |   12      |    <b>12  |\n",
    "| [14,23,10]    |           |           |\n",
    "|               |   14      |    <b>14  |\n",
    "| [23,10]       |           |           |\n",
    "|               |   23      |    <b>23  |\n",
    "| [10]          |   10      |    <b>10  |\n",
    "| []            |           |           |\n"
   ]
  },
  {
   "cell_type": "markdown",
   "id": "d101dbb1",
   "metadata": {},
   "source": [
    "1. עקבו אחרי קריא לפונקציה עם עץ הבא  \n",
    "<img src=\"../img/img_00674.png\" width=250px/>"
   ]
  },
  {
   "cell_type": "markdown",
   "id": "9d2292ab",
   "metadata": {},
   "source": [
    "2. רשמו מה היא מתרת הפונקציה"
   ]
  },
  {
   "cell_type": "markdown",
   "id": "8c4a5685",
   "metadata": {},
   "source": [
    "<tt><b>19 17 15 13 12 14 23 10"
   ]
  },
  {
   "cell_type": "markdown",
   "id": "b2faf3bf",
   "metadata": {},
   "source": [
    "הפונקציה מדפיסה את ערכי של העץ לפי רמות"
   ]
  },
  {
   "cell_type": "markdown",
   "id": "5e9f5ccb",
   "metadata": {},
   "source": [
    "3. מה יודפס אחרי קריא לפונקציה עם עץ הבא  \n",
    "<img src=\"../img/img_00675.png\" width=250px/>"
   ]
  },
  {
   "cell_type": "markdown",
   "id": "d9949adf",
   "metadata": {},
   "source": [
    "<tt><b>13 15 19 13 12 14 23 10 11"
   ]
  },
  {
   "cell_type": "markdown",
   "id": "b16ec490",
   "metadata": {},
   "source": [
    "---"
   ]
  },
  {
   "cell_type": "code",
   "execution_count": null,
   "id": "9fe5f9af",
   "metadata": {},
   "outputs": [],
   "source": [
    "%load ../formulas"
   ]
  },
  {
   "cell_type": "code",
   "execution_count": null,
   "id": "e52ec049",
   "metadata": {},
   "outputs": [],
   "source": [
    "what(new BinNode(1,\n",
    "    new BinNode(2,\n",
    "        new BinNode(4),\n",
    "        new BinNode(5)\n",
    "    ),\n",
    "    new BinNode(3)\n",
    "));"
   ]
  },
  {
   "cell_type": "markdown",
   "id": "fbc28679",
   "metadata": {},
   "source": [
    "---"
   ]
  },
  {
   "cell_type": "markdown",
   "id": "5c992746",
   "metadata": {},
   "source": [
    "## <span style=\"color:magenta\"> שאלה 3"
   ]
  },
  {
   "cell_type": "markdown",
   "id": "77e9d736",
   "metadata": {},
   "source": [
    "**א.** נתונה ספה מעל הא\"ב   \n",
    "$\\{a,b,c\\}$  \n",
    "$L=\\{a^n b^m (ac)^{k} \\ | \\ n \\ge 0, \\ m > 0, \\ k=2n+m \\}$  \n",
    "1. רשמו את המילה הקצרה ביותר של הספה  \n",
    "2. בנו אוטומת מחסנית דטרמיניסטי המקבל את הספה  \n",
    "<span style=\"font-size:16px\"><i>תזכורת: אפשר לדחוף יותר מאות אחת לתוך מחסנית בפעולה אחת"
   ]
  },
  {
   "cell_type": "markdown",
   "id": "bb4c0ad8",
   "metadata": {},
   "source": [
    "shortest word: <tt><b>bac"
   ]
  },
  {
   "cell_type": "markdown",
   "id": "55ffbe34",
   "metadata": {},
   "source": [
    "![](../img/img_00716.png)"
   ]
  },
  {
   "cell_type": "code",
   "execution_count": null,
   "id": "a0975183",
   "metadata": {},
   "outputs": [],
   "source": [
    "%load ../fsm"
   ]
  },
  {
   "cell_type": "code",
   "execution_count": null,
   "id": "9dba6da5",
   "metadata": {},
   "outputs": [],
   "source": [
    "var fsm = fsmFromMermaid(\"q3-a\", \"41-matkonet-2.dib\");\n",
    "accept(fsm, \"bac\", \"abacacac\", \"bbacac\", \"aabbacacacacacac\");\n",
    "accept(fsm, \"\", \"ba\", \"bc\", \"abac\", \"aacac\", \"ababab\", \"aabacacacac\");"
   ]
  },
  {
   "cell_type": "markdown",
   "id": "854edb25",
   "metadata": {},
   "source": [
    "---"
   ]
  },
  {
   "cell_type": "markdown",
   "id": "d6ab2d50",
   "metadata": {},
   "source": [
    "**ב.** (אין קשר לסעיף קודם)  \n",
    "1. האם איחוד של ספה רגולרית וספה לא רגולרית בהכרח ספה לא רגולרית?  \n",
    " אם כן נמקו למה, אם לא תנו דוגמה לשתי ספות כאלה  "
   ]
  },
  {
   "cell_type": "markdown",
   "id": "6a05f42c",
   "metadata": {},
   "source": [
    "לא בהכרך.  \n",
    "לדוגמה איחוד של שתי שפות אלה יתן שפה רגולרית  \n",
    "<br>\n",
    "$L_1=\\{a^n b^n \\}$  - לא רגולרית  \n",
    "$L_2=\\{כל \\ המילים \\ מעל \\ הא\"ב \\}$  - כן רגולרית  \n",
    "$L_1 \\cup L_2 = L_2$"
   ]
  },
  {
   "cell_type": "markdown",
   "id": "eeef709e",
   "metadata": {},
   "source": [
    "---"
   ]
  },
  {
   "cell_type": "markdown",
   "id": "20a52cbb",
   "metadata": {},
   "source": [
    "2. נתונות שתי ספות מעל הא\"ב  \n",
    "$\\{a, b\\}$  \n",
    "$L_1=\\{ w \\ | \\ |w| \\bmod 2 = 0  \\}$  \n",
    "$L_2=\\{  כל \\ המילים \\  שעורכן \\ היא \\ כפולה \\ של \\ שש \\ \\}$  <br><br>\n",
    "תנו הגדרה הקצרה ביותר של ספה  \n",
    "$L_1 \\cap L_2$"
   ]
  },
  {
   "cell_type": "markdown",
   "id": "a9ac4388",
   "metadata": {},
   "source": [
    "ספה ראשונה מכילה את ספה השניה  \n",
    "$L_1 \\cap L_2 = L_1$  \n",
    "$L=\\{ w \\ | \\ |w| \\bmod 2 = 0  \\}$  "
   ]
  },
  {
   "cell_type": "markdown",
   "id": "16b354f3",
   "metadata": {},
   "source": [
    "---"
   ]
  },
  {
   "cell_type": "markdown",
   "id": "683e7604",
   "metadata": {},
   "source": [
    "## <span style=\"color:magenta\"> שאלה 4"
   ]
  },
  {
   "cell_type": "markdown",
   "id": "79220a7b",
   "metadata": {},
   "source": [
    "נתונות ארבע ספות מעל הא\"ב  \n",
    "$\\{a,b\\}$  \n",
    "<br>\n",
    "$L_1=\\{ a^k b^l \\ | \\ k \\ge 0, \\ k > l \\}$  \n",
    "$L_2=\\{ a^m b^k \\ | \\ m,k \\ge 0, \\ m \\bmod 2 = k \\bmod 2 \\}$  \n",
    "$L_3=\\{(ab)^k (ab)^l \\ | \\ k > 0, \\ l \\ge 0, \\ k + l \\neq 2 \\}$  \n",
    "$L_4=\\{ (ba)^{n} (ab)^m \\ | \\ n,m \\ge 0, \\ n \\neq m+2 \\}$  \n",
    "<br><br>\n",
    "עבור כל ספה רשמו האם היא רגולרית  \n",
    "אם כן בנו אס\"ד המקבל את הספה  \n",
    "אם לא, נמקו למה"
   ]
  },
  {
   "cell_type": "markdown",
   "id": "d9b64d50",
   "metadata": {},
   "source": [
    "---"
   ]
  },
  {
   "cell_type": "markdown",
   "id": "53acf980",
   "metadata": {},
   "source": [
    "$L_1=\\{ a^k b^l \\ | \\ k \\ge 0, \\ k > l \\}$  "
   ]
  },
  {
   "cell_type": "markdown",
   "id": "b07a9be6",
   "metadata": {},
   "source": [
    "ספה לא רגולרית. בשביל להפתיח שכמות של אות  \n",
    "a  \n",
    "תהיה יותר גדולה צריך לספור את האותיות שיגרום לכמות אין סופית של מצבים  \n",
    "אז אי אפשר לבנות אס\"ד ולכן ספה לא רגולרית"
   ]
  },
  {
   "cell_type": "markdown",
   "id": "ef08dcd5",
   "metadata": {},
   "source": [
    "---"
   ]
  },
  {
   "cell_type": "markdown",
   "id": "af51ab93",
   "metadata": {},
   "source": [
    "$L_2=\\{ a^m b^k \\ | \\ m,k \\ge 0, \\ m \\bmod 2 = k \\bmod 2 \\}$  "
   ]
  },
  {
   "cell_type": "markdown",
   "id": "bf69aea0",
   "metadata": {},
   "source": [
    "רגולרית. אפשר לבנות אס\"ד"
   ]
  },
  {
   "cell_type": "markdown",
   "id": "9746e7eb",
   "metadata": {},
   "source": [
    "![](../img/img_00717.png)"
   ]
  },
  {
   "cell_type": "code",
   "execution_count": null,
   "id": "a949f44a",
   "metadata": {},
   "outputs": [],
   "source": [
    "%load ../fsm"
   ]
  },
  {
   "cell_type": "code",
   "execution_count": null,
   "id": "6d702c49",
   "metadata": {},
   "outputs": [],
   "source": [
    "var fsm = fsmFromMermaid(\"q4-l2\", \"41-matkonet-2.dib\");\n",
    "accept(fsm, \"\", \"ab\", \"aabb\", \"aa\", \"bb\", \"aaab\", \"aaaa\", \"aabbbb\", \"aaabbb\");\n",
    "accept(fsm, \"a\", \"b\", \"aaa\", \"bbb\", \"aab\", \"abb\", \"aaabb\", \"aabbb\");"
   ]
  },
  {
   "cell_type": "markdown",
   "id": "1666a149",
   "metadata": {},
   "source": [
    "---"
   ]
  },
  {
   "cell_type": "code",
   "execution_count": null,
   "id": "9c574eb3",
   "metadata": {},
   "outputs": [],
   "source": [
    "%load ../fsm"
   ]
  },
  {
   "cell_type": "markdown",
   "id": "b5eb6910",
   "metadata": {},
   "source": [
    "$L_3=\\{(ab)^k (ab)^l \\ | \\ k > 0, \\ l \\ge 0, \\ k + l \\neq 2 \\}$  "
   ]
  },
  {
   "cell_type": "markdown",
   "id": "49cb2519",
   "metadata": {},
   "source": [
    "רגולרית. אפשר לבנות אס\"ד"
   ]
  },
  {
   "cell_type": "markdown",
   "id": "623dc77a",
   "metadata": {},
   "source": [
    "![](../img/img_00718.png)"
   ]
  },
  {
   "cell_type": "code",
   "execution_count": null,
   "id": "5499d148",
   "metadata": {},
   "outputs": [],
   "source": [
    "var fsm = fsmFromMermaid(\"q4-l3\", \"41-matkonet-2.dib\");\n",
    "accept(fsm, \"ab\", \"ababab\", \"abababab\");\n",
    "accept(fsm, \"abab\", \"aab\", \"abb\");"
   ]
  },
  {
   "cell_type": "markdown",
   "id": "55090fba",
   "metadata": {},
   "source": [
    "---"
   ]
  },
  {
   "cell_type": "markdown",
   "id": "9efa6f21",
   "metadata": {},
   "source": [
    "$L_4=\\{ (ba)^{n} (ab)^m \\ | \\ n,m \\ge 0, \\ n \\neq m+2 \\}$  "
   ]
  },
  {
   "cell_type": "markdown",
   "id": "aa0229d3",
   "metadata": {},
   "source": [
    "לא רגולרית  \n",
    "אפשר להתייחס ל  \n",
    "$(ab) \\ \\ (ba)$  \n",
    "בתור אותיות שונות. אז הכמויות שלהן קשורות וחייבים לספור את הכמויות  \n",
    "זה יגרום לכמות אין סופית של מצבים. כלומר אי אפשר לבנות אס\"ד  \n",
    "לכן הספה לא רגולרות"
   ]
  }
 ],
 "metadata": {
  "kernelspec": {
   "display_name": "Java",
   "language": "java",
   "name": "java"
  },
  "language_info": {
   "codemirror_mode": "java",
   "file_extension": ".jshell",
   "mimetype": "text/x-java-source",
   "name": "java",
   "pygments_lexer": "java",
   "version": "17.0.2+8"
  }
 },
 "nbformat": 4,
 "nbformat_minor": 5
}
