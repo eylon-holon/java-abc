{
 "cells": [
  {
   "cell_type": "markdown",
   "id": "c8432de7",
   "metadata": {},
   "source": [
    "### <span style=\"color:magenta\">שאלה 1</span>"
   ]
  },
  {
   "cell_type": "markdown",
   "id": "97c080d3",
   "metadata": {},
   "source": [
    "![](../img/img_00395.png)"
   ]
  },
  {
   "cell_type": "markdown",
   "id": "1f07f2d3",
   "metadata": {},
   "source": [
    "<img src=\"../img/img_00500.png\" height=\"500\"/>"
   ]
  },
  {
   "cell_type": "markdown",
   "id": "9812f774",
   "metadata": {},
   "source": [
    "![](../img/img_00501.png)"
   ]
  },
  {
   "cell_type": "code",
   "execution_count": null,
   "id": "6177c3eb",
   "metadata": {
    "vscode": {
     "languageId": "java"
    }
   },
   "outputs": [],
   "source": [
    "class Trempiada {\n",
    "    private Queue<String> hailim;\n",
    "    private Queue<String> hailot;\n",
    "    private Queue<String> ezrahim;\n",
    "}"
   ]
  },
  {
   "cell_type": "markdown",
   "id": "0d3e3b5b",
   "metadata": {},
   "source": [
    "![](../img/img_00502.png)"
   ]
  },
  {
   "cell_type": "code",
   "execution_count": null,
   "id": "9230cece",
   "metadata": {
    "vscode": {
     "languageId": "java"
    }
   },
   "outputs": [],
   "source": [
    "public String remove() {\n",
    "    if (!hailot.isEmpty()) {\n",
    "        return hailot.remove();\n",
    "    }\n",
    "    if (!hailim.isEmpty()) {\n",
    "        return hailim.remove();\n",
    "    }\n",
    "    return ezrahim.remove();\n",
    "}"
   ]
  },
  {
   "cell_type": "markdown",
   "id": "48255ae1",
   "metadata": {},
   "source": [
    "![](../img/img_00503.png)"
   ]
  },
  {
   "cell_type": "code",
   "execution_count": null,
   "id": "5c5ce05d",
   "metadata": {
    "vscode": {
     "languageId": "java"
    }
   },
   "outputs": [],
   "source": [
    "static public\n",
    "Node<String> nextTremps(Trempiada tr, int n) {\n",
    "    if (tr.isEmpty()) {\n",
    "        return null;\n",
    "    }\n",
    "    Node<String> list = new Node<String>(tr.remove());\n",
    "    Node<String> tail = list;\n",
    "    while (!tr.isEmpty() && n > 0) {\n",
    "        Node<String> node = new Node<String>(tr.remove());\n",
    "        tail.setNext(node);\n",
    "        node = tail;\n",
    "        n = n - 1;\n",
    "    }\n",
    "}"
   ]
  },
  {
   "cell_type": "markdown",
   "id": "522ed2d3",
   "metadata": {},
   "source": [
    "---"
   ]
  },
  {
   "cell_type": "markdown",
   "id": "8ba76174",
   "metadata": {},
   "source": [
    "### <span style=\"color:magenta\">שאלה 2</span>"
   ]
  },
  {
   "cell_type": "markdown",
   "id": "08634e4a",
   "metadata": {},
   "source": [
    "#### <span style=\"color:magenta\">סעיף א</span>"
   ]
  },
  {
   "cell_type": "code",
   "execution_count": null,
   "id": "f6522531",
   "metadata": {
    "vscode": {
     "languageId": "java"
    }
   },
   "outputs": [],
   "source": [
    "public static\n",
    "boolean etsNegudi(BinNode<Integer> node) {\n",
    "    if (node == null) {\n",
    "        return true;\n",
    "    }\n",
    "    Node<Integer> left = = node.getLeft();\n",
    "    Node<Integer> right = = node.getRight();\n",
    "    if (left == null && right == null) {\n",
    "        return true;\n",
    "    }\n",
    "    if (left != null && right != null) {\n",
    "        return left.getValue() < 0 && right.getValue() > 0;\n",
    "    }\n",
    "    return false;\n",
    "}"
   ]
  },
  {
   "cell_type": "markdown",
   "id": "1a95fff5",
   "metadata": {},
   "source": [
    "#### <span style=\"color:magenta\">סעיף ב</span>"
   ]
  },
  {
   "cell_type": "markdown",
   "id": "a4c32a1a",
   "metadata": {},
   "source": [
    "---"
   ]
  },
  {
   "cell_type": "markdown",
   "id": "e4d18c0e",
   "metadata": {},
   "source": [
    "### <span style=\"color:magenta\">שאלה 4</span>"
   ]
  },
  {
   "cell_type": "markdown",
   "id": "60754f82",
   "metadata": {},
   "source": [
    "---"
   ]
  },
  {
   "cell_type": "code",
   "execution_count": 3,
   "id": "d37ccc97",
   "metadata": {
    "vscode": {
     "languageId": "java"
    }
   },
   "outputs": [],
   "source": [
    "%load ../fsm"
   ]
  },
  {
   "cell_type": "markdown",
   "id": "b1f194e1",
   "metadata": {},
   "source": [
    "### <span style=\"color:magenta\">שאלה 5</span>"
   ]
  },
  {
   "cell_type": "markdown",
   "id": "d95589dc",
   "metadata": {},
   "source": [
    "#### $L_1=\\{a^i b^j c^i\\ \\ | \\ i,j \\ge 0, \\ \\#b \\ \\bmod 2 = 0\\}$"
   ]
  },
  {
   "cell_type": "markdown",
   "id": "50253e99",
   "metadata": {},
   "source": [
    "לא רגולרית. יש אין סוף מצבים"
   ]
  },
  {
   "cell_type": "markdown",
   "id": "0bc16fe2",
   "metadata": {},
   "source": [
    "לא רגולרית. יש אין סוף מצבים, כי במשביל להשוואות את הקמויות צריך לספור אותם"
   ]
  },
  {
   "cell_type": "markdown",
   "id": "6662e961",
   "metadata": {},
   "source": [
    "#### $L_3=\\{a^x c^y b^z \\ | \\ x,y \\ge 0, \\ z=y \\bmod 3\\}$"
   ]
  },
  {
   "cell_type": "code",
   "execution_count": null,
   "id": "161aa259",
   "metadata": {
    "vscode": {
     "languageId": "java"
    }
   },
   "outputs": [],
   "source": [
    "var fsm = fsmFromMermaid(\"q0-5-3\", \"41-matkonet.dib\");\n",
    "accept(fsm, \"\", \"a\");\n",
    "accept(fsm, \"ac\");"
   ]
  },
  {
   "cell_type": "markdown",
   "id": "9b1252ed",
   "metadata": {},
   "source": [
    "רגולרית. אפשר לבנות אס\"ד.  "
   ]
  },
  {
   "cell_type": "markdown",
   "id": "e8102b98",
   "metadata": {},
   "source": [
    "#### $L_4\\{(ab)^x b^y \\ | \\ x,y \\ge 0, \\ y \\bmod 2 = 0 \\}$"
   ]
  },
  {
   "cell_type": "markdown",
   "id": "cf7740fc",
   "metadata": {},
   "source": [
    "רגולרית. אפשר לבנות אס\"ד"
   ]
  },
  {
   "cell_type": "markdown",
   "id": "db47a5d9",
   "metadata": {},
   "source": [
    "---"
   ]
  },
  {
   "cell_type": "code",
   "execution_count": 1,
   "id": "cbb6f585",
   "metadata": {
    "vscode": {
     "languageId": "java"
    }
   },
   "outputs": [],
   "source": [
    "%load ../fsm"
   ]
  },
  {
   "cell_type": "code",
   "execution_count": 2,
   "id": "281c4ef4",
   "metadata": {
    "vscode": {
     "languageId": "java"
    }
   },
   "outputs": [
    {
     "name": "stdout",
     "output_type": "stream",
     "text": [
      "'02' : true \n",
      "'011222' : true \n",
      "'00112220' : true \n",
      "'0020' : true \n",
      "'001111222220' : true \n",
      "'0' : false \n",
      "'01122' : false \n",
      "'0011222' : false \n",
      "'001220' : false \n"
     ]
    }
   ],
   "source": [
    "var fsm = fsmFromMermaid(\"q-04\", \"41-matkonet-q4.dib\");\n",
    "accept(fsm, \"02\", \"011222\", \"00112220\", \"0020\", \"001111222220\");\n",
    "accept(fsm, \"0\", \"01122\", \"0011222\", \"001220\");"
   ]
  }
 ],
 "metadata": {
  "kernelspec": {
   "display_name": "Java",
   "language": "java",
   "name": "java"
  },
  "language_info": {
   "codemirror_mode": "java",
   "file_extension": ".jshell",
   "mimetype": "text/x-java-source",
   "name": "Java",
   "pygments_lexer": "java",
   "version": "23+37-2369"
  }
 },
 "nbformat": 4,
 "nbformat_minor": 5
}
