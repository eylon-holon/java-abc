{
 "cells": [
  {
   "cell_type": "markdown",
   "id": "c8432de7",
   "metadata": {},
   "source": [
    "### <span style=\"color:magenta\">שאלה 1</span>"
   ]
  },
  {
   "cell_type": "markdown",
   "id": "97c080d3",
   "metadata": {},
   "source": [
    "![](../img/img_00395.png)"
   ]
  },
  {
   "cell_type": "markdown",
   "id": "1f07f2d3",
   "metadata": {},
   "source": [
    "<img src=\"../img/img_00500.png\" height=\"500\"/>"
   ]
  },
  {
   "cell_type": "markdown",
   "id": "9812f774",
   "metadata": {},
   "source": [
    "![](../img/img_00501.png)"
   ]
  },
  {
   "cell_type": "code",
   "execution_count": null,
   "id": "6177c3eb",
   "metadata": {
    "vscode": {
     "languageId": "java"
    }
   },
   "outputs": [],
   "source": [
    "class Trempiada {\n",
    "    private Queue<String> hailim;\n",
    "    private Queue<String> hailot;\n",
    "    private Queue<String> ezrahim;\n",
    "}"
   ]
  },
  {
   "cell_type": "markdown",
   "id": "0d3e3b5b",
   "metadata": {},
   "source": [
    "![](../img/img_00502.png)"
   ]
  },
  {
   "cell_type": "code",
   "execution_count": null,
   "id": "9230cece",
   "metadata": {
    "vscode": {
     "languageId": "java"
    }
   },
   "outputs": [],
   "source": [
    "public String remove() {\n",
    "    if (!hailot.isEmpty()) {\n",
    "        return hailot.remove();\n",
    "    }\n",
    "    if (!hailim.isEmpty()) {\n",
    "        return hailim.remove();\n",
    "    }\n",
    "    if (!ezrahim.isEmpty()) {\n",
    "        return ezrahim.remove();\n",
    "    }\n",
    "    return \"xxx\";\n",
    "}"
   ]
  },
  {
   "cell_type": "markdown",
   "id": "48255ae1",
   "metadata": {},
   "source": [
    "![](../img/img_00503.png)"
   ]
  },
  {
   "cell_type": "code",
   "execution_count": null,
   "id": "5c5ce05d",
   "metadata": {
    "vscode": {
     "languageId": "java"
    }
   },
   "outputs": [],
   "source": [
    "static public\n",
    "Node<String> nextTremps(Trempiada tr, int n) {\n",
    "    if (tr.isEmpty()) {\n",
    "        return null;\n",
    "    }\n",
    "    Node<String> list = new Node<String>(tr.remove());\n",
    "    Node<String> tail = list;\n",
    "    while (!tr.isEmpty() && n > 0) {\n",
    "        Node<String> node = new Node<String>(tr.remove());\n",
    "        tail.setNext(node);\n",
    "        node = tail;\n",
    "        n = n - 1;\n",
    "    }\n",
    "}"
   ]
  },
  {
   "cell_type": "markdown",
   "id": "522ed2d3",
   "metadata": {},
   "source": [
    "---"
   ]
  },
  {
   "cell_type": "markdown",
   "id": "8ba76174",
   "metadata": {},
   "source": [
    "### <span style=\"color:magenta\">שאלה 2</span>"
   ]
  },
  {
   "cell_type": "markdown",
   "id": "08634e4a",
   "metadata": {},
   "source": [
    "#### <span style=\"color:magenta\">סעיף א</span>"
   ]
  },
  {
   "cell_type": "markdown",
   "id": "ae68dbd8",
   "metadata": {},
   "source": [
    "![](../img/img_00574.png)"
   ]
  },
  {
   "cell_type": "code",
   "execution_count": null,
   "id": "f6522531",
   "metadata": {
    "vscode": {
     "languageId": "java"
    }
   },
   "outputs": [],
   "source": [
    "public static\n",
    "boolean etsNegudi(BinNode<Integer> node) {\n",
    "    if (node == null) {\n",
    "        return true;\n",
    "    }\n",
    "    Node<Integer> left = = node.getLeft();\n",
    "    Node<Integer> right = = node.getRight();\n",
    "    if (left == null && right == null) {\n",
    "        return true;\n",
    "    }\n",
    "    if (left == null || right == null) {\n",
    "        return false;\n",
    "    }\n",
    "    if (left.getValue() < 0 || right.getValue() > 0) {\n",
    "        return etsNegudi(left) && etsNegudi(right);\n",
    "    } \n",
    "    return false;\n",
    "}"
   ]
  },
  {
   "cell_type": "markdown",
   "id": "ec07c587",
   "metadata": {},
   "source": [
    "---"
   ]
  },
  {
   "cell_type": "markdown",
   "id": "1a95fff5",
   "metadata": {},
   "source": [
    "#### <span style=\"color:magenta\">סעיף ב</span>"
   ]
  },
  {
   "cell_type": "markdown",
   "id": "624dc65d",
   "metadata": {},
   "source": [
    "![](../img/img_00562.png)"
   ]
  },
  {
   "cell_type": "markdown",
   "id": "472012a3",
   "metadata": {},
   "source": [
    "![](../img/img_00564.png)"
   ]
  },
  {
   "cell_type": "markdown",
   "id": "ac7c5d7c",
   "metadata": {},
   "source": [
    "<img src=\"../img/img_00568.png\" width=800/>"
   ]
  },
  {
   "cell_type": "markdown",
   "id": "a4c32a1a",
   "metadata": {},
   "source": [
    "---"
   ]
  },
  {
   "cell_type": "markdown",
   "id": "e4d18c0e",
   "metadata": {},
   "source": [
    "### <span style=\"color:magenta\">שאלה 3</span>"
   ]
  },
  {
   "cell_type": "markdown",
   "id": "9e177741",
   "metadata": {},
   "source": [
    "![](../img/img_00553.png)"
   ]
  },
  {
   "cell_type": "markdown",
   "id": "7d7c5c25",
   "metadata": {},
   "source": [
    "![](../img/img_00554.png)"
   ]
  },
  {
   "cell_type": "code",
   "execution_count": null,
   "id": "fe7a292c",
   "metadata": {
    "vscode": {
     "languageId": "java"
    }
   },
   "outputs": [],
   "source": [
    "%load ../formulas"
   ]
  },
  {
   "cell_type": "code",
   "execution_count": null,
   "id": "f5f337d9",
   "metadata": {
    "vscode": {
     "languageId": "java"
    }
   },
   "outputs": [],
   "source": [
    "public static void search(Node< Integer > L)\n",
    "{\n",
    "    int a, k1 ,k2;\n",
    "    Node<Integer> L1, L2;\n",
    "    a = choiseRandom(L);\n",
    "    L1 = buildListSmaller(L, a);\n",
    "    k1 = lengthList(L1);\n",
    "    L2 = buildListBigger(L, a);\n",
    "    k2 = lengthList(L2);\n",
    "    if (k1 > k2) {\n",
    "        deleteNSmall (L1, k2+1);\n",
    "        search(L1);\n",
    "    }\n",
    "    if(k2 > k1) {\n",
    "        deleteNBig(L2, k1+1) ;\n",
    "        search(L2);\n",
    "    }\n",
    "    if (k1 == k2)\n",
    "        System.out.println(a);\n",
    "}"
   ]
  },
  {
   "cell_type": "markdown",
   "id": "191560fd",
   "metadata": {},
   "source": [
    "![](../img/img_00555.png)"
   ]
  },
  {
   "cell_type": "markdown",
   "id": "6406b690",
   "metadata": {},
   "source": [
    "<img src=\"../img/img_00556.png\" width=600/>"
   ]
  },
  {
   "cell_type": "markdown",
   "id": "bedfc6b2",
   "metadata": {},
   "source": [
    "![](../img/img_00557.png)"
   ]
  },
  {
   "cell_type": "markdown",
   "id": "b6b381bd",
   "metadata": {},
   "source": [
    "הפונקציה מדפיסה את החציון של הרשימה.  \n",
    "כלומר עיבר שכמות העיברים הקטנים ממנו שווה לכמות העברים הגדולים ממנו"
   ]
  },
  {
   "cell_type": "code",
   "execution_count": null,
   "id": "007c2c7a",
   "metadata": {
    "vscode": {
     "languageId": "java"
    }
   },
   "outputs": [],
   "source": [
    "public static Node<Integer> buildListSmaller(Node<Integer> L, int x) {\n",
    "    Node<Integer> list = null;\n",
    "    Node<Integer> tail = null;\n",
    "    while (L != null) {\n",
    "        if (L.getValue() < x) {\n",
    "            Node<Integer> newNode = new Node<Integer>(x); \n",
    "            if (list == null) {\n",
    "                list = newNode;\n",
    "                tail = newNode;\n",
    "            } else {\n",
    "                tail.setNext(newNode);\n",
    "                tail = newNode;\n",
    "            }\n",
    "        }\n",
    "        L = L.getNext();\n",
    "    }\n",
    "    return list;\n",
    "}"
   ]
  },
  {
   "cell_type": "markdown",
   "id": "3d5024d1",
   "metadata": {},
   "source": [
    "---"
   ]
  },
  {
   "cell_type": "markdown",
   "id": "9a0b2a06",
   "metadata": {},
   "source": [
    "### <span style=\"color:magenta\">שאלה 4</span>"
   ]
  },
  {
   "cell_type": "markdown",
   "id": "e31671bc",
   "metadata": {},
   "source": [
    "#### <span style=\"color:magenta\">סעיף א</span>"
   ]
  },
  {
   "cell_type": "markdown",
   "id": "ca18d3f2",
   "metadata": {},
   "source": [
    "#### $L=\\{0^k 1^{2m} 2^{2m+1} 0^{k-1} \\ | \\ k>0, m \\ge 0\\}$"
   ]
  },
  {
   "cell_type": "code",
   "execution_count": null,
   "id": "d37ccc97",
   "metadata": {
    "vscode": {
     "languageId": "java"
    }
   },
   "outputs": [],
   "source": [
    "%load ../fsm"
   ]
  },
  {
   "cell_type": "code",
   "execution_count": null,
   "id": "281c4ef4",
   "metadata": {
    "vscode": {
     "languageId": "java"
    }
   },
   "outputs": [],
   "source": [
    "var fsm = fsmFromMermaid(\"q4-a\", \"41-matkonet.dib\");\n",
    "accept(fsm, \"02\", \"011222\", \"00112220\", \"0020\", \"001111222220\");\n",
    "accept(fsm, \"0\", \"01122\", \"0011222\", \"001220\");"
   ]
  },
  {
   "cell_type": "markdown",
   "id": "8b5f511d",
   "metadata": {},
   "source": [
    "#### <span style=\"color:magenta\">סעיף ב</span>"
   ]
  },
  {
   "cell_type": "markdown",
   "id": "12d4d8c0",
   "metadata": {},
   "source": [
    "![](../img/img_00570.png)"
   ]
  },
  {
   "cell_type": "markdown",
   "id": "60754f82",
   "metadata": {},
   "source": [
    "---"
   ]
  },
  {
   "cell_type": "markdown",
   "id": "16a70ddb",
   "metadata": {},
   "source": [
    "#### $L_5=\\{w \\ | \\ |w| \\bmod 6=0\\}$\n",
    "**aaabbb**"
   ]
  },
  {
   "cell_type": "markdown",
   "id": "321578c8",
   "metadata": {},
   "source": [
    "#### $L_6=\\{w \\ | \\ \\#a,\\#b \\ \\bmod \\ 2=1\\}$\n",
    "**aaabbb**"
   ]
  },
  {
   "cell_type": "markdown",
   "id": "b1f194e1",
   "metadata": {},
   "source": [
    "### <span style=\"color:magenta\">שאלה 5</span>"
   ]
  },
  {
   "cell_type": "markdown",
   "id": "d95589dc",
   "metadata": {},
   "source": [
    "#### $L_1=\\{a^i b^j c^i\\ \\ | \\ i,j \\ge 0, \\ \\#b \\ \\bmod 2 = 0\\}$"
   ]
  },
  {
   "cell_type": "markdown",
   "id": "50253e99",
   "metadata": {},
   "source": [
    "ספה לא רגולרית.  \n",
    "הסבר: כמויות האותיות  \n",
    "a, c  \n",
    "תליות אחת בשניה  \n",
    "ספירה של כמויות דורשת כמות אין סופית של מצבים  \n",
    "לכן אי אפשר לבנות אס\"ד וספה לא רגולרית"
   ]
  },
  {
   "cell_type": "markdown",
   "id": "f7cd6a68",
   "metadata": {},
   "source": [
    "---"
   ]
  },
  {
   "cell_type": "markdown",
   "id": "381253e7",
   "metadata": {},
   "source": [
    "![](../img/img_00571.png)"
   ]
  },
  {
   "cell_type": "markdown",
   "id": "0bc16fe2",
   "metadata": {},
   "source": [
    "ספה לא רגולרית  \n",
    "הסבר: כמויות האותיות  \n",
    "a, b  \n",
    "תליות אחת בשניה  \n",
    "אי אפשר לקיים תנאי של שיווין בלי לספור אותן  \n",
    "ספירה של כמויות דורשת כמות אין סופית של מצבים  \n",
    "לכן אי אפשר לבנות אס\"ד וספה לא רגולרית"
   ]
  },
  {
   "cell_type": "markdown",
   "id": "64d0cb3f",
   "metadata": {},
   "source": [
    "---"
   ]
  },
  {
   "cell_type": "markdown",
   "id": "6662e961",
   "metadata": {},
   "source": [
    "#### $L_3=\\{a^x c^y b^z \\ | \\ x,y \\ge 0, \\ z=y \\bmod 3\\}$"
   ]
  },
  {
   "cell_type": "markdown",
   "id": "9b1252ed",
   "metadata": {},
   "source": [
    "רגולרית. אפשר לבנות אס\"ד.  "
   ]
  },
  {
   "cell_type": "markdown",
   "id": "2c168a6e",
   "metadata": {},
   "source": [
    "<img src=\"../img/img_00572.png\" width=400>"
   ]
  },
  {
   "cell_type": "code",
   "execution_count": null,
   "id": "161aa259",
   "metadata": {
    "vscode": {
     "languageId": "java"
    }
   },
   "outputs": [],
   "source": [
    "var fsm = fsmFromMermaid(\"q5-3\", \"41-matkonet.dib\");\n",
    "accept(fsm, \"\", \"a\", \"aaa\", \"acb\", \"acbbbb\", \"ccbb\", \"accbbbbb\", \"ccc\", \"acccbbb\");\n",
    "accept(fsm, \"b\", \"c\", \"cbb\", \"cbbb\", \"cc\", \"ccb\", \"ccbbb\", \"cccb\", \"cccbb\", \"cccbbbb\");"
   ]
  },
  {
   "cell_type": "markdown",
   "id": "4e4716bf",
   "metadata": {},
   "source": [
    "---"
   ]
  },
  {
   "cell_type": "markdown",
   "id": "e8102b98",
   "metadata": {},
   "source": [
    "#### $L_4\\{(ab)^x b^y \\ | \\ x,y \\ge 0, \\ y \\bmod 2 = 0 \\}$"
   ]
  },
  {
   "cell_type": "markdown",
   "id": "cf7740fc",
   "metadata": {},
   "source": [
    "רגולרית. אפשר לבנות אס\"ד"
   ]
  },
  {
   "cell_type": "markdown",
   "id": "e6fa8a93",
   "metadata": {},
   "source": [
    "<img src=\"../img/img_00573.png\" width=300>"
   ]
  },
  {
   "cell_type": "code",
   "execution_count": null,
   "id": "c872cdbd",
   "metadata": {
    "vscode": {
     "languageId": "java"
    }
   },
   "outputs": [],
   "source": [
    "var fsm = fsmFromMermaid(\"q5-4\", \"41-matkonet.dib\");\n",
    "accept(fsm, \"\", \"bb\", \"bbbb\", \"ab\", \"abbb\", \"abab\", \"ababbb\", \"ababbbbb\");\n",
    "accept(fsm, \"a\", \"abb\", \"b\", \"aab\", \"abbbb\", \"ababb\");"
   ]
  }
 ],
 "metadata": {
  "kernelspec": {
   "display_name": "Java",
   "language": "java",
   "name": "java"
  },
  "language_info": {
   "codemirror_mode": "java",
   "file_extension": ".jshell",
   "mimetype": "text/x-java-source",
   "name": "Java",
   "pygments_lexer": "java",
   "version": "23+37-2369"
  }
 },
 "nbformat": 4,
 "nbformat_minor": 5
}
