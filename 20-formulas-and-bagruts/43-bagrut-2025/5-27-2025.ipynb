{
 "cells": [
  {
   "cell_type": "code",
   "execution_count": 1,
   "id": "a5ff92f1",
   "metadata": {
    "vscode": {
     "languageId": "java"
    }
   },
   "outputs": [],
   "source": [
    "%load ../formulas"
   ]
  },
  {
   "cell_type": "markdown",
   "id": "14068614",
   "metadata": {},
   "source": [
    "---"
   ]
  },
  {
   "cell_type": "markdown",
   "id": "6748380e",
   "metadata": {},
   "source": [
    "## שאלה 2"
   ]
  },
  {
   "cell_type": "code",
   "execution_count": 6,
   "id": "8e168903",
   "metadata": {
    "vscode": {
     "languageId": "java"
    }
   },
   "outputs": [],
   "source": [
    "public static\n",
    "boolean mmm(Queue<Integer> q, int z) {\n",
    "    q.insert(0);\n",
    "    int num = q.head();\n",
    "    int y = 0;\n",
    "    while (q.head() > 0) {\n",
    "        if (y < z) {\n",
    "            if (q.head() == num) {\n",
    "                y++;\n",
    "            }\n",
    "            else {\n",
    "                num = q.head();\n",
    "                y = 1;\n",
    "            }\n",
    "        }\n",
    "        q.insert(q.remove());\n",
    "    }\n",
    "    q.remove();\n",
    "    return y == z;\n",
    "}"
   ]
  },
  {
   "cell_type": "markdown",
   "id": "948fcae9",
   "metadata": {},
   "source": [
    "| <tt>q             | <tt>z | <tt>num   | <tt>y  | <tt>y < z | <tt>q.head() == num  |\n",
    "|---                |---    |---        |---     |---        |---                   |\n",
    "|<tt>[1,3,1,1,1,2]  |<tt>4  |           |<tt>0   |           |                      |\n",
    "|<tt>[1,3,1,1,1,2,0]|       |<tt>1      |<tt>1   |<tt>true   |<tt>true              |\n",
    "|<tt>[3,1,1,1,2,0,1]|       |<tt>3      |<tt>1   |<tt>true   |<tt>false             |\n",
    "|<tt>[1,1,1,2,0,1,3]|       |<tt>1      |<tt>1   |<tt>true   |<tt>false             |\n",
    "|<tt>[1,1,2,0,1,3,1]|       |<tt>1      |<tt>2   |<tt>true   |<tt>true              |\n",
    "|<tt>[1,2,0,1,3,1,1]|       |<tt>1      |<tt>3   |<tt>true   |<tt>true              |\n",
    "|<tt>[2,0,1,3,1,1,1]|       |<tt>2      |<tt>1   |<tt>true   |<tt>false             |\n",
    "|<tt>[0,1,3,1,1,1,2]|       |<tt>0      |<tt>1   |<tt>true   |<tt>false             |\n",
    "|<tt>[1,3,1,1,1,2]  |       |           |        |           |                      |\n"
   ]
  },
  {
   "cell_type": "code",
   "execution_count": 8,
   "id": "fca140c4",
   "metadata": {
    "vscode": {
     "languageId": "java"
    }
   },
   "outputs": [
    {
     "data": {
      "text/plain": [
       "false"
      ]
     },
     "execution_count": 8,
     "metadata": {},
     "output_type": "execute_result"
    }
   ],
   "source": [
    "mmm(a2q(new int[] {1, 3, 1, 1, 1, 2}), 4);"
   ]
  },
  {
   "cell_type": "code",
   "execution_count": 9,
   "id": "ab05204d",
   "metadata": {
    "vscode": {
     "languageId": "java"
    }
   },
   "outputs": [],
   "source": [
    "public static int what(Queue<Integer> q, int n) {\n",
    "    if (mmm(q, n)) {\n",
    "        return n;\n",
    "    }\n",
    "    return what(q, n-1);\n",
    "}"
   ]
  },
  {
   "cell_type": "code",
   "execution_count": 10,
   "id": "6ece2b1e",
   "metadata": {
    "vscode": {
     "languageId": "java"
    }
   },
   "outputs": [
    {
     "data": {
      "text/plain": [
       "3"
      ]
     },
     "execution_count": 10,
     "metadata": {},
     "output_type": "execute_result"
    }
   ],
   "source": [
    "what(a2q(new int[] {1, 3, 1, 1, 1, 2}), 6);"
   ]
  },
  {
   "cell_type": "markdown",
   "id": "fa3ec9e9",
   "metadata": {},
   "source": [
    "---"
   ]
  },
  {
   "cell_type": "markdown",
   "id": "9a8d8450",
   "metadata": {},
   "source": [
    "## k-left-tree"
   ]
  },
  {
   "cell_type": "markdown",
   "id": "c08fbf9d",
   "metadata": {},
   "source": [
    "<b>! צומת זה גם עלה"
   ]
  },
  {
   "cell_type": "code",
   "execution_count": null,
   "id": "a980c0d3",
   "metadata": {
    "vscode": {
     "languageId": "java"
    }
   },
   "outputs": [],
   "source": [
    "public static\n",
    "int countLeftTurns(BinNode<Integer> node) {\n",
    "    if (node == null) {\n",
    "        return 0;\n",
    "    }\n",
    "    int count = Math.max(\n",
    "        countLeftTurns(node.getLeft(),\n",
    "        countLeftTurns(node.getRight()))\n",
    "    );\n",
    "    if (node.getLeft() != null) {\n",
    "        count += 1;\n",
    "    }\n",
    "    return count;\n",
    "}"
   ]
  },
  {
   "cell_type": "code",
   "execution_count": null,
   "id": "2423f492",
   "metadata": {
    "vscode": {
     "languageId": "java"
    }
   },
   "outputs": [],
   "source": [
    "public static\n",
    "boolean isLeftK(BinNode<Integer> tree, int k) {\n",
    "    return countLeftTurns(tree) <= k;\n",
    "}"
   ]
  },
  {
   "cell_type": "code",
   "execution_count": null,
   "id": "c9402288",
   "metadata": {
    "vscode": {
     "languageId": "java"
    }
   },
   "outputs": [],
   "source": [
    "public static\n",
    "boolean isLeftK_2(BinNode<Integer> tree, int k) {\n",
    "    if (k < 0) {\n",
    "        return false;\n",
    "    }\n",
    "    if (tree == null) {\n",
    "        return true;\n",
    "    }\n",
    "    return \n",
    "        isLeftK_2(tree.getLeft(), k-1) &&\n",
    "        isLeftK_2(tree.getRight(), k);\n",
    "}"
   ]
  },
  {
   "cell_type": "markdown",
   "id": "35a3d455",
   "metadata": {},
   "source": [
    "---"
   ]
  },
  {
   "cell_type": "markdown",
   "id": "a16fe019",
   "metadata": {},
   "source": [
    "$L_1=\\{a^n b^m a^k \\ | \\ n,m,k>0, n=k \\}$"
   ]
  },
  {
   "cell_type": "markdown",
   "id": "fda96f75",
   "metadata": {},
   "source": [
    "$L_2=\\{a^n b^m a^k \\ | \\ n,m,k>0, \\ n \\ \\% \\ 2 = k \\ \\% \\ 2 \\}$"
   ]
  },
  {
   "cell_type": "markdown",
   "id": "dfe7718e",
   "metadata": {},
   "source": [
    "$L_3=\\{a^n b^m a^k \\ | \\ n,m,k>0, \\ n+m+k<100 \\}$"
   ]
  },
  {
   "cell_type": "markdown",
   "id": "493ef092",
   "metadata": {},
   "source": [
    "$L_1 \\cap L_3$"
   ]
  },
  {
   "cell_type": "markdown",
   "id": "b5c0bc68",
   "metadata": {},
   "source": [
    "$L_1 \\cap \\lineover{L_3}$"
   ]
  }
 ],
 "metadata": {
  "kernelspec": {
   "display_name": "Java",
   "language": "java",
   "name": "java"
  },
  "language_info": {
   "codemirror_mode": "java",
   "file_extension": ".jshell",
   "mimetype": "text/x-java-source",
   "name": "Java",
   "pygments_lexer": "java",
   "version": "17.0.2+8"
  }
 },
 "nbformat": 4,
 "nbformat_minor": 5
}
