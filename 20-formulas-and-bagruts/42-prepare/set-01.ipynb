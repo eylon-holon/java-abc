{
 "cells": [
  {
   "cell_type": "code",
   "execution_count": 2,
   "id": "c7bf878e",
   "metadata": {},
   "outputs": [],
   "source": [
    "## [🎦](https://youtu.be/Dop1mkzgKvY) <span style=\"color:magenta\"> שאלה 1"
   ]
  },
  {
   "cell_type": "markdown",
   "id": "9818c921",
   "metadata": {},
   "source": [
    "א. עקבו לאחר שתי הפונקציות  \n",
    "ציירו את הרשימה המתקבלת לאחר קריאה  \n",
    "**<tt>what(que[1, 2, 3, 4])</tt>**\n",
    "  \n",
    "ב. מה היא טענת כניסה וטענת יציה של פונקציה  \n",
    "**<tt>what(...)</tt>**  \n"
   ]
  },
  {
   "cell_type": "code",
   "execution_count": 3,
   "id": "8fe6d1ef",
   "metadata": {},
   "outputs": [],
   "source": [
    "Node<Integer> sod(Node<Integer> node, Queue<Integer> que1, Queue<Integer> que2) {\n",
    "    if (que1.isEmpty()) {\n",
    "        return node;\n",
    "    }\n",
    "    int x = que1.remove();\n",
    "    que2.insert(x);\n",
    "    Node<Integer> lst = sod(new Node<Integer>(x, node), que1, que2);\n",
    "    que1.insert(que2.remove());\n",
    "    return lst;\n",
    "}\n",
    "\n",
    "Node<Integer> what(Queue<Integer> que) {\n",
    "    Queue<Integer> tmp = new Queue<Integer>();\n",
    "    return sod(null, que, tmp);\n",
    "}\n"
   ]
  },
  {
   "cell_type": "markdown",
   "id": "0474eec6",
   "metadata": {},
   "source": [
    "![](../img/img_00598.png)"
   ]
  },
  {
   "cell_type": "code",
   "execution_count": null,
   "id": "c7bf878e",
   "metadata": {
    "vscode": {
     "languageId": "java"
    }
   },
   "outputs": [],
   "source": [
    "%load ../formulas"
   ]
  },
  {
   "cell_type": "code",
   "execution_count": null,
   "id": "432de07b",
   "metadata": {
    "vscode": {
     "languageId": "java"
    }
   },
   "outputs": [],
   "source": [
    "var que = a2q(new int[] {1, 2, 3, 4, 5, 6, 7});\n",
    "print(que);\n",
    "print(what(que));"
   ]
  },
  {
   "cell_type": "markdown",
   "id": "d53e3165",
   "metadata": {},
   "source": [
    "---"
   ]
  },
  {
   "cell_type": "markdown",
   "id": "ebeae6c2",
   "metadata": {},
   "source": [
    "![](../img/img_00589.png)"
   ]
  },
  {
   "cell_type": "markdown",
   "id": "15ac7e52",
   "metadata": {},
   "source": [
    "![](../img/img_00590.png)"
   ]
  },
  {
   "cell_type": "code",
   "execution_count": null,
   "id": "b3d6d32b",
   "metadata": {},
   "outputs": [],
   "source": []
  },
  {
   "cell_type": "markdown",
   "id": "dd763d4c",
   "metadata": {},
   "source": [
    "![](../img/img_00591.png)"
   ]
  },
  {
   "cell_type": "code",
   "execution_count": null,
   "id": "2ed83fa1",
   "metadata": {},
   "outputs": [],
   "source": []
  },
  {
   "cell_type": "markdown",
   "id": "07f3a114",
   "metadata": {},
   "source": [
    "![](../img/img_00592.png)"
   ]
  },
  {
   "cell_type": "code",
   "execution_count": null,
   "id": "d6274d3d",
   "metadata": {},
   "outputs": [],
   "source": []
  },
  {
   "cell_type": "markdown",
   "id": "9689c9b9",
   "metadata": {},
   "source": [
    "---"
   ]
  },
  {
   "cell_type": "markdown",
   "id": "159c3247",
   "metadata": {},
   "source": [
    "![](../img/img_00593.png)"
   ]
  },
  {
   "cell_type": "markdown",
   "id": "5ef42809",
   "metadata": {},
   "source": []
  },
  {
   "cell_type": "markdown",
   "id": "81eafb0e",
   "metadata": {},
   "source": []
  },
  {
   "cell_type": "markdown",
   "id": "8a949f30",
   "metadata": {},
   "source": [
    "![](../img/img_00594.png)"
   ]
  },
  {
   "cell_type": "markdown",
   "id": "bf82d371",
   "metadata": {},
   "source": []
  },
  {
   "cell_type": "markdown",
   "id": "15bc520a",
   "metadata": {},
   "source": []
  },
  {
   "cell_type": "markdown",
   "id": "26a6b394",
   "metadata": {},
   "source": [
    "---"
   ]
  },
  {
   "cell_type": "markdown",
   "id": "f2d963d4",
   "metadata": {},
   "source": [
    "![](../img/img_00595.png)"
   ]
  },
  {
   "cell_type": "markdown",
   "id": "33b9e663",
   "metadata": {},
   "source": [
    "![](../img/img_00596.png)"
   ]
  }
 ],
 "metadata": {
  "kernelspec": {
   "display_name": "Java",
   "language": "java",
   "name": "java"
  },
  "language_info": {
   "codemirror_mode": "java",
   "file_extension": ".jshell",
   "mimetype": "text/x-java-source",
   "name": "java",
   "pygments_lexer": "java",
   "version": "21.0.4+7-LTS"
  }
 },
 "nbformat": 4,
 "nbformat_minor": 5
}
