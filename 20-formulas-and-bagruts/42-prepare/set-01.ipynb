{
 "cells": [
  {
   "cell_type": "code",
   "execution_count": 8,
   "id": "c7bf878e",
   "metadata": {
    "vscode": {
     "languageId": "java"
    }
   },
   "outputs": [],
   "source": [
    "%load ../formulas"
   ]
  },
  {
   "cell_type": "code",
   "execution_count": null,
   "id": "8fe6d1ef",
   "metadata": {
    "vscode": {
     "languageId": "java"
    }
   },
   "outputs": [],
   "source": [
    "Node<Integer> sod(Node<Integer> node, Queue<Integer> que1, Queue<Integer> que2) {\n",
    "    if (que1.isEmpty()) {\n",
    "        return node;\n",
    "    }\n",
    "    int x = que1.remove();\n",
    "    que2.insert(x);\n",
    "    Node<Integer> lst = sod(new Node<Integer>(x, node), que1, que2);\n",
    "    que1.insert(que2.remove());\n",
    "    return lst;\n",
    "}\n",
    "\n",
    "Node<Integer> what(Queue<Integer> que) {\n",
    "    Queue<Integer> tmp = new Queue<Integer>();\n",
    "    return sod(null, que, tmp);\n",
    "}\n"
   ]
  },
  {
   "cell_type": "code",
   "execution_count": 18,
   "id": "432de07b",
   "metadata": {
    "vscode": {
     "languageId": "java"
    }
   },
   "outputs": [
    {
     "name": "stdout",
     "output_type": "stream",
     "text": [
      "[1, 2, 3, 4, 5, 6, 7] \n",
      "[7, 6, 5, 4, 3, 2, 1] \n"
     ]
    }
   ],
   "source": [
    "var que = a2q(new int[] {1, 2, 3, 4, 5, 6, 7});\n",
    "print(que);\n",
    "print(what(que));"
   ]
  }
 ],
 "metadata": {
  "kernelspec": {
   "display_name": "Java",
   "language": "java",
   "name": "java"
  },
  "language_info": {
   "codemirror_mode": "java",
   "file_extension": ".jshell",
   "mimetype": "text/x-java-source",
   "name": "Java",
   "pygments_lexer": "java",
   "version": "23+37-2369"
  }
 },
 "nbformat": 4,
 "nbformat_minor": 5
}
