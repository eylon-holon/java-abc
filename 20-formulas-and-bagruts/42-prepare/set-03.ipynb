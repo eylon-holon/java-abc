{
 "cells": [
  {
   "cell_type": "markdown",
   "id": "2c2c7e7f",
   "metadata": {},
   "source": [
    "![](img/img_00796.png)"
   ]
  },
  {
   "cell_type": "code",
   "execution_count": 2,
   "id": "0fff7bb6",
   "metadata": {
    "vscode": {
     "languageId": "java"
    }
   },
   "outputs": [],
   "source": [
    "%load ../formulas"
   ]
  },
  {
   "cell_type": "markdown",
   "id": "46e7794b",
   "metadata": {},
   "source": [
    "## <span style=\"color:magenta\"> שאלה 1"
   ]
  },
  {
   "cell_type": "markdown",
   "id": "399b6328",
   "metadata": {},
   "source": [
    "נתון מערך של מספרים שלמים שאינם אפס  \n",
    "סכום של כל המספרים במערך שווה לאפס  \n",
    "ידוע כי מערך זה מתחלק לתת-מערכים, שסכום המספרים בכל תת-מערך גם אפס  \n",
    "תת-מערכים אינם מתלקדים, וגם אין מספרים שלא שייכים לתת-מערך כלשהו  \n",
    "הערה: תת-מערך הוא מערך שלא כולל תת-מערכים אחרים"
   ]
  },
  {
   "cell_type": "markdown",
   "id": "10b1237d",
   "metadata": {},
   "source": [
    "לדוגמה  \n",
    "\n",
    "<tt>[3, -1, -2, 5, 7, -15, 3, -10, 10, 40, -10, -30]\n"
   ]
  },
  {
   "cell_type": "markdown",
   "id": "071e50fd",
   "metadata": {},
   "source": [
    "א. כתבו פונקציה שמחזירה אורך של תת-מערך הארוך מכולם  "
   ]
  },
  {
   "cell_type": "code",
   "execution_count": 6,
   "id": "20d5c83b",
   "metadata": {
    "vscode": {
     "languageId": "java"
    }
   },
   "outputs": [],
   "source": [
    "public static\n",
    "int longestSubArray(int[] arr) {\n",
    "    int max = 0;\n",
    "    int sum = 0;\n",
    "    int count = 0;\n",
    "    for (int i = 0; i < arr.length; i++) {\n",
    "        sum += arr[i];\n",
    "        count++;\n",
    "        if (sum == 0) {\n",
    "            if (max < count) {\n",
    "                max = count;\n",
    "            }\n",
    "            count = 0;\n",
    "        }\n",
    "    }\n",
    "    return max;\n",
    "}"
   ]
  },
  {
   "cell_type": "markdown",
   "id": "1cf2a021",
   "metadata": {},
   "source": [
    "ב. מה סיבוכיות זמן ריצה של פנוקציה שכתבתם בסעיף א? נמקו"
   ]
  },
  {
   "cell_type": "markdown",
   "id": "4e90f199",
   "metadata": {},
   "source": [
    "$O(n)$  \n",
    "כי עוברים פעם אחד על כל האברים של קלט  "
   ]
  },
  {
   "cell_type": "markdown",
   "id": "0d7eb613",
   "metadata": {},
   "source": [
    "ג. כתבו פונקציה שמחזירה אורך השכיח ביותר בין כל תתי-מערכים.  \n",
    "הפונקציה אמורה לעבוד בסיבוכיות זמן של  \n",
    "$O(n)$\n"
   ]
  },
  {
   "cell_type": "code",
   "execution_count": 29,
   "id": "993a9e76",
   "metadata": {
    "vscode": {
     "languageId": "java"
    }
   },
   "outputs": [],
   "source": [
    "public static\n",
    "int mostFrequentLength(int[] arr) {\n",
    "    int[] frequnces = new int[longestSubArray(arr) + 1];\n",
    "    int sum = 0;\n",
    "    int count = 0;\n",
    "    for (int i = 0; i < arr.length; i++) {\n",
    "        sum += arr[i];\n",
    "        count++;\n",
    "        if (sum == 0) {\n",
    "            frequnces[count] += 1;\n",
    "            count = 0;\n",
    "        }\n",
    "    }\n",
    "    int max = 0;\n",
    "    for (int i = 0; i < frequnces.length; i++) {\n",
    "        if (max < frequnces[i]) {\n",
    "            max = frequnces[i];\n",
    "        }\n",
    "    }\n",
    "    print(frequnces);\n",
    "    return max;\n",
    "}"
   ]
  },
  {
   "cell_type": "code",
   "execution_count": 32,
   "id": "48daa319",
   "metadata": {
    "vscode": {
     "languageId": "java"
    }
   },
   "outputs": [
    {
     "name": "stdout",
     "output_type": "stream",
     "text": [
      "4 \n",
      "[0, 0, 2, 3, 1] \n",
      "3 \n"
     ]
    }
   ],
   "source": [
    "int[] arr = new int[] {3, -1, -2, 5, 7, -15, 3, -10, 10, 40, -10, -30, -3, -3, 6, -7, 7};\n",
    "print(longestSubArray(arr));\n",
    "print(mostFrequentLength(arr));"
   ]
  },
  {
   "cell_type": "markdown",
   "id": "cf1a686b",
   "metadata": {},
   "source": [
    "---"
   ]
  },
  {
   "cell_type": "markdown",
   "id": "9ca6b8da",
   "metadata": {},
   "source": [
    "## <span style=\"color:magenta\"> שאלה 2"
   ]
  },
  {
   "cell_type": "markdown",
   "id": "e66a4eca",
   "metadata": {},
   "source": [
    "אפשר להניח שבכל המחלקות יש את ה  \n",
    "getters and setters  \n",
    "הרלוונטיים"
   ]
  },
  {
   "cell_type": "markdown",
   "id": "35810b86",
   "metadata": {},
   "source": [
    "```java\n",
    "class Mark {\n",
    "    private String studentName;\n",
    "    private String mikzoa;\n",
    "    private int grade; \n",
    "\n",
    "    public Mark(...) {\n",
    "        // א. להגדיר פרמטרים ולממש פעולה בונה\n",
    "        ...\n",
    "    }\n",
    "}\n",
    "\n",
    "public static\n",
    "int averageGrade(String studentName, String mikzoa, Mark[] marks) {\n",
    "    // ב. לממש ממוצא, ציונים מכילים כל המקצועות של כל התלמידים\n",
    "    ...\n",
    "}\n",
    "\n",
    "class Teuda {\n",
    "    private String studentName;\n",
    "    private Mark[] marks;\n",
    "\n",
    "    public Teuda(String studentName, String[] mikzoot, Mark[] marks) {\n",
    "        // ג. לממש פעולה בונה עבור תלמיד ומקצועות נתונות\n",
    "        // ציון של כל מיקצוע יהיה ממוצא של כל הציונים של תלמיד זה במקצוע\n",
    "        // ציונים מכילים את כל המקצועות של כל התלמידים\n",
    "        // מה הסיבוכיות של זמן ריצה? נמקו\n",
    "        ...\n",
    "    }\n",
    "\n",
    "    public boolean isBetterThan(Teuda other) {\n",
    "        // ד. תעודה טובה יותר עם סכום הפרשי כל הציונים בהתאמה חיובי\n",
    "        // תניכו, כי מקצועות מסודרות באותו סדר\n",
    "        // מה הסיבוכיות של זמן ריצה? נמקו\n",
    "    }\n",
    "}\n",
    "```"
   ]
  },
  {
   "cell_type": "code",
   "execution_count": null,
   "id": "733f0251",
   "metadata": {
    "vscode": {
     "languageId": "java"
    }
   },
   "outputs": [],
   "source": [
    "class Mark {\n",
    "    private String studentName;\n",
    "    private String mikzoa;\n",
    "    private int grade;\n",
    "\n",
    "    public String getStudenName() { return studentName; }\n",
    "    public String getMikzoa() { return mikzoa; }\n",
    "    public int getGrade() { return grade; }\n",
    "\n",
    "    public Mark(String studentName, String mikzoa, int grade) {\n",
    "        this.studentName =studentName;\n",
    "        this.mikzoa = mikzoa;\n",
    "        this.grade = grade;\n",
    "    }\n",
    "}\n",
    "\n",
    "// O(n)\n",
    "public static\n",
    "int averageGrade(String studentName, String mikzoa, Mark[] marks) {\n",
    "    int sum = 0;\n",
    "    int count = 0;\n",
    "    for (int i = 0; i < marks.length; i++) {\n",
    "        if (marks[i].getStudenName().equals(studentName) &&\n",
    "            marks[i].getMikzoa().equals(mikzoa))\n",
    "        {\n",
    "            sum += marks[i].getGrade();\n",
    "            count += 1;\n",
    "        }\n",
    "    }\n",
    "    return sum / count;\n",
    "}\n",
    "\n",
    "class Teuda {\n",
    "    private String studentName;\n",
    "    private Mark[] marks;\n",
    "\n",
    "    // O(n^2)\n",
    "    public Teuda(String studentName, String[] mikzoot, Mark[] marks) {\n",
    "        this.studentName = studentName;\n",
    "        this.marks = new Mark[mikzoot.length];\n",
    "        for (int i = 0; i < this.marks.length; i++) {\n",
    "            int grade = averageGrade(studentName, mikzoot[i], marks);\n",
    "            this.marks[i] = new Mark(studentName, mikzoot[i], grade);\n",
    "        }\n",
    "    }\n",
    "\n",
    "    // O(n)\n",
    "    public boolean isBetterThan(Teuda other) {\n",
    "        int diff = 0;\n",
    "        for (int i = 0; i < this.marks.length; i++) {\n",
    "            diff += this.marks[i].getGrade() - other.getMarks()[i].getGrade(); \n",
    "        }\n",
    "        return diff > 0;\n",
    "    }\n",
    "}\n"
   ]
  }
 ],
 "metadata": {
  "kernelspec": {
   "display_name": "Java",
   "language": "java",
   "name": "java"
  },
  "language_info": {
   "codemirror_mode": "java",
   "file_extension": ".jshell",
   "mimetype": "text/x-java-source",
   "name": "Java",
   "pygments_lexer": "java",
   "version": "23+37-2369"
  }
 },
 "nbformat": 4,
 "nbformat_minor": 5
}
