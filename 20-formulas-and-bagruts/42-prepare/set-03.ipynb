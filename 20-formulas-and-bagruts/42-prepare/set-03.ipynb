{
 "cells": [
  {
   "cell_type": "markdown",
   "id": "2c2c7e7f",
   "metadata": {},
   "source": [
    "![](img/img_00796.png)"
   ]
  },
  {
   "cell_type": "markdown",
   "id": "46e7794b",
   "metadata": {},
   "source": [
    "## <span style=\"color:magenta\"> שאלה 1"
   ]
  },
  {
   "cell_type": "markdown",
   "id": "399b6328",
   "metadata": {},
   "source": [
    "נתון מערך של מספרים שלמים שאינם אפס  \n",
    "סכום של כל המספרים במערך שווה לאפס  \n",
    "ידוע כי מערך זה מתחלק לתת-מערכים, שסכום המספרים בכל תת-מערך גם אפס  \n",
    "תת-מערכים אינם מתלקדים, וגם אין מספרים שלא שייכים לתת-מערך כלשהו  \n",
    "הערה: תת-מערך הוא מערך שלא כולל תת-מערכים אחרים"
   ]
  },
  {
   "cell_type": "markdown",
   "id": "10b1237d",
   "metadata": {},
   "source": [
    "לדוגמה  \n",
    "\n",
    "<tt>[3, -1, -2, 5, 7, -15, 3, -10, 10, 40, -10, -30]\n"
   ]
  },
  {
   "cell_type": "markdown",
   "id": "071e50fd",
   "metadata": {},
   "source": [
    "א. כתבו פונקציה שמחזירה אורך של תת-מערך הארוך מכולם  "
   ]
  },
  {
   "cell_type": "code",
   "execution_count": null,
   "id": "20d5c83b",
   "metadata": {},
   "outputs": [],
   "source": []
  },
  {
   "cell_type": "markdown",
   "id": "1cf2a021",
   "metadata": {},
   "source": [
    "ב. מה סיבוכיות זמן ריצה של פנוקציה שכתבתם בסעיף א? נמקו"
   ]
  },
  {
   "cell_type": "markdown",
   "id": "4e90f199",
   "metadata": {},
   "source": []
  },
  {
   "cell_type": "markdown",
   "id": "0d7eb613",
   "metadata": {},
   "source": [
    "ג. כתבו פונקציה שמחזירה אורך השכיח ביותר בין כל תתי-מערכים.  \n",
    "הפונקציה אמורה לעבוד בסיבוכיות זמן של  \n",
    "$O(n)$\n"
   ]
  },
  {
   "cell_type": "code",
   "execution_count": null,
   "id": "993a9e76",
   "metadata": {},
   "outputs": [],
   "source": []
  },
  {
   "cell_type": "markdown",
   "id": "cf1a686b",
   "metadata": {},
   "source": [
    "---"
   ]
  },
  {
   "cell_type": "markdown",
   "id": "9ca6b8da",
   "metadata": {},
   "source": [
    "## <span style=\"color:magenta\"> שאלה 2"
   ]
  },
  {
   "cell_type": "markdown",
   "id": "35810b86",
   "metadata": {},
   "source": [
    "```java\n",
    "class Mark {\n",
    "    private String studentName;\n",
    "    private String mikzoa;\n",
    "    private int grade; \n",
    "\n",
    "    public Mark(...) {\n",
    "        // א. להגדיר פרמטרים ולממש פעולה בונה\n",
    "        ...\n",
    "    }\n",
    "}\n",
    "\n",
    "public static\n",
    "int averageMark(String studentName, String mikzoa, Mark[] marks) {\n",
    "    // ב. לממש ממוצא, ציונים מכילים כל המקצועות של כל התלמידים\n",
    "    ...\n",
    "}\n",
    "\n",
    "class Teuda {\n",
    "    private String studentName;\n",
    "    private Mark[] marks;\n",
    "\n",
    "    public Teuda(String studentName, String[] mikzoot, Mark[] marks) {\n",
    "        // ג. לממש פעולה בונה עבור תלמיד ומקצועות נתונות\n",
    "        // ציון של כל מיקצוע יהיה ממוצא של כל הציונים של תלמיד זה במקצוע\n",
    "        // ציונים מכילים את כל המקצועות של כל התלמידים\n",
    "        // מה הסיבוכיות של זמן ריצה? נמקו\n",
    "        ...\n",
    "    }\n",
    "\n",
    "    public boolean isBetterThan(Teuda other) {\n",
    "        // ד. תעודה טובה יותר עם סכום הפרשי כל הציונים בהתאמה חיובי\n",
    "        // תניכו, כי מקצועות מסודרות באותו סדר\n",
    "        // מה הסיבוכיות של זמן ריצה? נמקו\n",
    "    }\n",
    "}\n",
    "```"
   ]
  }
 ],
 "metadata": {
  "kernelspec": {
   "display_name": "Java",
   "language": "java",
   "name": "java"
  },
  "language_info": {
   "name": "java"
  }
 },
 "nbformat": 4,
 "nbformat_minor": 5
}
