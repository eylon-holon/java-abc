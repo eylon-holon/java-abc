{
 "cells": [
  {
   "cell_type": "markdown",
   "id": "5749403f",
   "metadata": {},
   "source": [
    "נתונה פונקציה הבאה"
   ]
  },
  {
   "cell_type": "code",
   "execution_count": null,
   "id": "e0a8f91f",
   "metadata": {
    "vscode": {
     "languageId": "java"
    }
   },
   "outputs": [],
   "source": [
    "public static boolean what(int[] arr, int at, int sod) {\n",
    "    if (at < 0 || at >= arr.length) {\n",
    "        return false;\n",
    "    }\n",
    "    if (at == arr.length-1 && arr[at] == 0) {\n",
    "        return true;\n",
    "    }\n",
    "    if (sod == 0) {\n",
    "        return false;\n",
    "    }\n",
    "    return what(arr, at + arr[at], sod-1);\n",
    "}"
   ]
  },
  {
   "cell_type": "markdown",
   "id": "f6a05425",
   "metadata": {},
   "source": [
    "א. עקבו אחרי קריאה לפונקציה  \n",
    "<tt><b>what(new int[] {2,3,1,-2,0}, 0, 10)"
   ]
  },
  {
   "cell_type": "markdown",
   "id": "ac089153",
   "metadata": {},
   "source": [
    "ב. עקבו אחרי קריאה לפונקציה  \n",
    "<tt><b>what(new int[] {2,3,1,-2,0,0}, 0, 100)"
   ]
  },
  {
   "cell_type": "markdown",
   "id": "1dfa0cad",
   "metadata": {},
   "source": [
    "ג. אילו ערכים מחזירה פונקציה? ומה משמעות של כל ערך המוחזר"
   ]
  },
  {
   "cell_type": "markdown",
   "id": "461eed5c",
   "metadata": {},
   "source": [
    "???"
   ]
  },
  {
   "cell_type": "markdown",
   "id": "c4cc1d70",
   "metadata": {},
   "source": [
    "ד. נגיד ו  \n",
    "sod <= arr.length  \n",
    "מה סיבוכיות זמן ריצה של הפונקציה"
   ]
  },
  {
   "cell_type": "markdown",
   "id": "d3f0eb15",
   "metadata": {},
   "source": [
    "???"
   ]
  },
  {
   "cell_type": "markdown",
   "id": "953f6cf9",
   "metadata": {},
   "source": [
    "---"
   ]
  },
  {
   "cell_type": "code",
   "execution_count": null,
   "id": "31931646",
   "metadata": {
    "vscode": {
     "languageId": "java"
    }
   },
   "outputs": [],
   "source": [
    "%load ../formulas"
   ]
  },
  {
   "cell_type": "code",
   "execution_count": null,
   "id": "b36f754d",
   "metadata": {
    "vscode": {
     "languageId": "java"
    }
   },
   "outputs": [],
   "source": [
    "print(what(new int[] {2,0,0}, 0, 10));\n",
    "print(what(new int[] {2,3,1,-2,0}, 0, 10));\n",
    "print(what(new int[] {2,3,1,-2,0,0}, 0, 100));"
   ]
  }
 ],
 "metadata": {
  "kernelspec": {
   "display_name": "Java",
   "language": "java",
   "name": "java"
  },
  "language_info": {
   "codemirror_mode": "java",
   "file_extension": ".jshell",
   "mimetype": "text/x-java-source",
   "name": "Java",
   "pygments_lexer": "java",
   "version": "23+37-2369"
  }
 },
 "nbformat": 4,
 "nbformat_minor": 5
}
