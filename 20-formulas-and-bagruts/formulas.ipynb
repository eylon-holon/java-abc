{
 "cells": [
  {
   "cell_type": "code",
   "execution_count": 2,
   "metadata": {},
   "outputs": [
    {
     "ename": "SyntaxError",
     "evalue": "invalid syntax (2847052376.py, line 9)",
     "output_type": "error",
     "traceback": [
      "\u001b[0;36m  Cell \u001b[0;32mIn[2], line 9\u001b[0;36m\u001b[0m\n\u001b[0;31m    void print(Object... args) { JavaUtils.print(args); }\u001b[0m\n\u001b[0m         ^\u001b[0m\n\u001b[0;31mSyntaxError\u001b[0m\u001b[0;31m:\u001b[0m invalid syntax\n"
     ]
    }
   ],
   "source": [
    "%load ../../eylon/Config\n",
    "%load ../../eylon/JavaUtils\n",
    "\n",
    "%load ../core/Node\n",
    "%load ../core/BinNode\n",
    "%load ../core/Queue\n",
    "%load ../core/Helpers\n",
    "\n",
    "void print(Object... args) { JavaUtils.print(args); }\n",
    "void print3(BinNode<Integer> node) { Helpers.print3(node); }\n",
    "String input(String prompt) { return JavaUtils.input(prompt); }\n",
    "\n",
    "static Node<Integer> listFromArray(int[] arr) { return Helpers.listFromArray(arr); }\n",
    "static Node<Integer> a2l(int[] arr) { return Helpers.listFromArray(arr); }\n",
    "static Queue<Integer> a2q(int[] arr) { return Helpers.queueFromArray(arr); }"
   ]
  }
 ],
 "metadata": {
  "kernelspec": {
   "display_name": "Python 3",
   "language": "python",
   "name": "python3"
  },
  "language_info": {
   "codemirror_mode": {
    "name": "ipython",
    "version": 3
   },
   "file_extension": ".py",
   "mimetype": "text/x-python",
   "name": "python",
   "nbconvert_exporter": "python",
   "pygments_lexer": "ipython3",
   "version": "3.12.1"
  }
 },
 "nbformat": 4,
 "nbformat_minor": 2
}
