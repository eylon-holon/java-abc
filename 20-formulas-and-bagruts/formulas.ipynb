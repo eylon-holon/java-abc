{
 "cells": [
  {
   "cell_type": "code",
   "execution_count": null,
   "metadata": {},
   "outputs": [],
   "source": [
    "%load ../../eylon/Config\n",
    "%load ../../eylon/JavaUtils\n",
    "\n",
    "%load ../core/Node\n",
    "%load ../core/BinNode\n",
    "%load ../core/Helpers\n",
    "%load ../core/Queue\n",
    "\n",
    "void print(Object... args) { JavaUtils.print(args); }\n",
    "String input(String prompt) { return JavaUtils.input(prompt); }\n",
    "String submit(String page, String request) { return JavaUtils.submit(page, request); }\n",
    "\n",
    "static <T> Node<T> listFromArray(T[] arr) { return Helpers.listFromArray(arr); }\n",
    "static Node<Integer> listFromArray(int[] arr) { return Helpers.listFromArray(arr); }"
   ]
  }
 ],
 "metadata": {
  "kernelspec": {
   "display_name": "Java",
   "language": "java",
   "name": "java"
  },
  "language_info": {
   "codemirror_mode": "java",
   "file_extension": ".jshell",
   "mimetype": "text/x-java-source",
   "name": "java",
   "pygments_lexer": "java",
   "version": "23+37-2369"
  }
 },
 "nbformat": 4,
 "nbformat_minor": 2
}
