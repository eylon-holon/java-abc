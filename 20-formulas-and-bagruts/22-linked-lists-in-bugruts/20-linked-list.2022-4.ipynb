{
 "cells": [
  {
   "cell_type": "markdown",
   "metadata": {},
   "source": [
    "![](../img/img_00191.png)"
   ]
  },
  {
   "cell_type": "markdown",
   "metadata": {},
   "source": [
    "![](../img/img_00192.png)"
   ]
  },
  {
   "cell_type": "markdown",
   "metadata": {},
   "source": [
    "![](../img/img_00193.png)"
   ]
  },
  {
   "cell_type": "code",
   "execution_count": null,
   "metadata": {},
   "outputs": [],
   "source": [
    "public static\n",
    "boolean isIncluded(Node<Integer> lst1, Node<Range> lst2) {\n",
    "    while (lst1 != null && lst2 != null) {\n",
    "        int n = lst1.getValue();\n",
    "        int low = lst2.getValue().getLow();\n",
    "        int high = lst2.getValue().getHigh();\n",
    "        if (n >= low && n <= high) {\n",
    "            lst1 = lst1.getNext();\n",
    "        }\n",
    "        else {\n",
    "            lst2 = lst2.getNext();\n",
    "        }\n",
    "    }\n",
    "    return lst1 == null;\n",
    "}"
   ]
  },
  {
   "cell_type": "markdown",
   "metadata": {},
   "source": [
    "---"
   ]
  },
  {
   "cell_type": "code",
   "execution_count": null,
   "metadata": {},
   "outputs": [],
   "source": [
    "%load ../formulas\n",
    "\n",
    "class Range {\n",
    "    private int low;\n",
    "    private int high;\n",
    "\n",
    "    public int getLow() { return low; }\n",
    "    public int getHigh() { return high; }\n",
    "\n",
    "    public Range(int low, int high) {\n",
    "        this.low = low;\n",
    "        this.high = high;\n",
    "    }\n",
    "}"
   ]
  },
  {
   "cell_type": "code",
   "execution_count": null,
   "metadata": {},
   "outputs": [],
   "source": [
    "Node<Range> lst2 = \n",
    "    new Node<Range>(new Range(10, 20),\n",
    "    new Node<Range>(new Range(30, 40)));\n",
    "\n",
    "Node<Integer> lst1Yes =\n",
    "    new Node<Integer>(15,\n",
    "    new Node<Integer>(30));\n",
    "\n",
    "Node<Integer> lst1No =\n",
    "    new Node<Integer>(15,\n",
    "    new Node<Integer>(25));\n",
    "\n",
    "print(isIncluded(lst1Yes, lst2));\n",
    "print(isIncluded(lst1No, lst2));"
   ]
  }
 ],
 "metadata": {
  "kernelspec": {
   "display_name": "Java",
   "language": "java",
   "name": "java"
  },
  "language_info": {
   "codemirror_mode": "java",
   "file_extension": ".jshell",
   "mimetype": "text/x-java-source",
   "name": "java",
   "pygments_lexer": "java",
   "version": "23+37-2369"
  }
 },
 "nbformat": 4,
 "nbformat_minor": 2
}
