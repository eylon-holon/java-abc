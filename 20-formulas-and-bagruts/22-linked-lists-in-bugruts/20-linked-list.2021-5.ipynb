{
 "cells": [
  {
   "cell_type": "markdown",
   "metadata": {},
   "source": [
    "![](../img/img_00111.png)"
   ]
  },
  {
   "cell_type": "markdown",
   "metadata": {},
   "source": [
    "![](../img/img_00112.png)"
   ]
  },
  {
   "cell_type": "markdown",
   "metadata": {},
   "source": [
    "![](../img/img_00113.png)"
   ]
  },
  {
   "cell_type": "markdown",
   "metadata": {},
   "source": [
    "![](../img/img_00114.png)"
   ]
  },
  {
   "cell_type": "markdown",
   "metadata": {},
   "source": [
    "![](../img/img_00115.png)"
   ]
  },
  {
   "cell_type": "code",
   "execution_count": null,
   "metadata": {
    "vscode": {
     "languageId": "java"
    }
   },
   "outputs": [],
   "source": [
    "public static\n",
    "boolean isPrefix(Node<Integer> lst1, Node<Integer> lst2) {\n",
    "    while (lst1 != null && lst2 != null) {\n",
    "        if (lst1.getValue() != lst2.getValue()) {\n",
    "            return false;\n",
    "        }\n",
    "        lst1 = lst1.getNext();\n",
    "        lst2 = lst2.getNext();\n",
    "    }\n",
    "    return lst1 == null;\n",
    "}"
   ]
  },
  {
   "cell_type": "markdown",
   "metadata": {},
   "source": [
    "![](../img/img_00116.png)"
   ]
  },
  {
   "cell_type": "markdown",
   "metadata": {},
   "source": [
    "![](../img/img_00117.png)"
   ]
  },
  {
   "cell_type": "markdown",
   "metadata": {},
   "source": [
    "![](../img/img_00118.png)"
   ]
  },
  {
   "cell_type": "markdown",
   "metadata": {},
   "source": [
    "![](../img/img_00119.png)"
   ]
  },
  {
   "cell_type": "code",
   "execution_count": 1,
   "metadata": {
    "vscode": {
     "languageId": "java"
    }
   },
   "outputs": [
    {
     "ename": "CompilationException",
     "evalue": "",
     "output_type": "error",
     "traceback": [
      "\u001b[1m\u001b[30m|   \u001b[1m\u001b[30mpublic static\u001b[0m",
      "\u001b[1m\u001b[30m|   \u001b[1m\u001b[30mboolean isSubChain(Node<Integer> lst1, Node<Integer> lst2) {\u001b[0m",
      "\u001b[1m\u001b[30m|   \u001b[1m\u001b[30m    while (lst2 != null) {\u001b[0m",
      "\u001b[1m\u001b[30m|   \u001b[1m\u001b[30m        if (isPrefix(lst1, lst2)) {\u001b[0m",
      "\u001b[1m\u001b[30m|   \u001b[1m\u001b[30m            return true;\u001b[0m",
      "\u001b[1m\u001b[30m|   \u001b[1m\u001b[30m        }\u001b[0m",
      "\u001b[1m\u001b[30m|   \u001b[1m\u001b[30m        lst2 = lst2.getNext();\u001b[0m",
      "\u001b[1m\u001b[30m|   \u001b[1m\u001b[30m    }\u001b[0m",
      "\u001b[1m\u001b[30m|   \u001b[1m\u001b[30m    return false;\u001b[0m",
      "\u001b[1m\u001b[30m|   \u001b[1m\u001b[30m}\u001b[0m",
      "\u001b[1m\u001b[31mUnresolved dependencies:\u001b[0m",
      "\u001b[1m\u001b[31m   - class Node\u001b[0m"
     ]
    }
   ],
   "source": [
    "public static\n",
    "boolean isSubChain(Node<Integer> lst1, Node<Integer> lst2) {\n",
    "    while (lst2 != null) {\n",
    "        if (isPrefix(lst1, lst2)) {\n",
    "            return true;\n",
    "        }\n",
    "        lst2 = lst2.getNext();\n",
    "    }\n",
    "    return false;\n",
    "}"
   ]
  },
  {
   "cell_type": "markdown",
   "metadata": {},
   "source": [
    "---"
   ]
  },
  {
   "cell_type": "code",
   "execution_count": null,
   "metadata": {
    "vscode": {
     "languageId": "java"
    }
   },
   "outputs": [],
   "source": [
    "%load ../formulas\n",
    "\n",
    "print(isPrefix(a2l(new int[] {3,2,4,7}), a2l(new int[] {3,2,4,7,9})));\n",
    "print(isPrefix(a2l(new int[] {3,2,4,7}), a2l(new int[] {9,3,2,4,7,2,9,8})));\n",
    "print(isPrefix(a2l(new int[] {3,2,4,7}), a2l(new int[] {3,2,2,4,7,2,9})));\n",
    "print(isPrefix(a2l(new int[] {3,2,4,7}), a2l(new int[] {3,2,4})));\n"
   ]
  },
  {
   "cell_type": "code",
   "execution_count": null,
   "metadata": {
    "vscode": {
     "languageId": "java"
    }
   },
   "outputs": [],
   "source": [
    "print(isSubChain(a2l(new int[] {3,2,4,7}), a2l(new int[] {9,3,3,2,4,7,8,9})));\n",
    "print(isSubChain(a2l(new int[] {4,7,8,9}), a2l(new int[] {3,2,4,9,7,8})));\n"
   ]
  }
 ],
 "metadata": {
  "kernelspec": {
   "display_name": "Java",
   "language": "java",
   "name": "java"
  },
  "language_info": {
   "codemirror_mode": "java",
   "file_extension": ".jshell",
   "mimetype": "text/x-java-source",
   "name": "Java",
   "pygments_lexer": "java",
   "version": "21.0.4+7-LTS"
  }
 },
 "nbformat": 4,
 "nbformat_minor": 2
}
