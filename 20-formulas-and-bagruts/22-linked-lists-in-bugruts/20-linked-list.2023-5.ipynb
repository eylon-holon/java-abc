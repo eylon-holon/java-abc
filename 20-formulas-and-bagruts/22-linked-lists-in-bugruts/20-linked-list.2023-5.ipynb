{
 "cells": [
  {
   "cell_type": "markdown",
   "metadata": {},
   "source": [
    "![](../img/img_00211.png)"
   ]
  },
  {
   "cell_type": "markdown",
   "metadata": {},
   "source": [
    "![](../img/img_00212.png)"
   ]
  },
  {
   "cell_type": "code",
   "execution_count": null,
   "metadata": {},
   "outputs": [],
   "source": [
    "public void insertNum(int x) {\n",
    "    if (lst == null) {\n",
    "        lst = new Node<NumCount>(new NumCount(x, 1));\n",
    "        return;\n",
    "    }\n",
    "    Node<NumCount> node = lst;\n",
    "    while (node != null) {\n",
    "        NumCount cur = node.getValue();\n",
    "        if (cur.getNum() == x) {\n",
    "            cur.setCount(cur.getCount() + 1);\n",
    "            return;\n",
    "        }\n",
    "        if (node.getNext() == null || node.getNext().getValue().getNum() > x) {\n",
    "            node.setNext(new Node<NumCount>(new NumCount(x, 1), node.getNext()));\n",
    "            return;\n",
    "        }\n",
    "        node = node.getNext();\n",
    "    }\n",
    "}"
   ]
  },
  {
   "cell_type": "markdown",
   "metadata": {},
   "source": [
    "![](../img/img_00213.png)"
   ]
  },
  {
   "cell_type": "markdown",
   "metadata": {},
   "source": [
    "O(n)  \n",
    "אנחנו עוברים על הרשימה פעם אחד"
   ]
  },
  {
   "cell_type": "markdown",
   "metadata": {},
   "source": [
    "![](../img/img_00214.png)"
   ]
  },
  {
   "cell_type": "code",
   "execution_count": 2,
   "metadata": {},
   "outputs": [],
   "source": [
    "public int valueN(int n) {\n",
    "    if (n == 0) {\n",
    "        return 0;\n",
    "    }\n",
    "    int value = 0;\n",
    "    Node<NumCount> node = lst;\n",
    "    while (n > 0) {\n",
    "        value = node.getValue().getNum();\n",
    "        n -= node.getValue().getCount();\n",
    "        node = node.getNext();\n",
    "    }\n",
    "    return value;\n",
    "}"
   ]
  },
  {
   "cell_type": "markdown",
   "metadata": {},
   "source": [
    "---"
   ]
  },
  {
   "cell_type": "code",
   "execution_count": 1,
   "metadata": {},
   "outputs": [],
   "source": [
    "%load ../formulas\n",
    "\n",
    "public class NumCount {\n",
    "    private int num;\n",
    "    private int count;\n",
    "\n",
    "    public int getNum() { return num; }\n",
    "    public void setNum(int value) { num = value; }\n",
    "    public int getCount() { return count; }\n",
    "    public void setCount(int value) { count = value; }\n",
    "\n",
    "    public NumCount(int num, int count) {\n",
    "        this.num = num;\n",
    "        this.count = count;\n",
    "    }\n",
    "}\n",
    "\n",
    "class OrderedList {\n",
    "    private Node<NumCount> lst;\n",
    "\n",
    "    public Node<NumCount> getLst() { return lst; }\n",
    "\n",
    "    public OrderedList() {\n",
    "        this.lst = null;\n",
    "    }\n",
    "\n",
    "    public void insertNum(int x) {\n",
    "        if (lst == null) {\n",
    "            lst = new Node<NumCount>(new NumCount(x, 1));\n",
    "            return;\n",
    "        }\n",
    "        Node<NumCount> node = lst;\n",
    "        while (node != null) {\n",
    "            NumCount cur = node.getValue();\n",
    "            if (cur.getNum() == x) {\n",
    "                cur.setCount(cur.getCount() + 1);\n",
    "                return;\n",
    "            }\n",
    "            if (node.getNext() == null || node.getNext().getValue().getNum() > x) {\n",
    "                node.setNext(new Node<NumCount>(new NumCount(x, 1), node.getNext()));\n",
    "                return;\n",
    "            }\n",
    "            node = node.getNext();\n",
    "        }\n",
    "    }\n",
    "\n",
    "    public int valueN(int n) {\n",
    "        if (n == 0) {\n",
    "            return 0;\n",
    "        }\n",
    "        int value = 0;\n",
    "        Node<NumCount> node = lst;\n",
    "        while (n > 0) {\n",
    "            value = node.getValue().getNum();\n",
    "            n -= node.getValue().getCount();\n",
    "            node = node.getNext();\n",
    "        }\n",
    "        return value;\n",
    "    } \n",
    "}"
   ]
  },
  {
   "cell_type": "code",
   "execution_count": null,
   "metadata": {},
   "outputs": [],
   "source": [
    "void add(OrderedList ol, int[] arr) {\n",
    "    for (int x: arr) {\n",
    "        ol.insertNum(x);\n",
    "    }\n",
    "}\n",
    "\n",
    "void print(OrderedList ol) {\n",
    "    System.out.print(\"[\");\n",
    "    Node<NumCount> node = ol.getLst();\n",
    "    while (node != null) {\n",
    "        NumCount cur = node.getValue();\n",
    "        System.out.print(cur.getNum() + \":\" + cur.getCount());\n",
    "        node = node.getNext();\n",
    "        if (node != null) {\n",
    "            System.out.print(\", \");\n",
    "        }\n",
    "    }\n",
    "    System.out.println(\"]\");\n",
    "}"
   ]
  },
  {
   "cell_type": "code",
   "execution_count": null,
   "metadata": {},
   "outputs": [],
   "source": [
    "OrderedList ol = new OrderedList();\n",
    "add(ol, new int[] {3,3,3,3,3,5,5,8,8,8});\n",
    "print(ol);\n",
    "ol.insertNum(5);\n",
    "ol.insertNum(4);\n",
    "print(ol);\n",
    "print(ol.valueN(7));"
   ]
  }
 ],
 "metadata": {
  "kernelspec": {
   "display_name": "Java",
   "language": "java",
   "name": "java"
  },
  "language_info": {
   "codemirror_mode": "java",
   "file_extension": ".jshell",
   "mimetype": "text/x-java-source",
   "name": "java",
   "pygments_lexer": "java",
   "version": "21.0.4+7-LTS"
  }
 },
 "nbformat": 4,
 "nbformat_minor": 2
}
