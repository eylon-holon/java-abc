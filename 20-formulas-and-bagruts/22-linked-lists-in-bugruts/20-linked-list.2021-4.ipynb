{
 "cells": [
  {
   "cell_type": "markdown",
   "metadata": {},
   "source": [
    "![](../img/img_00123.png)"
   ]
  },
  {
   "cell_type": "markdown",
   "metadata": {},
   "source": [
    "![](../img/img_00124.png)"
   ]
  },
  {
   "cell_type": "code",
   "execution_count": null,
   "metadata": {},
   "outputs": [],
   "source": [
    "public static int countNodes(Node<Integer> node) {\n",
    "    int count = 0;\n",
    "    while (node != null) {\n",
    "        count++;\n",
    "        node = node.getNext();\n",
    "    }\n",
    "    return count;\n",
    "}\n",
    "\n",
    "public static boolean isArranged(Node<Integer> node) {\n",
    "    int count = countNodes(node);\n",
    "    if (count % 2 == 1) {\n",
    "        return false;\n",
    "    }\n",
    "    int max = Integer.MIN_VALUE;\n",
    "    for (int i = 0; i < count/2; i++) {\n",
    "        max = Math.max(max, node.getValue());\n",
    "        node = node.getNext();\n",
    "    }\n",
    "    while (node != null) {\n",
    "        if (node.getValue() <= max) {\n",
    "            return false;\n",
    "        }\n",
    "        node = node.getNext();\n",
    "    }\n",
    "    return true;\n",
    "}"
   ]
  },
  {
   "cell_type": "markdown",
   "metadata": {},
   "source": [
    "![](../img/img_00125.png)"
   ]
  },
  {
   "cell_type": "markdown",
   "metadata": {},
   "source": [
    "O(n)  \n",
    "עוברים על רשימה פעם אחד"
   ]
  },
  {
   "cell_type": "markdown",
   "metadata": {},
   "source": [
    "---"
   ]
  },
  {
   "cell_type": "code",
   "execution_count": null,
   "metadata": {},
   "outputs": [],
   "source": [
    "%load ../formulas\n",
    "\n",
    "print(isArranged(listFromArray(new int[] {1,2,3,4,5})));\n",
    "print(isArranged(listFromArray(new int[] {3,2,1,6,5,4})));\n",
    "print(isArranged(listFromArray(new int[] {4,2,1,6,5,4})));"
   ]
  }
 ],
 "metadata": {
  "kernelspec": {
   "display_name": "Java",
   "language": "java",
   "name": "java"
  },
  "language_info": {
   "codemirror_mode": "java",
   "file_extension": ".jshell",
   "mimetype": "text/x-java-source",
   "name": "java",
   "pygments_lexer": "java",
   "version": "23+37-2369"
  }
 },
 "nbformat": 4,
 "nbformat_minor": 2
}
