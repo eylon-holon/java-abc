{
 "cells": [
  {
   "cell_type": "markdown",
   "metadata": {},
   "source": [
    "![](../img/img_00185.png)"
   ]
  },
  {
   "cell_type": "markdown",
   "metadata": {},
   "source": [
    "![](../img/img_00186.png)"
   ]
  },
  {
   "cell_type": "markdown",
   "metadata": {},
   "source": [
    "![](../img/img_00187.png)"
   ]
  },
  {
   "cell_type": "code",
   "execution_count": null,
   "metadata": {},
   "outputs": [],
   "source": [
    "public boolean isRed() {\n",
    "    return red == 255 && green == 0 && blue == 0;\n",
    "} "
   ]
  },
  {
   "cell_type": "markdown",
   "metadata": {},
   "source": [
    "![](../img/img_00188.png)"
   ]
  },
  {
   "cell_type": "markdown",
   "metadata": {},
   "source": [
    "![](../img/img_00189.png)"
   ]
  },
  {
   "cell_type": "code",
   "execution_count": null,
   "metadata": {},
   "outputs": [],
   "source": [
    "public boolean isBalanced() {\n",
    "    int reds = 0;\n",
    "    int greens = 0;\n",
    "    int blues = 0;\n",
    "    for (int i = 0; i < arr.length; i++) {\n",
    "        if (arr[i].isRed()) {\n",
    "            reds++;\n",
    "        }\n",
    "        if (arr[i].isGreen()) {\n",
    "            greens++;\n",
    "        }\n",
    "        if (arr[i].isBlue()) {\n",
    "            blues++;\n",
    "        }\n",
    "    }\n",
    "    return reds == greens && reds == blues;\n",
    "}"
   ]
  },
  {
   "cell_type": "markdown",
   "metadata": {},
   "source": [
    "![](../img/img_00190.png)"
   ]
  },
  {
   "cell_type": "code",
   "execution_count": null,
   "metadata": {},
   "outputs": [],
   "source": [
    "class Pixel {\n",
    "    public isBlack() {\n",
    "        return red == 0 && green == 0 && blue == 0;\n",
    "    }\n",
    "    public isWhite() {\n",
    "        return red == 255 && green == 255 && blue == 255;\n",
    "    }\n",
    "}\n",
    "\n",
    "class Structure {\n",
    "    public boolean isBlackWhite() {\n",
    "        int blacks = 0;\n",
    "        int whites = 0;\n",
    "        for (int i = 0; i < arr.length; i++) {\n",
    "            if (arr[i].isBlack()) {\n",
    "                blacks++;\n",
    "            }\n",
    "            if (arr[i].isWhite()) {\n",
    "                whites++;\n",
    "            }\n",
    "        }\n",
    "        return blacks > 0 && blacks == whites;      // why no need to add `&& whites > 0`?\n",
    "    }\n",
    "}"
   ]
  }
 ],
 "metadata": {
  "kernelspec": {
   "display_name": "Java",
   "language": "java",
   "name": "java"
  },
  "language_info": {
   "name": "java"
  }
 },
 "nbformat": 4,
 "nbformat_minor": 2
}
