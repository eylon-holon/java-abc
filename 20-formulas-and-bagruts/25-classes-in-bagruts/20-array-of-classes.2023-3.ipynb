{
 "cells": [
  {
   "cell_type": "markdown",
   "metadata": {},
   "source": [
    "![](../img/img_00205.png)"
   ]
  },
  {
   "cell_type": "markdown",
   "metadata": {},
   "source": [
    "![](../img/img_00206.png)"
   ]
  },
  {
   "cell_type": "code",
   "execution_count": 1,
   "metadata": {},
   "outputs": [],
   "source": [
    "public boolean illegal(int maxSpeed) {\n",
    "    return privateCar || speed > maxSpeed;\n",
    "}"
   ]
  },
  {
   "cell_type": "markdown",
   "metadata": {},
   "source": [
    "![](../img/img_00207.png)"
   ]
  },
  {
   "cell_type": "markdown",
   "metadata": {},
   "source": [
    "![](../img/img_00208.png)"
   ]
  },
  {
   "cell_type": "code",
   "execution_count": null,
   "metadata": {},
   "outputs": [],
   "source": [
    "public boolean allGood() {\n",
    "    for (int i = 0; i < cars.length; i++) {\n",
    "        if (cars[i].illegal(maxSpeed)) {\n",
    "            return false;\n",
    "        }\n",
    "    }\n",
    "    return true;\n",
    "}"
   ]
  },
  {
   "cell_type": "code",
   "execution_count": null,
   "metadata": {},
   "outputs": [],
   "source": [
    "public static\n",
    "int legalCities(CameraInfo[] cameras) {\n",
    "    int[] counters = new int[100];\n",
    "    for (int i = 0; i < cameras.length; i++) {\n",
    "        if (!cameras[i].allGood()) {\n",
    "            int city = cameras[i].getCity();\n",
    "            counters[city]++;\n",
    "        }\n",
    "    }\n",
    "    int count = 0;\n",
    "    for (int i = 0; i < counters.length; i++) {\n",
    "        if (counters[i] == 0) {\n",
    "            count++;\n",
    "        }\n",
    "    }\n",
    "    return count;\n",
    "}"
   ]
  },
  {
   "cell_type": "markdown",
   "metadata": {},
   "source": [
    "---"
   ]
  },
  {
   "cell_type": "code",
   "execution_count": null,
   "metadata": {},
   "outputs": [],
   "source": [
    "class CarInfo {\n",
    "    private String id;\n",
    "    private boolean privateCar;\n",
    "    private int speed;\n",
    "\n",
    "    public String getId() { return id; }\n",
    "    public boolean getPrivateCar() { return privateCar; }\n",
    "    public int getSpeed() { return speed; }\n",
    "\n",
    "    public CarInfo(String id, boolean privateCar, int speed) {\n",
    "        this.id = id;\n",
    "        this.privateCar = privateCar;\n",
    "        this.speed = speed;\n",
    "    }\n",
    "\n",
    "    public boolean illegal(int maxSpeed) {\n",
    "        return privateCar || speed > maxSpeed;\n",
    "    }    \n",
    "}"
   ]
  },
  {
   "cell_type": "code",
   "execution_count": null,
   "metadata": {},
   "outputs": [],
   "source": [
    "class CameraInfo {\n",
    "    private int city;\n",
    "    private int maxSpeed;\n",
    "    private CarInfo[] cars;\n",
    "\n",
    "    public int getCity() { return city; }\n",
    "    public int getMaxSpeed() { return maxSpeed; }\n",
    "    public CarInfo[] getCars() { return cars; }\n",
    "\n",
    "    public CameraInfo(int city, int maxSpeed, CarInfo[] cars) {\n",
    "        this.city = city;\n",
    "        this.maxSpeed = maxSpeed;\n",
    "        this.cars = cars;\n",
    "    }\n",
    "\n",
    "    public boolean allGood() {\n",
    "        for (int i = 0; i < cars.length; i++) {\n",
    "            if (cars[i].illegal(maxSpeed)) {\n",
    "                return false;\n",
    "            }\n",
    "        }\n",
    "        return true;\n",
    "    }\n",
    "}"
   ]
  },
  {
   "cell_type": "code",
   "execution_count": null,
   "metadata": {},
   "outputs": [],
   "source": [
    "%load ../formulas\n",
    "\n",
    "CameraInfo[] cameras = new CameraInfo[] {\n",
    "    new CameraInfo(10, 50, new CarInfo[] {\n",
    "        new CarInfo(\"11-111-11\", false, 49),\n",
    "        new CarInfo(\"22-222-22\", false, 50),\n",
    "    }),\n",
    "    new CameraInfo(20, 60, new CarInfo[] {\n",
    "        new CarInfo(\"33-333-33\", true, 55),\n",
    "        new CarInfo(\"44-444-44\", false, 60),\n",
    "    }),\n",
    "    new CameraInfo(20, 60, new CarInfo[] {\n",
    "        new CarInfo(\"55-555-55\", false, 55),\n",
    "        new CarInfo(\"66-666-66\", false, 65),\n",
    "    }),\n",
    "    new CameraInfo(10, 70, new CarInfo[] {\n",
    "        new CarInfo(\"77-777-77\", false, 50),\n",
    "        new CarInfo(\"88-888-88\", false, 70),\n",
    "    })\n",
    "};\n",
    "\n",
    "print(legalCities(cameras));        // 99"
   ]
  }
 ],
 "metadata": {
  "kernelspec": {
   "display_name": "Java",
   "language": "java",
   "name": "java"
  },
  "language_info": {
   "codemirror_mode": "java",
   "file_extension": ".jshell",
   "mimetype": "text/x-java-source",
   "name": "java",
   "pygments_lexer": "java",
   "version": "21.0.4+7-LTS"
  }
 },
 "nbformat": 4,
 "nbformat_minor": 2
}
