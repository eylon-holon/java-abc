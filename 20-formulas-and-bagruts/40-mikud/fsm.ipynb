{
 "cells": [
  {
   "cell_type": "code",
   "execution_count": 1,
   "metadata": {
    "vscode": {
     "languageId": "java"
    }
   },
   "outputs": [],
   "source": [
    "%jars ../../lib/snakeyaml-2.3.jar\n",
    "\n",
    "%load ../../eylon/Config\n",
    "%load ../../eylon/JavaUtils\n",
    "%load ../../j-core/fsm/FSM\n",
    "%load ../../j-core/fsm/DetermenisticFsm\n",
    "%load ../../j-core/fsm/NondetermenisticFsm\n",
    "%load ../../j-core/fsm/FsmWithStack\n",
    "%load ../../j-core/fsm/FsmParser\n",
    "%load ../../j-core/fsm/FsmParser2\n",
    "%load ../../j-core/fsm/DibFile\n",
    "%load ../../j-core/fsm/MermaidFile2\n",
    "%load ../../j-core/fsm/FsmFromMermaid2\n",
    "\n",
    "void print(Object... args) { JavaUtils.print(args); }\n",
    "\n",
    "IFSM fsmFromMermaid(String name, String file, boolean... logFlags) { return FsmFromMermaid2.parse(name, file, logFlags); }\n",
    "\n",
    "void accept(IFSM fsm, String... words) {\n",
    "    for (var word: words) {\n",
    "        print(\"'\"+word+\"'\", \":\", fsm.accept(word));\n",
    "    } \n",
    "}\n",
    "\n",
    "void accept(IFSM fsm, boolean log, String... words) {\n",
    "    for (var word: words) {\n",
    "        print(\"'\"+word+\"'\", \":\", fsm.accept(word, log));\n",
    "    } \n",
    "}"
   ]
  }
 ],
 "metadata": {
  "kernelspec": {
   "display_name": "Java",
   "language": "java",
   "name": "java"
  },
  "language_info": {
   "codemirror_mode": "java",
   "file_extension": ".jshell",
   "mimetype": "text/x-java-source",
   "name": "Java",
   "pygments_lexer": "java",
   "version": "21.0.4+7-LTS"
  }
 },
 "nbformat": 4,
 "nbformat_minor": 2
}
