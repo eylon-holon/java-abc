{
 "cells": [
  {
   "cell_type": "markdown",
   "id": "2f59ca64",
   "metadata": {},
   "source": [
    "[על המיקוד 🎦](https://youtu.be/CkzAfVm6xN0)"
   ]
  },
  {
   "cell_type": "markdown",
   "id": "25e14eb4",
   "metadata": {},
   "source": [
    " [🎦](https://youtu.be/tTvKzzb3BvQ) מגדירי מחלקה, כותרת והתכונות שלה  \n",
    "[2023-q3](../25-classes-in-bagruts/20-array-of-classes.2023-3.ipynb)  \n",
    "בשאלה יש הגדרה שלמה, אנחנו רוצים רק זה  \n"
   ]
  },
  {
   "cell_type": "code",
   "execution_count": null,
   "id": "488296ec",
   "metadata": {
    "vscode": {
     "languageId": "java"
    }
   },
   "outputs": [],
   "source": [
    "class CarInfo {\n",
    "    private String id;\n",
    "    private boolean privateCar;\n",
    "    private int speed;\n",
    "}"
   ]
  },
  {
   "cell_type": "code",
   "execution_count": null,
   "id": "5390965d",
   "metadata": {
    "vscode": {
     "languageId": "java"
    }
   },
   "outputs": [],
   "source": [
    "class CameraInfo {\n",
    "    private int city;\n",
    "    private int maxSpeed;\n",
    "    private CarInfo[] cars;\n",
    "}"
   ]
  },
  {
   "cell_type": "markdown",
   "id": "ec1c0e41",
   "metadata": {},
   "source": [
    "---"
   ]
  },
  {
   "cell_type": "markdown",
   "id": "8625a7aa",
   "metadata": {},
   "source": [
    "[🎦](https://youtu.be/ihXT8gMJ4is) עשים מיזוג תורים בלי לשנות אותם  \n",
    "[int copy(...) and merge(...)](../20-formula-pages/20-queue.ipynb)\n",
    "<br><br>\n",
    "[🎦](https://youtu.be/Z3GzN7VAS2k) יוצרים רשימה מקושרת  \n",
    "[Node fromArray(...)](../20-formula-pages/20-linked-list.ipynb)"
   ]
  },
  {
   "cell_type": "markdown",
   "id": "dbcc799d",
   "metadata": {},
   "source": [
    "---"
   ]
  },
  {
   "cell_type": "markdown",
   "id": "ccd44d92",
   "metadata": {},
   "source": [
    "[🎦](https://youtu.be/Sjbv6MdDfe8) מוסיפים בנים לעץ  \n",
    "[2023-q6](../23-binary-trees-in-bagruts/20-binary-tree.2023-6.ipynb)"
   ]
  },
  {
   "cell_type": "markdown",
   "id": "4c7bde45",
   "metadata": {},
   "source": [
    "---"
   ]
  },
  {
   "cell_type": "markdown",
   "id": "ba93696f",
   "metadata": {},
   "source": [
    "[🎦](https://youtu.be/FZIWBD5osjQ) לבדוק שלכל צומת יש שני בנים וסכומם מספר זוגי"
   ]
  },
  {
   "cell_type": "code",
   "execution_count": 2,
   "id": "aa6f0d61",
   "metadata": {
    "vscode": {
     "languageId": "java"
    }
   },
   "outputs": [
    {
     "ename": "CompilationException",
     "evalue": "",
     "output_type": "error",
     "traceback": [
      "\u001b[1m\u001b[30m|   \u001b[1m\u001b[30mboolean perfectEven(BinNode<Integer> node) {\u001b[0m",
      "\u001b[1m\u001b[30m|   \u001b[1m\u001b[30m    if (node == null) {\u001b[0m",
      "\u001b[1m\u001b[30m|   \u001b[1m\u001b[30m        return false;\u001b[0m",
      "\u001b[1m\u001b[30m|   \u001b[1m\u001b[30m    }\u001b[0m",
      "\u001b[1m\u001b[30m|   \u001b[1m\u001b[30m    BinNode<Integer> left = node.getLeft();\u001b[0m",
      "\u001b[1m\u001b[30m|   \u001b[1m\u001b[30m    BinNode<Integer> right = node.getRight();\u001b[0m",
      "\u001b[1m\u001b[30m|   \u001b[1m\u001b[30m    if (left == null && right == null) {\u001b[0m",
      "\u001b[1m\u001b[30m|   \u001b[1m\u001b[30m        return true;\u001b[0m",
      "\u001b[1m\u001b[30m|   \u001b[1m\u001b[30m    }\u001b[0m",
      "\u001b[1m\u001b[30m|   \u001b[1m\u001b[30m    if (left == null || right == null) {\u001b[0m",
      "\u001b[1m\u001b[30m|   \u001b[1m\u001b[30m        return false;\u001b[0m",
      "\u001b[1m\u001b[30m|   \u001b[1m\u001b[30m    }\u001b[0m",
      "\u001b[1m\u001b[30m|   \u001b[1m\u001b[30m    int sum = left.getValue() + right.getValue();\u001b[0m",
      "\u001b[1m\u001b[30m|   \u001b[1m\u001b[30m    return sum % 2 == 0 &&\u001b[0m",
      "\u001b[1m\u001b[30m|   \u001b[1m\u001b[30m        perfectEven(left) && perfectEven(right);\u001b[0m",
      "\u001b[1m\u001b[30m|   \u001b[1m\u001b[30m}\u001b[0m",
      "\u001b[1m\u001b[31mUnresolved dependencies:\u001b[0m",
      "\u001b[1m\u001b[31m   - class BinNode\u001b[0m"
     ]
    }
   ],
   "source": [
    "boolean perfectEven(BinNode<Integer> node) {\n",
    "    if (node == null) {\n",
    "        return false;\n",
    "    }\n",
    "    BinNode<Integer> left = node.getLeft();\n",
    "    BinNode<Integer> right = node.getRight();\n",
    "    if (left == null && right == null) {\n",
    "        return true;\n",
    "    }\n",
    "    if (left == null || right == null) {\n",
    "        return false;\n",
    "    }\n",
    "    int sum = left.getValue() + right.getValue();\n",
    "    return sum % 2 == 0 &&\n",
    "        perfectEven(left) && perfectEven(right);\n",
    "}"
   ]
  },
  {
   "cell_type": "markdown",
   "id": "dd6dd721",
   "metadata": {},
   "source": [
    "---"
   ]
  },
  {
   "cell_type": "markdown",
   "id": "d4b9deaa",
   "metadata": {},
   "source": [
    "[🎦](https://youtu.be/hpCk77s7dd8)\n",
    "מה זה עושה?  \n",
    "מה זה מחזיר?  \n",
    "מזה טבלת מעקב?"
   ]
  },
  {
   "cell_type": "code",
   "execution_count": null,
   "id": "586b835a",
   "metadata": {
    "vscode": {
     "languageId": "java"
    }
   },
   "outputs": [],
   "source": [
    "int pair(BinNode<Integer> node) {\n",
    "    if (node == null) {\n",
    "        return 0;\n",
    "    }\n",
    "    BinNode<Integer> left = node.getLeft();\n",
    "    BinNode<Integer> right = node.getRight();\n",
    "    if (left == null && right == null) {\n",
    "        return 0;\n",
    "    }\n",
    "    if (left != null && right != null) {\n",
    "        return pair(left) + pair(right);\n",
    "    }\n",
    "    if (left == null) {\n",
    "        node.setLeft(new BinNode<Integer>(right.getValue()));\n",
    "    }\n",
    "    if (right == null) {\n",
    "        node.setRight(new BinNode<Integer>(left.getValue()));\n",
    "    }\n",
    "    return pair(left) + pair(right) + 1;\n",
    "}"
   ]
  },
  {
   "cell_type": "markdown",
   "id": "d6b4ab83",
   "metadata": {},
   "source": [
    "[🎦](https://youtu.be/K5BdN4_HNOE)<br>\n",
    "![](../img/img_00401.png)"
   ]
  },
  {
   "cell_type": "markdown",
   "id": "42b4939f",
   "metadata": {},
   "source": [
    "---"
   ]
  },
  {
   "cell_type": "markdown",
   "id": "08f2976c",
   "metadata": {},
   "source": [
    "![](../img/img_00413.png)"
   ]
  },
  {
   "cell_type": "markdown",
   "id": "42e01c83",
   "metadata": {},
   "source": [
    "---"
   ]
  },
  {
   "cell_type": "markdown",
   "id": "104a6747",
   "metadata": {},
   "source": [
    "![](../img/img_00406.png)"
   ]
  },
  {
   "cell_type": "markdown",
   "id": "6c7dd20c",
   "metadata": {},
   "source": [
    "---"
   ]
  },
  {
   "cell_type": "markdown",
   "id": "a072ef65",
   "metadata": {},
   "source": [
    "![](../img/img_00414.png)"
   ]
  },
  {
   "cell_type": "markdown",
   "id": "29901416",
   "metadata": {},
   "source": [
    "---"
   ]
  },
  {
   "cell_type": "code",
   "execution_count": null,
   "id": "a3706765",
   "metadata": {
    "vscode": {
     "languageId": "java"
    }
   },
   "outputs": [],
   "source": [
    "%load ../fsm"
   ]
  },
  {
   "cell_type": "code",
   "execution_count": null,
   "id": "7a280911",
   "metadata": {
    "vscode": {
     "languageId": "java"
    }
   },
   "outputs": [],
   "source": [
    "var fsm = fsmFromMermaid(\"q-01\", \"40-mikud-matkonet.dib\");\n",
    "accept(fsm, \"b\", \"aabbb\", \"aaaabbbbb\");\n",
    "accept(fsm, \"\", \"a\", \"abb\", \"aaabbbb\", \"ab\", \"aabb\", \"aab\", \"aaba\", \"aabbba\");"
   ]
  },
  {
   "cell_type": "code",
   "execution_count": null,
   "id": "2a59c4f2",
   "metadata": {
    "vscode": {
     "languageId": "java"
    }
   },
   "outputs": [],
   "source": [
    "var fsm = fsmFromMermaid(\"q-02\", \"40-mikud-matkonet.dib\");\n",
    "accept(fsm, \"ac\", \"aacb\", \"aaacbb\", \"aaaacbbb\");\n",
    "accept(fsm, \"\", \"a\", \"c\", \"b\", \"acb\", \"ab\", \"aa\", \"aac\", \"aacbb\");"
   ]
  },
  {
   "cell_type": "code",
   "execution_count": null,
   "id": "c1c619ab",
   "metadata": {
    "vscode": {
     "languageId": "java"
    }
   },
   "outputs": [],
   "source": [
    "var fsm = fsmFromMermaid(\"q-03\", \"40-mikud-matkonet.dib\");\n",
    "accept(fsm, \"\", \"ab\", \"abbb\", \"aaab\", \"aabb\", \"aa\", \"aabbbb\", \"aaabbb\");\n",
    "accept(fsm, \"a\", \"b\", \"abb\", \"aab\", \"aabbb\", \"aaabb\", \"aaaab\");"
   ]
  },
  {
   "cell_type": "code",
   "execution_count": null,
   "id": "4f82d0a4",
   "metadata": {
    "vscode": {
     "languageId": "java"
    }
   },
   "outputs": [],
   "source": [
    "var fsm = fsmFromMermaid(\"q-04\", \"40-mikud-matkonet.dib\");\n",
    "accept(fsm, \"abcd\", \"aabcdd\", \"aabbccdd\", \"aabbbcccdd\");\n",
    "accept(fsm, \"\", \"ad\", \"abc\", \"abcdd\", \"aabcd\", \"aabbcdd\");\n",
    "//accept(fsm, true, \"aabcdd\");"
   ]
  }
 ],
 "metadata": {
  "kernelspec": {
   "display_name": "Java",
   "language": "java",
   "name": "java"
  },
  "language_info": {
   "codemirror_mode": "java",
   "file_extension": ".jshell",
   "mimetype": "text/x-java-source",
   "name": "Java",
   "pygments_lexer": "java",
   "version": "21.0.4+7-LTS"
  }
 },
 "nbformat": 4,
 "nbformat_minor": 5
}
