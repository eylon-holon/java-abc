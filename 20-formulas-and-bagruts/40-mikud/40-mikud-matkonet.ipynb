{
 "cells": [
  {
   "cell_type": "markdown",
   "id": "2f59ca64",
   "metadata": {},
   "source": [
    "[על המיקוד 🎦](https://youtu.be/CkzAfVm6xN0)"
   ]
  },
  {
   "cell_type": "markdown",
   "id": "25e14eb4",
   "metadata": {},
   "source": [
    " [🎦](https://youtu.be/tTvKzzb3BvQ) מגדירי מחלקה, כותרת והתכונות שלה  \n",
    "[2023-q3](../25-classes-in-bagruts/20-array-of-classes.2023-3.ipynb)  \n",
    "בשאלה יש הגדרה שלמה, אנחנו רוצים רק זה  \n"
   ]
  },
  {
   "cell_type": "code",
   "execution_count": 3,
   "id": "488296ec",
   "metadata": {
    "vscode": {
     "languageId": "java"
    }
   },
   "outputs": [],
   "source": [
    "class CarInfo {\n",
    "    private String id;\n",
    "    private boolean privateCar;\n",
    "    private int speed;\n",
    "}"
   ]
  },
  {
   "cell_type": "code",
   "execution_count": 4,
   "id": "5390965d",
   "metadata": {
    "vscode": {
     "languageId": "java"
    }
   },
   "outputs": [],
   "source": [
    "class CameraInfo {\n",
    "    private int city;\n",
    "    private int maxSpeed;\n",
    "    private CarInfo[] cars;\n",
    "}"
   ]
  },
  {
   "cell_type": "markdown",
   "id": "ec1c0e41",
   "metadata": {},
   "source": [
    "---"
   ]
  },
  {
   "cell_type": "markdown",
   "id": "8625a7aa",
   "metadata": {},
   "source": [
    "[🎦](https://youtu.be/ihXT8gMJ4is) עשים מיזוג תורים בלי לשנות אותם  \n",
    "[int copy(...) and merge(...)](../20-formula-pages/20-queue.ipynb)\n",
    "<br><br>\n",
    "[🎦](https://youtu.be/Z3GzN7VAS2k) יוצרים רשימה מקושרת  \n",
    "[Node fromArray(...)](../20-formula-pages/20-linked-list.ipynb)"
   ]
  },
  {
   "cell_type": "markdown",
   "id": "dbcc799d",
   "metadata": {},
   "source": [
    "---"
   ]
  },
  {
   "cell_type": "markdown",
   "id": "ccd44d92",
   "metadata": {},
   "source": [
    "[🎦](https://youtu.be/Sjbv6MdDfe8) מוסיפים בנים לעץ  \n",
    "[2023-q6](../23-binary-trees-in-bagruts/20-binary-tree.2023-6.ipynb)"
   ]
  },
  {
   "cell_type": "markdown",
   "id": "4c7bde45",
   "metadata": {},
   "source": [
    "---"
   ]
  },
  {
   "cell_type": "markdown",
   "id": "ba93696f",
   "metadata": {},
   "source": [
    "[🎦](https://youtu.be/FZIWBD5osjQ) לבדוק שלכל צומת יש שני בנים וסכומם מספר זוגי"
   ]
  },
  {
   "cell_type": "code",
   "execution_count": null,
   "id": "aa6f0d61",
   "metadata": {
    "vscode": {
     "languageId": "java"
    }
   },
   "outputs": [],
   "source": [
    "boolean perfectEven(BinNode<Integer> node) {\n",
    "    if (node == null) {\n",
    "        return false;\n",
    "    }\n",
    "    BinNode<Integer> left = node.getLeft();\n",
    "    BinNode<Integer> right = node.getRight();\n",
    "    if (left == null && right == null) {\n",
    "        return true;\n",
    "    }\n",
    "    if (left == null || right == null) {\n",
    "        return false;\n",
    "    }\n",
    "    int sum = left.getValue() + right.getValue();\n",
    "    return sum % 2 == 0 &&\n",
    "        perfectEven(left) && perfectEven(right);\n",
    "}"
   ]
  },
  {
   "cell_type": "markdown",
   "id": "dd6dd721",
   "metadata": {},
   "source": [
    "---"
   ]
  },
  {
   "cell_type": "markdown",
   "id": "d4b9deaa",
   "metadata": {},
   "source": [
    "[🎦](https://youtu.be/hpCk77s7dd8)\n",
    "מה זה עושה?  \n",
    "מה זה מחזיר?  \n",
    "מזה טבלת מעקב?"
   ]
  },
  {
   "cell_type": "code",
   "execution_count": null,
   "id": "586b835a",
   "metadata": {
    "vscode": {
     "languageId": "java"
    }
   },
   "outputs": [],
   "source": [
    "int pair(BinNode<Integer> node) {\n",
    "    if (node == null) {\n",
    "        return 0;\n",
    "    }\n",
    "    BinNode<Integer> left = node.getLeft();\n",
    "    BinNode<Integer> right = node.getRight();\n",
    "    if (left == null && right == null) {\n",
    "        return 0;\n",
    "    }\n",
    "    if (left != null && right != null) {\n",
    "        return pair(left) + pair(right);\n",
    "    }\n",
    "    if (left == null) {\n",
    "        node.setLeft(new BinNode<Integer>(right.getValue()));\n",
    "    }\n",
    "    if (right == null) {\n",
    "        node.setRight(new BinNode<Integer>(left.getValue()));\n",
    "    }\n",
    "    return pair(left) + pair(right) + 1;\n",
    "}"
   ]
  },
  {
   "cell_type": "markdown",
   "id": "d6b4ab83",
   "metadata": {},
   "source": [
    "[🎦](https://youtu.be/K5BdN4_HNOE)<br>\n",
    "![](../img/img_00401.png)"
   ]
  },
  {
   "cell_type": "markdown",
   "id": "42b4939f",
   "metadata": {},
   "source": [
    "---"
   ]
  },
  {
   "cell_type": "markdown",
   "id": "08f2976c",
   "metadata": {},
   "source": [
    "![](../img/img_00413.png)"
   ]
  },
  {
   "cell_type": "markdown",
   "id": "42e01c83",
   "metadata": {},
   "source": [
    "---"
   ]
  },
  {
   "cell_type": "markdown",
   "id": "104a6747",
   "metadata": {},
   "source": [
    "![](../img/img_00406.png)"
   ]
  },
  {
   "cell_type": "markdown",
   "id": "6c7dd20c",
   "metadata": {},
   "source": [
    "---"
   ]
  },
  {
   "cell_type": "code",
   "execution_count": 31,
   "id": "a3706765",
   "metadata": {
    "vscode": {
     "languageId": "java"
    }
   },
   "outputs": [],
   "source": [
    "%load ../fsm"
   ]
  },
  {
   "cell_type": "code",
   "execution_count": 29,
   "id": "7a280911",
   "metadata": {
    "vscode": {
     "languageId": "java"
    }
   },
   "outputs": [
    {
     "name": "stdout",
     "output_type": "stream",
     "text": [
      "'b' : true \n",
      "'aabbb' : true \n",
      "'aaaabbbbb' : true \n",
      "'' : false \n",
      "'a' : false \n",
      "'abb' : false \n",
      "'aaabbbb' : false \n",
      "'ab' : false \n",
      "'aabb' : false \n",
      "'aab' : false \n",
      "'aaba' : false \n",
      "'aabbba' : false \n"
     ]
    }
   ],
   "source": [
    "var fsm = fsmFromMermaid(\"q-01\", \"40-mikud-matkonet.dib\");\n",
    "accept(fsm, \"b\", \"aabbb\", \"aaaabbbbb\");\n",
    "accept(fsm, \"\", \"a\", \"abb\", \"aaabbbb\", \"ab\", \"aabb\", \"aab\", \"aaba\", \"aabbba\");"
   ]
  },
  {
   "cell_type": "code",
   "execution_count": 57,
   "id": "2a59c4f2",
   "metadata": {
    "vscode": {
     "languageId": "java"
    }
   },
   "outputs": [
    {
     "name": "stdout",
     "output_type": "stream",
     "text": [
      "'ac' : true \n",
      "'aacb' : true \n",
      "'aaacbb' : true \n",
      "'aaaacbbb' : true \n",
      "'' : false \n",
      "'a' : false \n",
      "'c' : false \n",
      "'b' : false \n",
      "'acb' : false \n",
      "'ab' : false \n",
      "'aa' : false \n",
      "'aac' : false \n",
      "'aacbb' : false \n"
     ]
    }
   ],
   "source": [
    "var fsm = fsmFromMermaid(\"q-02\", \"40-mikud-matkonet.dib\");\n",
    "accept(fsm, \"ac\", \"aacb\", \"aaacbb\", \"aaaacbbb\");\n",
    "accept(fsm, \"\", \"a\", \"c\", \"b\", \"acb\", \"ab\", \"aa\", \"aac\", \"aacbb\");"
   ]
  },
  {
   "cell_type": "code",
   "execution_count": 30,
   "id": "c1c619ab",
   "metadata": {
    "vscode": {
     "languageId": "java"
    }
   },
   "outputs": [
    {
     "name": "stdout",
     "output_type": "stream",
     "text": [
      "'' : false \n",
      "'ab' : true \n",
      "'abbb' : true \n",
      "'aaab' : true \n",
      "'aabb' : true \n",
      "'aa' : true \n",
      "'aabbbb' : true \n",
      "'aaabbb' : true \n",
      "'a' : false \n",
      "'b' : false \n",
      "'abb' : false \n",
      "'aab' : false \n",
      "'aabbb' : false \n",
      "'aaabb' : false \n",
      "'aaaab' : false \n"
     ]
    }
   ],
   "source": [
    "var fsm = fsmFromMermaid(\"q-03\", \"40-mikud-matkonet.dib\");\n",
    "accept(fsm, \"\", \"ab\", \"abbb\", \"aaab\", \"aabb\", \"aa\", \"aabbbb\", \"aaabbb\");\n",
    "accept(fsm, \"a\", \"b\", \"abb\", \"aab\", \"aabbb\", \"aaabb\", \"aaaab\");"
   ]
  },
  {
   "cell_type": "code",
   "execution_count": 54,
   "id": "4f82d0a4",
   "metadata": {
    "vscode": {
     "languageId": "java"
    }
   },
   "outputs": [
    {
     "name": "stdout",
     "output_type": "stream",
     "text": [
      "'abcd' : true \n",
      "'aabcdd' : true \n",
      "'aabbccdd' : true \n",
      "'aabbbcccdd' : true \n",
      "'' : false \n",
      "'ad' : false \n",
      "'abc' : false \n",
      "'abcdd' : false \n",
      "'aabcd' : false \n",
      "'aabbcdd' : false \n"
     ]
    }
   ],
   "source": [
    "var fsm = fsmFromMermaid(\"q-04\", \"40-mikud-matkonet.dib\");\n",
    "accept(fsm, \"abcd\", \"aabcdd\", \"aabbccdd\", \"aabbbcccdd\");\n",
    "accept(fsm, \"\", \"ad\", \"abc\", \"abcdd\", \"aabcd\", \"aabbcdd\");\n",
    "//accept(fsm, true, \"aabcdd\");"
   ]
  }
 ],
 "metadata": {
  "kernelspec": {
   "display_name": "Java",
   "language": "java",
   "name": "java"
  },
  "language_info": {
   "codemirror_mode": "java",
   "file_extension": ".jshell",
   "mimetype": "text/x-java-source",
   "name": "Java",
   "pygments_lexer": "java",
   "version": "23+37-2369"
  }
 },
 "nbformat": 4,
 "nbformat_minor": 5
}
