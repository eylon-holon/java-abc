{
 "cells": [
  {
   "cell_type": "markdown",
   "id": "25e14eb4",
   "metadata": {},
   "source": [
    "מגדירי מחלקה, כותרת והתכונות שלה  \n",
    "[2023-q3](../25-classes-in-bagruts/20-array-of-classes.2023-3.ipynb)"
   ]
  },
  {
   "cell_type": "markdown",
   "id": "ec1c0e41",
   "metadata": {},
   "source": [
    "---"
   ]
  },
  {
   "cell_type": "markdown",
   "id": "8625a7aa",
   "metadata": {},
   "source": [
    "עשים מיזוג תורים בלי לשנות אותם  \n",
    "[int copy(...) and merge(...)](../20-formula-pages/20-queue.ipynb)\n",
    "<br><br>\n",
    "יוצרים רשימה מקושרת  \n",
    "[Node fromArray(...)](../20-formula-pages/20-linked-list.ipynb)"
   ]
  },
  {
   "cell_type": "markdown",
   "id": "dbcc799d",
   "metadata": {},
   "source": [
    "---"
   ]
  },
  {
   "cell_type": "markdown",
   "id": "ccd44d92",
   "metadata": {},
   "source": [
    "מוסיפים בנים לעץ  \n",
    "[2023-q6](../23-binary-trees-in-bagruts/20-binary-tree.2023-6.ipynb)"
   ]
  },
  {
   "cell_type": "markdown",
   "id": "4c7bde45",
   "metadata": {},
   "source": [
    "---"
   ]
  },
  {
   "cell_type": "markdown",
   "id": "ba93696f",
   "metadata": {},
   "source": [
    "לבדוק שלכל צומת יש שני בנים וסכומם מספר זוגי"
   ]
  },
  {
   "cell_type": "code",
   "execution_count": null,
   "id": "aa6f0d61",
   "metadata": {
    "vscode": {
     "languageId": "java"
    }
   },
   "outputs": [],
   "source": [
    "boolean perfectEven(BinNode<Integer> node) {\n",
    "    if (node == null) {\n",
    "        return false;\n",
    "    }\n",
    "    BinNode<Integer> left = node.getLeft();\n",
    "    BinNode<Integer> right = node.getRight();\n",
    "    if (left == null && right == null) {\n",
    "        return true;\n",
    "    }\n",
    "    if (left == null || right == null) {\n",
    "        return false;\n",
    "    }\n",
    "    int sum = left.getValue() + right.getValue();\n",
    "    return sum % 2 == 0 &&\n",
    "        perfectEven(left) && perfectEven(right);\n",
    "}"
   ]
  },
  {
   "cell_type": "markdown",
   "id": "dd6dd721",
   "metadata": {},
   "source": [
    "---"
   ]
  },
  {
   "cell_type": "markdown",
   "id": "d4b9deaa",
   "metadata": {},
   "source": [
    "מה זה עושה?  \n",
    "מה זה מחזיר?  \n",
    "מזה טבלת מעקב?"
   ]
  },
  {
   "cell_type": "code",
   "execution_count": null,
   "id": "586b835a",
   "metadata": {
    "vscode": {
     "languageId": "java"
    }
   },
   "outputs": [],
   "source": [
    "int pair(BinNode<Integer> node) {\n",
    "    if (node == null) {\n",
    "        return 0;\n",
    "    }\n",
    "    BinNode<Integer> left = node.getLeft();\n",
    "    BinNode<Integer> right = node.getRight();\n",
    "    if (left == null && right == null) {\n",
    "        return 0;\n",
    "    }\n",
    "    if (left != null && right != null) {\n",
    "        return pair(left) + pair(right);\n",
    "    }\n",
    "    if (left == null) {\n",
    "        node.setLeft(new BinNode<Integer>(right.getValue()));\n",
    "    }\n",
    "    if (right == null) {\n",
    "        node.setRight(new BinNode<Integer>(left.getValue()));\n",
    "    }\n",
    "    return pair(left) + pair(right) + 1;\n",
    "}"
   ]
  },
  {
   "cell_type": "markdown",
   "id": "d6b4ab83",
   "metadata": {},
   "source": [
    "![](../img/img_00401.png)"
   ]
  }
 ],
 "metadata": {
  "kernelspec": {
   "display_name": "Java",
   "language": "java",
   "name": "java"
  },
  "language_info": {
   "codemirror_mode": "java",
   "file_extension": ".jshell",
   "mimetype": "text/x-java-source",
   "name": "Java",
   "pygments_lexer": "java",
   "version": "23+37-2369"
  }
 },
 "nbformat": 4,
 "nbformat_minor": 5
}
