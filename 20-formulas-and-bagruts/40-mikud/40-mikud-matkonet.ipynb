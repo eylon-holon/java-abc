{
 "cells": [
  {
   "cell_type": "markdown",
   "id": "2f59ca64",
   "metadata": {},
   "source": [
    "[על המיקוד 🎦](https://youtu.be/CkzAfVm6xN0)"
   ]
  },
  {
   "cell_type": "markdown",
   "id": "25e14eb4",
   "metadata": {},
   "source": [
    " [🎦](https://youtu.be/tTvKzzb3BvQ) מגדירי מחלקה, כותרת והתכונות שלה  \n",
    "[2023-q3](../25-classes-in-bagruts/20-array-of-classes.2023-3.ipynb)  \n",
    "בשאלה יש הגדרה שלמה, אנחנו רוצים רק זה  \n"
   ]
  },
  {
   "cell_type": "code",
   "execution_count": 3,
   "id": "488296ec",
   "metadata": {
    "vscode": {
     "languageId": "java"
    }
   },
   "outputs": [],
   "source": [
    "class CarInfo {\n",
    "    private String id;\n",
    "    private boolean privateCar;\n",
    "    private int speed;\n",
    "}"
   ]
  },
  {
   "cell_type": "code",
   "execution_count": 4,
   "id": "5390965d",
   "metadata": {
    "vscode": {
     "languageId": "java"
    }
   },
   "outputs": [],
   "source": [
    "class CameraInfo {\n",
    "    private int city;\n",
    "    private int maxSpeed;\n",
    "    private CarInfo[] cars;\n",
    "}"
   ]
  },
  {
   "cell_type": "markdown",
   "id": "ec1c0e41",
   "metadata": {},
   "source": [
    "---"
   ]
  },
  {
   "cell_type": "markdown",
   "id": "8625a7aa",
   "metadata": {},
   "source": [
    "[🎦](https://youtu.be/ihXT8gMJ4is) עשים מיזוג תורים בלי לשנות אותם  \n",
    "[int copy(...) and merge(...)](../20-formula-pages/20-queue.ipynb)\n",
    "<br><br>\n",
    "[🎦](https://youtu.be/Z3GzN7VAS2k) יוצרים רשימה מקושרת  \n",
    "[Node fromArray(...)](../20-formula-pages/20-linked-list.ipynb)"
   ]
  },
  {
   "cell_type": "markdown",
   "id": "dbcc799d",
   "metadata": {},
   "source": [
    "---"
   ]
  },
  {
   "cell_type": "markdown",
   "id": "ccd44d92",
   "metadata": {},
   "source": [
    "[🎦](https://youtu.be/Sjbv6MdDfe8) מוסיפים בנים לעץ  \n",
    "[2023-q6](../23-binary-trees-in-bagruts/20-binary-tree.2023-6.ipynb)"
   ]
  },
  {
   "cell_type": "markdown",
   "id": "4c7bde45",
   "metadata": {},
   "source": [
    "---"
   ]
  },
  {
   "cell_type": "markdown",
   "id": "ba93696f",
   "metadata": {},
   "source": [
    "[🎦](https://youtu.be/FZIWBD5osjQ) לבדוק שלכל צומת יש שני בנים וסכומם מספר זוגי"
   ]
  },
  {
   "cell_type": "code",
   "execution_count": 1,
   "id": "aa6f0d61",
   "metadata": {
    "vscode": {
     "languageId": "java"
    }
   },
   "outputs": [
    {
     "ename": "CompilationException",
     "evalue": "",
     "output_type": "error",
     "traceback": [
      "\u001b[1m\u001b[30m|   \u001b[1m\u001b[30mboolean perfectEven(BinNode<Integer> node) {\u001b[0m",
      "\u001b[1m\u001b[30m|   \u001b[1m\u001b[30m    if (node == null) {\u001b[0m",
      "\u001b[1m\u001b[30m|   \u001b[1m\u001b[30m        return false;\u001b[0m",
      "\u001b[1m\u001b[30m|   \u001b[1m\u001b[30m    }\u001b[0m",
      "\u001b[1m\u001b[30m|   \u001b[1m\u001b[30m    BinNode<Integer> left = node.getLeft();\u001b[0m",
      "\u001b[1m\u001b[30m|   \u001b[1m\u001b[30m    BinNode<Integer> right = node.getRight();\u001b[0m",
      "\u001b[1m\u001b[30m|   \u001b[1m\u001b[30m    if (left == null && right == null) {\u001b[0m",
      "\u001b[1m\u001b[30m|   \u001b[1m\u001b[30m        return true;\u001b[0m",
      "\u001b[1m\u001b[30m|   \u001b[1m\u001b[30m    }\u001b[0m",
      "\u001b[1m\u001b[30m|   \u001b[1m\u001b[30m    if (left == null || right == null) {\u001b[0m",
      "\u001b[1m\u001b[30m|   \u001b[1m\u001b[30m        return false;\u001b[0m",
      "\u001b[1m\u001b[30m|   \u001b[1m\u001b[30m    }\u001b[0m",
      "\u001b[1m\u001b[30m|   \u001b[1m\u001b[30m    int sum = left.getValue() + right.getValue();\u001b[0m",
      "\u001b[1m\u001b[30m|   \u001b[1m\u001b[30m    return sum % 2 == 0 &&\u001b[0m",
      "\u001b[1m\u001b[30m|   \u001b[1m\u001b[30m        perfectEven(left) && perfectEven(right);\u001b[0m",
      "\u001b[1m\u001b[30m|   \u001b[1m\u001b[30m}\u001b[0m",
      "\u001b[1m\u001b[31mUnresolved dependencies:\u001b[0m",
      "\u001b[1m\u001b[31m   - class BinNode\u001b[0m"
     ]
    }
   ],
   "source": [
    "boolean perfectEven(BinNode<Integer> node) {\n",
    "    if (node == null) {\n",
    "        return false;\n",
    "    }\n",
    "    BinNode<Integer> left = node.getLeft();\n",
    "    BinNode<Integer> right = node.getRight();\n",
    "    if (left == null && right == null) {\n",
    "        return true;\n",
    "    }\n",
    "    if (left == null || right == null) {\n",
    "        return false;\n",
    "    }\n",
    "    int sum = left.getValue() + right.getValue();\n",
    "    return sum % 2 == 0 &&\n",
    "        perfectEven(left) && perfectEven(right);\n",
    "}"
   ]
  },
  {
   "cell_type": "markdown",
   "id": "dd6dd721",
   "metadata": {},
   "source": [
    "---"
   ]
  },
  {
   "cell_type": "markdown",
   "id": "d4b9deaa",
   "metadata": {},
   "source": [
    "[🎦](https://youtu.be/hpCk77s7dd8)\n",
    "מה זה עושה?  \n",
    "מה זה מחזיר?  \n",
    "מזה טבלת מעקב?"
   ]
  },
  {
   "cell_type": "code",
   "execution_count": null,
   "id": "586b835a",
   "metadata": {
    "vscode": {
     "languageId": "java"
    }
   },
   "outputs": [],
   "source": [
    "int pair(BinNode<Integer> node) {\n",
    "    if (node == null) {\n",
    "        return 0;\n",
    "    }\n",
    "    BinNode<Integer> left = node.getLeft();\n",
    "    BinNode<Integer> right = node.getRight();\n",
    "    if (left == null && right == null) {\n",
    "        return 0;\n",
    "    }\n",
    "    if (left != null && right != null) {\n",
    "        return pair(left) + pair(right);\n",
    "    }\n",
    "    if (left == null) {\n",
    "        node.setLeft(new BinNode<Integer>(right.getValue()));\n",
    "    }\n",
    "    if (right == null) {\n",
    "        node.setRight(new BinNode<Integer>(left.getValue()));\n",
    "    }\n",
    "    return pair(left) + pair(right) + 1;\n",
    "}"
   ]
  },
  {
   "cell_type": "markdown",
   "id": "d6b4ab83",
   "metadata": {},
   "source": [
    "[🎦](https://youtu.be/K5BdN4_HNOE)<br>\n",
    "![](../img/img_00401.png)"
   ]
  }
 ],
 "metadata": {
  "kernelspec": {
   "display_name": "Java",
   "language": "java",
   "name": "java"
  },
  "language_info": {
   "codemirror_mode": "java",
   "file_extension": ".jshell",
   "mimetype": "text/x-java-source",
   "name": "Java",
   "pygments_lexer": "java",
   "version": "21.0.4+7-LTS"
  }
 },
 "nbformat": 4,
 "nbformat_minor": 5
}
