{
 "cells": [
  {
   "cell_type": "markdown",
   "metadata": {},
   "source": [
    "![](../img/img_00180.png)"
   ]
  },
  {
   "cell_type": "markdown",
   "metadata": {},
   "source": [
    "![](../img/img_00181.png)"
   ]
  },
  {
   "cell_type": "code",
   "execution_count": null,
   "metadata": {},
   "outputs": [],
   "source": [
    "public static\n",
    "int[] multiply(int[] arr1, int[] arr2) {\n",
    "    int[] a = arr1;\n",
    "    int[] b = arr2;\n",
    "    if (a.length < b.length) {\n",
    "        a = arr2;\n",
    "        b = arr1;\n",
    "    }\n",
    "    int[] result = new int[a.length];\n",
    "    for (int i = 0; i < b.length; i++) {\n",
    "        result[i] = a[i] * b[i];\n",
    "    }\n",
    "    for (int i = b.length; i < a.length; i++) {\n",
    "        result[i] = a[i];\n",
    "    }\n",
    "    return result;   \n",
    "}"
   ]
  },
  {
   "cell_type": "markdown",
   "metadata": {},
   "source": [
    "---"
   ]
  },
  {
   "cell_type": "code",
   "execution_count": null,
   "metadata": {},
   "outputs": [],
   "source": [
    "%load ../formulas\n",
    "\n",
    "print(multiply(\n",
    "    new int[] {1,-4,4,9,2},\n",
    "    new int[] {9,2,0,-1,3,11,23}\n",
    "));"
   ]
  }
 ],
 "metadata": {
  "kernelspec": {
   "display_name": "Java",
   "language": "java",
   "name": "java"
  },
  "language_info": {
   "codemirror_mode": "java",
   "file_extension": ".jshell",
   "mimetype": "text/x-java-source",
   "name": "java",
   "pygments_lexer": "java",
   "version": "23+37-2369"
  }
 },
 "nbformat": 4,
 "nbformat_minor": 2
}
