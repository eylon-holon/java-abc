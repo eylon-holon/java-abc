{
 "cells": [
  {
   "cell_type": "markdown",
   "metadata": {},
   "source": [
    "![](../img/img_00205.png)"
   ]
  },
  {
   "cell_type": "markdown",
   "metadata": {},
   "source": [
    "![](../img/img_00206.png)"
   ]
  },
  {
   "cell_type": "code",
   "execution_count": null,
   "metadata": {},
   "outputs": [],
   "source": [
    "public boolean illegal(int maxSpeed) {\n",
    "    return privateCar || speed > maxSpeed;\n",
    "}"
   ]
  },
  {
   "cell_type": "markdown",
   "metadata": {},
   "source": [
    "![](../img/img_00207.png)"
   ]
  },
  {
   "cell_type": "markdown",
   "metadata": {},
   "source": [
    "![](../img/img_00208.png)"
   ]
  },
  {
   "cell_type": "code",
   "execution_count": null,
   "metadata": {},
   "outputs": [],
   "source": [
    "public boolean allGood() {\n",
    "    for (int i = 0; i < cars.length; i++) {\n",
    "        if (cars[i].illegal(maxSpeed)) {\n",
    "            return false;\n",
    "        }\n",
    "    return true;\n",
    "}"
   ]
  },
  {
   "cell_type": "code",
   "execution_count": null,
   "metadata": {},
   "outputs": [],
   "source": [
    "public static\n",
    "int legalCities(CameraInfo[] cameras) {\n",
    "    int counters = new int[100];\n",
    "    for (int i = 0; i < cameras.length; i++) {\n",
    "        if (!cameras[i].allGood()) {\n",
    "            int city = cameras[i].getCity();\n",
    "            counters[city]++;\n",
    "        }\n",
    "    }\n",
    "    int count = 0;\n",
    "    for (int i = 0; i < counters.length; i++) {\n",
    "        if (counters[i] > 0) {\n",
    "            count++;\n",
    "        }\n",
    "    }\n",
    "    return count;\n",
    "}"
   ]
  }
 ],
 "metadata": {
  "kernelspec": {
   "display_name": "Java",
   "language": "java",
   "name": "java"
  },
  "language_info": {
   "name": "java"
  }
 },
 "nbformat": 4,
 "nbformat_minor": 2
}
