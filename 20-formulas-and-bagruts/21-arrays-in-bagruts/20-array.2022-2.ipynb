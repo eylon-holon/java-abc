{
 "cells": [
  {
   "cell_type": "markdown",
   "metadata": {},
   "source": [
    "![](../img/img_00182.png)"
   ]
  },
  {
   "cell_type": "markdown",
   "metadata": {},
   "source": [
    "![](../img/img_00183.png)"
   ]
  },
  {
   "cell_type": "markdown",
   "metadata": {},
   "source": [
    "![](../img/img_00184.png)"
   ]
  },
  {
   "cell_type": "code",
   "execution_count": null,
   "metadata": {
    "vscode": {
     "languageId": "java"
    }
   },
   "outputs": [],
   "source": [
    "public static\n",
    "boolean isPerfect(int[] arr) {\n",
    "    int cur = 0;\n",
    "    // test all elements exept last one!\n",
    "    for (int i = 0; i < arr.length-1; i++) {\n",
    "        if (arr[cur] == 0) {\n",
    "            return false;\n",
    "        }\n",
    "        cur = arr[cur];\n",
    "    }\n",
    "    // test last element\n",
    "    return arr[cur] == 0;\n",
    "}"
   ]
  },
  {
   "cell_type": "markdown",
   "metadata": {},
   "source": [
    "---"
   ]
  },
  {
   "cell_type": "code",
   "execution_count": null,
   "metadata": {
    "vscode": {
     "languageId": "java"
    }
   },
   "outputs": [],
   "source": [
    "%load ../formulas\n",
    "\n",
    "print(isPerfect(new int[] {3, 0, 1, 4, 2}));\n",
    "print(isPerfect(new int[] {1, 2, 5, 1, 3, 4}));\n",
    "print(isPerfect(new int[] {1, 2, 5, 1, 3, 4}));\n",
    "print(isPerfect(new int[] {3, 4, 1, 5, 6, 0, 2}));"
   ]
  }
 ],
 "metadata": {
  "kernelspec": {
   "display_name": "Java",
   "language": "java",
   "name": "java"
  },
  "language_info": {
   "codemirror_mode": "java",
   "file_extension": ".jshell",
   "mimetype": "text/x-java-source",
   "name": "Java",
   "pygments_lexer": "java",
   "version": "23+37-2369"
  }
 },
 "nbformat": 4,
 "nbformat_minor": 2
}
