{
 "cells": [
  {
   "cell_type": "markdown",
   "metadata": {},
   "source": [
    "![](../img/img_00202.png)"
   ]
  },
  {
   "cell_type": "markdown",
   "metadata": {},
   "source": [
    "![](../img/img_00203.png)"
   ]
  },
  {
   "cell_type": "markdown",
   "metadata": {},
   "source": [
    "![](../img/img_00204.png)"
   ]
  },
  {
   "cell_type": "code",
   "execution_count": null,
   "metadata": {},
   "outputs": [],
   "source": [
    "public static\n",
    "int missingNum(int[] arr) {\n",
    "    int diff = arr[1] - arr[0];\n",
    "    if (diff != arr[2] - arr[1]) {\n",
    "        diff = arr[3] - arr[2];\n",
    "    }\n",
    "    for (int i = 1; i < arr.length; i++) {\n",
    "        int shouldBe = arr[i-1] + diff;\n",
    "        if (arr[i] != shouldBe) {\n",
    "            return shouldBe;\n",
    "        }\n",
    "    }\n",
    "    return arr[arr.length-1] + diff;\n",
    "}"
   ]
  },
  {
   "cell_type": "code",
   "execution_count": null,
   "metadata": {},
   "outputs": [],
   "source": [
    "%load ../formulas\n",
    "\n",
    "print(missingNum(new int[] {6,8,12,14,16,18}));\n",
    "print(missingNum(new int[] {6,10,12,14,16,18}));\n",
    "print(missingNum(new int[] {10,9,7,6}));\n",
    "print(missingNum(new int[] {10,8,7,6}));"
   ]
  }
 ],
 "metadata": {
  "kernelspec": {
   "display_name": "Java",
   "language": "java",
   "name": "java"
  },
  "language_info": {
   "codemirror_mode": "java",
   "file_extension": ".jshell",
   "mimetype": "text/x-java-source",
   "name": "java",
   "pygments_lexer": "java",
   "version": "23+37-2369"
  }
 },
 "nbformat": 4,
 "nbformat_minor": 2
}
