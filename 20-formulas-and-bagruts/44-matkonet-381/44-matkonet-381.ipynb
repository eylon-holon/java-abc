{
 "cells": [
  {
   "cell_type": "code",
   "execution_count": null,
   "id": "31d0c6ef",
   "metadata": {
    "vscode": {
     "languageId": "java"
    }
   },
   "outputs": [],
   "source": [
    "%load ../formulas"
   ]
  },
  {
   "cell_type": "markdown",
   "id": "76f496a2",
   "metadata": {},
   "source": [
    "![](img/img_00847.png)"
   ]
  },
  {
   "cell_type": "markdown",
   "id": "7d4d13f1",
   "metadata": {},
   "source": [
    "![](img/img_00848.png)"
   ]
  },
  {
   "cell_type": "markdown",
   "id": "2abc09f3",
   "metadata": {},
   "source": [
    "![](img/img_00849.png)"
   ]
  },
  {
   "cell_type": "code",
   "execution_count": null,
   "id": "4e963897",
   "metadata": {
    "vscode": {
     "languageId": "java"
    }
   },
   "outputs": [],
   "source": [
    "public static\n",
    "boolean isBalanced(int[] arr) {\n",
    "    if (arr.length < 3 || arr.length % 2 == 0) {\n",
    "        return false;\n",
    "    }\n",
    "    int m = arr.length / 2;     // index of middle element\n",
    "    int x = arr[m];             // middle element\n",
    "    for (int i = 0; i < m; i++) {\n",
    "        if (arr[i] <= x) {\n",
    "            return false;\n",
    "        }\n",
    "    }\n",
    "    for (int i = m + 1; i < arr.length; i++) {\n",
    "        if (arr[i] >= x) {\n",
    "            return false;\n",
    "        }\n",
    "    }\n",
    "    return true;\n",
    "}"
   ]
  },
  {
   "cell_type": "code",
   "execution_count": null,
   "id": "69796198",
   "metadata": {
    "vscode": {
     "languageId": "java"
    }
   },
   "outputs": [],
   "source": [
    "print(isBalanced(new int[]{22,56,123,12,10,-4,2}));\n",
    "print(isBalanced(new int[]{2,56,123,12,10,-4,2}));\n",
    "print(isBalanced(new int[]{22,56,123,12,10,-4,12}));"
   ]
  },
  {
   "cell_type": "markdown",
   "id": "e83303ce",
   "metadata": {},
   "source": [
    "![](img/img_00850.png)"
   ]
  },
  {
   "cell_type": "markdown",
   "id": "736f011e",
   "metadata": {},
   "source": [
    "$O(n)$  \n",
    "עוברים פעם אחד על כל המערך   \n",
    "ויש כמות ידוע מראש של פעולות עבור כל איבר במערך"
   ]
  },
  {
   "cell_type": "markdown",
   "id": "cb91983c",
   "metadata": {},
   "source": [
    "---"
   ]
  },
  {
   "cell_type": "markdown",
   "id": "ae8a5da3",
   "metadata": {},
   "source": [
    "![](img/img_00851.png)"
   ]
  },
  {
   "cell_type": "code",
   "execution_count": null,
   "id": "ec0c606a",
   "metadata": {
    "vscode": {
     "languageId": "java"
    }
   },
   "outputs": [],
   "source": [
    "public static\n",
    "void printSubArrays(int[] arr) {\n",
    "    int sum = 0;\n",
    "    for (int i = 0; i < arr.length; i++) {\n",
    "        sum += arr[i];\n",
    "        System.out.print(arr[i] + \" \");\n",
    "        if (sum == 100) {\n",
    "            System.out.println();\n",
    "            sum = 0;\n",
    "        }\n",
    "    }\n",
    "}"
   ]
  },
  {
   "cell_type": "code",
   "execution_count": null,
   "id": "4c6d631b",
   "metadata": {
    "vscode": {
     "languageId": "java"
    }
   },
   "outputs": [],
   "source": [
    "printSubArrays(new int[]{20,70,10,25,25,25,25,1,99,2,16,74,5,3});"
   ]
  },
  {
   "cell_type": "markdown",
   "id": "8ff03adf",
   "metadata": {},
   "source": [
    "---"
   ]
  },
  {
   "cell_type": "markdown",
   "id": "c756fb28",
   "metadata": {},
   "source": [
    "![](img/img_00852.png)"
   ]
  },
  {
   "cell_type": "markdown",
   "id": "2988bcd1",
   "metadata": {},
   "source": [
    "![](img/img_00853.png)"
   ]
  },
  {
   "cell_type": "markdown",
   "id": "dba6520d",
   "metadata": {},
   "source": [
    "|<tt>num    |<tt>arr                |<tt>left   |<tt>right  |<tt>left != right  |<tt>arr[left] < num    |<tt>arr[right] > num   |\n",
    "|---        |---                    |---        |---        |---                |---                    |---                    |\n",
    "|<tt>4      |<tt>[18,10,3,12,17,1]  |<tt>0      |<tt>5      |<tt>true           |<tt>18 < 4: false      |<tt>1 > 4: false       |\n",
    "|           |<tt>[1,10,3,12,17,18]  |           |           |                   |<tt>1 < 4: true        |                       |\n",
    "|           |                       |<tt>1      |           |                   |<tt>10 < 4: false      |<tt>18 > 4: true       |\n",
    "|           |                       |           |<tt>4      |                   |                       |<tt>17 > 4: true       |\n",
    "|           |                       |           |<tt>3      |                   |                       |<tt>12 > 4: true       |\n",
    "|           |                       |           |<tt>2      |                   |                       |<tt>3 > 4: false       |\n",
    "|           |<tt>[1,3,10,12,17,18]  |           |           |                   |<tt>3 < 4: true        |                       |\n",
    "|           |                       |<tt>2      |           |<tt>false          |                       |                       |\n",
    "\n"
   ]
  },
  {
   "cell_type": "markdown",
   "id": "edac53cc",
   "metadata": {},
   "source": [
    "![](img/img_00854.png)"
   ]
  },
  {
   "cell_type": "markdown",
   "id": "252b3da6",
   "metadata": {},
   "source": [
    "0  \n",
    "20"
   ]
  },
  {
   "cell_type": "markdown",
   "id": "b2bc5929",
   "metadata": {},
   "source": [
    "![](img/img_00855.png)"
   ]
  },
  {
   "cell_type": "markdown",
   "id": "fe19fd2b",
   "metadata": {},
   "source": [
    "<tt>num</tt>-הפונקציה מסדרת את המערך כך, שכל המספרים הקטנים מ  \n",
    "<tt>num</tt>-יהיו לפני המספרים שגדולים מ"
   ]
  },
  {
   "cell_type": "markdown",
   "id": "b49d2a07",
   "metadata": {
    "vscode": {
     "languageId": "java"
    }
   },
   "source": [
    "---"
   ]
  },
  {
   "cell_type": "markdown",
   "id": "34a252fd",
   "metadata": {},
   "source": [
    "![](img/img_00856.png)"
   ]
  },
  {
   "cell_type": "markdown",
   "id": "7fe1d901",
   "metadata": {},
   "source": [
    "![](img/img_00857.png)"
   ]
  },
  {
   "cell_type": "code",
   "execution_count": null,
   "id": "483524cc",
   "metadata": {
    "vscode": {
     "languageId": "java"
    }
   },
   "outputs": [],
   "source": [
    "public String getNameOfMoreExpensive(Doctor other) {\n",
    "    if (this.price > other.getPrice()) {\n",
    "        return this.name;\n",
    "    }\n",
    "    if (this.price < other.getPrice()) {\n",
    "        return other.getName();\n",
    "    }\n",
    "    return \"same\";\n",
    "}"
   ]
  },
  {
   "cell_type": "markdown",
   "id": "3fca39ef",
   "metadata": {},
   "source": [
    "![](img/img_00858.png)"
   ]
  },
  {
   "cell_type": "code",
   "execution_count": null,
   "id": "c4319694",
   "metadata": {
    "vscode": {
     "languageId": "java"
    }
   },
   "outputs": [],
   "source": [
    "Doctor doc1 = new Doctor(\"Shlomo\", 15, 500);\n",
    "Doctor doc2 = new Doctor(\"Dan\", 8, 300);"
   ]
  },
  {
   "cell_type": "markdown",
   "id": "a7fdbd51",
   "metadata": {},
   "source": [
    "![](img/img_00859.png)"
   ]
  },
  {
   "cell_type": "code",
   "execution_count": null,
   "id": "d1a2e4b7",
   "metadata": {
    "vscode": {
     "languageId": "java"
    }
   },
   "outputs": [],
   "source": [
    "public static\n",
    "Doctor getLeastExpiriencedDoctor(Doctor[] doctors) {\n",
    "    Doctor min = null;\n",
    "    for (Doctor doc: doctors) {\n",
    "        if (doc.getExpirience() < min.getExpirience()) {\n",
    "            min = doc;\n",
    "        }\n",
    "    }\n",
    "    return min;\n",
    "}"
   ]
  },
  {
   "cell_type": "markdown",
   "id": "bb6fd603",
   "metadata": {},
   "source": [
    "---"
   ]
  },
  {
   "cell_type": "markdown",
   "id": "394b9835",
   "metadata": {},
   "source": [
    "![](img/img_00860.png)"
   ]
  },
  {
   "cell_type": "markdown",
   "id": "51575cd1",
   "metadata": {},
   "source": [
    "![](img/img_00861.png)"
   ]
  },
  {
   "cell_type": "code",
   "execution_count": null,
   "id": "5506ea1a",
   "metadata": {
    "vscode": {
     "languageId": "java"
    }
   },
   "outputs": [],
   "source": [
    "public int findWorkout(int type) {\n",
    "    for (int i = 0; i < workouts.length; i++) {\n",
    "        if (workouts[i].getWorkoutType() == type) {\n",
    "            if (workouts[i].getRegisteredParticipants() < workouts[i].getMaxParticipants()) {\n",
    "                workouts[i].setRegisteredParticipants(workouts[i].getRegisteredParticipants() + 1);\n",
    "                return workouts[i].getStartHour();\n",
    "            }\n",
    "        }\n",
    "    }\n",
    "    return -1;\n",
    "}"
   ]
  },
  {
   "cell_type": "code",
   "execution_count": null,
   "id": "5739b4f0",
   "metadata": {
    "vscode": {
     "languageId": "java"
    }
   },
   "outputs": [],
   "source": [
    "// more readable version\n",
    "public int findWorkout(int type) {\n",
    "    for (Workout wo: workouts) {\n",
    "        if (wo.getWorkoutType() != type) {\n",
    "            continue;\n",
    "        }\n",
    "        int count = wo.getRegisteredParticipants();\n",
    "        if (count >= wo.getMaxParticipants()) {\n",
    "            continue;\n",
    "        }\n",
    "        wo.setRegisteredParticipants(count + 1);\n",
    "        return wo.getStartHour();\n",
    "    }\n",
    "    return -1;\n",
    "}"
   ]
  },
  {
   "cell_type": "markdown",
   "id": "bc76a13e",
   "metadata": {},
   "source": [
    "![](img/img_00862.png)"
   ]
  },
  {
   "cell_type": "code",
   "execution_count": null,
   "id": "0a0f21fb",
   "metadata": {
    "vscode": {
     "languageId": "java"
    }
   },
   "outputs": [],
   "source": [
    "public String getMostProfitable() {\n",
    "    double maxProfit = 0;\n",
    "    String maxName = null;\n",
    "    for (Workout wo: workouts) {\n",
    "        // we have to convert integer to double\n",
    "        // otherwise we will always get zero (integer division returns whole numbers only)\n",
    "        // it's enough to convert only one to double (java will convert the second one)\n",
    "        // we need parentheses when converting to double, since division has higher priority than type conversion\n",
    "        double profit = ((double) wo.getRegisteredParticipants()) / wo.getMaxParticipants();\n",
    "        if (profit > maxProfit) {\n",
    "            maxProfit = profit;\n",
    "            maxName = wo.getName();\n",
    "        }\n",
    "    }\n",
    "    return maxName;\n",
    "}"
   ]
  },
  {
   "cell_type": "markdown",
   "id": "a3021fce",
   "metadata": {},
   "source": [
    "![](img/img_00863.png)"
   ]
  },
  {
   "cell_type": "code",
   "execution_count": null,
   "id": "ba5ca4c3",
   "metadata": {
    "vscode": {
     "languageId": "java"
    }
   },
   "outputs": [],
   "source": [
    "public boolean workoutsCanBeCombined(int type) {\n",
    "    for (Workout wo1: workouts) {\n",
    "        if (wo1.getWorkoutType() != type) {\n",
    "            continue;\n",
    "        }\n",
    "        for (Workout wo2: workouts) {\n",
    "            if (wo2.getType() != type) {\n",
    "                continue;\n",
    "            }\n",
    "            int diff = wo1.getStartHour() - wo2.getStartHour();\n",
    "            if (Math.abs(diff) != 1) {\n",
    "                continue;\n",
    "            }\n",
    "            int count = wo1.getRegisteredParticipants() + wo2.getRegisteredParticipants();\n",
    "            if (count < wo1.getMaxParticipants() || count < wo2.getMaxParticipants()) {\n",
    "                return true;\n",
    "            }\n",
    "        }\n",
    "    }\n",
    "    return false;\n",
    "}"
   ]
  },
  {
   "cell_type": "markdown",
   "id": "42b33176",
   "metadata": {},
   "source": [
    "---"
   ]
  },
  {
   "cell_type": "markdown",
   "id": "d9f562dd",
   "metadata": {},
   "source": [
    "![](img/img_00864.png)"
   ]
  },
  {
   "cell_type": "markdown",
   "id": "ec010485",
   "metadata": {},
   "source": [
    "![](img/img_00865.png)"
   ]
  },
  {
   "cell_type": "code",
   "execution_count": null,
   "id": "58f7cc40",
   "metadata": {
    "vscode": {
     "languageId": "java"
    }
   },
   "outputs": [],
   "source": [
    "public Fruit(String name, double price, String[] seasons) {\n",
    "    this.name = name;\n",
    "    this.price = price;\n",
    "    this.seasons = seasons;\n",
    "}"
   ]
  },
  {
   "cell_type": "code",
   "execution_count": null,
   "id": "87f9c360",
   "metadata": {
    "vscode": {
     "languageId": "java"
    }
   },
   "outputs": [],
   "source": [
    "public String getName() {\n",
    "    return name;\n",
    "}"
   ]
  },
  {
   "cell_type": "code",
   "execution_count": null,
   "id": "f9c8063b",
   "metadata": {
    "vscode": {
     "languageId": "java"
    }
   },
   "outputs": [],
   "source": [
    "public String[] getSeasons() {\n",
    "    return seasons;\n",
    "}"
   ]
  },
  {
   "cell_type": "code",
   "execution_count": null,
   "id": "3400dfa1",
   "metadata": {
    "vscode": {
     "languageId": "java"
    }
   },
   "outputs": [],
   "source": [
    "public boolean inSeason(String season) {\n",
    "    for (int i = 0; i < seasons.length; i++) {\n",
    "        if (seasons[i].equals(season)) {\n",
    "            return true;\n",
    "        }\n",
    "    }\n",
    "    return false;\n",
    "}"
   ]
  },
  {
   "cell_type": "code",
   "execution_count": null,
   "id": "dade4c4e",
   "metadata": {
    "vscode": {
     "languageId": "java"
    }
   },
   "outputs": [],
   "source": [
    "pubilc int howMuchSeasons() {\n",
    "    return seasons.length;\n",
    "}"
   ]
  },
  {
   "cell_type": "markdown",
   "id": "37f2ac63",
   "metadata": {},
   "source": [
    "![](img/img_00866.png)"
   ]
  },
  {
   "cell_type": "code",
   "execution_count": null,
   "id": "da1e0052",
   "metadata": {
    "vscode": {
     "languageId": "java"
    }
   },
   "outputs": [],
   "source": [
    "public static\n",
    "String commonSeasons(Fruit[] arr) {\n",
    "    int count1 = 0;\n",
    "    int count2 = 0;\n",
    "    int count3 = 0;\n",
    "    int count4 = 0;\n",
    "    \n",
    "    for (Fruit fruit: arr) {\n",
    "        if (fruit.inSeason(\"spring\")) {\n",
    "            count1++;\n",
    "        }\n",
    "        if (fruit.inSeason(\"summer\")) {\n",
    "            count2++;\n",
    "        }\n",
    "        if (fruit.inSeason(\"autumn\")) {\n",
    "            count3++;\n",
    "        }\n",
    "        if (fruit.inSeason(\"winter\")) {\n",
    "            count4++;\n",
    "        }\n",
    "    }\n",
    "\n",
    "    int max = Math.max(\n",
    "        Math.max(count1, count2, \n",
    "        Math.max(count3, count4)));\n",
    "\n",
    "    if (max == count1) {\n",
    "        return \"spring\";\n",
    "    }\n",
    "    if (max == count2) {\n",
    "        return \"summer\";\n",
    "    }\n",
    "    if (max == count3) {\n",
    "        return \"autumn\";\n",
    "    }\n",
    "    if (max == count4) {\n",
    "        return \"winter\";\n",
    "    }\n",
    "}"
   ]
  },
  {
   "cell_type": "code",
   "execution_count": null,
   "id": "087032f4",
   "metadata": {
    "vscode": {
     "languageId": "java"
    }
   },
   "outputs": [],
   "source": [
    "// array of counters\n",
    "public static\n",
    "String commonSeasons(Fruit[] arr) {\n",
    "    String[] seasons = new String[] {\"spring\", \"summer\", \"autumn\", \"winter\"};\n",
    "    int[] counts = new int[] {0, 0, 0, 0};\n",
    "    \n",
    "    for (Fruit fruit: arr) {\n",
    "        for (int i = 0; i < 4; i++) {\n",
    "            if (fruit.inSeason(seasons[i])) {\n",
    "                counts[i]++;\n",
    "            }\n",
    "        }\n",
    "    }\n",
    "\n",
    "    int maxAt = 0;\n",
    "    for (int i = 0; i < 4; i++) {\n",
    "        if (counts[i] > counts[maxAt]) {\n",
    "            maxAt = i;\n",
    "        }\n",
    "    }\n",
    "\n",
    "    return seasons[maxAt];\n",
    "}"
   ]
  },
  {
   "cell_type": "code",
   "execution_count": null,
   "id": "4e74b47f",
   "metadata": {
    "vscode": {
     "languageId": "java"
    }
   },
   "outputs": [],
   "source": [
    "// update maximum during iteration\n",
    "public static\n",
    "String commonSeasons(Fruit[] arr) {\n",
    "    String[] seasons = new String[] {\"spring\", \"summer\", \"autumn\", \"winter\"};\n",
    "    int[] counts = new int[] {0, 0, 0, 0};\n",
    "    int maxAt = 0;\n",
    "    for (Fruit fruit: arr) {\n",
    "        for (int i = 0; i < 4; i++) {\n",
    "            if (fruit.inSeason(seasons[i])) {\n",
    "                counts[i]++;\n",
    "            }\n",
    "            if (counts[i] > counts[maxAt]) {\n",
    "                maxAt = i;\n",
    "            }\n",
    "        }\n",
    "    }\n",
    "    return seasons[maxAt];\n",
    "}"
   ]
  }
 ],
 "metadata": {
  "kernelspec": {
   "display_name": "Java",
   "language": "java",
   "name": "java"
  },
  "language_info": {
   "codemirror_mode": "java",
   "file_extension": ".jshell",
   "mimetype": "text/x-java-source",
   "name": "Java",
   "pygments_lexer": "java",
   "version": "17.0.2+8"
  }
 },
 "nbformat": 4,
 "nbformat_minor": 5
}
