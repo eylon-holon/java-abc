{
 "cells": [
  {
   "cell_type": "code",
   "execution_count": 1,
   "id": "31d0c6ef",
   "metadata": {
    "vscode": {
     "languageId": "java"
    }
   },
   "outputs": [],
   "source": [
    "%load ../formulas"
   ]
  },
  {
   "cell_type": "code",
   "execution_count": 5,
   "id": "4e963897",
   "metadata": {
    "vscode": {
     "languageId": "java"
    }
   },
   "outputs": [],
   "source": [
    "public static\n",
    "boolean isBalanced(int[] arr) {\n",
    "    if (arr.length < 3 || arr.length % 2 == 0) {\n",
    "        return false;\n",
    "    }\n",
    "    int m = arr.length / 2;     // index of middle element\n",
    "    int x = arr[m];             // middle element\n",
    "    for (int i = 0; i < m; i++) {\n",
    "        if (arr[i] <= x) {\n",
    "            return false;\n",
    "        }\n",
    "    }\n",
    "    for (int i = m + 1; i < arr.length; i++) {\n",
    "        if (arr[i] >= x) {\n",
    "            return false;\n",
    "        }\n",
    "    }\n",
    "    return true;\n",
    "}"
   ]
  },
  {
   "cell_type": "code",
   "execution_count": 7,
   "id": "69796198",
   "metadata": {
    "vscode": {
     "languageId": "java"
    }
   },
   "outputs": [
    {
     "name": "stdout",
     "output_type": "stream",
     "text": [
      "true \n",
      "false \n",
      "false \n"
     ]
    }
   ],
   "source": [
    "print(isBalanced(new int[]{22,56,123,12,10,-4,2}));\n",
    "print(isBalanced(new int[]{2,56,123,12,10,-4,2}));\n",
    "print(isBalanced(new int[]{22,56,123,12,10,-4,12}));"
   ]
  },
  {
   "cell_type": "code",
   "execution_count": 8,
   "id": "ec0c606a",
   "metadata": {
    "vscode": {
     "languageId": "java"
    }
   },
   "outputs": [],
   "source": [
    "public static\n",
    "void printSubArrays(int[] arr) {\n",
    "    int sum = 0;\n",
    "    for (int i = 0; i < arr.length; i++) {\n",
    "        sum += arr[i];\n",
    "        System.out.print(arr[i] + \" \");\n",
    "        if (sum == 100) {\n",
    "            System.out.println();\n",
    "            sum = 0;\n",
    "        }\n",
    "    }\n",
    "}"
   ]
  },
  {
   "cell_type": "code",
   "execution_count": 9,
   "id": "4c6d631b",
   "metadata": {
    "vscode": {
     "languageId": "java"
    }
   },
   "outputs": [
    {
     "name": "stdout",
     "output_type": "stream",
     "text": [
      "20 70 10 \n",
      "25 25 25 25 \n",
      "1 99 \n",
      "2 16 74 5 3 \n"
     ]
    }
   ],
   "source": [
    "printSubArrays(new int[]{20,70,10,25,25,25,25,1,99,2,16,74,5,3});"
   ]
  },
  {
   "cell_type": "markdown",
   "id": "dba6520d",
   "metadata": {},
   "source": [
    "|<tt>num    |<tt>arr                |<tt>left   |<tt>right  |<tt>left != right  |<tt>arr[left] < num    |<tt>arr[right] > num   |\n",
    "|---        |---                    |---        |---        |---                |---                    |---                    |\n",
    "|<tt>4      |<tt>[18,10,3,12,17,1]  |<tt>0      |<tt>5      |<tt>true           |<tt>18 < 4: false      |<tt>1 > 4: false       |\n",
    "|           |<tt>[1,10,3,12,17,18]  |           |           |                   |<tt>1 < 4: true        |                       |\n",
    "|           |                       |<tt>1      |           |                   |<tt>10 < 4: false      |<tt>18 > 4: true       |\n",
    "|           |                       |           |<tt>4      |                   |                       |<tt>17 > 4: true       |\n",
    "|           |                       |           |<tt>3      |                   |                       |<tt>12 > 4: true       |\n",
    "|           |                       |           |<tt>2      |                   |                       |<tt>3 > 4: false       |\n",
    "|           |<tt>[1,3,10,12,17,18]  |           |           |                   |<tt>3 < 4: true        |                       |\n",
    "|           |                       |<tt>2      |           |<tt>false          |                       |                       |\n",
    "\n"
   ]
  }
 ],
 "metadata": {
  "kernelspec": {
   "display_name": "Java",
   "language": "java",
   "name": "java"
  },
  "language_info": {
   "codemirror_mode": "java",
   "file_extension": ".jshell",
   "mimetype": "text/x-java-source",
   "name": "Java",
   "pygments_lexer": "java",
   "version": "17.0.2+8"
  }
 },
 "nbformat": 4,
 "nbformat_minor": 5
}
