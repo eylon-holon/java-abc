{
 "cells": [
  {
   "cell_type": "code",
   "execution_count": 2,
   "id": "064f85b1",
   "metadata": {},
   "outputs": [
    {
     "ename": "EvalException",
     "evalue": "Exception occurred while running line magic 'load': null",
     "output_type": "error",
     "traceback": [
      "\u001b[1m\u001b[31m---------------------------------------------------------------------------\u001b[0m",
      "\u001b[1m\u001b[31mjava.lang.RuntimeException: Exception occurred while running line magic 'load': null\u001b[0m",
      "\u001b[1m\u001b[31m\tat io.github.spencerpark.ijava.runtime.Magics.lineMagic(Magics.java:19)\u001b[0m",
      "\u001b[1m\u001b[31m\tat .(#13:1)\u001b[0m"
     ]
    }
   ],
   "source": [
    "%load ../20-formula-pages/20-binary-tree"
   ]
  },
  {
   "cell_type": "code",
   "execution_count": 1,
   "id": "30b1099a",
   "metadata": {},
   "outputs": [
    {
     "ename": "CompilationException",
     "evalue": "",
     "output_type": "error",
     "traceback": [
      "\u001b[1m\u001b[30m|   \u001b[1m\u001b[30mvar tree = new \u001b[0m\u001b[1m\u001b[30m\u001b[41mBinNode\u001b[0m\u001b[1m\u001b[30m<Integer>(1,\u001b[0m",
      "\u001b[1m\u001b[31mcannot find symbol\u001b[0m",
      "\u001b[1m\u001b[31m  symbol:   class BinNode\u001b[0m",
      "",
      "\u001b[1m\u001b[30m|   \u001b[1m\u001b[30m    new \u001b[0m\u001b[1m\u001b[30m\u001b[41mBinNode\u001b[0m\u001b[1m\u001b[30m<Integer>(2,\u001b[0m",
      "\u001b[1m\u001b[31mcannot find symbol\u001b[0m",
      "\u001b[1m\u001b[31m  symbol:   class BinNode\u001b[0m",
      "",
      "\u001b[1m\u001b[30m|   \u001b[1m\u001b[30m        new \u001b[0m\u001b[1m\u001b[30m\u001b[41mBinNode\u001b[0m\u001b[1m\u001b[30m<Integer>(4),\u001b[0m",
      "\u001b[1m\u001b[31mcannot find symbol\u001b[0m",
      "\u001b[1m\u001b[31m  symbol:   class BinNode\u001b[0m",
      "",
      "\u001b[1m\u001b[30m|   \u001b[1m\u001b[30m        new \u001b[0m\u001b[1m\u001b[30m\u001b[41mBinNode\u001b[0m\u001b[1m\u001b[30m<Integer>(5)\u001b[0m",
      "\u001b[1m\u001b[31mcannot find symbol\u001b[0m",
      "\u001b[1m\u001b[31m  symbol:   class BinNode\u001b[0m",
      "",
      "\u001b[1m\u001b[30m|   \u001b[1m\u001b[30m    new \u001b[0m\u001b[1m\u001b[30m\u001b[41mBinNode\u001b[0m\u001b[1m\u001b[30m<Integer>(3,\u001b[0m",
      "\u001b[1m\u001b[31mcannot find symbol\u001b[0m",
      "\u001b[1m\u001b[31m  symbol:   class BinNode\u001b[0m",
      "",
      "\u001b[1m\u001b[30m|   \u001b[1m\u001b[30m        new \u001b[0m\u001b[1m\u001b[30m\u001b[41mBinNode\u001b[0m\u001b[1m\u001b[30m<Integer>(6),\u001b[0m",
      "\u001b[1m\u001b[31mcannot find symbol\u001b[0m",
      "\u001b[1m\u001b[31m  symbol:   class BinNode\u001b[0m",
      "",
      "\u001b[1m\u001b[30m|   \u001b[1m\u001b[30m        new \u001b[0m\u001b[1m\u001b[30m\u001b[41mBinNode\u001b[0m\u001b[1m\u001b[30m<Integer>(7)\u001b[0m",
      "\u001b[1m\u001b[31mcannot find symbol\u001b[0m",
      "\u001b[1m\u001b[31m  symbol:   class BinNode\u001b[0m",
      ""
     ]
    }
   ],
   "source": [
    "var tree = new BinNode<Integer>(1,\n",
    "    new BinNode<Integer>(2,\n",
    "        new BinNode<Integer>(4),\n",
    "        new BinNode<Integer>(5)\n",
    "    ),\n",
    "    new BinNode<Integer>(3,\n",
    "        new BinNode<Integer>(6),\n",
    "        new BinNode<Integer>(7)\n",
    "    )\n",
    ");\n",
    "\n",
    "printByLevels(tree);"
   ]
  }
 ],
 "metadata": {
  "kernelspec": {
   "display_name": "Java",
   "language": "java",
   "name": "java"
  },
  "language_info": {
   "codemirror_mode": "java",
   "file_extension": ".jshell",
   "mimetype": "text/x-java-source",
   "name": "java",
   "pygments_lexer": "java",
   "version": "21.0.4+7-LTS"
  }
 },
 "nbformat": 4,
 "nbformat_minor": 5
}
