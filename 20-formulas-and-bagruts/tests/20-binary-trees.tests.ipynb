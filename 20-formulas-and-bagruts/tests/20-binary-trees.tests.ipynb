{
 "cells": [
  {
   "cell_type": "code",
   "execution_count": null,
   "id": "064f85b1",
   "metadata": {},
   "outputs": [],
   "source": [
    "%load ../20-formula-pages/20-binary-tree"
   ]
  },
  {
   "cell_type": "code",
   "execution_count": null,
   "id": "30b1099a",
   "metadata": {},
   "outputs": [],
   "source": [
    "var tree = new BinNode<Integer>(1,\n",
    "    new BinNode<Integer>(2,\n",
    "        new BinNode<Integer>(4),\n",
    "        new BinNode<Integer>(5)\n",
    "    ),\n",
    "    new BinNode<Integer>(3,\n",
    "        new BinNode<Integer>(6),\n",
    "        new BinNode<Integer>(7)\n",
    "    )\n",
    ");\n",
    "\n",
    "printByLevels(tree);"
   ]
  }
 ],
 "metadata": {
  "kernelspec": {
   "display_name": "Java",
   "language": "java",
   "name": "java"
  },
  "language_info": {
   "codemirror_mode": "java",
   "file_extension": ".jshell",
   "mimetype": "text/x-java-source",
   "name": "java",
   "pygments_lexer": "java",
   "version": "23+37-2369"
  }
 },
 "nbformat": 4,
 "nbformat_minor": 5
}
