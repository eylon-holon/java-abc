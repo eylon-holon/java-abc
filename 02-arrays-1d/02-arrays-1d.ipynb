{
 "cells": [
  {
   "cell_type": "code",
   "execution_count": null,
   "metadata": {},
   "outputs": [],
   "source": [
    "import os\n",
    "while not os.getcwd().endswith(\"java-abc\"): os.chdir(\"..\")\n",
    "from eylon.core import *\n",
    "\n",
    "def find(): pass\n",
    "def findLast(): pass\n",
    "def isPalindrome(): pass\n",
    "def startsWith(): pass\n",
    "def endsWith(): pass\n",
    "\n",
    "start({\n",
    "    \"find()\": [], \n",
    "    \"findLast()\": [], \n",
    "    \"isPalidrome()\": [], \n",
    "    \"startsWith()\": [], \n",
    "    \"endsWith()\": []\n",
    "})"
   ]
  },
  {
   "cell_type": "code",
   "execution_count": null,
   "metadata": {},
   "outputs": [],
   "source": [
    "submit(find)"
   ]
  },
  {
   "cell_type": "code",
   "execution_count": null,
   "metadata": {},
   "outputs": [],
   "source": [
    "submit(findLast)"
   ]
  },
  {
   "cell_type": "code",
   "execution_count": null,
   "metadata": {},
   "outputs": [],
   "source": [
    "submit(isPalindrome)"
   ]
  },
  {
   "cell_type": "code",
   "execution_count": null,
   "metadata": {},
   "outputs": [],
   "source": [
    "submit(startsWith)"
   ]
  },
  {
   "cell_type": "code",
   "execution_count": null,
   "metadata": {},
   "outputs": [],
   "source": [
    "submit(endsWith)"
   ]
  }
 ],
 "metadata": {
  "kernelspec": {
   "display_name": "Python 3",
   "language": "python",
   "name": "python3"
  },
  "language_info": {
   "codemirror_mode": {
    "name": "ipython",
    "version": 3
   },
   "file_extension": ".py",
   "mimetype": "text/x-python",
   "name": "python",
   "nbconvert_exporter": "python",
   "pygments_lexer": "ipython3",
   "version": "3.12.1"
  }
 },
 "nbformat": 4,
 "nbformat_minor": 2
}
