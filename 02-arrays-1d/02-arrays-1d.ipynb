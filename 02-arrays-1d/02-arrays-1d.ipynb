{
 "cells": [
  {
   "cell_type": "code",
   "execution_count": 1,
   "metadata": {},
   "outputs": [
    {
     "name": "stdout",
     "output_type": "stream",
     "text": [
<<<<<<< HEAD:02-arrays-1d.ipynb
      "Hi hila-atzmon 😁! Let's start the lesson... 🙌\n"
=======
      "Hi main 😁! Let's start the lesson... 🙌\n"
>>>>>>> 7302638535e2ac4dd0713b43ae46c0eb1252c6c9:02-arrays-1d/02-arrays-1d.ipynb
     ]
    }
   ],
   "source": [
    "import os\n",
    "while not os.getcwd().endswith(\"java-abc\"): os.chdir(\"..\")\n",
    "from eylon.core import *\n",
    "\n",
    "def find(): pass\n",
    "def findLast(): pass\n",
    "def isPalindrome(): pass\n",
    "def startsWith(): pass\n",
    "def endsWith(): pass\n",
    "\n",
    "start({\n",
    "    \"find()\": [], \n",
    "    \"findLast()\": [], \n",
    "    \"isPalidrome()\": [], \n",
    "    \"startsWith()\": [], \n",
    "    \"endsWith()\": []\n",
    "})"
   ]
  },
  {
   "cell_type": "code",
<<<<<<< HEAD:02-arrays-1d.ipynb
   "execution_count": 2,
=======
   "execution_count": null,
>>>>>>> 7302638535e2ac4dd0713b43ae46c0eb1252c6c9:02-arrays-1d/02-arrays-1d.ipynb
   "metadata": {},
   "outputs": [],
   "source": [
    "submit(find)"
   ]
  },
  {
   "cell_type": "code",
   "execution_count": 3,
   "metadata": {},
   "outputs": [
    {
     "name": "stdout",
     "output_type": "stream",
     "text": [
      "Congrats hila-atzmon! Got it: '02-arrays-1d.min'. Gosha is happy :) 👍\n"
     ]
    }
   ],
   "source": [
    "submit(findLast)"
   ]
  },
  {
   "cell_type": "code",
   "execution_count": 4,
   "metadata": {},
   "outputs": [
    {
     "name": "stdout",
     "output_type": "stream",
     "text": [
      "Congrats hila-atzmon! Got it: '02-arrays-1d.max'. Gosha is happy :) 👍\n"
     ]
    }
   ],
   "source": [
    "submit(isPalindrome)"
   ]
  },
  {
   "cell_type": "code",
   "execution_count": 5,
   "metadata": {},
   "outputs": [
    {
     "name": "stdout",
     "output_type": "stream",
     "text": [
      "Congrats hila-atzmon! Got it: '02-arrays-1d.average'. Gosha is happy :) 👍\n"
     ]
    }
   ],
   "source": [
    "submit(startsWith)"
   ]
  },
  {
   "cell_type": "code",
   "execution_count": 6,
   "metadata": {},
   "outputs": [
    {
     "name": "stdout",
     "output_type": "stream",
     "text": [
      "Congrats hila-atzmon! Got it: '02-arrays-1d.min2d'. Gosha is happy :) 👍\n"
     ]
    }
   ],
   "source": [
<<<<<<< HEAD:02-arrays-1d.ipynb
    "submit(min2d)"
   ]
  },
  {
   "cell_type": "code",
   "execution_count": 7,
   "metadata": {},
   "outputs": [
    {
     "name": "stdout",
     "output_type": "stream",
     "text": [
      "Congrats hila-atzmon! Got it: '02-arrays-1d.max2d'. Gosha is happy :) 👍\n"
     ]
    }
   ],
   "source": [
    "submit(max2d)"
=======
    "submit(endsWith)"
>>>>>>> 7302638535e2ac4dd0713b43ae46c0eb1252c6c9:02-arrays-1d/02-arrays-1d.ipynb
   ]
  }
 ],
 "metadata": {
  "kernelspec": {
   "display_name": "Python 3",
   "language": "python",
   "name": "python3"
  },
  "language_info": {
   "codemirror_mode": {
    "name": "ipython",
    "version": 3
   },
   "file_extension": ".py",
   "mimetype": "text/x-python",
   "name": "python",
   "nbconvert_exporter": "python",
   "pygments_lexer": "ipython3",
   "version": "3.12.1"
  }
 },
 "nbformat": 4,
 "nbformat_minor": 2
}
