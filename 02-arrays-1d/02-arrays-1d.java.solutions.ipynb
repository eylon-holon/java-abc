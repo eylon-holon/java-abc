{
 "cells": [
  {
   "cell_type": "markdown",
   "metadata": {},
   "source": [
    "=== F I N D ==="
   ]
  },
  {
   "cell_type": "code",
   "execution_count": 1,
   "metadata": {
    "vscode": {
     "languageId": "java"
    }
   },
   "outputs": [],
   "source": [
    "// find first occurrence of n in array\n",
    "// if found returns element's index\n",
    "// if not found returns -1\n",
    "int find(int[] a, int n) {\n",
    "    for (int i = 0; i < a.length; i++) {\n",
    "        if (n == a[i]) {\n",
    "            return i;\n",
    "        }\n",
    "    }\n",
    "    return -1;\n",
    "}"
   ]
  },
  {
   "cell_type": "code",
   "execution_count": 2,
   "metadata": {
    "vscode": {
     "languageId": "java"
    }
   },
   "outputs": [
    {
     "name": "stdout",
     "output_type": "stream",
     "text": [
      "1\n",
      "1\n",
      "-1\n"
     ]
    }
   ],
   "source": [
    "System.out.println(find(new int[] {1, 2, 3}, 2));\n",
    "System.out.println(find(new int[] {1, 2, 2}, 2));\n",
    "System.out.println(find(new int[] {1, 3, 4}, 2));"
   ]
  },
  {
   "cell_type": "markdown",
   "metadata": {},
   "source": [
    "=== F I N D - L A S T ==="
   ]
  },
  {
   "cell_type": "code",
   "execution_count": null,
   "metadata": {
    "vscode": {
     "languageId": "java"
    }
   },
   "outputs": [],
   "source": [
    "// finds last occurrence of n in array\n",
    "// if found returns element's index\n",
    "// if not found returns -1\n",
    "int findLast(int[] a, int n) {\n",
    "    for (int i = a.length - 1; i >= 0; i--) {\n",
    "        if (n == a[i]) {\n",
    "            return i;\n",
    "        }\n",
    "    }\n",
    "    return -1;\n",
    "}"
   ]
  },
  {
   "cell_type": "code",
   "execution_count": null,
   "metadata": {
    "vscode": {
     "languageId": "java"
    }
   },
   "outputs": [],
   "source": [
    "System.out.println(findLast(new int[] {1, 2, 3}, 2));\n",
    "System.out.println(findLast(new int[] {1, 2, 2}, 2));\n",
    "System.out.println(findLast(new int[] {1, 3, 4}, 2));"
   ]
  },
  {
   "cell_type": "markdown",
   "metadata": {},
   "source": [
    "=== I S - P A L I N D R O M E ==="
   ]
  },
  {
   "cell_type": "code",
   "execution_count": null,
   "metadata": {
    "vscode": {
     "languageId": "java"
    }
   },
   "outputs": [],
   "source": [
    "boolean isPalindrome(int[] a) {\n",
    "    for (int i = 0; i < a.length / 2; i++) {\n",
    "        if (a[i] != a[a.length - i - 1]) {\n",
    "            return false;\n",
    "        }\n",
    "    }\n",
    "    return true;\n",
    "}"
   ]
  },
  {
   "cell_type": "code",
   "execution_count": null,
   "metadata": {
    "vscode": {
     "languageId": "java"
    }
   },
   "outputs": [],
   "source": [
    "var arrays = new int[][] {\n",
    "    new int[] {1, 2, 1},\n",
    "    new int[] {1, 2, 2, 1},\n",
    "    new int[] {1, 2, 3, 3, 2, 1},\n",
    "    new int[] {1, 2, 3, 4},\n",
    "};\n",
    "\n",
    "for (var a : arrays) {\n",
    "    System.out.println(Arrays.toString(a) + \": \" + isPalindrome(a));\n",
    "}"
   ]
  },
  {
   "cell_type": "markdown",
   "metadata": {
    "vscode": {
     "languageId": "java"
    }
   },
   "source": [
    "=== S T A R T S - W I T H ==="
   ]
  },
  {
   "cell_type": "code",
   "execution_count": null,
   "metadata": {
    "vscode": {
     "languageId": "java"
    }
   },
   "outputs": [],
   "source": [
    "// Check if array starts with another array - prefix\n",
    "boolean startsWith(int[] a, int[] prefix) {\n",
    "    if (prefix.length > a.length) {\n",
    "        return false;\n",
    "    }\n",
    "    for (int i = 0; i < prefix.length; i++) {\n",
    "        if (a[i] != prefix[i]) {\n",
    "            return false;\n",
    "        }\n",
    "    }\n",
    "    return true;\n",
    "}"
   ]
  },
  {
   "cell_type": "code",
   "execution_count": null,
   "metadata": {
    "vscode": {
     "languageId": "java"
    }
   },
   "outputs": [],
   "source": [
    "var tests = new int[][][] {\n",
    "    new int[][] {new int[] {1, 2, 1, 2}, new int[] {1, 2}},\n",
    "    new int[][] {new int[] {1, 2}, new int[] {1, 2, 3}},\n",
    "    new int[][] {new int[] {1, 2, 3}, new int[] {1, 2, 3}},\n",
    "    new int[][] {new int[] {1, 2, 3, 4}, new int[] {1, 2, 4}},\n",
    "};\n",
    "\n",
    "for (var test : tests) {\n",
    "    System.out.println(\n",
    "        Arrays.toString(test[0]) + \" & \" +\n",
    "        Arrays.toString(test[1]) + \": \" + \n",
    "        startsWith(test[0], test[1]));\n",
    "}"
   ]
  },
  {
   "cell_type": "markdown",
   "metadata": {},
   "source": [
    "=== E N D S - W I T H ==="
   ]
  },
  {
   "cell_type": "code",
   "execution_count": null,
   "metadata": {
    "vscode": {
     "languageId": "java"
    }
   },
   "outputs": [],
   "source": [
    "// Check if array ends with another array - suffix\n",
    "boolean endsWith(int[] a, int[] suffix) {\n",
    "    if (suffix.length > a.length) {\n",
    "        return false;\n",
    "    }\n",
    "    for (int i = 0; i < suffix.length; i++) {\n",
    "        int n1 = a[a.length - i - 1];\n",
    "        int n2 = suffix[suffix.length - i - 1];\n",
    "        if (n1 != n2) {\n",
    "            return false;\n",
    "        }\n",
    "    }\n",
    "    return true;\n",
    "}"
   ]
  },
  {
   "cell_type": "code",
   "execution_count": null,
   "metadata": {
    "vscode": {
     "languageId": "java"
    }
   },
   "outputs": [],
   "source": [
    "var tests = new int[][][] {\n",
    "    new int[][] {new int[] {1, 2, 1, 2}, new int[] {1, 2}},\n",
    "    new int[][] {new int[] {1, 2}, new int[] {1, 1, 2}},\n",
    "    new int[][] {new int[] {1, 2, 3}, new int[] {1, 2, 3}},\n",
    "    new int[][] {new int[] {1, 2, 3, 4}, new int[] {1, 2, 4}},\n",
    "};\n",
    "\n",
    "for (var test : tests) {\n",
    "    System.out.println(\n",
    "        Arrays.toString(test[0]) + \" & \" +\n",
    "        Arrays.toString(test[1]) + \": \" + \n",
    "        endsWith(test[0], test[1]));\n",
    "}"
   ]
  }
 ],
 "metadata": {
  "kernelspec": {
   "display_name": "Java",
   "language": "java",
   "name": "java"
  },
  "language_info": {
   "codemirror_mode": "java",
   "file_extension": ".jshell",
   "mimetype": "text/x-java-source",
   "name": "Java",
   "pygments_lexer": "java",
   "version": "21.0.4+7-LTS"
  }
 },
 "nbformat": 4,
 "nbformat_minor": 2
}
