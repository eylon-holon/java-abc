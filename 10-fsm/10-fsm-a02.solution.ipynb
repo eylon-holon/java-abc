{
 "cells": [
  {
   "cell_type": "markdown",
   "metadata": {},
   "source": [
    "![h1](img/10-fsm-02-h1.png)\n",
    "![h2](img/10-fsm-02-h2.png)"
   ]
  },
  {
   "cell_type": "markdown",
   "metadata": {},
   "source": [
    "![q-01](img/10-fsm-a02-q01-alef.png)"
   ]
  },
  {
   "cell_type": "code",
   "execution_count": 45,
   "metadata": {
    "vscode": {
     "languageId": "java"
    }
   },
   "outputs": [
    {
     "name": "stdout",
     "output_type": "stream",
     "text": [
      "'1' : true \n",
      "'10' : true \n",
      "'11' : true \n",
      "'10101' : true \n",
      "'' : false \n",
      "'01' : false \n",
      "'0111' : false \n",
      "'000110101' : false \n"
     ]
    }
   ],
   "source": [
    "%load fsm\n",
    "var fsm = fsmFromMermaid(\"Alef\", \"10-fsm-a02.solution.dib\");\n",
    "accept(fsm, \"1\", \"10\", \"11\", \"10101\");\n",
    "accept(fsm, \"\", \"01\", \"0111\", \"000110101\");"
   ]
  },
  {
   "cell_type": "markdown",
   "metadata": {},
   "source": [
    "![q-01](img/10-fsm-a02-q02-bet.png)"
   ]
  },
  {
   "cell_type": "code",
   "execution_count": 5,
   "metadata": {
    "vscode": {
     "languageId": "java"
    }
   },
   "outputs": [
    {
     "name": "stdout",
     "output_type": "stream",
     "text": [
      "'1' : true \n",
      "'01' : true \n",
      "'11' : true \n",
      "'10101' : true \n",
      "'' : false \n",
      "'10' : false \n",
      "'010' : false \n",
      "'0001101010' : false \n"
     ]
    }
   ],
   "source": [
    "%load fsm\n",
    "var fsm = fsmFromMermaid(\"Bet\", \"10-fsm-a02.solution.dib\");\n",
    "accept(fsm, \"1\", \"01\", \"11\", \"10101\");\n",
    "accept(fsm, \"\", \"10\", \"010\", \"0001101010\");"
   ]
  },
  {
   "cell_type": "markdown",
   "metadata": {},
   "source": [
    "![q-01](img/10-fsm-a02-q03-gimel.png)"
   ]
  },
  {
   "cell_type": "code",
   "execution_count": 6,
   "metadata": {
    "vscode": {
     "languageId": "java"
    }
   },
   "outputs": [
    {
     "name": "stdout",
     "output_type": "stream",
     "text": [
      "'1' : true \n",
      "'01' : true \n",
      "'10' : true \n",
      "'111' : true \n",
      "'000010' : true \n",
      "'1110111' : true \n",
      "'' : false \n",
      "'0' : false \n",
      "'000' : false \n",
      "'00000' : false \n"
     ]
    }
   ],
   "source": [
    "%load fsm\n",
    "var fsm = fsmFromMermaid(\"Gimel\", \"10-fsm-a02.solution.dib\");\n",
    "accept(fsm, \"1\", \"01\", \"10\", \"111\", \"000010\", \"1110111\");\n",
    "accept(fsm, \"\", \"0\", \"000\", \"00000\");"
   ]
  },
  {
   "cell_type": "markdown",
   "metadata": {},
   "source": [
    "![q-01](img/10-fsm-a02-q04-daled.png)"
   ]
  },
  {
   "cell_type": "code",
   "execution_count": 7,
   "metadata": {
    "vscode": {
     "languageId": "java"
    }
   },
   "outputs": [
    {
     "name": "stdout",
     "output_type": "stream",
     "text": [
      "'11' : true \n",
      "'110' : true \n",
      "'1111' : true \n",
      "'11000101' : true \n",
      "'' : false \n",
      "'1' : false \n",
      "'0' : false \n",
      "'10' : false \n",
      "'01' : false \n",
      "'011' : false \n",
      "'01111' : false \n"
     ]
    }
   ],
   "source": [
    "%load fsm\n",
    "var fsm = fsmFromMermaid(\"Daled\", \"10-fsm-a02.solution.dib\");\n",
    "accept(fsm, \"11\", \"110\", \"1111\", \"11000101\");\n",
    "accept(fsm, \"\", \"1\", \"0\", \"10\", \"01\", \"011\", \"01111\");"
   ]
  },
  {
   "cell_type": "markdown",
   "metadata": {},
   "source": [
    "![q-01](img/10-fsm-a02-q05-hei.png)"
   ]
  },
  {
   "cell_type": "code",
   "execution_count": 8,
   "metadata": {
    "vscode": {
     "languageId": "java"
    }
   },
   "outputs": [
    {
     "name": "stdout",
     "output_type": "stream",
     "text": [
      "'11' : true \n",
      "'011' : true \n",
      "'0011011' : true \n",
      "'00100100111011' : true \n",
      "'' : false \n",
      "'0' : false \n",
      "'1' : false \n",
      "'10' : false \n",
      "'01' : false \n",
      "'00' : false \n",
      "'001110' : false \n",
      "'0011101' : false \n"
     ]
    }
   ],
   "source": [
    "%load fsm\n",
    "var fsm = fsmFromMermaid(\"Hei\", \"10-fsm-a02.solution.dib\");\n",
    "accept(fsm, \"11\", \"011\", \"0011011\", \"00100100111011\");\n",
    "accept(fsm, \"\", \"0\", \"1\", \"10\", \"01\", \"00\", \"001110\", \"0011101\");"
   ]
  },
  {
   "cell_type": "markdown",
   "metadata": {},
   "source": [
    "![q-01](img/10-fsm-a02-q06-vav.png)"
   ]
  },
  {
   "cell_type": "code",
   "execution_count": 9,
   "metadata": {
    "vscode": {
     "languageId": "java"
    }
   },
   "outputs": [
    {
     "name": "stdout",
     "output_type": "stream",
     "text": [
      "'11' : true \n",
      "'110' : true \n",
      "'011' : true \n",
      "'001100' : true \n",
      "'001010110010011' : true \n",
      "'' : false \n",
      "'0' : false \n",
      "'1' : false \n",
      "'10' : false \n",
      "'01' : false \n",
      "'00' : false \n",
      "'1010101' : false \n",
      "'0101010001' : false \n"
     ]
    }
   ],
   "source": [
    "%load fsm\n",
    "var fsm = fsmFromMermaid(\"Vav\", \"10-fsm-a02.solution.dib\");\n",
    "accept(fsm, \"11\", \"110\", \"011\", \"001100\", \"001010110010011\");\n",
    "accept(fsm, \"\", \"0\", \"1\", \"10\", \"01\", \"00\", \"1010101\", \"0101010001\");"
   ]
  },
  {
   "cell_type": "markdown",
   "metadata": {},
   "source": [
    "![q-01](img/10-fsm-a02-q07-zain.png)"
   ]
  },
  {
   "cell_type": "code",
   "execution_count": 11,
   "metadata": {
    "vscode": {
     "languageId": "java"
    }
   },
   "outputs": [
    {
     "name": "stdout",
     "output_type": "stream",
     "text": [
      "'' : true \n",
      "'0' : true \n",
      "'1' : true \n",
      "'01' : true \n",
      "'10' : true \n",
      "'101' : true \n",
      "'0010100101' : true \n",
      "'11' : false \n",
      "'110' : false \n",
      "'011' : false \n",
      "'001100' : false \n",
      "'001010110010011' : false \n"
     ]
    }
   ],
   "source": [
    "%load fsm\n",
    "var fsm = fsmFromMermaid(\"Zain\", \"10-fsm-a02.solution.dib\");\n",
    "accept(fsm, \"\", \"0\", \"1\", \"01\", \"10\", \"101\", \"0010100101\");\n",
    "accept(fsm, \"11\", \"110\", \"011\", \"001100\", \"001010110010011\");\n"
   ]
  },
  {
   "cell_type": "markdown",
   "metadata": {},
   "source": [
    "![q-01](img/10-fsm-a02-q08-het.png)"
   ]
  },
  {
   "cell_type": "code",
   "execution_count": 27,
   "metadata": {
    "vscode": {
     "languageId": "java"
    }
   },
   "outputs": [
    {
     "name": "stdout",
     "output_type": "stream",
     "text": [
      "'1011' : true \n",
      "'1011001011' : true \n",
      "'10110010101' : true \n",
      "'' : false \n",
      "'0' : false \n",
      "'1' : false \n",
      "'10' : false \n",
      "'101' : false \n",
      "'10101' : false \n",
      "'01011' : false \n",
      "'00101100' : false \n"
     ]
    }
   ],
   "source": [
    "%load fsm\n",
    "var fsm = fsmFromMermaid(\"Het\", \"10-fsm-a02.solution.dib\");\n",
    "accept(fsm, \"1011\", \"1011001011\", \"10110010101\");\n",
    "accept(fsm, \"\", \"0\", \"1\", \"10\", \"101\", \"10101\", \"01011\", \"00101100\");"
   ]
  },
  {
   "cell_type": "markdown",
   "metadata": {},
   "source": [
    "![q-01](img/10-fsm-a02-q09-tet.png)"
   ]
  },
  {
   "cell_type": "code",
   "execution_count": 33,
   "metadata": {
    "vscode": {
     "languageId": "java"
    }
   },
   "outputs": [
    {
     "name": "stdout",
     "output_type": "stream",
     "text": [
      "'1011' : true \n",
      "'01011' : true \n",
      "'11101100' : true \n",
      "'0101011001010' : true \n",
      "'' : false \n",
      "'0' : false \n",
      "'1' : false \n",
      "'1101' : false \n",
      "'1110' : false \n",
      "'101010001100' : false \n"
     ]
    }
   ],
   "source": [
    "%load fsm\n",
    "var fsm = fsmFromMermaid(\"Tet\", \"10-fsm-a02.solution.dib\");\n",
    "accept(fsm, \"1011\", \"01011\", \"11101100\", \"0101011001010\");\n",
    "accept(fsm, \"\", \"0\", \"1\", \"1101\", \"1110\", \"101010001100\");"
   ]
  },
  {
   "cell_type": "markdown",
   "metadata": {},
   "source": [
    "![q-01](img/10-fsm-a02-q10-yud.png)"
   ]
  },
  {
   "cell_type": "code",
   "execution_count": 47,
   "metadata": {
    "vscode": {
     "languageId": "java"
    }
   },
   "outputs": [
    {
     "name": "stdout",
     "output_type": "stream",
     "text": [
      "'1011' : true \n",
      "'11011' : true \n",
      "'101011' : true \n",
      "'1011011' : true \n",
      "'10111011' : true \n",
      "'01010101011' : true \n",
      "'' : false \n",
      "'1' : false \n",
      "'0' : false \n",
      "'10110' : false \n",
      "'0101101' : false \n"
     ]
    }
   ],
   "source": [
    "%load fsm\n",
    "var fsm = fsmFromMermaid(\"Yud\", \"10-fsm-a02.solution.dib\");\n",
    "accept(fsm, \"1011\", \"11011\", \"101011\", \"1011011\", \"10111011\", \"01010101011\");\n",
    "accept(fsm, \"\", \"1\", \"0\", \"10110\", \"0101101\");"
   ]
  }
 ],
 "metadata": {
  "kernelspec": {
   "display_name": "Java",
   "language": "java",
   "name": "java"
  },
  "language_info": {
   "codemirror_mode": "java",
   "file_extension": ".jshell",
   "mimetype": "text/x-java-source",
   "name": "Java",
   "pygments_lexer": "java",
   "version": "23+37-2369"
  }
 },
 "nbformat": 4,
 "nbformat_minor": 2
}
