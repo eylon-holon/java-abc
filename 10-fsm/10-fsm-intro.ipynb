{
 "cells": [
  {
   "cell_type": "code",
   "execution_count": null,
   "metadata": {
    "vscode": {
     "languageId": "java"
    }
   },
   "outputs": [],
   "source": [
    "%load fsm\n",
    "var fsm = fsm_101();\n",
    "print(fsm);\n",
    "\n",
    "fsm.accept(\"1011\", true);\n",
    "fsm.accept(\"1010\", true);\n",
    "\n",
    "print(\"'1001': \", fsm.accept(\"1001\"));\n",
    "\n",
    "var words = fsm.accept(\"1\", \"01\", \"001\", \"0001\", \"00001\");\n",
    "print(Arrays.toString(words));"
   ]
  },
  {
   "cell_type": "code",
   "execution_count": null,
   "metadata": {
    "vscode": {
     "languageId": "java"
    }
   },
   "outputs": [],
   "source": [
    "%load fsm\n",
    "var fsm = fsmFromMermaid(\"101\", \"10-fsm-intro.dib\");\n",
    "print(fsm);\n",
    "print(fsm.accept(\"1011\", true));\n",
    "print(fsm.accept(\"1010\", true));"
   ]
  }
 ],
 "metadata": {
  "kernelspec": {
   "display_name": "Java",
   "language": "java",
   "name": "java"
  },
  "language_info": {
   "codemirror_mode": "java",
   "file_extension": ".jshell",
   "mimetype": "text/x-java-source",
   "name": "Java",
   "pygments_lexer": "java",
   "version": "23+37-2369"
  }
 },
 "nbformat": 4,
 "nbformat_minor": 2
}
