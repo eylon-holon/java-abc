{
 "cells": [
  {
   "cell_type": "code",
   "execution_count": 5,
   "metadata": {
    "vscode": {
     "languageId": "java"
    }
   },
   "outputs": [
    {
     "name": "stdout",
     "output_type": "stream",
     "text": [
      "'1011' : true \n",
      "'1010' : true \n",
      "'1' : false \n",
      "'01' : true \n",
      "'001' : false \n",
      "'0001' : true \n",
      "'00001' : false \n"
     ]
    }
   ],
   "source": [
    "%load fsm\n",
    "var fsm = fsmFromMermaid(\"101\", \"10-fsm-intro.dib\");\n",
    "\n",
    "accept(fsm, \"1011\");\n",
    "accept(fsm, \"1010\");\n",
    "\n",
    "accept(fsm, \"1\", \"01\", \"001\", \"0001\", \"00001\");"
   ]
  },
  {
   "cell_type": "code",
   "execution_count": null,
   "metadata": {},
   "outputs": [],
   "source": [
    "%load fsm\n",
    "var fsm = fsmFromMermaid(\"door-lock\", \"10-fsm-intro.dib\");\n",
    "accept(fsm, true, \"4132\");"
   ]
  },
  {
   "cell_type": "code",
   "execution_count": null,
   "metadata": {},
   "outputs": [],
   "source": [
    "%load fsm\n",
    "var fsm = fsmFromMermaid(\"door-lock\", \"10-fsm-intro.dib\");\n",
    "accept(fsm, true, \"4123\");"
   ]
  },
  {
   "cell_type": "code",
   "execution_count": 7,
   "metadata": {
    "vscode": {
     "languageId": "java"
    }
   },
   "outputs": [
    {
     "name": "stdout",
     "output_type": "stream",
     "text": [
      "FSM['door-lock']: accepting word '412#12341#4132'\n",
      "  '4': q0 --> q1\n",
      "  '1': q1 --> q2\n",
      "  '2': q2 --> n3\n",
      "ERROR in n3: No transition for '#' is defined\n",
      "'412#12341#4132' : false \n"
     ]
    }
   ],
   "source": [
    "%load fsm\n",
    "var fsm = fsmFromMermaid(\"door-lock\", \"10-fsm-intro.dib\");\n",
    "accept(fsm, true, \"412#12341#4132\");"
   ]
  },
  {
   "cell_type": "code",
   "execution_count": 8,
   "metadata": {
    "vscode": {
     "languageId": "java"
    }
   },
   "outputs": [
    {
     "name": "stdout",
     "output_type": "stream",
     "text": [
      "FSM['door-lock-complete']: accepting word '412#12341#4132'\n",
      "  '4': q0 --> q1\n",
      "  '1': q1 --> q2\n",
      "  '2': q2 --> n3\n",
      "  '#': n3 --> q0\n",
      "  '1': q0 --> n1\n",
      "  '2': n1 --> n2\n",
      "  '3': n2 --> n3\n",
      "  '4': n3 --> W\n",
      "  '1': W --> W\n",
      "  '#': W --> q0\n",
      "  '4': q0 --> q1\n",
      "  '1': q1 --> q2\n",
      "  '3': q2 --> q3\n",
      "  '2': q3 --> O\n",
      "FSM['door-lock-complete']: '412#12341#4132' is accepted\n",
      "'412#12341#4132' : true \n"
     ]
    }
   ],
   "source": [
    "%load fsm\n",
    "var fsm = fsmFromMermaid(\"door-lock-complete\", \"10-fsm-intro.dib\");\n",
    "accept(fsm, true, \"412#12341#4132\");"
   ]
  },
  {
   "cell_type": "code",
   "execution_count": null,
   "metadata": {},
   "outputs": [],
   "source": [
    "%load fsm\n",
    "var fsm = fsmFromMermaid(\"door-lock\", \"10-fsm-intro.dib\");\n",
    "\n",
    "print(\"isComplete: \", fsm.isComplete());\n",
    "print(\"not completed states: \", Arrays.toString(fsm.getNotCompletedStates()));"
   ]
  },
  {
   "cell_type": "code",
   "execution_count": null,
   "metadata": {},
   "outputs": [],
   "source": [
    "%load fsm\n",
    "var fsm = fsmFromMermaid(\"door-lock-complete\", \"10-fsm-intro.dib\");\n",
    "\n",
    "print(\"isComplete: \", fsm.isComplete());\n",
    "print(\"not completed states: \", Arrays.toString(fsm.getNotCompletedStates()));"
   ]
  }
 ],
 "metadata": {
  "kernelspec": {
   "display_name": "Java",
   "language": "java",
   "name": "java"
  },
  "language_info": {
   "codemirror_mode": "java",
   "file_extension": ".jshell",
   "mimetype": "text/x-java-source",
   "name": "java",
   "pygments_lexer": "java",
   "version": "21.0.4+7-LTS"
   "version": "21.0.4+7-LTS"
  }
 },
 "nbformat": 4,
 "nbformat_minor": 2
}
