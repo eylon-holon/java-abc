{
 "cells": [
  {
   "cell_type": "code",
   "execution_count": 1,
   "metadata": {},
   "outputs": [
    {
     "name": "stdout",
     "output_type": "stream",
     "text": [
      "'1011' : true \n",
      "'1010' : false \n",
      "'1' : false \n",
      "'01' : true \n",
      "'001' : false \n",
      "'0001' : true \n",
      "'00001' : false \n"
     ]
    }
   ],
   "source": [
    "%load fsm\n",
    "var fsm = fsmFromMermaid(\"101\", \"10-fsm-intro.dib\");\n",
    "\n",
    "accept(fsm, \"1011\");\n",
    "accept(fsm, \"1010\");\n",
    "\n",
    "accept(fsm, \"1\", \"01\", \"001\", \"0001\", \"00001\");"
   ]
  },
  {
   "cell_type": "code",
   "execution_count": null,
   "metadata": {},
   "outputs": [],
   "source": [
    "%load fsm\n",
    "var fsm = fsmFromMermaid(\"door-lock\", \"10-fsm-intro.dib\");\n",
    "accept(fsm, true, \"4132\");"
   ]
  },
  {
   "cell_type": "code",
   "execution_count": null,
   "metadata": {},
   "outputs": [],
   "source": [
    "%load fsm\n",
    "var fsm = fsmFromMermaid(\"door-lock\", \"10-fsm-intro.dib\");\n",
    "accept(fsm, true, \"4123\");"
   ]
  },
  {
   "cell_type": "code",
   "execution_count": null,
   "metadata": {},
   "outputs": [],
   "source": [
    "%load fsm\n",
    "var fsm = fsmFromMermaid(\"door-lock\", \"10-fsm-intro.dib\");\n",
    "accept(fsm, true, \"412#12341#4132\");"
   ]
  },
  {
   "cell_type": "code",
   "execution_count": null,
   "metadata": {},
   "outputs": [],
   "source": [
    "%load fsm\n",
    "var fsm = fsmFromMermaid(\"door-lock-complete\", \"10-fsm-intro.dib\");\n",
    "accept(fsm, true, \"412#12341#4132\");"
   ]
  },
  {
   "cell_type": "code",
   "execution_count": null,
   "metadata": {},
   "outputs": [],
   "source": [
    "%load fsm\n",
    "var fsm = fsmFromMermaid(\"door-lock\", \"10-fsm-intro.dib\");\n",
    "\n",
    "print(\"isComplete: \", fsm.isComplete());\n",
    "print(\"not completed states: \", Arrays.toString(fsm.getNotCompletedStates()));"
   ]
  },
  {
   "cell_type": "code",
   "execution_count": null,
   "metadata": {},
   "outputs": [],
   "source": [
    "%load fsm\n",
    "var fsm = fsmFromMermaid(\"door-lock-complete\", \"10-fsm-intro.dib\");\n",
    "\n",
    "print(\"isComplete: \", fsm.isComplete());\n",
    "print(\"not completed states: \", Arrays.toString(fsm.getNotCompletedStates()));"
   ]
  }
 ],
 "metadata": {
  "kernelspec": {
   "display_name": "Java",
   "language": "java",
   "name": "java"
  },
  "language_info": {
   "codemirror_mode": "java",
   "file_extension": ".jshell",
   "mimetype": "text/x-java-source",
   "name": "java",
   "pygments_lexer": "java",
   "version": "21.0.4+7-LTS"
  }
 },
 "nbformat": 4,
 "nbformat_minor": 2
}
