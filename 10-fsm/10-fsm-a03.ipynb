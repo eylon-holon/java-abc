{
 "cells": [
  {
   "cell_type": "markdown",
   "metadata": {},
   "source": [
    "![q-01](img/10-fsm-a03-q01.png)"
   ]
  },
  {
   "cell_type": "code",
   "execution_count": 11,
   "metadata": {
    "vscode": {
     "languageId": "java"
    }
   },
   "outputs": [
    {
     "data": {
      "text/plain": [
       "'10-a03' is submitted to Gosha (recheck please). Great job! 👍"
      ]
     },
     "execution_count": 11,
     "metadata": {},
     "output_type": "execute_result"
    }
   ],
   "source": [
    "%load ../eylon/submit\n",
    "submit(\"10-a03\", \"recheck please\");"
   ]
  },
  {
   "cell_type": "code",
   "execution_count": 2,
   "metadata": {
    "vscode": {
     "languageId": "java"
    }
   },
   "outputs": [
    {
     "name": "stdout",
     "output_type": "stream",
     "text": [
      "ERROR: state 'q1' is not determenistic (transition: '0'); \n",
      "Please specify 'nondetermenistic' flag if it's the intention\n",
      "  'q3': No transition for 'c' is defined\n",
      "'cc' : false \n",
      "'111c0010' : true \n"
     ]
    }
   ],
   "source": [
    "%load fsm\n",
    "// GOSHA: two states are enough\n",
    "var fsm = fsmFromMermaid(\"q-01\", \"10-fsm-a03.dib\");\n",
    "accept(fsm, false, \"cc\", \"111c0010\")"
   ]
  },
  {
   "cell_type": "markdown",
   "metadata": {},
   "source": [
    "![q-01](img/10-fsm-a03-q02.png)"
   ]
  },
  {
   "cell_type": "code",
   "execution_count": 3,
   "metadata": {
    "vscode": {
     "languageId": "java"
    }
   },
   "outputs": [
    {
     "name": "stdout",
     "output_type": "stream",
     "text": [
      "FSM['q-02']: accepting word 'baba'\n",
      "FSM['q-02']: I have no states\n",
      "'baba' : false \n"
     ]
    }
   ],
   "source": [
    "%load fsm\n",
    "// GOSHA: missing\n",
    "var fsm = fsmFromMermaid(\"q-02\", \"10-fsm-a03.dib\");\n",
    "accept(fsm, true, \"baba\");"
   ]
  },
  {
   "cell_type": "markdown",
   "metadata": {},
   "source": [
    "השפה הינה מעל הא\"ב {a,b} ומקבלת כל מילה המתחילה ב-bומסתיימת ב-a ללא a נוספים לפניה."
   ]
  },
  {
   "cell_type": "code",
   "execution_count": 4,
   "metadata": {
    "vscode": {
     "languageId": "java"
    }
   },
   "outputs": [
    {
     "name": "stdout",
     "output_type": "stream",
     "text": [
      "FSM['q-02']: accepting word 'baab'\n",
      "FSM['q-02']: I have no states\n",
      "'baab' : false \n"
     ]
    }
   ],
   "source": [
    "accept(fsm, true, \"baab\");"
   ]
  },
  {
   "cell_type": "markdown",
   "metadata": {},
   "source": [
    "![q-01](img/10-fsm-a03-note-01.png)"
   ]
  },
  {
   "cell_type": "markdown",
   "metadata": {},
   "source": [
    "![q-01](img/10-fsm-a03-q03.png)\n",
    "Add atleast 3 tests of different reminders "
   ]
  },
  {
   "cell_type": "code",
   "execution_count": 10,
   "metadata": {
    "vscode": {
     "languageId": "java"
    }
   },
   "outputs": [
    {
     "name": "stdout",
     "output_type": "stream",
     "text": [
      "'333' : true \n",
      "'771' : true \n",
      "'2' : false \n",
      "'131' : false \n"
     ]
    }
   ],
   "source": [
    "%load fsm\n",
    "// GOSHA: your FSM gets only one digit if it's not 3,6,9\n",
    "var fsm = fsmFromMermaid(\"q-03\", \"10-fsm-a03.dib\");\n",
    "accept(fsm, \"333\", \"771\", \"2\", \"131\");"
   ]
  },
  {
   "cell_type": "markdown",
   "metadata": {},
   "source": [
    "![q-01](img/10-fsm-a03-q04.png)  \n",
    "One of them with tests"
   ]
  },
  {
   "cell_type": "code",
   "execution_count": null,
   "metadata": {
    "vscode": {
     "languageId": "java"
    }
   },
   "outputs": [],
   "source": [
    "%load fsm\n",
    "var fsm = fsmFromMermaid(\"q-04\", \"10-fsm-a03.dib\");\n",
    "accept(fsm, \"\");"
   ]
  },
  {
   "cell_type": "markdown",
   "metadata": {},
   "source": [
    "![q-01](img/10-fsm-a03-q05-q06.png)  \n",
    "Two of them with tests"
   ]
  },
  {
   "cell_type": "code",
   "execution_count": null,
   "metadata": {
    "vscode": {
     "languageId": "java"
    }
   },
   "outputs": [],
   "source": [
    "%load fsm\n",
    "var fsm = fsmFromMermaid(\"q-05\", \"10-fsm-a03.dib\");\n",
    "accept(fsm, \"\");"
   ]
  },
  {
   "cell_type": "code",
   "execution_count": null,
   "metadata": {
    "vscode": {
     "languageId": "java"
    }
   },
   "outputs": [],
   "source": [
    "%load fsm\n",
    "var fsm = fsmFromMermaid(\"q-06\", \"10-fsm-a03.dib\");\n",
    "accept(fsm, \"\");"
   ]
  }
 ],
 "metadata": {
  "kernelspec": {
   "display_name": "Java",
   "language": "java",
   "name": "java"
  },
  "language_info": {
   "codemirror_mode": "java",
   "file_extension": ".jshell",
   "mimetype": "text/x-java-source",
   "name": "Java",
   "pygments_lexer": "java",
   "version": "21.0.4+7-LTS"
  }
 },
 "nbformat": 4,
 "nbformat_minor": 2
}
