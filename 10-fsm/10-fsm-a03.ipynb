{
 "cells": [
  {
   "cell_type": "markdown",
   "metadata": {},
   "source": [
    "![q-01](img/10-fsm-a03-q01.png)"
   ]
  },
  {
   "cell_type": "code",
   "execution_count": 6,
   "metadata": {
    "vscode": {
     "languageId": "java"
    }
   },
   "outputs": [
    {
     "name": "stdout",
     "output_type": "stream",
     "text": [
      "'c' : true \n",
      "'10c1100' : true \n",
      "'c10' : true \n",
      "'1c' : true \n",
      "'cc10' : false \n",
      "'100c0011c0' : false \n",
      "'101' : false \n"
     ]
    }
   ],
   "source": [
    "%load fsm\n",
    "var fsm = fsmFromMermaid(\"q-01\", \"10-fsm-a03.dib\");\n",
    "accept(fsm, \"c\", \"10c1100\", \"c10\", \"1c\", \"cc10\", \"100c0011c0\", \"101\")"
   ]
  },
  {
   "cell_type": "markdown",
   "metadata": {},
   "source": [
    "![q-01](img/10-fsm-a03-q02.png)"
   ]
  },
  {
   "cell_type": "code",
   "execution_count": 8,
   "metadata": {
    "vscode": {
     "languageId": "java"
    }
   },
   "outputs": [
    {
     "name": "stdout",
     "output_type": "stream",
     "text": [
      "'baba' : true \n"
     ]
    }
   ],
   "source": [
    "%load fsm\n",
    "var fsm = fsmFromMermaid(\"q-02\", \"10-fsm-a03.dib\");\n",
    "accept(fsm, \"baba\");"
   ]
  },
  {
   "cell_type": "code",
   "execution_count": 9,
   "metadata": {
    "vscode": {
     "languageId": "java"
    }
   },
   "outputs": [
    {
     "name": "stdout",
     "output_type": "stream",
     "text": [
      "'baab' : false \n"
     ]
    }
   ],
   "source": [
    "accept(fsm, \"baab\");"
   ]
  },
  {
   "cell_type": "markdown",
   "metadata": {},
   "source": [
    "![q-01](img/10-fsm-a03-note-01.png)"
   ]
  },
  {
   "cell_type": "markdown",
   "metadata": {},
   "source": [
    "![q-01](img/10-fsm-a03-q03.png)\n",
    "Add atleast 3 tests of different reminders "
   ]
  },
  {
   "cell_type": "code",
   "execution_count": 10,
   "metadata": {
    "vscode": {
     "languageId": "java"
    }
   },
   "outputs": [
    {
     "name": "stdout",
     "output_type": "stream",
     "text": [
      "'10934731' : false \n",
      "'5426' : false \n",
      "'537' : true \n"
     ]
    }
   ],
   "source": [
    "%load fsm\n",
    "var fsm = fsmFromMermaid(\"q-03\", \"10-fsm-a03.dib\");\n",
    "accept(fsm, \"10934731\", \"5426\", \"537\");"
   ]
  },
  {
   "cell_type": "markdown",
   "metadata": {},
   "source": [
    "![q-01](img/10-fsm-a03-q04.png)  \n",
    "One of them with tests"
   ]
  },
  {
   "cell_type": "code",
   "execution_count": 4,
   "metadata": {
    "vscode": {
     "languageId": "java"
    }
   },
   "outputs": [
    {
     "name": "stdout",
     "output_type": "stream",
     "text": [
      "'abababa' : false \n",
      "'abbabb' : false \n",
      "'ab' : true \n",
      "'aaab' : true \n",
      "'aaa' : false \n",
      "'aabbbb' : true \n",
      "'bb' : true \n"
     ]
    }
   ],
   "source": [
    "%load fsm\n",
    "var fsm = fsmFromMermaid(\"q-04\", \"10-fsm-a03.dib\");\n",
    "accept(fsm, \"abababa\", \"abbabb\", \"ab\", \"aaab\", \"aaa\", \"aabbbb\", \"bb\");"
   ]
  },
  {
   "cell_type": "markdown",
   "metadata": {},
   "source": [
    "![q-01](img/10-fsm-a03-q05-q06.png)  \n",
    "Two of them with tests"
   ]
  },
  {
   "cell_type": "code",
   "execution_count": 5,
   "metadata": {
    "vscode": {
     "languageId": "java"
    }
   },
   "outputs": [
    {
     "name": "stdout",
     "output_type": "stream",
     "text": [
      "'bab' : true \n",
      "'ba' : true \n",
      "'a' : true \n",
      "'e' : true \n",
      "'baab' : false \n",
      "'eb' : false \n"
     ]
    }
   ],
   "source": [
    "%load fsm\n",
    "var fsm = fsmFromMermaid(\"q-05\", \"10-fsm-a03.dib\");\n",
    "accept(fsm, \"bab\", \"ba\", \"a\", \"e\", \"baab\", \"eb\");"
   ]
  },
  {
   "cell_type": "code",
   "execution_count": 6,
   "metadata": {
    "vscode": {
     "languageId": "java"
    }
   },
   "outputs": [
    {
     "name": "stdout",
     "output_type": "stream",
     "text": [
      "'' : true \n",
      "'a' : false \n",
      "'b' : false \n",
      "'aa' : false \n",
      "'ab' : true \n",
      "'ba' : true \n",
      "'bb' : true \n",
      "'aaa' : false \n",
      "'aab' : false \n",
      "'aba' : false \n",
      "'abb' : false \n",
      "'baa' : false \n",
      "'bab' : false \n",
      "'bba' : false \n",
      "'bbb' : false \n",
      "'aaaa' : false \n",
      "'aaab' : false \n",
      "'aaba' : false \n",
      "'aabb' : false \n",
      "'abaa' : false \n",
      "'abab' : true \n",
      "'abba' : true \n",
      "'abbb' : true \n",
      "'baaa' : false \n",
      "'baab' : false \n",
      "'baba' : true \n",
      "'babb' : true \n",
      "'bbaa' : false \n",
      "'bbab' : true \n",
      "'bbbb' : true \n"
     ]
    }
   ],
   "source": [
    "%load fsm\n",
    "var fsm = fsmFromMermaid(\"q-06\", \"10-fsm-a03.dib\");\n",
    "accept(fsm, \"\", \"a\", \"b\", \"aa\", \"ab\", \"ba\", \"bb\", \"aaa\", \"aab\", \"aba\", \"abb\", \"baa\", \"bab\", \"bba\", \"bbb\", \"aaaa\", \"aaab\", \"aaba\", \"aabb\", \"abaa\", \"abab\", \"abba\", \"abbb\", \"baaa\", \"baab\", \"baba\", \"babb\", \"bbaa\", \"bbab\", \"bbbb\");"
   ]
  },
  {
   "cell_type": "code",
   "execution_count": 1,
   "metadata": {
    "vscode": {
     "languageId": "java"
    }
   },
   "outputs": [
    {
     "name": "stdout",
     "output_type": "stream",
     "text": [
      "'a' : false \n",
      "'ab' : true \n",
      "'abb' : false \n",
      "'aaaaababab' : false \n",
      "'aaaab' : true \n",
      "'aaaaaa' : true \n"
     ]
    }
   ],
   "source": [
    "%load fsm\n",
    "var fsm = fsmFromMermaid(\"q-07\", \"10-fsm-a03.dib\");\n",
    "accept(fsm, \"a\", \"ab\", \"abb\", \"aaaaababab\", \"aaaab\", \"aaaaaa\");"
   ]
  },
  {
   "cell_type": "code",
   "execution_count": 2,
   "metadata": {
    "vscode": {
     "languageId": "java"
    }
   },
   "outputs": [
    {
     "name": "stdout",
     "output_type": "stream",
     "text": [
      "'a' : false \n",
      "'ab' : true \n",
      "'abb' : false \n",
      "'aaaaababab' : false \n",
      "'aaaab' : true \n",
      "'aaaaaa' : true \n"
     ]
    }
   ],
   "source": [
    "%load fsm\n",
    "var fsm = fsmFromMermaid(\"q-08\", \"10-fsm-a03.dib\");\n",
    "accept(fsm, \"a\", \"ab\", \"abb\", \"aaaaababab\", \"aaaab\", \"aaaaaa\");"
   ]
  }
 ],
 "metadata": {
  "kernelspec": {
   "display_name": "Java",
   "language": "java",
   "name": "java"
  },
  "language_info": {
   "codemirror_mode": "java",
   "file_extension": ".jshell",
   "mimetype": "text/x-java-source",
   "name": "java",
   "pygments_lexer": "java",
   "version": "21.0.4+7-LTS"
  }
 },
 "nbformat": 4,
 "nbformat_minor": 2
}
