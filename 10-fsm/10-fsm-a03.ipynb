{
 "cells": [
  {
   "cell_type": "markdown",
   "metadata": {},
   "source": [
    "![q-01](img/10-fsm-a03-q01.png)"
   ]
  },
  {
   "cell_type": "code",
   "execution_count": 5,
   "metadata": {},
   "outputs": [
    {
     "name": "stdout",
     "output_type": "stream",
     "text": [
      "'cc' : false \n",
      "'' : false \n",
      "'c' : true \n",
      "'100c1' : true \n",
      "FSM['q-01']: accepting word '1c1001'\n",
      "  '1': qi --> qi\n",
      "  'c': qi --> qf\n",
      "  '1': qf --> qf\n",
      "  '0': qf --> qf\n",
      "  '0': qf --> qf\n",
      "  '1': qf --> qf\n",
      "FSM['q-01']: '1c1001' is accepted\n",
      "'1c1001' : true \n"
     ]
    }
   ],
   "source": [
    "%load fsm\n",
    "var fsm = fsmFromMermaid(\"q-01\", \"10-fsm-a03.dib\");\n",
    "accept(fsm, \"cc\",\"\",\"c\",\"100c1\");\n",
    "accept(fsm,true, \"1c1001\")"
   ]
  },
  {
   "cell_type": "markdown",
   "metadata": {},
   "source": [
    "![q-01](img/10-fsm-a03-q02.png)"
   ]
  },
  {
   "cell_type": "code",
   "execution_count": null,
   "metadata": {},
   "outputs": [],
   "source": [
    "%load fsm\n",
    "// GOSHA: no FSM is defined\n",
    "var fsm = fsmFromMermaid(\"q-02\", \"10-fsm-a03.dib\");\n",
    "accept(fsm, true, \"baba\");"
   ]
  },
  {
   "cell_type": "code",
   "execution_count": null,
   "metadata": {},
   "outputs": [],
   "source": [
    "accept(fsm, true, \"baab\");"
   ]
  },
  {
   "cell_type": "markdown",
   "metadata": {},
   "source": [
    "![q-01](img/10-fsm-a03-note-01.png)"
   ]
  },
  {
   "cell_type": "markdown",
   "metadata": {},
   "source": [
    "![q-01](img/10-fsm-a03-q03.png)\n",
    "Add atleast 3 tests of different reminders "
   ]
  },
  {
   "cell_type": "code",
   "execution_count": null,
   "metadata": {},
   "outputs": [
    {
     "name": "stdout",
     "output_type": "stream",
     "text": [
      "'999' : true \n",
      "'123456789' : true \n",
      "'3376' : false \n"
     ]
    }
   ],
   "source": [
    "%load fsm\n",
    "var fsm = fsmFromMermaid(\"q-03\", \"10-fsm-a03.dib\");\n",
    "accept(fsm, \"999\", \"123456789\", \"3376\");\n",
    "// GOSHA: empty word should not be accepted?"
   ]
  },
  {
   "cell_type": "markdown",
   "metadata": {},
   "source": [
    "![q-01](img/10-fsm-a03-q04.png)  \n",
    "One of them with tests"
   ]
  },
  {
   "cell_type": "code",
   "execution_count": null,
   "metadata": {},
   "outputs": [],
   "source": [
    "%load fsm\n",
    "// GOSHA: please, write tests\n",
    "// GOSHA: What is the alefbet? What are the meaning of n and m?\n",
    "var fsm = fsmFromMermaid(\"q-04\", \"10-fsm-a03.dib\");\n",
    "accept(fsm, \"\");"
   ]
  },
  {
   "cell_type": "markdown",
   "metadata": {},
   "source": [
    "![q-01](img/10-fsm-a03-q05-q06.png)  \n",
    "Two of them with tests"
   ]
  },
  {
   "cell_type": "code",
   "execution_count": null,
   "metadata": {},
   "outputs": [
    {
     "name": "stdout",
     "output_type": "stream",
     "text": [
      "'aaa' : false \n",
      "'bab' : true \n",
      "'ba' : true \n",
      "'a' : true \n",
      "'e' : true \n",
      "'ee' : false \n"
     ]
    }
   ],
   "source": [
    "%load fsm\n",
    "// GOSHA: e is the EMPTY WORD\n",
    "var fsm = fsmFromMermaid(\"q-03(a)\", \"10-fsm-a03.dib\");\n",
    "accept(fsm, \"aaa\",\"bab\",\"ba\",\"a\",\"e\",\"ee\");"
   ]
  },
  {
   "cell_type": "code",
   "execution_count": null,
   "metadata": {},
   "outputs": [
    {
     "name": "stdout",
     "output_type": "stream",
     "text": [
      "'aaaaaa' : true \n"
     ]
    }
   ],
   "source": [
    "%load fsm\n",
    "// GOSHA: \"ab\" is the pattern of any word, so \"aba\" can't be accepted\n",
    "var fsm = fsmFromMermaid(\"q-03(b)\", \"10-fsm-a03.dib\");\n",
    "accept(fsm, \"aaaaaa\",\"\",\"aaa\",\"aaaaaabaab\");"
   ]
  }
 ],
 "metadata": {
  "kernelspec": {
   "display_name": "Java",
   "language": "java",
   "name": "java"
  },
  "language_info": {
   "codemirror_mode": "java",
   "file_extension": ".jshell",
   "mimetype": "text/x-java-source",
   "name": "java",
   "pygments_lexer": "java",
   "version": "21.0.4+7-LTS"
  }
 },
 "nbformat": 4,
 "nbformat_minor": 2
}
