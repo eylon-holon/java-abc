{
 "cells": [
  {
   "cell_type": "markdown",
   "metadata": {},
   "source": [
    "![q-01](img/10-fsm-a03-q01.png)"
   ]
  },
  {
   "cell_type": "code",
   "execution_count": 2,
   "metadata": {
    "vscode": {
     "languageId": "java"
    }
   },
   "outputs": [
    {
     "name": "stdout",
     "output_type": "stream",
     "text": [
      "'' : false \n",
      "'1' : false \n",
      "'0c1000' : true \n",
      "'1c1' : true \n",
      "'00' : false \n",
      "'0cc1' : false \n",
      "'00c11c' : false \n"
     ]
    }
   ],
   "source": [
    "%load fsm\n",
    "var fsm = fsmFromMermaid(\"q-01\", \"10-fsm-a03.dib\");\n",
    "accept(fsm, \"\", \"1\", \"0c1000\", \"1c1\" , \"00\", \"0cc1\", \"00c11c\");"
   ]
  },
  {
   "cell_type": "code",
   "execution_count": null,
   "metadata": {
    "vscode": {
     "languageId": "java"
    }
   },
   "outputs": [
    {
     "name": "stdout",
     "output_type": "stream",
     "text": [
      "FSM['q-01']: accepting word '10c'\n",
      "  '1': q0 --> q1\n",
      "  '0': q1 --> q1\n",
      "  'c': q1 --> q4\n",
      "FSM['q-01']: '10c' is rejected\n",
      "'10c' : false \n"
     ]
    }
   ],
   "source": [
    "// GOSHA: Two states are enough, check the solution\n",
    "accept(fsm, true, \"10c\");       // should be accepted"
   ]
  },
  {
   "cell_type": "markdown",
   "metadata": {},
   "source": [
    "![q-01](img/10-fsm-a03-q02.png)"
   ]
  },
  {
   "cell_type": "code",
   "execution_count": 5,
   "metadata": {
    "vscode": {
     "languageId": "java"
    }
   },
   "outputs": [
    {
     "name": "stdout",
     "output_type": "stream",
     "text": [
      "FSM['q-02']: accepting word 'baba'\n",
      "  'b': q0 --> q1\n",
      "  'a': q1 --> q3\n",
      "  'b': q3 --> q1\n",
      "  'a': q1 --> q3\n",
      "FSM['q-02']: 'baba' is accepted\n",
      "'baba' : true \n"
     ]
    }
   ],
   "source": [
    "%load fsm\n",
    "var fsm = fsmFromMermaid(\"q-02\", \"10-fsm-a03.dib\");\n",
    "accept(fsm, true, \"baba\");"
   ]
  },
  {
   "cell_type": "code",
   "execution_count": 6,
   "metadata": {
    "vscode": {
     "languageId": "java"
    }
   },
   "outputs": [
    {
     "name": "stdout",
     "output_type": "stream",
     "text": [
      "FSM['q-02']: accepting word 'baab'\n",
      "  'b': q0 --> q1\n",
      "  'a': q1 --> q3\n",
      "  'a': q3 --> q0\n",
      "  'b': q0 --> q1\n",
      "FSM['q-02']: 'baab' is wrong\n",
      "'baab' : false \n"
     ]
    }
   ],
   "source": [
    "accept(fsm, true, \"baab\");"
   ]
  },
  {
   "cell_type": "markdown",
   "metadata": {},
   "source": [
    "![q-01](img/10-fsm-a03-note-01.png)"
   ]
  },
  {
   "cell_type": "markdown",
   "metadata": {},
   "source": [
    "![q-01](img/10-fsm-a03-q03.png)\n",
    "Add atleast 3 tests of different reminders "
   ]
  },
  {
   "cell_type": "code",
   "execution_count": 2,
   "metadata": {
    "vscode": {
     "languageId": "java"
    }
   },
   "outputs": [
    {
     "name": "stdout",
     "output_type": "stream",
     "text": [
      "'123' : true \n",
      "'969' : true \n",
      "'142' : false \n",
      "'8765836547' : false \n",
      "'0' : true \n"
     ]
    }
   ],
   "source": [
    "%load fsm\n",
    "var fsm = fsmFromMermaid(\"q-03\", \"10-fsm-a03.dib\");\n",
    "accept(fsm, \"123\", \"969\", \"142\", \"8765836547\", \"0\");"
   ]
  },
  {
   "cell_type": "code",
   "execution_count": 1,
   "metadata": {
    "vscode": {
     "languageId": "java"
    }
   },
   "outputs": [
    {
     "ename": "CompilationException",
     "evalue": "",
     "output_type": "error",
     "traceback": [
      "\u001b[1m\u001b[30m|   \u001b[1m\u001b[30maccept(\u001b[0m\u001b[1m\u001b[30m\u001b[41mfsm\u001b[0m\u001b[1m\u001b[30m, \"0\");       // the reminder is zero, should be accepted\u001b[0m",
      "\u001b[1m\u001b[31mcannot find symbol\u001b[0m",
      "\u001b[1m\u001b[31m  symbol:   variable fsm\u001b[0m",
      ""
     ]
    }
   ],
   "source": [
    "// GOSHA:\n",
    "accept(fsm, \"0\");       // the reminder is zero, should be accepted"
   ]
  },
  {
   "cell_type": "markdown",
   "metadata": {},
   "source": [
    "![q-01](img/10-fsm-a03-q04.png)  \n",
    "One of them with tests"
   ]
  },
  {
   "cell_type": "code",
   "execution_count": 4,
   "metadata": {
    "vscode": {
     "languageId": "java"
    }
   },
   "outputs": [
    {
     "name": "stdout",
     "output_type": "stream",
     "text": [
      "'aaabbb' : true \n",
      "'aa' : false \n",
      "'bbb' : true \n"
     ]
    }
   ],
   "source": [
    "%load fsm\n",
    "var fsm = fsmFromMermaid(\"q-04\", \"10-fsm-a03.dib\");\n",
    "accept(fsm, \"aaabbb\", \"aa\", \"bbb\");"
   ]
  },
  {
   "cell_type": "code",
   "execution_count": null,
   "metadata": {
    "vscode": {
     "languageId": "java"
    }
   },
   "outputs": [],
   "source": [
    "// GOSHA: AlefBet is {a, b} not {m, n}\n",
    "// What's the meaning of a^n?"
   ]
  },
  {
   "cell_type": "markdown",
   "metadata": {},
   "source": [
    "![q-01](img/10-fsm-a03-q05-q06.png)  \n",
    "Two of them with tests"
   ]
  },
  {
   "cell_type": "code",
   "execution_count": 3,
   "metadata": {
    "vscode": {
     "languageId": "java"
    }
   },
   "outputs": [
    {
     "name": "stdout",
     "output_type": "stream",
     "text": [
      "'baa' : false \n",
      "'bab' : true \n",
      "'ba' : true \n",
      "'a' : true \n",
      "'b' : false \n",
      "'' : true \n",
      "'ab' : false \n"
     ]
    }
   ],
   "source": [
    "%load fsm\n",
    "var fsm = fsmFromMermaid(\"q-06\", \"10-fsm-a03.dib\");\n",
    "accept(fsm, \"baa\", \"bab\", \"ba\", \"a\", \"b\", \"\", \"ab\");\n",
    "// GOSHA: e is the EMPTY WORD, not a letter of alefbet"
   ]
  },
  {
   "cell_type": "code",
   "execution_count": 14,
   "metadata": {
    "vscode": {
     "languageId": "java"
    }
   },
   "outputs": [
    {
     "name": "stdout",
     "output_type": "stream",
     "text": [
      "'aabb' : true \n",
      "'aaaaaaab' : true \n",
      "'aaaaaaabb' : false \n",
      "'aaa' : true \n"
     ]
    }
   ],
   "source": [
    "%load fsm\n",
    "var fsm = fsmFromMermaid(\"q-07\", \"10-fsm-a03.dib\");\n",
    "accept(fsm, \"aabb\", \"aaaaaaab\", \"aaaaaaabb\", \"aaa\");"
   ]
  },
  {
   "cell_type": "code",
   "execution_count": 17,
   "metadata": {
    "vscode": {
     "languageId": "java"
    }
   },
   "outputs": [
    {
     "name": "stdout",
     "output_type": "stream",
     "text": [
      "'aabb' : true \n",
      "'aaaaaaab' : true \n",
      "'aaaaaaabb' : false \n",
      "'aaa' : true \n",
      "'aaaaaa' : true \n",
      "'abb' : false \n",
      "'ababababbba' : false \n"
     ]
    }
   ],
   "source": [
    "%load fsm\n",
    "var fsm = fsmFromMermaid(\"q-08\", \"10-fsm-a03.dib\");\n",
    "accept(fsm, \"aabb\", \"aaaaaaab\", \"aaaaaaabb\", \"aaa\", \"aaaaaa\", \"abb\", \"ababababbba\");"
   ]
  },
  {
   "cell_type": "code",
   "execution_count": 22,
   "metadata": {
    "vscode": {
     "languageId": "java"
    }
   },
   "outputs": [
    {
     "name": "stdout",
     "output_type": "stream",
     "text": [
      "'aabb' : false \n",
      "'aaaaaaab' : false \n",
      "'aaaaaaabb' : false \n",
      "'aaa' : false \n",
      "'aaaaaa' : false \n",
      "'abab' : true \n",
      "'abbb' : true \n"
     ]
    }
   ],
   "source": [
    "%load fsm\n",
    "var fsm = fsmFromMermaid(\"q-09\", \"10-fsm-a03.dib\");\n",
    "accept(fsm, \"aabb\", \"aaaaaaab\", \"aaaaaaabb\", \"aaa\", \"aaaaaa\", \"abab\", \"abbb\");"
   ]
  }
 ],
 "metadata": {
  "kernelspec": {
   "display_name": "Java",
   "language": "java",
   "name": "java"
  },
  "language_info": {
   "codemirror_mode": "java",
   "file_extension": ".jshell",
   "mimetype": "text/x-java-source",
   "name": "Java",
   "pygments_lexer": "java",
   "version": "21.0.4+7-LTS"
  }
 },
 "nbformat": 4,
 "nbformat_minor": 2
}
