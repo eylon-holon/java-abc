{
 "cells": [
  {
   "cell_type": "markdown",
   "metadata": {},
   "source": [
    "![q-01](img/10-fsm-a03-q01.png)"
   ]
  },
  {
   "cell_type": "code",
   "execution_count": 1,
   "metadata": {
    "vscode": {
     "languageId": "java"
    }
   },
   "outputs": [
    {
     "name": "stdout",
     "output_type": "stream",
     "text": [
      "'c' : true \n",
      "'0c0' : true \n",
      "'10c0' : true \n",
      "'c11' : true \n",
      "'110' : false \n",
      "'00c' : true \n",
      "FSM['q-01']: accepting word '10c0'\n",
      "  '1': q0 --> q0\n",
      "  '0': q0 --> q0\n",
      "  'c': q0 --> C\n",
      "  '0': C --> q1\n",
      "FSM['q-01']: '10c0' is accepted\n",
      "'10c0' : true \n"
     ]
    }
   ],
   "source": [
    "%load fsm\n",
    "var fsm = fsmFromMermaid(\"q-01\", \"10-fsm-a03.dib\");\n",
    "accept(fsm, \"c\", \"0c0\", \"10c0\", \"c11\", \"110\", \"00c\");\n",
    "accept(fsm, true, \"10c0\");"
   ]
  },
  {
   "cell_type": "markdown",
   "metadata": {},
   "source": [
    "![q-01](img/10-fsm-a03-q02.png)"
   ]
  },
  {
   "cell_type": "code",
   "execution_count": 6,
   "metadata": {
    "vscode": {
     "languageId": "java"
    }
   },
   "outputs": [
    {
     "name": "stdout",
     "output_type": "stream",
     "text": [
      "FSM['q-02']: accepting word 'baba'\n",
      "  'b': q0 --> q1\n",
      "  'a': q1 --> q3\n",
      "  'b': q3 --> q1\n",
      "  'a': q1 --> q3\n",
      "FSM['q-02']: 'baba' is accepted\n",
      "'baba' : true \n",
      "FSM['q-02']: accepting word 'baab'\n",
      "  'b': q0 --> q1\n",
      "  'a': q1 --> q3\n",
      "  'a': q3 --> q0\n",
      "  'b': q0 --> q1\n",
      "FSM['q-02']: 'baab' is rejected\n",
      "'baab' : false \n"
     ]
    }
   ],
   "source": [
    "%load fsm\n",
    "var fsm = fsmFromMermaid(\"q-02\", \"10-fsm-a03.dib\");\n",
    "accept(fsm, true, \"baba\", \"baab\");"
   ]
  },
  {
   "cell_type": "code",
   "execution_count": null,
   "metadata": {
    "vscode": {
     "languageId": "java"
    }
   },
   "outputs": [],
   "source": [
    "accept(fsm, true, \"baab\");"
   ]
  },
  {
   "cell_type": "markdown",
   "metadata": {},
   "source": [
    "![q-01](img/10-fsm-a03-note-01.png)"
   ]
  },
  {
   "cell_type": "markdown",
   "metadata": {},
   "source": [
    "![q-01](img/10-fsm-a03-q03.png)\n",
    "Add atleast 3 tests of different reminders "
   ]
  },
  {
   "cell_type": "code",
   "execution_count": null,
   "metadata": {
    "vscode": {
     "languageId": "java"
    }
   },
   "outputs": [
    {
     "name": "stdout",
     "output_type": "stream",
     "text": [
      "'33327333' : true \n",
      "'145' : false \n",
      "'123447' : true \n",
      "'' : false \n"
     ]
    }
   ],
   "source": [
    "%load fsm\n",
    "var fsm = fsmFromMermaid(\"q-03\", \"10-fsm-a03.dib\");\n",
    "accept(fsm, \"33327333\", \"145\", \"123447\");\n",
    "accept(fsm, \"\");"
   ]
  },
  {
   "cell_type": "markdown",
   "metadata": {},
   "source": [
    "![q-01](img/10-fsm-a03-q04.png)  \n",
    "One of them with tests"
   ]
  },
  {
   "cell_type": "code",
   "execution_count": null,
   "metadata": {
    "vscode": {
     "languageId": "java"
    }
   },
   "outputs": [
    {
     "name": "stdout",
     "output_type": "stream",
     "text": [
      "'ab' : true \n",
      "'aab' : true \n",
      "'abb' : true \n",
      "'aabb' : true \n",
      "'aaabbb' : true \n",
      "'b' : true \n",
      "'bb' : true \n",
      "'' : false \n",
      "'a' : false \n",
      "'aba' : false \n",
      "'ba' : false \n",
      "'aa' : false \n"
     ]
    }
   ],
   "source": [
    "%load fsm\n",
    "var fsm = fsmFromMermaid(\"q-04\", \"10-fsm-a03.dib\");\n",
    "accept(fsm, \"ab\", \"aab\", \"abb\", \"aabb\", \"aaabbb\", \"b\", \"bb\");\n",
    "accept(fsm, \"\", \"a\", \"aba\", \"ba\", \"aa\");"
   ]
  },
  {
   "cell_type": "code",
   "execution_count": 7,
   "metadata": {
    "vscode": {
     "languageId": "java"
    }
   },
   "outputs": [
    {
     "name": "stdout",
     "output_type": "stream",
     "text": [
      "'ab' : true \n",
      "'aab' : true \n",
      "'abb' : true \n",
      "'aabb' : true \n",
      "'aaabbb' : true \n",
      "'a' : true \n",
      "'aa' : true \n",
      "'' : false \n",
      "'b' : false \n",
      "'aba' : false \n",
      "'ba' : false \n",
      "'bb' : false \n"
     ]
    }
   ],
   "source": [
    "%load fsm\n",
    "var fsm = fsmFromMermaid(\"q-09\", \"10-fsm-a03.dib\");\n",
    "accept(fsm, \"ab\", \"aab\", \"abb\", \"aabb\", \"aaabbb\", \"a\", \"aa\");\n",
    "accept(fsm, \"\", \"b\", \"aba\", \"ba\", \"bb\");"
   ]
  },
  {
   "cell_type": "markdown",
   "metadata": {},
   "source": [
    "![q-01](img/10-fsm-a03-q05-q06.png)  \n",
    "Two of them with tests"
   ]
  },
  {
   "cell_type": "code",
   "execution_count": 10,
   "metadata": {
    "vscode": {
     "languageId": "java"
    }
   },
   "outputs": [
    {
     "name": "stdout",
     "output_type": "stream",
     "text": [
      "'' : true \n",
      "'a' : true \n",
      "'ba' : true \n",
      "'bab' : true \n",
      "'b' : false \n",
      "'ab' : false \n",
      "'bb' : false \n",
      "'aa' : false \n",
      "'aab' : false \n",
      "'aba' : false \n",
      "'baa' : false \n",
      "'abb' : false \n"
     ]
    }
   ],
   "source": [
    "%load fsm\n",
    "var fsm = fsmFromMermaid(\"q-05\", \"10-fsm-a03.dib\");\n",
    "accept(fsm, \"\", \"a\", \"ba\", \"bab\");\n",
    "accept(fsm, \"b\", \"ab\", \"bb\", \"aa\", \"aab\", \"aba\", \"baa\", \"abb\");"
   ]
  },
  {
   "cell_type": "code",
   "execution_count": 12,
   "metadata": {
    "vscode": {
     "languageId": "java"
    }
   },
   "outputs": [
    {
     "name": "stdout",
     "output_type": "stream",
     "text": [
      "'' : true \n",
      "'ab' : true \n",
      "'bb' : true \n",
      "'abab' : true \n",
      "'abbb' : true \n",
      "'abbbbb' : true \n",
      "'abababbb' : true \n",
      "'ababbaba' : true \n",
      "'ababbbbbabba' : true \n",
      "'a' : false \n",
      "'b' : false \n",
      "'aa' : false \n",
      "'abaa' : false \n",
      "'baab' : false \n",
      "'ababbab' : false \n",
      "'bab' : false \n",
      "'aba' : false \n"
     ]
    }
   ],
   "source": [
    "%load fsm\n",
    "var fsm = fsmFromMermaid(\"q-06\", \"10-fsm-a03.dib\");\n",
    "accept(fsm, \"\", \"ab\", \"bb\", \"abab\", \"abbb\", \"abbbbb\", \"abababbb\", \"ababbaba\", \"ababbbbbabba\");\n",
    "accept(fsm, \"a\", \"b\", \"aa\", \"abaa\", \"baab\", \"ababbab\", \"bab\", \"aba\");"
   ]
  },
  {
   "cell_type": "code",
   "execution_count": 13,
   "metadata": {
    "vscode": {
     "languageId": "java"
    }
   },
   "outputs": [
    {
     "name": "stdout",
     "output_type": "stream",
     "text": [
      "'' : true \n",
      "'aaa' : true \n",
      "'ab' : true \n",
      "'aaaab' : true \n",
      "'aabb' : true \n",
      "'aaaaabb' : true \n",
      "'b' : false \n",
      "'bb' : false \n",
      "'a' : false \n",
      "'abb' : false \n",
      "'abbb' : false \n",
      "'aaaa' : false \n",
      "'aaaabb' : false \n",
      "'aaaabbb' : false \n",
      "'aa' : false \n",
      "'aab' : false \n",
      "'aabbb' : false \n",
      "'aaaaa' : false \n",
      "'aaaaab' : false \n",
      "'aaaaabbb' : false \n"
     ]
    }
   ],
   "source": [
    "%load fsm\n",
    "var fsm = fsmFromMermaid(\"q-07\", \"10-fsm-a03.dib\");\n",
    "accept(fsm, \"\", \"aaa\", \"ab\", \"aaaab\", \"aabb\", \"aaaaabb\");\n",
    "accept(fsm, \"b\", \"bb\", \"a\", \"abb\", \"abbb\", \"aaaa\", \"aaaabb\", \"aaaabbb\", \"aa\", \"aab\", \"aabbb\", \"aaaaa\", \"aaaaab\", \"aaaaabbb\");\n"
   ]
  },
  {
   "cell_type": "code",
   "execution_count": null,
   "metadata": {
    "vscode": {
     "languageId": "java"
    }
   },
   "outputs": [],
   "source": [
    "%load fsm\n",
    "var fsm = fsmFromMermaid(\"q-08\", \"10-fsm-a03.dib\");"
   ]
  }
 ],
 "metadata": {
  "kernelspec": {
   "display_name": "Java",
   "language": "java",
   "name": "java"
  },
  "language_info": {
   "codemirror_mode": "java",
   "file_extension": ".jshell",
   "mimetype": "text/x-java-source",
   "name": "Java",
   "pygments_lexer": "java",
   "version": "21.0.4+7-LTS"
  }
 },
 "nbformat": 4,
 "nbformat_minor": 2
}
