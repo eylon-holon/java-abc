{
 "cells": [
  {
   "cell_type": "markdown",
   "metadata": {},
   "source": [
    "![q-01](img/10-fsm-a03-q01.png)"
   ]
  },
  {
   "cell_type": "code",
   "execution_count": 4,
   "metadata": {
    "vscode": {
     "languageId": "java"
    }
   },
   "outputs": [
    {
     "name": "stdout",
     "output_type": "stream",
     "text": [
      "FSM['q-01']: accepting word '101c111'\n",
      "  '1': q0 --> q1\n",
      "  '0': q1 --> q1\n",
      "  '1': q1 --> q1\n",
      "  'c': q1 --> q2\n",
      "  '1': q2 --> q3\n",
      "  '1': q3 --> q3\n",
      "  '1': q3 --> q3\n",
      "FSM['q-01']: '101c111' is accepted\n",
      "'101c111' : true \n"
     ]
    }
   ],
   "source": [
    "%load fsm\n",
    "var fsm = fsmFromMermaid(\"q-01\", \"10-fsm-a03.dib\");\n",
    "accept(fsm, true, \"101c111\")"
   ]
  },
  {
   "cell_type": "markdown",
   "metadata": {},
   "source": [
    "![q-01](img/10-fsm-a03-q02.png)"
   ]
  },
  {
   "cell_type": "code",
   "execution_count": 5,
   "metadata": {
    "vscode": {
     "languageId": "java"
    }
   },
   "outputs": [
    {
     "name": "stdout",
     "output_type": "stream",
     "text": [
      "FSM['q-02']: accepting word 'baba'\n",
      "  'b': q0 --> q1\n",
      "  'a': q1 --> q3\n",
      "  'b': q3 --> q1\n",
      "  'a': q1 --> q3\n",
      "FSM['q-02']: 'baba' is accepted\n",
      "'baba' : true \n"
     ]
    }
   ],
   "source": [
    "%load fsm\n",
    "var fsm = fsmFromMermaid(\"q-02\", \"10-fsm-a03.dib\");\n",
    "accept(fsm, true, \"baba\");"
   ]
  },
  {
   "cell_type": "code",
   "execution_count": 6,
   "metadata": {
    "vscode": {
     "languageId": "java"
    }
   },
   "outputs": [
    {
     "name": "stdout",
     "output_type": "stream",
     "text": [
      "FSM['q-02']: accepting word 'baab'\n",
      "  'b': q0 --> q1\n",
      "  'a': q1 --> q3\n",
      "  'a': q3 --> q0\n",
      "  'b': q0 --> q1\n",
      "FSM['q-02']: 'baab' is wrong\n",
      "'baab' : false \n"
     ]
    }
   ],
   "source": [
    "accept(fsm, true, \"baab\");"
   ]
  },
  {
   "cell_type": "markdown",
   "metadata": {},
   "source": [
    "![q-01](img/10-fsm-a03-note-01.png)"
   ]
  },
  {
   "cell_type": "markdown",
   "metadata": {},
   "source": [
    "![q-01](img/10-fsm-a03-q03.png)\n",
    "Add atleast 3 tests of different reminders "
   ]
  },
  {
   "cell_type": "code",
   "execution_count": 1,
   "metadata": {
    "vscode": {
     "languageId": "java"
    }
   },
   "outputs": [
    {
     "name": "stdout",
     "output_type": "stream",
     "text": [
      "'133' : false \n",
      "'894' : true \n",
      "'106' : false \n"
     ]
    }
   ],
   "source": [
    "%load fsm\n",
    "var fsm = fsmFromMermaid(\"q-03\", \"10-fsm-a03.dib\");\n",
    "accept(fsm, \"133\", \"894\", \"106\");"
   ]
  },
  {
   "cell_type": "markdown",
   "metadata": {},
   "source": [
    "![q-01](img/10-fsm-a03-q04.png)  \n",
    "One of them with tests"
   ]
  },
  {
   "cell_type": "code",
   "execution_count": 10,
   "metadata": {
    "vscode": {
     "languageId": "java"
    }
   },
   "outputs": [
    {
     "name": "stdout",
     "output_type": "stream",
     "text": [
      "'bbba' : false \n"
     ]
    }
   ],
   "source": [
    "%load fsm\n",
    "var fsm = fsmFromMermaid(\"q-04\", \"10-fsm-a03.dib\");\n",
    "accept(fsm, \"bbba\");"
   ]
  },
  {
   "cell_type": "markdown",
   "metadata": {},
   "source": [
    "![q-01](img/10-fsm-a03-q05-q06.png)  \n",
    "Two of them with tests"
   ]
  },
  {
   "cell_type": "code",
   "execution_count": 5,
   "metadata": {
    "vscode": {
     "languageId": "java"
    }
   },
   "outputs": [
    {
     "ename": "EvalException",
     "evalue": "while scanning a simple key\n in 'string', line 3, column 1:\n    graph LR\n    ^\ncould not find expected ':'\n in 'string', line 4, column 1:\n    q0((q0))\n    ^\n",
     "output_type": "error",
     "traceback": [
      "\u001b[1m\u001b[31m---------------------------------------------------------------------------\u001b[0m",
      "\u001b[1m\u001b[31morg.yaml.snakeyaml.scanner.ScannerException: while scanning a simple key\u001b[0m",
      "\u001b[1m\u001b[31m in 'string', line 3, column 1:\u001b[0m",
      "\u001b[1m\u001b[31m    graph LR\u001b[0m",
      "\u001b[1m\u001b[31m    ^\u001b[0m",
      "\u001b[1m\u001b[31mcould not find expected ':'\u001b[0m",
      "\u001b[1m\u001b[31m in 'string', line 4, column 1:\u001b[0m",
      "\u001b[1m\u001b[31m    q0((q0))\u001b[0m",
      "\u001b[1m\u001b[31m    ^\u001b[0m",
      "\u001b[1m\u001b[31m\u001b[0m",
      "\u001b[1m\u001b[31m\tat org.yaml.snakeyaml.scanner.ScannerImpl.stalePossibleSimpleKeys(ScannerImpl.java:502)\u001b[0m",
      "\u001b[1m\u001b[31m\tat org.yaml.snakeyaml.scanner.ScannerImpl.needMoreTokens(ScannerImpl.java:307)\u001b[0m",
      "\u001b[1m\u001b[31m\tat org.yaml.snakeyaml.scanner.ScannerImpl.checkToken(ScannerImpl.java:237)\u001b[0m",
      "\u001b[1m\u001b[31m\tat org.yaml.snakeyaml.parser.ParserImpl$ParseBlockMappingKey.produce(ParserImpl.java:637)\u001b[0m",
      "\u001b[1m\u001b[31m\tat org.yaml.snakeyaml.parser.ParserImpl.peekEvent(ParserImpl.java:161)\u001b[0m",
      "\u001b[1m\u001b[31m\tat org.yaml.snakeyaml.comments.CommentEventsCollector$1.peek(CommentEventsCollector.java:57)\u001b[0m",
      "\u001b[1m\u001b[31m\tat org.yaml.snakeyaml.comments.CommentEventsCollector$1.peek(CommentEventsCollector.java:43)\u001b[0m",
      "\u001b[1m\u001b[31m\tat org.yaml.snakeyaml.comments.CommentEventsCollector.collectEvents(CommentEventsCollector.java:136)\u001b[0m",
      "\u001b[1m\u001b[31m\tat org.yaml.snakeyaml.comments.CommentEventsCollector.collectEvents(CommentEventsCollector.java:116)\u001b[0m",
      "\u001b[1m\u001b[31m\tat org.yaml.snakeyaml.composer.Composer.composeScalarNode(Composer.java:249)\u001b[0m",
      "\u001b[1m\u001b[31m\tat org.yaml.snakeyaml.composer.Composer.composeNode(Composer.java:214)\u001b[0m",
      "\u001b[1m\u001b[31m\tat org.yaml.snakeyaml.composer.Composer.composeValueNode(Composer.java:396)\u001b[0m",
      "\u001b[1m\u001b[31m\tat org.yaml.snakeyaml.composer.Composer.composeMappingChildren(Composer.java:361)\u001b[0m",
      "\u001b[1m\u001b[31m\tat org.yaml.snakeyaml.composer.Composer.composeMappingNode(Composer.java:329)\u001b[0m",
      "\u001b[1m\u001b[31m\tat org.yaml.snakeyaml.composer.Composer.composeNode(Composer.java:218)\u001b[0m",
      "\u001b[1m\u001b[31m\tat org.yaml.snakeyaml.composer.Composer.getNode(Composer.java:141)\u001b[0m",
      "\u001b[1m\u001b[31m\tat org.yaml.snakeyaml.composer.Composer.getSingleNode(Composer.java:167)\u001b[0m",
      "\u001b[1m\u001b[31m\tat org.yaml.snakeyaml.constructor.BaseConstructor.getSingleData(BaseConstructor.java:178)\u001b[0m",
      "\u001b[1m\u001b[31m\tat org.yaml.snakeyaml.Yaml.loadFromReader(Yaml.java:507)\u001b[0m",
      "\u001b[1m\u001b[31m\tat org.yaml.snakeyaml.Yaml.load(Yaml.java:436)\u001b[0m",
      "\u001b[1m\u001b[31m\tat MermaidFile2.parseProperties(#60:64)\u001b[0m",
      "\u001b[1m\u001b[31m\tat MermaidFile2.parseGraph(#60:94)\u001b[0m",
      "\u001b[1m\u001b[31m\tat MermaidFile2.loadGraph(#60:116)\u001b[0m",
      "\u001b[1m\u001b[31m\tat FsmFromMermaid2.parse(#64:9)\u001b[0m",
      "\u001b[1m\u001b[31m\tat .fsmFromMermaid(#68:1)\u001b[0m",
      "\u001b[1m\u001b[31m\tat .do_it$Aux(#73:1)\u001b[0m",
      "\u001b[1m\u001b[31m\tat .(#73:1)\u001b[0m"
     ]
    }
   ],
   "source": [
    "%load fsm\n",
    "\n",
    "var fsm = fsmFromMermaid(\"q-05\", \"10-fsm-a03.dib\");\n",
    "accept(fsm, \"abb\");"
   ]
  },
  {
   "cell_type": "code",
   "execution_count": null,
   "metadata": {
    "vscode": {
     "languageId": "java"
    }
   },
   "outputs": [
    {
     "ename": "EvalException",
     "evalue": "while scanning a simple key\n in 'string', line 3, column 1:\n    graph LR\n    ^\ncould not find expected ':'\n in 'string', line 4, column 1:\n    q0((q0))\n    ^\n",
     "output_type": "error",
     "traceback": [
      "\u001b[1m\u001b[31m---------------------------------------------------------------------------\u001b[0m",
      "\u001b[1m\u001b[31morg.yaml.snakeyaml.scanner.ScannerException: while scanning a simple key\u001b[0m",
      "\u001b[1m\u001b[31m in 'string', line 3, column 1:\u001b[0m",
      "\u001b[1m\u001b[31m    graph LR\u001b[0m",
      "\u001b[1m\u001b[31m    ^\u001b[0m",
      "\u001b[1m\u001b[31mcould not find expected ':'\u001b[0m",
      "\u001b[1m\u001b[31m in 'string', line 4, column 1:\u001b[0m",
      "\u001b[1m\u001b[31m    q0((q0))\u001b[0m",
      "\u001b[1m\u001b[31m    ^\u001b[0m",
      "\u001b[1m\u001b[31m\u001b[0m",
      "\u001b[1m\u001b[31m\tat org.yaml.snakeyaml.scanner.ScannerImpl.stalePossibleSimpleKeys(ScannerImpl.java:502)\u001b[0m",
      "\u001b[1m\u001b[31m\tat org.yaml.snakeyaml.scanner.ScannerImpl.needMoreTokens(ScannerImpl.java:307)\u001b[0m",
      "\u001b[1m\u001b[31m\tat org.yaml.snakeyaml.scanner.ScannerImpl.checkToken(ScannerImpl.java:237)\u001b[0m",
      "\u001b[1m\u001b[31m\tat org.yaml.snakeyaml.parser.ParserImpl$ParseBlockMappingKey.produce(ParserImpl.java:637)\u001b[0m",
      "\u001b[1m\u001b[31m\tat org.yaml.snakeyaml.parser.ParserImpl.peekEvent(ParserImpl.java:161)\u001b[0m",
      "\u001b[1m\u001b[31m\tat org.yaml.snakeyaml.comments.CommentEventsCollector$1.peek(CommentEventsCollector.java:57)\u001b[0m",
      "\u001b[1m\u001b[31m\tat org.yaml.snakeyaml.comments.CommentEventsCollector$1.peek(CommentEventsCollector.java:43)\u001b[0m",
      "\u001b[1m\u001b[31m\tat org.yaml.snakeyaml.comments.CommentEventsCollector.collectEvents(CommentEventsCollector.java:136)\u001b[0m",
      "\u001b[1m\u001b[31m\tat org.yaml.snakeyaml.comments.CommentEventsCollector.collectEvents(CommentEventsCollector.java:116)\u001b[0m",
      "\u001b[1m\u001b[31m\tat org.yaml.snakeyaml.composer.Composer.composeScalarNode(Composer.java:249)\u001b[0m",
      "\u001b[1m\u001b[31m\tat org.yaml.snakeyaml.composer.Composer.composeNode(Composer.java:214)\u001b[0m",
      "\u001b[1m\u001b[31m\tat org.yaml.snakeyaml.composer.Composer.composeValueNode(Composer.java:396)\u001b[0m",
      "\u001b[1m\u001b[31m\tat org.yaml.snakeyaml.composer.Composer.composeMappingChildren(Composer.java:361)\u001b[0m",
      "\u001b[1m\u001b[31m\tat org.yaml.snakeyaml.composer.Composer.composeMappingNode(Composer.java:329)\u001b[0m",
      "\u001b[1m\u001b[31m\tat org.yaml.snakeyaml.composer.Composer.composeNode(Composer.java:218)\u001b[0m",
      "\u001b[1m\u001b[31m\tat org.yaml.snakeyaml.composer.Composer.getNode(Composer.java:141)\u001b[0m",
      "\u001b[1m\u001b[31m\tat org.yaml.snakeyaml.composer.Composer.getSingleNode(Composer.java:167)\u001b[0m",
      "\u001b[1m\u001b[31m\tat org.yaml.snakeyaml.constructor.BaseConstructor.getSingleData(BaseConstructor.java:178)\u001b[0m",
      "\u001b[1m\u001b[31m\tat org.yaml.snakeyaml.Yaml.loadFromReader(Yaml.java:507)\u001b[0m",
      "\u001b[1m\u001b[31m\tat org.yaml.snakeyaml.Yaml.load(Yaml.java:436)\u001b[0m",
      "\u001b[1m\u001b[31m\tat MermaidFile2.parseProperties(#60:64)\u001b[0m",
      "\u001b[1m\u001b[31m\tat MermaidFile2.parseGraph(#60:94)\u001b[0m",
      "\u001b[1m\u001b[31m\tat MermaidFile2.loadGraph(#60:116)\u001b[0m",
      "\u001b[1m\u001b[31m\tat FsmFromMermaid2.parse(#64:9)\u001b[0m",
      "\u001b[1m\u001b[31m\tat .fsmFromMermaid(#68:1)\u001b[0m",
      "\u001b[1m\u001b[31m\tat .do_it$Aux(#73:1)\u001b[0m",
      "\u001b[1m\u001b[31m\tat .(#73:1)\u001b[0m"
     ]
    }
   ],
   "source": [
    "%load fsm\n",
    "\n",
    "var fsm = fsmFromMermaid(\"q-06\", \"10-fsm-a03.dib\");\n",
    "accept(fsm, \"aabb\");"
   ]
  },
  {
   "cell_type": "markdown",
   "metadata": {},
   "source": [
    "GOSHA: Can't check:   \n",
    "can't see pictures of FSMs  \n",
    "too many tests"
   ]
  }
 ],
 "metadata": {
  "kernelspec": {
   "display_name": "Java",
   "language": "java",
   "name": "java"
  },
  "language_info": {
   "codemirror_mode": "java",
   "file_extension": ".jshell",
   "mimetype": "text/x-java-source",
   "name": "Java",
   "pygments_lexer": "java",
   "version": "21.0.4+7-LTS"
  }
 },
 "nbformat": 4,
 "nbformat_minor": 2
}
