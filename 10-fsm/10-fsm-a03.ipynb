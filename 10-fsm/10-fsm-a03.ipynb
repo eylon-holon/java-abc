{
 "cells": [
  {
   "cell_type": "markdown",
   "metadata": {},
   "source": [
    "![q-01](img/10-fsm-a03-q01.png)"
   ]
  },
  {
   "cell_type": "code",
   "execution_count": 2,
   "metadata": {
    "vscode": {
     "languageId": "java"
    }
   },
   "outputs": [
    {
     "name": "stdout",
     "output_type": "stream",
     "text": [
      "FSM['q-01']: accepting word 'c'\n",
      "  'c': w1 --> w2\n",
      "FSM['q-01']: 'c' is accepted\n",
      "'c' : true \n",
      "FSM['q-01']: accepting word '10c1100'\n",
      "  '1': w1 --> w1\n",
      "  '0': w1 --> w1\n",
      "  'c': w1 --> w2\n",
      "  '1': w2 --> w2\n",
      "  '1': w2 --> w2\n",
      "  '0': w2 --> w2\n",
      "  '0': w2 --> w2\n",
      "FSM['q-01']: '10c1100' is accepted\n",
      "'10c1100' : true \n"
     ]
    }
   ],
   "source": [
    "%load fsm\n",
    "var fsm = fsmFromMermaid(\"q-01\", \"10-fsm-a03.dib\");\n",
    "accept(fsm, true, \"c\");\n",
    "accept(fsm, true, \"10c1100\");"
   ]
  },
  {
   "cell_type": "markdown",
   "metadata": {},
   "source": [
    "![q-01](img/10-fsm-a03-q02.png)"
   ]
  },
  {
   "cell_type": "code",
   "execution_count": 3,
   "metadata": {
    "vscode": {
     "languageId": "java"
    }
   },
   "outputs": [
    {
     "name": "stdout",
     "output_type": "stream",
     "text": [
      "FSM['q-02']: accepting word 'baba'\n",
      "  'b': q0 --> q1\n",
      "  'a': q1 --> q3\n",
      "  'b': q3 --> q1\n",
      "  'a': q1 --> q3\n",
      "FSM['q-02']: 'baba' is accepted\n",
      "'baba' : true \n"
     ]
    }
   ],
   "source": [
    "%load fsm\n",
    "var fsm = fsmFromMermaid(\"q-02\", \"10-fsm-a03.dib\");\n",
    "accept(fsm, true, \"baba\");"
   ]
  },
  {
   "cell_type": "code",
   "execution_count": 2,
   "metadata": {
    "vscode": {
     "languageId": "java"
    }
   },
   "outputs": [
    {
     "name": "stdout",
     "output_type": "stream",
     "text": [
      "FSM['q-02']: accepting word 'baab'\n",
      "  'b': q0 --> q1\n",
      "  'a': q1 --> q3\n",
      "  'a': q3 --> q0\n",
      "  'b': q0 --> q1\n",
      "FSM['q-02']: 'baab' is wrong\n",
      "'baab' : false \n"
     ]
    }
   ],
   "source": [
    "%load fsm\n",
    "var fsm = fsmFromMermaid(\"q-02\", \"10-fsm-a03.dib\");\n",
    "accept(fsm, true, \"baab\");"
   ]
  },
  {
   "cell_type": "markdown",
   "metadata": {},
   "source": [
    "![q-01](img/10-fsm-a03-note-01.png)"
   ]
  },
  {
   "cell_type": "markdown",
   "metadata": {},
   "source": [
    "![q-01](img/10-fsm-a03-q03.png)\n",
    "Add atleast 3 tests of different reminders "
   ]
  },
  {
   "cell_type": "code",
   "execution_count": 13,
   "metadata": {
    "vscode": {
     "languageId": "java"
    }
   },
   "outputs": [
    {
     "name": "stdout",
     "output_type": "stream",
     "text": [
      "'9' : true \n",
      "'6' : true \n",
      "'3' : true \n"
     ]
    }
   ],
   "source": [
    "%load fsm\n",
    "var fsm = fsmFromMermaid(\"q-03\", \"10-fsm-a03.dib\");\n",
    "accept(fsm, \"9\", \"6\", \"3\");"
   ]
  },
  {
   "cell_type": "markdown",
   "metadata": {},
   "source": [
    "![q-01](img/10-fsm-a03-q04.png)  \n",
    "One of them with tests"
   ]
  },
  {
   "cell_type": "code",
   "execution_count": 25,
   "metadata": {
    "vscode": {
     "languageId": "java"
    }
   },
   "outputs": [
    {
     "name": "stdout",
     "output_type": "stream",
     "text": [
      "'ba' : true \n"
     ]
    }
   ],
   "source": [
    "%load fsm\n",
    "var fsm = fsmFromMermaid(\"q-04-a\", \"10-fsm-a03.dib\");\n",
    "accept(fsm, \"ba\");"
   ]
  },
  {
   "cell_type": "code",
   "execution_count": 28,
   "metadata": {
    "vscode": {
     "languageId": "java"
    }
   },
   "outputs": [
    {
     "name": "stdout",
     "output_type": "stream",
     "text": [
      "'ababababababab' : true \n"
     ]
    }
   ],
   "source": [
    "%load fsm\n",
    "var fsm = fsmFromMermaid(\"q-04-b\", \"10-fsm-a03.dib\");\n",
    "accept(fsm, \"ababababababab\");"
   ]
  },
  {
   "cell_type": "markdown",
   "metadata": {},
   "source": [
    "![q-01](img/10-fsm-a03-q05-q06.png)  \n",
    "Two of them with tests"
   ]
  },
  {
   "cell_type": "code",
   "execution_count": 64,
   "metadata": {
    "vscode": {
     "languageId": "java"
    }
   },
   "outputs": [
    {
     "name": "stdout",
     "output_type": "stream",
     "text": [
      "'bab' : true \n"
     ]
    }
   ],
   "source": [
    "%load fsm\n",
    "var fsm = fsmFromMermaid(\"q-05\", \"10-fsm-a03.dib\");\n",
    "accept(fsm, \"bab\");"
   ]
  },
  {
   "cell_type": "code",
   "execution_count": null,
   "metadata": {
    "vscode": {
     "languageId": "java"
    }
   },
   "outputs": [],
   "source": [
    "%load fsm\n",
    "var fsm = fsmFromMermaid(\"q-06\", \"10-fsm-a03.dib\");\n",
    "accept(fsm, \"\");"
   ]
  },
  {
   "cell_type": "code",
   "execution_count": null,
   "metadata": {
    "vscode": {
     "languageId": "java"
    }
   },
   "outputs": [],
   "source": [
    "%load fsm\n",
    "var fsm = fsmFromMermaid(\"q-07\", \"10-fsm-a03.dib\");\n",
    "accept(fsm, \"\");"
   ]
  },
  {
   "cell_type": "code",
   "execution_count": null,
   "metadata": {
    "vscode": {
     "languageId": "java"
    }
   },
   "outputs": [],
   "source": [
    "%load fsm\n",
    "var fsm = fsmFromMermaid(\"q-08\", \"10-fsm-a03.dib\");\n",
    "accept(fsm, \"\");"
   ]
  }
 ],
 "metadata": {
  "kernelspec": {
   "display_name": "Java",
   "language": "java",
   "name": "java"
  },
  "language_info": {
   "codemirror_mode": "java",
   "file_extension": ".jshell",
   "mimetype": "text/x-java-source",
   "name": "Java",
   "pygments_lexer": "java",
   "version": "21.0.4+7-LTS"
  }
 },
 "nbformat": 4,
 "nbformat_minor": 2
}
