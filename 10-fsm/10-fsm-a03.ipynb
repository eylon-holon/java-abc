{
 "cells": [
  {
   "cell_type": "markdown",
   "metadata": {},
   "source": [
    "![q-01](img/10-fsm-a03-q01.png)"
   ]
  },
  {
   "cell_type": "code",
   "execution_count": 2,
   "metadata": {
    "vscode": {
     "languageId": "java"
    }
   },
   "outputs": [
    {
     "data": {
      "text/plain": [
       "'10-a03' is submitted to Gosha (again). Great job! 👍"
      ]
     },
     "execution_count": 2,
     "metadata": {},
     "output_type": "execute_result"
    }
   ],
   "source": [
    "%load ../eylon/submit\n",
    "submit(\"10-a03\", \"again\");"
   ]
  },
  {
   "cell_type": "code",
   "execution_count": 4,
   "metadata": {
    "vscode": {
     "languageId": "java"
    }
   },
   "outputs": [
    {
     "name": "stdout",
     "output_type": "stream",
     "text": [
      "FSM['q-01']: accepting word ''\n",
      "FSM['q-01']: '' is wrong\n",
      "'' : false \n",
      "'1c0' : true \n",
      "'c' : true \n",
      "'01c' : true \n",
      "'10' : false \n",
      "'00c11' : true \n"
     ]
    }
   ],
   "source": [
    "%load fsm\n",
    "var fsm = fsmFromMermaid(\"q-01\", \"10-fsm-a03.dib\");\n",
    "accept(fsm, true, \"\");\n",
    "accept(fsm, \"1c0\",\"c\",\"01c\",\"10\", \"00c11\");"
   ]
  },
  {
   "cell_type": "markdown",
   "metadata": {},
   "source": [
    "![q-01](img/10-fsm-a03-q02.png)"
   ]
  },
  {
   "cell_type": "code",
   "execution_count": 1,
   "metadata": {
    "vscode": {
     "languageId": "java"
    }
   },
   "outputs": [
    {
     "name": "stdout",
     "output_type": "stream",
     "text": [
      "FSM['q-02']: accepting word 'baba'\n",
      "  'b': q0 --> q1\n",
      "  'a': q1 --> q3\n",
      "  'b': q3 --> q1\n",
      "  'a': q1 --> q3\n",
      "FSM['q-02']: 'baba' is accepted\n",
      "'baba' : true \n"
     ]
    }
   ],
   "source": [
    "%load fsm\n",
    "var fsm = fsmFromMermaid(\"q-02\", \"10-fsm-a03.dib\");\n",
    "accept(fsm, true, \"baba\");"
   ]
  },
  {
   "cell_type": "code",
   "execution_count": 2,
   "metadata": {
    "vscode": {
     "languageId": "java"
    }
   },
   "outputs": [
    {
     "name": "stdout",
     "output_type": "stream",
     "text": [
      "FSM['q-02']: accepting word 'baab'\n",
      "  'b': q0 --> q1\n",
      "  'a': q1 --> q3\n",
      "  'a': q3 --> q0\n",
      "  'b': q0 --> q1\n",
      "FSM['q-02']: 'baab' is wrong\n",
      "'baab' : false \n"
     ]
    }
   ],
   "source": [
    "accept(fsm, true, \"baab\");"
   ]
  },
  {
   "cell_type": "markdown",
   "metadata": {},
   "source": [
    "![q-01](img/10-fsm-a03-note-01.png)"
   ]
  },
  {
   "cell_type": "markdown",
   "metadata": {},
   "source": [
    "![q-01](img/10-fsm-a03-q03.png)\n",
    "Add atleast 3 tests of different reminders "
   ]
  },
  {
   "cell_type": "code",
   "execution_count": null,
   "metadata": {
    "vscode": {
     "languageId": "java"
    }
   },
   "outputs": [
    {
     "name": "stdout",
     "output_type": "stream",
     "text": [
      "'89' : false \n",
      "'270' : true \n",
      "'492' : true \n"
     ]
    }
   ],
   "source": [
    "%load fsm\n",
    "var fsm = fsmFromMermaid(\"q-03\", \"10-fsm-a03.dib\");\n",
    "accept(fsm, \"89\", \"270\", \"492\");\n",
    "// GOSHA: Empty word should not be accepted?"
   ]
  },
  {
   "cell_type": "markdown",
   "metadata": {},
   "source": [
    "![q-01](img/10-fsm-a03-q04.png)  \n",
    "One of them with tests"
   ]
  },
  {
   "cell_type": "code",
   "execution_count": null,
   "metadata": {
    "vscode": {
     "languageId": "java"
    }
   },
   "outputs": [],
   "source": [
    "%load fsm\n",
    "var fsm = fsmFromMermaid(\"q-04\", \"10-fsm-a03.dib\");\n",
    "accept(fsm, \"\");        // GOSHA: complete tests\n",
    "// GOSHA: \"aba\" should be rejected"
   ]
  },
  {
   "cell_type": "markdown",
   "metadata": {},
   "source": [
    "![q-01](img/10-fsm-a03-q05-q06.png)  \n",
    "Two of them with tests"
   ]
  },
  {
   "cell_type": "code",
   "execution_count": 3,
   "metadata": {
    "vscode": {
     "languageId": "java"
    }
   },
   "outputs": [
    {
     "name": "stdout",
     "output_type": "stream",
     "text": [
      "'' : true \n",
      "'bab' : true \n",
      "'ba' : true \n",
      "'a' : true \n",
      "'baa' : false \n",
      "'abb' : false \n",
      "'aa' : false \n"
     ]
    }
   ],
   "source": [
    "%load fsm\n",
    "var fsm = fsmFromMermaid(\"q-05\", \"10-fsm-a03.dib\");\n",
    "accept(fsm, \"\", \"bab\", \"ba\", \"a\", \"baa\", \"abb\", \"aa\");"
   ]
  },
  {
   "cell_type": "code",
   "execution_count": 4,
   "metadata": {
    "vscode": {
     "languageId": "java"
    }
   },
   "outputs": [
    {
     "name": "stdout",
     "output_type": "stream",
     "text": [
      "'' : true \n",
      "'aaa' : false \n",
      "'ab' : false \n",
      "'aaaab' : false \n",
      "'aabb' : false \n",
      "'aaaaabb' : false \n",
      "'b' : false \n",
      "'bb' : false \n",
      "'a' : true \n",
      "'abb' : false \n",
      "'abbb' : false \n",
      "'aaaa' : false \n",
      "'aaaabb' : false \n",
      "'aaaabbb' : false \n",
      "'aa' : false \n",
      "'aab' : false \n",
      "'aabbb' : false \n",
      "'aaaaa' : false \n",
      "'aaaaab' : false \n",
      "'aaaaabbb' : false \n"
     ]
    }
   ],
   "source": [
    "// GOSHA: accepted / rejected\n",
    "accept(fsm, \"\", \"aaa\", \"ab\", \"aaaab\", \"aabb\", \"aaaaabb\");\n",
    "accept(fsm, \"b\", \"bb\", \"a\", \"abb\", \"abbb\", \"aaaa\", \"aaaabb\", \"aaaabbb\", \"aa\", \"aab\", \"aabbb\", \"aaaaa\", \"aaaaab\", \"aaaaabbb\");"
   ]
  },
  {
   "cell_type": "code",
   "execution_count": 12,
   "metadata": {
    "vscode": {
     "languageId": "java"
    }
   },
   "outputs": [
    {
     "name": "stdout",
     "output_type": "stream",
     "text": [
      "'' : true \n",
      "'aabb' : true \n",
      "'abbbb' : false \n",
      "'aaabbb' : false \n",
      "'aaaaaa' : true \n",
      "'aabbbbb' : false \n",
      "'abab' : false \n",
      "'bbb' : false \n",
      "'aaaab' : true \n"
     ]
    }
   ],
   "source": [
    "%load fsm\n",
    "var fsm = fsmFromMermaid(\"q-06\", \"10-fsm-a03.dib\");\n",
    "accept(fsm, \"\", \"aabb\", \"abbbb\", \"aaabbb\",\"aaaaaa\", \"aabbbbb\", \"abab\", \"bbb\",\"aaaab\");"
   ]
  },
  {
   "cell_type": "code",
   "execution_count": 3,
   "metadata": {
    "vscode": {
     "languageId": "java"
    }
   },
   "outputs": [
    {
     "name": "stdout",
     "output_type": "stream",
     "text": [
      "'' : true \n",
      "'aabb' : true \n",
      "'abbbb' : true \n",
      "'aaabbb' : true \n",
      "'aaaaaa' : true \n",
      "'aabbbbb' : true \n",
      "'abab' : false \n",
      "'bbb' : true \n",
      "'aaaab' : true \n"
     ]
    }
   ],
   "source": [
    "%load fsm\n",
    "var fsm = fsmFromMermaid(\"q-07\", \"10-fsm-a03.dib\");\n",
    "accept(fsm, \"\", \"aabb\", \"abbbb\", \"aaabbb\",\"aaaaaa\", \"aabbbbb\", \"abab\", \"bbb\",\"aaaab\");"
   ]
  },
  {
   "cell_type": "code",
   "execution_count": null,
   "metadata": {
    "vscode": {
     "languageId": "java"
    }
   },
   "outputs": [
    {
     "name": "stdout",
     "output_type": "stream",
     "text": [
      "'' : true \n",
      "'bbb' : true \n",
      "'bbbbbb' : true \n",
      "'ab' : true \n",
      "'abbbb' : true \n",
      "'abbbbbbb' : true \n",
      "'aaaab' : true \n",
      "'aaaabbbb' : true \n",
      "'aaaabbbbbbb' : true \n",
      "'aabb' : true \n",
      "'aabbbbb' : true \n",
      "'aabbbbbbbb' : true \n",
      "'aaaaabb' : true \n",
      "'aaaaabbbbb' : true \n",
      "'aaaaabbbbbbbb' : true \n",
      "'b' : false \n",
      "'bb' : false \n",
      "'bbbb' : false \n",
      "'bbbbb' : false \n",
      "'a' : false \n",
      "'abb' : false \n",
      "'abbb' : false \n",
      "'aaaabb' : false \n",
      "'aaaabb' : false \n",
      "'aaaabbbbb' : false \n",
      "'aa' : false \n",
      "'abbb' : false \n",
      "'aabbbb' : false \n",
      "'aaaaabbb' : false \n",
      "'aaaaabbb' : false \n",
      "'aaaaabbbbbb' : false \n"
     ]
    }
   ],
   "source": [
    "accept(fsm, \"\", \"bbb\", \"bbbbbb\");\n",
    "accept(fsm, \"ab\", \"abbbb\", \"abbbbbbb\", \"aaaab\", \"aaaabbbb\", \"aaaabbbbbbb\");\n",
    "accept(fsm, \"aabb\", \"aabbbbb\", \"aabbbbbbbb\", \"aaaaabb\", \"aaaaabbbbb\", \"aaaaabbbbbbbb\");\n",
    "\n",
    "accept(fsm, \"b\", \"bb\", \"bbbb\", \"bbbbb\");\n",
    "accept(fsm, \"a\", \"abb\", \"abbb\", \"aaaabb\", \"aaaabb\", \"aaaabbbbb\");\n",
    "accept(fsm, \"aa\", \"abbb\", \"aabbbb\", \"aaaaabbb\", \"aaaaabbb\", \"aaaaabbbbbb\");\n",
    "\n",
    "// GOSHA: nice, all passed"
   ]
  },
  {
   "cell_type": "code",
   "execution_count": 6,
   "metadata": {
    "vscode": {
     "languageId": "java"
    }
   },
   "outputs": [
    {
     "name": "stdout",
     "output_type": "stream",
     "text": [
      "'' : true \n",
      "'aabb' : false \n",
      "'abbbb' : false \n",
      "'aaabbb' : false \n",
      "'aaaaaa' : false \n",
      "'aabbbbb' : false \n",
      "'abab' : true \n",
      "'bbbb' : true \n",
      "'abbabbba' : true \n"
     ]
    }
   ],
   "source": [
    "%load fsm\n",
    "var fsm = fsmFromMermaid(\"q-08\", \"10-fsm-a03.dib\");\n",
    "accept(fsm, \"\", \"aabb\", \"abbbb\", \"aaabbb\",\"aaaaaa\", \"aabbbbb\", \"abab\", \"bbbb\",\"abbabbba\");"
   ]
  },
  {
   "cell_type": "code",
   "execution_count": null,
   "metadata": {
    "vscode": {
     "languageId": "java"
    }
   },
   "outputs": [
    {
     "name": "stdout",
     "output_type": "stream",
     "text": [
      "'' : true \n",
      "'ab' : true \n",
      "'bb' : true \n",
      "'abab' : true \n",
      "'abbb' : true \n",
      "'abbbbb' : true \n",
      "'abababbb' : true \n",
      "'ababbaba' : true \n",
      "'ababbbbbabba' : true \n",
      "'a' : false \n",
      "'b' : false \n",
      "'aa' : false \n",
      "'abaa' : false \n",
      "'baab' : false \n",
      "'ababbab' : false \n",
      "'bab' : false \n",
      "'aba' : false \n"
     ]
    }
   ],
   "source": [
    "accept(fsm, \"\", \"ab\", \"bb\", \"abab\", \"abbb\", \"abbbbb\", \"abababbb\", \"ababbaba\", \"ababbbbbabba\");\n",
    "accept(fsm, \"a\", \"b\", \"aa\", \"abaa\", \"baab\", \"ababbab\", \"bab\", \"aba\");\n",
    "// GOSHA: nice, my solution is longer"
   ]
  }
 ],
 "metadata": {
  "kernelspec": {
   "display_name": "Java",
   "language": "java",
   "name": "java"
  },
  "language_info": {
   "codemirror_mode": "java",
   "file_extension": ".jshell",
   "mimetype": "text/x-java-source",
   "name": "Java",
   "pygments_lexer": "java",
   "version": "21.0.4+7-LTS"
  }
 },
 "nbformat": 4,
 "nbformat_minor": 2
}
