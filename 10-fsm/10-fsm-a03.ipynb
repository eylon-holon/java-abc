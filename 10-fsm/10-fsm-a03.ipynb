{
 "cells": [
  {
   "cell_type": "markdown",
   "metadata": {},
   "source": [
    "![q-01](img/10-fsm-a03-q01.png)"
   ]
  },
  {
   "cell_type": "code",
   "execution_count": null,
   "metadata": {},
   "outputs": [
    {
     "name": "stdout",
     "output_type": "stream",
     "text": [
      "'' : false \n",
      "'c' : true \n",
      "'10c01' : true \n",
      "'000c' : true \n",
      "'c1001' : true \n",
      "'1010' : false \n"
     ]
    }
   ],
   "source": [
    "%load fsm\n",
    "// GOSHA: correct, but may be done with two states (see my solution)\n",
    "// Think why states c and q1 can be unified\n",
    "var fsm = fsmFromMermaid(\"q-01\", \"10-fsm-a03.dib\");\n",
    "accept(fsm, \"\", \"c\", \"10c01\", \"000c\", \"c1001\", \"1010\")"
   ]
  },
  {
   "cell_type": "markdown",
   "metadata": {},
   "source": [
    "![q-01](img/10-fsm-a03-q02.png)"
   ]
  },
  {
   "cell_type": "code",
   "execution_count": 6,
   "metadata": {},
   "outputs": [
    {
     "name": "stdout",
     "output_type": "stream",
     "text": [
      "FSM['q-02']: accepting word 'baba'\n",
      "  'b': q0 --> q1\n",
      "  'a': q1 --> q3\n",
      "  'b': q3 --> q1\n",
      "  'a': q1 --> q3\n",
      "FSM['q-02']: 'baba' is accepted\n",
      "'baba' : true \n"
     ]
    }
   ],
   "source": [
    "%load fsm\n",
    "var fsm = fsmFromMermaid(\"q-02\", \"10-fsm-a03.dib\");\n",
    "accept(fsm, true, \"baba\");"
   ]
  },
  {
   "cell_type": "code",
   "execution_count": 7,
   "metadata": {},
   "outputs": [
    {
     "name": "stdout",
     "output_type": "stream",
     "text": [
      "FSM['q-02']: accepting word 'baab'\n",
      "  'b': q0 --> q1\n",
      "  'a': q1 --> q3\n",
      "  'a': q3 --> q0\n",
      "  'b': q0 --> q1\n",
      "FSM['q-02']: 'baab' is wrong\n",
      "'baab' : false \n"
     ]
    }
   ],
   "source": [
    "accept(fsm, true, \"baab\");"
   ]
  },
  {
   "cell_type": "markdown",
   "metadata": {},
   "source": [
    "![q-01](img/10-fsm-a03-note-01.png)"
   ]
  },
  {
   "cell_type": "markdown",
   "metadata": {},
   "source": [
    "![q-01](img/10-fsm-a03-q03.png)\n",
    "Add atleast 3 tests of different reminders "
   ]
  },
  {
   "cell_type": "code",
   "execution_count": 6,
   "metadata": {},
   "outputs": [
    {
     "name": "stdout",
     "output_type": "stream",
     "text": [
      "'47' : false \n",
      "'27' : true \n",
      "'56' : false \n"
     ]
    }
   ],
   "source": [
    "%load fsm\n",
    "var fsm = fsmFromMermaid(\"q-03\", \"10-fsm-a03.dib\");\n",
    "accept(fsm, \"47\", \"27\", \"56\");"
   ]
  },
  {
   "cell_type": "code",
   "execution_count": 7,
   "metadata": {},
   "outputs": [
    {
     "name": "stdout",
     "output_type": "stream",
     "text": [
      "'' : true \n"
     ]
    }
   ],
   "source": [
    "// GOSHA: empty word should not be accepted?\n",
    "accept(fsm, \"\");"
   ]
  },
  {
   "cell_type": "markdown",
   "metadata": {},
   "source": [
    "![q-01](img/10-fsm-a03-q04.png)  \n",
    "One of them with tests"
   ]
  },
  {
   "cell_type": "code",
   "execution_count": 8,
   "metadata": {},
   "outputs": [
    {
     "name": "stdout",
     "output_type": "stream",
     "text": [
      "'baba' : true \n",
      "'baab' : true \n",
      "'aa' : true \n",
      "'bb' : false \n"
     ]
    }
   ],
   "source": [
    "%load fsm\n",
    "var fsm = fsmFromMermaid(\"q-04\", \"10-fsm-a03.dib\");\n",
    "accept(fsm, \"baba\", \"baab\", \"aa\", \"bb\");"
   ]
  },
  {
   "cell_type": "code",
   "execution_count": 10,
   "metadata": {},
   "outputs": [
    {
     "name": "stdout",
     "output_type": "stream",
     "text": [
      "'aba' : true \n"
     ]
    }
   ],
   "source": [
    "// GOSHA: \"ab\" is the pattern ==> \"aba\" can't be accepted \n",
    "accept(fsm, \"aba\");"
   ]
  },
  {
   "cell_type": "markdown",
   "metadata": {},
   "source": [
    "![q-01](img/10-fsm-a03-q05-q06.png)  \n",
    "Two of them with tests"
   ]
  },
  {
   "cell_type": "code",
   "execution_count": null,
   "metadata": {},
   "outputs": [
    {
     "name": "stdout",
     "output_type": "stream",
     "text": [
      "'bab' : true \n",
      "'ba' : true \n",
      "'a' : true \n",
      "'e' : true \n",
      "'baba' : false \n",
      "'bb' : false \n",
      "'eb' : false \n",
      "'babb' : false \n"
     ]
    }
   ],
   "source": [
    "%load fsm\n",
    "var fsm = fsmFromMermaid(\"q-05\", \"10-fsm-a03.dib\");\n",
    "accept(fsm, \"bab\", \"ba\", \"a\", \"e\", \"baba\", \"bb\", \"eb\", \"babb\");\n",
    "// GOSHA: e is the EMPTY WORD not a letter"
   ]
  },
  {
   "cell_type": "code",
   "execution_count": null,
   "metadata": {},
   "outputs": [
    {
     "name": "stdout",
     "output_type": "stream",
     "text": [
      "'12' : false \n",
      "'23' : true \n",
      "'65' : true \n"
     ]
    }
   ],
   "source": [
    "%load fsm\n",
    "// GOSHA: it's not one of the four\n",
    "var fsm = fsmFromMermaid(\"q-06\", \"10-fsm-a03.dib\");\n",
    "accept(fsm, \"12\", \"23\", \"65\");"
   ]
  }
 ],
 "metadata": {
  "kernelspec": {
   "display_name": "Java",
   "language": "java",
   "name": "java"
  },
  "language_info": {
   "codemirror_mode": "java",
   "file_extension": ".jshell",
   "mimetype": "text/x-java-source",
   "name": "java",
   "pygments_lexer": "java",
   "version": "21.0.4+7-LTS"
  }
 },
 "nbformat": 4,
 "nbformat_minor": 2
}
