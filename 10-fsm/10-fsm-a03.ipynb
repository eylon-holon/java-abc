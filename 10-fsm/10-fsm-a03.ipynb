{
 "cells": [
  {
   "cell_type": "markdown",
   "metadata": {},
   "source": [
    "SHAKED: I fixed it"
   ]
  },
  {
   "cell_type": "code",
   "execution_count": 3,
   "metadata": {
    "vscode": {
     "languageId": "java"
    }
   },
   "outputs": [
    {
     "data": {
      "text/plain": [
       "'10-a03' is submitted to Gosha (fixed.). Great job! 👍"
      ]
     },
     "execution_count": 3,
     "metadata": {},
     "output_type": "execute_result"
    }
   ],
   "source": [
    "%load ../eylon/submit\n",
    "submit(\"10-a03\", \"fixed.\");"
   ]
  },
  {
   "cell_type": "markdown",
   "metadata": {},
   "source": [
    "![q-01](img/10-fsm-a03-q01.png)"
   ]
  },
  {
   "cell_type": "code",
   "execution_count": null,
   "metadata": {
    "vscode": {
     "languageId": "java"
    }
   },
   "outputs": [],
   "source": [
    "%load fsm\n",
    "var fsm = fsmFromMermaid(\"q-01\", \"10-fsm-a03.dib\");\n",
    "accept(fsm, \"C\", \"1C\", \"C0\", \"1001C0011\");\n",
    "accept(fsm, \"\", \"0\", \"1\", \"1101\", \"CC\", \"C100C\");"
   ]
  },
  {
   "cell_type": "markdown",
   "metadata": {},
   "source": [
    "![q-01](img/10-fsm-a03-q02.png)"
   ]
  },
  {
   "cell_type": "code",
   "execution_count": null,
   "metadata": {
    "vscode": {
     "languageId": "java"
    }
   },
   "outputs": [],
   "source": [
    "%load fsm\n",
    "var fsm = fsmFromMermaid(\"q-02\", \"10-fsm-a03.dib\");\n",
    "accept(fsm, \"baba\", \"baab\");"
   ]
  },
  {
   "cell_type": "markdown",
   "metadata": {},
   "source": [
    "![q-01](img/10-fsm-a03-note-01.png)"
   ]
  },
  {
   "cell_type": "markdown",
   "metadata": {},
   "source": [
    "![q-01](img/10-fsm-a03-q03.png)\n",
    "Add atleast 3 tests of different reminders "
   ]
  },
  {
   "cell_type": "code",
   "execution_count": null,
   "metadata": {
    "vscode": {
     "languageId": "java"
    }
   },
   "outputs": [],
   "source": [
    "%load fsm\n",
    "var fsm = fsmFromMermaid(\"mod-3\", \"10-fsm-a03.dib\");\n",
    "accept(fsm, \"0\", \"3\", \"6\", \"681\", \"111\", \"222\");\n",
    "accept(fsm, \"\", \"1\", \"2\", \"34\", \"121\", \"902\");"
   ]
  },
  {
   "cell_type": "markdown",
   "metadata": {},
   "source": [
    "![q-01](img/10-fsm-a03-q04.png)  \n",
    "One of them with tests"
   ]
  },
  {
   "cell_type": "code",
   "execution_count": null,
   "metadata": {
    "vscode": {
     "languageId": "java"
    }
   },
   "outputs": [],
   "source": [
    "%load fsm\n",
    "var fsm = fsmFromMermaid(\"a^n-b^m-a\", \"10-fsm-a03.dib\");\n",
    "accept(fsm, \"ab\", \"aab\", \"abb\", \"aabb\", \"aaabbb\");\n",
    "accept(fsm, \"\", \"a\", \"b\", \"aba\", \"ba\", \"aa\", \"bb\");"
   ]
  },
  {
   "cell_type": "code",
   "execution_count": null,
   "metadata": {
    "vscode": {
     "languageId": "java"
    }
   },
   "outputs": [],
   "source": [
    "%load fsm\n",
    "var fsm = fsmFromMermaid(\"a^n-b^m-b\", \"10-fsm-a03.dib\");\n",
    "accept(fsm, \"a\", \"aa\", \"ab\", \"aab\", \"abb\", \"aabb\");\n",
    "accept(fsm, \"\", \"b\", \"aba\", \"ba\", \"bb\");"
   ]
  },
  {
   "cell_type": "markdown",
   "metadata": {},
   "source": [
    "![q-01](img/10-fsm-a03-q05-q06.png)  \n",
    "Two of them with tests"
   ]
  },
  {
   "cell_type": "code",
   "execution_count": null,
   "metadata": {
    "vscode": {
     "languageId": "java"
    }
   },
   "outputs": [],
   "source": [
    "%load fsm\n",
    "var fsm = fsmFromMermaid(\"q-03-a\", \"10-fsm-a03.dib\");\n",
    "accept(fsm, \"\", \"a\", \"ba\", \"bab\");\n",
    "accept(fsm, \"b\", \"ab\", \"bb\", \"aa\", \"aab\", \"aba\", \"baa\", \"abb\");"
   ]
  },
  {
   "cell_type": "code",
   "execution_count": null,
   "metadata": {
    "vscode": {
     "languageId": "java"
    }
   },
   "outputs": [],
   "source": [
    "%load fsm\n",
    "var fsm = fsmFromMermaid(\"q-03-b\", \"10-fsm-a03.dib\");\n",
    "accept(fsm, \"\", \"aaa\", \"ab\", \"aaaab\", \"aabb\", \"aaaaabb\");\n",
    "accept(fsm, \"b\", \"bb\", \"a\", \"abb\", \"abbb\", \"aaaa\", \"aaaabb\", \"aaaabbb\", \"aa\", \"aab\", \"aaaaabbb\");\n"
   ]
  },
  {
   "cell_type": "code",
   "execution_count": null,
   "metadata": {
    "vscode": {
     "languageId": "java"
    }
   },
   "outputs": [],
   "source": [
    "%load fsm\n",
    "var fsm = fsmFromMermaid(\"q-03-c\", \"10-fsm-a03.dib\");\n",
    "\n",
    "accept(fsm, \"\", \"bbb\", \"bbbbbb\");\n",
    "accept(fsm, \"ab\", \"abbbb\", \"abbbbbbb\", \"aaaab\", \"aaaabbbb\", \"aaaabbbbbbb\");\n",
    "accept(fsm, \"aabb\", \"aabbbbb\", \"aabbbbbbbb\", \"aaaaabb\", \"aaaaabbbbb\", \"aaaaabbbbbbbb\");\n",
    "\n",
    "accept(fsm, \"b\", \"bb\", \"bbbb\", \"bbbbb\");\n",
    "accept(fsm, \"a\", \"abb\", \"abbb\", \"aaaabb\", \"aaaabb\", \"aaaabbbbb\");\n",
    "accept(fsm, \"aa\", \"abbb\", \"aabbbb\", \"aaaaabbb\", \"aaaaabbb\", \"aaaaabbbbbb\");\n"
   ]
  },
  {
   "cell_type": "code",
   "execution_count": null,
   "metadata": {
    "vscode": {
     "languageId": "java"
    }
   },
   "outputs": [],
   "source": [
    "%load fsm\n",
    "var fsm = fsmFromMermaid(\"q-03-d\", \"10-fsm-a03.dib\");\n",
    "\n",
    "accept(fsm, \"\", \"ab\", \"bb\", \"abab\", \"abbb\", \"abbbbb\", \"abababbb\", \"ababbaba\", \"ababbbbbabba\");\n",
    "accept(fsm, \"a\", \"b\", \"aa\", \"abaa\", \"baab\", \"ababbab\", \"bab\", \"aba\");\n"
   ]
  }
 ],
 "metadata": {
  "kernelspec": {
   "display_name": "Java",
   "language": "java",
   "name": "java"
  },
  "language_info": {
   "codemirror_mode": "java",
   "file_extension": ".jshell",
   "mimetype": "text/x-java-source",
   "name": "Java",
   "pygments_lexer": "java",
   "version": "21.0.4+7-LTS"
  }
 },
 "nbformat": 4,
 "nbformat_minor": 2
}
