{
 "cells": [
  {
   "cell_type": "markdown",
   "metadata": {},
   "source": [
    "![q0](img/10-fsm-a01-q1.png)"
   ]
  },
  {
   "cell_type": "markdown",
   "metadata": {},
   "source": [
    "הספה הינה מעל\n",
    "{a, b}\n",
    "ומקבלת כל מילה בעלת אורך זוגי\n",
    "(כולל המילה הריקה)"
   ]
  },
  {
   "cell_type": "code",
   "execution_count": 1,
   "metadata": {},
   "outputs": [
    {
     "name": "stdout",
     "output_type": "stream",
     "text": [
      "'' : true \n",
      "'ab' : true \n",
      "'aba' : false \n",
      "'aa' : true \n",
      "'aaa' : false \n"
     ]
    }
   ],
   "source": [
    "%load fsm\n",
    "var fsm = fsmFromMermaid(\"q-01\", \"10-fsm-a01.dib\");\n",
    "accept(fsm, \"\", \"a b\", \"aba\", \"aa\", \"aaa\");"
   ]
  },
  {
   "cell_type": "markdown",
   "metadata": {},
   "source": [
    "![q0](img/10-fsm-a01-q2.png)"
   ]
  },
  {
   "cell_type": "markdown",
   "metadata": {},
   "source": [
    "הספה הינה מעל\n",
    "מקבלת כל מילה בעלת אורך אי זוגי\n"
   ]
  },
  {
   "cell_type": "code",
   "execution_count": 4,
   "metadata": {},
   "outputs": [
    {
     "name": "stdout",
     "output_type": "stream",
     "text": [
      "'a' : true \n",
      "'ab' : false \n",
      "'' : false \n",
      "'aba' : true \n",
      "'aaa' : true \n",
      "'aa' : false \n",
      "'bb' : false \n"
     ]
    }
   ],
   "source": [
    "%load fsm\n",
    "var fsm = fsmFromMermaid(\"q-02\", \"10-fsm-a01.dib\");\n",
    "accept(fsm, \"a\", \"ab\", \"\", \"aba\", \"aaa\", \"aa\", \"bb\");"
   ]
  },
  {
   "cell_type": "markdown",
   "metadata": {},
   "source": [
    "![q0](img/10-fsm-a01-q3.png)"
   ]
  },
  {
   "cell_type": "markdown",
   "metadata": {},
   "source": [
    "הספה הינה מעל\n",
    "הספרה האחרונה שמוקלדת צריכה להיות 1"
   ]
  },
  {
   "cell_type": "code",
   "execution_count": 7,
   "metadata": {},
   "outputs": [
    {
     "name": "stdout",
     "output_type": "stream",
     "text": [
      "'1' : true \n",
      "'0' : false \n",
      "'' : false \n",
      "'10' : false \n",
      "'01' : true \n",
      "'101' : true \n",
      "'000' : false \n",
      "'010' : false \n",
      "'111' : true \n",
      "'010101010101001' : true \n"
     ]
    }
   ],
   "source": [
    "%load fsm\n",
    "var fsm = fsmFromMermaid(\"q-03\", \"10-fsm-a01.dib\");\n",
    "accept(fsm, \"1\", \"0\", \"\", \"10\", \"01\", \"101\", \"000\", \"010\", \"111\", \"010101010101001\");"
   ]
  },
  {
   "cell_type": "markdown",
   "metadata": {},
   "source": [
    "![q0](img/10-fsm-a01-q4.png)"
   ]
  },
  {
   "cell_type": "markdown",
   "metadata": {},
   "source": [
    "הספה הינה מעל\n",
    "כל מילה בעלת מספר אי זוגי של 1 מתקבלת"
   ]
  },
  {
   "cell_type": "code",
   "execution_count": 10,
   "metadata": {},
   "outputs": [
    {
     "name": "stdout",
     "output_type": "stream",
     "text": [
      "'0' : false \n",
      "'1' : true \n",
      "'' : false \n",
      "'01' : true \n",
      "'10' : true \n",
      "'000' : false \n",
      "'111' : true \n",
      "'101' : false \n",
      "'010' : true \n",
      "'1010' : false \n",
      "'1001' : false \n",
      "'000010000' : true \n",
      "'00100100100' : true \n"
     ]
    }
   ],
   "source": [
    "%load fsm\n",
    "var fsm = fsmFromMermaid(\"q-04\", \"10-fsm-a01.dib\");\n",
    "accept(fsm, \"0\", \"1\", \"\", \"01\", \"10\", \"000\", \"111\", \"101\", \"010\", \"1010\", \"1001\", \"000010000\", \"00100100100\")"
   ]
  },
  {
   "cell_type": "markdown",
   "metadata": {},
   "source": [
    "![q0](img/10-fsm-a01-q5.png)"
   ]
  },
  {
   "cell_type": "markdown",
   "metadata": {},
   "source": [
    "הספה הינה מעל\n",
    "מקבלת כל מילה שהספרה הראשונה שלה היא 1"
   ]
  },
  {
   "cell_type": "code",
   "execution_count": 18,
   "metadata": {},
   "outputs": [
    {
     "name": "stdout",
     "output_type": "stream",
     "text": [
      "'0' : false \n",
      "'1' : true \n",
      "'10' : true \n",
      "'01' : false \n",
      "'00' : false \n",
      "'11' : true \n",
      "'010' : false \n",
      "'101' : true \n",
      "'' : false \n"
     ]
    }
   ],
   "source": [
    "%load fsm\n",
    "var fsm = fsmFromMermaid(\"q-05\", \"10-fsm-a01.dib\");\n",
    "accept(fsm, \"0\", \"1\", \"10\", \"01\", \"00\", \"11\", \"010\", \"101\", \"\")"
   ]
  },
  {
   "cell_type": "markdown",
   "metadata": {},
   "source": [
    "![q0](img/10-fsm-a01-q6.png)"
   ]
  },
  {
   "cell_type": "markdown",
   "metadata": {},
   "source": [
    "הספה הינה מעל\n",
    "מקבלת כל מילה שיש בה את הספרה 1 לפחות פעם אחת"
   ]
  },
  {
   "cell_type": "code",
   "execution_count": 19,
   "metadata": {},
   "outputs": [
    {
     "name": "stdout",
     "output_type": "stream",
     "text": [
      "'0' : false \n",
      "'1' : true \n",
      "'10' : true \n",
      "'01' : true \n",
      "'00' : false \n",
      "'11' : true \n",
      "'010' : true \n",
      "'101' : true \n",
      "'' : false \n"
     ]
    }
   ],
   "source": [
    "%load fsm\n",
    "var fsm = fsmFromMermaid(\"q-06\", \"10-fsm-a01.dib\");\n",
    "accept(fsm, \"0\", \"1\", \"10\", \"01\", \"00\", \"11\", \"010\", \"101\", \"\")"
   ]
  },
  {
   "cell_type": "markdown",
   "metadata": {},
   "source": [
    "![q0](img/10-fsm-a01-q7.png)"
   ]
  },
  {
   "cell_type": "markdown",
   "metadata": {},
   "source": [
    "הספה הינה מעל\n",
    "מקבלת כל מילה כולל מילה ריקה"
   ]
  },
  {
   "cell_type": "code",
   "execution_count": 20,
   "metadata": {},
   "outputs": [
    {
     "name": "stdout",
     "output_type": "stream",
     "text": [
      "'0' : true \n",
      "'1' : true \n",
      "'1' : true \n",
      "'10' : true \n",
      "'01' : true \n",
      "'00' : true \n",
      "'11' : true \n",
      "'' : true \n"
     ]
    }
   ],
   "source": [
    "%load fsm\n",
    "var fsm = fsmFromMermaid(\"q-07\", \"10-fsm-a01.dib\");\n",
    "accept(fsm, \"0\", \"1\", \"1\", \"10\", \"01\", \"00\", \"11\", \"\")"
   ]
  },
  {
   "cell_type": "markdown",
   "metadata": {},
   "source": [
    "![q0](img/10-fsm-a01-q8.png)"
   ]
  },
  {
   "cell_type": "markdown",
   "metadata": {},
   "source": [
    "הספה הינה מעל\n",
    "המילה  מתקבלת כל עוד אין בה את הספרה  1 מעל פעם אחת כולל מילה ריקה"
   ]
  },
  {
   "cell_type": "code",
   "execution_count": 21,
   "metadata": {},
   "outputs": [
    {
     "name": "stdout",
     "output_type": "stream",
     "text": [
      "'0' : true \n",
      "'1' : true \n",
      "'1' : true \n",
      "'10' : true \n",
      "'01' : true \n",
      "'00' : true \n",
      "'11' : false \n",
      "'111' : false \n",
      "'000' : true \n",
      "'101' : false \n",
      "'010' : true \n",
      "'1010' : false \n",
      "'' : true \n"
     ]
    }
   ],
   "source": [
    "%load fsm\n",
    "var fsm = fsmFromMermaid(\"q-08\", \"10-fsm-a01.dib\");\n",
    "accept(fsm, \"0\", \"1\", \"1\", \"10\", \"01\", \"00\", \"11\", \"111\", \"000\", \"101\", \"010\", \"1010\", \"\")"
   ]
  },
  {
   "cell_type": "markdown",
   "metadata": {},
   "source": [
    "![q0](img/10-fsm-a01-q9.png)"
   ]
  },
  {
   "cell_type": "markdown",
   "metadata": {},
   "source": [
    "הספה הינה מעל\n",
    "המילה מתקבלת כל עוד בהכרח יש בה את הספרה 1 רק פעם אחת"
   ]
  },
  {
   "cell_type": "code",
   "execution_count": 22,
   "metadata": {},
   "outputs": [
    {
     "name": "stdout",
     "output_type": "stream",
     "text": [
      "'0' : false \n",
      "'1' : true \n",
      "'1' : true \n",
      "'10' : true \n",
      "'01' : true \n",
      "'00' : false \n",
      "'11' : false \n",
      "'111' : false \n",
      "'000' : false \n",
      "'101' : false \n",
      "'010' : true \n",
      "'1010' : false \n",
      "'' : false \n"
     ]
    }
   ],
   "source": [
    "%load fsm\n",
    "var fsm = fsmFromMermaid(\"q-09\", \"10-fsm-a01.dib\");\n",
    "accept(fsm, \"0\", \"1\", \"1\", \"10\", \"01\", \"00\", \"11\", \"111\", \"000\", \"101\", \"010\", \"1010\", \"\")"
   ]
  }
 ],
 "metadata": {
  "kernelspec": {
   "display_name": "Java",
   "language": "java",
   "name": "java"
  },
  "language_info": {
   "codemirror_mode": "java",
   "file_extension": ".jshell",
   "mimetype": "text/x-java-source",
   "name": "java",
   "pygments_lexer": "java",
   "version": "21.0.4+7-LTS"
   "version": "21.0.4+7-LTS"
  }
 },
 "nbformat": 4,
 "nbformat_minor": 2
}
