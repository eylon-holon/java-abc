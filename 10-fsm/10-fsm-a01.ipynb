{
 "cells": [
  {
   "cell_type": "markdown",
   "metadata": {},
   "source": [
    "![q0](img/10-fsm-a01-q1.png)"
   ]
  },
  {
   "cell_type": "markdown",
   "metadata": {},
   "source": [
    "הספה הינה מעל\n",
    "{a, b}\n",
    "ומקבלת כל מילה בעלת אורך זוגי\n",
    "(כולל המילה הריקה)"
   ]
  },
  {
   "cell_type": "code",
   "execution_count": 4,
   "metadata": {
    "vscode": {
     "languageId": "java"
    }
   },
   "outputs": [
    {
     "name": "stdout",
     "output_type": "stream",
     "text": [
      "'' : true \n",
      "'ab' : true \n",
      "'aba' : false \n",
      "'aa' : true \n",
      "'aaa' : false \n"
     ]
    }
   ],
   "source": [
    "%load fsm\n",
    "var fsm = fsmFromMermaid(\"q-01\", \"10-fsm-a01.dib\");\n",
    "accept(fsm, \"\", \"a b\", \"aba\", \"aa\", \"aaa\");"
   ]
  },
  {
   "cell_type": "markdown",
   "metadata": {},
   "source": [
    "![q0](img/10-fsm-a01-q2.png)"
   ]
  },
  {
   "cell_type": "markdown",
   "metadata": {},
   "source": [
    "השפה הינה {a,b} ומקבלת כל מילה בעלת אורך זוגי (כולל המילה הריקה)"
   ]
  },
  {
   "cell_type": "code",
   "execution_count": null,
   "metadata": {
    "vscode": {
     "languageId": "java"
    }
   },
   "outputs": [
    {
     "name": "stdout",
     "output_type": "stream",
     "text": [
      "ERROR in q0: Undefined transition '1'\n",
      "'1' : false \n"
     ]
    }
   ],
   "source": [
    "%load fsm\n",
    "var fsm = fsmFromMermaid(\"q-02\", \"10-fsm-a01.dib\");\n",
    "accept(fsm, \"1\");       // GOSHA: \"1\" is not in alefbet"
   ]
  },
  {
   "cell_type": "markdown",
   "metadata": {},
   "source": [
    "### GOSHA: Please, define the language and write tests for each problem"
   ]
  },
  {
   "cell_type": "markdown",
   "metadata": {},
   "source": [
    "![q0](img/10-fsm-a01-q3.png)"
   ]
  },
  {
   "cell_type": "markdown",
   "metadata": {},
   "source": [
    "השפה הינה {1,0} ומקבלת"
   ]
  },
  {
   "cell_type": "code",
   "execution_count": null,
   "metadata": {
    "vscode": {
     "languageId": "java"
    }
   },
   "outputs": [],
   "source": [
    "%load fsm\n",
    "var fsm = fsmFromMermaid(\"q-03\", \"10-fsm-a01.dib\");"
   ]
  },
  {
   "cell_type": "markdown",
   "metadata": {},
   "source": [
    "![q0](img/10-fsm-a01-q4.png)"
   ]
  },
  {
   "cell_type": "markdown",
   "metadata": {},
   "source": [
    "הספה הינה מעל\n"
   ]
  },
  {
   "cell_type": "code",
   "execution_count": 7,
   "metadata": {
    "vscode": {
     "languageId": "java"
    }
   },
   "outputs": [],
   "source": [
    "%load fsm\n",
    "var fsm = fsmFromMermaid(\"q-04\", \"10-fsm-a01.dib\");"
   ]
  },
  {
   "cell_type": "markdown",
   "metadata": {},
   "source": [
    "![q0](img/10-fsm-a01-q5.png)"
   ]
  },
  {
   "cell_type": "markdown",
   "metadata": {},
   "source": [
    "הספה הינה מעל\n"
   ]
  },
  {
   "cell_type": "code",
   "execution_count": 8,
   "metadata": {
    "vscode": {
     "languageId": "java"
    }
   },
   "outputs": [],
   "source": [
    "%load fsm\n",
    "var fsm = fsmFromMermaid(\"q-05\", \"10-fsm-a01.dib\");"
   ]
  },
  {
   "cell_type": "markdown",
   "metadata": {},
   "source": [
    "![q0](img/10-fsm-a01-q6.png)"
   ]
  },
  {
   "cell_type": "markdown",
   "metadata": {},
   "source": [
    "הספה הינה מעל\n"
   ]
  },
  {
   "cell_type": "code",
   "execution_count": 3,
   "metadata": {
    "vscode": {
     "languageId": "java"
    }
   },
   "outputs": [],
   "source": [
    "%load fsm\n",
    "var fsm = fsmFromMermaid(\"q-06\", \"10-fsm-a01.dib\");"
   ]
  },
  {
   "cell_type": "markdown",
   "metadata": {},
   "source": [
    "![q0](img/10-fsm-a01-q7.png)"
   ]
  },
  {
   "cell_type": "markdown",
   "metadata": {},
   "source": [
    "השפה הינה מעל\n"
   ]
  },
  {
   "cell_type": "code",
   "execution_count": null,
   "metadata": {
    "vscode": {
     "languageId": "java"
    }
   },
   "outputs": [],
   "source": [
    "%load fsm\n",
    "var fsm = fsmFromMermaid(\"q-07\", \"10-fsm-a01.dib\");"
   ]
  },
  {
   "cell_type": "markdown",
   "metadata": {},
   "source": [
    "![q0](img/10-fsm-a01-q8.png)"
   ]
  },
  {
   "cell_type": "markdown",
   "metadata": {},
   "source": [
    "הספה הינה מעל\n"
   ]
  },
  {
   "cell_type": "code",
   "execution_count": null,
   "metadata": {
    "vscode": {
     "languageId": "java"
    }
   },
   "outputs": [],
   "source": [
    "%load fsm\n",
    "var fsm = fsmFromMermaid(\"q-08\", \"10-fsm-a01.dib\");"
   ]
  },
  {
   "cell_type": "markdown",
   "metadata": {},
   "source": [
    "![q0](img/10-fsm-a01-q9.png)"
   ]
  },
  {
   "cell_type": "markdown",
   "metadata": {},
   "source": [
    "הספה הינה מעל\n"
   ]
  },
  {
   "cell_type": "code",
   "execution_count": null,
   "metadata": {
    "vscode": {
     "languageId": "java"
    }
   },
   "outputs": [],
   "source": [
    "%load fsm\n",
    "var fsm = fsmFromMermaid(\"q-09\", \"10-fsm-a01.dib\");"
   ]
  }
 ],
 "metadata": {
  "kernelspec": {
   "display_name": "Java",
   "language": "java",
   "name": "java"
  },
  "language_info": {
   "codemirror_mode": "java",
   "file_extension": ".jshell",
   "mimetype": "text/x-java-source",
   "name": "Java",
   "pygments_lexer": "java",
   "version": "23+37-2369"
  }
 },
 "nbformat": 4,
 "nbformat_minor": 2
}
