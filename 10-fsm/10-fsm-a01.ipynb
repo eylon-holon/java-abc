{
 "cells": [
  {
   "cell_type": "code",
   "execution_count": 1,
   "metadata": {
    "vscode": {
     "languageId": "java"
    }
   },
   "outputs": [
    {
     "data": {
      "text/plain": [
       "'10-a01' is submitted to Gosha (fixed.). Great job! 👍"
      ]
     },
     "execution_count": 1,
     "metadata": {},
     "output_type": "execute_result"
    }
   ],
   "source": [
    "%load ../eylon/submit\n",
    "submit(\"10-a01\", \"fixed.\");"
   ]
  },
  {
   "cell_type": "markdown",
   "metadata": {},
   "source": [
    "![q0](img/10-fsm-a01-q1.png)"
   ]
  },
  {
   "cell_type": "markdown",
   "metadata": {},
   "source": [
    "הספה הינה מעל\n",
    "{a, b}\n",
    "ומקבלת כל מילה בעלת אורך זוגי\n",
    "(כולל המילה הריקה)"
   ]
  },
  {
   "cell_type": "code",
   "execution_count": 6,
   "metadata": {
    "vscode": {
     "languageId": "java"
    }
   },
   "outputs": [
    {
     "name": "stdout",
     "output_type": "stream",
     "text": [
      "'' : true \n",
      "'a' : false \n",
      "'b' : false \n",
      "'aa' : true \n",
      "'bb' : true \n",
      "'ab' : true \n",
      "'ba' : true \n",
      "'aba' : false \n",
      "'bab' : false \n",
      "'aaa' : false \n",
      "'bbb' : false \n"
     ]
    }
   ],
   "source": [
    "%load fsm\n",
    "var fsm = fsmFromMermaid(\"q-01\", \"10-fsm-a01.dib\");\n",
    "accept(fsm, \"\", \"a\", \"b\", \"aa\", \"bb\", \"ab\", \"ba\", \"aba\", \"bab\", \"aaa\", \"bbb\");"
   ]
  },
  {
   "cell_type": "markdown",
   "metadata": {},
   "source": [
    "### SHAKED: I fixed it"
   ]
  },
  {
   "cell_type": "markdown",
   "metadata": {},
   "source": [
    "![q0](img/10-fsm-a01-q2.png)"
   ]
  },
  {
   "cell_type": "markdown",
   "metadata": {},
   "source": [
    "הספה הינה מעל  \n",
    "{a,b}  \n",
    "אס\"ד מקבל מילים בעורך אי זוגי  "
   ]
  },
  {
   "cell_type": "code",
   "execution_count": 15,
   "metadata": {
    "vscode": {
     "languageId": "java"
    }
   },
   "outputs": [
    {
     "name": "stdout",
     "output_type": "stream",
     "text": [
      "'' : false \n",
      "'a' : true \n",
      "'b' : true \n",
      "'aa' : false \n",
      "'bb' : false \n",
      "'ab' : false \n",
      "'ba' : false \n",
      "'aba' : true \n",
      "'bab' : true \n",
      "'aaa' : true \n",
      "'bbb' : true \n"
     ]
    }
   ],
   "source": [
    "%load fsm\n",
    "var fsm = fsmFromMermaid(\"q-02\", \"10-fsm-a01.dib\");\n",
    "accept(fsm, \"\", \"a\", \"b\", \"aa\", \"bb\", \"ab\", \"ba\", \"aba\", \"bab\", \"aaa\", \"bbb\");"
   ]
  },
  {
   "cell_type": "markdown",
   "metadata": {},
   "source": [
    "![q0](img/10-fsm-a01-q3.png)"
   ]
  },
  {
   "cell_type": "markdown",
   "metadata": {},
   "source": [
    "הספה הינה מעל  \n",
    "{1,0}  \n",
    "כל המילים המסתיימים ב-1\n"
   ]
  },
  {
   "cell_type": "code",
   "execution_count": 16,
   "metadata": {
    "vscode": {
     "languageId": "java"
    }
   },
   "outputs": [
    {
     "name": "stdout",
     "output_type": "stream",
     "text": [
      "'1' : true \n",
      "'01' : true \n",
      "'01001' : true \n",
      "'110111' : true \n",
      "'' : false \n",
      "'0' : false \n",
      "'10' : false \n",
      "'11010' : false \n",
      "'101010' : false \n"
     ]
    }
   ],
   "source": [
    "%load fsm\n",
    "var fsm = fsmFromMermaid(\"q-03\", \"10-fsm-a01.dib\");\n",
    "accept(fsm, \"1\", \"01\", \"01001\", \"110111\");\n",
    "accept(fsm, \"\", \"0\", \"10\", \"11010\", \"101010\");"
   ]
  },
  {
   "cell_type": "markdown",
   "metadata": {},
   "source": [
    "![q0](img/10-fsm-a01-q4.png)"
   ]
  },
  {
   "cell_type": "markdown",
   "metadata": {},
   "source": [
    "הספה הינה מעל  \n",
    "{0,1}  \n",
    "כל המילים שכמות ה-1 היא אי זוגית\n"
   ]
  },
  {
   "cell_type": "code",
   "execution_count": 17,
   "metadata": {
    "vscode": {
     "languageId": "java"
    }
   },
   "outputs": [
    {
     "name": "stdout",
     "output_type": "stream",
     "text": [
      "'1' : true \n",
      "'01' : true \n",
      "'01011' : true \n",
      "'110111' : true \n",
      "'' : false \n",
      "'011' : false \n",
      "'110' : false \n",
      "'110110' : false \n",
      "'110101' : false \n"
     ]
    }
   ],
   "source": [
    "%load fsm\n",
    "var fsm = fsmFromMermaid(\"q-04\", \"10-fsm-a01.dib\");\n",
    "accept(fsm, \"1\", \"01\", \"01011\", \"110111\");\n",
    "accept(fsm, \"\", \"011\", \"110\", \"110110\", \"110101\");"
   ]
  },
  {
   "cell_type": "markdown",
   "metadata": {},
   "source": [
    "![q0](img/10-fsm-a01-q5.png)"
   ]
  },
  {
   "cell_type": "markdown",
   "metadata": {},
   "source": [
    "הספה הינה מעל\n",
    "{1,0}  \n",
    "כל המילים המתחילים ב-1"
   ]
  },
  {
   "cell_type": "code",
   "execution_count": 18,
   "metadata": {
    "vscode": {
     "languageId": "java"
    }
   },
   "outputs": [
    {
     "name": "stdout",
     "output_type": "stream",
     "text": [
      "'1' : true \n",
      "'10' : true \n",
      "'110' : true \n",
      "'1000' : true \n",
      "'' : false \n",
      "'011' : false \n",
      "'011' : false \n",
      "'0110110' : false \n"
     ]
    }
   ],
   "source": [
    "%load fsm\n",
    "var fsm = fsmFromMermaid(\"q-05\", \"10-fsm-a01.dib\");\n",
    "accept(fsm, \"1\", \"10\", \"110\", \"1000\");\n",
    "accept(fsm, \"\", \"011\", \"011\", \"0110110\");"
   ]
  },
  {
   "cell_type": "markdown",
   "metadata": {},
   "source": [
    "![q0](img/10-fsm-a01-q6.png)"
   ]
  },
  {
   "cell_type": "markdown",
   "metadata": {},
   "source": [
    "ספה הינה מעל\n",
    "{0,1}  \n",
    "מילים שיש להם 1 לפחות פעם אחד"
   ]
  },
  {
   "cell_type": "code",
   "execution_count": 19,
   "metadata": {
    "vscode": {
     "languageId": "java"
    }
   },
   "outputs": [
    {
     "name": "stdout",
     "output_type": "stream",
     "text": [
      "'1' : true \n",
      "'10' : true \n",
      "'0110' : true \n",
      "'1000' : true \n",
      "'' : false \n",
      "'0' : false \n",
      "'000' : false \n",
      "'000000' : false \n"
     ]
    }
   ],
   "source": [
    "%load fsm\n",
    "var fsm = fsmFromMermaid(\"q-06\", \"10-fsm-a01.dib\");\n",
    "accept(fsm, \"1\", \"10\", \"0110\", \"1000\");\n",
    "accept(fsm, \"\", \"0\", \"000\", \"000000\");"
   ]
  },
  {
   "cell_type": "markdown",
   "metadata": {},
   "source": [
    "![q0](img/10-fsm-a01-q7.png)"
   ]
  },
  {
   "cell_type": "markdown",
   "metadata": {},
   "source": [
    "הספה הינה מעל\n",
    "{0,1}  \n",
    "כל המילים מתקבלות"
   ]
  },
  {
   "cell_type": "code",
   "execution_count": 20,
   "metadata": {
    "vscode": {
     "languageId": "java"
    }
   },
   "outputs": [
    {
     "name": "stdout",
     "output_type": "stream",
     "text": [
      "'' : true \n",
      "'0' : true \n",
      "'1' : true \n",
      "'10' : true \n",
      "'101101010' : true \n"
     ]
    }
   ],
   "source": [
    "%load fsm\n",
    "var fsm = fsmFromMermaid(\"q-07\", \"10-fsm-a01.dib\");\n",
    "accept(fsm, \"\", \"0\", \"1\", \"10\", \"101101010\");"
   ]
  },
  {
   "cell_type": "markdown",
   "metadata": {},
   "source": [
    "![q0](img/10-fsm-a01-q8.png)"
   ]
  },
  {
   "cell_type": "markdown",
   "metadata": {},
   "source": [
    "הספה הינה מעל\n",
    "{0,1}  \n",
    "מילים שבהן יש אחד או אפס אחדים\n",
    "\n"
   ]
  },
  {
   "cell_type": "code",
   "execution_count": 21,
   "metadata": {
    "vscode": {
     "languageId": "java"
    }
   },
   "outputs": [
    {
     "name": "stdout",
     "output_type": "stream",
     "text": [
      "'' : true \n",
      "'0' : true \n",
      "'1' : true \n",
      "'010' : true \n",
      "'001000' : true \n",
      "'00000' : true \n",
      "'11' : false \n",
      "'111' : false \n",
      "'1100' : false \n",
      "'1010' : false \n",
      "'001001001' : false \n"
     ]
    }
   ],
   "source": [
    "%load fsm\n",
    "var fsm = fsmFromMermaid(\"q-08\", \"10-fsm-a01.dib\");\n",
    "accept(fsm, \"\", \"0\", \"1\", \"010\", \"001000\", \"00000\");\n",
    "accept(fsm, \"11\", \"111\", \"1100\", \"1010\", \"001001001\");"
   ]
  },
  {
   "cell_type": "markdown",
   "metadata": {},
   "source": [
    "![q0](img/10-fsm-a01-q9.png)"
   ]
  },
  {
   "cell_type": "markdown",
   "metadata": {},
   "source": [
    "הספה הינה מעל\n",
    "{0,1}  \n",
    "מילים בהן יש 1 בדיוק פעם אחד"
   ]
  },
  {
   "cell_type": "code",
   "execution_count": 22,
   "metadata": {
    "vscode": {
     "languageId": "java"
    }
   },
   "outputs": [
    {
     "name": "stdout",
     "output_type": "stream",
     "text": [
      "'1' : true \n",
      "'10' : true \n",
      "'01' : true \n",
      "'010' : true \n",
      "'001000' : true \n",
      "'00001' : true \n",
      "'' : false \n",
      "'0' : false \n",
      "'00' : false \n",
      "'1100' : false \n",
      "'1010' : false \n",
      "'001001001' : false \n"
     ]
    }
   ],
   "source": [
    "%load fsm\n",
    "var fsm = fsmFromMermaid(\"q-09\", \"10-fsm-a01.dib\");\n",
    "accept(fsm, \"1\", \"10\", \"01\", \"010\", \"001000\", \"00001\");\n",
    "accept(fsm, \"\", \"0\", \"00\", \"1100\", \"1010\", \"001001001\");"
   ]
  }
 ],
 "metadata": {
  "kernelspec": {
   "display_name": "Java",
   "language": "java",
   "name": "java"
  },
  "language_info": {
   "codemirror_mode": "java",
   "file_extension": ".jshell",
   "mimetype": "text/x-java-source",
   "name": "Java",
   "pygments_lexer": "java",
   "version": "21.0.4+7-LTS"
  }
 },
 "nbformat": 4,
 "nbformat_minor": 2
}
