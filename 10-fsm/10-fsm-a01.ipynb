{
 "cells": [
  {
   "cell_type": "markdown",
   "metadata": {},
   "source": [
    "![q0](img/10-fsm-a01-q1.png)"
   ]
  },
  {
   "cell_type": "markdown",
   "metadata": {},
   "source": [
    "הספה הינה מעל\n",
    "{a, b}\n",
    "ומקבלת כל מילה בעלת אורך זוגי\n",
    "(כולל המילה הריקה)"
   ]
  },
  {
   "cell_type": "code",
   "execution_count": 1,
   "metadata": {},
   "outputs": [
    {
     "name": "stdout",
     "output_type": "stream",
     "text": [
      "'' : true \n",
      "ERROR in q1: Undefined transition ' '\n",
      "'a b' : false \n",
      "'aba' : false \n",
      "'aa' : true \n",
      "'aaa' : false \n"
     ]
    }
   ],
   "source": [
    "%load fsm\n",
    "var fsm = fsmFromMermaid(\"q-01\", \"10-fsm-a01.dib\");\n",
    "accept(fsm, \"\", \"a b\", \"aba\", \"aa\", \"aaa\");"
   ]
  },
  {
   "cell_type": "code",
   "execution_count": 16,
   "metadata": {},
   "outputs": [
    {
     "data": {
      "text/plain": [
       "'10-a01' is submitted to Gosha (recheck please). Great job! 👍"
      ]
     },
     "execution_count": 16,
     "metadata": {},
     "output_type": "execute_result"
    }
   ],
   "source": [
    "%load ../eylon/submit\n",
    "submit(\"10-a01\", \"recheck please\");"
   ]
  },
  {
   "cell_type": "markdown",
   "metadata": {},
   "source": [
    "![q0](img/10-fsm-a01-q2.png)"
   ]
  },
  {
   "cell_type": "markdown",
   "metadata": {},
   "source": [
    "השפה הינה {a,b} ומקבלת כל מילה בעלת אורך איזוגי (כולל המילה הריקה)"
   ]
  },
  {
   "cell_type": "code",
   "execution_count": 3,
   "metadata": {},
   "outputs": [
    {
     "name": "stdout",
     "output_type": "stream",
     "text": [
      "'ab' : false \n",
      "ERROR in q1: Undefined transition ' '\n",
      "'a  b' : false \n",
      "'aa' : false \n",
      "'aaa' : true \n"
     ]
    }
   ],
   "source": [
    "%load fsm\n",
    "var fsm = fsmFromMermaid(\"q-02\", \"10-fsm-a01.dib\");\n",
    "accept(fsm, \"ab\", \"a  b\", \"aa\", \"aaa\");       // GOSHA: \"1\" is not in alefbet"
   ]
  },
  {
   "cell_type": "markdown",
   "metadata": {},
   "source": [
    "### GOSHA: Please, define the language and write tests for each problem"
   ]
  },
  {
   "cell_type": "markdown",
   "metadata": {},
   "source": [
    "![q0](img/10-fsm-a01-q3.png)"
   ]
  },
  {
   "cell_type": "markdown",
   "metadata": {},
   "source": [
    " השפה הינה מעל {1,0} ומקבלת כל מילה המסתיימת ב-1"
   ]
  },
  {
   "cell_type": "code",
   "execution_count": 4,
   "metadata": {},
   "outputs": [
    {
     "name": "stdout",
     "output_type": "stream",
     "text": [
      "'0000' : false \n",
      "'0001' : true \n",
      "'11' : true \n",
      "'0010' : false \n"
     ]
    }
   ],
   "source": [
    "%load fsm\n",
    "var fsm = fsmFromMermaid(\"q-03\", \"10-fsm-a01.dib\");\n",
    "accept(fsm, \"0000\", \"0001\", \"11\", \"0010\");"
   ]
  },
  {
   "cell_type": "markdown",
   "metadata": {},
   "source": [
    "![q0](img/10-fsm-a01-q4.png)"
   ]
  },
  {
   "cell_type": "markdown",
   "metadata": {},
   "source": [
    "השפה הינה מעל הא\"ב {1,0} כולל המילה הריקה, ומקבלת את כל המילים המכילות מספר אי זוגי של המספר 1.\n"
   ]
  },
  {
   "cell_type": "code",
   "execution_count": 5,
   "metadata": {},
   "outputs": [
    {
     "name": "stdout",
     "output_type": "stream",
     "text": [
      "'0' : false \n",
      "'0111' : true \n",
      "'0110' : false \n",
      "'00001' : true \n"
     ]
    }
   ],
   "source": [
    "%load fsm\n",
    "var fsm = fsmFromMermaid(\"q-04\", \"10-fsm-a01.dib\");\n",
    "accept(fsm, \"0\", \"0111\", \"0110\", \"00001\");"
   ]
  },
  {
   "cell_type": "markdown",
   "metadata": {},
   "source": [
    "![q0](img/10-fsm-a01-q5.png)"
   ]
  },
  {
   "cell_type": "markdown",
   "metadata": {},
   "source": [
    "השפה הינה מעל הא\"ב {1,0} לא כולל המילה הריקה ומקבלת כל מילה המתחילה במספר 1."
   ]
  },
  {
   "cell_type": "code",
   "execution_count": 7,
   "metadata": {},
   "outputs": [
    {
     "name": "stdout",
     "output_type": "stream",
     "text": [
      "'1000' : false \n",
      "'0001' : false \n",
      "'010' : false \n",
      "'10101' : false \n"
     ]
    }
   ],
   "source": [
    "%load fsm\n",
    "var fsm = fsmFromMermaid(\"q-05\", \"10-fsm-a01.dib\");\n",
    "accept(fsm, \"1000\", \"0001\", \"010\", \"10101\");"
   ]
  },
  {
   "cell_type": "markdown",
   "metadata": {},
   "source": [
    "![q0](img/10-fsm-a01-q6.png)"
   ]
  },
  {
   "cell_type": "markdown",
   "metadata": {},
   "source": [
    "השפה הינה מעל הא\"ב {1,0} ומקבלת כל מילה המכילה לפחות פעם אחת את הספרה 1."
   ]
  },
  {
   "cell_type": "code",
   "execution_count": 9,
   "metadata": {},
   "outputs": [
    {
     "name": "stdout",
     "output_type": "stream",
     "text": [
      "'1000' : true \n",
      "'0001' : true \n",
      "'010' : true \n",
      "'10101' : true \n",
      "'0' : false \n"
     ]
    }
   ],
   "source": [
    "%load fsm\n",
    "var fsm = fsmFromMermaid(\"q-06\", \"10-fsm-a01.dib\");\n",
    "accept(fsm, \"1000\", \"0001\", \"010\", \"10101\", \"0\");"
   ]
  },
  {
   "cell_type": "markdown",
   "metadata": {},
   "source": [
    "![q0](img/10-fsm-a01-q7.png)"
   ]
  },
  {
   "cell_type": "markdown",
   "metadata": {},
   "source": [
    "השפה הינה מעל הא\"ב {0.1} ומקבלת רק את המילה הריקה ואת המספר \"0.1\" ."
   ]
  },
  {
   "cell_type": "code",
   "execution_count": 4,
   "metadata": {},
   "outputs": [
    {
     "name": "stdout",
     "output_type": "stream",
     "text": [
      "ERROR: currently only single letters are supported in alef-bet (q0-.->|0.1|q0)\n",
      "ERROR: Determenistic FSM supports only single letter rules: '0.1'\n",
      "ERROR: Determenistic FSM supports only single letter rules: '0.1'\n"
     ]
    },
    {
     "ename": "EvalException",
     "evalue": "Index -1 out of bounds for length 1",
     "output_type": "error",
     "traceback": [
      "\u001b[1m\u001b[31m---------------------------------------------------------------------------\u001b[0m",
      "\u001b[1m\u001b[31mjava.lang.ArrayIndexOutOfBoundsException: Index -1 out of bounds for length 1\u001b[0m",
      "\u001b[1m\u001b[31m\tat DetermenisticFsm.<init>(#42:61)\u001b[0m",
      "\u001b[1m\u001b[31m\tat FsmFromMermaid2.parse(#75:30)\u001b[0m",
      "\u001b[1m\u001b[31m\tat .fsmFromMermaid(#79:1)\u001b[0m",
      "\u001b[1m\u001b[31m\tat .do_it$Aux(#84:1)\u001b[0m",
      "\u001b[1m\u001b[31m\tat .(#84:1)\u001b[0m"
     ]
    }
   ],
   "source": [
    "%load fsm\n",
    "var fsm = fsmFromMermaid(\"q-07\", \"10-fsm-a01.dib\");\n",
    "accept(fsm, \"0.1\", \"\",);"
   ]
  },
  {
   "cell_type": "markdown",
   "metadata": {},
   "source": [
    "![q0](img/10-fsm-a01-q8.png)"
   ]
  },
  {
   "cell_type": "markdown",
   "metadata": {},
   "source": [
    "השפה הינה מעל הא\"ב {1,0} כולל המילה הריקה, ומקבלת כל מילה אשר אינה מסתיימת בספרה 1."
   ]
  },
  {
   "cell_type": "code",
   "execution_count": null,
   "metadata": {},
   "outputs": [
    {
     "name": "stdout",
     "output_type": "stream",
     "text": [
      "ERROR: currently only single letters are supported in alef-bet (q2-.->|0.1|q2)\n",
      "ERROR: Determenistic FSM supports only single letter rules: '0.1'\n",
      "ERROR: state 'q0' is not determenistic (transition: '0'); \n",
      "Please specify 'nondetermenistic' flag if it's the intention\n",
      "ERROR: Determenistic FSM supports only single letter rules: '0.1'\n"
     ]
    },
    {
     "ename": "EvalException",
     "evalue": "Index -1 out of bounds for length 3",
     "output_type": "error",
     "traceback": [
      "\u001b[1m\u001b[31m---------------------------------------------------------------------------\u001b[0m",
      "\u001b[1m\u001b[31mjava.lang.ArrayIndexOutOfBoundsException: Index -1 out of bounds for length 3\u001b[0m",
      "\u001b[1m\u001b[31m\tat DetermenisticFsm.<init>(#42:61)\u001b[0m",
      "\u001b[1m\u001b[31m\tat FsmFromMermaid2.parse(#75:30)\u001b[0m",
      "\u001b[1m\u001b[31m\tat .fsmFromMermaid(#79:1)\u001b[0m",
      "\u001b[1m\u001b[31m\tat .do_it$Aux(#84:1)\u001b[0m",
      "\u001b[1m\u001b[31m\tat .(#84:1)\u001b[0m"
     ]
    }
   ],
   "source": [
    "%load fsm\n",
    "var fsm = fsmFromMermaid(\"q-08\", \"10-fsm-a01.dib\");\n",
    "accept(fsm, \"1000\", \"0001\", \"010\", \"10101\");"
   ]
  },
  {
   "cell_type": "markdown",
   "metadata": {},
   "source": [
    "![q0](img/10-fsm-a01-q9.png)"
   ]
  },
  {
   "cell_type": "markdown",
   "metadata": {},
   "source": [
    "השפה הינה מעל הא\"ב {1,0} כולל המילה הריקה, ומקבלת כל מילה אשר מכילה לפחות פעם אחת את הספרה 1 ולא מסתיימת בספרה הזו."
   ]
  },
  {
   "cell_type": "code",
   "execution_count": 15,
   "metadata": {},
   "outputs": [
    {
     "name": "stdout",
     "output_type": "stream",
     "text": [
      "ERROR: currently only single letters are supported in alef-bet (q2-.->|0.1|q2)\n",
      "ERROR: Determenistic FSM supports only single letter rules: '0.1'\n",
      "ERROR: Determenistic FSM supports only single letter rules: '0.1'\n"
     ]
    },
    {
     "ename": "EvalException",
     "evalue": "Index -1 out of bounds for length 3",
     "output_type": "error",
     "traceback": [
      "\u001b[1m\u001b[31m---------------------------------------------------------------------------\u001b[0m",
      "\u001b[1m\u001b[31mjava.lang.ArrayIndexOutOfBoundsException: Index -1 out of bounds for length 3\u001b[0m",
      "\u001b[1m\u001b[31m\tat DetermenisticFsm.<init>(#42:61)\u001b[0m",
      "\u001b[1m\u001b[31m\tat FsmFromMermaid2.parse(#75:30)\u001b[0m",
      "\u001b[1m\u001b[31m\tat .fsmFromMermaid(#79:1)\u001b[0m",
      "\u001b[1m\u001b[31m\tat .do_it$Aux(#84:1)\u001b[0m",
      "\u001b[1m\u001b[31m\tat .(#84:1)\u001b[0m"
     ]
    }
   ],
   "source": [
    "%load fsm\n",
    "var fsm = fsmFromMermaid(\"q-09\", \"10-fsm-a01.dib\");\n",
    "accept(fsm, \"1000\", \"0001\", \"010\", \"10101\");"
   ]
  }
 ],
 "metadata": {
  "kernelspec": {
   "display_name": "Java",
   "language": "java",
   "name": "java"
  },
  "language_info": {
   "codemirror_mode": "java",
   "file_extension": ".jshell",
   "mimetype": "text/x-java-source",
   "name": "java",
   "pygments_lexer": "java",
   "version": "21.0.4+7-LTS"
  }
 },
 "nbformat": 4,
 "nbformat_minor": 2
}
