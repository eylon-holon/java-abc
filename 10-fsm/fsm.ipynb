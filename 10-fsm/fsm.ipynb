{
 "cells": [
  {
   "cell_type": "code",
   "execution_count": 4,
   "metadata": {},
   "outputs": [],
   "source": [
    "%load ../eylon/java-utils\n",
    "%load ../j-core/fsm/FSM\n",
    "%load ../j-core/fsm/FsmParser\n",
    "%load ../j-core/fsm/MermaidFile\n",
    "%load ../j-core/fsm/FsmFromMermaid\n",
    "\n",
    "FSM fsmFromMermaid(String name, String file, boolean... logFlags) { return FsmFromMermaid.parse(name, file, logFlags); }\n",
    "FSM fsm_101() { return FsmFromMermaid.fsm_101(); }"
   ]
  }
 ],
 "metadata": {
  "kernelspec": {
   "display_name": "Java",
   "language": "java",
   "name": "java"
  },
  "language_info": {
   "codemirror_mode": "java",
   "file_extension": ".jshell",
   "mimetype": "text/x-java-source",
   "name": "java",
   "pygments_lexer": "java",
   "version": "23+37-2369"
  }
 },
 "nbformat": 4,
 "nbformat_minor": 2
}
