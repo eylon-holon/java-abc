{
 "cells": [
  {
   "cell_type": "code",
   "execution_count": 1,
   "metadata": {},
   "outputs": [
    {
     "ename": "SyntaxError",
     "evalue": "invalid syntax (1763990082.py, line 7)",
     "output_type": "error",
     "traceback": [
      "\u001b[0;36m  Cell \u001b[0;32mIn[1], line 7\u001b[0;36m\u001b[0m\n\u001b[0;31m    FSM fsm_101() { return FsmFromMermaid.fsm_101(); }\u001b[0m\n\u001b[0m        ^\u001b[0m\n\u001b[0;31mSyntaxError\u001b[0m\u001b[0;31m:\u001b[0m invalid syntax\n"
     ]
    }
   ],
   "source": [
    "%jars ../lib/snakeyaml-2.3.jar\n",
    "%load ../eylon/java-utils\n",
    "%load ../j-core/fsm/FSM\n",
    "%load ../j-core/fsm/DetermenisticFsm\n",
    "%load ../j-core/fsm/NondetermenisticFsm\n",
    "%load ../j-core/fsm/FsmWithStack\n",
    "%load ../j-core/fsm/FsmParser\n",
    "%load ../j-core/fsm/FsmParser2\n",
    "%load ../j-core/fsm/DibFile\n",
    "%load ../j-core/fsm/MermaidFile2\n",
    "%load ../j-core/fsm/FsmFromMermaid2\n",
    "\n",
    "IFSM fsm_101() { return FsmFromMermaid.fsm_101(); }\n",
    "IFSM fsmFromMermaid(String name, String file, boolean... logFlags) { return FsmFromMermaid2.parse(name, file, logFlags); }\n",
    "\n",
    "void accept(IFSM fsm, String... words) {\n",
    "    for (var word: words) {\n",
    "        print(\"'\"+word+\"'\", \":\", fsm.accept(word));\n",
    "    } \n",
    "}\n",
    "\n",
    "void accept(IFSM fsm, boolean log, String... words) {\n",
    "    for (var word: words) {\n",
    "        print(\"'\"+word+\"'\", \":\", fsm.accept(word, log));\n",
    "    } \n",
    "}"
   ]
  }
 ],
 "metadata": {
  "kernelspec": {
   "display_name": "Python 3",
   "language": "python",
   "name": "python3"
  },
  "language_info": {
   "codemirror_mode": {
    "name": "ipython",
    "version": 3
   },
   "file_extension": ".py",
   "mimetype": "text/x-python",
   "name": "python",
   "nbconvert_exporter": "python",
   "pygments_lexer": "ipython3",
   "version": "3.12.1"
  }
 },
 "nbformat": 4,
 "nbformat_minor": 2
}
