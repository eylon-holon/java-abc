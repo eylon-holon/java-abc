{
 "cells": [
  {
   "cell_type": "code",
   "execution_count": 1,
   "metadata": {
    "vscode": {
     "languageId": "java"
    }
   },
   "outputs": [],
   "source": [
    "%load ../eylon/java-utils\n",
    "%load ../j-core/fsm/FSM\n",
    "%load ../j-core/fsm/FsmParser\n",
    "%load ../j-core/fsm/MermaidFile\n",
    "%load ../j-core/fsm/FsmFromMermaid\n",
    "\n",
    "FSM fsm_101() { return FsmFromMermaid.fsm_101(); }\n",
    "FSM fsmFromMermaid(String name, String file, boolean... logFlags) { return FsmFromMermaid.parse(name, file, logFlags); }\n",
    "\n",
    "void accept(FSM fsm, String... words) {\n",
    "    for (var word: words) {\n",
    "        print(\"'\"+word+\"'\", \":\", fsm.accept(word));\n",
    "    } \n",
    "}"
   ]
  }
 ],
 "metadata": {
  "kernelspec": {
   "display_name": "Java",
   "language": "java",
   "name": "java"
  },
  "language_info": {
   "codemirror_mode": "java",
   "file_extension": ".jshell",
   "mimetype": "text/x-java-source",
   "name": "Java",
   "pygments_lexer": "java",
   "version": "23+37-2369"
  }
 },
 "nbformat": 4,
 "nbformat_minor": 2
}
