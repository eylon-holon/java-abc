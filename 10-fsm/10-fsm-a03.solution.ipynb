{
 "cells": [
  {
   "cell_type": "markdown",
   "metadata": {},
   "source": [
    "![q-01](img/10-fsm-a03-q01.png)"
   ]
  },
  {
   "cell_type": "code",
   "execution_count": 7,
   "metadata": {
    "vscode": {
     "languageId": "java"
    }
   },
   "outputs": [
    {
     "name": "stdout",
     "output_type": "stream",
     "text": [
      "'C' : true \n",
      "'1C' : true \n",
      "'C0' : true \n",
      "'1001C0011' : true \n",
      "'' : false \n",
      "'0' : false \n",
      "'1' : false \n",
      "'1101' : false \n",
      "'CC' : false \n",
      "'C100C' : false \n"
     ]
    }
   ],
   "source": [
    "%load fsm\n",
    "var fsm = fsmFromMermaid(\"q-01\", \"10-fsm-a03.solution.dib\");\n",
    "accept(fsm, \"C\", \"1C\", \"C0\", \"1001C0011\");\n",
    "accept(fsm, \"\", \"0\", \"1\", \"1101\", \"CC\", \"C100C\");"
   ]
  },
  {
   "cell_type": "markdown",
   "metadata": {},
   "source": [
    "![q-01](img/10-fsm-a03-q02.png)"
   ]
  },
  {
   "cell_type": "code",
   "execution_count": 9,
   "metadata": {
    "vscode": {
     "languageId": "java"
    }
   },
   "outputs": [
    {
     "name": "stdout",
     "output_type": "stream",
     "text": [
      "FSM['q-02']: accepting word 'baba'\n",
      "  'b': q0 --> q1\n",
      "  'a': q1 --> q3\n",
      "  'b': q3 --> q1\n",
      "  'a': q1 --> q3\n",
      "FSM['q-02']: 'baba' is rejected\n",
      "'baba' : false \n",
      "FSM['q-02']: accepting word 'baab'\n",
      "  'b': q0 --> q1\n",
      "  'a': q1 --> q3\n",
      "  'a': q3 --> q0\n",
      "  'b': q0 --> q1\n",
      "FSM['q-02']: 'baab' is rejected\n",
      "'baab' : false \n"
     ]
    }
   ],
   "source": [
    "%load fsm\n",
    "var fsm = fsmFromMermaid(\"q-02\", \"10-fsm-a03.solution.dib\");\n",
    "accept(fsm, \"baba\", \"baab\");"
   ]
  },
  {
   "cell_type": "markdown",
   "metadata": {},
   "source": [
    "![q-01](img/10-fsm-a03-note-01.png)"
   ]
  },
  {
   "cell_type": "markdown",
   "metadata": {},
   "source": [
    "![q-01](img/10-fsm-a03-q03.png)\n",
    "Add atleast 3 tests of different reminders "
   ]
  },
  {
   "cell_type": "code",
   "execution_count": null,
   "metadata": {
    "vscode": {
     "languageId": "java"
    }
   },
   "outputs": [
    {
     "name": "stdout",
     "output_type": "stream",
     "text": [
      "'0' : true \n",
      "'3' : true \n",
      "'6' : true \n",
      "'9' : true \n",
      "'18' : true \n",
      "'15' : true \n",
      "'123' : true \n",
      "'321' : true \n",
      "'681' : true \n",
      "'111' : true \n",
      "'222' : true \n",
      "'' : false \n",
      "'1' : false \n",
      "'2' : false \n",
      "'4' : false \n",
      "'5' : false \n",
      "'7' : false \n",
      "'8' : false \n",
      "'10' : false \n",
      "'23' : false \n",
      "'34' : false \n",
      "'121' : false \n",
      "'902' : false \n"
     ]
    }
   ],
   "source": [
    "%load fsm\n",
    "var fsm = fsmFromMermaid(\"mod-3\", \"10-fsm-a03.solution.dib\");\n",
    "accept(fsm, \"0\", \"3\", \"6\", \"9\", \"18\", \"15\", \"123\", \"321\", \"681\", \"111\", \"222\");\n",
    "accept(fsm, \"\", \"1\", \"2\", \"4\", \"5\", \"7\", \"8\", \"10\", \"23\", \"34\", \"121\", \"902\");"
   ]
  },
  {
   "cell_type": "markdown",
   "metadata": {},
   "source": [
    "![q-01](img/10-fsm-a03-q04.png)  \n",
    "One of them with tests"
   ]
  },
  {
   "cell_type": "code",
   "execution_count": 18,
   "metadata": {
    "vscode": {
     "languageId": "java"
    }
   },
   "outputs": [
    {
     "name": "stdout",
     "output_type": "stream",
     "text": [
      "'ab' : true \n",
      "'aab' : true \n",
      "'abb' : true \n",
      "'aabb' : true \n",
      "'aaabbb' : true \n",
      "'' : false \n",
      "'a' : false \n",
      "'b' : false \n",
      "'aba' : false \n",
      "'ba' : false \n",
      "'aa' : false \n",
      "'bb' : false \n"
     ]
    }
   ],
   "source": [
    "%load fsm\n",
    "var fsm = fsmFromMermaid(\"a^n-b^n-a\", \"10-fsm-a03.solution.dib\");\n",
    "accept(fsm, \"ab\", \"aab\", \"abb\", \"aabb\", \"aaabbb\");\n",
    "accept(fsm, \"\", \"a\", \"b\", \"aba\", \"ba\", \"aa\", \"bb\");"
   ]
  },
  {
   "cell_type": "code",
   "execution_count": 17,
   "metadata": {
    "vscode": {
     "languageId": "java"
    }
   },
   "outputs": [
    {
     "name": "stdout",
     "output_type": "stream",
     "text": [
      "'a' : true \n",
      "'aa' : true \n",
      "'ab' : true \n",
      "'aab' : true \n",
      "'abb' : true \n",
      "'aabb' : true \n",
      "'' : false \n",
      "'b' : false \n",
      "'aba' : false \n",
      "'ba' : false \n",
      "'bb' : false \n"
     ]
    }
   ],
   "source": [
    "%load fsm\n",
    "var fsm = fsmFromMermaid(\"a^n-b^n-b\", \"10-fsm-a03.solution.dib\");\n",
    "accept(fsm, \"a\", \"aa\", \"ab\", \"aab\", \"abb\", \"aabb\");\n",
    "accept(fsm, \"\", \"b\", \"aba\", \"ba\", \"bb\");"
   ]
  },
  {
   "cell_type": "markdown",
   "metadata": {},
   "source": [
    "![q-01](img/10-fsm-a03-q05-q06.png)  \n",
    "Two of them with tests"
   ]
  },
  {
   "cell_type": "code",
   "execution_count": 21,
   "metadata": {
    "vscode": {
     "languageId": "java"
    }
   },
   "outputs": [
    {
     "name": "stdout",
     "output_type": "stream",
     "text": [
      "'' : true \n",
      "'a' : true \n",
      "'ba' : true \n",
      "'bab' : true \n",
      "'b' : false \n",
      "'ab' : false \n",
      "'bb' : false \n",
      "'aa' : false \n",
      "'aab' : false \n",
      "'aba' : false \n",
      "'baa' : false \n",
      "'abb' : false \n"
     ]
    }
   ],
   "source": [
    "%load fsm\n",
    "var fsm = fsmFromMermaid(\"q-03-a\", \"10-fsm-a03.solution.dib\");\n",
    "accept(fsm, \"\", \"a\", \"ba\", \"bab\");\n",
    "accept(fsm, \"b\", \"ab\", \"bb\", \"aa\", \"aab\", \"aba\", \"baa\", \"abb\");"
   ]
  },
  {
   "cell_type": "code",
   "execution_count": 31,
   "metadata": {
    "vscode": {
     "languageId": "java"
    }
   },
   "outputs": [
    {
     "name": "stdout",
     "output_type": "stream",
     "text": [
      "'' : true \n",
      "'aaa' : true \n",
      "'ab' : true \n",
      "'aaaab' : true \n",
      "'aabb' : true \n",
      "'aaaaabb' : true \n",
      "'b' : false \n",
      "'bb' : false \n",
      "'a' : false \n",
      "'abb' : false \n",
      "'abbb' : false \n",
      "'aaaa' : false \n",
      "'aaaabb' : false \n",
      "'aaaabbb' : false \n",
      "'aa' : false \n",
      "'aab' : false \n",
      "'aabbb' : false \n",
      "'aaaaa' : false \n",
      "'aaaaab' : false \n",
      "'aaaaabbb' : false \n"
     ]
    }
   ],
   "source": [
    "%load fsm\n",
    "var fsm = fsmFromMermaid(\"q-03-b\", \"10-fsm-a03.solution.dib\");\n",
    "accept(fsm, \"\", \"aaa\", \"ab\", \"aaaab\", \"aabb\", \"aaaaabb\");\n",
    "accept(fsm, \"b\", \"bb\", \"a\", \"abb\", \"abbb\", \"aaaa\", \"aaaabb\", \"aaaabbb\", \"aa\", \"aab\", \"aabbb\", \"aaaaa\", \"aaaaab\", \"aaaaabbb\");\n"
   ]
  },
  {
   "cell_type": "code",
   "execution_count": null,
   "metadata": {
    "vscode": {
     "languageId": "java"
    }
   },
   "outputs": [
    {
     "name": "stdout",
     "output_type": "stream",
     "text": [
      "'' : true \n",
      "'bbb' : true \n",
      "'bbbbbb' : true \n",
      "'ab' : true \n",
      "'abbbb' : true \n",
      "'abbbbbbb' : true \n",
      "'aaaab' : true \n",
      "'aaaabbbb' : true \n",
      "'aaaabbbbbbb' : true \n",
      "'aabb' : true \n",
      "'aabbbbb' : true \n",
      "'aabbbbbbbb' : true \n",
      "'aaaaabb' : true \n",
      "'aaaaabbbbb' : true \n",
      "'aaaaabbbbbbbb' : true \n",
      "'b' : false \n",
      "'bb' : false \n",
      "'bbbb' : false \n",
      "'bbbbb' : false \n",
      "'a' : false \n",
      "'abb' : false \n",
      "'abbb' : false \n",
      "'aaaabb' : false \n",
      "'aaaabb' : false \n",
      "'aaaabbbbb' : false \n",
      "'aa' : false \n",
      "'abbb' : false \n",
      "'aabbbb' : false \n",
      "'aaaaabbb' : false \n",
      "'aaaaabbb' : false \n",
      "'aaaaabbbbbb' : false \n"
     ]
    }
   ],
   "source": [
    "%load fsm\n",
    "var fsm = fsmFromMermaid(\"q-03-c\", \"10-fsm-a03.solution.dib\");\n",
    "\n",
    "accept(fsm, \"\", \"bbb\", \"bbbbbb\");\n",
    "accept(fsm, \"ab\", \"abbbb\", \"abbbbbbb\", \"aaaab\", \"aaaabbbb\", \"aaaabbbbbbb\");\n",
    "accept(fsm, \"aabb\", \"aabbbbb\", \"aabbbbbbbb\", \"aaaaabb\", \"aaaaabbbbb\", \"aaaaabbbbbbbb\");\n",
    "\n",
    "accept(fsm, \"b\", \"bb\", \"bbbb\", \"bbbbb\");\n",
    "accept(fsm, \"a\", \"abb\", \"abbb\", \"aaaabb\", \"aaaabb\", \"aaaabbbbb\");\n",
    "accept(fsm, \"aa\", \"abbb\", \"aabbbb\", \"aaaaabbb\", \"aaaaabbb\", \"aaaaabbbbbb\");\n"
   ]
  },
  {
   "cell_type": "code",
   "execution_count": 2,
   "metadata": {
    "vscode": {
     "languageId": "java"
    }
   },
   "outputs": [
    {
     "name": "stdout",
     "output_type": "stream",
     "text": [
      "'' : true \n",
      "'ab' : true \n",
      "'bb' : true \n",
      "'abab' : true \n",
      "'abbb' : true \n",
      "'abbbbb' : true \n",
      "'abababbb' : true \n",
      "'ababbaba' : true \n",
      "'ababbbbbabba' : true \n",
      "'a' : false \n",
      "'b' : false \n",
      "'aa' : false \n",
      "'abaa' : false \n",
      "'baab' : false \n",
      "'ababbab' : false \n",
      "'bab' : false \n",
      "'aba' : false \n"
     ]
    }
   ],
   "source": [
    "%load fsm\n",
    "var fsm = fsmFromMermaid(\"q-03-d\", \"10-fsm-a03.solution.dib\");\n",
    "\n",
    "accept(fsm, \"\", \"ab\", \"bb\", \"abab\", \"abbb\", \"abbbbb\", \"abababbb\", \"ababbaba\", \"ababbbbbabba\");\n",
    "accept(fsm, \"a\", \"b\", \"aa\", \"abaa\", \"baab\", \"ababbab\", \"bab\", \"aba\");\n"
   ]
  }
 ],
 "metadata": {
  "kernelspec": {
   "display_name": "Java",
   "language": "java",
   "name": "java"
  },
  "language_info": {
   "codemirror_mode": "java",
   "file_extension": ".jshell",
   "mimetype": "text/x-java-source",
   "name": "Java",
   "pygments_lexer": "java",
   "version": "23+37-2369"
  }
 },
 "nbformat": 4,
 "nbformat_minor": 2
}
