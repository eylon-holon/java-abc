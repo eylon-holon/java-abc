{
 "cells": [
  {
   "cell_type": "markdown",
   "metadata": {},
   "source": [
    "![h1](img/10-fsm-02-h1.png)\n",
    "![h2](img/10-fsm-02-h2.png)"
   ]
  },
  {
   "cell_type": "markdown",
   "metadata": {},
   "source": [
    "![q-01](img/10-fsm-a02-q01-alef.png)"
   ]
  },
  {
   "cell_type": "code",
   "execution_count": 5,
   "metadata": {
    "vscode": {
     "languageId": "java"
    }
   },
   "outputs": [
    {
     "name": "stdout",
     "output_type": "stream",
     "text": [
      "FSM['Alef']: accepting word '101'\n",
      "  '1': q0 --> q1\n",
      "  '0': q1 --> q1\n",
      "  '1': q1 --> q1\n",
      "FSM['Alef']: '101' is accepted\n",
      "'101' : true \n",
      "FSM['Alef']: accepting word '110111'\n",
      "  '1': q0 --> q1\n",
      "  '1': q1 --> q1\n",
      "  '0': q1 --> q1\n",
      "  '1': q1 --> q1\n",
      "  '1': q1 --> q1\n",
      "  '1': q1 --> q1\n",
      "FSM['Alef']: '110111' is accepted\n",
      "'110111' : true \n",
      "FSM['Alef']: accepting word '001'\n",
      "  '0': q0 --> q2\n",
      "  '0': q2 --> q2\n",
      "  '1': q2 --> q2\n",
      "FSM['Alef']: '001' is wrong\n",
      "'001' : false \n"
     ]
    }
   ],
   "source": [
    "%load fsm\n",
    "var fsm = fsmFromMermaid(\"Alef\", \"10-fsm-a02.dib\");\n",
    "accept(fsm, true, \"101\", \"110111\", \"001\");"
   ]
  },
  {
   "cell_type": "markdown",
   "metadata": {},
   "source": [
    "![q-01](img/10-fsm-a02-q02-bet.png)"
   ]
  },
  {
   "cell_type": "code",
   "execution_count": 9,
   "metadata": {
    "vscode": {
     "languageId": "java"
    }
   },
   "outputs": [
    {
     "name": "stdout",
     "output_type": "stream",
     "text": [
      "FSM['Bet']: accepting word '001'\n",
      "  '0': q0 --> q1\n",
      "  '0': q1 --> q1\n",
      "  '1': q1 --> q1\n",
      "FSM['Bet']: '001' is accepted\n",
      "'001' : true \n",
      "FSM['Bet']: accepting word '0101'\n",
      "  '0': q0 --> q1\n",
      "  '1': q1 --> q1\n",
      "  '0': q1 --> q1\n",
      "  '1': q1 --> q1\n",
      "FSM['Bet']: '0101' is accepted\n",
      "'0101' : true \n",
      "FSM['Bet']: accepting word '10'\n",
      "  '1': q0 --> q0\n",
      "  '0': q0 --> q1\n",
      "FSM['Bet']: '10' is accepted\n",
      "'10' : true \n"
     ]
    }
   ],
   "source": [
    "%load fsm\n",
    "var fsm = fsmFromMermaid(\"Bet\", \"10-fsm-a02.dib\");\n",
    "accept(fsm, true, \"001\", \"0101\", \"10\");"
   ]
  },
  {
   "cell_type": "markdown",
   "metadata": {},
   "source": [
    "![q-01](img/10-fsm-a02-q03-gimel.png)"
   ]
  },
  {
   "cell_type": "code",
   "execution_count": 11,
   "metadata": {
    "vscode": {
     "languageId": "java"
    }
   },
   "outputs": [
    {
     "name": "stdout",
     "output_type": "stream",
     "text": [
      "FSM['Gimel']: accepting word '0110'\n",
      "  '0': q0 --> q0\n",
      "  '1': q0 --> q0\n",
      "  '1': q0 --> q0\n",
      "  '0': q0 --> q0\n",
      "FSM['Gimel']: '0110' is wrong\n",
      "'0110' : false \n",
      "FSM['Gimel']: accepting word '1101'\n",
      "  '1': q0 --> q0\n",
      "  '1': q0 --> q0\n",
      "  '0': q0 --> q0\n",
      "  '1': q0 --> q0\n",
      "FSM['Gimel']: '1101' is wrong\n",
      "'1101' : false \n"
     ]
    }
   ],
   "source": [
    "%load fsm\n",
    "var fsm = fsmFromMermaid(\"Gimel\", \"10-fsm-a02.dib\");\n",
    "accept(fsm, true, \"0110\", \"1101\");"
   ]
  },
  {
   "cell_type": "markdown",
   "metadata": {},
   "source": [
    "![q-01](img/10-fsm-a02-q04-daled.png)"
   ]
  },
  {
   "cell_type": "code",
   "execution_count": 13,
   "metadata": {
    "vscode": {
     "languageId": "java"
    }
   },
   "outputs": [
    {
     "name": "stdout",
     "output_type": "stream",
     "text": [
      "FSM['Daled']: accepting word '11011'\n",
      "  '1': q0 --> q1\n",
      "  '1': q1 --> q1\n",
      "  '0': q1 --> q0\n",
      "  '1': q0 --> q1\n",
      "  '1': q1 --> q1\n",
      "FSM['Daled']: '11011' is accepted\n",
      "'11011' : true \n",
      "FSM['Daled']: accepting word '11110'\n",
      "  '1': q0 --> q1\n",
      "  '1': q1 --> q1\n",
      "  '1': q1 --> q1\n",
      "  '1': q1 --> q1\n",
      "  '0': q1 --> q0\n",
      "FSM['Daled']: '11110' is wrong\n",
      "'11110' : false \n"
     ]
    }
   ],
   "source": [
    "%load fsm\n",
    "var fsm = fsmFromMermaid(\"Daled\", \"10-fsm-a02.dib\");\n",
    "accept(fsm, true, \"11011\", \"11110\");"
   ]
  },
  {
   "cell_type": "markdown",
   "metadata": {},
   "source": [
    "![q-01](img/10-fsm-a02-q05-hei.png)"
   ]
  },
  {
   "cell_type": "code",
   "execution_count": 14,
   "metadata": {
    "vscode": {
     "languageId": "java"
    }
   },
   "outputs": [
    {
     "name": "stdout",
     "output_type": "stream",
     "text": [
      "FSM['Hei']: accepting word '011'\n",
      "  '0': q0 --> q0\n",
      "  '1': q0 --> q1\n",
      "  '1': q1 --> q1\n",
      "FSM['Hei']: '011' is accepted\n",
      "'011' : true \n",
      "FSM['Hei']: accepting word '1011'\n",
      "  '1': q0 --> q1\n",
      "  '0': q1 --> q1\n",
      "  '1': q1 --> q1\n",
      "  '1': q1 --> q1\n",
      "FSM['Hei']: '1011' is accepted\n",
      "'1011' : true \n"
     ]
    }
   ],
   "source": [
    "%load fsm\n",
    "var fsm = fsmFromMermaid(\"Hei\", \"10-fsm-a02.dib\");\n",
    "accept(fsm, true, \"011\", \"1011\");"
   ]
  },
  {
   "cell_type": "markdown",
   "metadata": {},
   "source": [
    "![q-01](img/10-fsm-a02-q06-vav.png)"
   ]
  },
  {
   "cell_type": "code",
   "execution_count": null,
   "metadata": {
    "vscode": {
     "languageId": "java"
    }
   },
   "outputs": [],
   "source": [
    "%load fsm\n",
    "var fsm = fsmFromMermaid(\"Vav\", \"10-fsm-a02.dib\");\n",
    "accept(fsm, true, \"\");"
   ]
  },
  {
   "cell_type": "markdown",
   "metadata": {},
   "source": [
    "![q-01](img/10-fsm-a02-q07-zain.png)"
   ]
  },
  {
   "cell_type": "code",
   "execution_count": null,
   "metadata": {
    "vscode": {
     "languageId": "java"
    }
   },
   "outputs": [],
   "source": [
    "%load fsm\n",
    "var fsm = fsmFromMermaid(\"Zain\", \"10-fsm-a02.dib\");\n",
    "accept(fsm, true, \"\");"
   ]
  },
  {
   "cell_type": "markdown",
   "metadata": {},
   "source": [
    "![q-01](img/10-fsm-a02-q08-het.png)"
   ]
  },
  {
   "cell_type": "code",
   "execution_count": null,
   "metadata": {
    "vscode": {
     "languageId": "java"
    }
   },
   "outputs": [],
   "source": [
    "%load fsm\n",
    "var fsm = fsmFromMermaid(\"Het\", \"10-fsm-a02.dib\");\n",
    "accept(fsm, true, \"\");"
   ]
  },
  {
   "cell_type": "markdown",
   "metadata": {},
   "source": [
    "![q-01](img/10-fsm-a02-q09-tet.png)"
   ]
  },
  {
   "cell_type": "code",
   "execution_count": null,
   "metadata": {
    "vscode": {
     "languageId": "java"
    }
   },
   "outputs": [],
   "source": [
    "%load fsm\n",
    "var fsm = fsmFromMermaid(\"Tet\", \"10-fsm-a02.dib\");\n",
    "accept(fsm, true, \"\");"
   ]
  },
  {
   "cell_type": "markdown",
   "metadata": {},
   "source": [
    "![q-01](img/10-fsm-a02-q10-yud.png)"
   ]
  },
  {
   "cell_type": "code",
   "execution_count": null,
   "metadata": {
    "vscode": {
     "languageId": "java"
    }
   },
   "outputs": [],
   "source": [
    "%load fsm\n",
    "var fsm = fsmFromMermaid(\"Yud\", \"10-fsm-a02.dib\");\n",
    "accept(fsm, true, \"\");"
   ]
  }
 ],
 "metadata": {
  "kernelspec": {
   "display_name": "Java",
   "language": "java",
   "name": "java"
  },
  "language_info": {
   "codemirror_mode": "java",
   "file_extension": ".jshell",
   "mimetype": "text/x-java-source",
   "name": "Java",
   "pygments_lexer": "java",
   "version": "21.0.4+7-LTS"
  }
 },
 "nbformat": 4,
 "nbformat_minor": 2
}
