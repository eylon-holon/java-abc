{
 "cells": [
  {
   "cell_type": "markdown",
   "metadata": {},
   "source": [
    "![h1](img/10-fsm-02-h1.png)\n",
    "![h2](img/10-fsm-02-h2.png)"
   ]
  },
  {
   "cell_type": "markdown",
   "metadata": {},
   "source": [
    "![q-01](img/10-fsm-a02-q01-alef.png)"
   ]
  },
  {
   "cell_type": "code",
   "execution_count": 6,
   "metadata": {},
   "outputs": [
    {
     "name": "stdout",
     "output_type": "stream",
     "text": [
      "FSM['Alef']: accepting word ''\n",
      "FSM['Alef']: '' is rejected\n",
      "'' : false \n",
      "FSM['Alef']: accepting word '01'\n",
      "  '0': q0 --> q0\n",
      "  '1': q0 --> q2\n",
      "FSM['Alef']: '01' is rejected\n",
      "'01' : false \n",
      "FSM['Alef']: accepting word '11'\n",
      "  '1': q0 --> q2\n",
      "  '1': q2 --> q1\n",
      "FSM['Alef']: '11' is accepted\n",
      "'11' : true \n",
      "FSM['Alef']: accepting word '10'\n",
      "  '1': q0 --> q2\n",
      "  '0': q2 --> q1\n",
      "FSM['Alef']: '10' is accepted\n",
      "'10' : true \n"
     ]
    }
   ],
   "source": [
    "%load fsm\n",
    "var fsm = fsmFromMermaid(\"Alef\", \"10-fsm-a02.dib\");\n",
    "accept(fsm, true, \"\",\"01\",\"11\",\"10\");"
   ]
  },
  {
   "cell_type": "code",
   "execution_count": null,
   "metadata": {},
   "outputs": [
    {
     "name": "stdout",
     "output_type": "stream",
     "text": [
      "'1' : false \n",
      "'10' : true \n",
      "'11' : true \n",
      "  'q1': No transition for '1' is defined\n",
      "'10101' : false \n",
      "'' : false \n",
      "'01' : false \n",
      "  'q1': No transition for '1' is defined\n",
      "'0111' : false \n",
      "  'q1': No transition for '0' is defined\n",
      "'000110101' : false \n"
     ]
    }
   ],
   "source": [
    "// GOSHA: accepted / rejected\n",
    "accept(fsm, \"1\", \"10\", \"11\", \"10101\");\n",
    "accept(fsm, \"\", \"01\", \"0111\", \"000110101\");"
   ]
  },
  {
   "cell_type": "markdown",
   "metadata": {},
   "source": [
    "![q-01](img/10-fsm-a02-q02-bet.png)"
   ]
  },
  {
   "cell_type": "code",
   "execution_count": 8,
   "metadata": {},
   "outputs": [
    {
     "name": "stdout",
     "output_type": "stream",
     "text": [
      "FSM['Bet']: accepting word ''\n",
      "FSM['Bet']: '' is rejected\n",
      "'' : false \n",
      "FSM['Bet']: accepting word '01'\n",
      "  '0': q0 --> q2\n",
      "  '1': q2 --> q1\n",
      "FSM['Bet']: '01' is accepted\n",
      "'01' : true \n",
      "FSM['Bet']: accepting word '11'\n",
      "  '1': q0 --> q2\n",
      "  '1': q2 --> q1\n",
      "FSM['Bet']: '11' is accepted\n",
      "'11' : true \n",
      "FSM['Bet']: accepting word '10'\n",
      "  '1': q0 --> q2\n",
      "  'q2': No transition for '0' is defined\n",
      "'10' : false \n"
     ]
    }
   ],
   "source": [
    "%load fsm\n",
    "var fsm = fsmFromMermaid(\"Bet\", \"10-fsm-a02.dib\");\n",
    "accept(fsm, true, \"\",\"01\",\"11\",\"10\");"
   ]
  },
  {
   "cell_type": "code",
   "execution_count": null,
   "metadata": {},
   "outputs": [
    {
     "name": "stdout",
     "output_type": "stream",
     "text": [
      "'1' : false \n",
      "'01' : true \n",
      "'11' : true \n",
      "  'q2': No transition for '0' is defined\n",
      "'10101' : false \n",
      "'' : false \n",
      "  'q2': No transition for '0' is defined\n",
      "'10' : false \n",
      "'010' : true \n",
      "  'q2': No transition for '0' is defined\n",
      "'0001101010' : false \n"
     ]
    }
   ],
   "source": [
    "// GOSHA: accepted / rejected\n",
    "accept(fsm, \"1\", \"01\", \"11\", \"10101\");\n",
    "accept(fsm, \"\", \"10\", \"010\", \"0001101010\");"
   ]
  },
  {
   "cell_type": "markdown",
   "metadata": {},
   "source": [
    "![q-01](img/10-fsm-a02-q03-gimel.png)"
   ]
  },
  {
   "cell_type": "code",
   "execution_count": null,
   "metadata": {},
   "outputs": [
    {
     "name": "stdout",
     "output_type": "stream",
     "text": [
      "FSM['Gimel']: accepting word ''\n",
      "FSM['Gimel']: '' is wrong\n",
      "'' : false \n",
      "FSM['Gimel']: accepting word '01'\n",
      "  '0': q0 --> q0\n",
      "  '1': q0 --> q1\n",
      "FSM['Gimel']: '01' is accepted\n",
      "'01' : true \n",
      "FSM['Gimel']: accepting word '11'\n",
      "  '1': q0 --> q1\n",
      "  '1': q1 --> q1\n",
      "FSM['Gimel']: '11' is accepted\n",
      "'11' : true \n",
      "FSM['Gimel']: accepting word '10'\n",
      "  '1': q0 --> q1\n",
      "ERROR in q1: No transition for '0' is defined\n",
      "'10' : false \n"
     ]
    }
   ],
   "source": [
    "%load fsm\n",
    "var fsm = fsmFromMermaid(\"Gimel\", \"10-fsm-a02.dib\");\n",
    "accept(fsm, true, \"\",\"01\",\"11\",\"10\");\n",
    "// GOSHA: look tests in solutions"
   ]
  },
  {
   "cell_type": "markdown",
   "metadata": {},
   "source": [
    "![q-01](img/10-fsm-a02-q04-daled.png)"
   ]
  },
  {
   "cell_type": "code",
   "execution_count": null,
   "metadata": {},
   "outputs": [
    {
     "name": "stdout",
     "output_type": "stream",
     "text": [
      "FSM['Daled']: accepting word ''\n",
      "FSM['Daled']: '' is wrong\n",
      "'' : false \n",
      "FSM['Daled']: accepting word '01'\n",
      "  '0': q0 --> q0\n",
      "  '1': q0 --> q2\n",
      "FSM['Daled']: '01' is wrong\n",
      "'01' : false \n",
      "FSM['Daled']: accepting word '11'\n",
      "  '1': q0 --> q2\n",
      "  '1': q2 --> q1\n",
      "FSM['Daled']: '11' is accepted\n",
      "'11' : true \n",
      "FSM['Daled']: accepting word '10'\n",
      "  '1': q0 --> q2\n",
      "  '0': q2 --> q2\n",
      "FSM['Daled']: '10' is wrong\n",
      "'10' : false \n",
      "FSM['Daled']: accepting word '110'\n",
      "  '1': q0 --> q2\n",
      "  '1': q2 --> q1\n",
      "  '0': q1 --> q1\n",
      "FSM['Daled']: '110' is accepted\n",
      "'110' : true \n"
     ]
    }
   ],
   "source": [
    "%load fsm\n",
    "var fsm = fsmFromMermaid(\"Daled\", \"10-fsm-a02.dib\");\n",
    "accept(fsm, true, \"\",\"01\",\"11\",\"10\",\"110\");\n",
    "// GOSHA: X; look tests in solutions"
   ]
  },
  {
   "cell_type": "markdown",
   "metadata": {},
   "source": [
    "![q-01](img/10-fsm-a02-q05-hei.png)"
   ]
  },
  {
   "cell_type": "code",
   "execution_count": null,
   "metadata": {},
   "outputs": [
    {
     "name": "stdout",
     "output_type": "stream",
     "text": [
      "FSM['Hei']: accepting word ''\n",
      "FSM['Hei']: '' is wrong\n",
      "'' : false \n",
      "FSM['Hei']: accepting word '01'\n",
      "  '0': q0 --> q2\n",
      "  '1': q2 --> q3\n",
      "FSM['Hei']: '01' is wrong\n",
      "'01' : false \n",
      "FSM['Hei']: accepting word '11'\n",
      "  '1': q0 --> q2\n",
      "  '1': q2 --> q3\n",
      "FSM['Hei']: '11' is wrong\n",
      "'11' : false \n",
      "FSM['Hei']: accepting word '10'\n",
      "  '1': q0 --> q2\n",
      "  '0': q2 --> q2\n",
      "FSM['Hei']: '10' is wrong\n",
      "'10' : false \n",
      "FSM['Hei']: accepting word '110'\n",
      "  '1': q0 --> q2\n",
      "  '1': q2 --> q3\n",
      "  '0': q3 --> q3\n",
      "FSM['Hei']: '110' is wrong\n",
      "'110' : false \n",
      "FSM['Hei']: accepting word '011'\n",
      "  '0': q0 --> q2\n",
      "  '1': q2 --> q3\n",
      "  '1': q3 --> q1\n",
      "FSM['Hei']: '011' is accepted\n",
      "'011' : true \n"
     ]
    }
   ],
   "source": [
    "%load fsm\n",
    "var fsm = fsmFromMermaid(\"Hei\", \"10-fsm-a02.dib\");\n",
    "accept(fsm, true, \"\",\"01\",\"11\",\"10\",\"110\",\"011\");\n",
    "// GOSHA: X; look tests in solutions"
   ]
  },
  {
   "cell_type": "markdown",
   "metadata": {},
   "source": [
    "![q-01](img/10-fsm-a02-q06-vav.png)"
   ]
  },
  {
   "cell_type": "code",
   "execution_count": null,
   "metadata": {},
   "outputs": [],
   "source": [
    "%load fsm\n",
    "var fsm = fsmFromMermaid(\"Vav\", \"10-fsm-a02.dib\");\n",
    "accept(fsm, true, \"\");\n",
    "// GOSHA: missing tests"
   ]
  },
  {
   "cell_type": "markdown",
   "metadata": {},
   "source": [
    "![q-01](img/10-fsm-a02-q07-zain.png)"
   ]
  },
  {
   "cell_type": "code",
   "execution_count": null,
   "metadata": {},
   "outputs": [],
   "source": [
    "%load fsm\n",
    "var fsm = fsmFromMermaid(\"Zain\", \"10-fsm-a02.dib\");\n",
    "accept(fsm, true, \"\");\n",
    "// GOSHA: missing tests"
   ]
  },
  {
   "cell_type": "markdown",
   "metadata": {},
   "source": [
    "![q-01](img/10-fsm-a02-q08-het.png)"
   ]
  },
  {
   "cell_type": "code",
   "execution_count": null,
   "metadata": {},
   "outputs": [],
   "source": [
    "%load fsm\n",
    "var fsm = fsmFromMermaid(\"Het\", \"10-fsm-a02.dib\");\n",
    "accept(fsm, true, \"\");"
   ]
  },
  {
   "cell_type": "markdown",
   "metadata": {},
   "source": [
    "![q-01](img/10-fsm-a02-q09-tet.png)"
   ]
  },
  {
   "cell_type": "code",
   "execution_count": null,
   "metadata": {},
   "outputs": [],
   "source": [
    "%load fsm\n",
    "var fsm = fsmFromMermaid(\"Tet\", \"10-fsm-a02.dib\");\n",
    "accept(fsm, true, \"\");"
   ]
  },
  {
   "cell_type": "markdown",
   "metadata": {},
   "source": [
    "![q-01](img/10-fsm-a02-q10-yud.png)"
   ]
  },
  {
   "cell_type": "code",
   "execution_count": null,
   "metadata": {},
   "outputs": [],
   "source": [
    "%load fsm\n",
    "var fsm = fsmFromMermaid(\"Yud\", \"10-fsm-a02.dib\");\n",
    "accept(fsm, true, \"\");"
   ]
  }
 ],
 "metadata": {
  "kernelspec": {
   "display_name": "Java",
   "language": "java",
   "name": "java"
  },
  "language_info": {
   "codemirror_mode": "java",
   "file_extension": ".jshell",
   "mimetype": "text/x-java-source",
   "name": "java",
   "pygments_lexer": "java",
   "version": "21.0.4+7-LTS"
  }
 },
 "nbformat": 4,
 "nbformat_minor": 2
}
