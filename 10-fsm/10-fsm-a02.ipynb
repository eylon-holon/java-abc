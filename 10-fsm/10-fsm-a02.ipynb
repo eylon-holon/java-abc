{
 "cells": [
  {
   "cell_type": "markdown",
   "metadata": {},
   "source": [
    "![h1](img/10-fsm-02-h1.png)\n",
    "![h2](img/10-fsm-02-h2.png)"
   ]
  },
  {
   "cell_type": "markdown",
   "metadata": {},
   "source": [
    "![q-01](img/10-fsm-a02-q01-alef.png)"
   ]
  },
  {
   "cell_type": "code",
   "execution_count": 6,
   "metadata": {},
   "outputs": [
    {
     "name": "stdout",
     "output_type": "stream",
     "text": [
      "'' : false \n",
      "'0' : false \n",
      "'1010101010' : true \n",
      "'000111' : false \n"
     ]
    }
   ],
   "source": [
    "%load fsm\n",
    "var fsm = fsmFromMermaid(\"Alef\", \"10-fsm-a02.dib\");\n",
    "accept(fsm, false, \"\", \"0\", \"1010101010\", \"000111\");"
   ]
  },
  {
   "cell_type": "markdown",
   "metadata": {},
   "source": [
    "![q-01](img/10-fsm-a02-q02-bet.png)"
   ]
  },
  {
   "cell_type": "code",
   "execution_count": 20,
   "metadata": {},
   "outputs": [
    {
     "name": "stdout",
     "output_type": "stream",
     "text": [
      "'' : false \n",
      "'0' : false \n",
      "'1010101010' : false \n",
      "'000111' : true \n"
     ]
    }
   ],
   "source": [
    "%load fsm\n",
    "var fsm = fsmFromMermaid(\"Bet\", \"10-fsm-a02.dib\");\n",
    "accept(fsm, false, \"\", \"0\", \"1010101010\", \"000111\");"
   ]
  },
  {
   "cell_type": "code",
   "execution_count": 21,
   "metadata": {},
   "outputs": [
    {
     "name": "stdout",
     "output_type": "stream",
     "text": [
      "FSM['Bet']: accepting word '1'\n",
      "  '1': q0 --> q1\n",
      "FSM['Bet']: '1' is rejected\n",
      "'1' : false \n"
     ]
    }
   ],
   "source": [
    "// GOSHA: should be accepted\n",
    "accept(fsm, true, \"1\");"
   ]
  },
  {
   "cell_type": "markdown",
   "metadata": {},
   "source": [
    "![q-01](img/10-fsm-a02-q03-gimel.png)"
   ]
  },
  {
   "cell_type": "code",
   "execution_count": 15,
   "metadata": {},
   "outputs": [
    {
     "name": "stdout",
     "output_type": "stream",
     "text": [
      "'' : false \n",
      "'0' : false \n",
      "'1010101010' : true \n",
      "'000111' : true \n"
     ]
    }
   ],
   "source": [
    "%load fsm\n",
    "var fsm = fsmFromMermaid(\"Gimel\", \"10-fsm-a02.dib\");\n",
    "accept(fsm, false, \"\", \"0\", \"1010101010\", \"000111\");"
   ]
  },
  {
   "cell_type": "markdown",
   "metadata": {},
   "source": [
    "![q-01](img/10-fsm-a02-q04-daled.png)"
   ]
  },
  {
   "cell_type": "code",
   "execution_count": 18,
   "metadata": {},
   "outputs": [
    {
     "name": "stdout",
     "output_type": "stream",
     "text": [
      "'' : false \n",
      "'0' : false \n",
      "'1010101010' : false \n",
      "'000111' : false \n",
      "'11' : true \n",
      "'11000001110' : true \n"
     ]
    }
   ],
   "source": [
    "%load fsm\n",
    "var fsm = fsmFromMermaid(\"Daled\", \"10-fsm-a02.dib\");\n",
    "accept(fsm, false, \"\", \"0\", \"1010101010\", \"000111\", \"11\", \"11000001110\");"
   ]
  },
  {
   "cell_type": "markdown",
   "metadata": {},
   "source": [
    "![q-01](img/10-fsm-a02-q05-hei.png)"
   ]
  },
  {
   "cell_type": "code",
   "execution_count": 23,
   "metadata": {},
   "outputs": [
    {
     "name": "stdout",
     "output_type": "stream",
     "text": [
      "'' : false \n",
      "'0' : false \n",
      "'1010101010' : false \n",
      "'000111' : true \n",
      "'11' : true \n",
      "'1100000111' : true \n"
     ]
    }
   ],
   "source": [
    "%load fsm\n",
    "// GOSHA: correct, but q0 and q1 can be removed; think why\n",
    "var fsm = fsmFromMermaid(\"Hei\", \"10-fsm-a02.dib\");\n",
    "accept(fsm, false, \"\", \"0\", \"1010101010\", \"000111\", \"11\", \"1100000111\");"
   ]
  },
  {
   "cell_type": "markdown",
   "metadata": {},
   "source": [
    "![q-01](img/10-fsm-a02-q06-vav.png)"
   ]
  },
  {
   "cell_type": "code",
   "execution_count": null,
   "metadata": {},
   "outputs": [
    {
     "name": "stdout",
     "output_type": "stream",
     "text": [
      "ERROR: state 'q3' is not determenistic (transition: '0'); \n",
      "Please specify 'nondetermenistic' flag if it's the intention\n",
      "'' : false \n",
      "'0' : false \n",
      "'10101101010' : true \n",
      "'000111' : true \n",
      "'11' : true \n",
      "'1100000111' : true \n"
     ]
    }
   ],
   "source": [
    "%load fsm\n",
    "// GOSHA: Looks almost same as previous. Can't be correct\n",
    "// GOSHA: state q3 is not determenistic\n",
    "var fsm = fsmFromMermaid(\"Vav\", \"10-fsm-a02.dib\");\n",
    "accept(fsm, false, \"\", \"0\", \"10101101010\", \"000111\", \"11\", \"1100000111\");"
   ]
  },
  {
   "cell_type": "markdown",
   "metadata": {},
   "source": [
    "![q-01](img/10-fsm-a02-q07-zain.png)"
   ]
  },
  {
   "cell_type": "code",
   "execution_count": 22,
   "metadata": {},
   "outputs": [
    {
     "name": "stdout",
     "output_type": "stream",
     "text": [
      "ERROR: state 'q3' is not determenistic (transition: '0'); \n",
      "Please specify 'nondetermenistic' flag if it's the intention\n",
      "'' : true \n",
      "'0' : true \n",
      "'10101101010' : false \n",
      "'000111' : false \n",
      "'11' : false \n",
      "'1100000111' : false \n"
     ]
    }
   ],
   "source": [
    "%load fsm\n",
    "// GOSHA: Would be correct if the previous is correct\n",
    "var fsm = fsmFromMermaid(\"Zain\", \"10-fsm-a02.dib\");\n",
    "accept(fsm, false, \"\", \"0\", \"10101101010\", \"000111\", \"11\", \"1100000111\");"
   ]
  },
  {
   "cell_type": "markdown",
   "metadata": {},
   "source": [
    "![q-01](img/10-fsm-a02-q08-het.png)"
   ]
  },
  {
   "cell_type": "code",
   "execution_count": null,
   "metadata": {},
   "outputs": [
    {
     "name": "stdout",
     "output_type": "stream",
     "text": [
      "ERROR: state 'q4' is not determenistic (transition: '0'); \n",
      "Please specify 'nondetermenistic' flag if it's the intention\n",
      "'' : false \n",
      "'0' : false \n",
      "'10101101010' : true \n",
      "'000111' : false \n",
      "'11' : false \n",
      "'1100000111' : false \n",
      "'1011' : true \n",
      "'10011' : false \n",
      "FSM['Het']: accepting word '101011'\n",
      "  '1': q0 --> q1\n",
      "  '0': q1 --> q3\n",
      "  '1': q3 --> q5\n",
      "  '0': q5 --> q3\n",
      "  '1': q3 --> q5\n",
      "  '1': q5 --> q6\n",
      "FSM['Het']: '101011' is accepted\n",
      "'101011' : true \n"
     ]
    }
   ],
   "source": [
    "%load fsm\n",
    "var fsm = fsmFromMermaid(\"Het\", \"10-fsm-a02.dib\");\n",
    "accept(fsm, false, \"\", \"0\", \"10101101010\", \"000111\", \"11\", \"1100000111\", \"1011\", \"10011\");\n",
    "accept(fsm, true, \"101011\");    // GOSHA: should be rejected"
   ]
  },
  {
   "cell_type": "markdown",
   "metadata": {},
   "source": [
    "![q-01](img/10-fsm-a02-q09-tet.png)"
   ]
  },
  {
   "cell_type": "code",
   "execution_count": null,
   "metadata": {},
   "outputs": [
    {
     "name": "stdout",
     "output_type": "stream",
     "text": [
      "ERROR: state 'q4' is not determenistic (transition: '0'); \n",
      "Please specify 'nondetermenistic' flag if it's the intention\n",
      "'' : false \n",
      "'0' : false \n",
      "'10101101010' : true \n",
      "'000111' : false \n",
      "'11' : false \n",
      "'1100000111' : false \n"
     ]
    }
   ],
   "source": [
    "%load fsm\n",
    "// GOSHA: looks the same?\n",
    "// GOSHA: q4 is not determenistic\n",
    "var fsm = fsmFromMermaid(\"Tet\", \"10-fsm-a02.dib\");\n",
    "accept(fsm, false, \"\", \"0\", \"10101101010\", \"000111\", \"11\", \"1100000111\");"
   ]
  },
  {
   "cell_type": "markdown",
   "metadata": {},
   "source": [
    "![q-01](img/10-fsm-a02-q10-yud.png)"
   ]
  },
  {
   "cell_type": "code",
   "execution_count": 28,
   "metadata": {},
   "outputs": [
    {
     "name": "stdout",
     "output_type": "stream",
     "text": [
      "'' : false \n",
      "'0' : false \n",
      "'10101101010' : false \n",
      "'000111' : false \n",
      "'11' : false \n",
      "'1100000111' : false \n",
      "'00001011' : true \n"
     ]
    }
   ],
   "source": [
    "%load fsm\n",
    "var fsm = fsmFromMermaid(\"Yud\", \"10-fsm-a02.dib\");\n",
    "accept(fsm, false, \"\", \"0\", \"10101101010\", \"000111\", \"11\", \"1100000111\", \"00001011\");"
   ]
  },
  {
   "cell_type": "code",
   "execution_count": null,
   "metadata": {},
   "outputs": [
    {
     "name": "stdout",
     "output_type": "stream",
     "text": [
      "'1011' : true \n",
      "'11011' : false \n",
      "'101011' : false \n",
      "'1011011' : true \n",
      "'10111011' : true \n",
      "'01010101011' : false \n",
      "'' : false \n",
      "'1' : false \n",
      "'0' : false \n",
      "'10110' : false \n",
      "'0101101' : false \n"
     ]
    }
   ],
   "source": [
    "// GOSHA: accepted / rejected\n",
    "accept(fsm, \"1011\", \"11011\", \"101011\", \"1011011\", \"10111011\", \"01010101011\");\n",
    "accept(fsm, \"\", \"1\", \"0\", \"10110\", \"0101101\");"
   ]
  }
 ],
 "metadata": {
  "kernelspec": {
   "display_name": "Java",
   "language": "java",
   "name": "java"
  },
  "language_info": {
   "codemirror_mode": "java",
   "file_extension": ".jshell",
   "mimetype": "text/x-java-source",
   "name": "java",
   "pygments_lexer": "java",
   "version": "21.0.4+7-LTS"
  }
 },
 "nbformat": 4,
 "nbformat_minor": 2
}
