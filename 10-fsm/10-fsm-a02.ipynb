{
 "cells": [
  {
   "cell_type": "markdown",
   "metadata": {},
   "source": [
    "![h1](img/10-fsm-02-h1.png)\n",
    "![h2](img/10-fsm-02-h2.png)"
   ]
  },
  {
   "cell_type": "markdown",
   "metadata": {},
   "source": [
    "![q-01](img/10-fsm-a02-q01-alef.png)"
   ]
  },
  {
   "cell_type": "code",
   "execution_count": 1,
   "metadata": {
    "vscode": {
     "languageId": "java"
    }
   },
   "outputs": [
    {
     "name": "stdout",
     "output_type": "stream",
     "text": [
      "FSM['Alef']: accepting word '101'\n",
      "  '1': q0 --> q1\n",
      "  '0': q1 --> q1\n",
      "  '1': q1 --> q1\n",
      "FSM['Alef']: '101' is accepted\n",
      "'101' : true \n"
     ]
    }
   ],
   "source": [
    "%load fsm\n",
    "var fsm = fsmFromMermaid(\"Alef\", \"10-fsm-a02.dib\");\n",
    "accept(fsm, true, \"101\");"
   ]
  },
  {
   "cell_type": "markdown",
   "metadata": {},
   "source": [
    "![q-01](img/10-fsm-a02-q02-bet.png)"
   ]
  },
  {
   "cell_type": "code",
   "execution_count": 5,
   "metadata": {
    "vscode": {
     "languageId": "java"
    }
   },
   "outputs": [
    {
     "name": "stdout",
     "output_type": "stream",
     "text": [
      "FSM['Bet']: accepting word '100'\n",
      "  '1': q0 --> q1\n",
      "  '0': q1 --> q0\n",
      "  '0': q0 --> q0\n",
      "FSM['Bet']: '100' is wrong\n",
      "'100' : false \n"
     ]
    }
   ],
   "source": [
    "%load fsm\n",
    "var fsm = fsmFromMermaid(\"Bet\", \"10-fsm-a02.dib\");\n",
    "accept(fsm, true, \"100\");"
   ]
  },
  {
   "cell_type": "markdown",
   "metadata": {},
   "source": [
    "![q-01](img/10-fsm-a02-q03-gimel.png)"
   ]
  },
  {
   "cell_type": "code",
   "execution_count": 7,
   "metadata": {
    "vscode": {
     "languageId": "java"
    }
   },
   "outputs": [
    {
     "name": "stdout",
     "output_type": "stream",
     "text": [
      "FSM['Gimel']: accepting word '0000'\n",
      "  '0': q0 --> q0\n",
      "  '0': q0 --> q0\n",
      "  '0': q0 --> q0\n",
      "  '0': q0 --> q0\n",
      "FSM['Gimel']: '0000' is wrong\n",
      "'0000' : false \n"
     ]
    }
   ],
   "source": [
    "%load fsm\n",
    "var fsm = fsmFromMermaid(\"Gimel\", \"10-fsm-a02.dib\");\n",
    "accept(fsm, true, \"0000\");"
   ]
  },
  {
   "cell_type": "markdown",
   "metadata": {},
   "source": [
    "![q-01](img/10-fsm-a02-q04-daled.png)"
   ]
  },
  {
   "cell_type": "code",
   "execution_count": 10,
   "metadata": {
    "vscode": {
     "languageId": "java"
    }
   },
   "outputs": [
    {
     "name": "stdout",
     "output_type": "stream",
     "text": [
      "FSM['Daled']: accepting word '1011'\n",
      "  '1': q0 --> q1\n",
      "  '0': q1 --> n1\n",
      "  '1': n1 --> n1\n",
      "  '1': n1 --> n1\n",
      "FSM['Daled']: '1011' is wrong\n",
      "'1011' : false \n"
     ]
    }
   ],
   "source": [
    "%load fsm\n",
    "var fsm = fsmFromMermaid(\"Daled\", \"10-fsm-a02.dib\");\n",
    "accept(fsm, true, \"1011\");"
   ]
  },
  {
   "cell_type": "markdown",
   "metadata": {},
   "source": [
    "![q-01](img/10-fsm-a02-q05-hei.png)"
   ]
  },
  {
   "cell_type": "code",
   "execution_count": 14,
   "metadata": {
    "vscode": {
     "languageId": "java"
    }
   },
   "outputs": [
    {
     "name": "stdout",
     "output_type": "stream",
     "text": [
      "FSM['Hei']: accepting word '111011'\n",
      "  '1': q0 --> q1\n",
      "  '1': q1 --> q2\n",
      "  '1': q2 --> q2\n",
      "  '0': q2 --> q0\n",
      "  '1': q0 --> q1\n",
      "  '1': q1 --> q2\n",
      "FSM['Hei']: '111011' is accepted\n",
      "'111011' : true \n"
     ]
    }
   ],
   "source": [
    "%load fsm\n",
    "var fsm = fsmFromMermaid(\"Hei\", \"10-fsm-a02.dib\");\n",
    "accept(fsm, true, \"111011\");"
   ]
  },
  {
   "cell_type": "markdown",
   "metadata": {},
   "source": [
    "![q-01](img/10-fsm-a02-q06-vav.png)"
   ]
  },
  {
   "cell_type": "code",
   "execution_count": 12,
   "metadata": {
    "vscode": {
     "languageId": "java"
    }
   },
   "outputs": [
    {
     "name": "stdout",
     "output_type": "stream",
     "text": [
      "FSM['Vav']: accepting word '1010'\n",
      "  '1': q0 --> q1\n",
      "  '0': q1 --> q0\n",
      "  '1': q0 --> q1\n",
      "  '0': q1 --> q0\n",
      "FSM['Vav']: '1010' is wrong\n",
      "'1010' : false \n"
     ]
    }
   ],
   "source": [
    "%load fsm\n",
    "var fsm = fsmFromMermaid(\"Vav\", \"10-fsm-a02.dib\");\n",
    "accept(fsm, true, \"1010\");"
   ]
  },
  {
   "cell_type": "markdown",
   "metadata": {},
   "source": [
    "![q-01](img/10-fsm-a02-q07-zain.png)"
   ]
  },
  {
   "cell_type": "code",
   "execution_count": 16,
   "metadata": {
    "vscode": {
     "languageId": "java"
    }
   },
   "outputs": [
    {
     "name": "stdout",
     "output_type": "stream",
     "text": [
      "FSM['Zain']: accepting word '1001'\n",
      "  '1': q0 --> q1\n",
      "  '0': q1 --> q0\n",
      "  '0': q0 --> q0\n",
      "  '1': q0 --> q1\n",
      "FSM['Zain']: '1001' is accepted\n",
      "'1001' : true \n"
     ]
    }
   ],
   "source": [
    "%load fsm\n",
    "var fsm = fsmFromMermaid(\"Zain\", \"10-fsm-a02.dib\");\n",
    "accept(fsm, true, \"1001\");"
   ]
  },
  {
   "cell_type": "markdown",
   "metadata": {},
   "source": [
    "![q-01](img/10-fsm-a02-q08-het.png)"
   ]
  },
  {
   "cell_type": "code",
   "execution_count": 18,
   "metadata": {
    "vscode": {
     "languageId": "java"
    }
   },
   "outputs": [
    {
     "name": "stdout",
     "output_type": "stream",
     "text": [
      "FSM['Het']: accepting word '1010101100'\n",
      "  '1': q0 --> q1\n",
      "  '0': q1 --> q2\n",
      "  '1': q2 --> q3\n",
      "  '0': q3 --> n1\n",
      "  '1': n1 --> n1\n",
      "  '0': n1 --> n1\n",
      "  '1': n1 --> n1\n",
      "  '1': n1 --> n1\n",
      "  '0': n1 --> n1\n",
      "  '0': n1 --> n1\n",
      "FSM['Het']: '1010101100' is wrong\n",
      "'1010101100' : false \n"
     ]
    }
   ],
   "source": [
    "%load fsm\n",
    "var fsm = fsmFromMermaid(\"Het\", \"10-fsm-a02.dib\");\n",
    "accept(fsm, true, \"1010101100\");"
   ]
  },
  {
   "cell_type": "markdown",
   "metadata": {},
   "source": [
    "![q-01](img/10-fsm-a02-q09-tet.png)"
   ]
  },
  {
   "cell_type": "code",
   "execution_count": 23,
   "metadata": {
    "vscode": {
     "languageId": "java"
    }
   },
   "outputs": [
    {
     "name": "stdout",
     "output_type": "stream",
     "text": [
      "FSM['Tet']: accepting word '00101110110'\n",
      "  '0': q0 --> q0\n",
      "  '0': q0 --> q0\n",
      "  '1': q0 --> q1\n",
      "  '0': q1 --> q2\n",
      "  '1': q2 --> q3\n",
      "  '1': q3 --> q4\n",
      "  '1': q4 --> q4\n",
      "  '0': q4 --> q4\n",
      "  '1': q4 --> q4\n",
      "  '1': q4 --> q4\n",
      "  '0': q4 --> q4\n",
      "FSM['Tet']: '00101110110' is accepted\n",
      "'00101110110' : true \n"
     ]
    }
   ],
   "source": [
    "%load fsm\n",
    "var fsm = fsmFromMermaid(\"Tet\", \"10-fsm-a02.dib\");\n",
    "accept(fsm, true, \"00101110110\");"
   ]
  },
  {
   "cell_type": "markdown",
   "metadata": {},
   "source": [
    "![q-01](img/10-fsm-a02-q10-yud.png)"
   ]
  },
  {
   "cell_type": "code",
   "execution_count": 27,
   "metadata": {
    "vscode": {
     "languageId": "java"
    }
   },
   "outputs": [
    {
     "name": "stdout",
     "output_type": "stream",
     "text": [
      "FSM['Yud']: accepting word '10110101010'\n",
      "  '1': q0 --> q1\n",
      "  '0': q1 --> q2\n",
      "  '1': q2 --> q3\n",
      "  '1': q3 --> q4\n",
      "  '0': q4 --> q2\n",
      "  '1': q2 --> q3\n",
      "  '0': q3 --> q0\n",
      "  '1': q0 --> q1\n",
      "  '0': q1 --> q2\n",
      "  '1': q2 --> q3\n",
      "  '0': q3 --> q0\n",
      "FSM['Yud']: '10110101010' is wrong\n",
      "'10110101010' : false \n"
     ]
    }
   ],
   "source": [
    "%load fsm\n",
    "var fsm = fsmFromMermaid(\"Yud\", \"10-fsm-a02.dib\");\n",
    "accept(fsm, true, \"10110101010\");"
   ]
  }
 ],
 "metadata": {
  "kernelspec": {
   "display_name": "Java",
   "language": "java",
   "name": "java"
  },
  "language_info": {
   "codemirror_mode": "java",
   "file_extension": ".jshell",
   "mimetype": "text/x-java-source",
   "name": "Java",
   "pygments_lexer": "java",
   "version": "21.0.4+7-LTS"
  }
 },
 "nbformat": 4,
 "nbformat_minor": 2
}
