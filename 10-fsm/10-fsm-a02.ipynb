{
 "cells": [
  {
   "cell_type": "markdown",
   "metadata": {},
   "source": [
    "![h1](img/10-fsm-02-h1.png)\n",
    "![h2](img/10-fsm-02-h2.png)"
   ]
  },
  {
   "cell_type": "markdown",
   "metadata": {},
   "source": [
    "![q-01](img/10-fsm-a02-q01-alef.png)"
   ]
  },
  {
   "cell_type": "code",
   "execution_count": 1,
   "metadata": {
    "vscode": {
     "languageId": "java"
    }
   },
   "outputs": [
    {
     "name": "stdout",
     "output_type": "stream",
     "text": [
      "FSM['Alef']: accepting word ''\n",
      "FSM['Alef']: '' is wrong\n",
      "'' : false \n",
      "FSM['Alef']: accepting word '01'\n",
      "  '0': q0 --> q0\n",
      "  '1': q0 --> q2\n",
      "FSM['Alef']: '01' is wrong\n",
      "'01' : false \n",
      "FSM['Alef']: accepting word '11'\n",
      "  '1': q0 --> q2\n",
      "  '1': q2 --> q1\n",
      "FSM['Alef']: '11' is accepted\n",
      "'11' : true \n",
      "FSM['Alef']: accepting word '10'\n",
      "  '1': q0 --> q2\n",
      "  '0': q2 --> q1\n",
      "FSM['Alef']: '10' is accepted\n",
      "'10' : true \n"
     ]
    }
   ],
   "source": [
    "%load fsm\n",
    "var fsm = fsmFromMermaid(\"Alef\", \"10-fsm-a02.dib\");\n",
    "accept(fsm, true, \"\",\"01\",\"11\",\"10\");"
   ]
  },
  {
   "cell_type": "markdown",
   "metadata": {},
   "source": [
    "![q-01](img/10-fsm-a02-q02-bet.png)"
   ]
  },
  {
   "cell_type": "code",
   "execution_count": 2,
   "metadata": {
    "vscode": {
     "languageId": "java"
    }
   },
   "outputs": [
    {
     "name": "stdout",
     "output_type": "stream",
     "text": [
      "FSM['Bet']: accepting word ''\n",
      "FSM['Bet']: '' is wrong\n",
      "'' : false \n",
      "FSM['Bet']: accepting word '01'\n",
      "  '0': q0 --> q2\n",
      "  '1': q2 --> q1\n",
      "FSM['Bet']: '01' is accepted\n",
      "'01' : true \n",
      "FSM['Bet']: accepting word '11'\n",
      "  '1': q0 --> q2\n",
      "  '1': q2 --> q1\n",
      "FSM['Bet']: '11' is accepted\n",
      "'11' : true \n",
      "FSM['Bet']: accepting word '10'\n",
      "  '1': q0 --> q2\n",
      "ERROR in q2: No transition for '0' is defined\n",
      "'10' : false \n"
     ]
    }
   ],
   "source": [
    "%load fsm\n",
    "var fsm = fsmFromMermaid(\"Bet\", \"10-fsm-a02.dib\");\n",
    "accept(fsm, true, \"\",\"01\",\"11\",\"10\");"
   ]
  },
  {
   "cell_type": "markdown",
   "metadata": {},
   "source": [
    "![q-01](img/10-fsm-a02-q03-gimel.png)"
   ]
  },
  {
   "cell_type": "code",
   "execution_count": 5,
   "metadata": {
    "vscode": {
     "languageId": "java"
    }
   },
   "outputs": [
    {
     "name": "stdout",
     "output_type": "stream",
     "text": [
      "FSM['Gimel']: accepting word ''\n",
      "FSM['Gimel']: '' is wrong\n",
      "'' : false \n",
      "FSM['Gimel']: accepting word '01'\n",
      "  '0': q0 --> q0\n",
      "  '1': q0 --> q1\n",
      "FSM['Gimel']: '01' is accepted\n",
      "'01' : true \n",
      "FSM['Gimel']: accepting word '11'\n",
      "  '1': q0 --> q1\n",
      "  '1': q1 --> q1\n",
      "FSM['Gimel']: '11' is accepted\n",
      "'11' : true \n",
      "FSM['Gimel']: accepting word '10'\n",
      "  '1': q0 --> q1\n",
      "ERROR in q1: No transition for '0' is defined\n",
      "'10' : false \n"
     ]
    }
   ],
   "source": [
    "%load fsm\n",
    "var fsm = fsmFromMermaid(\"Gimel\", \"10-fsm-a02.dib\");\n",
    "accept(fsm, true, \"\",\"01\",\"11\",\"10\");"
   ]
  },
  {
   "cell_type": "markdown",
   "metadata": {},
   "source": [
    "![q-01](img/10-fsm-a02-q04-daled.png)"
   ]
  },
  {
   "cell_type": "code",
   "execution_count": 7,
   "metadata": {
    "vscode": {
     "languageId": "java"
    }
   },
   "outputs": [
    {
     "name": "stdout",
     "output_type": "stream",
     "text": [
      "FSM['Daled']: accepting word ''\n",
      "FSM['Daled']: '' is wrong\n",
      "'' : false \n",
      "FSM['Daled']: accepting word '01'\n",
      "  '0': q0 --> q0\n",
      "  '1': q0 --> q2\n",
      "FSM['Daled']: '01' is wrong\n",
      "'01' : false \n",
      "FSM['Daled']: accepting word '11'\n",
      "  '1': q0 --> q2\n",
      "  '1': q2 --> q1\n",
      "FSM['Daled']: '11' is accepted\n",
      "'11' : true \n",
      "FSM['Daled']: accepting word '10'\n",
      "  '1': q0 --> q2\n",
      "  '0': q2 --> q2\n",
      "FSM['Daled']: '10' is wrong\n",
      "'10' : false \n",
      "FSM['Daled']: accepting word '110'\n",
      "  '1': q0 --> q2\n",
      "  '1': q2 --> q1\n",
      "  '0': q1 --> q1\n",
      "FSM['Daled']: '110' is accepted\n",
      "'110' : true \n"
     ]
    }
   ],
   "source": [
    "%load fsm\n",
    "var fsm = fsmFromMermaid(\"Daled\", \"10-fsm-a02.dib\");\n",
    "accept(fsm, true, \"\",\"01\",\"11\",\"10\",\"110\");"
   ]
  },
  {
   "cell_type": "markdown",
   "metadata": {},
   "source": [
    "![q-01](img/10-fsm-a02-q05-hei.png)"
   ]
  },
  {
   "cell_type": "code",
   "execution_count": 8,
   "metadata": {
    "vscode": {
     "languageId": "java"
    }
   },
   "outputs": [
    {
     "name": "stdout",
     "output_type": "stream",
     "text": [
      "FSM['Hei']: accepting word ''\n",
      "FSM['Hei']: '' is wrong\n",
      "'' : false \n",
      "FSM['Hei']: accepting word '01'\n",
      "  '0': q0 --> q2\n",
      "  '1': q2 --> q3\n",
      "FSM['Hei']: '01' is wrong\n",
      "'01' : false \n",
      "FSM['Hei']: accepting word '11'\n",
      "  '1': q0 --> q2\n",
      "  '1': q2 --> q3\n",
      "FSM['Hei']: '11' is wrong\n",
      "'11' : false \n",
      "FSM['Hei']: accepting word '10'\n",
      "  '1': q0 --> q2\n",
      "  '0': q2 --> q2\n",
      "FSM['Hei']: '10' is wrong\n",
      "'10' : false \n",
      "FSM['Hei']: accepting word '110'\n",
      "  '1': q0 --> q2\n",
      "  '1': q2 --> q3\n",
      "  '0': q3 --> q3\n",
      "FSM['Hei']: '110' is wrong\n",
      "'110' : false \n",
      "FSM['Hei']: accepting word '011'\n",
      "  '0': q0 --> q2\n",
      "  '1': q2 --> q3\n",
      "  '1': q3 --> q1\n",
      "FSM['Hei']: '011' is accepted\n",
      "'011' : true \n"
     ]
    }
   ],
   "source": [
    "%load fsm\n",
    "var fsm = fsmFromMermaid(\"Hei\", \"10-fsm-a02.dib\");\n",
    "accept(fsm, true, \"\",\"01\",\"11\",\"10\",\"110\",\"011\");"
   ]
  },
  {
   "cell_type": "markdown",
   "metadata": {},
   "source": [
    "![q-01](img/10-fsm-a02-q06-vav.png)"
   ]
  },
  {
   "cell_type": "code",
   "execution_count": null,
   "metadata": {
    "vscode": {
     "languageId": "java"
    }
   },
   "outputs": [],
   "source": [
    "%load fsm\n",
    "var fsm = fsmFromMermaid(\"Vav\", \"10-fsm-a02.dib\");\n",
    "accept(fsm, true, \"\");"
   ]
  },
  {
   "cell_type": "markdown",
   "metadata": {},
   "source": [
    "![q-01](img/10-fsm-a02-q07-zain.png)"
   ]
  },
  {
   "cell_type": "code",
   "execution_count": null,
   "metadata": {
    "vscode": {
     "languageId": "java"
    }
   },
   "outputs": [],
   "source": [
    "%load fsm\n",
    "var fsm = fsmFromMermaid(\"Zain\", \"10-fsm-a02.dib\");\n",
    "accept(fsm, true, \"\");"
   ]
  },
  {
   "cell_type": "markdown",
   "metadata": {},
   "source": [
    "![q-01](img/10-fsm-a02-q08-het.png)"
   ]
  },
  {
   "cell_type": "code",
   "execution_count": null,
   "metadata": {
    "vscode": {
     "languageId": "java"
    }
   },
   "outputs": [],
   "source": [
    "%load fsm\n",
    "var fsm = fsmFromMermaid(\"Het\", \"10-fsm-a02.dib\");\n",
    "accept(fsm, true, \"\");"
   ]
  },
  {
   "cell_type": "markdown",
   "metadata": {},
   "source": [
    "![q-01](img/10-fsm-a02-q09-tet.png)"
   ]
  },
  {
   "cell_type": "code",
   "execution_count": null,
   "metadata": {
    "vscode": {
     "languageId": "java"
    }
   },
   "outputs": [],
   "source": [
    "%load fsm\n",
    "var fsm = fsmFromMermaid(\"Tet\", \"10-fsm-a02.dib\");\n",
    "accept(fsm, true, \"\");"
   ]
  },
  {
   "cell_type": "markdown",
   "metadata": {},
   "source": [
    "![q-01](img/10-fsm-a02-q10-yud.png)"
   ]
  },
  {
   "cell_type": "code",
   "execution_count": null,
   "metadata": {
    "vscode": {
     "languageId": "java"
    }
   },
   "outputs": [],
   "source": [
    "%load fsm\n",
    "var fsm = fsmFromMermaid(\"Yud\", \"10-fsm-a02.dib\");\n",
    "accept(fsm, true, \"\");"
   ]
  }
 ],
 "metadata": {
  "kernelspec": {
   "display_name": "Java",
   "language": "java",
   "name": "java"
  },
  "language_info": {
   "codemirror_mode": "java",
   "file_extension": ".jshell",
   "mimetype": "text/x-java-source",
   "name": "Java",
   "pygments_lexer": "java",
   "version": "21.0.4+7-LTS"
  }
 },
 "nbformat": 4,
 "nbformat_minor": 2
}
