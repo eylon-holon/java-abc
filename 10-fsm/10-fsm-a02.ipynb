{
 "cells": [
  {
   "cell_type": "markdown",
   "metadata": {},
   "source": [
    "![h1](img/10-fsm-02-h1.png)\n",
    "![h2](img/10-fsm-02-h2.png)"
   ]
  },
  {
   "cell_type": "markdown",
   "metadata": {},
   "source": [
    "![q-01](img/10-fsm-a02-q01-alef.png)"
   ]
  },
  {
   "cell_type": "code",
   "execution_count": 1,
   "metadata": {},
   "outputs": [
    {
     "name": "stdout",
     "output_type": "stream",
     "text": [
      "'' : false \n",
      "'1' : true \n",
      "'0' : false \n",
      "'010' : false \n",
      "'0011' : false \n",
      "'101' : true \n"
     ]
    }
   ],
   "source": [
    "%load fsm\n",
    "var fsm = fsmFromMermaid(\"Alef\", \"10-fsm-a02.dib\");\n",
    "accept(fsm, \"\", \"1\", \"0\", \"010\", \"0011\", \"101\");"
   ]
  },
  {
   "cell_type": "markdown",
   "metadata": {},
   "source": [
    "![q-01](img/10-fsm-a02-q02-bet.png)"
   ]
  },
  {
   "cell_type": "code",
   "execution_count": 2,
   "metadata": {},
   "outputs": [
    {
     "name": "stdout",
     "output_type": "stream",
     "text": [
      "'' : false \n",
      "'1' : true \n",
      "'0' : false \n",
      "'010' : false \n",
      "'0011' : true \n",
      "'101' : true \n"
     ]
    }
   ],
   "source": [
    "%load fsm\n",
    "var fsm = fsmFromMermaid(\"Bet\", \"10-fsm-a02.dib\");\n",
    "accept(fsm, \"\", \"1\", \"0\", \"010\", \"0011\", \"101\");"
   ]
  },
  {
   "cell_type": "markdown",
   "metadata": {},
   "source": [
    "![q-01](img/10-fsm-a02-q03-gimel.png)"
   ]
  },
  {
   "cell_type": "code",
   "execution_count": 3,
   "metadata": {},
   "outputs": [
    {
     "name": "stdout",
     "output_type": "stream",
     "text": [
      "'' : false \n",
      "'1' : true \n",
      "'0' : false \n",
      "'010' : true \n",
      "'0011' : true \n",
      "'101' : true \n"
     ]
    }
   ],
   "source": [
    "%load fsm\n",
    "var fsm = fsmFromMermaid(\"Gimel\", \"10-fsm-a02.dib\");\n",
    "accept(fsm, \"\", \"1\", \"0\", \"010\", \"0011\", \"101\");"
   ]
  },
  {
   "cell_type": "markdown",
   "metadata": {},
   "source": [
    "![q-01](img/10-fsm-a02-q04-daled.png)"
   ]
  },
  {
   "cell_type": "code",
   "execution_count": null,
   "metadata": {},
   "outputs": [
    {
     "name": "stdout",
     "output_type": "stream",
     "text": [
      "'' : false \n",
      "'1' : false \n",
      "'0' : false \n",
      "'010' : false \n",
      "'0011' : false \n",
      "'101' : false \n",
      "'1101' : true \n"
     ]
    }
   ],
   "source": [
    "%load fsm\n",
    "var fsm = fsmFromMermaid(\"Daled\", \"10-fsm-a02.dib\");\n",
    "accept(fsm, \"\", \"1\", \"0\", \"010\", \"0011\", \"101\", \"1101\");"
   ]
  },
  {
   "cell_type": "markdown",
   "metadata": {},
   "source": [
    "![q-01](img/10-fsm-a02-q05-hei.png)"
   ]
  },
  {
   "cell_type": "code",
   "execution_count": 6,
   "metadata": {},
   "outputs": [
    {
     "name": "stdout",
     "output_type": "stream",
     "text": [
      "'' : false \n",
      "'1' : false \n",
      "'0' : false \n",
      "'010' : false \n",
      "'0011' : true \n",
      "'101' : false \n",
      "'11011111' : true \n"
     ]
    }
   ],
   "source": [
    "%load fsm\n",
    "var fsm = fsmFromMermaid(\"Hei\", \"10-fsm-a02.dib\");\n",
    "accept(fsm, \"\", \"1\", \"0\", \"010\", \"0011\", \"101\", \"11011111\");"
   ]
  },
  {
   "cell_type": "markdown",
   "metadata": {},
   "source": [
    "![q-01](img/10-fsm-a02-q06-vav.png)"
   ]
  },
  {
   "cell_type": "code",
   "execution_count": 8,
   "metadata": {},
   "outputs": [
    {
     "name": "stdout",
     "output_type": "stream",
     "text": [
      "'' : false \n",
      "'1' : false \n",
      "'0' : false \n",
      "'010' : false \n",
      "'0011' : true \n",
      "'101' : false \n",
      "'1101' : true \n",
      "'001100001' : true \n"
     ]
    }
   ],
   "source": [
    "%load fsm\n",
    "var fsm = fsmFromMermaid(\"Vav\", \"10-fsm-a02.dib\");\n",
    "accept(fsm, \"\", \"1\", \"0\", \"010\", \"0011\", \"101\", \"1101\", \"001100001\");"
   ]
  },
  {
   "cell_type": "markdown",
   "metadata": {},
   "source": [
    "![q-01](img/10-fsm-a02-q07-zain.png)"
   ]
  },
  {
   "cell_type": "code",
   "execution_count": 17,
   "metadata": {},
   "outputs": [
    {
     "name": "stdout",
     "output_type": "stream",
     "text": [
      "'' : true \n",
      "'1' : true \n",
      "'0' : true \n",
      "'010' : true \n",
      "'0011' : false \n",
      "'101' : true \n",
      "'1101' : false \n"
     ]
    }
   ],
   "source": [
    "%load fsm\n",
    "var fsm = fsmFromMermaid(\"Zain\", \"10-fsm-a02.dib\");\n",
    "accept(fsm, \"\", \"1\", \"0\", \"010\", \"0011\", \"101\", \"1101\");"
   ]
  },
  {
   "cell_type": "markdown",
   "metadata": {},
   "source": [
    "![q-01](img/10-fsm-a02-q08-het.png)"
   ]
  },
  {
   "cell_type": "code",
   "execution_count": 12,
   "metadata": {},
   "outputs": [
    {
     "name": "stdout",
     "output_type": "stream",
     "text": [
      "'' : false \n",
      "'1' : false \n",
      "'0' : false \n",
      "'010' : false \n",
      "'0011' : false \n",
      "'101' : false \n",
      "'1011' : true \n",
      "'01011' : false \n"
     ]
    }
   ],
   "source": [
    "%load fsm\n",
    "var fsm = fsmFromMermaid(\"Het\", \"10-fsm-a02.dib\");\n",
    "accept(fsm, \"\", \"1\", \"0\", \"010\", \"0011\", \"101\", \"1011\", \"01011\");"
   ]
  },
  {
   "cell_type": "markdown",
   "metadata": {},
   "source": [
    "![q-01](img/10-fsm-a02-q09-tet.png)"
   ]
  },
  {
   "cell_type": "code",
   "execution_count": 22,
   "metadata": {},
   "outputs": [
    {
     "name": "stdout",
     "output_type": "stream",
     "text": [
      "'' : false \n",
      "'1' : false \n",
      "'0' : false \n",
      "'010' : false \n",
      "'1111011' : true \n",
      "'101' : false \n",
      "'1011' : true \n",
      "'01011' : true \n"
     ]
    }
   ],
   "source": [
    "%load fsm\n",
    "var fsm = fsmFromMermaid(\"Tet\", \"10-fsm-a02.dib\");\n",
    "accept(fsm, \"\", \"1\", \"0\", \"010\", \"1111011\", \"101\", \"1011\", \"01011\");"
   ]
  },
  {
   "cell_type": "markdown",
   "metadata": {},
   "source": [
    "![q-01](img/10-fsm-a02-q10-yud.png)"
   ]
  },
  {
   "cell_type": "code",
   "execution_count": 18,
   "metadata": {},
   "outputs": [
    {
     "name": "stdout",
     "output_type": "stream",
     "text": [
      "'' : false \n",
      "'1' : false \n",
      "'0' : false \n",
      "'10111' : false \n",
      "'010110' : false \n",
      "'101' : false \n",
      "'1011' : true \n",
      "'01011' : true \n"
     ]
    }
   ],
   "source": [
    "%load fsm\n",
    "var fsm = fsmFromMermaid(\"Yud\", \"10-fsm-a02.dib\");\n",
    "accept(fsm, \"\", \"1\", \"0\", \"10111\", \"010110\", \"101\", \"1011\", \"01011\");"
   ]
  }
 ],
 "metadata": {
  "kernelspec": {
   "display_name": "Java",
   "language": "java",
   "name": "java"
  },
  "language_info": {
   "codemirror_mode": "java",
   "file_extension": ".jshell",
   "mimetype": "text/x-java-source",
   "name": "java",
   "pygments_lexer": "java",
   "version": "21.0.4+7-LTS"
  }
 },
 "nbformat": 4,
 "nbformat_minor": 2
}
