{
 "cells": [
  {
   "cell_type": "markdown",
   "metadata": {},
   "source": [
    "![h1](img/10-fsm-02-h1.png)\n",
    "![h2](img/10-fsm-02-h2.png)"
   ]
  },
  {
   "cell_type": "markdown",
   "metadata": {},
   "source": [
    "![q-01](img/10-fsm-a02-q01-alef.png)"
   ]
  },
  {
   "cell_type": "code",
   "execution_count": 3,
   "metadata": {},
   "outputs": [
    {
     "name": "stdout",
     "output_type": "stream",
     "text": [
      "'0' : false \n",
      "'01' : false \n",
      "'1' : true \n",
      "'10' : true \n",
      "'00' : false \n",
      "'11' : true \n",
      "'000' : false \n",
      "'010' : false \n",
      "'100' : true \n",
      "'101' : true \n"
     ]
    }
   ],
   "source": [
    "%load fsm\n",
    "var fsm = fsmFromMermaid(\"Alef\", \"10-fsm-a02.dib\");\n",
    "accept(fsm, \"0\", \"01\", \"1\", \"10\", \"00\", \"11\", \"000\", \"010\", \"100\", \"101\");"
   ]
  },
  {
   "cell_type": "markdown",
   "metadata": {},
   "source": [
    "![q-01](img/10-fsm-a02-q02-bet.png)"
   ]
  },
  {
   "cell_type": "code",
   "execution_count": 4,
   "metadata": {},
   "outputs": [
    {
     "name": "stdout",
     "output_type": "stream",
     "text": [
      "'0' : false \n",
      "'01' : true \n",
      "'1' : true \n",
      "'10' : false \n",
      "'00' : false \n",
      "'11' : true \n",
      "'000' : false \n",
      "'010' : false \n",
      "'100' : false \n",
      "'101' : true \n"
     ]
    }
   ],
   "source": [
    "%load fsm\n",
    "var fsm = fsmFromMermaid(\"Bet\", \"10-fsm-a02.dib\");\n",
    "accept(fsm, \"0\", \"01\", \"1\", \"10\", \"00\", \"11\", \"000\", \"010\", \"100\", \"101\");"
   ]
  },
  {
   "cell_type": "markdown",
   "metadata": {},
   "source": [
    "![q-01](img/10-fsm-a02-q03-gimel.png)"
   ]
  },
  {
   "cell_type": "code",
   "execution_count": 6,
   "metadata": {},
   "outputs": [
    {
     "name": "stdout",
     "output_type": "stream",
     "text": [
      "'0' : false \n",
      "'01' : true \n",
      "'1' : true \n",
      "'10' : true \n",
      "'00' : false \n",
      "'11' : true \n",
      "'000' : false \n",
      "'010' : true \n",
      "'100' : true \n",
      "'101' : true \n"
     ]
    }
   ],
   "source": [
    "%load fsm\n",
    "var fsm = fsmFromMermaid(\"Gimel\", \"10-fsm-a02.dib\");\n",
    "accept(fsm, \"0\", \"01\", \"1\", \"10\", \"00\", \"11\", \"000\", \"010\", \"100\", \"101\");"
   ]
  },
  {
   "cell_type": "markdown",
   "metadata": {},
   "source": [
    "![q-01](img/10-fsm-a02-q04-daled.png)"
   ]
  },
  {
   "cell_type": "code",
   "execution_count": 8,
   "metadata": {},
   "outputs": [
    {
     "name": "stdout",
     "output_type": "stream",
     "text": [
      "'0' : false \n",
      "'1' : false \n",
      "'00' : false \n",
      "'01' : false \n",
      "'10' : false \n",
      "'11' : true \n",
      "'000' : false \n",
      "'001' : false \n",
      "'010' : false \n",
      "'011' : false \n",
      "'100' : false \n",
      "'101' : false \n",
      "'110' : true \n",
      "'111' : true \n"
     ]
    }
   ],
   "source": [
    "%load fsm\n",
    "var fsm = fsmFromMermaid(\"Daled\", \"10-fsm-a02.dib\");\n",
    "accept(fsm, \"0\", \"1\", \"00\", \"01\", \"10\", \"11\", \"000\", \"001\", \"010\", \"011\", \"100\", \"101\", \"110\", \"111\");"
   ]
  },
  {
   "cell_type": "markdown",
   "metadata": {},
   "source": [
    "![q-01](img/10-fsm-a02-q05-hei.png)"
   ]
  },
  {
   "cell_type": "code",
   "execution_count": 9,
   "metadata": {},
   "outputs": [
    {
     "name": "stdout",
     "output_type": "stream",
     "text": [
      "'0' : false \n",
      "'1' : false \n",
      "'00' : false \n",
      "'01' : false \n",
      "'10' : false \n",
      "'11' : true \n",
      "'000' : false \n",
      "'001' : false \n",
      "'010' : false \n",
      "'011' : true \n",
      "'100' : false \n",
      "'101' : false \n",
      "'110' : false \n",
      "'111' : true \n"
     ]
    }
   ],
   "source": [
    "%load fsm\n",
    "var fsm = fsmFromMermaid(\"Hei\", \"10-fsm-a02.dib\");\n",
    "accept(fsm, \"0\", \"1\", \"00\", \"01\", \"10\", \"11\", \"000\", \"001\", \"010\", \"011\", \"100\", \"101\", \"110\", \"111\");"
   ]
  },
  {
   "cell_type": "markdown",
   "metadata": {},
   "source": [
    "![q-01](img/10-fsm-a02-q06-vav.png)"
   ]
  },
  {
   "cell_type": "code",
   "execution_count": 11,
   "metadata": {},
   "outputs": [
    {
     "name": "stdout",
     "output_type": "stream",
     "text": [
      "'0' : false \n",
      "'1' : false \n",
      "'00' : false \n",
      "'01' : false \n",
      "'10' : false \n",
      "'11' : true \n",
      "'000' : false \n",
      "'001' : false \n",
      "'010' : false \n",
      "'011' : true \n",
      "'100' : false \n",
      "'101' : false \n",
      "'110' : true \n",
      "'111' : true \n"
     ]
    }
   ],
   "source": [
    "%load fsm\n",
    "var fsm = fsmFromMermaid(\"Vav\", \"10-fsm-a02.dib\");\n",
    "accept(fsm, \"0\", \"1\", \"00\", \"01\", \"10\", \"11\", \"000\", \"001\", \"010\", \"011\", \"100\", \"101\", \"110\", \"111\");"
   ]
  },
  {
   "cell_type": "markdown",
   "metadata": {},
   "source": [
    "![q-01](img/10-fsm-a02-q07-zain.png)"
   ]
  },
  {
   "cell_type": "code",
   "execution_count": 12,
   "metadata": {},
   "outputs": [
    {
     "name": "stdout",
     "output_type": "stream",
     "text": [
      "'0' : true \n",
      "'1' : true \n",
      "'00' : true \n",
      "'01' : true \n",
      "'10' : true \n",
      "'11' : false \n",
      "'000' : true \n",
      "'001' : true \n",
      "'010' : true \n",
      "'011' : false \n",
      "'100' : true \n",
      "'101' : true \n",
      "'110' : false \n",
      "'111' : false \n"
     ]
    }
   ],
   "source": [
    "%load fsm\n",
    "var fsm = fsmFromMermaid(\"Zain\", \"10-fsm-a02.dib\");\n",
    "accept(fsm, \"0\", \"1\", \"00\", \"01\", \"10\", \"11\", \"000\", \"001\", \"010\", \"011\", \"100\", \"101\", \"110\", \"111\");"
   ]
  },
  {
   "cell_type": "markdown",
   "metadata": {},
   "source": [
    "![q-01](img/10-fsm-a02-q08-het.png)"
   ]
  },
  {
   "cell_type": "code",
   "execution_count": 14,
   "metadata": {},
   "outputs": [
    {
     "name": "stdout",
     "output_type": "stream",
     "text": [
      "'10110' : true \n",
      "'00' : false \n",
      "'10100' : false \n",
      "'010110' : false \n",
      "'01011' : false \n"
     ]
    }
   ],
   "source": [
    "%load fsm\n",
    "var fsm = fsmFromMermaid(\"Het\", \"10-fsm-a02.dib\");\n",
    "accept(fsm, \"10110\", \"00\", \"10100\", \"010110\", \"01011\");"
   ]
  },
  {
   "cell_type": "markdown",
   "metadata": {},
   "source": [
    "![q-01](img/10-fsm-a02-q09-tet.png)"
   ]
  },
  {
   "cell_type": "code",
   "execution_count": 1,
   "metadata": {},
   "outputs": [
    {
     "name": "stdout",
     "output_type": "stream",
     "text": [
      "'10110' : true \n",
      "'00' : false \n",
      "'10100' : false \n",
      "'010110' : true \n",
      "'01011' : true \n"
     ]
    }
   ],
   "source": [
    "%load fsm\n",
    "var fsm = fsmFromMermaid(\"Tet\", \"10-fsm-a02.dib\");\n",
    "accept(fsm, \"10110\", \"00\", \"10100\", \"010110\", \"01011\");"
   ]
  },
  {
   "cell_type": "code",
   "execution_count": null,
   "metadata": {},
   "outputs": [
    {
     "name": "stdout",
     "output_type": "stream",
     "text": [
      "'1011' : true \n",
      "'01011' : true \n",
      "'11101100' : true \n",
      "'0101011001010' : false \n",
      "'' : false \n",
      "'0' : false \n",
      "'1' : false \n",
      "'1101' : false \n",
      "'1110' : false \n",
      "'101010001100' : false \n"
     ]
    }
   ],
   "source": [
    "// GOSHA: accepted / rejected\n",
    "accept(fsm, \"1011\", \"01011\", \"11101100\", \"0101011001010\");\n",
    "accept(fsm, \"\", \"0\", \"1\", \"1101\", \"1110\", \"101010001100\");"
   ]
  },
  {
   "cell_type": "markdown",
   "metadata": {},
   "source": [
    "![q-01](img/10-fsm-a02-q10-yud.png)"
   ]
  },
  {
   "cell_type": "code",
   "execution_count": 3,
   "metadata": {},
   "outputs": [
    {
     "name": "stdout",
     "output_type": "stream",
     "text": [
      "'10110' : false \n",
      "'00' : false \n",
      "'10100' : false \n",
      "'010110' : false \n",
      "'01011' : true \n"
     ]
    }
   ],
   "source": [
    "%load fsm\n",
    "var fsm = fsmFromMermaid(\"Yud\", \"10-fsm-a02.dib\");\n",
    "accept(fsm, \"10110\", \"00\", \"10100\", \"010110\", \"01011\");"
   ]
  },
  {
   "cell_type": "code",
   "execution_count": 5,
   "metadata": {},
   "outputs": [
    {
     "name": "stdout",
     "output_type": "stream",
     "text": [
      "'1011' : true \n",
      "'11011' : false \n",
      "'101011' : false \n",
      "'1011011' : false \n",
      "'10111011' : false \n",
      "'01010101011' : false \n",
      "'' : false \n",
      "'1' : false \n",
      "'0' : false \n",
      "'10110' : false \n",
      "'0101101' : false \n"
     ]
    }
   ],
   "source": [
    "// GOSHA: accepted / rejected\n",
    "accept(fsm, \"1011\", \"11011\", \"101011\", \"1011011\", \"10111011\", \"01010101011\");\n",
    "accept(fsm, \"\", \"1\", \"0\", \"10110\", \"0101101\");"
   ]
  }
 ],
 "metadata": {
  "kernelspec": {
   "display_name": "Java",
   "language": "java",
   "name": "java"
  },
  "language_info": {
   "codemirror_mode": "java",
   "file_extension": ".jshell",
   "mimetype": "text/x-java-source",
   "name": "java",
   "pygments_lexer": "java",
   "version": "23+37-2369"
  }
 },
 "nbformat": 4,
 "nbformat_minor": 2
}
