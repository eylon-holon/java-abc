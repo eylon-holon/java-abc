{
 "cells": [
  {
   "cell_type": "markdown",
   "metadata": {},
   "source": [
    "![h1](img/10-fsm-02-h1.png)\n",
    "![h2](img/10-fsm-02-h2.png)"
   ]
  },
  {
   "cell_type": "markdown",
   "metadata": {},
   "source": [
    "![q-01](img/10-fsm-a02-q01-alef.png)"
   ]
  },
  {
   "cell_type": "code",
   "execution_count": 1,
   "metadata": {},
   "outputs": [
    {
     "name": "stdout",
     "output_type": "stream",
     "text": [
      "'1' : true \n",
      "'10' : true \n",
      "'01' : false \n",
      "'010' : false \n",
      "'011' : false \n",
      "'1101' : true \n"
     ]
    }
   ],
   "source": [
    "%load fsm\n",
    "var fsm = fsmFromMermaid(\"Alef\", \"10-fsm-a02.dib\");\n",
    "accept(fsm, \"1\", \"10\", \"01\", \"010\", \"011\", \"1101\");"
   ]
  },
  {
   "cell_type": "markdown",
   "metadata": {},
   "source": [
    "![q-01](img/10-fsm-a02-q02-bet.png)"
   ]
  },
  {
   "cell_type": "code",
   "execution_count": 7,
   "metadata": {},
   "outputs": [
    {
     "name": "stdout",
     "output_type": "stream",
     "text": [
      "'1' : true \n",
      "'01' : true \n",
      "'010' : false \n",
      "'11' : true \n",
      "'110' : false \n",
      "'101' : true \n"
     ]
    }
   ],
   "source": [
    "%load fsm\n",
    "var fsm = fsmFromMermaid(\"Bet\", \"10-fsm-a02.dib\");\n",
    "accept(fsm, \"1\", \"01\", \"010\", \"11\", \"110\", \"101\");"
   ]
  },
  {
   "cell_type": "markdown",
   "metadata": {},
   "source": [
    "![q-01](img/10-fsm-a02-q03-gimel.png)"
   ]
  },
  {
   "cell_type": "code",
   "execution_count": 9,
   "metadata": {},
   "outputs": [
    {
     "name": "stdout",
     "output_type": "stream",
     "text": [
      "'1' : true \n",
      "'10' : true \n",
      "'01' : true \n",
      "'010' : true \n",
      "'011' : true \n",
      "'0' : false \n"
     ]
    }
   ],
   "source": [
    "%load fsm\n",
    "var fsm = fsmFromMermaid(\"Gimel\", \"10-fsm-a02.dib\");\n",
    "accept(fsm, \"1\", \"10\", \"01\", \"010\", \"011\", \"0\");"
   ]
  },
  {
   "cell_type": "markdown",
   "metadata": {},
   "source": [
    "![q-01](img/10-fsm-a02-q04-daled.png)"
   ]
  },
  {
   "cell_type": "code",
   "execution_count": 22,
   "metadata": {},
   "outputs": [
    {
     "name": "stdout",
     "output_type": "stream",
     "text": [
      "'0' : false \n",
      "'1' : false \n",
      "'10' : false \n",
      "'101' : false \n",
      "'110' : true \n",
      "'111000011' : true \n"
     ]
    }
   ],
   "source": [
    "%load fsm\n",
    "var fsm = fsmFromMermaid(\"Daled\", \"10-fsm-a02.dib\");\n",
    "accept(fsm, \"0\", \"1\", \"10\", \"101\", \"110\", \"111000011\");"
   ]
  },
  {
   "cell_type": "markdown",
   "metadata": {},
   "source": [
    "![q-01](img/10-fsm-a02-q05-hei.png)"
   ]
  },
  {
   "cell_type": "code",
   "execution_count": 30,
   "metadata": {},
   "outputs": [
    {
     "name": "stdout",
     "output_type": "stream",
     "text": [
      "'0' : false \n",
      "'1' : false \n",
      "'10' : false \n",
      "'101' : false \n",
      "'011' : true \n",
      "'10010011' : true \n"
     ]
    }
   ],
   "source": [
    "%load fsm\n",
    "var fsm = fsmFromMermaid(\"Hei\", \"10-fsm-a02.dib\");\n",
    "accept(fsm, \"0\", \"1\", \"10\", \"101\", \"011\", \"10010011\");"
   ]
  },
  {
   "cell_type": "markdown",
   "metadata": {},
   "source": [
    "![q-01](img/10-fsm-a02-q06-vav.png)"
   ]
  },
  {
   "cell_type": "code",
   "execution_count": 17,
   "metadata": {},
   "outputs": [
    {
     "name": "stdout",
     "output_type": "stream",
     "text": [
      "'0' : false \n",
      "'1' : false \n",
      "'10' : false \n",
      "'101' : false \n",
      "'110' : true \n",
      "'10010011' : true \n",
      "'10011001' : true \n"
     ]
    }
   ],
   "source": [
    "%load fsm\n",
    "var fsm = fsmFromMermaid(\"Vav\", \"10-fsm-a02.dib\");\n",
    "accept(fsm, \"0\", \"1\", \"10\", \"101\", \"110\", \"10010011\", \"10011001\");"
   ]
  },
  {
   "cell_type": "markdown",
   "metadata": {},
   "source": [
    "![q-01](img/10-fsm-a02-q07-zain.png)"
   ]
  },
  {
   "cell_type": "code",
   "execution_count": 18,
   "metadata": {},
   "outputs": [
    {
     "name": "stdout",
     "output_type": "stream",
     "text": [
      "'0' : true \n",
      "'1' : true \n",
      "'10' : true \n",
      "'101' : true \n",
      "'110' : false \n",
      "'10010011' : false \n",
      "'10011001' : false \n"
     ]
    }
   ],
   "source": [
    "%load fsm\n",
    "var fsm = fsmFromMermaid(\"Zain\", \"10-fsm-a02.dib\");\n",
    "accept(fsm, \"0\", \"1\", \"10\", \"101\", \"110\", \"10010011\", \"10011001\");"
   ]
  },
  {
   "cell_type": "markdown",
   "metadata": {},
   "source": [
    "![q-01](img/10-fsm-a02-q08-het.png)"
   ]
  },
  {
   "cell_type": "code",
   "execution_count": 8,
   "metadata": {},
   "outputs": [
    {
     "name": "stdout",
     "output_type": "stream",
     "text": [
      "'1011' : true \n",
      "'1011001011011' : true \n",
      "'110110110011' : false \n",
      "'10011001' : false \n"
     ]
    }
   ],
   "source": [
    "%load fsm\n",
    "var fsm = fsmFromMermaid(\"Het\", \"10-fsm-a02.dib\");\n",
    "accept(fsm, \"1011\", \"1011001011011\", \"110110110011\", \"10011001\");"
   ]
  },
  {
   "cell_type": "markdown",
   "metadata": {},
   "source": [
    "![q-01](img/10-fsm-a02-q09-tet.png)"
   ]
  },
  {
   "cell_type": "code",
   "execution_count": 10,
   "metadata": {},
   "outputs": [
    {
     "name": "stdout",
     "output_type": "stream",
     "text": [
      "'1011' : true \n",
      "'1011010101011' : true \n",
      "'11011010110011' : true \n",
      "'10011001' : false \n",
      "'1101101101101011' : true \n",
      "'0101011001010' : true \n"
     ]
    }
   ],
   "source": [
    "%load fsm\n",
    "var fsm = fsmFromMermaid(\"Tet\", \"10-fsm-a02.dib\");\n",
    "accept(fsm, \"1011\", \"1011010101011\", \"11011010110011\", \"10011001\", \"1101101101101011\", \"0101011001010\");"
   ]
  },
  {
   "cell_type": "code",
   "execution_count": 17,
   "metadata": {},
   "outputs": [
    {
     "name": "stdout",
     "output_type": "stream",
     "text": [
      "FSM['Tet']: accepting word '0101011001010'\n",
      "  '0': q0 --> q0\n",
      "  '1': q0 --> q1\n",
      "  '0': q1 --> q2\n",
      "  '1': q2 --> q3\n",
      "  '0': q3 --> q0\n",
      "  '1': q0 --> q1\n",
      "  '1': q1 --> q0\n",
      "  '0': q0 --> q0\n",
      "  '0': q0 --> q0\n",
      "  '1': q0 --> q1\n",
      "  '0': q1 --> q2\n",
      "  '1': q2 --> q3\n",
      "  '0': q3 --> q0\n",
      "FSM['Tet']: '0101011001010' is rejected\n",
      "'0101011001010' : false \n"
     ]
    }
   ],
   "source": [
    "// GOSHA: should be accepted accepted\n",
    "accept(fsm, true, \"0101011001010\");"
   ]
  },
  {
   "cell_type": "markdown",
   "metadata": {},
   "source": [
    "![q-01](img/10-fsm-a02-q10-yud.png)"
   ]
  },
  {
   "cell_type": "code",
   "execution_count": 8,
   "metadata": {},
   "outputs": [
    {
     "name": "stdout",
     "output_type": "stream",
     "text": [
      "'1011' : true \n",
      "'11011' : true \n",
      "'101011' : true \n",
      "'1011011' : true \n",
      "'10111011' : true \n",
      "'01010101011' : true \n",
      "'' : false \n",
      "'1' : false \n",
      "'0' : false \n",
      "'10110' : false \n",
      "'0101101' : false \n"
     ]
    }
   ],
   "source": [
    "%load fsm\n",
    "var fsm = fsmFromMermaid(\"Yud\", \"10-fsm-a02.dib\");\n",
    "accept(fsm, \"1011\", \"11011\", \"101011\", \"1011011\", \"10111011\", \"01010101011\", \"\", \"1\", \"0\", \"10110\", \"0101101\");"
   ]
  },
  {
   "cell_type": "code",
   "execution_count": 11,
   "metadata": {},
   "outputs": [
    {
     "data": {
      "text/plain": [
       "'10-a02' is submitted to Gosha (recheck). Great job! 👍"
      ]
     },
     "execution_count": 11,
     "metadata": {},
     "output_type": "execute_result"
    }
   ],
   "source": [
    "%load ../eylon/submit\n",
    "submit(\"10-a02\", \"recheck\");"
   ]
  },
  {
   "cell_type": "code",
   "execution_count": 5,
   "metadata": {},
   "outputs": [
    {
     "name": "stdout",
     "output_type": "stream",
     "text": [
      "'1011' : true \n",
      "'11011' : true \n",
      "'101011' : true \n",
      "'1011011' : true \n",
      "'10111011' : true \n",
      "'01010101011' : true \n",
      "'' : "
     ]
    },
    {
     "name": "stdout",
     "output_type": "stream",
     "text": [
      "false \n",
      "'1' : false \n",
      "'0' : false \n",
      "'10110' : false \n",
      "'0101101' : false \n"
     ]
    }
   ],
   "source": [
    "// GOSHA: accepted / rejected\n",
    "accept(fsm, \"1011\", \"11011\", \"101011\", \"1011011\", \"10111011\", \"01010101011\");\n",
    "accept(fsm, \"\", \"1\", \"0\", \"10110\", \"0101101\");"
   ]
  }
 ],
 "metadata": {
  "kernelspec": {
   "display_name": "Java",
   "language": "java",
   "name": "java"
  },
  "language_info": {
   "codemirror_mode": "java",
   "file_extension": ".jshell",
   "mimetype": "text/x-java-source",
   "name": "java",
   "pygments_lexer": "java",
   "version": "21.0.4+7-LTS"
  }
 },
 "nbformat": 4,
 "nbformat_minor": 2
}
