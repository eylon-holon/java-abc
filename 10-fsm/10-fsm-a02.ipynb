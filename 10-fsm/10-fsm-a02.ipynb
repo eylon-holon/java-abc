{
 "cells": [
  {
   "cell_type": "markdown",
   "metadata": {},
   "source": [
    "![h1](img/10-fsm-02-h1.png)\n",
    "![h2](img/10-fsm-02-h2.png)"
   ]
  },
  {
   "cell_type": "markdown",
   "metadata": {},
   "source": [
    "# GOSHA: No actual work"
   ]
  },
  {
   "cell_type": "markdown",
   "metadata": {},
   "source": [
    "![q-01](img/10-fsm-a02-q01-alef.png)"
   ]
  },
  {
   "cell_type": "code",
   "execution_count": 8,
   "metadata": {},
   "outputs": [
    {
     "name": "stdout",
     "output_type": "stream",
     "text": [
      "FSM['Alef']: accepting word '10011001'\n",
      "  '1': q0 --> q1\n",
      "  '0': q1 --> q1\n",
      "  '0': q1 --> q1\n",
      "  '1': q1 --> q1\n",
      "  '1': q1 --> q1\n",
      "  '0': q1 --> q1\n",
      "  '0': q1 --> q1\n",
      "  '1': q1 --> q1\n",
      "FSM['Alef']: '10011001' is accepted\n",
      "'10011001' : true \n"
     ]
    }
   ],
   "source": [
    "%load fsm\n",
    "var fsm = fsmFromMermaid(\"Alef\", \"10-fsm-a02.dib\");\n",
    "accept(fsm, true, \"10011001\");"
   ]
  },
  {
   "cell_type": "markdown",
   "metadata": {},
   "source": [
    "![q-01](img/10-fsm-a02-q02-bet.png)"
   ]
  },
  {
   "cell_type": "code",
   "execution_count": 14,
   "metadata": {},
   "outputs": [
    {
     "name": "stdout",
     "output_type": "stream",
     "text": [
      "FSM['Bet']: accepting word '0110'\n",
      "  '0': q0 --> q2\n",
      "  '1': q2 --> q1\n",
      "  '1': q1 --> q1\n",
      "  '0': q1 --> q2\n",
      "FSM['Bet']: '0110' is rejected\n",
      "'0110' : false \n"
     ]
    }
   ],
   "source": [
    "%load fsm\n",
    "var fsm = fsmFromMermaid(\"Bet\", \"10-fsm-a02.dib\");\n",
    "accept(fsm, true, \"0110\");"
   ]
  },
  {
   "cell_type": "markdown",
   "metadata": {},
   "source": [
    "![q-01](img/10-fsm-a02-q03-gimel.png)"
   ]
  },
  {
   "cell_type": "code",
   "execution_count": 17,
   "metadata": {},
   "outputs": [
    {
     "name": "stdout",
     "output_type": "stream",
     "text": [
      "FSM['Gimel']: accepting word '000000100000'\n",
      "  '0': q0 --> q0\n",
      "  '0': q0 --> q0\n",
      "  '0': q0 --> q0\n",
      "  '0': q0 --> q0\n",
      "  '0': q0 --> q0\n",
      "  '0': q0 --> q0\n",
      "  '1': q0 --> q1\n",
      "  '0': q1 --> q1\n",
      "  '0': q1 --> q1\n",
      "  '0': q1 --> q1\n",
      "  '0': q1 --> q1\n",
      "  '0': q1 --> q1\n",
      "FSM['Gimel']: '000000100000' is accepted\n",
      "'000000100000' : true \n"
     ]
    }
   ],
   "source": [
    "%load fsm\n",
    "var fsm = fsmFromMermaid(\"Gimel\", \"10-fsm-a02.dib\");\n",
    "accept(fsm, true, \"000000100000\");"
   ]
  },
  {
   "cell_type": "markdown",
   "metadata": {},
   "source": [
    "![q-01](img/10-fsm-a02-q04-daled.png)"
   ]
  },
  {
   "cell_type": "code",
   "execution_count": 7,
   "metadata": {},
   "outputs": [
    {
     "name": "stdout",
     "output_type": "stream",
     "text": [
      "FSM['Daled']: accepting word '1101010100011'\n",
      "  '1': q0 --> q1\n",
      "  '1': q1 --> q2\n",
      "  '0': q2 --> q2\n",
      "  '1': q2 --> q2\n",
      "  '0': q2 --> q2\n",
      "  '1': q2 --> q2\n",
      "  '0': q2 --> q2\n",
      "  '1': q2 --> q2\n",
      "  '0': q2 --> q2\n",
      "  '0': q2 --> q2\n",
      "  '0': q2 --> q2\n",
      "  '1': q2 --> q2\n",
      "  '1': q2 --> q2\n",
      "FSM['Daled']: '1101010100011' is accepted\n",
      "'1101010100011' : true \n"
     ]
    }
   ],
   "source": [
    "%load fsm\n",
    "var fsm = fsmFromMermaid(\"Daled\", \"10-fsm-a02.dib\");\n",
    "accept(fsm, true, \"1101010100011\");"
   ]
  },
  {
   "cell_type": "markdown",
   "metadata": {},
   "source": [
    "![q-01](img/10-fsm-a02-q05-hei.png)"
   ]
  },
  {
   "cell_type": "code",
   "execution_count": 10,
   "metadata": {},
   "outputs": [
    {
     "name": "stdout",
     "output_type": "stream",
     "text": [
      "FSM['Hei']: accepting word '000101011'\n",
      "  '0': q0 --> q2\n",
      "  '0': q2 --> q2\n",
      "  '0': q2 --> q2\n",
      "  '1': q2 --> q4\n",
      "  '0': q4 --> q2\n",
      "  '1': q2 --> q4\n",
      "  '0': q4 --> q2\n",
      "  '1': q2 --> q4\n",
      "  '1': q4 --> q1\n",
      "FSM['Hei']: '000101011' is accepted\n",
      "'000101011' : true \n"
     ]
    }
   ],
   "source": [
    "%load fsm\n",
    "var fsm = fsmFromMermaid(\"Hei\", \"10-fsm-a02.dib\");\n",
    "accept(fsm, true, \"000101011\");"
   ]
  },
  {
   "cell_type": "markdown",
   "metadata": {},
   "source": [
    "![q-01](img/10-fsm-a02-q06-vav.png)"
   ]
  },
  {
   "cell_type": "code",
   "execution_count": 6,
   "metadata": {},
   "outputs": [
    {
     "name": "stdout",
     "output_type": "stream",
     "text": [
      "FSM['Vav']: accepting word ''\n",
      "FSM['Vav']: '' is accepted\n",
      "'' : true \n"
     ]
    }
   ],
   "source": [
    "%load fsm\n",
    "var fsm = fsmFromMermaid(\"Vav\", \"10-fsm-a02.dib\");\n",
    "accept(fsm, true, \"\");"
   ]
  },
  {
   "cell_type": "markdown",
   "metadata": {},
   "source": [
    "![q-01](img/10-fsm-a02-q07-zain.png)"
   ]
  },
  {
   "cell_type": "code",
   "execution_count": 7,
   "metadata": {},
   "outputs": [
    {
     "name": "stdout",
     "output_type": "stream",
     "text": [
      "FSM['Zain']: accepting word ''\n",
      "FSM['Zain']: '' is accepted\n",
      "'' : true \n"
     ]
    }
   ],
   "source": [
    "%load fsm\n",
    "var fsm = fsmFromMermaid(\"Zain\", \"10-fsm-a02.dib\");\n",
    "accept(fsm, true, \"\");"
   ]
  },
  {
   "cell_type": "markdown",
   "metadata": {},
   "source": [
    "![q-01](img/10-fsm-a02-q08-het.png)"
   ]
  },
  {
   "cell_type": "code",
   "execution_count": 4,
   "metadata": {},
   "outputs": [
    {
     "name": "stdout",
     "output_type": "stream",
     "text": [
      "FSM['Het']: accepting word '1011001'\n",
      "  '1': q0 --> q1\n",
      "  '0': q1 --> q4\n",
      "  '1': q4 --> q5\n",
      "  '1': q5 --> q2\n",
      "  '0': q2 --> q2\n",
      "  '0': q2 --> q2\n",
      "  '1': q2 --> q2\n",
      "FSM['Het']: '1011001' is accepted\n",
      "'1011001' : true \n"
     ]
    }
   ],
   "source": [
    "%load fsm\n",
    "var fsm = fsmFromMermaid(\"Het\", \"10-fsm-a02.dib\");\n",
    "accept(fsm, true, \"1011001\");"
   ]
  },
  {
   "cell_type": "markdown",
   "metadata": {},
   "source": [
    "![q-01](img/10-fsm-a02-q09-tet.png)"
   ]
  },
  {
   "cell_type": "code",
   "execution_count": 10,
   "metadata": {},
   "outputs": [
    {
     "name": "stdout",
     "output_type": "stream",
     "text": [
      "FSM['Tet']: accepting word '0101010110101001010'\n",
      "  '0': q0 --> q0\n",
      "  '1': q0 --> q1\n",
      "  '0': q1 --> q3\n",
      "  '1': q3 --> q4\n",
      "  '0': q4 --> q0\n",
      "  '1': q0 --> q1\n",
      "  '0': q1 --> q3\n",
      "  '1': q3 --> q4\n",
      "  '1': q4 --> q2\n",
      "  '0': q2 --> q2\n",
      "  '1': q2 --> q2\n",
      "  '0': q2 --> q2\n",
      "  '1': q2 --> q2\n",
      "  '0': q2 --> q2\n",
      "  '0': q2 --> q2\n",
      "  '1': q2 --> q2\n",
      "  '0': q2 --> q2\n",
      "  '1': q2 --> q2\n",
      "  '0': q2 --> q2\n",
      "FSM['Tet']: '0101010110101001010' is accepted\n",
      "'0101010110101001010' : true \n"
     ]
    }
   ],
   "source": [
    "%load fsm\n",
    "var fsm = fsmFromMermaid(\"Tet\", \"10-fsm-a02.dib\");\n",
    "accept(fsm, true, \"0101010110101001010\");"
   ]
  },
  {
   "cell_type": "markdown",
   "metadata": {},
   "source": [
    "![q-01](img/10-fsm-a02-q10-yud.png)"
   ]
  },
  {
   "cell_type": "code",
   "execution_count": 23,
   "metadata": {},
   "outputs": [
    {
     "name": "stdout",
     "output_type": "stream",
     "text": [
      "FSM['Yud']: accepting word '01010010101011'\n",
      "  '0': q0 --> q2\n",
      "  '1': q2 --> q6\n",
      "  '0': q6 --> q4\n",
      "  '1': q4 --> q5\n",
      "  '0': q5 --> q2\n",
      "  '0': q2 --> q0\n",
      "  '1': q0 --> q3\n",
      "  '0': q3 --> q4\n",
      "  '1': q4 --> q5\n",
      "  '0': q5 --> q2\n",
      "  '1': q2 --> q6\n",
      "  '0': q6 --> q4\n",
      "  '1': q4 --> q5\n",
      "  '1': q5 --> q1\n",
      "FSM['Yud']: '01010010101011' is accepted\n",
      "'01010010101011' : true \n"
     ]
    }
   ],
   "source": [
    "%load fsm\n",
    "var fsm = fsmFromMermaid(\"Yud\", \"10-fsm-a02.dib\");\n",
    "accept(fsm, true, \"01010010101011\");"
   ]
  }
 ],
 "metadata": {
  "kernelspec": {
   "display_name": "Java",
   "language": "java",
   "name": "java"
  },
  "language_info": {
   "codemirror_mode": "java",
   "file_extension": ".jshell",
   "mimetype": "text/x-java-source",
   "name": "java",
   "pygments_lexer": "java",
   "version": "21.0.4+7-LTS"
  }
 },
 "nbformat": 4,
 "nbformat_minor": 2
}
