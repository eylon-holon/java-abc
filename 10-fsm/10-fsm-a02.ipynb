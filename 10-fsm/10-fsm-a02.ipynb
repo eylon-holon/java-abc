{
 "cells": [
  {
   "cell_type": "markdown",
   "metadata": {},
   "source": [
    "![h1](img/10-fsm-02-h1.png)\n",
    "![h2](img/10-fsm-02-h2.png)"
   ]
  },
  {
   "cell_type": "markdown",
   "metadata": {},
   "source": [
    "![q-01](img/10-fsm-a02-q01-alef.png)"
   ]
  },
  {
   "cell_type": "code",
   "execution_count": 3,
   "metadata": {
    "vscode": {
     "languageId": "java"
    }
   },
   "outputs": [
    {
     "name": "stdout",
     "output_type": "stream",
     "text": [
      "FSM['Alef']: accepting word '01'\n",
      "  '0': qi --> qt\n",
      "  '1': qt --> qt\n",
      "FSM['Alef']: '01' is wrong\n",
      "'01' : false \n"
     ]
    }
   ],
   "source": [
    "%load fsm\n",
    "var fsm = fsmFromMermaid(\"Alef\", \"10-fsm-a02.dib\");\n",
    "accept(fsm, true, \"01\");"
   ]
  },
  {
   "cell_type": "markdown",
   "metadata": {},
   "source": [
    "![q-01](img/10-fsm-a02-q02-bet.png)"
   ]
  },
  {
   "cell_type": "code",
   "execution_count": 4,
   "metadata": {
    "vscode": {
     "languageId": "java"
    }
   },
   "outputs": [
    {
     "name": "stdout",
     "output_type": "stream",
     "text": [
      "FSM['Bet']: accepting word '111010010'\n",
      "  '1': qi --> qf\n",
      "  '1': qf --> qf\n",
      "  '1': qf --> qf\n",
      "  '0': qf --> qi\n",
      "  '1': qi --> qf\n",
      "  '0': qf --> qi\n",
      "  '0': qi --> qt\n",
      "  '1': qt --> qf\n",
      "  '0': qf --> qi\n",
      "FSM['Bet']: '111010010' is wrong\n",
      "'111010010' : false \n",
      "FSM['Bet']: accepting word '01'\n",
      "  '0': qi --> qt\n",
      "  '1': qt --> qf\n",
      "FSM['Bet']: '01' is accepted\n",
      "'01' : true \n"
     ]
    }
   ],
   "source": [
    "%load fsm\n",
    "var fsm = fsmFromMermaid(\"Bet\", \"10-fsm-a02.dib\");\n",
    "accept(fsm, true, \"111010010\",\"01\");"
   ]
  },
  {
   "cell_type": "markdown",
   "metadata": {},
   "source": [
    "![q-01](img/10-fsm-a02-q03-gimel.png)"
   ]
  },
  {
   "cell_type": "code",
   "execution_count": 5,
   "metadata": {
    "vscode": {
     "languageId": "java"
    }
   },
   "outputs": [
    {
     "name": "stdout",
     "output_type": "stream",
     "text": [
      "FSM['Gimel']: accepting word '0'\n",
      "  '0': qi --> qi\n",
      "FSM['Gimel']: '0' is wrong\n",
      "'0' : false \n",
      "FSM['Gimel']: accepting word '000100'\n",
      "  '0': qi --> qi\n",
      "  '0': qi --> qi\n",
      "  '0': qi --> qi\n",
      "  '1': qi --> qf\n",
      "  '0': qf --> qf\n",
      "  '0': qf --> qf\n",
      "FSM['Gimel']: '000100' is accepted\n",
      "'000100' : true \n"
     ]
    }
   ],
   "source": [
    "%load fsm\n",
    "var fsm = fsmFromMermaid(\"Gimel\", \"10-fsm-a02.dib\");\n",
    "accept(fsm, true, \"0\",\"000100\");"
   ]
  },
  {
   "cell_type": "markdown",
   "metadata": {},
   "source": [
    "![q-01](img/10-fsm-a02-q04-daled.png)"
   ]
  },
  {
   "cell_type": "code",
   "execution_count": 6,
   "metadata": {
    "vscode": {
     "languageId": "java"
    }
   },
   "outputs": [
    {
     "name": "stdout",
     "output_type": "stream",
     "text": [
      "FSM['Daled']: accepting word '101011'\n",
      "  '1': qi --> qm\n",
      "  '0': qm --> qt2\n",
      "  '1': qt2 --> qt2\n",
      "  '0': qt2 --> qt2\n",
      "  '1': qt2 --> qt2\n",
      "  '1': qt2 --> qt2\n",
      "FSM['Daled']: '101011' is wrong\n",
      "'101011' : false \n",
      "FSM['Daled']: accepting word '110000'\n",
      "  '1': qi --> qm\n",
      "  '1': qm --> qf\n",
      "  '0': qf --> qf\n",
      "  '0': qf --> qf\n",
      "  '0': qf --> qf\n",
      "  '0': qf --> qf\n",
      "FSM['Daled']: '110000' is accepted\n",
      "'110000' : true \n"
     ]
    }
   ],
   "source": [
    "%load fsm\n",
    "var fsm = fsmFromMermaid(\"Daled\", \"10-fsm-a02.dib\");\n",
    "accept(fsm, true, \"101011\",\"110000\");"
   ]
  },
  {
   "cell_type": "markdown",
   "metadata": {},
   "source": [
    "![q-01](img/10-fsm-a02-q05-hei.png)"
   ]
  },
  {
   "cell_type": "code",
   "execution_count": 7,
   "metadata": {
    "vscode": {
     "languageId": "java"
    }
   },
   "outputs": [
    {
     "name": "stdout",
     "output_type": "stream",
     "text": [
      "FSM['Hei']: accepting word '000011'\n",
      "  '0': qi --> qi\n",
      "  '0': qi --> qi\n",
      "  '0': qi --> qi\n",
      "  '0': qi --> qi\n",
      "  '1': qi --> qm\n",
      "  '1': qm --> qf\n",
      "FSM['Hei']: '000011' is accepted\n",
      "'000011' : true \n",
      "FSM['Hei']: accepting word '011101'\n",
      "  '0': qi --> qi\n",
      "  '1': qi --> qm\n",
      "  '1': qm --> qf\n",
      "  '1': qf --> qf\n",
      "  '0': qf --> qt\n",
      "  '1': qt --> qm\n",
      "FSM['Hei']: '011101' is wrong\n",
      "'011101' : false \n"
     ]
    }
   ],
   "source": [
    "%load fsm\n",
    "var fsm = fsmFromMermaid(\"Hei\", \"10-fsm-a02.dib\");\n",
    "accept(fsm, true, \"000011\",\"011101\");"
   ]
  },
  {
   "cell_type": "markdown",
   "metadata": {},
   "source": [
    "![q-01](img/10-fsm-a02-q06-vav.png)"
   ]
  },
  {
   "cell_type": "code",
   "execution_count": 8,
   "metadata": {
    "vscode": {
     "languageId": "java"
    }
   },
   "outputs": [
    {
     "name": "stdout",
     "output_type": "stream",
     "text": [
      "FSM['Vav']: accepting word '10100101'\n",
      "  '1': qi --> qm\n",
      "  '0': qm --> qi\n",
      "  '1': qi --> qm\n",
      "  '0': qm --> qi\n",
      "  '0': qi --> qi\n",
      "  '1': qi --> qm\n",
      "  '0': qm --> qi\n",
      "  '1': qi --> qm\n",
      "FSM['Vav']: '10100101' is wrong\n",
      "'10100101' : false \n",
      "FSM['Vav']: accepting word '00011000'\n",
      "  '0': qi --> qi\n",
      "  '0': qi --> qi\n",
      "  '0': qi --> qi\n",
      "  '1': qi --> qm\n",
      "  '1': qm --> qf\n",
      "  '0': qf --> qf\n",
      "  '0': qf --> qf\n",
      "  '0': qf --> qf\n",
      "FSM['Vav']: '00011000' is accepted\n",
      "'00011000' : true \n"
     ]
    }
   ],
   "source": [
    "%load fsm\n",
    "var fsm = fsmFromMermaid(\"Vav\", \"10-fsm-a02.dib\");\n",
    "accept(fsm, true, \"10100101\",\"00011000\");"
   ]
  },
  {
   "cell_type": "markdown",
   "metadata": {},
   "source": [
    "![q-01](img/10-fsm-a02-q07-zain.png)"
   ]
  },
  {
   "cell_type": "code",
   "execution_count": null,
   "metadata": {
    "vscode": {
     "languageId": "java"
    }
   },
   "outputs": [],
   "source": [
    "%load fsm\n",
    "var fsm = fsmFromMermaid(\"Zain\", \"10-fsm-a02.dib\");\n",
    "accept(fsm, true, \"\");"
   ]
  },
  {
   "cell_type": "markdown",
   "metadata": {},
   "source": [
    "![q-01](img/10-fsm-a02-q08-het.png)"
   ]
  },
  {
   "cell_type": "code",
   "execution_count": null,
   "metadata": {
    "vscode": {
     "languageId": "java"
    }
   },
   "outputs": [],
   "source": [
    "%load fsm\n",
    "var fsm = fsmFromMermaid(\"Het\", \"10-fsm-a02.dib\");\n",
    "accept(fsm, true, \"\");"
   ]
  },
  {
   "cell_type": "markdown",
   "metadata": {},
   "source": [
    "![q-01](img/10-fsm-a02-q09-tet.png)"
   ]
  },
  {
   "cell_type": "code",
   "execution_count": null,
   "metadata": {
    "vscode": {
     "languageId": "java"
    }
   },
   "outputs": [],
   "source": [
    "%load fsm\n",
    "var fsm = fsmFromMermaid(\"Tet\", \"10-fsm-a02.dib\");\n",
    "accept(fsm, true, \"\");"
   ]
  },
  {
   "cell_type": "markdown",
   "metadata": {},
   "source": [
    "![q-01](img/10-fsm-a02-q10-yud.png)"
   ]
  },
  {
   "cell_type": "code",
   "execution_count": null,
   "metadata": {
    "vscode": {
     "languageId": "java"
    }
   },
   "outputs": [],
   "source": [
    "%load fsm\n",
    "var fsm = fsmFromMermaid(\"Yud\", \"10-fsm-a02.dib\");\n",
    "accept(fsm, true, \"\");"
   ]
  }
 ],
 "metadata": {
  "kernelspec": {
   "display_name": "Java",
   "language": "java",
   "name": "java"
  },
  "language_info": {
   "codemirror_mode": "java",
   "file_extension": ".jshell",
   "mimetype": "text/x-java-source",
   "name": "Java",
   "pygments_lexer": "java",
   "version": "21.0.4+7-LTS"
  }
 },
 "nbformat": 4,
 "nbformat_minor": 2
}
