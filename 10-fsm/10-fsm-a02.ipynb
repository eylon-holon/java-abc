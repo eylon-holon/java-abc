{
 "cells": [
  {
   "cell_type": "markdown",
   "metadata": {},
   "source": [
    "![h1](img/10-fsm-02-h1.png)\n",
    "![h2](img/10-fsm-02-h2.png)"
   ]
  },
  {
   "cell_type": "markdown",
   "metadata": {},
   "source": [
    "![q-01](img/10-fsm-a02-q01-alef.png)"
   ]
  },
  {
   "cell_type": "code",
   "execution_count": 3,
   "metadata": {},
   "outputs": [
    {
     "name": "stdout",
     "output_type": "stream",
     "text": [
      "'' : false \n",
      "'1' : true \n",
      "'01' : false \n",
      "'10' : true \n",
      "'100' : true \n",
      "'001' : false \n"
     ]
    }
   ],
   "source": [
    "%load fsm\n",
    "var fsm = fsmFromMermaid(\"Alef\", \"10-fsm-a02.dib\");\n",
    "accept(fsm, \"\", \"1\", \"01\", \"10\", \"100\", \"001\");"
   ]
  },
  {
   "cell_type": "markdown",
   "metadata": {},
   "source": [
    "![q-01](img/10-fsm-a02-q02-bet.png)"
   ]
  },
  {
   "cell_type": "code",
   "execution_count": 4,
   "metadata": {},
   "outputs": [
    {
     "name": "stdout",
     "output_type": "stream",
     "text": [
      "'1' : true \n",
      "'0' : false \n",
      "'11' : true \n",
      "'00001' : true \n",
      "'100001' : true \n"
     ]
    }
   ],
   "source": [
    "%load fsm\n",
    "var fsm = fsmFromMermaid(\"Bet\", \"10-fsm-a02.dib\");\n",
    "accept(fsm, \"1\", \"0\", \"11\", \"00001\", \"100001\");"
   ]
  },
  {
   "cell_type": "markdown",
   "metadata": {},
   "source": [
    "![q-01](img/10-fsm-a02-q03-gimel.png)"
   ]
  },
  {
   "cell_type": "code",
   "execution_count": 6,
   "metadata": {},
   "outputs": [
    {
     "name": "stdout",
     "output_type": "stream",
     "text": [
      "'' : false \n",
      "'1' : true \n",
      "'0' : false \n",
      "'010' : true \n",
      "'1100011100' : true \n",
      "'00000100000' : true \n",
      "'100' : true \n",
      "'000' : false \n"
     ]
    }
   ],
   "source": [
    "%load fsm\n",
    "var fsm = fsmFromMermaid(\"Gimel\", \"10-fsm-a02.dib\");\n",
    "accept(fsm, \"\", \"1\", \"0\", \"010\", \"1100011100\", \"00000100000\", \"100\", \"000\");"
   ]
  },
  {
   "cell_type": "markdown",
   "metadata": {},
   "source": [
    "![q-01](img/10-fsm-a02-q04-daled.png)"
   ]
  },
  {
   "cell_type": "code",
   "execution_count": 8,
   "metadata": {},
   "outputs": [
    {
     "name": "stdout",
     "output_type": "stream",
     "text": [
      "'' : false \n",
      "'1' : false \n",
      "'0' : false \n",
      "'11' : true \n",
      "'001' : false \n",
      "'011' : false \n",
      "'101' : false \n",
      "'1100001' : true \n"
     ]
    }
   ],
   "source": [
    "%load fsm\n",
    "var fsm = fsmFromMermaid(\"Daled\", \"10-fsm-a02.dib\");\n",
    "accept(fsm, \"\", \"1\", \"0\", \"11\", \"001\", \"011\", \"101\", \"1100001\");"
   ]
  },
  {
   "cell_type": "markdown",
   "metadata": {},
   "source": [
    "![q-01](img/10-fsm-a02-q05-hei.png)"
   ]
  },
  {
   "cell_type": "code",
   "execution_count": 9,
   "metadata": {},
   "outputs": [
    {
     "name": "stdout",
     "output_type": "stream",
     "text": [
      "'' : false \n",
      "'11' : true \n",
      "'011' : true \n",
      "'1011' : true \n",
      "'001001' : false \n"
     ]
    }
   ],
   "source": [
    "%load fsm\n",
    "var fsm = fsmFromMermaid(\"Hei\", \"10-fsm-a02.dib\");\n",
    "accept(fsm, \"\", \"11\", \"011\", \"1011\", \"001001\");"
   ]
  },
  {
   "cell_type": "markdown",
   "metadata": {},
   "source": [
    "![q-01](img/10-fsm-a02-q06-vav.png)"
   ]
  },
  {
   "cell_type": "code",
   "execution_count": 10,
   "metadata": {},
   "outputs": [
    {
     "name": "stdout",
     "output_type": "stream",
     "text": [
      "'' : false \n",
      "'11' : true \n",
      "'0110' : true \n",
      "'01010' : false \n",
      "'100110001' : true \n"
     ]
    }
   ],
   "source": [
    "%load fsm\n",
    "var fsm = fsmFromMermaid(\"Vav\", \"10-fsm-a02.dib\");\n",
    "accept(fsm, \"\", \"11\", \"0110\", \"01010\", \"100110001\");"
   ]
  },
  {
   "cell_type": "markdown",
   "metadata": {},
   "source": [
    "![q-01](img/10-fsm-a02-q07-zain.png)"
   ]
  },
  {
   "cell_type": "code",
   "execution_count": 21,
   "metadata": {},
   "outputs": [
    {
     "name": "stdout",
     "output_type": "stream",
     "text": [
      "'' : true \n",
      "'11' : false \n",
      "'100' : true \n",
      "'10' : true \n",
      "'011' : false \n",
      "'0001' : true \n"
     ]
    }
   ],
   "source": [
    "%load fsm\n",
    "var fsm = fsmFromMermaid(\"Zain\", \"10-fsm-a02.dib\");\n",
    "accept(fsm, \"\", \"11\", \"100\", \"10\", \"011\", \"0001\");"
   ]
  },
  {
   "cell_type": "markdown",
   "metadata": {},
   "source": [
    "![q-01](img/10-fsm-a02-q08-het.png)"
   ]
  },
  {
   "cell_type": "code",
   "execution_count": 27,
   "metadata": {},
   "outputs": [
    {
     "name": "stdout",
     "output_type": "stream",
     "text": [
      "'' : false \n",
      "'1011' : true \n",
      "'1011010101' : true \n",
      "'110111' : false \n",
      "'011001011' : false \n"
     ]
    }
   ],
   "source": [
    "%load fsm\n",
    "var fsm = fsmFromMermaid(\"Het\", \"10-fsm-a02.dib\");\n",
    "accept(fsm, \"\", \"1011\", \"1011010101\", \"110111\", \"011001011\");"
   ]
  },
  {
   "cell_type": "markdown",
   "metadata": {},
   "source": [
    "![q-01](img/10-fsm-a02-q09-tet.png)"
   ]
  },
  {
   "cell_type": "code",
   "execution_count": 30,
   "metadata": {},
   "outputs": [
    {
     "name": "stdout",
     "output_type": "stream",
     "text": [
      "'' : false \n",
      "'1011' : true \n",
      "'010110' : true \n",
      "'11110110000' : true \n",
      "'111000' : false \n"
     ]
    }
   ],
   "source": [
    "%load fsm\n",
    "var fsm = fsmFromMermaid(\"Tet\", \"10-fsm-a02.dib\");\n",
    "accept(fsm, \"\", \"1011\", \"010110\", \"11110110000\", \"111000\");"
   ]
  },
  {
   "cell_type": "markdown",
   "metadata": {},
   "source": [
    "![q-01](img/10-fsm-a02-q10-yud.png)"
   ]
  },
  {
   "cell_type": "code",
   "execution_count": 24,
   "metadata": {},
   "outputs": [
    {
     "name": "stdout",
     "output_type": "stream",
     "text": [
      "'' : false \n",
      "'1011' : true \n",
      "'001011' : true \n",
      "'101100' : false \n",
      "'00101100' : false \n",
      "'000111' : false \n"
     ]
    }
   ],
   "source": [
    "%load fsm\n",
    "var fsm = fsmFromMermaid(\"Yud\", \"10-fsm-a02.dib\");\n",
    "accept(fsm, \"\", \"1011\", \"001011\", \"101100\", \"00101100\", \"000111\");"
   ]
  }
 ],
 "metadata": {
  "kernelspec": {
   "display_name": "Java",
   "language": "java",
   "name": "java"
  },
  "language_info": {
   "codemirror_mode": "java",
   "file_extension": ".jshell",
   "mimetype": "text/x-java-source",
   "name": "java",
   "pygments_lexer": "java",
   "version": "21.0.4+7-LTS"
  }
 },
 "nbformat": 4,
 "nbformat_minor": 2
}
