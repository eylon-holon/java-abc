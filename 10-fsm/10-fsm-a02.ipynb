{
 "cells": [
  {
   "cell_type": "markdown",
   "metadata": {},
   "source": [
    "![h1](img/10-fsm-02-h1.png)\n",
    "![h2](img/10-fsm-02-h2.png)"
   ]
  },
  {
   "cell_type": "markdown",
   "metadata": {},
   "source": [
    "![q-01](img/10-fsm-a02-q01-alef.png)"
   ]
  },
  {
   "cell_type": "code",
   "execution_count": 2,
   "metadata": {
    "vscode": {
     "languageId": "java"
    }
   },
   "outputs": [
    {
     "name": "stdout",
     "output_type": "stream",
     "text": [
      "FSM['Alef']: accepting word ''\n",
      "FSM['Alef']: '' is wrong\n",
      "'' : false \n",
      "'' : false \n",
      "'1' : true \n",
      "'0' : false \n",
      "'11' : true \n",
      "'00' : false \n",
      "'01' : false \n",
      "'0011' : false \n"
     ]
    }
   ],
   "source": [
    "%load fsm\n",
    "var fsm = fsmFromMermaid(\"Alef\", \"10-fsm-a02.dib\");\n",
    "accept(fsm, true, \"\");\n",
    "accept(fsm, \"\", \"1\", \"0\", \"11\" , \"00\", \"01\", \"0011\");"
   ]
  },
  {
   "cell_type": "markdown",
   "metadata": {},
   "source": [
    "![q-01](img/10-fsm-a02-q02-bet.png)"
   ]
  },
  {
   "cell_type": "code",
   "execution_count": 4,
   "metadata": {
    "vscode": {
     "languageId": "java"
    }
   },
   "outputs": [
    {
     "name": "stdout",
     "output_type": "stream",
     "text": [
      "FSM['Bet']: accepting word ''\n",
      "FSM['Bet']: '' is wrong\n",
      "'' : false \n",
      "'' : false \n",
      "'1' : true \n",
      "'0' : false \n",
      "'11' : true \n",
      "'00' : false \n",
      "'01' : true \n",
      "'1010' : false \n"
     ]
    }
   ],
   "source": [
    "%load fsm\n",
    "var fsm = fsmFromMermaid(\"Bet\", \"10-fsm-a02.dib\");\n",
    "accept(fsm, true, \"\");\n",
    "accept(fsm, \"\", \"1\", \"0\", \"11\" , \"00\", \"01\", \"1010\");"
   ]
  },
  {
   "cell_type": "markdown",
   "metadata": {},
   "source": [
    "![q-01](img/10-fsm-a02-q03-gimel.png)"
   ]
  },
  {
   "cell_type": "code",
   "execution_count": 6,
   "metadata": {
    "vscode": {
     "languageId": "java"
    }
   },
   "outputs": [
    {
     "name": "stdout",
     "output_type": "stream",
     "text": [
      "FSM['Gimel']: accepting word ''\n",
      "FSM['Gimel']: '' is wrong\n",
      "'' : false \n",
      "'' : false \n",
      "'1' : true \n",
      "'0' : false \n",
      "'11' : true \n",
      "'00' : false \n",
      "'01' : true \n",
      "'1010' : true \n"
     ]
    }
   ],
   "source": [
    "%load fsm\n",
    "var fsm = fsmFromMermaid(\"Gimel\", \"10-fsm-a02.dib\");\n",
    "accept(fsm, true, \"\");\n",
    "accept(fsm, \"\", \"1\", \"0\", \"11\" , \"00\", \"01\", \"1010\");"
   ]
  },
  {
   "cell_type": "markdown",
   "metadata": {},
   "source": [
    "![q-01](img/10-fsm-a02-q04-daled.png)"
   ]
  },
  {
   "cell_type": "code",
   "execution_count": 8,
   "metadata": {
    "vscode": {
     "languageId": "java"
    }
   },
   "outputs": [
    {
     "name": "stdout",
     "output_type": "stream",
     "text": [
      "FSM['Daled']: accepting word ''\n",
      "FSM['Daled']: '' is wrong\n",
      "'' : false \n",
      "'' : false \n",
      "'1' : false \n",
      "'0' : false \n",
      "'11' : true \n",
      "'00' : false \n",
      "'01' : false \n",
      "'1110' : true \n"
     ]
    }
   ],
   "source": [
    "%load fsm\n",
    "var fsm = fsmFromMermaid(\"Daled\", \"10-fsm-a02.dib\");\n",
    "accept(fsm, true, \"\");\n",
    "accept(fsm, \"\", \"1\", \"0\", \"11\" , \"00\", \"01\", \"1110\");"
   ]
  },
  {
   "cell_type": "markdown",
   "metadata": {},
   "source": [
    "![q-01](img/10-fsm-a02-q05-hei.png)"
   ]
  },
  {
   "cell_type": "code",
   "execution_count": 12,
   "metadata": {
    "vscode": {
     "languageId": "java"
    }
   },
   "outputs": [
    {
     "name": "stdout",
     "output_type": "stream",
     "text": [
      "FSM['Hei']: accepting word ''\n",
      "FSM['Hei']: '' is wrong\n",
      "'' : false \n",
      "'' : false \n",
      "'1' : false \n",
      "'0' : false \n",
      "'11' : true \n",
      "'00' : false \n",
      "'01' : false \n",
      "'1001' : false \n"
     ]
    }
   ],
   "source": [
    "%load fsm\n",
    "var fsm = fsmFromMermaid(\"Hei\", \"10-fsm-a02.dib\");\n",
    "accept(fsm, true, \"\");\n",
    "accept(fsm, \"\", \"1\", \"0\", \"11\" , \"00\", \"01\", \"1001\");"
   ]
  },
  {
   "cell_type": "markdown",
   "metadata": {},
   "source": [
    "![q-01](img/10-fsm-a02-q06-vav.png)"
   ]
  },
  {
   "cell_type": "code",
   "execution_count": 13,
   "metadata": {
    "vscode": {
     "languageId": "java"
    }
   },
   "outputs": [
    {
     "name": "stdout",
     "output_type": "stream",
     "text": [
      "WARN: 'q2-->|1'0|q2' has a letter '1'0' which is not a single character\n",
      "FSM['Vav']: accepting word ''\n",
      "FSM['Vav']: '' is wrong\n",
      "'' : false \n",
      "'' : false \n",
      "'1' : false \n",
      "'0' : false \n",
      "'11' : true \n",
      "'00' : false \n",
      "'01' : false \n",
      "'1001' : true \n"
     ]
    }
   ],
   "source": [
    "%load fsm\n",
    "var fsm = fsmFromMermaid(\"Vav\", \"10-fsm-a02.dib\");\n",
    "accept(fsm, true, \"\");\n",
    "accept(fsm, \"\", \"1\", \"0\", \"11\" , \"00\", \"01\", \"1001\");"
   ]
  },
  {
   "cell_type": "markdown",
   "metadata": {},
   "source": [
    "![q-01](img/10-fsm-a02-q07-zain.png)"
   ]
  },
  {
   "cell_type": "code",
   "execution_count": 14,
   "metadata": {
    "vscode": {
     "languageId": "java"
    }
   },
   "outputs": [
    {
     "name": "stdout",
     "output_type": "stream",
     "text": [
      "FSM['Zain']: accepting word ''\n",
      "FSM['Zain']: '' is accepted\n",
      "'' : true \n",
      "'' : true \n",
      "'1' : true \n",
      "'0' : true \n",
      "'11' : false \n",
      "'00' : true \n",
      "'01' : true \n",
      "'1001' : false \n"
     ]
    }
   ],
   "source": [
    "%load fsm\n",
    "var fsm = fsmFromMermaid(\"Zain\", \"10-fsm-a02.dib\");\n",
    "accept(fsm, true, \"\");\n",
    "accept(fsm, \"\", \"1\", \"0\", \"11\" , \"00\", \"01\", \"1001\");"
   ]
  },
  {
   "cell_type": "markdown",
   "metadata": {},
   "source": [
    "![q-01](img/10-fsm-a02-q08-het.png)"
   ]
  },
  {
   "cell_type": "code",
   "execution_count": 17,
   "metadata": {
    "vscode": {
     "languageId": "java"
    }
   },
   "outputs": [
    {
     "name": "stdout",
     "output_type": "stream",
     "text": [
      "FSM['Het']: accepting word ''\n",
      "FSM['Het']: '' is wrong\n",
      "'' : false \n",
      "'' : false \n",
      "'1' : false \n",
      "'0' : false \n",
      "'11' : false \n",
      "'00' : false \n",
      "'01' : false \n",
      "'11010101010101' : true \n"
     ]
    }
   ],
   "source": [
    "%load fsm\n",
    "var fsm = fsmFromMermaid(\"Het\", \"10-fsm-a02.dib\");\n",
    "accept(fsm, true, \"\");\n",
    "accept(fsm, \"\", \"1\", \"0\", \"11\" , \"00\", \"01\", \"11010101010101\");"
   ]
  },
  {
   "cell_type": "markdown",
   "metadata": {},
   "source": [
    "![q-01](img/10-fsm-a02-q09-tet.png)"
   ]
  },
  {
   "cell_type": "code",
   "execution_count": 20,
   "metadata": {
    "vscode": {
     "languageId": "java"
    }
   },
   "outputs": [
    {
     "name": "stdout",
     "output_type": "stream",
     "text": [
      "FSM['Tet']: accepting word ''\n",
      "FSM['Tet']: '' is wrong\n",
      "'' : false \n",
      "'' : false \n",
      "'1' : false \n",
      "'0' : false \n",
      "'11' : false \n",
      "'00' : false \n",
      "'01' : false \n",
      "'1001010110101' : true \n"
     ]
    }
   ],
   "source": [
    "%load fsm\n",
    "var fsm = fsmFromMermaid(\"Tet\", \"10-fsm-a02.dib\");\n",
    "accept(fsm, true, \"\");\n",
    "accept(fsm, \"\", \"1\", \"0\", \"11\" , \"00\", \"01\", \"1001010110101\");"
   ]
  },
  {
   "cell_type": "markdown",
   "metadata": {},
   "source": [
    "![q-01](img/10-fsm-a02-q10-yud.png)"
   ]
  },
  {
   "cell_type": "code",
   "execution_count": 28,
   "metadata": {
    "vscode": {
     "languageId": "java"
    }
   },
   "outputs": [
    {
     "name": "stdout",
     "output_type": "stream",
     "text": [
      "FSM['Yud']: accepting word ''\n",
      "FSM['Yud']: '' is wrong\n",
      "'' : false \n",
      "'' : false \n",
      "'1' : false \n",
      "'0' : false \n",
      "'11' : false \n",
      "'00' : false \n",
      "'01' : false \n",
      "'10101101' : true \n"
     ]
    }
   ],
   "source": [
    "%load fsm\n",
    "var fsm = fsmFromMermaid(\"Yud\", \"10-fsm-a02.dib\");\n",
    "accept(fsm, true, \"\");\n",
    "accept(fsm, \"\", \"1\", \"0\", \"11\" , \"00\", \"01\", \"10101101\");"
   ]
  }
 ],
 "metadata": {
  "kernelspec": {
   "display_name": "Java",
   "language": "java",
   "name": "java"
  },
  "language_info": {
   "codemirror_mode": "java",
   "file_extension": ".jshell",
   "mimetype": "text/x-java-source",
   "name": "Java",
   "pygments_lexer": "java",
   "version": "21.0.4+7-LTS"
  }
 },
 "nbformat": 4,
 "nbformat_minor": 2
}
