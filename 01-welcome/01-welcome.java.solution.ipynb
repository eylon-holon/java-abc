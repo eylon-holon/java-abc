{
 "cells": [
  {
   "cell_type": "code",
   "execution_count": null,
<<<<<<< HEAD
   "metadata": {
    "vscode": {
     "languageId": "java"
    }
   },
=======
   "metadata": {},
>>>>>>> 45beb6bf36648bc0bda8c9bfb2b4e5bfa37470c8
   "outputs": [],
   "source": [
    "int min(int[] a) {\n",
    "    int min = Integer.MAX_VALUE;\n",
    "    for (int i = 0; i < a.length; i++) {\n",
    "        min = Math.min(min, a[i]);\n",
    "    }\n",
    "    return min;\n",
    "}"
   ]
  },
  {
   "cell_type": "code",
   "execution_count": null,
<<<<<<< HEAD
   "metadata": {
    "vscode": {
     "languageId": "java"
    }
   },
=======
   "metadata": {},
>>>>>>> 45beb6bf36648bc0bda8c9bfb2b4e5bfa37470c8
   "outputs": [],
   "source": [
    "System.out.println(min(new int[] {1, 2, 3}));\n",
    "System.out.println(min(new int[] {1, 2, -3}));\n",
    "System.out.println(min(new int[] {-1, -20, -3}));"
   ]
  },
  {
   "cell_type": "code",
   "execution_count": null,
<<<<<<< HEAD
   "metadata": {
    "vscode": {
     "languageId": "java"
    }
   },
=======
   "metadata": {},
>>>>>>> 45beb6bf36648bc0bda8c9bfb2b4e5bfa37470c8
   "outputs": [],
   "source": [
    "int max(int[] a) {\n",
    "    int max = Integer.MIN_VALUE;\n",
    "    for (int i = 0; i < a.length; i++) {\n",
    "        max = Math.max(max, a[i]);\n",
    "    }\n",
    "    return max;\n",
    "}"
   ]
  },
  {
   "cell_type": "code",
   "execution_count": null,
<<<<<<< HEAD
   "metadata": {
    "vscode": {
     "languageId": "java"
    }
   },
=======
   "metadata": {},
>>>>>>> 45beb6bf36648bc0bda8c9bfb2b4e5bfa37470c8
   "outputs": [],
   "source": [
    "System.out.println(max(new int[] {1, 2, 3}));\n",
    "System.out.println(max(new int[] {1, 2, -3}));\n",
    "System.out.println(max(new int[] {-1, -20, -3}));"
   ]
  },
  {
   "cell_type": "code",
   "execution_count": null,
<<<<<<< HEAD
   "metadata": {
    "vscode": {
     "languageId": "java"
    }
   },
=======
   "metadata": {},
>>>>>>> 45beb6bf36648bc0bda8c9bfb2b4e5bfa37470c8
   "outputs": [],
   "source": [
    "int average(int[] a) {\n",
    "    int sum = 0;\n",
    "    for (int i = 0; i < a.length; i++) {\n",
    "        sum += a[i];\n",
    "    }\n",
    "    return sum / a.length;\n",
    "}"
   ]
  },
  {
   "cell_type": "code",
   "execution_count": null,
<<<<<<< HEAD
   "metadata": {
    "vscode": {
     "languageId": "java"
    }
   },
=======
   "metadata": {},
>>>>>>> 45beb6bf36648bc0bda8c9bfb2b4e5bfa37470c8
   "outputs": [],
   "source": [
    "System.out.println(average(new int[] {1, 2, 3}));\n",
    "System.out.println(average(new int[] {1, 2, -3, 10, 20}));\n",
    "System.out.println(average(new int[] {1, -20, -3}));"
   ]
  },
  {
   "cell_type": "code",
   "execution_count": null,
<<<<<<< HEAD
   "metadata": {
    "vscode": {
     "languageId": "java"
    }
   },
=======
   "metadata": {},
>>>>>>> 45beb6bf36648bc0bda8c9bfb2b4e5bfa37470c8
   "outputs": [],
   "source": [
    "int min2d(int[][] m) {\n",
    "    var min = Integer.MAX_VALUE;\n",
    "    for (int i = 0; i < m.length; i++) {\n",
    "        for (int j = 0; j < m[0].length; j++) {\n",
    "            min = Math.min(min, m[i][j]);\n",
    "        }\n",
    "    }\n",
    "    return min;\n",
    "}"
   ]
  },
  {
   "cell_type": "code",
   "execution_count": null,
<<<<<<< HEAD
   "metadata": {
    "vscode": {
     "languageId": "java"
    }
   },
=======
   "metadata": {},
>>>>>>> 45beb6bf36648bc0bda8c9bfb2b4e5bfa37470c8
   "outputs": [],
   "source": [
    "min2d(new int[][] {\n",
    "    new int[] {1, 2, 3},\n",
    "    new int[] {1, 30, -3},\n",
    "    new int[] {1, 20, 3},\n",
    "});"
   ]
  },
  {
   "cell_type": "code",
   "execution_count": null,
<<<<<<< HEAD
   "metadata": {
    "vscode": {
     "languageId": "java"
    }
   },
=======
   "metadata": {},
>>>>>>> 45beb6bf36648bc0bda8c9bfb2b4e5bfa37470c8
   "outputs": [],
   "source": [
    "int max2d(int[][] m) {\n",
    "    var max = Integer.MIN_VALUE;\n",
    "    for (int i = 0; i < m.length; i++) {\n",
    "        for (int j = 0; j < m[0].length; j++) {\n",
    "            max = Math.max(max, m[i][j]);\n",
    "        }\n",
    "    }\n",
    "    return max;\n",
    "}"
   ]
  },
  {
   "cell_type": "code",
   "execution_count": null,
<<<<<<< HEAD
   "metadata": {
    "vscode": {
     "languageId": "java"
    }
   },
=======
   "metadata": {},
>>>>>>> 45beb6bf36648bc0bda8c9bfb2b4e5bfa37470c8
   "outputs": [],
   "source": [
    "max2d(new int[][] {\n",
    "    new int[] {1, 2, 3},\n",
    "    new int[] {1, 30, -3},\n",
    "    new int[] {1, 20, 3},\n",
    "});"
   ]
  }
 ],
 "metadata": {
  "kernelspec": {
   "display_name": "Java",
   "language": "java",
   "name": "java"
  },
  "language_info": {
   "codemirror_mode": "java",
   "file_extension": ".jshell",
   "mimetype": "text/x-java-source",
   "name": "java",
   "pygments_lexer": "java",
   "version": "21.0.4+7-LTS"
  }
 },
 "nbformat": 4,
 "nbformat_minor": 2
}
