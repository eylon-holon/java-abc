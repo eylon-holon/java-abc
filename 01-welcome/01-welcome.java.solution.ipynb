{
 "cells": [
  {
   "cell_type": "code",
   "execution_count": 5,
   "metadata": {
    "vscode": {
     "languageId": "java"
    }
   },
   "outputs": [],
   "source": [
    "int min(int[] a) {\n",
    "    int min = Integer.MAX_VALUE;\n",
    "    for (int i = 0; i < a.length; i++) {\n",
    "        min = Math.min(min, a[i]);\n",
    "    }\n",
    "    return min;\n",
    "}"
   ]
  },
  {
   "cell_type": "code",
   "execution_count": 6,
   "metadata": {
    "vscode": {
     "languageId": "java"
    }
   },
   "outputs": [
    {
     "name": "stdout",
     "output_type": "stream",
     "text": [
      "1\n",
      "-3\n",
      "-20\n"
     ]
    }
   ],
   "source": [
    "System.out.println(min(new int[] {1, 2, 3}));\n",
    "System.out.println(min(new int[] {1, 2, -3}));\n",
    "System.out.println(min(new int[] {-1, -20, -3}));"
   ]
  },
  {
   "cell_type": "code",
   "execution_count": 7,
   "metadata": {
    "vscode": {
     "languageId": "java"
    }
   },
   "outputs": [],
   "source": [
    "int max(int[] a) {\n",
    "    int max = Integer.MIN_VALUE;\n",
    "    for (int i = 0; i < a.length; i++) {\n",
    "        max = Math.max(max, a[i]);\n",
    "    }\n",
    "    return max;\n",
    "}"
   ]
  },
  {
   "cell_type": "code",
   "execution_count": 8,
   "metadata": {
    "vscode": {
     "languageId": "java"
    }
   },
   "outputs": [
    {
     "name": "stdout",
     "output_type": "stream",
     "text": [
      "3\n",
      "2\n",
      "-1\n"
     ]
    }
   ],
   "source": [
    "System.out.println(max(new int[] {1, 2, 3}));\n",
    "System.out.println(max(new int[] {1, 2, -3}));\n",
    "System.out.println(max(new int[] {-1, -20, -3}));"
   ]
  },
  {
   "cell_type": "code",
   "execution_count": 10,
   "metadata": {
    "vscode": {
     "languageId": "java"
    }
   },
   "outputs": [],
   "source": [
    "int average(int[] a) {\n",
    "    int sum = 0;\n",
    "    for (int i = 0; i < a.length; i++) {\n",
    "        sum += a[i];\n",
    "    }\n",
    "    return sum / a.length;\n",
    "}"
   ]
  },
  {
   "cell_type": "code",
   "execution_count": 11,
   "metadata": {
    "vscode": {
     "languageId": "java"
    }
   },
   "outputs": [
    {
     "name": "stdout",
     "output_type": "stream",
     "text": [
      "2\n",
      "6\n",
      "-7\n"
     ]
    }
   ],
   "source": [
    "System.out.println(average(new int[] {1, 2, 3}));\n",
    "System.out.println(average(new int[] {1, 2, -3, 10, 20}));\n",
    "System.out.println(average(new int[] {1, -20, -3}));"
   ]
  },
  {
   "cell_type": "code",
   "execution_count": 19,
   "metadata": {
    "vscode": {
     "languageId": "java"
    }
   },
   "outputs": [],
   "source": [
    "int min2d(int[][] m) {\n",
    "    var min = Integer.MAX_VALUE;\n",
    "    for (int i = 0; i < m.length; i++) {\n",
    "        for (int j = 0; j < m[0].length; j++) {\n",
    "            min = Math.min(min, m[i][j]);\n",
    "        }\n",
    "    }\n",
    "    return min;\n",
    "}"
   ]
  },
  {
   "cell_type": "code",
   "execution_count": 21,
   "metadata": {
    "vscode": {
     "languageId": "java"
    }
   },
   "outputs": [
    {
     "data": {
      "text/plain": [
       "-3"
      ]
     },
     "execution_count": 21,
     "metadata": {},
     "output_type": "execute_result"
    }
   ],
   "source": [
    "min2d(new int[][] {\n",
    "    new int[] {1, 2, 3},\n",
    "    new int[] {1, 30, -3},\n",
    "    new int[] {1, 20, 3},\n",
    "});"
   ]
  },
  {
   "cell_type": "code",
   "execution_count": 26,
   "metadata": {
    "vscode": {
     "languageId": "java"
    }
   },
   "outputs": [],
   "source": [
    "int max2d(int[][] m) {\n",
    "    var max = Integer.MIN_VALUE;\n",
    "    for (int i = 0; i < m.length; i++) {\n",
    "        for (int j = 0; j < m[0].length; j++) {\n",
    "            max = Math.max(max, m[i][j]);\n",
    "        }\n",
    "    }\n",
    "    return max;\n",
    "}"
   ]
  },
  {
   "cell_type": "code",
   "execution_count": 27,
   "metadata": {
    "vscode": {
     "languageId": "java"
    }
   },
   "outputs": [
    {
     "data": {
      "text/plain": [
       "30"
      ]
     },
     "execution_count": 27,
     "metadata": {},
     "output_type": "execute_result"
    }
   ],
   "source": [
    "max2d(new int[][] {\n",
    "    new int[] {1, 2, 3},\n",
    "    new int[] {1, 30, -3},\n",
    "    new int[] {1, 20, 3},\n",
    "});"
   ]
  }
 ],
 "metadata": {
  "kernelspec": {
   "display_name": "Java",
   "language": "java",
   "name": "java"
  },
  "language_info": {
   "codemirror_mode": "java",
   "file_extension": ".jshell",
   "mimetype": "text/x-java-source",
   "name": "Java",
   "pygments_lexer": "java",
   "version": "23+37-2369"
  }
 },
 "nbformat": 4,
 "nbformat_minor": 2
}
