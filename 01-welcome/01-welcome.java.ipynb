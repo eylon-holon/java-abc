{
 "cells": [
  {
   "cell_type": "code",
   "execution_count": null,
   "metadata": {},
   "outputs": [],
   "source": [
    "int min(int[] a) {\n",
    "    int min = a[0];\n",
    "    for (int i = 0; i < a.length; i++) {\n",
    "        if(a[i]<min)\n",
    "            min=a[i];\n",
    "    }\n",
    "    return min;\n",
    "}"
   ]
  },
  {
   "cell_type": "code",
   "execution_count": null,
   "metadata": {},
   "outputs": [],
   "source": [
    "System.out.println(min(new int[] {1, 2, 3}));\n",
    "System.out.println(min(new int[] {1, 2, -3}));\n",
    "System.out.println(min(new int[] {-1, -20, -3}));"
   ]
  },
  {
   "cell_type": "code",
   "execution_count": null,
   "metadata": {},
   "outputs": [],
   "source": [
    "int max(int[] a) {\n",
    "    int max = a[0];\n",
    "    for (int i = 0; i < a.length; i++) {\n",
    "        if(a[i]>max)\n",
    "            max=a[i];\n",
    "    }\n",
    "    return max;\n",
    "}"
   ]
  },
  {
   "cell_type": "code",
   "execution_count": null,
   "metadata": {},
   "outputs": [],
   "source": [
    "System.out.println(max(new int[] {1, 2, 3}));\n",
    "System.out.println(max(new int[] {1, 2, -3}));\n",
    "System.out.println(max(new int[] {-1, -20, -3}));"
   ]
  },
  {
   "cell_type": "code",
   "execution_count": null,
   "metadata": {},
   "outputs": [],
   "source": [
    "int average(int[] a) {\n",
    "    int sum =a[0];\n",
    "    for (int i = 0; i < a.length; i++) {\n",
    "        sum=sum+a[i];    \n",
    "    }\n",
    "    int average=sum/a.length;\n",
    "    return average;\n",
    "}"
   ]
  },
  {
   "cell_type": "code",
   "execution_count": 14,
   "metadata": {},
   "outputs": [
    {
     "name": "stdout",
     "output_type": "stream",
     "text": [
      "2\n",
      "0\n",
      "-8\n"
     ]
    }
   ],
   "source": [
    "System.out.println(average(new int[] {1, 2, 3}));\n",
    "System.out.println(average(new int[] {1, 2, -3}));\n",
    "System.out.println(average(new int[] {-1, -20, -3}));"
   ]
  },
  {
   "cell_type": "code",
   "execution_count": null,
   "metadata": {},
   "outputs": [],
   "source": [
    "int min2d(int[][] m) {\n",
    "    ...\n",
    "}"
   ]
  },
  {
   "cell_type": "code",
   "execution_count": null,
   "metadata": {},
   "outputs": [],
   "source": [
    "int max2d(int[][] m) {\n",
    "    ...\n",
    "}"
   ]
  }
 ],
 "metadata": {
  "kernelspec": {
   "display_name": "Python 3",
   "language": "python",
   "name": "python3"
  },
  "language_info": {
   "codemirror_mode": {
    "name": "ipython",
    "version": 3
   },
   "file_extension": ".py",
   "mimetype": "text/x-python",
   "name": "python",
   "nbconvert_exporter": "python",
   "pygments_lexer": "ipython3",
   "version": "3.12.1"
  }
 },
 "nbformat": 4,
 "nbformat_minor": 2
}
