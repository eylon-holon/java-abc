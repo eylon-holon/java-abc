{
 "cells": [
  {
   "cell_type": "code",
<<<<<<< HEAD
   "execution_count": 1,
=======
   "execution_count": null,
>>>>>>> 5834ca6050cc17e8206cd38ddc14fb3ba1e8b622
   "metadata": {},
   "outputs": [],
   "source": [
    "int min(int[] a) {\n",
    "    int min = a[0];\n",
    "    for (int i = 0; i < a.length; i++) {\n",
    "        if(a[i]<min)\n",
    "            min=a[i];\n",
    "    }\n",
    "    return min;\n",
    "}"
   ]
  },
  {
   "cell_type": "code",
<<<<<<< HEAD
   "execution_count": 2,
   "metadata": {},
   "outputs": [
    {
     "name": "stdout",
     "output_type": "stream",
     "text": [
      "1\n",
      "-3\n"
     ]
    },
    {
     "name": "stdout",
     "output_type": "stream",
     "text": [
      "-20\n"
     ]
    }
   ],
=======
   "execution_count": null,
   "metadata": {},
   "outputs": [],
>>>>>>> 5834ca6050cc17e8206cd38ddc14fb3ba1e8b622
   "source": [
    "System.out.println(min(new int[] {1, 2, 3}));\n",
    "System.out.println(min(new int[] {1, 2, -3}));\n",
    "System.out.println(min(new int[] {-1, -20, -3}));"
   ]
  },
  {
   "cell_type": "code",
<<<<<<< HEAD
   "execution_count": 3,
=======
   "execution_count": null,
>>>>>>> 5834ca6050cc17e8206cd38ddc14fb3ba1e8b622
   "metadata": {},
   "outputs": [],
   "source": [
    "int max(int[] a) {\n",
    "    int max = a[0];\n",
    "    for (int i = 0; i < a.length; i++) {\n",
    "        if(a[i]>max)\n",
    "            max=a[i];\n",
    "    }\n",
    "    return max;\n",
    "}"
   ]
  },
  {
   "cell_type": "code",
<<<<<<< HEAD
   "execution_count": 4,
   "metadata": {},
   "outputs": [
    {
     "name": "stdout",
     "output_type": "stream",
     "text": [
      "3\n",
      "2\n",
      "-1\n"
     ]
    }
   ],
=======
   "execution_count": null,
   "metadata": {},
   "outputs": [],
>>>>>>> 5834ca6050cc17e8206cd38ddc14fb3ba1e8b622
   "source": [
    "System.out.println(max(new int[] {1, 2, 3}));\n",
    "System.out.println(max(new int[] {1, 2, -3}));\n",
    "System.out.println(max(new int[] {-1, -20, -3}));"
   ]
  },
  {
   "cell_type": "code",
<<<<<<< HEAD
   "execution_count": 6,
=======
   "execution_count": null,
>>>>>>> 5834ca6050cc17e8206cd38ddc14fb3ba1e8b622
   "metadata": {},
   "outputs": [],
   "source": [
    "int average(int[] a) {\n",
    "    int sum=0;\n",
    "    for(int i=0; i<a.length; I++) {\n",
    "        sum=sum+a[i];\n",
    "    }\n",
    "    return sum/i;\n",
    "}"
   ]
  },
  {
   "cell_type": "code",
<<<<<<< HEAD
   "execution_count": 9,
   "metadata": {},
   "outputs": [
    {
     "ename": "UnresolvedReferenceException",
     "evalue": "Attempt to use definition snippet with unresolved references in MethodSnippet:average/(int[])int-int average(int[] a) {\n    int sum=0;\n    for(int i=0; i<a.length; I++) {\n        sum=sum+a[i];\n    }\n    return sum/i;\n}",
     "output_type": "error",
     "traceback": [
      "\u001b[1m\u001b[30m|   \u001b[1m\u001b[30mint average(int[] a) {\u001b[0m",
      "\u001b[1m\u001b[30m|   \u001b[1m\u001b[30m    int sum=0;\u001b[0m",
      "\u001b[1m\u001b[30m|   \u001b[1m\u001b[30m    for(int i=0; i<a.length; I++) {\u001b[0m",
      "\u001b[1m\u001b[30m|   \u001b[1m\u001b[30m        sum=sum+a[i];\u001b[0m",
      "\u001b[1m\u001b[30m|   \u001b[1m\u001b[30m    }\u001b[0m",
      "\u001b[1m\u001b[30m|   \u001b[1m\u001b[30m    return sum/i;\u001b[0m",
      "\u001b[1m\u001b[30m|   \u001b[1m\u001b[30m}\u001b[0m",
      "\u001b[1m\u001b[31mUnresolved dependencies:\u001b[0m",
      "\u001b[1m\u001b[31m   - variable I\u001b[0m",
      "\u001b[1m\u001b[31m   - variable i\u001b[0m"
     ]
    }
   ],
   "source": [
    "System.out.println(average(new int[] {1, 2, 3}));\n",
    "System.out.println(average(new int[] {1, 2, -3}));\n",
    "System.out.println(average(new int[] {-1, -20, -3}));"
   ]
  },
  {
   "cell_type": "code",
=======
>>>>>>> 5834ca6050cc17e8206cd38ddc14fb3ba1e8b622
   "execution_count": null,
   "metadata": {},
   "outputs": [],
   "source": [
    "int min2d(int[][] m) {\n",
    "    ...\n",
    "}"
   ]
  },
  {
   "cell_type": "code",
   "execution_count": null,
   "metadata": {},
   "outputs": [],
   "source": [
    "int max2d(int[][] m) {\n",
    "    ...\n",
    "}"
   ]
  }
 ],
 "metadata": {
  "kernelspec": {
   "display_name": "Python 3",
   "language": "python",
   "name": "python3"
  },
  "language_info": {
<<<<<<< HEAD
   "codemirror_mode": "java",
   "file_extension": ".jshell",
   "mimetype": "text/x-java-source",
   "name": "java",
   "pygments_lexer": "java",
   "version": "21.0.4+7-LTS"
=======
   "codemirror_mode": {
    "name": "ipython",
    "version": 3
   },
   "file_extension": ".py",
   "mimetype": "text/x-python",
   "name": "python",
   "nbconvert_exporter": "python",
   "pygments_lexer": "ipython3",
   "version": "3.12.1"
>>>>>>> 5834ca6050cc17e8206cd38ddc14fb3ba1e8b622
  }
 },
 "nbformat": 4,
 "nbformat_minor": 2
}
