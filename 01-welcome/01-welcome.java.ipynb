{
 "cells": [
  {
   "cell_type": "code",
   "execution_count": null,
   "metadata": {},
   "outputs": [],
   "source": [
    "int min(int[] a) {\n",
    "    int min = Integer.MAX_VALUE;\n",
    "    for (int i = 0; i < a.length; i++) {\n",
    "        min = Math.min(min, a[i]);\n",
    "    }\n",
    "    return min;\n",
    "}"
   ]
  },
  {
   "cell_type": "code",
   "execution_count": null,
   "metadata": {},
   "outputs": [],
   "source": [
    "System.out.println(min(new int[] {1, 2, 3}));\n",
    "System.out.println(min(new int[] {1, 2, -3}));\n",
    "System.out.println(min(new int[] {-1, -20, -3}));"
   ]
  },
  {
   "cell_type": "code",
   "execution_count": null,
   "metadata": {},
   "outputs": [],
   "source": [
    "int max(int[] a) {\n",
    "    int max = Integer.MIN_VALUE;\n",
    "    for (int i = 0; i < a.length; i++) {\n",
    "        max = Math.max(max, a[i]);\n",
    "    }\n",
    "    return max;\n",
    "}"
   ]
  },
  {
   "cell_type": "code",
   "execution_count": null,
   "metadata": {},
   "outputs": [],
   "source": [
    "System.out.println(max(new int[] {1, 2, 3}));\n",
    "System.out.println(max(new int[] {1, 2, -3}));\n",
    "System.out.println(max(new int[] {-1, -20, -3}));"
   ]
  },
  {
   "cell_type": "code",
   "execution_count": null,
   "metadata": {},
   "outputs": [],
   "source": [
    "int average(int[] a) {\n",
    "    ...\n",
    "}"
   ]
  },
  {
   "cell_type": "code",
   "execution_count": null,
   "metadata": {},
   "outputs": [],
   "source": [
    "min2d(new int[][] {\n",
    "    new int[] {1, 2, 3},\n",
    "    new int[] {1, 30, -3},\n",
    "    new int[] {1, 20, 3},\n",
    "});"
   ]
  },
  {
   "cell_type": "code",
   "execution_count": null,
   "metadata": {},
   "outputs": [],
   "source": [
    "int max2d(int[][] m) {\n",
    "    ...\n",
    "}"
   ]
  },
  {
   "cell_type": "code",
   "execution_count": null,
   "metadata": {},
   "outputs": [],
   "source": [
    "max2d(new int[][] {\n",
    "    new int[] {1, 2, 3},\n",
    "    new int[] {1, 30, -3},\n",
    "    new int[] {1, 20, 3},\n",
    "});"
   ]
  }
 ],
 "metadata": {
  "kernelspec": {
   "display_name": "Python 3",
   "language": "python",
   "name": "python3"
  },
  "language_info": {
   "codemirror_mode": {
    "name": "ipython",
    "version": 3
   },
   "file_extension": ".py",
   "mimetype": "text/x-python",
   "name": "python",
   "nbconvert_exporter": "python",
   "pygments_lexer": "ipython3",
   "version": "3.12.1"
  }
 },
 "nbformat": 4,
 "nbformat_minor": 2
}
