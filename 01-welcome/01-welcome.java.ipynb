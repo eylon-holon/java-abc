{
 "cells": [
  {
   "cell_type": "code",
<<<<<<< HEAD
   "execution_count": 2,
   "metadata": {
    "vscode": {
     "languageId": "java"
    }
   },
=======
   "execution_count": null,
   "metadata": {},
>>>>>>> 5834ca6050cc17e8206cd38ddc14fb3ba1e8b622
   "outputs": [],
   "source": [
    "int min(int[] a) {\n",
    "    int min = a[0];\n",
    "    for (int i = 0; i < a.length; i++) {\n",
    "        if (a[i]<min) {\n",
    "            min = a[i];\n",
    "        }\n",
    "    }\n",
    "    return min;\n",
    "}"
   ]
  },
  {
   "cell_type": "code",
<<<<<<< HEAD
   "execution_count": 1,
   "metadata": {
    "vscode": {
     "languageId": "java"
    }
   },
   "outputs": [
    {
     "ename": "CompilationException",
     "evalue": "",
     "output_type": "error",
     "traceback": [
      "\u001b[1m\u001b[30m|   \u001b[1m\u001b[30mSystem.out.println(\u001b[0m\u001b[1m\u001b[30m\u001b[41mmin\u001b[0m\u001b[1m\u001b[30m(new int[] {1, 2, 3}));\u001b[0m",
      "\u001b[1m\u001b[31mcannot find symbol\u001b[0m",
      "\u001b[1m\u001b[31m  symbol:   method min(int[])\u001b[0m",
      ""
     ]
    }
   ],
=======
   "execution_count": null,
   "metadata": {},
   "outputs": [],
>>>>>>> 5834ca6050cc17e8206cd38ddc14fb3ba1e8b622
   "source": [
    "System.out.println(min(new int[] {1, 2, 3}));\n",
    "System.out.println(min(new int[] {1, 2, -3}));\n",
    "System.out.println(min(new int[] {-1, -20, -3}));"
   ]
  },
  {
   "cell_type": "code",
<<<<<<< HEAD
   "execution_count": 4,
   "metadata": {
    "vscode": {
     "languageId": "java"
    }
   },
=======
   "execution_count": null,
   "metadata": {},
>>>>>>> 5834ca6050cc17e8206cd38ddc14fb3ba1e8b622
   "outputs": [],
   "source": [
    "int max(int[] a) {\n",
    "    int max = a[0];\n",
    "    for(int i = 0; i < a.length; i++) {\n",
    "        if (a[i]>max) {\n",
    "            max = a[i];\n",
    "        }\n",
    "    }\n",
    "    return max;\n",
    "}"
   ]
  },
  {
   "cell_type": "code",
<<<<<<< HEAD
   "execution_count": 5,
   "metadata": {
    "vscode": {
     "languageId": "java"
    }
   },
   "outputs": [
    {
     "name": "stdout",
     "output_type": "stream",
     "text": [
      "3\n",
      "2\n",
      "-1\n"
     ]
    }
   ],
=======
   "execution_count": null,
   "metadata": {},
   "outputs": [],
>>>>>>> 5834ca6050cc17e8206cd38ddc14fb3ba1e8b622
   "source": [
    "System.out.println(max(new int[] {1, 2, 3}));\n",
    "System.out.println(max(new int[] {1, 2, -3}));\n",
    "System.out.println(max(new int[] {-1, -20, -3}));"
   ]
  },
  {
   "cell_type": "code",
<<<<<<< HEAD
   "execution_count": 7,
   "metadata": {
    "vscode": {
     "languageId": "java"
    }
   },
=======
   "execution_count": null,
   "metadata": {},
>>>>>>> 5834ca6050cc17e8206cd38ddc14fb3ba1e8b622
   "outputs": [],
   "source": [
    "int average(int[] a) {\n",
    "    int average = 0;\n",
    "    for (int i = 0; i < a.length; i++) {\n",
    "        average = average + a[i];\n",
    "    }\n",
    "    average = average / a.length;\n",
    "    return average;\n",
    "}"
   ]
  },
  {
   "cell_type": "code",
<<<<<<< HEAD
   "execution_count": 8,
   "metadata": {
    "vscode": {
     "languageId": "java"
    }
   },
=======
   "execution_count": null,
   "metadata": {},
>>>>>>> 5834ca6050cc17e8206cd38ddc14fb3ba1e8b622
   "outputs": [],
   "source": [
    "int min2d(int[][] m) {\n",
    "    int min = a[0][0];\n",
    "    for (int i = 0; i < a.length; i++) {\n",
    "        for (int j = 0; j < a[0].length; j++) {\n",
    "            if (a[i][j] < min) {\n",
    "                min = a[i][j];\n",
    "            }\n",
    "\n",
    "    \n",
    "        }\n",
    "    }\n",
    "    return min;\n",
    "}"
   ]
  },
  {
   "cell_type": "code",
<<<<<<< HEAD
   "execution_count": 9,
   "metadata": {
    "vscode": {
     "languageId": "java"
    }
   },
=======
   "execution_count": null,
   "metadata": {},
>>>>>>> 5834ca6050cc17e8206cd38ddc14fb3ba1e8b622
   "outputs": [],
   "source": [
    "int max2d(int[][] m) {\n",
    "    int max = a[0][0];\n",
    "    for (int i = 0; i < a.length; i++) {\n",
    "        for (int j = 0; j < a[0].length; j++) {\n",
    "            if (a[i][j] > max) {\n",
    "                max = a[i][j];\n",
    "            }\n",
    "        }\n",
    "    }\n",
    "    return max;\n",
    "}"
   ]
  }
 ],
 "metadata": {
  "kernelspec": {
   "display_name": "Python 3",
   "language": "python",
   "name": "python3"
  },
  "language_info": {
<<<<<<< HEAD
   "codemirror_mode": "java",
   "file_extension": ".jshell",
   "mimetype": "text/x-java-source",
   "name": "Java",
   "pygments_lexer": "java",
   "version": "21.0.4+7-LTS"
=======
   "codemirror_mode": {
    "name": "ipython",
    "version": 3
   },
   "file_extension": ".py",
   "mimetype": "text/x-python",
   "name": "python",
   "nbconvert_exporter": "python",
   "pygments_lexer": "ipython3",
   "version": "3.12.1"
>>>>>>> 5834ca6050cc17e8206cd38ddc14fb3ba1e8b622
  }
 },
 "nbformat": 4,
 "nbformat_minor": 2
}
