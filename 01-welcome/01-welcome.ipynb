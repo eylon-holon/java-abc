{
 "cells": [
  {
   "cell_type": "code",
   "execution_count": 1,
   "metadata": {},
   "outputs": [
    {
     "name": "stdout",
     "output_type": "stream",
     "text": [
      "Hi main 😁! Let's start the lesson... 🙌\n"
     ]
    }
   ],
   "source": [
    "import os\n",
    "while not os.getcwd().endswith(\"java-abc\"): os.chdir(\"..\")\n",
    "from eylon.core import *\n",
    "\n",
    "def min(): pass\n",
    "def max(): pass\n",
    "def average(): pass\n",
    "def min2d(): pass\n",
    "def max2d(): pass\n",
    "\n",
    "start({\n",
    "    \"min()\": [], \n",
    "    \"max()\": [], \n",
    "    \"average()\": [], \n",
    "    \"min2d()\": [], \n",
    "    \"max2d()\": []\n",
    "})"
   ]
  },
  {
   "cell_type": "code",
<<<<<<< HEAD:01-welcome.ipynb
   "execution_count": null,
   "metadata": {},
   "outputs": [],
   "source": [
    "def min(): pass\n",
    "def max(): pass\n",
    "def average(): pass\n",
    "def min2d(): pass\n",
    "def max2d(): pass"
   ]
  },
  {
   "cell_type": "code",
=======
>>>>>>> 545934abad8932bae2a1e63766ea1d0093811b2c:01-welcome/01-welcome.ipynb
   "execution_count": null,
   "metadata": {},
   "outputs": [],
   "source": [
    "submit(min)"
   ]
  },
  {
   "cell_type": "code",
   "execution_count": null,
   "metadata": {},
   "outputs": [],
   "source": [
    "submit(max)"
   ]
  },
  {
   "cell_type": "code",
   "execution_count": null,
   "metadata": {},
   "outputs": [],
   "source": [
    "submit(average)"
   ]
  },
  {
   "cell_type": "code",
   "execution_count": null,
   "metadata": {},
   "outputs": [],
   "source": [
    "submit(min2d)"
   ]
  },
  {
   "cell_type": "code",
   "execution_count": null,
   "metadata": {},
   "outputs": [],
   "source": [
    "submit(max2d)"
   ]
  }
 ],
 "metadata": {
  "kernelspec": {
   "display_name": "Python 3",
   "language": "python",
   "name": "python3"
  },
  "language_info": {
   "codemirror_mode": {
    "name": "ipython",
    "version": 3
   },
   "file_extension": ".py",
   "mimetype": "text/x-python",
   "name": "python",
   "nbconvert_exporter": "python",
   "pygments_lexer": "ipython3",
   "version": "3.12.1"
  }
 },
 "nbformat": 4,
 "nbformat_minor": 2
}
