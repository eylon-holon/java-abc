{
 "cells": [
  {
   "cell_type": "code",
   "execution_count": 1,
   "metadata": {},
   "outputs": [
    {
     "name": "stdout",
     "output_type": "stream",
     "text": [
<<<<<<< HEAD:01-welcome.ipynb
      "Hi hila-atzmon 😁! Let's start the lesson... 🙌\n"
=======
      "Hi main 😁! Let's start the lesson... 🙌\n"
>>>>>>> 7302638535e2ac4dd0713b43ae46c0eb1252c6c9:01-welcome/01-welcome.ipynb
     ]
    }
   ],
   "source": [
    "import os\n",
    "while not os.getcwd().endswith(\"java-abc\"): os.chdir(\"..\")\n",
    "from eylon.core import *\n",
    "\n",
    "def min(): pass\n",
    "def max(): pass\n",
    "def average(): pass\n",
    "def min2d(): pass\n",
    "def max2d(): pass\n",
    "\n",
    "start({\n",
    "    \"min()\": [], \n",
    "    \"max()\": [], \n",
    "    \"average()\": [], \n",
    "    \"min2d()\": [], \n",
    "    \"max2d()\": []\n",
    "})"
   ]
  },
  {
   "cell_type": "code",
<<<<<<< HEAD:01-welcome.ipynb
   "execution_count": 2,
   "metadata": {},
   "outputs": [],
   "source": [
    "def min(): pass\n",
    "def max(): pass\n",
    "def average(): pass\n",
    "def min2d(): pass\n",
    "def max2d(): pass"
   ]
  },
  {
   "cell_type": "code",
   "execution_count": 3,
=======
   "execution_count": null,
>>>>>>> 7302638535e2ac4dd0713b43ae46c0eb1252c6c9:01-welcome/01-welcome.ipynb
   "metadata": {},
   "outputs": [
    {
     "name": "stdout",
     "output_type": "stream",
     "text": [
      "Congrats hila-atzmon! Got it: '01-welcome.min'. Gosha is happy :) 👍\n"
     ]
    }
   ],
   "source": [
    "submit(min)"
   ]
  },
  {
   "cell_type": "code",
   "execution_count": 4,
   "metadata": {},
   "outputs": [
    {
     "name": "stdout",
     "output_type": "stream",
     "text": [
      "Congrats hila-atzmon! Got it: '01-welcome.max'. Gosha is happy :) 👍\n"
     ]
    }
   ],
   "source": [
    "submit(max)"
   ]
  },
  {
   "cell_type": "code",
   "execution_count": 5,
   "metadata": {},
   "outputs": [
    {
     "name": "stdout",
     "output_type": "stream",
     "text": [
      "Congrats hila-atzmon! Got it: '01-welcome.average'. Gosha is happy :) 👍\n"
     ]
    }
   ],
   "source": [
    "submit(average)"
   ]
  },
  {
   "cell_type": "code",
   "execution_count": 6,
   "metadata": {},
   "outputs": [
    {
     "name": "stdout",
     "output_type": "stream",
     "text": [
      "Congrats hila-atzmon! Got it: '01-welcome.min2d'. Gosha is happy :) 👍\n"
     ]
    }
   ],
   "source": [
    "submit(min2d)"
   ]
  },
  {
   "cell_type": "code",
   "execution_count": 7,
   "metadata": {},
   "outputs": [
    {
     "name": "stdout",
     "output_type": "stream",
     "text": [
      "Congrats hila-atzmon! Got it: '01-welcome.max2d'. Gosha is happy :) 👍\n"
     ]
    }
   ],
   "source": [
    "submit(max2d)"
   ]
  }
 ],
 "metadata": {
  "kernelspec": {
   "display_name": "Python 3",
   "language": "python",
   "name": "python3"
  },
  "language_info": {
   "codemirror_mode": {
    "name": "ipython",
    "version": 3
   },
   "file_extension": ".py",
   "mimetype": "text/x-python",
   "name": "python",
   "nbconvert_exporter": "python",
   "pygments_lexer": "ipython3",
   "version": "3.12.1"
  }
 },
 "nbformat": 4,
 "nbformat_minor": 2
}
