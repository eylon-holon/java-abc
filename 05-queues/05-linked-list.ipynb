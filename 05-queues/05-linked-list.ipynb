{
 "cells": [
  {
   "cell_type": "markdown",
   "metadata": {},
   "source": [
    "=== G E T - C O U N T ==="
   ]
  },
  {
   "cell_type": "code",
   "execution_count": 8,
   "metadata": {},
   "outputs": [],
   "source": [
    "%load queues\n",
    "\n",
    "int getCount(Node node) {\n",
    "    int count=0;\n",
    "    while (node!=null){\n",
    "count=count+1;\n",
    "node=node.getNext();\n",
    "    }\n",
    "    return count;\n",
    "}"
   ]
  },
  {
   "cell_type": "code",
   "execution_count": 9,
   "metadata": {},
   "outputs": [
    {
     "name": "stdout",
     "output_type": "stream",
     "text": [
      "7 \n"
     ]
    }
   ],
   "source": [
    "print(getCount(new Node(new int[] {1, 2, 3, 4, 5, 6, 7})))"
   ]
  },
  {
   "cell_type": "markdown",
   "metadata": {},
   "source": [
    "=== G E T - M A X ==="
   ]
  },
  {
   "cell_type": "code",
   "execution_count": 10,
   "metadata": {},
   "outputs": [],
   "source": [
    "int getMax(Node node) {\n",
    "    int max = Integer.MIN_VALUE;\n",
    "    while (node != null) {\n",
    "        max = Math.max(max, node.getValue());\n",
    "        node = node.getNext();\n",
    "    }\n",
    "    return max;\n",
    "}"
   ]
  },
  {
   "cell_type": "code",
   "execution_count": 11,
   "metadata": {},
   "outputs": [
    {
     "name": "stdout",
     "output_type": "stream",
     "text": [
      "100 \n"
     ]
    }
   ],
   "source": [
    "print(getMax(new Node(new int[] {1, 100, 23})))"
   ]
  },
  {
   "cell_type": "markdown",
   "metadata": {},
   "source": [
    "=== G E T - M I N ==="
   ]
  },
  {
   "cell_type": "code",
   "execution_count": 14,
   "metadata": {},
   "outputs": [],
   "source": [
    "int getMin(Node node) {\n",
    "    int min = Integer.MIN_VALUE;\n",
    "    while (node != null) {\n",
    "        min = Math.max(min, node.getValue());\n",
    "        node = node.getNext();\n",
    "    }\n",
    "    return min;\n",
    "}"
   ]
  },
  {
   "cell_type": "code",
   "execution_count": 15,
   "metadata": {},
   "outputs": [
    {
     "name": "stdout",
     "output_type": "stream",
     "text": [
      "1 \n"
     ]
    }
   ],
   "source": [
    "print(getMin(new Node(new int[] {1})))"
   ]
  },
  {
   "cell_type": "code",
   "execution_count": 16,
   "metadata": {},
   "outputs": [
    {
     "name": "stdout",
     "output_type": "stream",
     "text": [
      "[1, 2, 3, 4, 5, 6, 7] \n"
     ]
    }
   ],
   "source": [
    "%load queues\n",
    "\n",
    "var list = new Node(new int[] {1, 2, 3, 4, 5, 6, 7});\n",
    "print(list.toString());"
   ]
  },
  {
   "cell_type": "markdown",
   "metadata": {},
   "source": [
    "=== F I N D ==="
   ]
  },
  {
   "cell_type": "code",
   "execution_count": 36,
   "metadata": {},
   "outputs": [],
   "source": [
    "Node find(Node list, int value) {\n",
    "    int count=0;\n",
    "    var a=list;\n",
    "    while (a!=null){\n",
    "        count=count+1;\n",
    "        a=a.getNext();\n",
    "    }\n",
    "    for (int i=0;i< count;i++){\n",
    "        if (list.getValue()==value)\n",
    "        return list;\n",
    "        list=list.getNext();\n",
    "    }\n",
    "    return null;\n",
    "}"
   ]
  },
  {
   "cell_type": "code",
   "execution_count": 37,
   "metadata": {},
   "outputs": [
    {
     "name": "stdout",
     "output_type": "stream",
     "text": [
      "[4, 5, 6, 7] \n"
     ]
    }
   ],
   "source": [
    "var list = new Node(new int[] {1, 2, 3, 4, 5, 6, 7});\n",
    "print(find(list,4));"
   ]
  },
  {
   "cell_type": "markdown",
   "metadata": {},
   "source": [
    "=== S A M E - A S ==="
   ]
  },
  {
   "cell_type": "code",
   "execution_count": 19,
   "metadata": {},
   "outputs": [],
   "source": [
    "%load queues\n",
    "\n",
    "boolean sameAs(Node a, Node b) {\n",
    "    if (a==null && b==null)\n",
    "    return true;\n",
    "    if (a==null || b==null)\n",
    "    return false;\n",
    "    if (a.getValue()!=b.getValue())\n",
    "    return false;\n",
    "    \n",
    " return  sameAs(a.getNext(),b.getNext());\n",
    "    \n",
    "}"
   ]
  },
  {
   "cell_type": "code",
   "execution_count": 20,
   "metadata": {},
   "outputs": [
    {
     "name": "stdout",
     "output_type": "stream",
     "text": [
      "false \n"
     ]
    }
   ],
   "source": [
    "var a = new Node(new int[] {1, 2, 3, 4,5});\n",
    "var b = new Node(new int[] {1, 2, 3, 4});\n",
    "print(sameAs(a, b));"
   ]
  },
  {
   "cell_type": "markdown",
   "metadata": {},
   "source": [
    "=== R E V E R S E ==="
   ]
  },
  {
   "cell_type": "code",
   "execution_count": 6,
   "metadata": {},
   "outputs": [],
   "source": [
    "%load queues\n",
    "\n",
    "Node reverse(Node node) {\n",
    "    int b=0;\n",
    "    node rev;\n",
    "    for (int i=0;i<node.length();i++)\n",
    "    while (b!=null){\n",
    "        b\n",
    "    }\n",
    "    \n",
    "    return node;\n",
    "}"
   ]
  },
  {
   "cell_type": "code",
   "execution_count": 5,
   "metadata": {},
   "outputs": [
    {
     "name": "stdout",
     "output_type": "stream",
     "text": [
      "[1, 2, 3, 4, 5, 6] \n",
      "[1, 2, 3, 4, 5, 6] \n"
     ]
    }
   ],
   "source": [
    "var list = new Node(new int[] {1, 2, 3, 4, 5, 6});\n",
    "print(list);\n",
    "print(reverse(list));"
   ]
  },
  {
   "cell_type": "markdown",
   "metadata": {},
   "source": [
    "=== I S - P O L I N D R O M E ==="
   ]
  },
  {
   "cell_type": "code",
   "execution_count": null,
   "metadata": {},
   "outputs": [],
   "source": [
    "%load queues\n",
    "\n",
    "boolean isPolindrome(Node node) {\n",
    "   var a=node;\n",
    "   while (a!=null){\n",
    "    a=a.getNext();\n",
    "   }\n",
    "    \n",
    "    if (node.length==0 || node.length==1)\n",
    "    return true;\n",
    "    else if (node.getValue()!= a)\n",
    "    return false;\n",
    "    \n",
    "\n",
    "    \n",
    "    return false;\n",
    "}"
   ]
  },
  {
   "cell_type": "markdown",
   "metadata": {},
   "source": [
    "=== C O N T A I N S ==="
   ]
  },
  {
   "cell_type": "code",
   "execution_count": 2,
   "metadata": {},
   "outputs": [],
   "source": [
    "%load queues\n",
    "\n",
    "boolean contains(Node l1, Node l2) {\n",
    "    \n",
    "    for (int i=0;i<l1.getCount;i++){\n",
    "        if (l1.getValue()== l2.getValue()){\n",
    "            for (int j=0;j<l2.length();j++){\n",
    "                if (l1.getValue()!=l2.getValue())\n",
    "                break;\n",
    "            }\n",
    "            if (j=l2.length()-1)\n",
    "            return true;\n",
    "        }\n",
    "        l1=l1.getNext();  \n",
    "    }\n",
    "    \n",
    "    return false;\n",
    "}"
   ]
  },
  {
   "cell_type": "code",
   "execution_count": 3,
   "metadata": {},
   "outputs": [
    {
     "ename": "UnresolvedReferenceException",
     "evalue": "Attempt to use definition snippet with unresolved references in MethodSnippet:contains/(Node,Node)boolean-\n\nboolean contains(Node l1, Node l2) {\n    \n    for (int i=0;i<l1.getCount;i++){\n        if (l1.getValue()== l2.getValue()){\n            for (int j=0;j<l2.length();j++){\n                if (l1.getValue()!=l2.getValue())\n                break;\n            }\n            if (j=l2.length()-1)\n            return true;\n        }\n        l1=l1.getNext();  \n    }\n    \n    return false;\n}",
     "output_type": "error",
     "traceback": [
      "\u001b[1m\u001b[30m|   \u001b[1m\u001b[30m\u001b[0m",
      "\u001b[1m\u001b[30m|   \u001b[1m\u001b[30m\u001b[0m",
      "\u001b[1m\u001b[30m|   \u001b[1m\u001b[30mboolean contains(Node l1, Node l2) {\u001b[0m",
      "\u001b[1m\u001b[30m|   \u001b[1m\u001b[30m    \u001b[0m",
      "\u001b[1m\u001b[30m|   \u001b[1m\u001b[30m    for (int i=0;i<l1.getCount;i++){\u001b[0m",
      "\u001b[1m\u001b[30m|   \u001b[1m\u001b[30m        if (l1.getValue()== l2.getValue()){\u001b[0m",
      "\u001b[1m\u001b[30m|   \u001b[1m\u001b[30m            for (int j=0;j<l2.length();j++){\u001b[0m",
      "\u001b[1m\u001b[30m|   \u001b[1m\u001b[30m                if (l1.getValue()!=l2.getValue())\u001b[0m",
      "\u001b[1m\u001b[30m|   \u001b[1m\u001b[30m                break;\u001b[0m",
      "\u001b[1m\u001b[30m|   \u001b[1m\u001b[30m            }\u001b[0m",
      "\u001b[1m\u001b[30m|   \u001b[1m\u001b[30m            if (j=l2.length()-1)\u001b[0m",
      "\u001b[1m\u001b[30m|   \u001b[1m\u001b[30m            return true;\u001b[0m",
      "\u001b[1m\u001b[30m|   \u001b[1m\u001b[30m        }\u001b[0m",
      "\u001b[1m\u001b[30m|   \u001b[1m\u001b[30m        l1=l1.getNext();  \u001b[0m",
      "\u001b[1m\u001b[30m|   \u001b[1m\u001b[30m    }\u001b[0m",
      "\u001b[1m\u001b[30m|   \u001b[1m\u001b[30m    \u001b[0m",
      "\u001b[1m\u001b[30m|   \u001b[1m\u001b[30m    return false;\u001b[0m",
      "\u001b[1m\u001b[30m|   \u001b[1m\u001b[30m}\u001b[0m",
      "\u001b[1m\u001b[31mUnresolved dependencies:\u001b[0m",
      "\u001b[1m\u001b[31m   - variable getCount\u001b[0m",
      "\u001b[1m\u001b[31m   - method length()\u001b[0m",
      "\u001b[1m\u001b[31m   - variable j\u001b[0m"
     ]
    }
   ],
   "source": [
    "var a = new Node(new int[] {1, 2, 3, 4,5});\n",
    "var b = new Node(new int[] {1, 2, 3, 4});\n",
    "print(contains(a,b));"
   ]
  }
 ],
 "metadata": {
  "kernelspec": {
   "display_name": "Java",
   "language": "java",
   "name": "java"
  },
  "language_info": {
   "codemirror_mode": "java",
   "file_extension": ".jshell",
   "mimetype": "text/x-java-source",
   "name": "java",
   "pygments_lexer": "java",
   "version": "21.0.4+7-LTS"
  }
 },
 "nbformat": 4,
 "nbformat_minor": 2
}
