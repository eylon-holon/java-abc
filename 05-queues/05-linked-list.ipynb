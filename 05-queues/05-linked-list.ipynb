{
 "cells": [
  {
   "cell_type": "markdown",
   "metadata": {},
   "source": [
    "=== G E T - C O U N T ==="
   ]
  },
  {
   "cell_type": "code",
   "execution_count": null,
   "metadata": {
    "vscode": {
     "languageId": "java"
    }
   },
   "outputs": [],
   "source": [
    "%load queues\n",
    "\n",
    "int getCount(Node node) {\n",
    "    int count = 0;\n",
    "    while (node != null) {\n",
    "        count = count + 1;\n",
    "        node = node.getNext();\n",
    "    }\n",
    "    return count;\n",
    "}"
   ]
  },
  {
   "cell_type": "code",
   "execution_count": null,
   "metadata": {
    "vscode": {
     "languageId": "java"
    }
   },
   "outputs": [],
   "source": [
    "print(getCount(new Node(new int[] {1, 2, 3, 4, 5, 6, 7})))"
   ]
  },
  {
   "cell_type": "markdown",
   "metadata": {},
   "source": [
    "=== G E T - M A X ==="
   ]
  },
  {
   "cell_type": "code",
   "execution_count": 26,
   "metadata": {
    "vscode": {
     "languageId": "java"
    }
   },
   "outputs": [],
   "source": [
    "int getMax(Node node) {\n",
    "    int max = Integer.MIN_VALUE;\n",
    "    while (node != null) {\n",
    "        max = Math.max(max, node.getValue());\n",
    "        node = node.getNext();\n",
    "    }\n",
    "    return max;\n",
    "}"
   ]
  },
  {
   "cell_type": "code",
   "execution_count": null,
   "metadata": {
    "vscode": {
     "languageId": "java"
    }
   },
   "outputs": [],
   "source": [
    "print(getMax(new Node(new int[] {1, 100, 23})))"
   ]
  },
  {
   "cell_type": "markdown",
   "metadata": {},
   "source": [
    "=== G E T - M I N ==="
   ]
  },
  {
   "cell_type": "code",
   "execution_count": null,
   "metadata": {
    "vscode": {
     "languageId": "java"
    }
   },
   "outputs": [],
   "source": [
    "%load queues\n",
    "\n",
    "sint getMin(Node node) {\n",
    "    int min = Integer.MAX_VALUE;\n",
    "    while (node != null) {\n",
    "        min = Math.min(min, node.getValue());\n",
    "        node = node.getNext();\n",
    "    }\n",
    "    return min;\n",
    "}"
   ]
  },
  {
   "cell_type": "code",
   "execution_count": null,
   "metadata": {
    "vscode": {
     "languageId": "java"
    }
   },
   "outputs": [],
   "source": [
    "print(getMin(new Node(new int[] {1})))"
   ]
  },
  {
   "cell_type": "code",
   "execution_count": null,
   "metadata": {
    "vscode": {
     "languageId": "java"
    }
   },
   "outputs": [],
   "source": [
    "%load queues\n",
    "\n",
    "var list = new Node(new int[] {1, 2, 3, 4, 5, 6, 7});\n",
    "print(list.toString());"
   ]
  },
  {
   "cell_type": "markdown",
   "metadata": {},
   "source": [
    "=== F I N D ==="
   ]
  },
  {
   "cell_type": "code",
   "execution_count": null,
   "metadata": {
    "vscode": {
     "languageId": "java"
    }
   },
   "outputs": [],
   "source": [
    "%load queues\n",
    "\n",
    "Node find(Node node, int value) {\n",
    "    while (node != null) {\n",
    "        if (value == node.getValue()) {\n",
    "            return node;\n",
    "        }\n",
    "        node = node.getNext();\n",
    "    }\n",
    "    return null;\n",
    "}"
   ]
  },
  {
   "cell_type": "markdown",
   "metadata": {},
   "source": [
    "=== S A M E - A S ==="
   ]
  },
  {
   "cell_type": "code",
   "execution_count": null,
   "metadata": {
    "vscode": {
     "languageId": "java"
    }
   },
   "outputs": [],
   "source": [
    "%load queues\n",
    "\n",
    "boolean sameAs(Node a, Node b) {\n",
    "    while (a != null && b != null) {\n",
    "        if (a.getValue() != b.getValue()) {\n",
    "            return false;\n",
    "        }\n",
    "        a = a.getNext();\n",
    "        b = b.getNext();\n",
    "    }\n",
    "    if (a == null && b == null) {\n",
    "        return true;\n",
    "    }\n",
    "    return false;\n",
    "}"
   ]
  },
  {
   "cell_type": "markdown",
   "metadata": {},
   "source": [
    "=== R E V E R S E ==="
   ]
  },
  {
   "cell_type": "code",
   "execution_count": null,
   "metadata": {
    "vscode": {
     "languageId": "java"
    }
   },
   "outputs": [],
   "source": [
    "%load queues\n",
    "\n",
    "Node reverse(Node node) {\n",
    "    Node head = null;\n",
    "    while (node != null) {\n",
    "        Node newNode = new Node(node.getValue());\n",
    "        newNode.setNext(head);\n",
    "        head = newNode;\n",
    "        \n",
    "        node = node.getNext();\n",
    "    }\n",
    "    return head;\n",
    "}"
   ]
  },
  {
   "cell_type": "code",
   "execution_count": 5,
   "metadata": {
    "vscode": {
     "languageId": "java"
    }
   },
   "outputs": [
    {
     "name": "stdout",
     "output_type": "stream",
     "text": [
      "[1, 2, 3, 4, 5, 6] \n",
      "[1, 2, 3, 4, 5, 6] \n"
     ]
    }
   ],
   "source": [
    "var list = new Node(new int[] {1, 2, 3, 4, 5, 6});\n",
    "print(list);\n",
    "print(reverse(list));"
   ]
  },
  {
   "cell_type": "markdown",
   "metadata": {},
   "source": [
    "=== I S - P O L I N D R O M E ==="
   ]
  },
  {
   "cell_type": "code",
   "execution_count": null,
   "metadata": {
    "vscode": {
     "languageId": "java"
    }
   },
   "outputs": [],
   "source": [
    "%load queues\n",
    "\n",
    "boolean isPolindrome(Node node) {\n",
    "    Node reversed = reverse(node);\n",
    "    return sameAs(node, reversed);\n",
    "}"
   ]
  },
  {
   "cell_type": "markdown",
   "metadata": {},
   "source": [
    "=== C O N T A I N S ==="
   ]
  },
  {
   "cell_type": "code",
   "execution_count": null,
   "metadata": {
    "vscode": {
     "languageId": "java"
    }
   },
   "outputs": [],
   "source": [
    "%load queues\n",
    "\n",
    "boolean contains(Node l1, Node l2) {\n",
    "    return false;\n",
    "}"
   ]
  }
 ],
 "metadata": {
  "kernelspec": {
   "display_name": "Java",
   "language": "java",
   "name": "java"
  },
  "language_info": {
   "codemirror_mode": "java",
   "file_extension": ".jshell",
   "mimetype": "text/x-java-source",
   "name": "Java",
   "pygments_lexer": "java",
   "version": "23+37-2369"
  }
 },
 "nbformat": 4,
 "nbformat_minor": 2
}
