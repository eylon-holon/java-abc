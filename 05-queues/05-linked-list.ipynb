{
 "cells": [
  {
   "cell_type": "markdown",
   "metadata": {},
   "source": [
    "=== G E T - C O U N T ==="
   ]
  },
  {
   "cell_type": "code",
   "execution_count": 1,
   "metadata": {},
   "outputs": [],
   "source": [
    "%load queues\n",
    "\n",
    "int getCount(Node node) {\n",
    "    while (node != null){\n",
    "        return getCount(node.getNext())+1;\n",
    "    }\n",
    "    return 0;\n",
    "}"
   ]
  },
  {
   "cell_type": "code",
   "execution_count": 2,
   "metadata": {},
   "outputs": [
    {
     "name": "stdout",
     "output_type": "stream",
     "text": [
      "7 \n"
     ]
    }
   ],
   "source": [
    "print(getCount(new Node(new int[] {1, 2, 3, 4, 5, 6, 7})))"
   ]
  },
  {
   "cell_type": "markdown",
   "metadata": {},
   "source": [
    "=== G E T - M A X ==="
   ]
  },
  {
   "cell_type": "code",
   "execution_count": 5,
   "metadata": {},
   "outputs": [],
   "source": [
    "int getMax(Node node) {\n",
    "    int max = Integer.MIN_VALUE;\n",
    "    while (node != null) {\n",
    "        max = Math.max(max, node.getValue());\n",
    "        node = node.getNext();\n",
    "    }\n",
    "    return max;\n",
    "}"
   ]
  },
  {
   "cell_type": "code",
   "execution_count": 6,
   "metadata": {},
   "outputs": [
    {
     "name": "stdout",
     "output_type": "stream",
     "text": [
      "100 \n"
     ]
    }
   ],
   "source": [
    "print(getMax(new Node(new int[] {1, 100, 23})))"
   ]
  },
  {
   "cell_type": "markdown",
   "metadata": {},
   "source": [
    "=== G E T - M I N ==="
   ]
  },
  {
   "cell_type": "code",
   "execution_count": 7,
   "metadata": {},
   "outputs": [],
   "source": [
    "int getMin(Node node) {\n",
    "    int min = Integer.MAX_VALUE;\n",
    "    while (node != null) {\n",
    "        min = Math.min(min, node.getValue());\n",
    "        node = node.getNext();\n",
    "    }\n",
    "    return min;\n",
    "}"
   ]
  },
  {
   "cell_type": "code",
   "execution_count": 8,
   "metadata": {},
   "outputs": [
    {
     "name": "stdout",
     "output_type": "stream",
     "text": [
      "1 \n"
     ]
    }
   ],
   "source": [
    "print(getMin(new Node(new int[] {1, 100, 5})))"
   ]
  },
  {
   "cell_type": "code",
   "execution_count": 9,
   "metadata": {},
   "outputs": [
    {
     "name": "stdout",
     "output_type": "stream",
     "text": [
      "[1, 2, 3, 4, 5, 6, 7] \n"
     ]
    }
   ],
   "source": [
    "%load queues\n",
    "\n",
    "var list = new Node(new int[] {1, 2, 3, 4, 5, 6, 7});\n",
    "print(list.toString());"
   ]
  },
  {
   "cell_type": "markdown",
   "metadata": {},
   "source": [
    "=== F I N D ==="
   ]
  },
  {
   "cell_type": "code",
   "execution_count": 10,
   "metadata": {},
   "outputs": [],
   "source": [
    "Node find(Node list, int value) {\n",
    "    if (list == null)\n",
    "        return null;\n",
    "    if (list.getValue() == value){\n",
    "        return list;\n",
    "    }\n",
    "    else{\n",
    "        return find(list.getNext(), value);\n",
    "    }\n",
    "}"
   ]
  },
  {
   "cell_type": "code",
   "execution_count": 11,
   "metadata": {},
   "outputs": [
    {
     "name": "stdout",
     "output_type": "stream",
     "text": [
      "[3, 4, 5, 6, 7] \n"
     ]
    }
   ],
   "source": [
    "%load queues\n",
    "\n",
    "var list = new Node(new int[] {1, 2, 3, 4, 5, 6, 7});\n",
    "print(find (list, 3));"
   ]
  },
  {
   "cell_type": "markdown",
   "metadata": {},
   "source": [
    "=== S A M E - A S ==="
   ]
  },
  {
   "cell_type": "code",
   "execution_count": 12,
   "metadata": {},
   "outputs": [],
   "source": [
    "%load queues\n",
    "\n",
    "boolean sameAs(Node a, Node b) {\n",
    "    if (a == null && b == null)\n",
    "        return true;\n",
    "    if (a == null || b == null)\n",
    "        return false;\n",
    "    if (a.getValue() != b.getValue())\n",
    "        return false;\n",
    "    return sameAs (a.getNext(), b.getNext());\n",
    "}"
   ]
  },
  {
   "cell_type": "code",
   "execution_count": 13,
   "metadata": {},
   "outputs": [
    {
     "name": "stdout",
     "output_type": "stream",
     "text": [
      "false \n"
     ]
    }
   ],
   "source": [
    "%load queues\n",
    "\n",
    "var list1 = new Node(new int[] {1, 2, 3, 21, 5, 6, 7});\n",
    "var list2 = new Node(new int[] {1, 2, 3, 4, 5, 6, 7});\n",
    "print(sameAs (list1, list2));"
   ]
  },
  {
   "cell_type": "markdown",
   "metadata": {},
   "source": [
    "=== R E V E R S E ==="
   ]
  },
  {
   "cell_type": "code",
   "execution_count": 3,
   "metadata": {},
   "outputs": [],
   "source": [
    "%load queues\n",
    "\n",
    "Node reverse(Node node) {\n",
    "    if (node == null){\n",
    "        return null;\n",
    "    }\n",
    "    Node rev = new Node (node.getValue());\n",
    "    node = node.getNext();\n",
    "    while (node != null) {\n",
    "        rev = new Node (node.getValue(), rev);\n",
    "         node = node.getNext();\n",
    "    }\n",
    "    return rev;\n",
    "}"
   ]
  },
  {
   "cell_type": "code",
   "execution_count": 4,
   "metadata": {},
   "outputs": [
    {
     "name": "stdout",
     "output_type": "stream",
     "text": [
      "[1, 2, 3, 4, 5, 6] \n",
      "[6, 5, 4, 3, 2, 1] \n"
     ]
    }
   ],
   "source": [
    "var list = new Node(new int[] {1, 2, 3, 4, 5, 6});\n",
    "print(list);\n",
    "print(reverse(list));"
   ]
  },
  {
   "cell_type": "markdown",
   "metadata": {},
   "source": [
    "=== I S - P O L I N D R O M E ==="
   ]
  },
  {
   "cell_type": "code",
   "execution_count": 12,
   "metadata": {},
   "outputs": [],
   "source": [
    "%load queues\n",
    "\n",
    "boolean isPolindrome(Node node) {\n",
    "    if (node == null){\n",
    "        return true;\n",
    "    }\n",
    "Node rev = reverse(node);\n",
    "return node.toString().equals(rev.toString());\n",
    "}"
   ]
  },
  {
   "cell_type": "code",
   "execution_count": 14,
   "metadata": {},
   "outputs": [
    {
     "name": "stdout",
     "output_type": "stream",
     "text": [
      "false \n"
     ]
    }
   ],
   "source": [
    "var list = new Node(new int[] {1, 2, 3, 4, 3, 2, 1});\n",
    "print(isPolindrome (list));"
   ]
  },
  {
   "cell_type": "markdown",
   "metadata": {},
   "source": [
    "=== C O N T A I N S ==="
   ]
  },
  {
   "cell_type": "code",
   "execution_count": 9,
   "metadata": {},
   "outputs": [],
   "source": [
    "%load queues\n",
    "\n",
    "boolean contains(Node l1, Node l2) {\n",
    "    if (l1 == null && l2 == null)\n",
    "        return true;\n",
    "    if (l1 == null || l2 == null)\n",
    "        return false;\n",
    "    if (l1.getValue() != l2.getValue())\n",
    "        return false;\n",
    "    return contains (l1.getNext(), l2.getNext());\n",
    "}"
   ]
  },
  {
   "cell_type": "code",
   "execution_count": null,
   "metadata": {},
   "outputs": [
    {
     "name": "stdout",
     "output_type": "stream",
     "text": [
      "false \n"
     ]
    }
   ],
   "source": [
    "var list1 = new Node(new int[] {1, 2, 3, 4, 5, 6, 7});\n",
    "var list2 = new Node(new int[] {1, 2, 3, 4, 5, 6, 7});\n",
    "print(contains (list1, list2));"
   ]
  }
 ],
 "metadata": {
  "kernelspec": {
   "display_name": "Java",
   "language": "java",
   "name": "java"
  },
  "language_info": {
   "codemirror_mode": "java",
   "file_extension": ".jshell",
   "mimetype": "text/x-java-source",
   "name": "java",
   "pygments_lexer": "java",
   "version": "21.0.4+7-LTS"
  },
  "polyglot_notebook": {
   "kernelInfo": {
    "defaultKernelName": "csharp",
    "items": [
     {
      "aliases": [],
      "name": "csharp"
     }
    ]
   }
  }
 },
 "nbformat": 4,
 "nbformat_minor": 2
}
