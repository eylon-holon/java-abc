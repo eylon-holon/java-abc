{
 "cells": [
  {
   "cell_type": "markdown",
   "metadata": {},
   "source": [
    "=== G E T - C O U N T ==="
   ]
  },
  {
   "cell_type": "code",
   "execution_count": null,
   "metadata": {},
   "outputs": [],
   "source": [
    "%load queues\n",
    "\n",
    "int getCount(Node node) {\n",
    "    if(node == null){\n",
    "        return 0;\n",
    "    }\n",
    "    //print(node);\n",
    "    return 1 + getCount(node.getNext());\n",
    "}"
   ]
  },
  {
   "cell_type": "code",
   "execution_count": null,
   "metadata": {},
   "outputs": [],
   "source": [
    "print(getCount(new Node(new int[] {1, 2, 6, 7, 3, 4, 5, 76, 22, 109})))"
   ]
  },
  {
   "cell_type": "markdown",
   "metadata": {},
   "source": [
    "=== G E T - M A X ==="
   ]
  },
  {
   "cell_type": "code",
   "execution_count": 11,
   "metadata": {},
   "outputs": [],
   "source": [
    "int getMax(Node node) {\n",
    "    int max = Integer.MIN_VALUE;\n",
    "    while (node != null) {\n",
    "        max = Math.max(max, node.getValue());\n",
    "        node = node.getNext();\n",
    "    }\n",
    "    return max;\n",
    "}"
   ]
  },
  {
   "cell_type": "code",
   "execution_count": null,
   "metadata": {},
   "outputs": [],
   "source": [
    "print(getMax(new Node(new int[] {1, 100, 23, 5859, 333})))"
   ]
  },
  {
   "cell_type": "markdown",
   "metadata": {},
   "source": [
    "=== G E T - M I N ==="
   ]
  },
  {
   "cell_type": "code",
   "execution_count": null,
   "metadata": {},
   "outputs": [],
   "source": [
    "int getMin(Node node) {\n",
    "    int min = Integer.MAX_VALUE;\n",
    "    while (node != null) {\n",
    "        min = Math.min(min, node.getValue());\n",
    "        node = node.getNext();\n",
    "    }\n",
    "    return min;\n",
    "}"
   ]
  },
  {
   "cell_type": "code",
   "execution_count": null,
   "metadata": {},
   "outputs": [],
   "source": [
    "print(getMin(new Node(new int[] {155, 100, 23, 5859, 333})))"
   ]
  },
  {
   "cell_type": "code",
   "execution_count": 26,
   "metadata": {},
   "outputs": [
    {
     "name": "stdout",
     "output_type": "stream",
     "text": [
      "[1, 2, 3, 4, 5, 6, 7] \n"
     ]
    }
   ],
   "source": [
    "%load queues\n",
    "\n",
    "var list = new Node(new int[] {1, 2, 3, 4, 5, 6, 7});\n",
    "print(list.toString());"
   ]
  },
  {
   "cell_type": "markdown",
   "metadata": {},
   "source": [
    "=== F I N D ==="
   ]
  },
  {
   "cell_type": "code",
   "execution_count": 31,
   "metadata": {},
   "outputs": [],
   "source": [
    "Node find(Node list, int value) {\n",
    "    print(list);\n",
    "    return list;\n",
    "}"
   ]
  },
  {
   "cell_type": "code",
   "execution_count": 32,
   "metadata": {},
   "outputs": [
    {
     "name": "stdout",
     "output_type": "stream",
     "text": [
      "[1, 2, 6, 7, 3, 4, 5, 76, 22, 109] \n",
      "[1, 2, 6, 7, 3, 4, 5, 76, 22, 109] \n"
     ]
    }
   ],
   "source": [
    "print(find(new Node(new int[] {1, 2, 6, 7, 3, 4, 5, 76, 22, 109}), 76))"
   ]
  },
  {
   "cell_type": "markdown",
   "metadata": {},
   "source": [
    "=== S A M E - A S ==="
   ]
  },
  {
   "cell_type": "code",
   "execution_count": null,
   "metadata": {},
   "outputs": [],
   "source": [
    "%load queues\n",
    "\n",
    "boolean sameAs(Node a, Node b) {\n",
    "    return false;\n",
    "}"
   ]
  },
  {
   "cell_type": "markdown",
   "metadata": {},
   "source": [
    "=== R E V E R S E ==="
   ]
  },
  {
   "cell_type": "code",
   "execution_count": 6,
   "metadata": {},
   "outputs": [],
   "source": [
    "%load queues\n",
    "\n",
    "Node reverse(Node node) {\n",
    "    return node;\n",
    "}"
   ]
  },
  {
   "cell_type": "code",
   "execution_count": null,
   "metadata": {},
   "outputs": [],
   "source": [
    "var list = new Node(new int[] {1, 2, 3, 4, 5, 6});\n",
    "print(list);\n",
    "print(reverse(list));"
   ]
  },
  {
   "cell_type": "markdown",
   "metadata": {},
   "source": [
    "=== I S - P O L I N D R O M E ==="
   ]
  },
  {
   "cell_type": "code",
   "execution_count": null,
   "metadata": {},
   "outputs": [],
   "source": [
    "%load queues\n",
    "\n",
    "boolean isPolindrome(Node node) {\n",
    "    return false;\n",
    "}"
   ]
  },
  {
   "cell_type": "markdown",
   "metadata": {},
   "source": [
    "=== C O N T A I N S ==="
   ]
  },
  {
   "cell_type": "code",
   "execution_count": null,
   "metadata": {},
   "outputs": [],
   "source": [
    "%load queues\n",
    "\n",
    "boolean contains(Node l1, Node l2) {\n",
    "    return false;\n",
    "}"
   ]
  }
 ],
 "metadata": {
  "kernelspec": {
   "display_name": "Java",
   "language": "java",
   "name": "java"
  },
  "language_info": {
   "codemirror_mode": "java",
   "file_extension": ".jshell",
   "mimetype": "text/x-java-source",
   "name": "java",
   "pygments_lexer": "java",
   "version": "21.0.4+7-LTS"
  }
 },
 "nbformat": 4,
 "nbformat_minor": 2
}
