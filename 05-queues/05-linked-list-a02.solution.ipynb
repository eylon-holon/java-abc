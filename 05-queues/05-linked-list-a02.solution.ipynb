{
 "cells": [
  {
   "cell_type": "markdown",
   "metadata": {},
   "source": [
    "=== L I N K E D - L I S T ===\n",
    "- Create linked list from an array\n",
    "- Print linked list"
   ]
  },
  {
   "cell_type": "code",
   "execution_count": null,
   "metadata": {
    "vscode": {
     "languageId": "java"
    }
   },
   "outputs": [],
   "source": [
    "%load queues\n",
    "\n",
    "var list = new Node(new int[] {1, 2, 3, 4, 5, 6, 7});\n",
    "print(list.toString());"
   ]
  },
  {
   "cell_type": "markdown",
   "metadata": {},
   "source": [
    "=== G E T - C O U N T ==="
   ]
  },
  {
   "cell_type": "code",
   "execution_count": 1,
   "metadata": {
    "vscode": {
     "languageId": "java"
    }
   },
   "outputs": [],
   "source": [
    "%load queues\n",
    "\n",
    "int getCount(Node node) {\n",
    "    int count = 0;\n",
    "    while (node != null) {\n",
    "        count = count + 1;\n",
    "        node = node.getNext();\n",
    "    }\n",
    "    return count;\n",
    "}"
   ]
  },
  {
   "cell_type": "code",
   "execution_count": null,
   "metadata": {
    "vscode": {
     "languageId": "java"
    }
   },
   "outputs": [],
   "source": [
    "print(getCount(new Node(new int[] {1, 2, 3, 4, 5, 6, 7})))"
   ]
  },
  {
   "cell_type": "markdown",
   "metadata": {},
   "source": [
    "=== G E T - M A X ==="
   ]
  },
  {
   "cell_type": "code",
   "execution_count": 3,
   "metadata": {
    "vscode": {
     "languageId": "java"
    }
   },
   "outputs": [],
   "source": [
    "%load queues\n",
    "\n",
    "int getMax(Node node) {\n",
    "    int max = Integer.MIN_VALUE;\n",
    "    while (node != null) {\n",
    "        max = Math.max(max, node.getValue());\n",
    "        node = node.getNext();\n",
    "    }\n",
    "    return max;\n",
    "}"
   ]
  },
  {
   "cell_type": "code",
   "execution_count": null,
   "metadata": {
    "vscode": {
     "languageId": "java"
    }
   },
   "outputs": [],
   "source": [
    "print(getMax(new Node(new int[] {1, 100, 23})))"
   ]
  },
  {
   "cell_type": "markdown",
   "metadata": {},
   "source": [
    "=== G E T - M I N ==="
   ]
  },
  {
   "cell_type": "code",
   "execution_count": 5,
   "metadata": {
    "vscode": {
     "languageId": "java"
    }
   },
   "outputs": [],
   "source": [
    "%load queues\n",
    "\n",
    "sint getMin(Node node) {\n",
    "    int min = Integer.MAX_VALUE;\n",
    "    while (node != null) {\n",
    "        min = Math.min(min, node.getValue());\n",
    "        node = node.getNext();\n",
    "    }\n",
    "    return min;\n",
    "}"
   ]
  },
  {
   "cell_type": "code",
   "execution_count": null,
   "metadata": {
    "vscode": {
     "languageId": "java"
    }
   },
   "outputs": [],
   "source": [
    "print(getMin(new Node(new int[] {1, 100, 23})))"
   ]
  },
  {
   "cell_type": "markdown",
   "metadata": {},
   "source": [
    "=== G E T - V A L U E - A T - I N D E X ==="
   ]
  },
  {
   "cell_type": "code",
   "execution_count": 7,
   "metadata": {
    "vscode": {
     "languageId": "java"
    }
   },
   "outputs": [],
   "source": [
    "%load queues\n",
    "\n",
    "int getValueAt(Node node, int indx) {\n",
    "    while (indx > 0) {\n",
    "        node = node.getNext();\n",
    "        indx = indx - 1;\n",
    "    }\n",
    "    return node.getValue();\n",
    "}"
   ]
  },
  {
   "cell_type": "code",
   "execution_count": null,
   "metadata": {
    "vscode": {
     "languageId": "java"
    }
   },
   "outputs": [],
   "source": [
    "var list = new Node(new int[] {0, 1, 2, 3, 4, 5, 6, 7});\n",
    "print(getValueAt(list, 0));\n",
    "print(getValueAt(list, 3));\n",
    "print(getValueAt(list, 7));"
   ]
  },
  {
   "cell_type": "markdown",
   "metadata": {},
   "source": [
    "=== V A L U E - vs - R E F E R E N C E ==="
   ]
  },
  {
   "cell_type": "code",
   "execution_count": 10,
   "metadata": {
    "vscode": {
     "languageId": "java"
    }
   },
   "outputs": [],
   "source": [
    "%load queues\n",
    "\n",
    "void valueVsReference(int value, Node reference) {\n",
    "    value = value + 1;\n",
    "    reference.setValue(reference.getValue() + 1);\n",
    "}"
   ]
  },
  {
   "cell_type": "code",
   "execution_count": null,
   "metadata": {
    "vscode": {
     "languageId": "java"
    }
   },
   "outputs": [],
   "source": [
    "int num = 1;\n",
    "Node node = new Node(1);\n",
    "\n",
    "valueVsReference(num, node);\n",
    "\n",
    "print(\"num =\", num);\n",
    "print(\"node.value =\", node.getValue());"
   ]
  },
  {
   "cell_type": "code",
   "execution_count": null,
   "metadata": {
    "vscode": {
     "languageId": "java"
    }
   },
   "outputs": [],
   "source": [
    "int num = 1;\n",
    "int num2 = num;\n",
    "\n",
    "num = num + 1;\n",
    "\n",
    "print(\"num =\", num);\n",
    "print(\"num2 =\", num2);\n",
    "\n",
    "Node node = new Node(1);\n",
    "Node node2 = node;\n",
    "\n",
    "node.setValue(node.getValue() + 1);\n",
    "\n",
    "print(\"node.value =\", node.getValue());\n",
    "print(\"node2.value =\", node2.getValue());"
   ]
  },
  {
   "cell_type": "markdown",
   "metadata": {},
   "source": [
    "=== F I N D ==="
   ]
  },
  {
   "cell_type": "code",
   "execution_count": 4,
   "metadata": {
    "vscode": {
     "languageId": "java"
    }
   },
   "outputs": [],
   "source": [
    "%load queues\n",
    "\n",
    "Node find(Node node, int value) {\n",
    "    while (node != null) {\n",
    "        if (value == node.getValue()) {\n",
    "            return node;\n",
    "        }\n",
    "        node = node.getNext();\n",
    "    }\n",
    "    return null;\n",
    "}"
   ]
  },
  {
   "cell_type": "code",
   "execution_count": null,
   "metadata": {
    "vscode": {
     "languageId": "java"
    }
   },
   "outputs": [],
   "source": [
    "print(find(new Node(new int[] {1, 2, 3, 4, 5, 6, 7}), 5));"
   ]
  },
  {
   "cell_type": "markdown",
   "metadata": {},
   "source": [
    "=== S A M E - A S ==="
   ]
  },
  {
   "cell_type": "code",
   "execution_count": 14,
   "metadata": {
    "vscode": {
     "languageId": "java"
    }
   },
   "outputs": [],
   "source": [
    "%load queues\n",
    "\n",
    "boolean sameAs(Node a, Node b) {\n",
    "    while (a != null && b != null) {\n",
    "        if (a.getValue() != b.getValue()) {\n",
    "            return false;\n",
    "        }\n",
    "        a = a.getNext();\n",
    "        b = b.getNext();\n",
    "    }\n",
    "    if (a == null && b == null) {\n",
    "        return true;\n",
    "    }\n",
    "    return false;\n",
    "}"
   ]
  },
  {
   "cell_type": "code",
   "execution_count": null,
   "metadata": {
    "vscode": {
     "languageId": "java"
    }
   },
   "outputs": [],
   "source": [
    "=== C L O N E ==="
   ]
  },
  {
   "cell_type": "code",
   "execution_count": 3,
   "metadata": {
    "vscode": {
     "languageId": "java"
    }
   },
   "outputs": [],
   "source": [
    "%load queues\n",
    "\n",
    "Node cloneMe(Node node) {\n",
    "    Node head = null;\n",
    "    Node tail = null;\n",
    "    while (node != null) {\n",
    "        Node newNode = new Node(node.getValue());\n",
    "        if (head == null) {\n",
    "            head = newNode;\n",
    "        }\n",
    "        if (tail != null) {\n",
    "            tail.setNext(newNode);\n",
    "        }\n",
    "        tail = newNode;\n",
    "        node = node.getNext();\n",
    "    }\n",
    "    return head;\n",
    "}"
   ]
  },
  {
   "cell_type": "code",
   "execution_count": null,
   "metadata": {
    "vscode": {
     "languageId": "java"
    }
   },
   "outputs": [],
   "source": [
    "Node list = new Node(new int[] {123, 2, 3, 4, 5, 6, 7});\n",
    "Node list2 = cloneMe(list);\n",
    "\n",
    "list.setValue(321);\n",
    "\n",
    "print(list);\n",
    "print(list2);"
   ]
  },
  {
   "cell_type": "markdown",
   "metadata": {},
   "source": [
    "=== R E V E R S E ==="
   ]
  },
  {
   "cell_type": "code",
   "execution_count": 7,
   "metadata": {
    "vscode": {
     "languageId": "java"
    }
   },
   "outputs": [],
   "source": [
    "%load queues\n",
    "\n",
    "Node reverse(Node node) {\n",
    "    Node head = null;\n",
    "    while (node != null) {\n",
    "        Node newNode = new Node(node.getValue());\n",
    "        newNode.setNext(head);\n",
    "        head = newNode;\n",
    "        \n",
    "        node = node.getNext();\n",
    "    }\n",
    "    return head;\n",
    "}"
   ]
  },
  {
   "cell_type": "code",
   "execution_count": null,
   "metadata": {
    "vscode": {
     "languageId": "java"
    }
   },
   "outputs": [],
   "source": [
    "var list = new Node(new int[] {1, 2, 3, 4, 5, 6});\n",
    "print(list);\n",
    "print(reverse(list));"
   ]
  },
  {
   "cell_type": "markdown",
   "metadata": {},
   "source": [
    "=== I S - P O L I N D R O M E ==="
   ]
  },
  {
   "cell_type": "code",
   "execution_count": 12,
   "metadata": {
    "vscode": {
     "languageId": "java"
    }
   },
   "outputs": [],
   "source": [
    "%load queues\n",
    "\n",
    "boolean isPolindrome(Node node) {\n",
    "    Node reversed = reverse(node);\n",
    "    return sameAs(node, reversed);\n",
    "}"
   ]
  },
  {
   "cell_type": "code",
   "execution_count": null,
   "metadata": {
    "vscode": {
     "languageId": "java"
    }
   },
   "outputs": [],
   "source": [
    "print(isPolindrome(new Node(new int[] {1, 2, 3, 2, 1})));\n",
    "print(isPolindrome(new Node(new int[] {1, 2, 3, 3, 2, 1})));\n",
    "print(isPolindrome(new Node(new int[] {1, 2, 3, 1, 2, 3})));"
   ]
  }
 ],
 "metadata": {
  "kernelspec": {
   "display_name": "Java",
   "language": "java",
   "name": "java"
  },
  "language_info": {
   "codemirror_mode": "java",
   "file_extension": ".jshell",
   "mimetype": "text/x-java-source",
   "name": "Java",
   "pygments_lexer": "java",
   "version": "23+37-2369"
  }
 },
 "nbformat": 4,
 "nbformat_minor": 2
}
