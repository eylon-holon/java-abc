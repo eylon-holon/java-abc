{
 "cells": [
  {
   "cell_type": "code",
   "execution_count": 4,
   "metadata": {
    "vscode": {
     "languageId": "java"
    }
   },
   "outputs": [],
   "source": [
    "%load queues\n",
    "\n",
    "Node find(Node node, int value) {\n",
    "    while (node != null) {\n",
    "        if (value == node.getValue()) {\n",
    "            return node;\n",
    "        }\n",
    "        node = node.getNext();\n",
    "    }\n",
    "    return null;\n",
    "}\n",
    "\n",
    "void add(Node node, int num) {\n",
    "    while (node != null) {\n",
    "        node.setValue(node.getValue() + num);\n",
    "        node = node.getNext();\n",
    "    }\n",
    "}"
   ]
  },
  {
   "cell_type": "code",
   "execution_count": 10,
   "metadata": {
    "vscode": {
     "languageId": "java"
    }
   },
   "outputs": [
    {
     "name": "stdout",
     "output_type": "stream",
     "text": [
      "[1, 2, 3, 4, 5, 6, 7] \n",
      "[5, 6, 7] \n",
      "[5] \n",
      "[1, 2, 3, 4, 5] \n"
     ]
    }
   ],
   "source": [
    "Node list = new Node(new int[] {1, 2, 3, 4, 5, 6, 7});\n",
    "Node five = find(list, 5);\n",
    "\n",
    "print(list);\n",
    "\n",
    "print(five);\n",
    "five.setNext(null);\n",
    "print(five);\n",
    "\n",
    "print(list);"
   ]
  }
 ],
 "metadata": {
  "kernelspec": {
   "display_name": "Java",
   "language": "java",
   "name": "java"
  },
  "language_info": {
   "codemirror_mode": "java",
   "file_extension": ".jshell",
   "mimetype": "text/x-java-source",
   "name": "Java",
   "pygments_lexer": "java",
   "version": "23+37-2369"
  }
 },
 "nbformat": 4,
 "nbformat_minor": 2
}
