{
 "cells": [
  {
   "cell_type": "markdown",
   "metadata": {},
   "source": [
    "---\n",
    "Itarate"
   ]
  },
  {
   "cell_type": "code",
   "execution_count": 1,
   "metadata": {
    "vscode": {
     "languageId": "java"
    }
   },
   "outputs": [],
   "source": [
    "%load queues\n",
    "\n",
    "void iterate(Queue que) {\n",
    "    Queue que2 = new Queue();\n",
    "\n",
    "    while (!que.isEmpty()) {\n",
    "        int x = que.remove();\n",
    "        que2.insert(x);\n",
    "    }\n",
    "\n",
    "    while (!que2.isEmpty()) {\n",
    "        int x = que2.remove();\n",
    "        que.insert(x);\n",
    "    }\n",
    "}"
   ]
  },
  {
   "cell_type": "code",
   "execution_count": 18,
   "metadata": {
    "vscode": {
     "languageId": "java"
    }
   },
   "outputs": [],
   "source": [
    "%load queues\n",
    "\n",
    "void iterate(Stack stack) {\n",
    "    Stack stack2 = new Stack();\n",
    "\n",
    "    while (!stack.isEmpty()) {\n",
    "        int x = stack.pop();\n",
    "        stack2.push(x);\n",
    "    }\n",
    "\n",
    "    while (!stack2.isEmpty()) {\n",
    "        int x = stack2.pop();\n",
    "        stack.push(x);\n",
    "    }\n",
    "}"
   ]
  },
  {
   "cell_type": "code",
   "execution_count": 21,
   "metadata": {
    "vscode": {
     "languageId": "java"
    }
   },
   "outputs": [],
   "source": [
    "Queue que = Queue.fromArray(new int[] {1, 2, 3});\n",
    "iterate(que);"
   ]
  },
  {
   "cell_type": "code",
   "execution_count": 19,
   "metadata": {
    "vscode": {
     "languageId": "java"
    }
   },
   "outputs": [],
   "source": [
    "Stack stack = Stack.fromArray(new int[] {1, 2, 3});\n",
    "iterate(stack);"
   ]
  },
  {
   "cell_type": "markdown",
   "metadata": {},
   "source": [
    "---"
   ]
  },
  {
   "cell_type": "code",
   "execution_count": null,
   "metadata": {
    "vscode": {
     "languageId": "java"
    }
   },
   "outputs": [],
   "source": [
    "boolean has(Queue que, int num) {\n",
    "    return false;\n",
    "}"
   ]
  }
 ],
 "metadata": {
  "kernelspec": {
   "display_name": "Java",
   "language": "java",
   "name": "java"
  },
  "language_info": {
   "codemirror_mode": "java",
   "file_extension": ".jshell",
   "mimetype": "text/x-java-source",
   "name": "Java",
   "pygments_lexer": "java",
   "version": "21.0.4+7-LTS"
  }
 },
 "nbformat": 4,
 "nbformat_minor": 2
}
