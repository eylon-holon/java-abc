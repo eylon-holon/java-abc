{
 "cells": [
  {
   "cell_type": "code",
   "execution_count": null,
   "metadata": {},
   "outputs": [],
   "source": [
    "%load fsm\n",
    "var fsm = fsmFromMermaid(\"accepting-with-full-false\", \"11-nfsm-a01.dib\");\n",
    "accept(fsm, \"1\", \"0\");"
   ]
  },
  {
   "cell_type": "code",
   "execution_count": 11,
   "metadata": {},
   "outputs": [],
   "source": [
    "\n",
    "\n",
    "public static void main () {\n",
    "    int[] arr1 = new int[5];\n",
    "    \n",
    "}\n",
    "public static boolean posOrder (int[] arr1) {\n",
    "    int max = arr1[0];\n",
    "    for (int i=0; i<arr1.length; i++) {\n",
    "        if (arr1[i]>0) {\n",
    "            if (arr1[i] < max) {\n",
    "                return false;\n",
    "            }\n",
    "            max=arr1[i];\n",
    "        }\n",
    "\n",
    "    }\n",
    "    return true;\n",
    "\n",
    "}"
   ]
  },
  {
   "cell_type": "markdown",
   "metadata": {},
   "source": []
  }
 ],
 "metadata": {
  "kernelspec": {
   "display_name": "Java",
   "language": "java",
   "name": "java"
  },
  "language_info": {
   "codemirror_mode": "java",
   "file_extension": ".jshell",
   "mimetype": "text/x-java-source",
   "name": "java",
   "pygments_lexer": "java",
   "version": "21.0.4+7-LTS"
  }
 },
 "nbformat": 4,
 "nbformat_minor": 2
}
