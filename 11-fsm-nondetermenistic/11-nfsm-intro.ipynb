{
 "cells": [
  {
   "cell_type": "markdown",
   "metadata": {},
   "source": [
    "![note-01](img/11-nfsm-a01-note-01.png)  "
   ]
  },
  {
   "cell_type": "code",
   "execution_count": null,
   "metadata": {},
   "outputs": [],
   "source": [
    "%load fsm\n",
    "var fsm = fsmFromMermaid(\"intro\", \"11-nfsm-intro.dib\");\n",
    "accept(fsm, \"1\", \"0001\", \"11\", \"10\");"
   ]
  },
  {
   "cell_type": "code",
   "execution_count": null,
   "metadata": {},
   "outputs": [],
   "source": [
    "%load fsm\n",
    "var fsm = fsmFromMermaid(\"intro-2\", \"11-nfsm-intro.dib\");\n",
    "print(\"Actually it's determenistic: \", fsm.determenistic());\n",
    "accept(fsm, \"1\", \"0001\", \"11\", \"10\");"
   ]
  },
  {
   "cell_type": "code",
   "execution_count": null,
   "metadata": {},
   "outputs": [],
   "source": [
    "%load fsm\n",
    "var fsm = fsmFromMermaid(\"intro\", \"11-nfsm-intro.dib\");\n",
    "accept(fsm, true, \"0110011\");"
   ]
  },
  {
   "cell_type": "markdown",
   "metadata": {},
   "source": [
    "![note-01](img/11-nfsm-a01-note-02.png)   \n",
    "Build an equivalent determenistic FSM with tests"
   ]
  },
  {
   "cell_type": "code",
   "execution_count": null,
   "metadata": {},
   "outputs": [],
   "source": [
    "%load fsm\n",
    "var fsm = fsmFromMermaid(\"q-01\", \"11-nfsm-intro.dib\");\n",
    "accept(fsm, \"\");"
   ]
  },
  {
   "cell_type": "markdown",
   "metadata": {},
   "source": [
    "![note-01](img/11-nfsm-a01-q02.png)   \n",
    "Build two of them with tests"
   ]
  },
  {
   "cell_type": "code",
   "execution_count": null,
   "metadata": {},
   "outputs": [],
   "source": [
    "%load fsm\n",
    "var fsm = fsmFromMermaid(\"q-02\", \"11-nfsm-intro.dib\");\n",
    "accept(fsm, \"\");"
   ]
  },
  {
   "cell_type": "code",
   "execution_count": null,
   "metadata": {},
   "outputs": [],
   "source": [
    "%load fsm\n",
    "var fsm = fsmFromMermaid(\"q-03\", \"11-nfsm-intro.dib\");\n",
    "accept(fsm, \"\");"
   ]
  }
 ],
 "metadata": {
  "kernelspec": {
   "display_name": "Java",
   "language": "java",
   "name": "java"
  },
  "language_info": {
   "codemirror_mode": "java",
   "file_extension": ".jshell",
   "mimetype": "text/x-java-source",
   "name": "java",
   "pygments_lexer": "java",
   "version": "23+37-2369"
  }
 },
 "nbformat": 4,
 "nbformat_minor": 2
}
