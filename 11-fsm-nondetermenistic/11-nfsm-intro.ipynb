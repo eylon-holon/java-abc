{
 "cells": [
  {
   "cell_type": "code",
   "execution_count": 4,
   "metadata": {
    "vscode": {
     "languageId": "java"
    }
   },
   "outputs": [
    {
     "name": "stdout",
     "output_type": "stream",
     "text": [
      "'1' : true \n",
      "'0001' : true \n",
      "'11' : true \n",
      "'10' : false \n"
     ]
    }
   ],
   "source": [
    "%load fsm\n",
    "var fsm = fsmFromMermaid(\"intro\", \"11-nfsm-intro.dib\");\n",
    "accept(fsm, \"1\", \"0001\", \"11\", \"10\");"
   ]
  },
  {
   "cell_type": "code",
   "execution_count": 2,
   "metadata": {
    "vscode": {
     "languageId": "java"
    }
   },
   "outputs": [
    {
     "name": "stdout",
     "output_type": "stream",
     "text": [
      "Actually it's determenistic:  true \n",
      "'1' : true \n",
      "'0001' : true \n",
      "'11' : false \n",
      "'10' : false \n"
     ]
    }
   ],
   "source": [
    "%load fsm\n",
    "var fsm = fsmFromMermaid(\"intro-2\", \"11-nfsm-intro.dib\");\n",
    "print(\"Actually it's determenistic: \", fsm.determenistic());\n",
    "accept(fsm, \"1\", \"0001\", \"11\", \"10\");"
   ]
  },
  {
   "cell_type": "code",
   "execution_count": 3,
   "metadata": {
    "vscode": {
     "languageId": "java"
    }
   },
   "outputs": [
    {
     "name": "stdout",
     "output_type": "stream",
     "text": [
      "NFSM['intro']: accepting word '0110011'\n",
      "  '0': q0 --> q0\n",
      "  '1': q0 --> q0\n",
      "  '1': q0 --> q0\n",
      "  '0': q0 --> q0\n",
      "  '0': q0 --> q0\n",
      "  '1': q0 --> q0\n",
      "  '1': q0 --> q1\n",
      "NFSM['intro']: '0110011' is accepted\n",
      "'0110011' : true \n"
     ]
    }
   ],
   "source": [
    "%load fsm\n",
    "var fsm = fsmFromMermaid(\"intro\", \"11-nfsm-intro.dib\");\n",
    "accept(fsm, true, \"0110011\");"
   ]
  }
 ],
 "metadata": {
  "kernelspec": {
   "display_name": "Java",
   "language": "java",
   "name": "java"
  },
  "language_info": {
   "codemirror_mode": "java",
   "file_extension": ".jshell",
   "mimetype": "text/x-java-source",
   "name": "Java",
   "pygments_lexer": "java",
   "version": "21.0.4+7-LTS"
  }
 },
 "nbformat": 4,
 "nbformat_minor": 2
}
