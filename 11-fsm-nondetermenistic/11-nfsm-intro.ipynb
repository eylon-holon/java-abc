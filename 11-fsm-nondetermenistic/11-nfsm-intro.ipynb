{
 "cells": [
  {
   "cell_type": "markdown",
   "metadata": {},
   "source": [
    "![note-01](img/11-nfsm-a01-note-01.png)  "
   ]
  },
  {
   "cell_type": "code",
   "execution_count": null,
   "metadata": {},
   "outputs": [],
   "source": [
    "%load fsm\n",
    "var fsm = fsmFromMermaid(\"intro\", \"11-nfsm-intro.dib\");\n",
    "accept(fsm, \"1\", \"0001\", \"11\", \"10\");"
   ]
  },
  {
   "cell_type": "code",
   "execution_count": null,
   "metadata": {},
   "outputs": [],
   "source": [
    "%load fsm\n",
    "var fsm = fsmFromMermaid(\"intro-2\", \"11-nfsm-intro.dib\");\n",
    "print(\"Actually it's determenistic: \", fsm.determenistic());\n",
    "accept(fsm, \"1\", \"0001\", \"11\", \"10\");"
   ]
  },
  {
   "cell_type": "code",
   "execution_count": null,
   "metadata": {},
   "outputs": [],
   "source": [
    "%load fsm\n",
    "var fsm = fsmFromMermaid(\"intro\", \"11-nfsm-intro.dib\");\n",
    "accept(fsm, true, \"0110011\");"
   ]
  },
  {
   "cell_type": "markdown",
   "metadata": {},
   "source": [
    "![note-01](img/11-nfsm-a01-note-02.png)   \n",
    "Build an equivalent determenistic FSM with tests"
   ]
  },
  {
   "cell_type": "code",
   "execution_count": 1,
   "metadata": {},
   "outputs": [
    {
     "name": "stdout",
     "output_type": "stream",
     "text": [
      "'1' : true \n",
      "'11' : true \n",
      "'011' : true \n",
      "'110' : false \n",
      "'000001001' : true \n"
     ]
    }
   ],
   "source": [
    "%load fsm\n",
    "var fsm = fsmFromMermaid(\"q-01\", \"11-nfsm-intro.dib\");\n",
    "accept(fsm, \"1\", \"11\", \"011\", \"110\", \"000001001\");"
   ]
  },
  {
   "cell_type": "markdown",
   "metadata": {},
   "source": [
    "![note-01](img/11-nfsm-a01-q02.png)   \n",
    "Build two of them with tests"
   ]
  },
  {
   "cell_type": "code",
   "execution_count": 3,
   "metadata": {},
   "outputs": [
    {
     "name": "stdout",
     "output_type": "stream",
     "text": [
      "'00' : true \n",
      "'010' : true \n",
      "'11221' : true \n",
      "'2101212' : true \n",
      "'011' : false \n",
      "'012' : false \n"
     ]
    }
   ],
   "source": [
    "%load fsm\n",
    "var fsm = fsmFromMermaid(\"q-02\", \"11-nfsm-intro.dib\");\n",
    "accept(fsm, \"00\", \"010\", \"11221\", \"2101212\", \"011\", \"012\");"
   ]
  },
  {
   "cell_type": "code",
   "execution_count": null,
   "metadata": {},
   "outputs": [],
   "source": [
    "%load fsm\n",
    "var fsm = fsmFromMermaid(\"q-03\", \"11-nfsm-intro.dib\");\n",
    "accept(fsm, \"\");"
   ]
  }
 ],
 "metadata": {
  "kernelspec": {
   "display_name": "Java",
   "language": "java",
   "name": "java"
  },
  "language_info": {
   "codemirror_mode": "java",
   "file_extension": ".jshell",
   "mimetype": "text/x-java-source",
   "name": "java",
   "pygments_lexer": "java",
   "version": "21.0.4+7-LTS"
   "version": "21.0.4+7-LTS"
  }
 },
 "nbformat": 4,
 "nbformat_minor": 2
}
