{
 "cells": [
  {
   "cell_type": "markdown",
   "metadata": {},
   "source": [
    "![note-01](img/11-nfsm-a01-note-01.png)  "
   ]
  },
  {
   "cell_type": "code",
   "execution_count": null,
   "metadata": {},
   "outputs": [],
   "source": [
    "%load fsm\n",
    "var fsm = fsmFromMermaid(\"intro\", \"11-nfsm-intro.dib\");\n",
    "accept(fsm, \"1\", \"0001\", \"11\", \"10\");"
   ]
  },
  {
   "cell_type": "code",
   "execution_count": null,
   "metadata": {},
   "outputs": [],
   "source": [
    "%load fsm\n",
    "var fsm = fsmFromMermaid(\"intro-2\", \"11-nfsm-intro.dib\");\n",
    "print(\"Actually it's determenistic: \", fsm.determenistic());\n",
    "accept(fsm, \"1\", \"0001\", \"11\", \"10\");"
   ]
  },
  {
   "cell_type": "code",
   "execution_count": 1,
   "metadata": {},
   "outputs": [
    {
     "ename": "UnresolvedReferenceException",
     "evalue": "Attempt to use definition snippet with unresolved references in Snippet:ClassKey(FsmFromMermaid2)#60-class FsmFromMermaid2 {\r\n    private static void print(String fmt, Object... args) {\r\n        System.out.println(String.format(fmt, args));\r\n    }\r\n\r\n    public static IFSM parse(String graphName, String filePath, boolean... logFlags) {\r\n        var log = logFlags.length > 0 && logFlags[0];\r\n\r\n        var graph = MermaidFile2.loadGraph(graphName, filePath, log);\r\n        if (log) print(\"graph '%s': loaded\", graph.name);\r\n\r\n        var parser = FsmParser2.New(graph.lines, graph.props, log);\r\n        if (log) print(\"graph '%s': parsed (%d lines)\", graph.name, graph.lines.length);\r\n\r\n        var def = new FSM.Def(\r\n            parser.getStates(),\r\n            parser.getAlefBet(),\r\n            parser.getTransitions(),\r\n            graph.props\r\n        );\r\n\r\n        if (log) print(\"graph '%s': ready for fsm\", graph.name);\r\n\r\n        if (graph.props.withStack())\r\n            return new FsmWithStack(graphName, def, log);\r\n\r\n        if (graph.props.nondetermenistic())\r\n            return new NondetermenisticFsm(graphName, def, log);\r\n\r\n        return\r\n            new DetermenisticFsm(graphName, def, log);\r\n    }    \r\n}\r\n\r\n// Ctrl+Shift+P(Command Pallete) -> Clean Java server language workspace-> Restart and delete\r\n// https://stackoverflow.com/questions/67680483/getting-error-file-cannot-be-resolved-to-a-type-for-java-in-visual-studio-code\r\n",
     "output_type": "error",
     "traceback": [
      "\u001b[1m\u001b[30m|   \u001b[1m\u001b[30mclass FsmFromMermaid2 {\u001b[0m",
      "\u001b[1m\u001b[30m|   \u001b[1m\u001b[30m    private static void print(String fmt, Object... args) {\u001b[0m",
      "\u001b[1m\u001b[30m|   \u001b[1m\u001b[30m        System.out.println(String.format(fmt, args));\u001b[0m",
      "\u001b[1m\u001b[30m|   \u001b[1m\u001b[30m    }\u001b[0m",
      "\u001b[1m\u001b[30m|   \u001b[1m\u001b[30m\u001b[0m",
      "\u001b[1m\u001b[30m|   \u001b[1m\u001b[30m    public static IFSM parse(String graphName, String filePath, boolean... logFlags) {\u001b[0m",
      "\u001b[1m\u001b[30m|   \u001b[1m\u001b[30m        var log = logFlags.length > 0 && logFlags[0];\u001b[0m",
      "\u001b[1m\u001b[30m|   \u001b[1m\u001b[30m\u001b[0m",
      "\u001b[1m\u001b[30m|   \u001b[1m\u001b[30m        var graph = MermaidFile2.loadGraph(graphName, filePath, log);\u001b[0m",
      "\u001b[1m\u001b[30m|   \u001b[1m\u001b[30m        if (log) print(\"graph '%s': loaded\", graph.name);\u001b[0m",
      "\u001b[1m\u001b[30m|   \u001b[1m\u001b[30m\u001b[0m",
      "\u001b[1m\u001b[30m|   \u001b[1m\u001b[30m        var parser = FsmParser2.New(graph.lines, graph.props, log);\u001b[0m",
      "\u001b[1m\u001b[30m|   \u001b[1m\u001b[30m        if (log) print(\"graph '%s': parsed (%d lines)\", graph.name, graph.lines.length);\u001b[0m",
      "\u001b[1m\u001b[30m|   \u001b[1m\u001b[30m\u001b[0m",
      "\u001b[1m\u001b[30m|   \u001b[1m\u001b[30m        var def = new FSM.Def(\u001b[0m",
      "\u001b[1m\u001b[30m|   \u001b[1m\u001b[30m            parser.getStates(),\u001b[0m",
      "\u001b[1m\u001b[30m|   \u001b[1m\u001b[30m            parser.getAlefBet(),\u001b[0m",
      "\u001b[1m\u001b[30m|   \u001b[1m\u001b[30m            parser.getTransitions(),\u001b[0m",
      "\u001b[1m\u001b[30m|   \u001b[1m\u001b[30m            graph.props\u001b[0m",
      "\u001b[1m\u001b[30m|   \u001b[1m\u001b[30m        );\u001b[0m",
      "\u001b[1m\u001b[30m|   \u001b[1m\u001b[30m\u001b[0m",
      "\u001b[1m\u001b[30m|   \u001b[1m\u001b[30m        if (log) print(\"graph '%s': ready for fsm\", graph.name);\u001b[0m",
      "\u001b[1m\u001b[30m|   \u001b[1m\u001b[30m\u001b[0m",
      "\u001b[1m\u001b[30m|   \u001b[1m\u001b[30m        if (graph.props.withStack())\u001b[0m",
      "\u001b[1m\u001b[30m|   \u001b[1m\u001b[30m            return new FsmWithStack(graphName, def, log);\u001b[0m",
      "\u001b[1m\u001b[30m|   \u001b[1m\u001b[30m\u001b[0m",
      "\u001b[1m\u001b[30m|   \u001b[1m\u001b[30m        if (graph.props.nondetermenistic())\u001b[0m",
      "\u001b[1m\u001b[30m|   \u001b[1m\u001b[30m            return new NondetermenisticFsm(graphName, def, log);\u001b[0m",
      "\u001b[1m\u001b[30m|   \u001b[1m\u001b[30m\u001b[0m",
      "\u001b[1m\u001b[30m|   \u001b[1m\u001b[30m        return\u001b[0m",
      "\u001b[1m\u001b[30m|   \u001b[1m\u001b[30m            new DetermenisticFsm(graphName, def, log);\u001b[0m",
      "\u001b[1m\u001b[30m|   \u001b[1m\u001b[30m    }    \u001b[0m",
      "\u001b[1m\u001b[30m|   \u001b[1m\u001b[30m}\u001b[0m",
      "\u001b[1m\u001b[30m|   \u001b[1m\u001b[30m\u001b[0m",
      "\u001b[1m\u001b[30m|   \u001b[1m\u001b[30m// Ctrl+Shift+P(Command Pallete) -> Clean Java server language workspace-> Restart and delete\u001b[0m",
      "\u001b[1m\u001b[30m|   \u001b[1m\u001b[30m// https://stackoverflow.com/questions/67680483/getting-error-file-cannot-be-resolved-to-a-type-for-java-in-visual-studio-code\u001b[0m",
      "\u001b[1m\u001b[31mUnresolved dependencies:\u001b[0m",
      "\u001b[1m\u001b[31m   - class FsmWithStack\u001b[0m"
     ]
    }
   ],
   "source": [
    "%load fsm\n",
    "var fsm = fsmFromMermaid(\"intro\", \"11-nfsm-intro.dib\");\n",
    "accept(fsm, true, \"0110011\");"
   ]
  },
  {
   "cell_type": "markdown",
   "metadata": {},
   "source": [
    "![note-01](img/11-nfsm-a01-note-02.png)   \n",
    "Build an equivalent determenistic FSM with tests"
   ]
  },
  {
   "cell_type": "code",
   "execution_count": null,
   "metadata": {},
   "outputs": [],
   "source": [
    "%load fsm\n",
    "var fsm = fsmFromMermaid(\"q-01\", \"11-nfsm-intro.dib\");\n",
    "accept(fsm, \"1\", \"11\", \"011\", \"110\", \"000001001\");"
   ]
  },
  {
   "cell_type": "markdown",
   "metadata": {},
   "source": [
    "![note-01](img/11-nfsm-a01-q02.png)   \n",
    "Build two of them with tests"
   ]
  },
  {
   "cell_type": "code",
   "execution_count": null,
   "metadata": {},
   "outputs": [],
   "source": [
    "%load fsm\n",
    "var fsm = fsmFromMermaid(\"q-02\", \"11-nfsm-intro.dib\");\n",
    "accept(fsm, \"00\", \"010\", \"11221\", \"2101212\", \"011\", \"012\");"
   ]
  },
  {
   "cell_type": "code",
   "execution_count": null,
   "metadata": {},
   "outputs": [],
   "source": [
    "%load fsm\n",
    "var fsm = fsmFromMermaid(\"q-03\", \"11-nfsm-intro.dib\");\n",
    "accept(fsm, \"\");"
   ]
  }
 ],
 "metadata": {
  "kernelspec": {
   "display_name": "Java",
   "language": "java",
   "name": "java"
  },
  "language_info": {
   "codemirror_mode": "java",
   "file_extension": ".jshell",
   "mimetype": "text/x-java-source",
   "name": "java",
   "pygments_lexer": "java",
   "version": "23+37-2369"
  }
 },
 "nbformat": 4,
 "nbformat_minor": 2
}
