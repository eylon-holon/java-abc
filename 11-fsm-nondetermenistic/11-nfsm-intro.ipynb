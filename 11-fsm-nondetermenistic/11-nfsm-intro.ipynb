{
 "cells": [
  {
   "cell_type": "markdown",
   "metadata": {},
   "source": [
    "![note-01](img/11-nfsm-a01-note-01.png)  "
   ]
  },
  {
   "cell_type": "code",
   "execution_count": 1,
   "metadata": {
    "vscode": {
     "languageId": "java"
    }
   },
   "outputs": [
    {
     "name": "stdout",
     "output_type": "stream",
     "text": [
      "'1' : true \n",
      "'0001' : true \n",
      "'11' : true \n",
      "'10' : false \n"
     ]
    }
   ],
   "source": [
    "%load fsm\n",
    "var fsm = fsmFromMermaid(\"intro\", \"11-nfsm-intro.dib\");\n",
    "accept(fsm, \"1\", \"0001\", \"11\", \"10\");"
   ]
  },
  {
   "cell_type": "code",
   "execution_count": 2,
   "metadata": {
    "vscode": {
     "languageId": "java"
    }
   },
   "outputs": [
    {
     "name": "stdout",
     "output_type": "stream",
     "text": [
      "Actually it's determenistic:  true \n",
      "'1' : true \n",
      "'0001' : true \n",
      "'11' : false \n",
      "'10' : false \n"
     ]
    }
   ],
   "source": [
    "%load fsm\n",
    "var fsm = fsmFromMermaid(\"intro-2\", \"11-nfsm-intro.dib\");\n",
    "print(\"Actually it's determenistic: \", fsm.determenistic());\n",
    "accept(fsm, \"1\", \"0001\", \"11\", \"10\");"
   ]
  },
  {
   "cell_type": "code",
   "execution_count": 3,
   "metadata": {
    "vscode": {
     "languageId": "java"
    }
   },
   "outputs": [
    {
     "name": "stdout",
     "output_type": "stream",
     "text": [
      "NFSM['intro']: accepting word '0110011'\n",
      "  '0': q0 --> q0\n",
      "  '1': q0 --> q0\n",
      "  '1': q0 --> q0\n",
      "  '0': q0 --> q0\n",
      "  '0': q0 --> q0\n",
      "  '1': q0 --> q0\n",
      "  '1': q0 --> q1\n",
      "NFSM['intro']: '0110011' is accepted\n",
      "'0110011' : true \n"
     ]
    }
   ],
   "source": [
    "%load fsm\n",
    "var fsm = fsmFromMermaid(\"intro\", \"11-nfsm-intro.dib\");\n",
    "accept(fsm, true, \"0110011\");"
   ]
  },
  {
   "cell_type": "markdown",
   "metadata": {},
   "source": [
    "![note-01](img/11-nfsm-a01-note-02.png)   \n",
    "Build an equivalent determenistic FSM with tests"
   ]
  },
  {
   "cell_type": "code",
   "execution_count": null,
   "metadata": {
    "vscode": {
     "languageId": "java"
    }
   },
   "outputs": [],
   "source": [
    "%load fsm\n",
    "var fsm = fsmFromMermaid(\"q-01\", \"11-nfsm-intro.dib\");\n",
    "accept(fsm, \n",
    "\"\");"
   ]
  },
  {
   "cell_type": "markdown",
   "metadata": {},
   "source": [
    "![note-01](img/11-nfsm-a01-q02.png)   \n",
    "Build two of them with tests"
   ]
  },
  {
   "cell_type": "code",
   "execution_count": 4,
   "metadata": {
    "vscode": {
     "languageId": "java"
    }
   },
   "outputs": [
    {
     "ename": "EvalException",
     "evalue": "while scanning a simple key\n in 'string', line 3, column 1:\n    q0(((q0)))\n    ^\ncould not find expected ':'\n in 'string', line 4, column 1:\n    q1((q1))\n    ^\n",
     "output_type": "error",
     "traceback": [
      "\u001b[1m\u001b[31m---------------------------------------------------------------------------\u001b[0m",
      "\u001b[1m\u001b[31morg.yaml.snakeyaml.scanner.ScannerException: while scanning a simple key\u001b[0m",
      "\u001b[1m\u001b[31m in 'string', line 3, column 1:\u001b[0m",
      "\u001b[1m\u001b[31m    q0(((q0)))\u001b[0m",
      "\u001b[1m\u001b[31m    ^\u001b[0m",
      "\u001b[1m\u001b[31mcould not find expected ':'\u001b[0m",
      "\u001b[1m\u001b[31m in 'string', line 4, column 1:\u001b[0m",
      "\u001b[1m\u001b[31m    q1((q1))\u001b[0m",
      "\u001b[1m\u001b[31m    ^\u001b[0m",
      "\u001b[1m\u001b[31m\u001b[0m",
      "\u001b[1m\u001b[31m\tat org.yaml.snakeyaml.scanner.ScannerImpl.stalePossibleSimpleKeys(ScannerImpl.java:502)\u001b[0m",
      "\u001b[1m\u001b[31m\tat org.yaml.snakeyaml.scanner.ScannerImpl.needMoreTokens(ScannerImpl.java:307)\u001b[0m",
      "\u001b[1m\u001b[31m\tat org.yaml.snakeyaml.scanner.ScannerImpl.checkToken(ScannerImpl.java:237)\u001b[0m",
      "\u001b[1m\u001b[31m\tat org.yaml.snakeyaml.parser.ParserImpl$ParseBlockMappingKey.produce(ParserImpl.java:637)\u001b[0m",
      "\u001b[1m\u001b[31m\tat org.yaml.snakeyaml.parser.ParserImpl.peekEvent(ParserImpl.java:161)\u001b[0m",
      "\u001b[1m\u001b[31m\tat org.yaml.snakeyaml.comments.CommentEventsCollector$1.peek(CommentEventsCollector.java:57)\u001b[0m",
      "\u001b[1m\u001b[31m\tat org.yaml.snakeyaml.comments.CommentEventsCollector$1.peek(CommentEventsCollector.java:43)\u001b[0m",
      "\u001b[1m\u001b[31m\tat org.yaml.snakeyaml.comments.CommentEventsCollector.collectEvents(CommentEventsCollector.java:136)\u001b[0m",
      "\u001b[1m\u001b[31m\tat org.yaml.snakeyaml.comments.CommentEventsCollector.collectEvents(CommentEventsCollector.java:116)\u001b[0m",
      "\u001b[1m\u001b[31m\tat org.yaml.snakeyaml.composer.Composer.composeScalarNode(Composer.java:249)\u001b[0m",
      "\u001b[1m\u001b[31m\tat org.yaml.snakeyaml.composer.Composer.composeNode(Composer.java:214)\u001b[0m",
      "\u001b[1m\u001b[31m\tat org.yaml.snakeyaml.composer.Composer.composeValueNode(Composer.java:396)\u001b[0m",
      "\u001b[1m\u001b[31m\tat org.yaml.snakeyaml.composer.Composer.composeMappingChildren(Composer.java:361)\u001b[0m",
      "\u001b[1m\u001b[31m\tat org.yaml.snakeyaml.composer.Composer.composeMappingNode(Composer.java:329)\u001b[0m",
      "\u001b[1m\u001b[31m\tat org.yaml.snakeyaml.composer.Composer.composeNode(Composer.java:218)\u001b[0m",
      "\u001b[1m\u001b[31m\tat org.yaml.snakeyaml.composer.Composer.getNode(Composer.java:141)\u001b[0m",
      "\u001b[1m\u001b[31m\tat org.yaml.snakeyaml.composer.Composer.getSingleNode(Composer.java:167)\u001b[0m",
      "\u001b[1m\u001b[31m\tat org.yaml.snakeyaml.constructor.BaseConstructor.getSingleData(BaseConstructor.java:178)\u001b[0m",
      "\u001b[1m\u001b[31m\tat org.yaml.snakeyaml.Yaml.loadFromReader(Yaml.java:507)\u001b[0m",
      "\u001b[1m\u001b[31m\tat org.yaml.snakeyaml.Yaml.load(Yaml.java:436)\u001b[0m",
      "\u001b[1m\u001b[31m\tat MermaidFile2.parseProperties(#51:93)\u001b[0m",
      "\u001b[1m\u001b[31m\tat MermaidFile2.parseGraph(#51:123)\u001b[0m",
      "\u001b[1m\u001b[31m\tat MermaidFile2.loadGraph(#51:144)\u001b[0m",
      "\u001b[1m\u001b[31m\tat FsmFromMermaid2.parse(#55:5)\u001b[0m",
      "\u001b[1m\u001b[31m\tat .fsmFromMermaid(#59:1)\u001b[0m",
      "\u001b[1m\u001b[31m\tat .do_it$Aux(#64:1)\u001b[0m",
      "\u001b[1m\u001b[31m\tat .(#64:1)\u001b[0m"
     ]
    }
   ],
   "source": [
    "%load fsm\n",
    "var fsm = fsmFromMermaid(\"q-02\", \"11-nfsm-intro.dib\");\n",
    "\n",
    "accept(fsm, \"baab\");"
   ]
  },
  {
   "cell_type": "code",
   "execution_count": 6,
   "metadata": {
    "vscode": {
     "languageId": "java"
    }
   },
   "outputs": [
    {
     "ename": "EvalException",
     "evalue": "while scanning a simple key\n in 'string', line 3, column 1:\n    q0(((q0)))\n    ^\ncould not find expected ':'\n in 'string', line 4, column 1:\n    q1((q1))\n    ^\n",
     "output_type": "error",
     "traceback": [
      "\u001b[1m\u001b[31m---------------------------------------------------------------------------\u001b[0m",
      "\u001b[1m\u001b[31morg.yaml.snakeyaml.scanner.ScannerException: while scanning a simple key\u001b[0m",
      "\u001b[1m\u001b[31m in 'string', line 3, column 1:\u001b[0m",
      "\u001b[1m\u001b[31m    q0(((q0)))\u001b[0m",
      "\u001b[1m\u001b[31m    ^\u001b[0m",
      "\u001b[1m\u001b[31mcould not find expected ':'\u001b[0m",
      "\u001b[1m\u001b[31m in 'string', line 4, column 1:\u001b[0m",
      "\u001b[1m\u001b[31m    q1((q1))\u001b[0m",
      "\u001b[1m\u001b[31m    ^\u001b[0m",
      "\u001b[1m\u001b[31m\u001b[0m",
      "\u001b[1m\u001b[31m\tat org.yaml.snakeyaml.scanner.ScannerImpl.stalePossibleSimpleKeys(ScannerImpl.java:502)\u001b[0m",
      "\u001b[1m\u001b[31m\tat org.yaml.snakeyaml.scanner.ScannerImpl.needMoreTokens(ScannerImpl.java:307)\u001b[0m",
      "\u001b[1m\u001b[31m\tat org.yaml.snakeyaml.scanner.ScannerImpl.checkToken(ScannerImpl.java:237)\u001b[0m",
      "\u001b[1m\u001b[31m\tat org.yaml.snakeyaml.parser.ParserImpl$ParseBlockMappingKey.produce(ParserImpl.java:637)\u001b[0m",
      "\u001b[1m\u001b[31m\tat org.yaml.snakeyaml.parser.ParserImpl.peekEvent(ParserImpl.java:161)\u001b[0m",
      "\u001b[1m\u001b[31m\tat org.yaml.snakeyaml.comments.CommentEventsCollector$1.peek(CommentEventsCollector.java:57)\u001b[0m",
      "\u001b[1m\u001b[31m\tat org.yaml.snakeyaml.comments.CommentEventsCollector$1.peek(CommentEventsCollector.java:43)\u001b[0m",
      "\u001b[1m\u001b[31m\tat org.yaml.snakeyaml.comments.CommentEventsCollector.collectEvents(CommentEventsCollector.java:136)\u001b[0m",
      "\u001b[1m\u001b[31m\tat org.yaml.snakeyaml.comments.CommentEventsCollector.collectEvents(CommentEventsCollector.java:116)\u001b[0m",
      "\u001b[1m\u001b[31m\tat org.yaml.snakeyaml.composer.Composer.composeScalarNode(Composer.java:249)\u001b[0m",
      "\u001b[1m\u001b[31m\tat org.yaml.snakeyaml.composer.Composer.composeNode(Composer.java:214)\u001b[0m",
      "\u001b[1m\u001b[31m\tat org.yaml.snakeyaml.composer.Composer.composeValueNode(Composer.java:396)\u001b[0m",
      "\u001b[1m\u001b[31m\tat org.yaml.snakeyaml.composer.Composer.composeMappingChildren(Composer.java:361)\u001b[0m",
      "\u001b[1m\u001b[31m\tat org.yaml.snakeyaml.composer.Composer.composeMappingNode(Composer.java:329)\u001b[0m",
      "\u001b[1m\u001b[31m\tat org.yaml.snakeyaml.composer.Composer.composeNode(Composer.java:218)\u001b[0m",
      "\u001b[1m\u001b[31m\tat org.yaml.snakeyaml.composer.Composer.getNode(Composer.java:141)\u001b[0m",
      "\u001b[1m\u001b[31m\tat org.yaml.snakeyaml.composer.Composer.getSingleNode(Composer.java:167)\u001b[0m",
      "\u001b[1m\u001b[31m\tat org.yaml.snakeyaml.constructor.BaseConstructor.getSingleData(BaseConstructor.java:178)\u001b[0m",
      "\u001b[1m\u001b[31m\tat org.yaml.snakeyaml.Yaml.loadFromReader(Yaml.java:507)\u001b[0m",
      "\u001b[1m\u001b[31m\tat org.yaml.snakeyaml.Yaml.load(Yaml.java:436)\u001b[0m",
      "\u001b[1m\u001b[31m\tat MermaidFile2.parseProperties(#51:93)\u001b[0m",
      "\u001b[1m\u001b[31m\tat MermaidFile2.parseGraph(#51:123)\u001b[0m",
      "\u001b[1m\u001b[31m\tat MermaidFile2.loadGraph(#51:144)\u001b[0m",
      "\u001b[1m\u001b[31m\tat FsmFromMermaid2.parse(#55:5)\u001b[0m",
      "\u001b[1m\u001b[31m\tat .fsmFromMermaid(#59:1)\u001b[0m",
      "\u001b[1m\u001b[31m\tat .do_it$Aux(#64:1)\u001b[0m",
      "\u001b[1m\u001b[31m\tat .(#64:1)\u001b[0m"
     ]
    }
   ],
   "source": [
    "%load fsm\n",
    "var fsm = fsmFromMermaid(\"q-03\", \"11-nfsm-intro.dib\");\n",
    "accept(fsm, \"aab\");"
   ]
  }
 ],
 "metadata": {
  "kernelspec": {
   "display_name": "Java",
   "language": "java",
   "name": "java"
  },
  "language_info": {
   "codemirror_mode": "java",
   "file_extension": ".jshell",
   "mimetype": "text/x-java-source",
   "name": "Java",
   "pygments_lexer": "java",
   "version": "21.0.4+7-LTS"
  }
 },
 "nbformat": 4,
 "nbformat_minor": 2
}
