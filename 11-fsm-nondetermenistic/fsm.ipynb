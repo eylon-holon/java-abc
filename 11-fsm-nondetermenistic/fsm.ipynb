{
 "cells": [
  {
   "cell_type": "code",
   "execution_count": 2,
   "metadata": {
    "vscode": {
     "languageId": "java"
    }
   },
   "outputs": [],
   "source": [
    "%jars ../lib/snakeyaml-2.3.jar\n",
    "%load ../eylon/java-utils\n",
    "%load ../j-core/fsm/FSM\n",
    "%load ../j-core/fsm/DetermenisticFsm\n",
    "%load ../j-core/fsm/NondetermenisticFsm\n",
    "%load ../j-core/fsm/FsmParser\n",
    "%load ../j-core/fsm/DibFile\n",
    "%load ../j-core/fsm/MermaidFile2\n",
    "%load ../j-core/fsm/FsmFromMermaid2\n",
    "\n",
    "IFSM fsm_101() { return FsmFromMermaid.fsm_101(); }\n",
    "IFSM fsmFromMermaid(String name, String file, boolean... logFlags) { return FsmFromMermaid2.parse(name, file, logFlags); }\n",
    "\n",
    "void accept(IFSM fsm, String... words) {\n",
    "    for (var word: words) {\n",
    "        print(\"'\"+word+\"'\", \":\", fsm.accept(word));\n",
    "    } \n",
    "}\n",
    "\n",
    "void accept(IFSM fsm, boolean log, String... words) {\n",
    "    for (var word: words) {\n",
    "        print(\"'\"+word+\"'\", \":\", fsm.accept(word, log));\n",
    "    } \n",
    "}"
   ]
  }
 ],
 "metadata": {
  "kernelspec": {
   "display_name": "Java",
   "language": "java",
   "name": "java"
  },
  "language_info": {
   "codemirror_mode": "java",
   "file_extension": ".jshell",
   "mimetype": "text/x-java-source",
   "name": "Java",
   "pygments_lexer": "java",
   "version": "23+37-2369"
  }
 },
 "nbformat": 4,
 "nbformat_minor": 2
}
