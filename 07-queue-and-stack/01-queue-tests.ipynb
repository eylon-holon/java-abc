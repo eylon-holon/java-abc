{
 "cells": [
  {
   "cell_type": "markdown",
   "metadata": {},
   "source": [
    "---\n",
    "Test new queue is empty"
   ]
  },
  {
   "cell_type": "code",
   "execution_count": 1,
   "metadata": {
    "vscode": {
     "languageId": "java"
    }
   },
   "outputs": [
    {
     "ename": "EvalException",
     "evalue": "Exception occurred while running line magic 'load': Exception occurred while running line magic 'load': null",
     "output_type": "error",
     "traceback": [
      "\u001b[1m\u001b[31m---------------------------------------------------------------------------\u001b[0m",
      "\u001b[1m\u001b[31mjava.lang.RuntimeException: Exception occurred while running line magic 'load': Exception occurred while running line magic 'load': null\u001b[0m",
      "\u001b[1m\u001b[31m\tat io.github.spencerpark.ijava.runtime.Magics.lineMagic(Magics.java:19)\u001b[0m",
      "\u001b[1m\u001b[31m\tat .(#12:1)\u001b[0m"
     ]
    }
   ],
   "source": [
    "%load queues\n",
    "Queue<Integer> que = new Queue<Integer>();\n",
    "test(que.isEmpty());"
   ]
  },
  {
   "cell_type": "markdown",
   "metadata": {},
   "source": [
    "---\n",
    "Test insert -> not-empty -> remove -> empty"
   ]
  },
  {
   "cell_type": "code",
   "execution_count": 3,
   "metadata": {
    "vscode": {
     "languageId": "java"
    }
   },
   "outputs": [
    {
     "ename": "EvalException",
     "evalue": "Cannot invoke \"java.lang.Integer.intValue()\" because the return value of \"REPL.$JShell$27$Queue.head()\" is null",
     "output_type": "error",
     "traceback": [
      "\u001b[1m\u001b[31m---------------------------------------------------------------------------\u001b[0m",
      "\u001b[1m\u001b[31mjava.lang.NullPointerException: Cannot invoke \"java.lang.Integer.intValue()\" because the return value of \"REPL.$JShell$27$Queue.head()\" is null\u001b[0m",
      "\u001b[1m\u001b[31m\tat .(#80:1)\u001b[0m"
     ]
    }
   ],
   "source": [
    "%load queues\n",
    "Queue<Integer> que = new Queue<Integer>();\n",
    "que.insert(10);\n",
    "\n",
    "test(!que.isEmpty());\n",
    "test(que.head() == 10);\n",
    "\n",
    "test(que.remove() == 10);\n",
    "test(que.isEmpty());"
   ]
  },
  {
   "cell_type": "markdown",
   "metadata": {},
   "source": [
    "---\n",
    "Test queue is FIFO"
   ]
  },
  {
   "cell_type": "code",
   "execution_count": null,
   "metadata": {
    "vscode": {
     "languageId": "java"
    }
   },
   "outputs": [],
   "source": [
    "%load queues\n",
    "Queue<Integer> que = new Queue<Integer>();\n",
    "\n",
    "que.insert(10);\n",
    "que.insert(20);\n",
    "\n",
    "test(que.head() == 10);\n",
    "test(que.remove() == 10);\n",
    "\n",
    "test(que.head() == 20);\n",
    "test(que.remove() == 20);\n",
    "\n",
    "test(que.isEmpty());"
   ]
  }
 ],
 "metadata": {
  "kernelspec": {
   "display_name": "Java",
   "language": "java",
   "name": "java"
  },
  "language_info": {
   "codemirror_mode": "java",
   "file_extension": ".jshell",
   "mimetype": "text/x-java-source",
   "name": "Java",
   "pygments_lexer": "java",
   "version": "21.0.4+7-LTS"
  }
 },
 "nbformat": 4,
 "nbformat_minor": 2
}
