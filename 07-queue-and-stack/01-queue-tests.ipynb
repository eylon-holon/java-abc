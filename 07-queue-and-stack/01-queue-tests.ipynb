{
 "cells": [
  {
   "cell_type": "markdown",
   "metadata": {},
   "source": [
    "---\n",
    "Test new queue is empty"
   ]
  },
  {
   "cell_type": "code",
   "execution_count": 5,
   "metadata": {
    "vscode": {
     "languageId": "java"
    }
   },
   "outputs": [],
   "source": [
    "%load queues\n",
    "Queue<Integer> que = new Queue<Integer>();\n",
    "test(que.isEmpty());"
   ]
  },
  {
   "cell_type": "markdown",
   "metadata": {},
   "source": [
    "---\n",
    "Test insert -> not-empty -> remove -> empty"
   ]
  },
  {
   "cell_type": "code",
   "execution_count": null,
   "metadata": {
    "vscode": {
     "languageId": "java"
    }
   },
   "outputs": [],
   "source": [
    "%load queues\n",
    "Queue<Integer> que = new Queue<Integer>();\n",
    "que.insert(10);\n",
    "\n",
    "test(!que.isEmpty());\n",
    "test(que.head() == 10);\n",
    "\n",
    "test(que.remove() == 10);\n",
    "test(que.isEmpty());"
   ]
  },
  {
   "cell_type": "markdown",
   "metadata": {},
   "source": [
    "---\n",
    "Test queue is FIFO"
   ]
  },
  {
   "cell_type": "code",
   "execution_count": null,
   "metadata": {
    "vscode": {
     "languageId": "java"
    }
   },
   "outputs": [],
   "source": [
    "%load queues\n",
    "Queue<Integer> que = new Queue<Integer>();\n",
    "\n",
    "que.insert(10);\n",
    "que.insert(20);\n",
    "\n",
    "test(que.head() == 10);\n",
    "test(que.remove() == 10);\n",
    "\n",
    "test(que.head() == 20);\n",
    "test(que.remove() == 20);\n",
    "\n",
    "test(que.isEmpty());"
   ]
  }
 ],
 "metadata": {
  "kernelspec": {
   "display_name": "Java",
   "language": "java",
   "name": "java"
  },
  "language_info": {
   "codemirror_mode": "java",
   "file_extension": ".jshell",
   "mimetype": "text/x-java-source",
   "name": "Java",
   "pygments_lexer": "java",
   "version": "21.0.4+7-LTS"
  }
 },
 "nbformat": 4,
 "nbformat_minor": 2
}
