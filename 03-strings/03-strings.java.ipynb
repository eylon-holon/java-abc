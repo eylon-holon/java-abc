{
 "cells": [
  {
   "cell_type": "code",
   "execution_count": null,
   "metadata": {
    "vscode": {
     "languageId": "java"
    }
   },
   "outputs": [
    {
     "ename": "CompilationException",
     "evalue": "",
     "output_type": "error",
     "traceback": [
      "\u001b[1m\u001b[30m|   \u001b[1m\u001b[30m        if(\u001b[0m\u001b[1m\u001b[30m\u001b[41mstr.charAt(i)\u001b[0m\u001b[1m\u001b[30m= subStr.charAt(0)){\u001b[0m",
      "\u001b[1m\u001b[31munexpected type\u001b[0m",
      "\u001b[1m\u001b[31m  required: variable\u001b[0m",
      "\u001b[1m\u001b[31m  found:    value\u001b[0m",
      "",
      "\u001b[1m\u001b[30m|   \u001b[1m\u001b[30m                if(\u001b[0m\u001b[1m\u001b[30m\u001b[41msubStr.charAt(j)\u001b[0m\u001b[1m\u001b[30m= str.charAt(i))\u001b[0m",
      "\u001b[1m\u001b[31munexpected type\u001b[0m",
      "\u001b[1m\u001b[31m  required: variable\u001b[0m",
      "\u001b[1m\u001b[31m  found:    value\u001b[0m",
      ""
     ]
    }
   ],
   "source": [
    "int indexOf(String str, String subStr) {\n",
    "    int i=0;\n",
    "    while(i<str.length()){\n",
    "        if(str.charAt(i)= subStr.charAt(0)){\n",
    "            int j=0;\n",
    "            while(j<subStr.length() && i<str.length()){\n",
    "                if(subStr.charAt(j)!= str.charAt(i))\n",
    "                    j=j+1;\n",
    "                    i=i+1;\n",
    "            } \n",
    "        }\n",
    "        i=i+1;\n",
    "    }\n",
    "    return -1;\n",
    "}"
   ]
  },
  {
   "cell_type": "code",
   "execution_count": 3,
   "metadata": {
    "vscode": {
     "languageId": "java"
    }
   },
   "outputs": [
    {
     "name": "stdout",
     "output_type": "stream",
     "text": [
      "-1\n"
     ]
    }
   ],
   "source": [
    "System.out.println(indexOf(\"0 123 456 789\", \"123\"));"
   ]
  },
  {
   "cell_type": "code",
   "execution_count": null,
   "metadata": {
    "vscode": {
     "languageId": "java"
    }
   },
   "outputs": [],
   "source": []
  }
 ],
 "metadata": {
  "kernelspec": {
   "display_name": "Java",
   "language": "java",
   "name": "java"
  },
  "language_info": {
   "codemirror_mode": "java",
   "file_extension": ".jshell",
   "mimetype": "text/x-java-source",
   "name": "Java",
   "pygments_lexer": "java",
   "version": "21.0.4+7-LTS"
  }
 },
 "nbformat": 4,
 "nbformat_minor": 2
}
