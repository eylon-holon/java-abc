{
 "cells": [
  {
   "cell_type": "code",
   "execution_count": 1,
   "metadata": {},
   "outputs": [],
   "source": [
    "int indexOf(String str, String subStr) {\n",
    "    return -1;\n",
    "}"
   ]
  },
  {
   "cell_type": "code",
   "execution_count": 3,
   "metadata": {},
   "outputs": [
    {
     "ename": "CompilationException",
     "evalue": "",
     "output_type": "error",
     "traceback": [
      "\u001b[1m\u001b[30m|   \u001b[1m\u001b[30m            if( sr1.charAt(i)!=\u001b[0m\u001b[1m\u001b[30m\u001b[41m\u001b[0m\u001b[1m\u001b[30m=st1.charAt(st1.length()-1-i))\u001b[0m",
      "\u001b[1m\u001b[31millegal start of expression\u001b[0m",
      ""
     ]
    }
   ],
   "source": [
    "boolean isPalindrom(string st1){\n",
    "    for(int i=0; i<st1.length/2; i++)\n",
    "    {\n",
    "            if( sr1.charAt(i)!==st1.charAt(st1.length()-1-i))\n",
    "            {\n",
    "            return false;\n",
    "            }\n",
    "    }\n",
    "        return true;\n",
    "}"
   ]
  },
  {
   "cell_type": "code",
   "execution_count": 3,
   "metadata": {},
   "outputs": [
    {
     "name": "stdout",
     "output_type": "stream",
     "text": [
      "-1\n"
     ]
    }
   ],
   "source": [
    "System.out.println(indexOf(\"0 123 456 789\", \"123\"));"
   ]
  }
 ],
 "metadata": {
  "kernelspec": {
   "display_name": "Java",
   "language": "java",
   "name": "java"
  },
  "language_info": {
   "codemirror_mode": "java",
   "file_extension": ".jshell",
   "mimetype": "text/x-java-source",
   "name": "java",
   "pygments_lexer": "java",
   "version": "21.0.4+7-LTS"
  }
 },
 "nbformat": 4,
 "nbformat_minor": 2
}
