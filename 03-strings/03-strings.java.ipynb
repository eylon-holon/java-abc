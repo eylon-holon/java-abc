{
 "cells": [
  {
   "cell_type": "code",
   "execution_count": null,
   "metadata": {},
   "outputs": [],
   "source": [
    "int indexOf(String str, String subStr) {\n",
    "    \n",
    "    return -1;\n",
    "}"
   ]
  },
  {
   "cell_type": "code",
   "execution_count": null,
   "metadata": {},
   "outputs": [
    {
     "name": "stdout",
     "output_type": "stream",
     "text": [
      "-1\n"
     ]
    }
   ],
   "source": [
    "System.out.println(indexOf(\"0 123 456 789\", \"123\"));"
   ]
  },
  {
   "cell_type": "code",
   "execution_count": 11,
   "metadata": {},
   "outputs": [
    {
     "ename": "CompilationException",
     "evalue": "",
     "output_type": "error",
     "traceback": [
      "\u001b[1m\u001b[30m|   \u001b[1m\u001b[30mboolean isPalindrome(string a) {\u001b[0m",
      "\u001b[1m\u001b[30m|   \u001b[1m\u001b[30m    for(int i=0; i<a.length; i++){\u001b[0m",
      "\u001b[1m\u001b[30m|   \u001b[1m\u001b[30m        if (index.Of(a)!=(index.Of(a)-i-1))\u001b[0m",
      "\u001b[1m\u001b[30m|   \u001b[1m\u001b[30m        return false;\u001b[0m",
      "\u001b[1m\u001b[30m|   \u001b[1m\u001b[30m    }\u001b[0m",
      "\u001b[1m\u001b[30m|   \u001b[1m\u001b[30m    return true;\u001b[0m",
      "\u001b[1m\u001b[30m|   \u001b[1m\u001b[30m}\u001b[0m",
      "\u001b[1m\u001b[31mUnresolved dependencies:\u001b[0m",
      "\u001b[1m\u001b[31m   - class string\u001b[0m",
      "\u001b[1m\u001b[31m   - variable index\u001b[0m"
     ]
    }
   ],
   "source": [
    "boolean isPalindrome(string a) {\n",
    "    for(int i=0; i<a.length; i++){\n",
    "        if (index.Of(a)!=(index.Of(a)-i-1))\n",
    "        return false;\n",
    "    }\n",
    "    return true;\n",
    "}"
   ]
  },
  {
   "cell_type": "code",
   "execution_count": null,
   "metadata": {},
   "outputs": [],
   "source": [
    "System.out.println(isPalindrome(1, 2, 1));\n",
    "System.out.println(isPalindrome(1, 2, 2, 1));\n",
    "System.out.println(isPalindrome(1, 3, 4));"
   ]
  }
 ],
 "metadata": {
  "kernelspec": {
   "display_name": "Java",
   "language": "java",
   "name": "java"
  },
  "language_info": {
   "codemirror_mode": "java",
   "file_extension": ".jshell",
   "mimetype": "text/x-java-source",
   "name": "java",
   "pygments_lexer": "java",
   "version": "21.0.4+7-LTS"
  }
 },
 "nbformat": 4,
 "nbformat_minor": 2
}
