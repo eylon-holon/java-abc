{
 "cells": [
  {
   "cell_type": "code",
   "execution_count": null,
   "metadata": {
    "vscode": {
     "languageId": "java"
    }
   },
   "outputs": [],
   "source": [
    "int indexOf(String str, String subStr) {\n",
    "    if (subStr.length>str.length){\n",
    "            return -1;\n",
    "    }\n",
    "    for(int i=0;i<str.length;i++)\n",
    "    {\n",
    "        if(subStr.charAt(0)==str.charAt(i))\n",
    "        {\n",
    "        for(int j=1;j<subStr;j++){\n",
    "            if(subStr.charAt(j)=str.charAt(i+j))\n",
    "            {\n",
    "                \n",
    "            }\n",
    "            else    {continue}\n",
    "            \n",
    "            }\n",
    "        }\n",
    "    }\n",
    "    return -1;\n",
    "   \n",
    "}"
   ]
  },
  {
   "cell_type": "code",
   "execution_count": 3,
   "metadata": {
    "vscode": {
     "languageId": "java"
    }
   },
   "outputs": [
    {
     "name": "stdout",
     "output_type": "stream",
     "text": [
      "-1\n"
     ]
    }
   ],
   "source": [
    "System.out.println(indexOf(\"0 123 456 789\", \"123\"));"
   ]
  }
 ],
 "metadata": {
  "kernelspec": {
   "display_name": "Java",
   "language": "java",
   "name": "java"
  },
  "language_info": {
   "codemirror_mode": "java",
   "file_extension": ".jshell",
   "mimetype": "text/x-java-source",
   "name": "Java",
   "pygments_lexer": "java",
   "version": "23+37-2369"
  }
 },
 "nbformat": 4,
 "nbformat_minor": 2
}
