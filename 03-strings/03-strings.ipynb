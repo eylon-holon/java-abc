{
 "cells": [
  {
   "cell_type": "code",
   "execution_count": 1,
   "metadata": {},
   "outputs": [
    {
     "name": "stdout",
     "output_type": "stream",
     "text": [
      "Hi david-madany 😁! Let's start the lesson... 🙌\n"
     ]
    }
   ],
   "source": [
    "import os\n",
    "while not os.getcwd().endswith(\"java-abc\"): os.chdir(\"..\")\n",
    "from eylon.core import *\n",
    "\n",
    "def indexOf(): pass\n",
    "def lastIndexOf(): pass\n",
    "def isPalindrome(): pass\n",
    "def startsWith(): pass\n",
    "def endsWith(): pass\n",
    "def contains(): pass\n",
    "def compareTo(): pass\n",
    "def reverse(): pass\n",
    "def split(): pass\n",
    "\n",
    "start({\n",
    "    \"indexOf()\": [],\n",
    "    \"lastIndexOf\": [],\n",
    "    \"isPalidrome()\": [],\n",
    "    \"startsWith()\": [], \n",
    "    \"endsWith()\": [],\n",
    "    \"contains()\": [],\n",
    "    \"compareTo()\": [],\n",
    "    \"reverse()\": [],\n",
    "    \"split()\": [] \n",
    "})"
   ]
  },
  {
   "cell_type": "code",
   "execution_count": 5,
   "metadata": {},
   "outputs": [
    {
     "name": "stdout",
     "output_type": "stream",
     "text": [
      "Congrats david-madany! Got it: '03-strings.indexOf'. Gosha is happy :) 👍\n"
     ]
    }
   ],
   "source": [
    "submit(indexOf)"
   ]
  },
  {
   "cell_type": "code",
   "execution_count": 2,
   "metadata": {},
   "outputs": [
    {
     "name": "stdout",
     "output_type": "stream",
     "text": [
      "function 'lastIndexOf()' is not part of this lesson\n"
     ]
    }
   ],
   "source": [
    "submit(lastIndexOf)"
   ]
  },
  {
   "cell_type": "code",
   "execution_count": 3,
   "metadata": {},
   "outputs": [
    {
     "name": "stdout",
     "output_type": "stream",
     "text": [
      "function 'isPalindrome()' is not part of this lesson\n"
     ]
    }
   ],
   "source": [
    "submit(isPalindrome)"
   ]
  },
  {
   "cell_type": "code",
   "execution_count": 7,
   "metadata": {},
   "outputs": [
    {
     "name": "stdout",
     "output_type": "stream",
     "text": [
      "Congrats david-madany! Got it: '03-strings.startsWith'. Gosha is happy :) 👍\n"
     ]
    }
   ],
   "source": [
    "submit(startsWith)"
   ]
  },
  {
   "cell_type": "code",
   "execution_count": 8,
   "metadata": {},
   "outputs": [
    {
     "name": "stdout",
     "output_type": "stream",
     "text": [
      "Congrats david-madany! Got it: '03-strings.endsWith'. Gosha is happy :) 👍\n"
     ]
    }
   ],
   "source": [
    "submit(endsWith)"
   ]
  },
  {
   "cell_type": "code",
   "execution_count": 9,
   "metadata": {},
   "outputs": [
    {
     "name": "stdout",
     "output_type": "stream",
     "text": [
      "Congrats david-madany! Got it: '03-strings.contains'. Gosha is happy :) 👍\n"
     ]
    }
   ],
   "source": [
    "submit(contains)"
   ]
  },
  {
   "cell_type": "code",
   "execution_count": 10,
   "metadata": {},
   "outputs": [
    {
     "name": "stdout",
     "output_type": "stream",
     "text": [
      "Congrats david-madany! Got it: '03-strings.compareTo'. Gosha is happy :) 👍\n"
     ]
    }
   ],
   "source": [
    "submit(compareTo)"
   ]
  },
  {
   "cell_type": "code",
   "execution_count": 11,
   "metadata": {},
   "outputs": [
    {
     "name": "stdout",
     "output_type": "stream",
     "text": [
      "Congrats david-madany! Got it: '03-strings.reverse'. Gosha is happy :) 👍\n"
     ]
    }
   ],
   "source": [
    "submit(reverse)"
   ]
  },
  {
   "cell_type": "code",
   "execution_count": 4,
   "metadata": {},
   "outputs": [
    {
     "name": "stdout",
     "output_type": "stream",
     "text": [
      "Congrats david-madany! Got it: '03-strings.split'. Gosha is happy :) 👍\n"
     ]
    }
   ],
   "source": [
    "submit(split)"
   ]
  }
 ],
 "metadata": {
  "kernelspec": {
   "display_name": "Python 3",
   "language": "python",
   "name": "python3"
  },
  "language_info": {
   "codemirror_mode": {
    "name": "ipython",
    "version": 3
   },
   "file_extension": ".py",
   "mimetype": "text/x-python",
   "name": "python",
   "nbconvert_exporter": "python",
   "pygments_lexer": "ipython3",
   "version": "3.12.1"
  }
 },
 "nbformat": 4,
 "nbformat_minor": 2
}
