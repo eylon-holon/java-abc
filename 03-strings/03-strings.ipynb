{
 "cells": [
  {
   "cell_type": "code",
   "execution_count": null,
   "metadata": {},
   "outputs": [
    {
     "ename": "CompilationException",
     "evalue": "",
     "output_type": "error",
     "traceback": [
      "\u001b[1m\u001b[30m|   \u001b[1m\u001b[30mimport os\u001b[0m\u001b[1m\u001b[30m\u001b[41m\u001b[0m\u001b[1m\u001b[30m\u001b[0m",
      "\u001b[1m\u001b[31m'.' expected\u001b[0m",
      ""
     ]
    }
   ],
   "source": [
    "import os\n",
    "while not os.getcwd().endswith(\"java-abc\"): os.chdir(\"..\")\n",
    "from eylon.core import *\n",
    "\n",
    "def indexOf(): pass\n",
    "def lastIndexOf(): pass\n",
    "def isPalindrome(): pass\n",
    "def startsWith(): pass\n",
    "def endsWith(): pass\n",
    "def contains(): pass\n",
    "def compareTo(): pass\n",
    "def reverse(): pass\n",
    "def split(): pass\n",
    "\n",
    "start({\n",
    "    \"indexOf()\": [],\n",
    "    \"lastIndexOf\": [],\n",
    "    \"isPalidrome()\": [],\n",
    "    \"startsWith()\": [], \n",
    "    \"endsWith()\": [],\n",
    "    \"contains()\": [],\n",
    "    \"compareTo()\": [],\n",
    "    \"reverse()\": [],\n",
    "    \"split()\": [] \n",
    "})"
   ]
  },
  {
   "cell_type": "code",
   "execution_count": 1,
   "metadata": {},
   "outputs": [
    {
     "ename": "CompilationException",
     "evalue": "",
     "output_type": "error",
     "traceback": [
      "\u001b[1m\u001b[30m|   \u001b[1m\u001b[30msubmit(\u001b[0m\u001b[1m\u001b[30m\u001b[41mindexOf\u001b[0m\u001b[1m\u001b[30m)\u001b[0m",
      "\u001b[1m\u001b[31mcannot find symbol\u001b[0m",
      "\u001b[1m\u001b[31m  symbol:   variable indexOf\u001b[0m",
      ""
     ]
    }
   ],
   "source": [
    "submit(indexOf)"
   ]
  },
  {
   "cell_type": "code",
   "execution_count": null,
   "metadata": {},
   "outputs": [],
   "source": [
    "submit(lastIndexOf)"
   ]
  },
  {
   "cell_type": "code",
   "execution_count": null,
   "metadata": {},
   "outputs": [],
   "source": [
    "submit(isPalindrome)"
   ]
  },
  {
   "cell_type": "code",
   "execution_count": null,
   "metadata": {},
   "outputs": [],
   "source": [
    "submit(startsWith)"
   ]
  },
  {
   "cell_type": "code",
   "execution_count": null,
   "metadata": {},
   "outputs": [],
   "source": [
    "submit(endsWith)"
   ]
  },
  {
   "cell_type": "code",
   "execution_count": null,
   "metadata": {},
   "outputs": [],
   "source": [
    "submit(contains)"
   ]
  },
  {
   "cell_type": "code",
   "execution_count": null,
   "metadata": {},
   "outputs": [],
   "source": [
    "submit(compareTo)"
   ]
  },
  {
   "cell_type": "code",
   "execution_count": null,
   "metadata": {},
   "outputs": [],
   "source": [
    "submit(reverse)"
   ]
  },
  {
   "cell_type": "code",
   "execution_count": null,
   "metadata": {},
   "outputs": [],
   "source": [
    "submit(split)"
   ]
  }
 ],
 "metadata": {
  "kernelspec": {
   "display_name": "Java",
   "language": "java",
   "name": "java"
  },
  "language_info": {
   "codemirror_mode": "java",
   "file_extension": ".jshell",
   "mimetype": "text/x-java-source",
   "name": "java",
   "pygments_lexer": "java",
   "version": "21.0.4+7-LTS"
  }
 },
 "nbformat": 4,
 "nbformat_minor": 2
}
