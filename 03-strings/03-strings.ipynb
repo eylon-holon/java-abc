{
 "cells": [
  {
   "cell_type": "code",
   "execution_count": null,
   "metadata": {},
   "outputs": [],
   "source": [
    "import os\n",
    "while not os.getcwd().endswith(\"java-abc\"): os.chdir(\"..\")\n",
    "from eylon.core import *\n",
    "\n",
    "def indexOf(): pass\n",
    "def lastIndexOf(): pass\n",
    "def isPalindrome(): pass\n",
    "def startsWith(): pass\n",
    "def endsWith(): pass\n",
    "def contains(): pass\n",
    "def compareTo(): pass\n",
    "def reverse(): pass\n",
    "def split(): pass\n",
    "\n",
    "start({\n",
    "    \"indexOf()\": [],\n",
    "    \"lastIndexOf\": [],\n",
    "    \"isPalidrome()\": [],\n",
    "    \"startsWith()\": [], \n",
    "    \"endsWith()\": [],\n",
    "    \"contains()\": [],\n",
    "    \"compareTo()\": [],\n",
    "    \"reverse()\": [],\n",
    "    \"split()\": [] \n",
    "})"
   ]
  },
  {
   "cell_type": "code",
   "execution_count": null,
   "metadata": {},
   "outputs": [],
   "source": [
    "submit(indexOf)"
   ]
  },
  {
   "cell_type": "code",
   "execution_count": null,
   "metadata": {},
   "outputs": [],
   "source": [
    "submit(lastIndexOf)"
   ]
  },
  {
   "cell_type": "code",
   "execution_count": null,
   "metadata": {},
   "outputs": [],
   "source": [
    "submit(isPalindrome)"
   ]
  },
  {
   "cell_type": "code",
   "execution_count": null,
   "metadata": {},
   "outputs": [],
   "source": [
    "submit(startsWith)"
   ]
  },
  {
   "cell_type": "code",
   "execution_count": null,
   "metadata": {},
   "outputs": [],
   "source": [
    "submit(endsWith)"
   ]
  },
  {
   "cell_type": "code",
   "execution_count": null,
   "metadata": {},
   "outputs": [],
   "source": [
    "submit(contains)"
   ]
  },
  {
   "cell_type": "code",
   "execution_count": null,
   "metadata": {},
   "outputs": [],
   "source": [
    "submit(compareTo)"
   ]
  },
  {
   "cell_type": "code",
   "execution_count": null,
   "metadata": {},
   "outputs": [],
   "source": [
    "submit(reverse)"
   ]
  },
  {
   "cell_type": "code",
   "execution_count": null,
   "metadata": {},
   "outputs": [],
   "source": [
    "submit(split)"
   ]
  }
 ],
 "metadata": {
  "kernelspec": {
   "display_name": "Java",
   "language": "java",
   "name": "java"
  },
  "language_info": {
   "codemirror_mode": {
    "name": "ipython",
    "version": 3
   },
   "file_extension": ".py",
   "mimetype": "text/x-python",
   "name": "java",
   "nbconvert_exporter": "python",
   "pygments_lexer": "ipython3",
   "version": "3.11.9"
  }
 },
 "nbformat": 4,
 "nbformat_minor": 2
}
