{
 "cells": [
  {
   "cell_type": "markdown",
   "metadata": {},
   "source": [
    "=== I N D E X - O F ==="
   ]
  },
  {
   "cell_type": "code",
   "execution_count": null,
   "metadata": {
    "vscode": {
     "languageId": "java"
    }
   },
   "outputs": [],
   "source": [
    "int indexOf(String str, String subStr) {\n",
    "  \n",
    "    for (int i=0; i<str.length();i++){\n",
    "      if (str.charAt(i)!=subStr.charAt(0))\n",
    "      continue;\n",
    "    if (str.length()-i<subStr.length())\n",
    "    break;\n",
    "    \n",
    "    int match=0;\n",
    "    for (int j=0;j<subStr.length();j++){\n",
    "      if (str.charAt(i+j)!=subStr.charAt(j)){\n",
    "        break;\n",
    "      }\n",
    "      \n",
    "      match++;\n",
    "    }\n",
    "    if (match==subStr.length())\n",
    "    return i;\n",
    "    \n",
    "    }\n",
    "       return -1;\n",
    "    }"
   ]
  },
  {
   "cell_type": "code",
   "execution_count": null,
   "metadata": {
    "vscode": {
     "languageId": "java"
    }
   },
   "outputs": [],
   "source": [
    "System.out.println(indexOf(\"0 123 456 123\", \"123\"));\n",
    "System.out.println(indexOf(\"0 123 456 789\", \"132\"));"
   ]
  },
  {
   "cell_type": "markdown",
   "metadata": {},
   "source": [
    "=== L A S T - I N D E X - O F ==="
   ]
  },
  {
   "cell_type": "code",
   "execution_count": null,
   "metadata": {
    "vscode": {
     "languageId": "java"
    }
   },
   "outputs": [],
   "source": [
    "int lastIndexOf(String str, String subStr) {\n",
    "    for (int i=str.length()-1; i>=0;i--){\n",
    "      if (str.charAt(i)!=subStr.charAt(subStr.length()-1))\n",
    "      continue;\n",
    "      if (i<subStr.length())\n",
    "      break;\n",
    "      \n",
    "      int match=0;\n",
    "      for (int j=0;j<subStr.length();j++){\n",
    "        if (str.charAt(i-j)!=subStr.charAt(subStr.length()-1-j)){\n",
    "          break;\n",
    "        }\n",
    "        \n",
    "        match++;\n",
    "      }\n",
    "      if (match==subStr.length())\n",
    "      return i;\n",
    "      }\n",
    "    return -1;\n",
    "  }"
   ]
  },
  {
   "cell_type": "code",
   "execution_count": null,
   "metadata": {
    "vscode": {
     "languageId": "java"
    }
   },
   "outputs": [],
   "source": [
    "System.out.println(lastIndexOf(\"0 123 456 123\", \"123\"));\n",
    "System.out.println(lastIndexOf(\"0 123 456 789\", \"132\"));"
   ]
  },
  {
   "cell_type": "markdown",
   "metadata": {},
   "source": [
    "=== I S - P A L I N D R O M E ==="
   ]
  },
  {
   "cell_type": "code",
   "execution_count": null,
   "metadata": {
    "vscode": {
     "languageId": "java"
    }
   },
   "outputs": [],
   "source": [
    "boolean isPalindrome(String str) {\n",
    "    for(int i=0;i<str.length()/2;i++)\n",
    "    {  \n",
    "        if(!(str.charAt(i)==str.charAt(str.length()-1-i)))\n",
    "         return false;\n",
    "    }\n",
    "    return true;\n",
    "}"
   ]
  },
  {
   "cell_type": "code",
   "execution_count": null,
   "metadata": {
    "vscode": {
     "languageId": "java"
    }
   },
   "outputs": [],
   "source": [
    "var words = new String[] {\n",
    "    \"a\",\n",
    "    \"aa\",\n",
    "    \"aba\",\n",
    "    \"abba\",\n",
    "    \"abca\",\n",
    "    \"1234567890987654321\",\n",
    "    \"abcabc\",\n",
    "};\n",
    "\n",
    "for (var word : words) {\n",
    "    System.out.println(word + \": \" + isPalindrome(word));\n",
    "}\n"
   ]
  },
  {
   "cell_type": "markdown",
   "metadata": {},
   "source": [
    "=== S T A R T S - W I T H ==="
   ]
  },
  {
   "cell_type": "code",
   "execution_count": null,
   "metadata": {
    "vscode": {
     "languageId": "java"
    }
   },
   "outputs": [],
   "source": [
    "boolean startsWith(String str, String prefix) {\n",
    "    for(int i=0;i<prefix.length();i++)\n",
    "    if(!(str.charAt(i)==prefix.charAt(i)))\n",
    "    return false;\n",
    "    return true;\n",
    "}"
   ]
  },
  {
   "cell_type": "code",
   "execution_count": null,
   "metadata": {
    "vscode": {
     "languageId": "java"
    }
   },
   "outputs": [],
   "source": [
    "var tests = new String[][] {\n",
    "    new String[] {\"Garry, you are a wizard!\", \"Garry\"},\n",
    "    new String[] {\"Garry, you are a wizard!\", \"Garryggg\"},\n",
    "};\n",
    "\n",
    "for (var test : tests) {\n",
    "    var result = startsWith(test[0], test[1]);\n",
    "    System.out.println(\"'\" + test[0] + \"' & '\" + test[1] + \"': \" + result);\n",
    "}"
   ]
  },
  {
   "cell_type": "markdown",
   "metadata": {},
   "source": [
    "=== E N D S - W I T H ==="
   ]
  },
  {
   "cell_type": "code",
   "execution_count": null,
   "metadata": {
    "vscode": {
     "languageId": "java"
    }
   },
   "outputs": [],
   "source": [
    "boolean endsWith(String str, String prefix) {\n",
    "    for(int i=0; i<prefix.length(); i++)\n",
    "    {\n",
    "            if(!(str.charAt(str.length()-1-i)==prefix.charAt(prefix.length()-1-i))){\n",
    "                \n",
    "                return false;}\n",
    "            }\n",
    "        \n",
    "    return true;\n",
    "}"
   ]
  },
  {
   "cell_type": "code",
   "execution_count": null,
   "metadata": {
    "vscode": {
     "languageId": "java"
    }
   },
   "outputs": [],
   "source": [
    "class Test {\n",
    "    public String str;\n",
    "    public String suffix;\n",
    "\n",
    "    public Test(String str, String suffix) {\n",
    "        this.str = str;\n",
    "        this.suffix = suffix;\n",
    "    }\n",
    "}\n",
    "\n",
    "var tests = new Test[] {\n",
    "    new Test(\"12345678\", \"678\"),\n",
    "    new Test(\"12345678\", \"123\"),\n",
    "    new Test(\"12345678\", \"8\"),\n",
    "};\n",
    "\n",
    "for (var test: tests) {\n",
    "    var result = endsWith(test.str, test.suffix);\n",
    "    System.out.println(\"'\" + test.str + \"' & '\" + test.suffix + \"': \" + result);\n",
    "};"
   ]
  },
  {
   "cell_type": "markdown",
   "metadata": {},
   "source": [
    "=== C O N T A I N S ==="
   ]
  },
  {
   "cell_type": "code",
   "execution_count": null,
   "metadata": {
    "vscode": {
     "languageId": "java"
    }
   },
   "outputs": [],
   "source": [
    "boolean contains(String str, String subStr) {\n",
    "    for (int i=0;i<str.length();i++){\n",
    "       if (str.charAt(i)==subStr.charAt(i)){\n",
    "   str=str.substring(i);\n",
    "   for (int j=0;j<subStr.length();j++){\n",
    "    if (str.charAt(j)!=subStr.charAt(j))\n",
    "    return false;\n",
    "}\n",
    "return true;\n",
    "    }\n",
    " }\n",
    " return false;\n",
    "}"
   ]
  },
  {
   "cell_type": "code",
   "execution_count": null,
   "metadata": {
    "vscode": {
     "languageId": "java"
    }
   },
   "outputs": [],
   "source": [
    "var tests = new String[][] {\n",
    "    new String[] {\"Garry, you are a wizard!\", \"Garry\"},\n",
    "    new String[] {\"Garry, you are a wizard!\", \"Garry \"},\n",
    "};\n",
    "\n",
    "for (var test : tests) {\n",
    "    var result = contains(test[0], test[1]);\n",
    "    System.out.println(\"'\" + test[0] + \"' & '\" + test[1] + \"': \" + result);\n",
    "}"
   ]
  },
  {
   "cell_type": "markdown",
   "metadata": {},
   "source": [
    "=== C O M P A R E - T O ==="
   ]
  },
  {
   "cell_type": "code",
   "execution_count": null,
   "metadata": {
    "vscode": {
     "languageId": "java"
    }
   },
   "outputs": [],
   "source": [
    "int compareTo(String str1, String str2) {\n",
    "    int a=Math.max(str1.length(),str2.length());\n",
    "  for (int i=0;i<a;i++){\n",
    "    if (str1.charAt(i)>str2.charAt(i))\n",
    "    return -1;\n",
    "    else if (str1.charAt(i)<str2.charAt(i))\n",
    "    return 1;\n",
    "  }\n",
    "  \n",
    "  return 0;\n",
    " \n",
    " }"
   ]
  },
  {
   "cell_type": "code",
   "execution_count": null,
   "metadata": {
    "vscode": {
     "languageId": "java"
    }
   },
   "outputs": [],
   "source": [
    "var tests = new String[][] {\n",
    "    new String[] {\"A\", \"B\"},\n",
    "    new String[] {\"B\", \"A\"},\n",
    "    new String[] {\"a\", \"B\"},\n",
    "    new String[] {\"b\", \"A\"},\n",
    "};\n",
    "\n",
    "for (var test : tests) {\n",
    "    var result = compareTo(test[0], test[1]);\n",
    "    System.out.println(\"'\" + test[0] + \"' & '\" + test[1] + \"': \" + result);\n",
    "}"
   ]
  },
  {
   "cell_type": "markdown",
   "metadata": {},
   "source": [
    "=== R E V E R S E ==="
   ]
  },
  {
   "cell_type": "code",
   "execution_count": null,
   "metadata": {
    "vscode": {
     "languageId": "java"
    }
   },
   "outputs": [],
   "source": [
    "String reverse(String str) {\n",
    "    String rev=\"\";\n",
    "    for (int i=str.length()-1; i>=0; i--){\n",
    "        rev=rev + str.charAt(i);\n",
    "    }\n",
    "    return rev;\n",
    "}"
   ]
  },
  {
   "cell_type": "markdown",
   "metadata": {},
   "source": [
    "=== S P L I T ==="
   ]
  },
  {
   "cell_type": "code",
   "execution_count": null,
   "metadata": {
    "vscode": {
     "languageId": "java"
    }
   },
   "outputs": [],
   "source": [
    "String[] split(String str, String delimeter) {\n",
    "    int n = 1;\n",
    "    for(int i=0; i<str.length(); i++){\n",
    "        if(str.charAt(i) == delimeter.charAt(0))\n",
    "           n = n+1;\n",
    "    }\n",
    "    var words = new String[n];\n",
    "    int m = 0;\n",
    "    int j = 0;\n",
    "    while(j<str.length()){\n",
    "        if(str.charAt(j) != delimeter.charAt(0)){\n",
    "            words[m] = words[m] + str.charAt(j);\n",
    "            j=j+1;\n",
    "        }\n",
    "        else {\n",
    "        m=m+1;\n",
    "        words[m] = \"\";\n",
    "        j=j+1;\n",
    "        }\n",
    "    }\n",
    "    return words;\n",
    "}"
   ]
  }
 ],
 "metadata": {
  "kernelspec": {
   "display_name": "Java",
   "language": "java",
   "name": "java"
  },
  "language_info": {
   "codemirror_mode": "java",
   "file_extension": ".jshell",
   "mimetype": "text/x-java-source",
   "name": "Java",
   "pygments_lexer": "java",
   "version": "21.0.4+7-LTS"
  }
 },
 "nbformat": 4,
 "nbformat_minor": 2
}
