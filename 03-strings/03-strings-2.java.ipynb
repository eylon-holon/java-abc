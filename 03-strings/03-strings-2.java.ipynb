{
 "cells": [
  {
   "cell_type": "markdown",
   "metadata": {},
   "source": [
    "=== I N D E X - O F ==="
   ]
  },
  {
   "cell_type": "code",
   "execution_count": 5,
   "metadata": {
    "vscode": {
     "languageId": "java"
    }
   },
   "outputs": [],
   "source": [
    "int indexOf(String str, String subStr) {\n",
    "  \n",
    "for (int i=0; i<str.length();i++){\n",
    "  if (str.charAt(i)!=subStr.charAt(0))\n",
    "  continue;\n",
    "if (str.length()-i<subStr.length())\n",
    "break;\n",
    "\n",
    "int match=0;\n",
    "for (int j=0;j<subStr.length();j++){\n",
    "  if (str.charAt(i+j)!=subStr.charAt(j)){\n",
    "    break;\n",
    "  }\n",
    "  \n",
    "  match++;\n",
    "}\n",
    "if (match==subStr.length())\n",
    "return i;\n",
    "\n",
    "}\n",
    "   return -1;\n",
    "}"
   ]
  },
  {
   "cell_type": "code",
   "execution_count": 6,
   "metadata": {
    "vscode": {
     "languageId": "java"
    }
   },
   "outputs": [
    {
     "name": "stdout",
     "output_type": "stream",
     "text": [
      "10\n",
      "-1\n"
     ]
    }
   ],
   "source": [
    "System.out.println(indexOf(\"0 133 456 123\", \"123\"));\n",
    "System.out.println(indexOf(\"0 123 456 789\", \"133\"));"
   ]
  },
  {
   "cell_type": "markdown",
   "metadata": {},
   "source": [
    "=== L A S T - I N D E X - O F ==="
   ]
  },
  {
   "cell_type": "code",
   "execution_count": 10,
   "metadata": {
    "vscode": {
     "languageId": "java"
    }
   },
   "outputs": [],
   "source": [
    "int lastIndexOf(String str, String subStr) {\n",
    "  for (int i=str.length(); i>=0;i--){\n",
    "    if (str.charAt(i-1)!=subStr.charAt(subStr.length()-1))\n",
    "    continue;\n",
    "    if (i<subStr.length())\n",
    "    break;\n",
    "    \n",
    "    int match=0;\n",
    "    for (int j=0;j<subStr.length();j++){\n",
    "      if (str.charAt(i-j)!=subStr.charAt(subStr.length()-1-j)){\n",
    "        break;\n",
    "      }\n",
    "      \n",
    "      match++;\n",
    "    }\n",
    "    if (match==subStr.length())\n",
    "    return i;\n",
    "    }\n",
    "  return -1;\n",
    "}"
   ]
  },
  {
   "cell_type": "code",
   "execution_count": 11,
   "metadata": {
    "vscode": {
     "languageId": "java"
    }
   },
   "outputs": [
    {
     "ename": "EvalException",
     "evalue": "Index 17 out of bounds for length 17",
     "output_type": "error",
     "traceback": [
      "\u001b[1m\u001b[31m---------------------------------------------------------------------------\u001b[0m",
      "\u001b[1m\u001b[31mjava.lang.StringIndexOutOfBoundsException: Index 17 out of bounds for length 17\u001b[0m",
      "\u001b[1m\u001b[31m\tat java.base/jdk.internal.util.Preconditions$1.apply(Preconditions.java:55)\u001b[0m",
      "\u001b[1m\u001b[31m\tat java.base/jdk.internal.util.Preconditions$1.apply(Preconditions.java:52)\u001b[0m",
      "\u001b[1m\u001b[31m\tat java.base/jdk.internal.util.Preconditions$4.apply(Preconditions.java:213)\u001b[0m",
      "\u001b[1m\u001b[31m\tat java.base/jdk.internal.util.Preconditions$4.apply(Preconditions.java:210)\u001b[0m",
      "\u001b[1m\u001b[31m\tat java.base/jdk.internal.util.Preconditions.outOfBounds(Preconditions.java:98)\u001b[0m",
      "\u001b[1m\u001b[31m\tat java.base/jdk.internal.util.Preconditions.outOfBoundsCheckIndex(Preconditions.java:106)\u001b[0m",
      "\u001b[1m\u001b[31m\tat java.base/jdk.internal.util.Preconditions.checkIndex(Preconditions.java:302)\u001b[0m",
      "\u001b[1m\u001b[31m\tat java.base/java.lang.String.checkIndex(String.java:4832)\u001b[0m",
      "\u001b[1m\u001b[31m\tat java.base/java.lang.StringLatin1.charAt(StringLatin1.java:46)\u001b[0m",
      "\u001b[1m\u001b[31m\tat java.base/java.lang.String.charAt(String.java:1555)\u001b[0m",
      "\u001b[1m\u001b[31m\tat .lastIndexOf(#20:10)\u001b[0m",
      "\u001b[1m\u001b[31m\tat .(#23:1)\u001b[0m"
     ]
    }
   ],
   "source": [
    "System.out.println(lastIndexOf(\"0 123 456 123 113\", \"123\"));\n",
    "System.out.println(lastIndexOf(\"0 123 456 789\", \"132\"));"
   ]
  },
  {
   "cell_type": "markdown",
   "metadata": {},
   "source": [
    "=== I S - P A L I N D R O M E ==="
   ]
  },
  {
   "cell_type": "code",
   "execution_count": 12,
   "metadata": {
    "vscode": {
     "languageId": "java"
    }
   },
   "outputs": [],
   "source": [
    "boolean isPalindrome(String str) {\n",
    "    int a=str.length();\n",
    "    if (a==1 || a==0)\n",
    "    return true;\n",
    "        else if (str.charAt(0)!=str.charAt(a-1))\n",
    "        return false;\n",
    "        else\n",
    "       return isPalindrome(str.substring(1,a-1));\n",
    "}"
   ]
  },
  {
   "cell_type": "code",
   "execution_count": 13,
   "metadata": {
    "vscode": {
     "languageId": "java"
    }
   },
   "outputs": [
    {
     "name": "stdout",
     "output_type": "stream",
     "text": [
      "a: true\n",
      "aa: true\n",
      "aba: true\n",
      "abba: true\n",
      "abca: false\n",
      "1234567890987654321: true\n",
      "abcabc: false\n"
     ]
    }
   ],
   "source": [
    "var words = new String[] {\n",
    "    \"a\",\n",
    "    \"aa\",\n",
    "    \"aba\",\n",
    "    \"abba\",\n",
    "    \"abca\",\n",
    "    \"1234567890987654321\",\n",
    "    \"abcabc\",\n",
    "};\n",
    "\n",
    "for (var word : words) {\n",
    "    System.out.println(word + \": \" + isPalindrome(word));\n",
    "}\n"
   ]
  },
  {
   "cell_type": "markdown",
   "metadata": {},
   "source": [
    "=== S T A R T S - W I T H ==="
   ]
  },
  {
   "cell_type": "code",
   "execution_count": 21,
   "metadata": {
    "vscode": {
     "languageId": "java"
    }
   },
   "outputs": [],
   "source": [
    "boolean startsWith(String str, String prefix) {\n",
    "    for (int i=0;i<prefix.length();i++){\n",
    "        if (str.charAt(i)!=prefix.charAt(i)){\n",
    "            return false;\n",
    "        }\n",
    "    }\n",
    "    return true;\n",
    "\n",
    "    \n",
    "}"
   ]
  },
  {
   "cell_type": "code",
   "execution_count": 22,
   "metadata": {
    "vscode": {
     "languageId": "java"
    }
   },
   "outputs": [
    {
     "name": "stdout",
     "output_type": "stream",
     "text": [
      "'Garry, you are a wizard!' & 'Garry': true\n",
      "'Garry, you are a wizard!' & 'Garry ': false\n"
     ]
    }
   ],
   "source": [
    "var tests = new String[][] {\n",
    "    new String[] {\"Garry, you are a wizard!\", \"Garry\"},\n",
    "    new String[] {\"Garry, you are a wizard!\", \"Garry \"},\n",
    "};\n",
    "\n",
    "for (var test : tests) {\n",
    "    var result = startsWith(test[0], test[1]);\n",
    "    System.out.println(\"'\" + test[0] + \"' & '\" + test[1] + \"': \" + result);\n",
    "}"
   ]
  },
  {
   "cell_type": "markdown",
   "metadata": {},
   "source": [
    "=== E N D S - W I T H ==="
   ]
  },
  {
   "cell_type": "code",
   "execution_count": 25,
   "metadata": {
    "vscode": {
     "languageId": "java"
    }
   },
   "outputs": [],
   "source": [
    "boolean endsWith(String str, String suffix) {\n",
    "    int a=str.length()-1;\n",
    "    int b=str.length()-suffix.length();\n",
    "   for (int i=a; i>=b;i--){\n",
    "    if (str.charAt(i)!=suffix.charAt(i-b))\n",
    "    return false;\n",
    "   }\n",
    "   return true;\n",
    "}"
   ]
  },
  {
   "cell_type": "code",
   "execution_count": 26,
   "metadata": {
    "vscode": {
     "languageId": "java"
    }
   },
   "outputs": [
    {
     "name": "stdout",
     "output_type": "stream",
     "text": [
      "'12345678' & '678': true\n",
      "'12345678' & '123': false\n",
      "'12345678' & '8': true\n"
     ]
    }
   ],
   "source": [
    "class Test {\n",
    "    public String str;\n",
    "    public String suffix;\n",
    "\n",
    "    public Test(String str, String suffix) {\n",
    "        this.str = str;\n",
    "        this.suffix = suffix;\n",
    "    }\n",
    "}\n",
    "\n",
    "var tests = new Test[] {\n",
    "    new Test(\"12345678\", \"678\"),\n",
    "    new Test(\"12345678\", \"123\"),\n",
    "    new Test(\"12345678\", \"8\"),\n",
    "};\n",
    "\n",
    "for (var test: tests) {\n",
    "    var result = endsWith(test.str, test.suffix);\n",
    "    System.out.println(\"'\" + test.str + \"' & '\" + test.suffix + \"': \" + result);\n",
    "};"
   ]
  },
  {
   "cell_type": "markdown",
   "metadata": {},
   "source": [
    "=== C O N T A I N S ==="
   ]
  },
  {
   "cell_type": "code",
   "execution_count": 42,
   "metadata": {
    "vscode": {
     "languageId": "java"
    }
   },
   "outputs": [],
   "source": [
    "boolean contains(String str, String subStr) {\n",
    " for (int i=0;i<str.length();i++){\n",
    "    if (str.charAt(i)==subStr.charAt(i)){\n",
    "str=str.substring(i);\n",
    "for (int j=0;j<subStr.length();j++){\n",
    "    if (str.charAt(j)!=subStr.charAt(j))\n",
    "    return false;\n",
    "}\n",
    "return true;\n",
    "    }\n",
    " }\n",
    " return false;\n",
    "}"
   ]
  },
  {
   "cell_type": "code",
   "execution_count": 43,
   "metadata": {
    "vscode": {
     "languageId": "java"
    }
   },
   "outputs": [
    {
     "name": "stdout",
     "output_type": "stream",
     "text": [
      "'Garry, you are a wizard!' & 'Garry': true\n",
      "'Garry, you are a wizard!' & 'Garry ': false\n"
     ]
    }
   ],
   "source": [
    "var tests = new String[][] {\n",
    "    new String[] {\"Garry, you are a wizard!\", \"Garry\"},\n",
    "    new String[] {\"Garry, you are a wizard!\", \"Garry \"},\n",
    "};\n",
    "\n",
    "for (var test : tests) {\n",
    "    var result = contains(test[0], test[1]);\n",
    "    System.out.println(\"'\" + test[0] + \"' & '\" + test[1] + \"': \" + result);\n",
    "}"
   ]
  },
  {
   "cell_type": "markdown",
   "metadata": {},
   "source": [
    "=== C O M P A R E - T O ==="
   ]
  },
  {
   "cell_type": "code",
   "execution_count": 51,
   "metadata": {
    "vscode": {
     "languageId": "java"
    }
   },
   "outputs": [],
   "source": [
    "int compareTo(String str1, String str2) {\n",
    "   int a=Math.max(str1.length(),str2.length());\n",
    " for (int i=0;i<a;i++){\n",
    "   if (str1.charAt(i)>str2.charAt(i))\n",
    "   return -1;\n",
    "   else if (str1.charAt(i)<str2.charAt(i))\n",
    "   return 1;\n",
    " }\n",
    " \n",
    " return 0;\n",
    "\n",
    "}"
   ]
  },
  {
   "cell_type": "code",
   "execution_count": 52,
   "metadata": {
    "vscode": {
     "languageId": "java"
    }
   },
   "outputs": [
    {
     "name": "stdout",
     "output_type": "stream",
     "text": [
      "'A' & 'B': 1\n",
      "'B' & 'A': -1\n",
      "'a' & 'B': -1\n",
      "'b' & 'A': -1\n"
     ]
    }
   ],
   "source": [
    "var tests = new String[][] {\n",
    "    new String[] {\"A\", \"B\"},\n",
    "    new String[] {\"B\", \"A\"},\n",
    "    new String[] {\"a\", \"B\"},\n",
    "    new String[] {\"b\", \"A\"},\n",
    "};\n",
    "\n",
    "for (var test : tests) {\n",
    "    var result = compareTo(test[0], test[1]);\n",
    "    System.out.println(\"'\" + test[0] + \"' & '\" + test[1] + \"': \" + result);\n",
    "}"
   ]
  },
  {
   "cell_type": "markdown",
   "metadata": {},
   "source": [
    "=== R E V E R S E ==="
   ]
  },
  {
   "cell_type": "code",
   "execution_count": 36,
   "metadata": {
    "vscode": {
     "languageId": "java"
    }
   },
   "outputs": [],
   "source": [
    "String reverse(String str) {\n",
    "    String rev=\"\";\n",
    "    for (int i=str.length()-1; i>=0; i--){\n",
    "        rev=rev + str.charAt(i);\n",
    "    }\n",
    "    return rev;\n",
    "}"
   ]
  },
  {
   "cell_type": "markdown",
   "metadata": {},
   "source": [
    "=== S P L I T ==="
   ]
  },
  {
   "cell_type": "code",
   "execution_count": 16,
   "metadata": {
    "vscode": {
     "languageId": "java"
    }
   },
   "outputs": [
    {
     "ename": "CompilationException",
     "evalue": "",
     "output_type": "error",
     "traceback": [
      "\u001b[1m\u001b[30m|   \u001b[1m\u001b[30m    return String\u001b[0m\u001b[1m\u001b[30m\u001b[41m\u001b[0m\u001b[1m\u001b[30m st[] ;\u001b[0m",
      "\u001b[1m\u001b[31m';' expected\u001b[0m",
      "",
      "\u001b[1m\u001b[30m|   \u001b[1m\u001b[30m    return String \u001b[0m\u001b[1m\u001b[30m\u001b[41mst[]\u001b[0m\u001b[1m\u001b[30m ;\u001b[0m",
      "\u001b[1m\u001b[31mnot a statement\u001b[0m",
      ""
     ]
    }
   ],
   "source": [
    "String[] split(String str, String delimeter) {\n",
    "    String st=new String[a];\n",
    "    int b=0;\n",
    "    for (int i=0; i<=str.length();i++){\n",
    "        if (str.charAt(i)==delimeter){\n",
    "            st[b]=str.substring(0,indexOf(delimeter));\n",
    "            str=substring(indexOf(delimeter));\n",
    "            b=b+1;\n",
    "        }\n",
    "\n",
    "    }\n",
    "    return String st[] ;\n",
    "\n",
    "}"
   ]
  }
 ],
 "metadata": {
  "kernelspec": {
   "display_name": "Java",
   "language": "java",
   "name": "java"
  },
  "language_info": {
   "codemirror_mode": "java",
   "file_extension": ".jshell",
   "mimetype": "text/x-java-source",
   "name": "Java",
   "pygments_lexer": "java",
   "version": "21.0.4+7-LTS"
  }
 },
 "nbformat": 4,
 "nbformat_minor": 2
}
