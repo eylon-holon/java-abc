{
 "cells": [
  {
   "cell_type": "markdown",
   "metadata": {},
   "source": [
    "=== I N D E X - O F ==="
   ]
  },
  {
   "cell_type": "code",
   "execution_count": 14,
   "metadata": {
    "vscode": {
     "languageId": "java"
    }
   },
   "outputs": [],
   "source": [
    "int indexOf(String str, String subStr) {\n",
    "  if (str.length()<subStr.length())\n",
    "  return -1;\n",
    "for (int i=0; i<str.length();i++){\n",
    "  if (str.charAt(i)!=subStr.charAt(0))\n",
    "  continue;\n",
    "if (str.length()-i<subStr.length())\n",
    "break;\n",
    "\n",
    "int match=0;\n",
    "for (int j=0;j<subStr.length();j++){\n",
    "  if (str.charAt(i+j)!=subStr.charAt(j)){\n",
    "    break;\n",
    "  }\n",
    "  \n",
    "  match++;\n",
    "}\n",
    "if (match==subStr.length())\n",
    "return i;\n",
    "\n",
    "}\n",
    "   return -1;\n",
    "}"
   ]
  },
  {
   "cell_type": "code",
   "execution_count": 1,
   "metadata": {
    "vscode": {
     "languageId": "java"
    }
   },
   "outputs": [
    {
     "ename": "CompilationException",
     "evalue": "",
     "output_type": "error",
     "traceback": [
      "\u001b[1m\u001b[30m|   \u001b[1m\u001b[30mSystem.out.println(\u001b[0m\u001b[1m\u001b[30m\u001b[41mindexOf\u001b[0m\u001b[1m\u001b[30m(\"0 123 456 123\", \"456\"));\u001b[0m",
      "\u001b[1m\u001b[31mcannot find symbol\u001b[0m",
      "\u001b[1m\u001b[31m  symbol:   method indexOf(java.lang.String,java.lang.String)\u001b[0m",
      ""
     ]
    }
   ],
   "source": [
    "System.out.println(indexOf(\"0 123 456 123\", \"456\"));\n",
    "System.out.println(indexOf(\"0 123 456 789\", \"133\"));\n",
    "System.out.println(indexOf(\"933\", \"10 123 456 78\"));"
   ]
  },
  {
   "cell_type": "markdown",
   "metadata": {},
   "source": [
    "=== L A S T - I N D E X - O F ==="
   ]
  },
  {
   "cell_type": "code",
   "execution_count": 18,
   "metadata": {
    "vscode": {
     "languageId": "java"
    }
   },
   "outputs": [],
   "source": [
    "int lastIndexOf(String str, String subStr) {\n",
    "  if (str.length()<subStr.length())\n",
    "  return -1;\n",
    "  \n",
    "  for (int i=str.length()-1; i>=0;i--){\n",
    "    if (str.charAt(i)!=subStr.charAt(subStr.length()-1))\n",
    "    continue;\n",
    "    if (i<subStr.length())\n",
    "    break;\n",
    "    \n",
    "    int match=0;\n",
    "    for (int j=0;j<subStr.length();j++){\n",
    "      if (str.charAt(i-j)!=subStr.charAt(subStr.length()-1-j)){\n",
    "        break;\n",
    "      }\n",
    "      \n",
    "      match++;\n",
    "    }\n",
    "    if (match==subStr.length())\n",
    "    return i;\n",
    "    }\n",
    "  return -1;\n",
    "}"
   ]
  },
  {
   "cell_type": "code",
   "execution_count": 1,
   "metadata": {
    "vscode": {
     "languageId": "java"
    }
   },
   "outputs": [
    {
     "ename": "CompilationException",
     "evalue": "",
     "output_type": "error",
     "traceback": [
      "\u001b[1m\u001b[30m|   \u001b[1m\u001b[30mSystem.out.println(\u001b[0m\u001b[1m\u001b[30m\u001b[41mlastIndexOf\u001b[0m\u001b[1m\u001b[30m(\"0 123 456 123 113\", \"123\"));\u001b[0m",
      "\u001b[1m\u001b[31mcannot find symbol\u001b[0m",
      "\u001b[1m\u001b[31m  symbol:   method lastIndexOf(java.lang.String,java.lang.String)\u001b[0m",
      ""
     ]
    }
   ],
   "source": [
    "System.out.println(lastIndexOf(\"0 123 456 123 113\", \"123\"));\n",
    "System.out.println(lastIndexOf(\"0 123 456 789\", \"132\"));"
   ]
  },
  {
   "cell_type": "markdown",
   "metadata": {},
   "source": [
    "=== I S - P A L I N D R O M E ==="
   ]
  },
  {
   "cell_type": "code",
   "execution_count": 4,
   "metadata": {
    "vscode": {
     "languageId": "java"
    }
   },
   "outputs": [],
   "source": [
    "boolean isPalindrome(String str) {\n",
    "    int a=str.length();\n",
    "    if (a==1 || a==0)\n",
    "    return true;\n",
    "        else if (str.charAt(0)!=str.charAt(a-1))\n",
    "        return false;\n",
    "        else\n",
    "       return isPalindrome(str.substring(1,a-1));\n",
    "}"
   ]
  },
  {
   "cell_type": "code",
   "execution_count": 1,
   "metadata": {
    "vscode": {
     "languageId": "java"
    }
   },
   "outputs": [
    {
     "ename": "CompilationException",
     "evalue": "",
     "output_type": "error",
     "traceback": [
      "\u001b[1m\u001b[30m|   \u001b[1m\u001b[30m    System.out.println(word + \": \" + \u001b[0m\u001b[1m\u001b[30m\u001b[41misPalindrome\u001b[0m\u001b[1m\u001b[30m(word));\u001b[0m",
      "\u001b[1m\u001b[31mcannot find symbol\u001b[0m",
      "\u001b[1m\u001b[31m  symbol:   method isPalindrome(java.lang.String)\u001b[0m",
      ""
     ]
    }
   ],
   "source": [
    "var words = new String[] {\n",
    "    \"a\",\n",
    "    \"aa\",\n",
    "    \"aba\",\n",
    "    \"abba\",\n",
    "    \"abca\",\n",
    "    \"1234567890987654321\",\n",
    "    \"abcabc\",\n",
    "};\n",
    "\n",
    "for (var word : words) {\n",
    "    System.out.println(word + \": \" + isPalindrome(word));\n",
    "}\n"
   ]
  },
  {
   "cell_type": "markdown",
   "metadata": {},
   "source": [
    "=== S T A R T S - W I T H ==="
   ]
  },
  {
   "cell_type": "code",
   "execution_count": 21,
   "metadata": {
    "vscode": {
     "languageId": "java"
    }
   },
   "outputs": [],
   "source": [
    "boolean startsWith(String str, String prefix) {\n",
    "    for (int i=0;i<prefix.length();i++){\n",
    "        if (str.charAt(i)!=prefix.charAt(i)){\n",
    "            return false;\n",
    "        }\n",
    "    }\n",
    "    return true;\n",
    "\n",
    "    \n",
    "}"
   ]
  },
  {
   "cell_type": "code",
   "execution_count": 22,
   "metadata": {
    "vscode": {
     "languageId": "java"
    }
   },
   "outputs": [
    {
     "name": "stdout",
     "output_type": "stream",
     "text": [
      "'Garry, you are a wizard!' & 'Garry': true\n",
      "'Garry, you are a wizard!' & 'Garry ': false\n"
     ]
    }
   ],
   "source": [
    "var tests = new String[][] {\n",
    "    new String[] {\"Garry, you are a wizard!\", \"Garry\"},\n",
    "    new String[] {\"Garry, you are a wizard!\", \"Garry \"},\n",
    "};\n",
    "\n",
    "for (var test : tests) {\n",
    "    var result = startsWith(test[0], test[1]);\n",
    "    System.out.println(\"'\" + test[0] + \"' & '\" + test[1] + \"': \" + result);\n",
    "}"
   ]
  },
  {
   "cell_type": "markdown",
   "metadata": {},
   "source": [
    "=== E N D S - W I T H ==="
   ]
  },
  {
   "cell_type": "code",
   "execution_count": 25,
   "metadata": {
    "vscode": {
     "languageId": "java"
    }
   },
   "outputs": [],
   "source": [
    "boolean endsWith(String str, String suffix) {\n",
    "    int a=str.length()-1;\n",
    "    int b=str.length()-suffix.length();\n",
    "   for (int i=a; i>=b;i--){\n",
    "    if (str.charAt(i)!=suffix.charAt(i-b))\n",
    "    return false;\n",
    "   }\n",
    "   return true;\n",
    "}"
   ]
  },
  {
   "cell_type": "code",
   "execution_count": 26,
   "metadata": {
    "vscode": {
     "languageId": "java"
    }
   },
   "outputs": [
    {
     "name": "stdout",
     "output_type": "stream",
     "text": [
      "'12345678' & '678': true\n",
      "'12345678' & '123': false\n",
      "'12345678' & '8': true\n"
     ]
    }
   ],
   "source": [
    "class Test {\n",
    "    public String str;\n",
    "    public String suffix;\n",
    "\n",
    "    public Test(String str, String suffix) {\n",
    "        this.str = str;\n",
    "        this.suffix = suffix;\n",
    "    }\n",
    "}\n",
    "\n",
    "var tests = new Test[] {\n",
    "    new Test(\"12345678\", \"678\"),\n",
    "    new Test(\"12345678\", \"123\"),\n",
    "    new Test(\"12345678\", \"8\"),\n",
    "};\n",
    "\n",
    "for (var test: tests) {\n",
    "    var result = endsWith(test.str, test.suffix);\n",
    "    System.out.println(\"'\" + test.str + \"' & '\" + test.suffix + \"': \" + result);\n",
    "};"
   ]
  },
  {
   "cell_type": "markdown",
   "metadata": {},
   "source": [
    "=== C O N T A I N S ==="
   ]
  },
  {
   "cell_type": "code",
   "execution_count": 3,
   "metadata": {
    "vscode": {
     "languageId": "java"
    }
   },
   "outputs": [],
   "source": [
    "boolean contains(String str, String subStr) {\n",
    "    for (int i=0; i<str.length();i++){\n",
    "        if (str.charAt(i)!=subStr.charAt(0))\n",
    "        continue;\n",
    "      if (str.length()-i<subStr.length())\n",
    "      break;\n",
    "      \n",
    "      int match=0;\n",
    "      for (int j=0;j<subStr.length();j++){\n",
    "        if (str.charAt(i+j)!=subStr.charAt(j)){\n",
    "          break;\n",
    "        }\n",
    "        \n",
    "        match++;\n",
    "      }\n",
    "      if (match==subStr.length())\n",
    "      return true;\n",
    "      \n",
    "      }\n",
    "         return false;\n",
    "      }\n"
   ]
  },
  {
   "cell_type": "code",
   "execution_count": 24,
   "metadata": {
    "vscode": {
     "languageId": "java"
    }
   },
   "outputs": [
    {
     "ename": "CompilationException",
     "evalue": "",
     "output_type": "error",
     "traceback": [
      "\u001b[1m\u001b[30m|   \u001b[1m\u001b[30m    var result = \u001b[0m\u001b[1m\u001b[30m\u001b[41mcontains\u001b[0m\u001b[1m\u001b[30m(test[0], test[1]);\u001b[0m",
      "\u001b[1m\u001b[31mcannot find symbol\u001b[0m",
      "\u001b[1m\u001b[31m  symbol:   method contains(java.lang.String,java.lang.String)\u001b[0m",
      ""
     ]
    }
   ],
   "source": [
    "var tests = new String[][] {\n",
    "    new String[] {\"Garry, you are a wizard!\", \"Garry\"},\n",
    "    new String[] {\"Garry, you are a wizard!\", \"you \"},\n",
    "};\n",
    "\n",
    "for (var test : tests) {\n",
    "    var result = contains(test[0], test[1]);\n",
    "    System.out.println(\"'\" + test[0] + \"' & '\" + test[1] + \"': \" + result);\n",
    "}"
   ]
  },
  {
   "cell_type": "markdown",
   "metadata": {},
   "source": [
    "=== C O M P A R E - T O ==="
   ]
  },
  {
   "cell_type": "code",
   "execution_count": 6,
   "metadata": {
    "vscode": {
     "languageId": "java"
    }
   },
   "outputs": [],
   "source": [
    "int compareTo(String str1, String str2) {\n",
    "   int a=Math.min(str1.length(),str2.length());\n",
    " for (int i=0;i<a;i++){\n",
    "   if (str1.charAt(i)>str2.charAt(i))\n",
    "   return -1;\n",
    "   else if (str1.charAt(i)<str2.charAt(i))\n",
    "   return 1;\n",
    " }\n",
    " \n",
    " return 0;\n",
    "\n",
    "}"
   ]
  },
  {
   "cell_type": "code",
   "execution_count": 23,
   "metadata": {
    "vscode": {
     "languageId": "java"
    }
   },
   "outputs": [
    {
     "ename": "CompilationException",
     "evalue": "",
     "output_type": "error",
     "traceback": [
      "\u001b[1m\u001b[30m|   \u001b[1m\u001b[30m    var result = \u001b[0m\u001b[1m\u001b[30m\u001b[41mcompareTo\u001b[0m\u001b[1m\u001b[30m(test[0], test[1]);\u001b[0m",
      "\u001b[1m\u001b[31mcannot find symbol\u001b[0m",
      "\u001b[1m\u001b[31m  symbol:   method compareTo(java.lang.String,java.lang.String)\u001b[0m",
      ""
     ]
    }
   ],
   "source": [
    "var tests = new String[][] {\n",
    "    new String[] {\"A\", \"A\"},\n",
    "    new String[] {\"B\", \"A\"},\n",
    "    new String[] {\"a\", \"B\"},\n",
    "    new String[] {\"b\", \"A\"},\n",
    "};\n",
    "\n",
    "for (var test : tests) {\n",
    "    var result = compareTo(test[0], test[1]);\n",
    "    System.out.println(\"'\" + test[0] + \"' & '\" + test[1] + \"': \" + result);\n",
    "}"
   ]
  },
  {
   "cell_type": "markdown",
   "metadata": {},
   "source": [
    "=== R E V E R S E ==="
   ]
  },
  {
   "cell_type": "code",
   "execution_count": 16,
   "metadata": {
    "vscode": {
     "languageId": "java"
    }
   },
   "outputs": [],
   "source": [
    "String reverse(String str) {\n",
    "    String rev=\"\";\n",
    "    for (int i=str.length()-1; i>=0; i--){\n",
    "        rev=rev + str.charAt(i);\n",
    "    }\n",
    "    return rev;\n",
    "}"
   ]
  },
  {
   "cell_type": "code",
   "execution_count": 2,
   "metadata": {
    "vscode": {
     "languageId": "java"
    }
   },
   "outputs": [
    {
     "ename": "CompilationException",
     "evalue": "",
     "output_type": "error",
     "traceback": [
      "\u001b[1m\u001b[30m|   \u001b[1m\u001b[30mSystem.out.println(\u001b[0m\u001b[1m\u001b[30m\u001b[41mreverse\u001b[0m\u001b[1m\u001b[30m(\"supercalifragilisticexpialidocious\"));\u001b[0m",
      "\u001b[1m\u001b[31mcannot find symbol\u001b[0m",
      "\u001b[1m\u001b[31m  symbol:   method reverse(java.lang.String)\u001b[0m",
      ""
     ]
    }
   ],
   "source": [
    "System.out.println(reverse(\"supercalifragilisticexpialidocious\"));"
   ]
  },
  {
   "cell_type": "markdown",
   "metadata": {},
   "source": [
    "=== S P L I T ==="
   ]
  },
  {
   "cell_type": "code",
   "execution_count": 4,
   "metadata": {
    "vscode": {
     "languageId": "java"
    }
   },
   "outputs": [],
   "source": [
    "String[] split(String str, String delimeter) {\n",
    "    int count=1;\n",
    "    \n",
    "    for (int i=0;i<str.length();i++){\n",
    "if (str.charAt(i)==delimeter.charAt(0))\n",
    "count++;\n",
    "    }\n",
    "    var words=new String[count];\n",
    "    int nexAt=0;\n",
    "\n",
    "    while (str.length()>0){\n",
    "        int len=str.indexOf(delimeter);\n",
    "        if (len==-1){\n",
    "            len=str.length();\n",
    "        }\n",
    "var word=str.substring(0,len);\n",
    "words[nexAt++]=word;\n",
    " \n",
    "str=str.substring(len);\n",
    " if (str.indexOf(delimeter)==-1)\n",
    " {words[count]=str;}\n",
    "\n",
    "    }\n",
    "    if (nexAt!=count){\n",
    "        System.out.println(\"something went wrong: wordCounts=\"+ count +\"nextAtt=\" + nexAt);\n",
    "    }\n",
    "\n",
    "    return words;\n",
    "\n",
    "}"
   ]
  },
  {
   "cell_type": "code",
   "execution_count": 32,
   "metadata": {
    "vscode": {
     "languageId": "java"
    }
   },
   "outputs": [],
   "source": [
    "void printWords(String [] words){\n",
    "    System.out.print(\"[\");\n",
    "    var firstWord=true;\n",
    "    for (var word:words){\n",
    "        if (!firstWord){\n",
    "            System.out.print(\",\");\n",
    "        }\n",
    "        firstWord=false;\n",
    "        System.out.print(\"'\"+word+\"'\");\n",
    "    }\n",
    "    System.out.print(\"]\");\n",
    "}\n"
   ]
  }
 ],
 "metadata": {
  "kernelspec": {
   "display_name": "Java",
   "language": "java",
   "name": "java"
  },
  "language_info": {
   "codemirror_mode": "java",
   "file_extension": ".jshell",
   "mimetype": "text/x-java-source",
   "name": "Java",
   "pygments_lexer": "java",
   "version": "21.0.4+7-LTS"
  }
 },
 "nbformat": 4,
 "nbformat_minor": 2
}
