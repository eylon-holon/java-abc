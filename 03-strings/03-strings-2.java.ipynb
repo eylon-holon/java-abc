{
 "cells": [
  {
   "cell_type": "markdown",
   "metadata": {},
   "source": [
    "=== I N D E X - O F ==="
   ]
  },
  {
   "cell_type": "code",
   "execution_count": null,
   "metadata": {},
   "outputs": [],
   "source": [
    "int indexOf(String str, String subStr) {\n",
    "    if (subStr.length() > str.length()){\n",
    "    //if the length of subStr is bigger then the length of str then subStr cannot fit in str.\n",
    "        return -1;\n",
    "    }\n",
    "    for (int i = 0; i <= str.length() - subStr.length(); i++){\n",
    "    /*run over all the indexes of str, but stop if the index is equal to the length of str minus the length of subStr, \n",
    "    because the number of char left after this index is to small to fit subStr in.*/\n",
    "        boolean match = true;\n",
    "        for (int k = 0; k < subStr.length(); k++){\n",
    "        //run over all the characters in subStr\n",
    "            if(str.charAt(i + k) != subStr.charAt(k)){\n",
    "            //check if the char in str in index i+k is different then the char at subStr in index k.\n",
    "                match = false;\n",
    "                break;\n",
    "            }\n",
    "        }\n",
    "        if (match){\n",
    "        //if match is true, subStr is in str, and the index of it is i.\n",
    "            return i;\n",
    "        }\n",
    "    }\n",
    "    return -1;\n",
    "}"
   ]
  },
  {
   "cell_type": "code",
   "execution_count": null,
   "metadata": {},
   "outputs": [],
   "source": [
    "System.out.println(indexOf(\"0 123 456 123\", \"123\"));\n",
    "System.out.println(indexOf(\"0 123 456 789\", \"132\"));\n",
    "System.out.println(indexOf(\"0 123\", \"77793675\"));\n",
    "System.out.println(indexOf(\"0 123 456 789\", \"6 789\"));\n",
    "System.out.println(indexOf(\"0777773\", \"3\"));\n",
    "System.out.println(indexOf(\"0 132 4561329\", \"132\"));"
   ]
  },
  {
   "cell_type": "markdown",
   "metadata": {},
   "source": [
    "=== L A S T - I N D E X - O F ==="
   ]
  },
  {
   "cell_type": "code",
   "execution_count": null,
   "metadata": {},
   "outputs": [],
   "source": [
    "int lastIndexOf(String str, String subStr) {\n",
    "    if (subStr.length() > str.length()){\n",
    "        return -1;\n",
    "    }\n",
    "    for (int i = str.length() - subStr.length(); i > 0; i--){\n",
    "        boolean match = true;\n",
    "        for (int k = 0; k < subStr.length(); k++){\n",
    "            if(str.charAt(i + k) != subStr.charAt(k)){\n",
    "                match = false;\n",
    "                break;\n",
    "            }\n",
    "        }\n",
    "        if (match){\n",
    "            return i;\n",
    "        }\n",
    "    }\n",
    "    return -1;\n",
    "}"
   ]
  },
  {
   "cell_type": "code",
   "execution_count": null,
   "metadata": {},
   "outputs": [],
   "source": [
    "System.out.println(indexOf(\"0 123 456 123\", \"123\"));\n",
    "System.out.println(indexOf(\"0 123 456 789\", \"132\"));\n",
    "System.out.println(indexOf(\"0 123\", \"77793675\"));\n",
    "System.out.println(indexOf(\"0 123 456 789\", \"6 789\"));\n",
    "System.out.println(indexOf(\"0737773\", \"3\"));\n",
    "System.out.println(indexOf(\"0 132 4561329\", \"132\"));"
   ]
  },
  {
   "cell_type": "markdown",
   "metadata": {},
   "source": [
    "=== I S - P A L I N D R O M E ==="
   ]
  },
  {
   "cell_type": "code",
   "execution_count": null,
   "metadata": {},
   "outputs": [],
   "source": [
    "boolean isPalindrome(String str) {\n",
    "    for (int i = 0; i < (str.length() / 2 + 1); i++){\n",
    "        int k = str.length() - i - 1;\n",
    "        if (str.charAt(i) != str.charAt(k)){\n",
    "            return false;\n",
    "        }\n",
    "    }\n",
    "    return true;\n",
    "}"
   ]
  },
  {
   "cell_type": "code",
   "execution_count": null,
   "metadata": {},
   "outputs": [],
   "source": [
    "var words = new String[] {\n",
    "    \"a\",\n",
    "    \"aa\",\n",
    "    \"aba\",\n",
    "    \"abba\",\n",
    "    \"abca\",\n",
    "    \"1234567890987654321\",\n",
    "    \"abcabc\",\n",
    "    \"abdfgdba\"\n",
    "};\n",
    "\n",
    "for (var word : words) {\n",
    "    System.out.println(word + \": \" + isPalindrome(word));\n",
    "}\n"
   ]
  },
  {
   "cell_type": "markdown",
   "metadata": {},
   "source": [
    "=== S T A R T S - W I T H ==="
   ]
  },
  {
   "cell_type": "code",
   "execution_count": null,
   "metadata": {},
   "outputs": [],
   "source": [
    "boolean startsWith(String str, String prefix) {\n",
    "    if (prefix.length() > str.length()){\n",
    "        return false;\n",
    "    }\n",
    "    for (int i = 0 ; i < prefix.length(); i++){\n",
    "        if (prefix.charAt(i) != str.charAt(i)){\n",
    "            return false;\n",
    "        }\n",
    "    }\n",
    "    return true;\n",
    "}"
   ]
  },
  {
   "cell_type": "code",
   "execution_count": null,
   "metadata": {},
   "outputs": [],
   "source": [
    "var tests = new String[][] {\n",
    "    new String[] {\"Garry, you are a wtizard!\", \"Garry\"},\n",
    "    new String[] {\"Garry, you are a wizard!\", \"Garry \"},\n",
    "    new String[] {\"Gar\", \"Garry\"},\n",
    "};\n",
    "\n",
    "for (var test : tests) {\n",
    "    var result = startsWith(test[0], test[1]);\n",
    "    System.out.println(\"'\" + test[0] + \"' & '\" + test[1] + \"': \" + result);\n",
    "}"
   ]
  },
  {
   "cell_type": "markdown",
   "metadata": {},
   "source": [
    "=== E N D S - W I T H ==="
   ]
  },
  {
   "cell_type": "code",
   "execution_count": null,
   "metadata": {},
   "outputs": [],
   "source": [
    "boolean endsWith(String str, String suffix) {\n",
    "    if (suffix.length() > str.length()){\n",
    "        return false;\n",
    "    }\n",
    "    for (int i = suffix.length() - 1 ; i > 0; i--){\n",
    "        int iCharSuffix = suffix.length() - i - 1;\n",
    "        int iCharStr = str.length() - i - 1;\n",
    "        if (suffix.charAt(iCharSuffix) != str.charAt(iCharStr)){\n",
    "            return false;\n",
    "        }\n",
    "    }\n",
    "    return true;\n",
    "}"
   ]
  },
  {
   "cell_type": "code",
   "execution_count": null,
   "metadata": {},
   "outputs": [],
   "source": [
    "class Test {\n",
    "    public String str;\n",
    "    public String suffix;\n",
    "\n",
    "    public Test(String str, String suffix) {\n",
    "        this.str = str;\n",
    "        this.suffix = suffix;\n",
    "    }\n",
    "}\n",
    "\n",
    "var tests = new Test[] {\n",
    "    new Test(\"12345678\", \"678\"),\n",
    "    new Test(\"12345678\", \"123\"),\n",
    "    new Test(\"12345678\", \"8\"),\n",
    "    new Test(\"12\", \"678\"),\n",
    "};\n",
    "\n",
    "for (var test: tests) {\n",
    "    var result = endsWith(test.str, test.suffix);\n",
    "    System.out.println(\"'\" + test.str + \"' & '\" + test.suffix + \"': \" + result);\n",
    "};"
   ]
  },
  {
   "cell_type": "markdown",
   "metadata": {},
   "source": [
    "=== C O N T A I N S ==="
   ]
  },
  {
   "cell_type": "code",
   "execution_count": null,
   "metadata": {},
   "outputs": [],
   "source": [
    "boolean contains(String str, String subStr) {\n",
    "    return indexOf(str, subStr) != -1;\n",
    "}"
   ]
  },
  {
   "cell_type": "code",
   "execution_count": null,
   "metadata": {},
   "outputs": [],
   "source": [
    "var tests = new String[][] {\n",
    "    new String[] {\"Garry, you are a wizard!\", \"Garry\"},\n",
    "    new String[] {\"Garry, you are a wizard!\", \"Garry \"},\n",
    "    new String[] {\"Garry, you Garry  a wizard!\", \"Garry \"},\n",
    "};\n",
    "\n",
    "for (var test : tests) {\n",
    "    var result = contains(test[0], test[1]);\n",
    "    System.out.println(\"'\" + test[0] + \"' & '\" + test[1] + \"': \" + result);\n",
    "}"
   ]
  },
  {
   "cell_type": "markdown",
   "metadata": {},
   "source": [
    "=== C O M P A R E - T O ==="
   ]
  },
  {
   "cell_type": "code",
   "execution_count": null,
   "metadata": {},
   "outputs": [],
   "source": [
    "int compareTo(String str1, String str2) {\n",
    "    for (int i = 0; true; i++){\n",
    "        if (i == str1.length() && i == str2.length()) {\n",
    "            return 0;\n",
    "        }\n",
    "        if (i == str1.length()) {\n",
    "            return -1;\n",
    "        }\n",
    "        if (i == str2.length()) {\n",
    "            return +1;\n",
    "        }\n",
    "        var ch1 = str1.charAt(i);\n",
    "        var ch2 = str2.charAt(i);\n",
    "        if (ch1 != ch2){\n",
    "            return ch1 < ch2 ? -1 : 1;\n",
    "        }\n",
    "    }\n",
    "}"
   ]
  },
  {
   "cell_type": "code",
   "execution_count": null,
   "metadata": {},
   "outputs": [],
   "source": [
    "var tests = new String[][] {\n",
    "    new String[] {\"A\", \"B\"},\n",
    "    new String[] {\"B\", \"A\"},\n",
    "    new String[] {\"a\", \"B\"},\n",
    "    new String[] {\"b\", \"A\"},\n",
    "    new String[] {\"A\", \"A\"},\n",
    "    new String[] {\"baba\", \"baba\"},\n",
    "    new String[] {\"abcd\", \"acdb\"},\n",
    "    new String[] {\"sbcd\", \"acdb\"},\n",
    "};\n",
    "\n",
    "for (var test : tests) {\n",
    "    var result = compareTo(test[0], test[1]);\n",
    "    System.out.println(\"'\" + test[0] + \"' & '\" + test[1] + \"': \" + result);\n",
    "}"
   ]
  },
  {
   "cell_type": "markdown",
   "metadata": {},
   "source": [
    "=== R E V E R S E ==="
   ]
  },
  {
   "cell_type": "code",
   "execution_count": null,
   "metadata": {},
   "outputs": [],
   "source": [
    "String reverse(String str) {\n",
    "    String newStr = \"\";\n",
    "    for (int i = str.length() - 1; i >= 0 ; i--){\n",
    "        newStr += str.charAt(i);\n",
    "    }\n",
    "    return newStr;\n",
    "}"
   ]
  },
  {
   "cell_type": "code",
   "execution_count": null,
   "metadata": {},
   "outputs": [],
   "source": [
    "System.out.println(reverse(\"hello world\"));\n",
    "System.out.println(reverse(\"goodday\"));"
   ]
  },
  {
   "cell_type": "markdown",
   "metadata": {},
   "source": [
    "=== S P L I T ==="
   ]
  },
  {
   "cell_type": "code",
   "execution_count": null,
   "metadata": {},
   "outputs": [],
   "source": [
    "String[] split(String str, String delimeter) {\n",
    "    return -1;\n",
    "}"
   ]
  },
  {
   "cell_type": "code",
   "execution_count": null,
   "metadata": {},
   "outputs": [],
   "source": [
    "var tests = new String[][] {\n",
    "    new String[] {\"hello/world\", \"/\"},\n",
    "    new String[] {\"good morning\", \" \"},\n",
    "    new String[] {\"eatfdinner\", \"f\"},\n",
    "    new String[] {\"whats8up\", \"8\"},\n",
    "};\n",
    "\n",
    "for (var test : tests) {\n",
    "    var result = split(test[0], test[1]);\n",
    "    System.out.println(\"new array: \" + result);\n",
    "}"
   ]
  }
 ],
 "metadata": {
  "kernelspec": {
   "display_name": "Java",
   "language": "java",
   "name": "java"
  },
  "language_info": {
   "codemirror_mode": "java",
   "file_extension": ".jshell",
   "mimetype": "text/x-java-source",
   "name": "java",
   "pygments_lexer": "java",
   "version": "21.0.4+7-LTS"
  }
 },
 "nbformat": 4,
 "nbformat_minor": 2
}
