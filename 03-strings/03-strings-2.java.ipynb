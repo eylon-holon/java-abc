{
 "cells": [
  {
   "cell_type": "markdown",
   "metadata": {},
   "source": [
    "=== I N D E X - O F ==="
   ]
  },
  {
   "cell_type": "code",
   "execution_count": 9,
   "metadata": {},
   "outputs": [],
   "source": [
    "int indexOf(String str, String subStr) {\n",
    "    if(str.length()<subStr.length())\n",
    "    {\n",
    "        return-1;\n",
    "    }\n",
    "\n",
    "    for(int i=0; i<str.length(); i++)\n",
    "    {\n",
    "        if(str.charAt(i)!=subStr.charAt(0))\n",
    "        {\n",
    "            continue;\n",
    "        }\n",
    "        if(str.length()-i<subStr.length())\n",
    "        {\n",
    "            return -1;\n",
    "        }\n",
    "        int charsMatched=0;\n",
    "        for(int j= 0; j < subStr.length(); j++)\n",
    "        {\n",
    "            if(subStr.charAt(j)!=str.charAt(i+j))\n",
    "            {\n",
    "                break;\n",
    "            }\n",
    "            charsMatched++;\n",
    "        }\n",
    "        if(charsMatched==subStr.length())\n",
    "        {\n",
    "            return i;\n",
    "        }\n",
    "    }\n",
    "    return -1;\n",
    "}"
   ]
  },
  {
   "cell_type": "code",
   "execution_count": 10,
   "metadata": {},
   "outputs": [
    {
     "name": "stdout",
     "output_type": "stream",
     "text": [
      "2\n",
      "-1\n"
     ]
    }
   ],
   "source": [
    "System.out.println(indexOf(\"0 123 456 123\", \"123\"));\n",
    "System.out.println(indexOf(\"0 123 456 789\", \"132\"));"
   ]
  },
  {
   "cell_type": "markdown",
   "metadata": {},
   "source": [
    "=== L A S T - I N D E X - O F ==="
   ]
  },
  {
   "cell_type": "code",
   "execution_count": 1,
   "metadata": {},
   "outputs": [],
   "source": [
    "int lastIndexOf(String str, String subStr) {\n",
    "    if(str.length()<subStr.length())\n",
    "    {\n",
    "        return-1;\n",
    "    }\n",
    "    for(int i=str.length()-1; i>=0; i--)\n",
    "    {\n",
    "        if(str.charAt(i)!=subStr.charAt(0))\n",
    "        {\n",
    "            continue;\n",
    "        }\n",
    "        if(str.length()-i<subStr.length())\n",
    "        {\n",
    "            return -1;\n",
    "        }\n",
    "        int charsMatched=0;\n",
    "        for(int j= 0; j < subStr.length(); j++)\n",
    "        {\n",
    "            if(subStr.charAt(j)!=str.charAt(i+j))\n",
    "            {\n",
    "                break;\n",
    "            }\n",
    "            charsMatched++;\n",
    "        }\n",
    "        if(charsMatched==subStr.length())\n",
    "        {\n",
    "            return i;\n",
    "        }\n",
    "    }\n",
    "    return -1;\n",
    "}"
   ]
  },
  {
   "cell_type": "code",
   "execution_count": 2,
   "metadata": {},
   "outputs": [
    {
     "name": "stdout",
     "output_type": "stream",
     "text": [
      "10\n",
      "-1\n"
     ]
    }
   ],
   "source": [
    "System.out.println(lastIndexOf(\"0 123 456 123\", \"123\"));\n",
    "System.out.println(lastIndexOf(\"0 123 456 789\", \"132\"));"
   ]
  },
  {
   "cell_type": "markdown",
   "metadata": {},
   "source": [
    "=== I S - P A L I N D R O M E ==="
   ]
  },
  {
   "cell_type": "code",
   "execution_count": null,
   "metadata": {},
   "outputs": [],
   "source": [
    "boolean isPalindrome(String str) {\n",
    "    for(int i=0;i<str.length()/2;i++){\n",
    "        if(!(str.charAt(i)==str.charAt(str.length()-1-i))){\n",
    "        return false;\n",
    "        }\n",
    "    }\n",
    "    return true;\n",
    "}"
   ]
  },
  {
   "cell_type": "code",
   "execution_count": 20,
   "metadata": {},
   "outputs": [
    {
     "name": "stdout",
     "output_type": "stream",
     "text": [
      "a: true\n",
      "aa: true\n",
      "aba: true\n",
      "abba: true\n",
      "abca: false\n",
      "1234567890987654321: true\n",
      "abcabc: false\n"
     ]
    }
   ],
   "source": [
    "var words = new String[] {\n",
    "    \"a\",\n",
    "    \"aa\",\n",
    "    \"aba\",\n",
    "    \"abba\",\n",
    "    \"abca\",\n",
    "    \"1234567890987654321\",\n",
    "    \"abcabc\",\n",
    "};\n",
    "\n",
    "for (var word : words) {\n",
    "    System.out.println(word + \": \" + isPalindrome(word));\n",
    "}\n"
   ]
  },
  {
   "cell_type": "markdown",
   "metadata": {},
   "source": [
    "=== S T A R T S - W I T H ==="
   ]
  },
  {
   "cell_type": "code",
   "execution_count": 30,
   "metadata": {},
   "outputs": [],
   "source": [
    "boolean startsWith(String str, String prefix) {\n",
    "    for(int i=0;i<prefix.length();i++)\n",
    "    if(!(str.charAt(i)==prefix.charAt(i)))\n",
    "    return false;\n",
    "    return true;\n",
    "}"
   ]
  },
  {
   "cell_type": "code",
   "execution_count": 34,
   "metadata": {},
   "outputs": [
    {
     "name": "stdout",
     "output_type": "stream",
     "text": [
      "'Garry, you are a wizard!' & 'Garry': true\n",
      "'Garry, you are a wizard!' & 'Garry': true\n"
     ]
    }
   ],
   "source": [
    "var tests = new String[][] {\n",
    "    new String[] {\"Garry, you are a wizard!\", \"Garry\"},\n",
    "    new String[] {\"Garry, you are a wizard!\", \"Garry\"},\n",
    "};\n",
    "\n",
    "for (var test : tests) {\n",
    "    var result = startsWith(test[0], test[1]);\n",
    "    System.out.println(\"'\" + test[0] + \"' & '\" + test[1] + \"': \" + result);\n",
    "}"
   ]
  },
  {
   "cell_type": "markdown",
   "metadata": {},
   "source": [
    "=== E N D S - W I T H ==="
   ]
  },
  {
   "cell_type": "code",
   "execution_count": 7,
   "metadata": {},
   "outputs": [],
   "source": [
    "boolean endsWith(String str, String prefix) {\n",
    "    for(int i=0; i<prefix.length(); i++)\n",
    "    {\n",
    "            if(!(str.charAt(str.length()-1-i)==prefix.charAt(prefix.length()-1-i))){\n",
    "                \n",
    "                return false;}\n",
    "            }\n",
    "        \n",
    "    return true;\n",
    "}"
   ]
  },
  {
   "cell_type": "code",
   "execution_count": 8,
   "metadata": {},
   "outputs": [
    {
     "name": "stdout",
     "output_type": "stream",
     "text": [
      "'12345678' & '678': true\n",
      "'12345678' & '123': false\n",
      "'12345678' & '8': true\n"
     ]
    }
   ],
   "source": [
    "class Test {\n",
    "    public String str;\n",
    "    public String suffix;\n",
    "\n",
    "    public Test(String str, String suffix) {\n",
    "        this.str = str;\n",
    "        this.suffix = suffix;\n",
    "    }\n",
    "}\n",
    "\n",
    "var tests = new Test[] {\n",
    "    new Test(\"12345678\", \"678\"),\n",
    "    new Test(\"12345678\", \"123\"),\n",
    "    new Test(\"12345678\", \"8\"),\n",
    "};\n",
    "\n",
    "for (var test: tests) {\n",
    "    var result = endsWith(test.str, test.suffix);\n",
    "    System.out.println(\"'\" + test.str + \"' & '\" + test.suffix + \"': \" + result);\n",
    "};"
   ]
  },
  {
   "cell_type": "markdown",
   "metadata": {},
   "source": [
    "=== C O N T A I N S ==="
   ]
  },
  {
   "cell_type": "code",
   "execution_count": null,
   "metadata": {},
   "outputs": [],
   "source": [
    "boolean contains(String str, String subStr) {\n",
    "    if(str.length()<subStr.length())\n",
    "    {\n",
    "        return false;\n",
    "    }\n",
    "\n",
    "    for(int i=0; i<str.length(); i++)\n",
    "    {\n",
    "        if(str.charAt(i)!=subStr.charAt(0))\n",
    "        {\n",
    "            continue;\n",
    "        }\n",
    "        if(str.length()-i<subStr.length())\n",
    "        {\n",
    "            return false;\n",
    "        }\n",
    "        int charsMatched=0;\n",
    "        for(int j= 0; j < subStr.length(); j++)\n",
    "        {\n",
    "            if(subStr.charAt(j)!=str.charAt(i+j))\n",
    "            {\n",
    "                break;\n",
    "            }\n",
    "            charsMatched++;\n",
    "        }\n",
    "        if(charsMatched==subStr.length())\n",
    "        {\n",
    "            return true;\n",
    "        }\n",
    "    }\n",
    "    return false;\n",
    "}"
   ]
  },
  {
   "cell_type": "code",
   "execution_count": 6,
   "metadata": {},
   "outputs": [
    {
     "name": "stdout",
     "output_type": "stream",
     "text": [
      "'Garry, you are a wizard!' & 'Garry': true\n",
      "'Garry, you are a wizard!' & 'Garry ': false\n"
     ]
    }
   ],
   "source": [
    "var tests = new String[][] {\n",
    "    new String[] {\"Garry, you are a wizard!\", \"Garry\"},\n",
    "    new String[] {\"Garry, you are a wizard!\", \"Garry \"},\n",
    "};\n",
    "\n",
    "for (var test : tests) {\n",
    "    var result = contains(test[0], test[1]);\n",
    "    System.out.println(\"'\" + test[0] + \"' & '\" + test[1] + \"': \" + result);\n",
    "}"
   ]
  },
  {
   "cell_type": "markdown",
   "metadata": {},
   "source": [
    "=== C O M P A R E - T O ==="
   ]
  },
  {
   "cell_type": "code",
   "execution_count": null,
   "metadata": {},
   "outputs": [],
   "source": [
    "int compareTo(String str1, String str2) {\n",
    "    if(str1.length()>=str2.length()){\n",
    "        for(int i=0; i<str1.length(); i++){\n",
    "            \n",
    "        }\n",
    "    }\n",
    "    else (str1.length()<str2.length()){\n",
    "        for(int i=0; i<str2.length(); i++){\n",
    "\n",
    "        }\n",
    "    }\n",
    "    return 0;\n",
    "}"
   ]
  },
  {
   "cell_type": "code",
   "execution_count": null,
   "metadata": {},
   "outputs": [],
   "source": [
    "var tests = new String[][] {\n",
    "    new String[] {\"A\", \"B\"},\n",
    "    new String[] {\"B\", \"A\"},\n",
    "    new String[] {\"a\", \"B\"},\n",
    "    new String[] {\"b\", \"A\"},\n",
    "};\n",
    "\n",
    "for (var test : tests) {\n",
    "    var result = compareTo(test[0], test[1]);\n",
    "    System.out.println(\"'\" + test[0] + \"' & '\" + test[1] + \"': \" + result);\n",
    "}"
   ]
  },
  {
   "cell_type": "markdown",
   "metadata": {},
   "source": [
    "=== R E V E R S E ==="
   ]
  },
  {
   "cell_type": "code",
   "execution_count": null,
   "metadata": {},
   "outputs": [],
   "source": [
    "String reverse(String str) {\n",
    "    return str;\n",
    "}"
   ]
  },
  {
   "cell_type": "markdown",
   "metadata": {},
   "source": [
    "=== S P L I T ==="
   ]
  },
  {
   "cell_type": "code",
   "execution_count": null,
   "metadata": {},
   "outputs": [],
   "source": [
    "String[] split(String str, String delimeter) {\n",
    "    return new String[0];\n",
    "}"
   ]
  }
 ],
 "metadata": {
  "kernelspec": {
   "display_name": "Java",
   "language": "java",
   "name": "java"
  },
  "language_info": {
   "codemirror_mode": "java",
   "file_extension": ".jshell",
   "mimetype": "text/x-java-source",
   "name": "java",
   "pygments_lexer": "java",
   "version": "21.0.4+7-LTS"
  }
 },
 "nbformat": 4,
 "nbformat_minor": 2
}
