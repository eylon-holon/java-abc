{
 "cells": [
  {
   "cell_type": "markdown",
   "metadata": {},
   "source": [
    "=== I N D E X - O F ==="
   ]
  },
  {
   "cell_type": "code",
   "execution_count": 1,
   "metadata": {},
   "outputs": [],
   "source": [
    "int indexOf(String str, String subStr) {\n",
    "    if(str.length()<subStr.length())\n",
    "    {\n",
    "        return-1;\n",
    "    }\n",
    "\n",
    "    for(int i=0; i<str.length(); i++)\n",
    "    {\n",
    "        if(str.charAt(i)!=subStr.charAt(0))\n",
    "        {\n",
    "            continue;\n",
    "        }\n",
    "        if(str.length()-i<subStr.length())\n",
    "        {\n",
    "            return -1;\n",
    "        }\n",
    "        int charsMatched=0;\n",
    "        for(int j= 0; j < subStr.length(); j++)\n",
    "        {\n",
    "            if(subStr.charAt(j)!=str.charAt(i+j))\n",
    "            {\n",
    "                break;\n",
    "            }\n",
    "            charsMatched++;\n",
    "        }\n",
    "        if(charsMatched==subStr.length())\n",
    "        {\n",
    "            return i;\n",
    "        }\n",
    "    }\n",
    "    return -1;\n",
    "}\n"
   ]
  },
  {
   "cell_type": "code",
   "execution_count": 2,
   "metadata": {},
   "outputs": [
    {
     "name": "stdout",
     "output_type": "stream",
     "text": [
      "2\n"
     ]
    },
    {
     "name": "stdout",
     "output_type": "stream",
     "text": [
      "-1\n"
     ]
    }
   ],
   "source": [
    "System.out.println(indexOf(\"0 123 456 123\", \"123\"));\n",
    "System.out.println(indexOf(\"0 123 456 789\", \"132\"));"
   ]
  },
  {
   "cell_type": "markdown",
   "metadata": {},
   "source": [
    "=== L A S T - I N D E X - O F ==="
   ]
  },
  {
   "cell_type": "code",
   "execution_count": 6,
   "metadata": {},
   "outputs": [],
   "source": [
    "int lastIndexOf(String str, String subStr) {\n",
    "    if(str.length()<subStr.length())\n",
    "    {\n",
    "        return-1;\n",
    "    }\n",
    "\n",
    "    for(int i=str.length()-1; i>=0; i--)\n",
    "    {\n",
    "        if(str.charAt(i)!=subStr.charAt(0))\n",
    "        {\n",
    "            continue;\n",
    "        }\n",
    "        if(str.length()-i<subStr.length())\n",
    "        {\n",
    "            return -1;\n",
    "        }\n",
    "        int charsMatched=0;\n",
    "        for(int j= 0; j < subStr.length(); j++)\n",
    "        {\n",
    "            if(subStr.charAt(j)!=str.charAt(i+j))\n",
    "            {\n",
    "                break;\n",
    "            }\n",
    "            charsMatched++;\n",
    "        }\n",
    "        if(charsMatched==subStr.length())\n",
    "        {\n",
    "            return i;\n",
    "        }\n",
    "    }\n",
    "    return -1;\n",
    "}"
   ]
  },
  {
   "cell_type": "code",
   "execution_count": 7,
   "metadata": {},
   "outputs": [
    {
     "name": "stdout",
     "output_type": "stream",
     "text": [
      "10\n",
      "-1\n"
     ]
    }
   ],
   "source": [
    "System.out.println(lastIndexOf(\"0 123 456 123\", \"123\"));\n",
    "System.out.println(lastIndexOf(\"0 123 456 789\", \"132\"));"
   ]
  },
  {
   "cell_type": "markdown",
   "metadata": {},
   "source": [
    "=== I S - P A L I N D R O M E ==="
   ]
  },
  {
   "cell_type": "code",
   "execution_count": null,
   "metadata": {},
   "outputs": [],
   "source": [
    "boolean isPalindrome(String str) {\n",
    "    for (int i = 0; i < str.length() / 2; i++) {\n",
    "        var j = str.length() - i - 1;\n",
    "        if (str.charAt(i) != str.charAt(j))\n",
    "            return false;\n",
    "    }\n",
    "    return true;\n",
    "}\n"
   ]
  },
  {
   "cell_type": "code",
   "execution_count": null,
   "metadata": {},
   "outputs": [],
   "source": [
    "var words = new String[] {\n",
    "    \"a\",\n",
    "    \"aa\",\n",
    "    \"aba\",\n",
    "    \"abba\",\n",
    "    \"abca\",\n",
    "    \"1234567890987654321\",\n",
    "    \"abcabc\",\n",
    "};\n",
    "\n",
    "for (var word : words) {\n",
    "    System.out.println(word + \": \" + isPalindrome(word));\n",
    "}\n"
   ]
  },
  {
   "cell_type": "markdown",
   "metadata": {},
   "source": [
    "=== S T A R T S - W I T H ==="
   ]
  },
  {
   "cell_type": "code",
   "execution_count": 1,
   "metadata": {},
   "outputs": [],
   "source": [
    "boolean startsWith(String str, String prefix) {\n",
    "    if (prefix.length() > str.length()) {\n",
    "        return false;\n",
    "    }\n",
    "    for (int i = 0; i < prefix.length(); i++) {\n",
    "        if (str.charAt(i) != prefix.charAt(i)) {\n",
    "            return false;\n",
    "        }\n",
    "    }\n",
    "    return true;\n",
    "}\n"
   ]
  },
  {
   "cell_type": "code",
   "execution_count": 2,
   "metadata": {},
   "outputs": [
    {
     "name": "stdout",
     "output_type": "stream",
     "text": [
      "'Garry, you are a wizard!' & 'Garry': true\n",
      "'Garry, you are a wizard!' & 'Garry ': false\n"
     ]
    }
   ],
   "source": [
    "var tests = new String[][] {\n",
    "    new String[] {\"Garry, you are a wizard!\", \"Garry\"},\n",
    "    new String[] {\"Garry, you are a wizard!\", \"Garry \"},\n",
    "};\n",
    "\n",
    "for (var test : tests) {\n",
    "    var result = startsWith(test[0], test[1]);\n",
    "    System.out.println(\"'\" + test[0] + \"' & '\" + test[1] + \"': \" + result);\n",
    "}"
   ]
  },
  {
   "cell_type": "markdown",
   "metadata": {},
   "source": [
    "=== E N D S - W I T H ==="
   ]
  },
  {
   "cell_type": "code",
   "execution_count": null,
   "metadata": {},
   "outputs": [],
   "source": [
    "boolean endsWith(String str, String prefix) {\n",
    "    if (suffix.length() > str.length()) {\n",
    "        return false;\n",
    "    }\n",
    "    for (int i = 0; i < suffix.length(); i++) {\n",
    "        var curStrCh = str.charAt(str.length() - i - 1);\n",
    "        var curSuffixCh = suffix.charAt(suffix.length() - i - 1);\n",
    "        if (curStrCh != curSuffixCh) {\n",
    "            return false;\n",
    "        }\n",
    "    }\n",
    "    return true;\n",
    "}\n"
   ]
  },
  {
   "cell_type": "code",
   "execution_count": null,
   "metadata": {},
   "outputs": [],
   "source": [
    "class Test {\n",
    "    public String str;\n",
    "    public String suffix;\n",
    "\n",
    "    public Test(String str, String suffix) {\n",
    "        this.str = str;\n",
    "        this.suffix = suffix;\n",
    "    }\n",
    "}\n",
    "\n",
    "var tests = new Test[] {\n",
    "    new Test(\"12345678\", \"678\"),\n",
    "    new Test(\"12345678\", \"123\"),\n",
    "    new Test(\"12345678\", \"8\"),\n",
    "};\n",
    "\n",
    "for (var test: tests) {\n",
    "    var result = endsWith(test.str, test.suffix);\n",
    "    System.out.println(\"'\" + test.str + \"' & '\" + test.suffix + \"': \" + result);\n",
    "};"
   ]
  },
  {
   "cell_type": "markdown",
   "metadata": {},
   "source": [
    "=== C O N T A I N S ==="
   ]
  },
  {
   "cell_type": "code",
   "execution_count": null,
   "metadata": {},
   "outputs": [],
   "source": [
    "boolean contains(String str, String subStr) {\n",
    "    return indexOf(str, subStr) != -1;\n",
    "}\n"
   ]
  },
  {
   "cell_type": "code",
   "execution_count": null,
   "metadata": {},
   "outputs": [],
   "source": [
    "var tests = new String[][] {\n",
    "    new String[] {\"Garry, you are a wizard!\", \"Garry\"},\n",
    "    new String[] {\"Garry, you are a wizard!\", \"Garry \"},\n",
    "};\n",
    "\n",
    "for (var test : tests) {\n",
    "    var result = contains(test[0], test[1]);\n",
    "    System.out.println(\"'\" + test[0] + \"' & '\" + test[1] + \"': \" + result);\n",
    "}"
   ]
  },
  {
   "cell_type": "markdown",
   "metadata": {},
   "source": [
    "=== C O M P A R E - T O ==="
   ]
  },
  {
   "cell_type": "code",
   "execution_count": 5,
   "metadata": {},
   "outputs": [],
   "source": [
    "int compareTo(String str1, String str2) {\n",
    "    for (int i = 0; true; i++) {\n",
    "        if (i == str1.length() && i == str2.length()) {\n",
    "            return 0;\n",
    "        }\n",
    "        if (i == str1.length()) {\n",
    "            return -1;\n",
    "        }\n",
    "        if (i == str2.length()) {\n",
    "            return +1;\n",
    "        }\n",
    "        var ch1 = str1.charAt(i);\n",
    "        var ch2 = str2.charAt(i);\n",
    "        if (ch1 != ch2) {\n",
    "            return ch1 < ch2 ? -1 : +1;\n",
    "        }\n",
    "    }\n",
    "}\n"
   ]
  },
  {
   "cell_type": "code",
   "execution_count": null,
   "metadata": {},
   "outputs": [],
   "source": [
    "var tests = new String[][] {\n",
    "    new String[] {\"A\", \"B\"},\n",
    "    new String[] {\"B\", \"A\"},\n",
    "    new String[] {\"a\", \"B\"},\n",
    "    new String[] {\"b\", \"A\"},\n",
    "};\n",
    "\n",
    "for (var test : tests) {\n",
    "    var result = compareTo(test[0], test[1]);\n",
    "    System.out.println(\"'\" + test[0] + \"' & '\" + test[1] + \"': \" + result);\n",
    "}"
   ]
  },
  {
   "cell_type": "markdown",
   "metadata": {},
   "source": [
    "=== R E V E R S E ==="
   ]
  },
  {
   "cell_type": "code",
   "execution_count": 6,
   "metadata": {},
   "outputs": [],
   "source": [
    "String reverse(String str) {\n",
    "    var rev = \"\";\n",
    "    for (int i = 0; i < str.length(); i++) {\n",
    "        rev += str.charAt(str.length() - i - 1);\n",
    "    }\n",
    "    return rev;\n",
    "}"
   ]
  },
  {
   "cell_type": "markdown",
   "metadata": {},
   "source": [
    "=== S P L I T ==="
   ]
  },
  {
   "cell_type": "code",
   "execution_count": 7,
   "metadata": {},
   "outputs": [],
   "source": [
    "String[] split(String str, String delimeter) {\n",
    "    // count words\n",
    "    int count = 1;      // no delimeters => one word\n",
    "\n",
    "    for (int i = 0; i < str.length(); i++) {\n",
    "        if (str.charAt(i) == delimeter.charAt(0)) {\n",
    "            count++;\n",
    "        }\n",
    "    }\n",
    "\n",
    "    var words = new String[count];\n",
    "    int nextAt = 0;\n",
    "\n",
    "    while (str.length() > 0) {\n",
    "        // get length of the first (next) word in string\n",
    "        var len = indexOf(str, delimeter);\n",
    "        if (len == -1) {\n",
    "            len = str.length();\n",
    "        }\n",
    "\n",
    "        var word = str.substring(0, len);       // chope the next word\n",
    "        words[nextAt++] = word;                 // expression and operation\n",
    "\n",
    "        str = str.substring(len);               // remove it from the string\n",
    "\n",
    "        // remove delimeter if there\n",
    "        if (str.length() > 0) {\n",
    "            str = str.substring(1);\n",
    "        }\n",
    "    }\n",
    "\n",
    "    if (nextAt != count) {\n",
    "        System.out.println(\"Something went wrong: wordCount=\" + count + \" nextAt=\" + nextAt);\n",
    "    }\n",
    "\n",
    "    return words;\n",
    "}"
   ]
  }
 ],
 "metadata": {
  "kernelspec": {
   "display_name": "Java",
   "language": "java",
   "name": "java"
  },
  "language_info": {
   "codemirror_mode": "java",
   "file_extension": ".jshell",
   "mimetype": "text/x-java-source",
   "name": "java",
   "pygments_lexer": "java",
   "version": "21.0.4+7-LTS"
  }
 },
 "nbformat": 4,
 "nbformat_minor": 2
}
