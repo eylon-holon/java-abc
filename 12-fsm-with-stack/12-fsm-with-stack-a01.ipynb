{
 "cells": [
  {
   "cell_type": "markdown",
   "metadata": {},
   "source": [
    "בכל התרגילים תבנו מכונות וקודדו את הבדיקות"
   ]
  },
  {
   "cell_type": "markdown",
   "metadata": {},
   "source": [
    "![](img/12-fms-with-stack-a01-q01.png)"
   ]
  },
  {
   "cell_type": "code",
   "execution_count": 1,
   "metadata": {
    "vscode": {
     "languageId": "java"
    }
   },
   "outputs": [
    {
     "name": "stdout",
     "output_type": "stream",
     "text": [
      "'' : true \n",
      "'abbb' : true \n",
      "'abbbabbb' : true \n",
      "'abbba' : false \n",
      "'ab' : false \n",
      "'abb' : false \n"
     ]
    }
   ],
   "source": [
    "%load fsm\n",
    "var fsm = fsmFromMermaid(\"Q-01\", \"12-fsm-with-stack-a01.dib\");\n",
    "accept(fsm, \"\", \"abbb\", \"abbbabbb\");\n",
    "accept(fsm, \"abbba\", \"ab\", \"abb\");"
   ]
  },
  {
   "cell_type": "markdown",
   "metadata": {},
   "source": [
    "![](img/12-fms-with-stack-a01-q02.png)"
   ]
  },
  {
   "cell_type": "code",
   "execution_count": 2,
   "metadata": {
    "vscode": {
     "languageId": "java"
    }
   },
   "outputs": [
    {
     "name": "stdout",
     "output_type": "stream",
     "text": [
      "'aaab' : true \n",
      "'aaabaaab' : true \n",
      "'' : false \n",
      "'aaaba' : false \n",
      "'aa' : false \n"
     ]
    }
   ],
   "source": [
    "%load fsm\n",
    "var fsm = fsmFromMermaid(\"Q-02\", \"12-fsm-with-stack-a01.dib\");\n",
    "accept(fsm, \"aaab\", \"aaabaaab\");\n",
    "accept(fsm, \"\", \"aaaba\", \"aa\");"
   ]
  },
  {
   "cell_type": "markdown",
   "metadata": {},
   "source": [
    "![](img/12-fms-with-stack-a01-q03.png)"
   ]
  },
  {
   "cell_type": "code",
   "execution_count": 3,
   "metadata": {
    "vscode": {
     "languageId": "java"
    }
   },
   "outputs": [
    {
     "name": "stdout",
     "output_type": "stream",
     "text": [
      "'a' : true \n",
      "'aabbb' : true \n",
      "'aabbbaabbb' : true \n",
      "'aabbba' : false \n",
      "'aabbbaa' : false \n",
      "'aabb' : false \n"
     ]
    }
   ],
   "source": [
    "%load fsm\n",
    "var fsm = fsmFromMermaid(\"Q-03\", \"12-fsm-with-stack-a01.dib\");\n",
    "accept(fsm, \"a\", \"aabbb\", \"aabbbaabbb\");\n",
    "accept(fsm, \"aabbba\", \"aabbbaa\", \"aabb\");"
   ]
  },
  {
   "cell_type": "markdown",
   "metadata": {},
   "source": [
    "![](img/12-fms-with-stack-a01-q04.png)"
   ]
  },
  {
   "cell_type": "code",
   "execution_count": 5,
   "metadata": {
    "vscode": {
     "languageId": "java"
    }
   },
   "outputs": [
    {
     "name": "stdout",
     "output_type": "stream",
     "text": [
      "'aabb' : true \n",
      "'aabbaabb' : true \n",
      "'aaabbbbb' : true \n",
      "'aaabbbbbaabb' : true \n",
      "'aabba' : false \n",
      "'aaabb' : false \n",
      "ERROR in q4: No transition for 'b' is defined\n",
      "'aaabbbbbaabbb' : false \n"
     ]
    }
   ],
   "source": [
    "%load fsm\n",
    "var fsm = fsmFromMermaid(\"Q-04\", \"12-fsm-with-stack-a01.dib\");\n",
    "accept(fsm, \"aabb\", \"aabbaabb\", \"aaabbbbb\", \"aaabbbbbaabb\");\n",
    "accept(fsm, \"aabba\", \"aaabb\", \"aaabbbbbaabbb\");"
   ]
  },
  {
   "cell_type": "markdown",
   "metadata": {},
   "source": [
    "![](img/12-fms-with-stack-a01-q05.png)"
   ]
  },
  {
   "cell_type": "code",
   "execution_count": null,
   "metadata": {
    "vscode": {
     "languageId": "java"
    }
   },
   "outputs": [],
   "source": [
    "%load fsm\n",
    "var fsm = fsmFromMermaid(\"Q-05\", \"12-fsm-with-stack-a01.dib\");\n",
    "accept(fsm, \"?\", \"?\", \"?\");\n",
    "accept(fsm, \"?\", \"?\", \"?\");"
   ]
  },
  {
   "cell_type": "markdown",
   "metadata": {},
   "source": [
    "![](img/12-fms-with-stack-a01-q06.png)"
   ]
  },
  {
   "cell_type": "code",
   "execution_count": 1,
   "metadata": {
    "vscode": {
     "languageId": "java"
    }
   },
   "outputs": [
    {
     "name": "stdout",
     "output_type": "stream",
     "text": [
      "'' : true \n",
      "'ab' : true \n",
      "'abababab' : true \n",
      "'aba' : false \n",
      "'a' : false \n",
      "'ababa' : false \n"
     ]
    }
   ],
   "source": [
    "%load fsm\n",
    "var fsm = fsmFromMermaid(\"Q-06\", \"12-fsm-with-stack-a01.dib\");\n",
    "accept(fsm, \"\", \"ab\", \"abababab\");\n",
    "accept(fsm, \"aba\", \"a\", \"ababa\");"
   ]
  },
  {
   "cell_type": "markdown",
   "metadata": {},
   "source": [
    "![](img/12-fms-with-stack-a01-q07.png)"
   ]
  },
  {
   "cell_type": "code",
   "execution_count": null,
   "metadata": {
    "vscode": {
     "languageId": "java"
    }
   },
   "outputs": [],
   "source": [
    "%load fsm\n",
    "var fsm = fsmFromMermaid(\"Q-07\", \"12-fsm-with-stack-a01.dib\");\n",
    "accept(fsm, \"?\", \"?\", \"?\");\n",
    "accept(fsm, \"?\", \"?\", \"?\");"
   ]
  }
 ],
 "metadata": {
  "kernelspec": {
   "display_name": "Java",
   "language": "java",
   "name": "java"
  },
  "language_info": {
   "codemirror_mode": "java",
   "file_extension": ".jshell",
   "mimetype": "text/x-java-source",
   "name": "Java",
   "pygments_lexer": "java",
   "version": "21.0.4+7-LTS"
  }
 },
 "nbformat": 4,
 "nbformat_minor": 2
}
