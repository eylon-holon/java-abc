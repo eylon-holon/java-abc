{
 "cells": [
  {
   "cell_type": "markdown",
   "metadata": {},
   "source": [
    "בכל התרגילים תבנו מכונות וקודדו את הבדיקות"
   ]
  },
  {
   "cell_type": "markdown",
   "metadata": {},
   "source": [
    "![](img/12-fms-with-stack-a01-q01.png)"
   ]
  },
  {
   "cell_type": "code",
   "execution_count": 8,
   "metadata": {},
   "outputs": [
    {
     "name": "stdout",
     "output_type": "stream",
     "text": [
      "FSM┴['Q-01']: accepting word 'aaabbbbbbbbb'\n",
      "  'a': q0 --> q1 (a ┴|push SSS) [┴SSS]\n",
      "  'a': q1 --> q1 (a S|push AAA) [┴SSSAAA]\n",
      "  'a': q1 --> q1 (a A|push AAA) [┴SSSAAAAAA]\n",
      "  'b': q1 --> q1 (b A|pop A) [┴SSSAAAAA]\n",
      "  'b': q1 --> q1 (b A|pop A) [┴SSSAAAA]\n",
      "  'b': q1 --> q1 (b A|pop A) [┴SSSAAA]\n",
      "  'b': q1 --> q1 (b A|pop A) [┴SSSAA]\n",
      "  'b': q1 --> q1 (b A|pop A) [┴SSSA]\n",
      "  'b': q1 --> q1 (b A|pop A) [┴SSS]\n",
      "  'b': q1 --> q2 (b S|pop S) [┴SS]\n",
      "  'b': q2 --> q3 (b S|pop S) [┴S]\n",
      "  'b': q3 --> q4 (b S|pop S) [┴]\n",
      "'aaabbbbbbbbb' : true \n",
      "FSM┴['Q-01']: accepting word 'abba'\n",
      "  'a': q0 --> q1 (a ┴|push SSS) [┴SSS]\n",
      "  'b': q1 --> q2 (b S|pop S) [┴SS]\n",
      "  'b': q2 --> q3 (b S|pop S) [┴S]\n",
      "ERROR in q3: Can't find transition for letter 'a'\n",
      "'abba' : false \n",
      "FSM┴['Q-01']: accepting word 'abb'\n",
      "ERROR in q0: Can't find transition for letter 'a'\n",
      "'abb' : false \n",
      "FSM┴['Q-01']: accepting word 'ababab'\n",
      "ERROR in q0: Can't find transition for letter 'a'\n",
      "'ababab' : false \n"
     ]
    }
   ],
   "source": [
    "%load fsm\n",
    "var fsm = fsmFromMermaid(\"Q-01\", \"12-fsm-with-stack-a01.dib\");\n",
    "accept(fsm, true, \"aaabbbbbbbbb\");\n",
    "accept(fsm, true, \"abba\", \"abb\", \"ababab\");"
   ]
  },
  {
   "cell_type": "markdown",
   "metadata": {},
   "source": [
    "![](img/12-fms-with-stack-a01-q02.png)"
   ]
  },
  {
   "cell_type": "code",
   "execution_count": 8,
   "metadata": {},
   "outputs": [
    {
     "name": "stdout",
     "output_type": "stream",
     "text": [
      "FSM┴['Q-02']: accepting word 'aaab'\n",
      "  'a': q0 --> q1 (a ┴|nop) [┴]\n",
      "  'a': q1 --> q2 (a ┴|nop) [┴]\n",
      "  'a': q2 --> q3 (a ┴|push A) [┴A]\n",
      "  'b': q3 --> q4 (b A|pop A) [┴]\n",
      "'aaab' : true \n",
      "FSM┴['Q-02']: accepting word 'aaaaaabb'\n",
      "  'a': q0 --> q1 (a ┴|nop) [┴]\n",
      "  'a': q1 --> q2 (a ┴|nop) [┴]\n",
      "  'a': q2 --> q3 (a ┴|push A) [┴A]\n",
      "  'a': q3 --> q1 (a A|push S) [┴AS]\n",
      "  'a': q1 --> q2 (a S|nop) [┴AS]\n",
      "  'a': q2 --> q3 (a S|nop) [┴AS]\n",
      "  'b': q3 --> q3 (b S|pop S) [┴A]\n",
      "  'b': q3 --> q4 (b A|pop A) [┴]\n",
      "'aaaaaabb' : true \n",
      "FSM┴['Q-02']: accepting word 'aaaaaaaaabbb'\n",
      "  'a': q0 --> q1 (a ┴|nop) [┴]\n",
      "  'a': q1 --> q2 (a ┴|nop) [┴]\n",
      "  'a': q2 --> q3 (a ┴|push A) [┴A]\n",
      "  'a': q3 --> q1 (a A|push S) [┴AS]\n",
      "  'a': q1 --> q2 (a S|nop) [┴AS]\n",
      "  'a': q2 --> q3 (a S|nop) [┴AS]\n",
      "  'a': q3 --> q1 (a S|push S) [┴ASS]\n",
      "  'a': q1 --> q2 (a S|nop) [┴ASS]\n",
      "  'a': q2 --> q3 (a S|nop) [┴ASS]\n",
      "  'b': q3 --> q3 (b S|pop S) [┴AS]\n",
      "  'b': q3 --> q3 (b S|pop S) [┴A]\n",
      "  'b': q3 --> q4 (b A|pop A) [┴]\n",
      "'aaaaaaaaabbb' : true \n",
      "FSM┴['Q-02']: accepting word 'aaaabbbb'\n",
      "  'a': q0 --> q1 (a ┴|nop) [┴]\n",
      "  'a': q1 --> q2 (a ┴|nop) [┴]\n",
      "  'a': q2 --> q3 (a ┴|push A) [┴A]\n",
      "  'a': q3 --> q1 (a A|push S) [┴AS]\n",
      "ERROR in q1: Can't find transition for letter 'b'\n",
      "'aaaabbbb' : false \n",
      "FSM┴['Q-02']: accepting word 'aaabb'\n",
      "ERROR in q0: Can't find transition for letter 'a'\n",
      "'aaabb' : false \n",
      "FSM┴['Q-02']: accepting word 'aaaaabbbbbbbbbb'\n",
      "ERROR in q0: Can't find transition for letter 'a'\n",
      "'aaaaabbbbbbbbbb' : false \n"
     ]
    }
   ],
   "source": [
    "%load fsm\n",
    "var fsm = fsmFromMermaid(\"Q-02\", \"12-fsm-with-stack-a01.dib\");\n",
    "accept(fsm, true, \"aaab\", \"aaaaaabb\", \"aaaaaaaaabbb\");\n",
    "accept(fsm,true, \"aaaabbbb\", \"aaabb\", \"aaaaabbbbbbbbbb\");"
   ]
  },
  {
   "cell_type": "markdown",
   "metadata": {},
   "source": [
    "![](img/12-fms-with-stack-a01-q03.png)"
   ]
  },
  {
   "cell_type": "code",
   "execution_count": null,
   "metadata": {},
   "outputs": [],
   "source": [
    "%load fsm\n",
    "var fsm = fsmFromMermaid(\"Q-03\", \"12-fsm-with-stack-a01.dib\");\n",
    "accept(fsm, \"?\", \"?\", \"?\");\n",
    "accept(fsm, \"?\", \"?\", \"?\");"
   ]
  },
  {
   "cell_type": "markdown",
   "metadata": {},
   "source": [
    "![](img/12-fms-with-stack-a01-q04.png)"
   ]
  },
  {
   "cell_type": "code",
   "execution_count": null,
   "metadata": {},
   "outputs": [],
   "source": [
    "%load fsm\n",
    "var fsm = fsmFromMermaid(\"Q-04\", \"12-fsm-with-stack-a01.dib\");\n",
    "accept(fsm, \"?\", \"?\", \"?\");\n",
    "accept(fsm, \"?\", \"?\", \"?\");"
   ]
  },
  {
   "cell_type": "markdown",
   "metadata": {},
   "source": [
    "![](img/12-fms-with-stack-a01-q05.png)"
   ]
  },
  {
   "cell_type": "code",
   "execution_count": null,
   "metadata": {},
   "outputs": [],
   "source": [
    "%load fsm\n",
    "var fsm = fsmFromMermaid(\"Q-05\", \"12-fsm-with-stack-a01.dib\");\n",
    "accept(fsm, \"?\", \"?\", \"?\");\n",
    "accept(fsm, \"?\", \"?\", \"?\");"
   ]
  },
  {
   "cell_type": "markdown",
   "metadata": {},
   "source": [
    "![](img/12-fms-with-stack-a01-q06.png)"
   ]
  },
  {
   "cell_type": "code",
   "execution_count": null,
   "metadata": {},
   "outputs": [],
   "source": [
    "%load fsm\n",
    "var fsm = fsmFromMermaid(\"Q-06\", \"12-fsm-with-stack-a01.dib\");\n",
    "accept(fsm, \"?\", \"?\", \"?\");\n",
    "accept(fsm, \"?\", \"?\", \"?\");"
   ]
  },
  {
   "cell_type": "markdown",
   "metadata": {},
   "source": [
    "![](img/12-fms-with-stack-a01-q07.png)"
   ]
  },
  {
   "cell_type": "code",
   "execution_count": null,
   "metadata": {},
   "outputs": [],
   "source": [
    "%load fsm\n",
    "var fsm = fsmFromMermaid(\"Q-07\", \"12-fsm-with-stack-a01.dib\");\n",
    "accept(fsm, \"?\", \"?\", \"?\");\n",
    "accept(fsm, \"?\", \"?\", \"?\");"
   ]
  }
 ],
 "metadata": {
  "kernelspec": {
   "display_name": "Java",
   "language": "java",
   "name": "java"
  },
  "language_info": {
   "codemirror_mode": "java",
   "file_extension": ".jshell",
   "mimetype": "text/x-java-source",
   "name": "java",
   "pygments_lexer": "java",
   "version": "21.0.4+7-LTS"
  }
 },
 "nbformat": 4,
 "nbformat_minor": 2
}
