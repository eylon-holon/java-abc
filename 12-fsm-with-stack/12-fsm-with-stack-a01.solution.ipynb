{
 "cells": [
  {
   "cell_type": "markdown",
   "metadata": {},
   "source": [
    "בכל התרגילים תבנו מכונות וקודדו את הבדיקות"
   ]
  },
  {
   "cell_type": "markdown",
   "metadata": {},
   "source": [
    "![](img/12-fms-with-stack-a01-q01.png)"
   ]
  },
  {
   "cell_type": "code",
   "execution_count": 2,
   "metadata": {
    "vscode": {
     "languageId": "java"
    }
   },
   "outputs": [
    {
     "name": "stdout",
     "output_type": "stream",
     "text": [
      "FSM┴['Q-01']: accepting word ''\n",
      "'' : true \n",
      "FSM┴['Q-01']: accepting word 'abbb'\n",
      "  'a': q0 --> q1 (a ┴|push SAA) [┴SAA]\n",
      "  'b': q1 --> q2 (b A|pop A) [┴SA]\n",
      "  'b': q2 --> q2 (b A|pop A) [┴S]\n",
      "  'b': q2 --> q3 (b S|pop S) [┴]\n",
      "'abbb' : true \n",
      "FSM┴['Q-01']: accepting word 'aabbbbbb'\n",
      "  'a': q0 --> q1 (a ┴|push SAA) [┴SAA]\n",
      "  'a': q1 --> q1 (a A|push AAA) [┴SAAAAA]\n",
      "  'b': q1 --> q2 (b A|pop A) [┴SAAAA]\n",
      "  'b': q2 --> q2 (b A|pop A) [┴SAAA]\n",
      "  'b': q2 --> q2 (b A|pop A) [┴SAA]\n",
      "  'b': q2 --> q2 (b A|pop A) [┴SA]\n",
      "  'b': q2 --> q2 (b A|pop A) [┴S]\n",
      "  'b': q2 --> q3 (b S|pop S) [┴]\n",
      "'aabbbbbb' : true \n",
      "FSM┴['Q-01']: accepting word 'aaabbbbbbbbb'\n",
      "  'a': q0 --> q1 (a ┴|push SAA) [┴SAA]\n",
      "  'a': q1 --> q1 (a A|push AAA) [┴SAAAAA]\n",
      "  'a': q1 --> q1 (a A|push AAA) [┴SAAAAAAAA]\n",
      "  'b': q1 --> q2 (b A|pop A) [┴SAAAAAAA]\n",
      "  'b': q2 --> q2 (b A|pop A) [┴SAAAAAA]\n",
      "  'b': q2 --> q2 (b A|pop A) [┴SAAAAA]\n",
      "  'b': q2 --> q2 (b A|pop A) [┴SAAAA]\n",
      "  'b': q2 --> q2 (b A|pop A) [┴SAAA]\n",
      "  'b': q2 --> q2 (b A|pop A) [┴SAA]\n",
      "  'b': q2 --> q2 (b A|pop A) [┴SA]\n",
      "  'b': q2 --> q2 (b A|pop A) [┴S]\n",
      "  'b': q2 --> q3 (b S|pop S) [┴]\n",
      "'aaabbbbbbbbb' : true \n",
      "FSM┴['Q-01']: accepting word 'ab'\n",
      "  'a': q0 --> q1 (a ┴|push SAA) [┴SAA]\n",
      "  'b': q1 --> q2 (b A|pop A) [┴SA]\n",
      "'ab' : false \n",
      "FSM┴['Q-01']: accepting word 'abb'\n",
      "  'a': q0 --> q1 (a ┴|push SAA) [┴SAA]\n",
      "  'b': q1 --> q2 (b A|pop A) [┴SA]\n",
      "  'b': q2 --> q2 (b A|pop A) [┴S]\n",
      "'abb' : false \n",
      "FSM┴['Q-01']: accepting word 'aabbbb'\n",
      "  'a': q0 --> q1 (a ┴|push SAA) [┴SAA]\n",
      "  'a': q1 --> q1 (a A|push AAA) [┴SAAAAA]\n",
      "  'b': q1 --> q2 (b A|pop A) [┴SAAAA]\n",
      "  'b': q2 --> q2 (b A|pop A) [┴SAAA]\n",
      "  'b': q2 --> q2 (b A|pop A) [┴SAA]\n",
      "  'b': q2 --> q2 (b A|pop A) [┴SA]\n",
      "'aabbbb' : false \n",
      "FSM┴['Q-01']: accepting word 'aabbbbb'\n",
      "  'a': q0 --> q1 (a ┴|push SAA) [┴SAA]\n",
      "  'a': q1 --> q1 (a A|push AAA) [┴SAAAAA]\n",
      "  'b': q1 --> q2 (b A|pop A) [┴SAAAA]\n",
      "  'b': q2 --> q2 (b A|pop A) [┴SAAA]\n",
      "  'b': q2 --> q2 (b A|pop A) [┴SAA]\n",
      "  'b': q2 --> q2 (b A|pop A) [┴SA]\n",
      "  'b': q2 --> q2 (b A|pop A) [┴S]\n",
      "'aabbbbb' : false \n",
      "FSM┴['Q-01']: accepting word 'abbbb'\n",
      "  'a': q0 --> q1 (a ┴|push SAA) [┴SAA]\n",
      "  'b': q1 --> q2 (b A|pop A) [┴SA]\n",
      "  'b': q2 --> q2 (b A|pop A) [┴S]\n",
      "  'b': q2 --> q3 (b S|pop S) [┴]\n",
      "  ERROR in q3: Can't find transition for condition 'b ┴'\n",
      "'abbbb' : false \n"
     ]
    }
   ],
   "source": [
    "%load fsm\n",
    "var fsm = fsmFromMermaid(\"Q-01\", \"12-fsm-with-stack-a01.solution.dib\");\n",
    "accept(fsm, \"\", \"abbb\", \"aabbbbbb\", \"aaabbbbbbbbb\");\n",
    "accept(fsm, \"ab\", \"abb\", \"aabbbb\", \"aabbbbb\", \"abbbb\");"
   ]
  },
  {
   "cell_type": "markdown",
   "metadata": {},
   "source": [
    "![](img/12-fms-with-stack-a01-q02.png)"
   ]
  },
  {
   "cell_type": "code",
   "execution_count": null,
   "metadata": {
    "vscode": {
     "languageId": "java"
    }
   },
   "outputs": [],
   "source": [
    "%load fsm\n",
    "var fsm = fsmFromMermaid(\"Q-02\", \"12-fsm-with-stack-a01.solution.dib\");\n",
    "accept(fsm, \"aaab\", \"aaaaaabb\", \"aaaaaaaaabbb\");\n",
    "accept(fsm, \"\", \"aab\", \"aaaab\", \"aaaabb\", \"aabb\");"
   ]
  },
  {
   "cell_type": "markdown",
   "metadata": {},
   "source": [
    "![](img/12-fms-with-stack-a01-q03.png)"
   ]
  },
  {
   "cell_type": "code",
   "execution_count": null,
   "metadata": {
    "vscode": {
     "languageId": "java"
    }
   },
   "outputs": [],
   "source": [
    "%load fsm\n",
    "var fsm = fsmFromMermaid(\"Q-03\", \"12-fsm-with-stack-a01.dib\");\n",
    "accept(fsm, \"?\", \"?\", \"?\");\n",
    "accept(fsm, \"?\", \"?\", \"?\");"
   ]
  },
  {
   "cell_type": "markdown",
   "metadata": {},
   "source": [
    "![](img/12-fms-with-stack-a01-q04.png)"
   ]
  },
  {
   "cell_type": "code",
   "execution_count": null,
   "metadata": {
    "vscode": {
     "languageId": "java"
    }
   },
   "outputs": [],
   "source": [
    "%load fsm\n",
    "var fsm = fsmFromMermaid(\"Q-04\", \"12-fsm-with-stack-a01.dib\");\n",
    "accept(fsm, \"?\", \"?\", \"?\");\n",
    "accept(fsm, \"?\", \"?\", \"?\");"
   ]
  },
  {
   "cell_type": "markdown",
   "metadata": {},
   "source": [
    "![](img/12-fms-with-stack-a01-q05.png)"
   ]
  },
  {
   "cell_type": "code",
   "execution_count": null,
   "metadata": {
    "vscode": {
     "languageId": "java"
    }
   },
   "outputs": [],
   "source": [
    "%load fsm\n",
    "var fsm = fsmFromMermaid(\"Q-05\", \"12-fsm-with-stack-a01.dib\");\n",
    "accept(fsm, \"?\", \"?\", \"?\");\n",
    "accept(fsm, \"?\", \"?\", \"?\");"
   ]
  },
  {
   "cell_type": "markdown",
   "metadata": {},
   "source": [
    "![](img/12-fms-with-stack-a01-q06.png)"
   ]
  },
  {
   "cell_type": "code",
   "execution_count": null,
   "metadata": {
    "vscode": {
     "languageId": "java"
    }
   },
   "outputs": [],
   "source": [
    "%load fsm\n",
    "var fsm = fsmFromMermaid(\"Q-06\", \"12-fsm-with-stack-a01.dib\");\n",
    "accept(fsm, \"?\", \"?\", \"?\");\n",
    "accept(fsm, \"?\", \"?\", \"?\");"
   ]
  },
  {
   "cell_type": "markdown",
   "metadata": {},
   "source": [
    "![](img/12-fms-with-stack-a01-q07.png)"
   ]
  },
  {
   "cell_type": "code",
   "execution_count": null,
   "metadata": {
    "vscode": {
     "languageId": "java"
    }
   },
   "outputs": [],
   "source": [
    "%load fsm\n",
    "var fsm = fsmFromMermaid(\"Q-07\", \"12-fsm-with-stack-a01.dib\");\n",
    "accept(fsm, \"?\", \"?\", \"?\");\n",
    "accept(fsm, \"?\", \"?\", \"?\");"
   ]
  }
 ],
 "metadata": {
  "kernelspec": {
   "display_name": "Java",
   "language": "java",
   "name": "java"
  },
  "language_info": {
   "codemirror_mode": "java",
   "file_extension": ".jshell",
   "mimetype": "text/x-java-source",
   "name": "Java",
   "pygments_lexer": "java",
   "version": "21.0.4+7-LTS"
  }
 },
 "nbformat": 4,
 "nbformat_minor": 2
}
