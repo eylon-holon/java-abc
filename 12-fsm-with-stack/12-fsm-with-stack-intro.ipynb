{
 "cells": [
  {
   "cell_type": "markdown",
   "metadata": {},
   "source": [
    "![](img/12-fsm-with-stack-intro-a^n-b^n.png)"
   ]
  },
  {
   "cell_type": "code",
   "execution_count": null,
   "metadata": {
    "vscode": {
     "languageId": "java"
    }
   },
   "outputs": [],
   "source": [
    "%load fsm\n",
    "var fsm = fsmFromMermaid(\"a^n-b^n\", \"12-fsm-with-stack-intro.dib\");\n",
    "accept(fsm, true, \"aabb\");\n"
   ]
  },
  {
   "cell_type": "code",
   "execution_count": null,
   "metadata": {
    "vscode": {
     "languageId": "java"
    }
   },
   "outputs": [],
   "source": [
    "%load fsm\n",
    "var fsm = fsmFromMermaid(\"a^n-b^n\", \"12-fsm-with-stack-intro.dib\");\n",
    "accept(fsm, \"\", \"ab\", \"aabb\", \"aaabbb\");\n",
    "accept(fsm, \"a\", \"b\", \"aab\", \"abb\", \"aaabb\");"
   ]
  },
  {
   "cell_type": "markdown",
   "metadata": {},
   "source": [
    "![](img/12-fsm-with-stack-intro-01.png)   "
   ]
  },
  {
   "cell_type": "code",
   "execution_count": null,
   "metadata": {
    "vscode": {
     "languageId": "java"
    }
   },
   "outputs": [],
   "source": [
    "%load fsm\n",
    "var fsm = fsmFromMermaid(\"intro\", \"12-fsm-with-stack-intro.dib\");\n",
    "accept(fsm, true, \"aaabbbbb\");"
   ]
  }
 ],
 "metadata": {
  "kernelspec": {
   "display_name": "Java",
   "language": "java",
   "name": "java"
  },
  "language_info": {
   "codemirror_mode": "java",
   "file_extension": ".jshell",
   "mimetype": "text/x-java-source",
   "name": "Java",
   "pygments_lexer": "java",
   "version": "23+37-2369"
  }
 },
 "nbformat": 4,
 "nbformat_minor": 2
}
