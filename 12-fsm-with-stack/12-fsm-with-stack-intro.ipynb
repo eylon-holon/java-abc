{
 "cells": [
  {
   "cell_type": "markdown",
   "metadata": {},
   "source": [
    "![](img/12-fsm-with-stack-intro-a^n-b^n.png)"
   ]
  },
  {
   "cell_type": "code",
   "execution_count": 1,
   "metadata": {},
   "outputs": [
    {
     "name": "stdout",
     "output_type": "stream",
     "text": [
      "FSM┴['a^n-b^n']: accepting word 'aabb'\n",
      "  'a': q0 --> q1 (a ┴|push S) [┴S]\n",
      "  'a': q1 --> q1 (a S|push A) [┴SA]\n",
      "  'b': q1 --> q2 (b A|pop A) [┴S]\n",
      "  'b': q2 --> q3 (b S|pop S) [┴]\n",
      "'aabb' : true \n"
     ]
    }
   ],
   "source": [
    "%load fsm\n",
    "var fsm = fsmFromMermaid(\"a^n-b^n\", \"12-fsm-with-stack-intro.dib\");\n",
    "accept(fsm, true, \"aabb\");\n"
   ]
  },
  {
   "cell_type": "code",
   "execution_count": 3,
   "metadata": {},
   "outputs": [
    {
     "name": "stdout",
     "output_type": "stream",
     "text": [
      "FSM┴['a^n-b^n']: accepting word ''\n",
      "'' : true \n",
      "FSM┴['a^n-b^n']: accepting word 'ab'\n",
      "  'a': q0 --> q1 (a ┴|push S) [┴S]\n",
      "  'b': q1 --> q3 (b S|pop S) [┴]\n",
      "'ab' : true \n",
      "FSM┴['a^n-b^n']: accepting word 'aabb'\n",
      "  'a': q0 --> q1 (a ┴|push S) [┴S]\n",
      "  'a': q1 --> q1 (a S|push A) [┴SA]\n",
      "  'b': q1 --> q2 (b A|pop A) [┴S]\n",
      "  'b': q2 --> q3 (b S|pop S) [┴]\n",
      "'aabb' : true \n",
      "FSM┴['a^n-b^n']: accepting word 'aaabbb'\n",
      "  'a': q0 --> q1 (a ┴|push S) [┴S]\n",
      "  'a': q1 --> q1 (a S|push A) [┴SA]\n",
      "  'a': q1 --> q1 (a A|push A) [┴SAA]\n",
      "  'b': q1 --> q2 (b A|pop A) [┴SA]\n",
      "  'b': q2 --> q2 (b A|pop A) [┴S]\n",
      "  'b': q2 --> q3 (b S|pop S) [┴]\n",
      "'aaabbb' : true \n",
      "FSM┴['a^n-b^n']: accepting word 'a'\n",
      "  'a': q0 --> q1 (a ┴|push S) [┴S]\n",
      "'a' : false \n",
      "FSM┴['a^n-b^n']: accepting word 'b'\n",
      "ERROR in q0: Can't find transition for letter 'b'\n",
      "'b' : false \n",
      "FSM┴['a^n-b^n']: accepting word 'aab'\n",
      "ERROR in q0: Can't find transition for letter 'a'\n",
      "'aab' : false \n",
      "FSM┴['a^n-b^n']: accepting word 'abb'\n",
      "ERROR in q0: Can't find transition for letter 'a'\n",
      "'abb' : false \n",
      "FSM┴['a^n-b^n']: accepting word 'aaabb'\n",
      "ERROR in q0: Can't find transition for letter 'a'\n",
      "'aaabb' : false \n"
     ]
    }
   ],
   "source": [
    "%load fsm\n",
    "var fsm = fsmFromMermaid(\"a^n-b^n\", \"12-fsm-with-stack-intro.dib\");\n",
    "accept(fsm, true, \"\", \"ab\", \"aabb\", \"aaabbb\");\n",
    "accept(fsm, true, \"a\", \"b\", \"aab\", \"abb\", \"aaabb\");"
   ]
  },
  {
   "cell_type": "markdown",
   "metadata": {},
   "source": [
    "![](img/12-fsm-with-stack-intro-01.png)   "
   ]
  },
  {
   "cell_type": "code",
   "execution_count": null,
   "metadata": {},
   "metadata": {},
   "outputs": [],
   "source": [
    "%load fsm\n",
    "var fsm = fsmFromMermaid(\"intro\", \"12-fsm-with-stack-intro.dib\");\n",
    "accept(fsm, true, \"aaabbbbb\");"
   ]
  }
 ],
 "metadata": {
  "kernelspec": {
   "display_name": "Java",
   "language": "java",
   "name": "java"
  },
  "language_info": {
   "codemirror_mode": "java",
   "file_extension": ".jshell",
   "mimetype": "text/x-java-source",
   "name": "java",
   "name": "java",
   "pygments_lexer": "java",
   "version": "21.0.4+7-LTS"
  }
 },
 "nbformat": 4,
 "nbformat_minor": 2
}
