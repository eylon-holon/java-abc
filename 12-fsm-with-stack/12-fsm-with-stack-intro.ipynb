{
 "cells": [
  {
   "cell_type": "markdown",
   "metadata": {},
   "source": [
    "![](img/12-fsm-with-stack-intro-a^n-b^n.png)"
   ]
  },
  {
   "cell_type": "code",
   "execution_count": 1,
   "metadata": {
    "vscode": {
     "languageId": "java"
    }
   },
   "outputs": [
    {
     "name": "stdout",
     "output_type": "stream",
     "text": [
      "FSM┴['a^n-b^n']: accepting word 'aabb'\n",
      "  'a': q0 --> q1 (a ┴|push S) [┴S]\n",
      "  'a': q1 --> q1 (a S|push A) [┴SA]\n",
      "  'b': q1 --> q2 (b A|pop A) [┴S]\n",
      "  'b': q2 --> q3 (b S|pop S) [┴]\n",
      "'aabb' : true \n"
     ]
    }
   ],
   "source": [
    "%load fsm\n",
    "var fsm = fsmFromMermaid(\"a^n-b^n\", \"12-fsm-with-stack-intro.dib\");\n",
    "accept(fsm, true, \"aabb\");\n"
   ]
  },
  {
   "cell_type": "code",
   "execution_count": null,
   "metadata": {
    "vscode": {
     "languageId": "java"
    }
   },
   "outputs": [],
   "source": [
    "%load fsm\n",
    "var fsm = fsmFromMermaid(\"a^n-b^n\", \"12-fsm-with-stack-intro.dib\");\n",
    "accept(fsm, \"\", \"ab\", \"aabb\", \"aaabbb\");\n",
    "accept(fsm, \"a\", \"b\", \"aab\", \"abb\", \"aaabb\");"
   ]
  },
  {
   "cell_type": "markdown",
   "metadata": {},
   "source": [
    "![](img/12-fsm-with-stack-intro-01.png)   "
   ]
  },
  {
   "cell_type": "code",
   "execution_count": null,
   "metadata": {
    "vscode": {
     "languageId": "java"
    }
   },
   "outputs": [],
   "source": [
    "%load fsm\n",
    "var fsm = fsmFromMermaid(\"intro\", \"12-fsm-with-stack-intro.dib\");\n",
    "accept(fsm, true, \"aaabbbbb\");"
   ]
  }
 ],
 "metadata": {
  "kernelspec": {
   "display_name": "Java",
   "language": "java",
   "name": "java"
  },
  "language_info": {
   "codemirror_mode": "java",
   "file_extension": ".jshell",
   "mimetype": "text/x-java-source",
   "name": "Java",
   "pygments_lexer": "java",
   "version": "21.0.4+7-LTS"
  }
 },
 "nbformat": 4,
 "nbformat_minor": 2
}
