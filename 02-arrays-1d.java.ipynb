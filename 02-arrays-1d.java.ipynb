{
 "cells": [
  {
   "cell_type": "code",
   "execution_count": 3,
   "metadata": {
    "vscode": {
     "languageId": "java"
    }
   },
   "outputs": [],
   "source": [
    "// find first occurrence of n in array\n",
    "// if found returns element's index\n",
    "// if not found returns -1\n",
    "int find(int[] a, int n) {\n",
    "    for(int i=0; i<a.length; i++) {\n",
    "        if (a[i]==n)\n",
    "            return i;\n",
    "        \n",
    "    }\n",
    "    return -1;\n",
    "}"
   ]
  },
  {
   "cell_type": "code",
   "execution_count": 5,
   "metadata": {
    "vscode": {
     "languageId": "java"
    }
   },
   "outputs": [
    {
     "name": "stdout",
     "output_type": "stream",
     "text": [
      "1\n",
      "1\n",
      "-1\n",
      "-1\n"
     ]
    }
   ],
   "source": [
    "System.out.println(find(new int[] {1, 2, 3}, 2));\n",
    "System.out.println(find(new int[] {1, 2, 2}, 2));\n",
    "System.out.println(find(new int[] {1, 3, 4}, 2));\n",
    "System.out.println(find(new int[] {7, 3, 4}, 2));"
   ]
  },
  {
   "cell_type": "code",
   "execution_count": 9,
   "metadata": {
    "vscode": {
     "languageId": "java"
    }
   },
   "outputs": [],
   "source": [
    "// finds last occurrence of n in array\n",
    "// if found returns element's index\n",
    "// if not found returns -1\n",
    "int findLast(int[] a, int n) {\n",
    "    for(int i=a.length-1; i>=0; i--){\n",
    "        if(a[i]==n)\n",
    "            return i;\n",
    "    }\n",
    "    return -1;\n",
    "}"
   ]
  },
  {
   "cell_type": "code",
   "execution_count": 10,
   "metadata": {
    "vscode": {
     "languageId": "java"
    }
   },
   "outputs": [
    {
     "name": "stdout",
     "output_type": "stream",
     "text": [
      "1\n",
      "2\n",
      "-1\n"
     ]
    }
   ],
   "source": [
    "System.out.println(findLast(new int[] {1, 2, 3}, 2));\n",
    "System.out.println(findLast(new int[] {1, 2, 2}, 2));\n",
    "System.out.println(findLast(new int[] {1, 3, 4}, 2));"
   ]
  },
  {
   "cell_type": "code",
   "execution_count": 13,
   "metadata": {
    "vscode": {
     "languageId": "java"
    }
   },
   "outputs": [],
   "source": [
    "// DESCRIBE WHAT FUNCTION DOES\n",
    "// WHAT IT RETURNS\n",
    "boolean isPalindrome(int[] a) {\n",
    "    for(int i=0; i<a.length; i++) {\n",
    "        if(a[i]==a[a.length-i-1])\n",
    "             return true;\n",
    "    }\n",
    "    return false;\n",
    "}"
   ]
  },
  {
   "cell_type": "code",
   "execution_count": 14,
   "metadata": {
    "vscode": {
     "languageId": "java"
    }
   },
   "outputs": [
    {
     "name": "stdout",
     "output_type": "stream",
     "text": [
      "true\n"
     ]
    }
   ],
   "source": [
    "System.out.println(isPalindrome(new int[] {1, 2, 3, 3, 2, 1}));"
   ]
  },
  {
   "cell_type": "code",
   "execution_count": null,
   "metadata": {
    "vscode": {
     "languageId": "java"
    }
   },
   "outputs": [],
   "source": [
    "// Check if array starts with another array - prefix\n",
    "boolean startsWith(int[] a, int[] prefix) {\n",
    "    ...\n",
    "}"
   ]
  },
  {
   "cell_type": "markdown",
   "metadata": {},
   "source": []
  },
  {
   "cell_type": "code",
   "execution_count": null,
   "metadata": {
    "vscode": {
     "languageId": "java"
    }
   },
   "outputs": [],
   "source": [
    "// WRITE TESTS for startsWith()"
   ]
  },
  {
   "cell_type": "code",
   "execution_count": null,
   "metadata": {
    "vscode": {
     "languageId": "java"
    }
   },
   "outputs": [],
   "source": [
    "// Check if array ends with another array - suffix\n",
    "boolean endsWith(int[] a, int[] suffix) {\n",
    "    ...\n",
    "}"
   ]
  },
  {
   "cell_type": "code",
   "execution_count": null,
   "metadata": {
    "vscode": {
     "languageId": "java"
    }
   },
   "outputs": [],
   "source": [
    "// WRITE TESTS for endsWith()"
   ]
  }
 ],
 "metadata": {
  "kernelspec": {
   "display_name": "Java",
   "language": "java",
   "name": "java"
  },
  "language_info": {
   "codemirror_mode": "java",
   "file_extension": ".jshell",
   "mimetype": "text/x-java-source",
   "name": "Java",
   "pygments_lexer": "java",
   "version": "21.0.4+7-LTS"
  }
 },
 "nbformat": 4,
 "nbformat_minor": 2
}
