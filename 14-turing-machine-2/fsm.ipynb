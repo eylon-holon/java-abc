{
 "cells": [
  {
   "cell_type": "code",
   "execution_count": 1,
   "id": "8729be7d",
   "metadata": {
    "vscode": {
     "languageId": "java"
    }
   },
   "outputs": [],
   "source": [
    "%jars ../lib/snakeyaml-2.3.jar\n",
    "%load ../eylon/java-utils\n",
    "%load ../j-core/fsm/FSM\n",
    "%load ../j-core/fsm/DetermenisticFsm\n",
    "%load ../j-core/fsm/NondetermenisticFsm\n",
    "%load ../j-core/fsm/FsmWithStack\n",
    "%load ../j-core/fsm/FsmParser\n",
    "%load ../j-core/fsm/FsmParser2\n",
    "%load ../j-core/fsm/DibFile\n",
    "%load ../j-core/fsm/MermaidFile2\n",
    "%load ../j-core/fsm/FsmFromMermaid2\n",
    "\n",
    "IFSM fsmFromMermaid(String name, String file, boolean... logFlags) { \n",
    "    System.out.println(\"Not implemented yet\");\n",
    "    return null;\n",
    "}\n",
    "\n",
    "void accept(IFSM fsm, String... words) {\n",
    "}\n",
    "\n",
    "void accept(IFSM fsm, boolean log, String... words) {\n",
    "}"
   ]
  }
 ],
 "metadata": {
  "kernelspec": {
   "display_name": "Java",
   "language": "java",
   "name": "java"
  },
  "language_info": {
   "codemirror_mode": "java",
   "file_extension": ".jshell",
   "mimetype": "text/x-java-source",
   "name": "Java",
   "pygments_lexer": "java",
   "version": "21.0.4+7-LTS"
  }
 },
 "nbformat": 4,
 "nbformat_minor": 5
}
