{
 "cells": [
  {
   "cell_type": "code",
   "execution_count": null,
   "id": "8729be7d",
   "metadata": {},
   "outputs": [],
   "source": [
    "%jars ../lib/snakeyaml-2.3.jar\n",
    "%load ../eylon/java-utils\n",
    "%load ../j-core/fsm/FSM\n",
    "%load ../j-core/fsm/DetermenisticFsm\n",
    "%load ../j-core/fsm/NondetermenisticFsm\n",
    "%load ../j-core/fsm/FsmWithStack\n",
    "%load ../j-core/fsm/FsmParser\n",
    "%load ../j-core/fsm/FsmParser2\n",
    "%load ../j-core/fsm/DibFile\n",
    "%load ../j-core/fsm/MermaidFile2\n",
    "%load ../j-core/fsm/FsmFromMermaid2\n",
    "\n",
    "IFSM fsmFromMermaid(String name, String file, boolean... logFlags) { \n",
    "    System.out.println(\"Not implemented yet\");\n",
    "    return null;\n",
    "}\n",
    "\n",
    "void accept(IFSM fsm, String... words) {\n",
    "}\n",
    "\n",
    "void accept(IFSM fsm, boolean log, String... words) {\n",
    "}"
   ]
  }
 ],
 "metadata": {
  "kernelspec": {
   "display_name": "Java",
   "language": "java",
   "name": "java"
  },
  "language_info": {
   "name": "java"
  }
 },
 "nbformat": 4,
 "nbformat_minor": 5
}
