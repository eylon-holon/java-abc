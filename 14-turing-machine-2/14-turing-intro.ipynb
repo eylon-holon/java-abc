{
 "cells": [
  {
   "cell_type": "markdown",
   "id": "16109f58",
   "metadata": {},
   "source": [
    "[🎦Turing machine with Ariel](https://www.youtube.com/playlist?list=PLNLf5_3sUeLyMTsMJUeZj1lpj7EzG6Ord)"
   ]
  },
  {
   "cell_type": "code",
   "execution_count": 1,
   "id": "1c92abb6",
   "metadata": {},
   "outputs": [],
   "source": [
    "%load fsm"
   ]
  },
  {
   "cell_type": "markdown",
   "id": "21c4cf62",
   "metadata": {},
   "source": [
    "---"
   ]
  },
  {
   "cell_type": "markdown",
   "id": "f86020a1",
   "metadata": {},
   "source": [
    "[├Δ TURING MACHINE](http://turingmachinesimulator.com/shared/bssbmbleeb)\n",
    "![](img/img_00736.png)"
   ]
  },
  {
   "cell_type": "code",
   "execution_count": 4,
   "id": "9b1030d7",
   "metadata": {},
   "outputs": [
    {
     "name": "stdout",
     "output_type": "stream",
     "text": [
      "Not implemented yet\n"
     ]
    }
   ],
   "source": [
    "var fsm = fsmFromMermaid(\"ex-01\", \"14-turing-intro.dib\");\n",
    "accept(fsm, \"aaabb\");"
   ]
  },
  {
   "cell_type": "markdown",
   "id": "b1577f38",
   "metadata": {},
   "source": [
    "---"
   ]
  },
  {
   "cell_type": "markdown",
   "id": "e68bff8b",
   "metadata": {},
   "source": [
    "[├Δ TURING MACHINE](http://turingmachinesimulator.com/shared/hqpulneoib)\n",
    "![](img/img_00737.png)"
   ]
  },
  {
   "cell_type": "code",
   "execution_count": 3,
   "id": "193feea7",
   "metadata": {},
   "outputs": [
    {
     "name": "stdout",
     "output_type": "stream",
     "text": [
      "Not implemented yet\n"
     ]
    }
   ],
   "source": [
    "var fsm = fsmFromMermaid(\"ex-02\", \"14-turing-intro.dib\");\n",
    "accept(fsm, \"aaabb\");"
   ]
  },
  {
   "cell_type": "markdown",
   "id": "c9e4c9d6",
   "metadata": {},
   "source": [
    "---"
   ]
  },
  {
   "cell_type": "markdown",
   "id": "b54cf6ba",
   "metadata": {},
   "source": [
    "[├Δ TURING MACHINE](http://turingmachinesimulator.com/shared/tfqzqfbofu)\n",
    "![](img/img_00739.png)"
   ]
  },
  {
   "cell_type": "code",
   "execution_count": 2,
   "id": "c514d1bd",
   "metadata": {},
   "outputs": [
    {
     "name": "stdout",
     "output_type": "stream",
     "text": [
      "Not implemented yet\n"
     ]
    }
   ],
   "source": [
    "var fsm = fsmFromMermaid(\"ex-03\", \"14-turing-intro.dib\");\n",
    "accept(fsm, \"111\");"
   ]
  },
  {
   "cell_type": "markdown",
   "id": "99e4eb95",
   "metadata": {},
   "source": [
    "---"
   ]
  },
  {
   "cell_type": "markdown",
   "id": "8cc9df50",
   "metadata": {},
   "source": [
    "[├Δ TURING MACHINE](http://turingmachinesimulator.com/shared/peyvrdgits)\n",
    "![](img/img_00740.png)"
   ]
  },
  {
   "cell_type": "code",
   "execution_count": null,
   "id": "77f5bdd8",
   "metadata": {},
   "outputs": [],
   "source": [
    "var fsm = fsmFromMermaid(\"ex-04\", \"14-turing-intro.dib\");\n",
    "accept(fsm, \"abc\");\n",
    "accept(fsm, \"c\", \"ba\");"
   ]
  },
  {
   "cell_type": "markdown",
   "id": "b82e0d84",
   "metadata": {},
   "source": [
    "---"
   ]
  },
  {
   "cell_type": "markdown",
   "id": "824478fe",
   "metadata": {},
   "source": [
    "[├Δ TURING MACHINE](http://turingmachinesimulator.com/shared/zumzbmueaz)\n",
    "![](img/img_00741.png)"
   ]
  },
  {
   "cell_type": "code",
   "execution_count": null,
   "id": "a49892ed",
   "metadata": {},
   "outputs": [],
   "source": [
    "var fsm = fsmFromMermaid(\"ex-05\", \"14-turing-intro.dib\");\n",
    "accept(fsm, \"a\", \"abca\", \"cccbbba\");\n",
    "accept(fsm, \"aa\", \"aaa\", \"ac\", \"abc\");"
   ]
  },
  {
   "cell_type": "markdown",
   "id": "854e7704",
   "metadata": {},
   "source": [
    "---"
   ]
  },
  {
   "cell_type": "markdown",
   "id": "d444224f",
   "metadata": {},
   "source": [
    "[├Δ TURING MACHINE](http://turingmachinesimulator.com/shared/ltjdkewjem)\n",
    "![](img/img_00742.png)"
   ]
  },
  {
   "cell_type": "markdown",
   "id": "d42fa614",
   "metadata": {},
   "source": [
    "![](img/img_00743.png)"
   ]
  },
  {
   "cell_type": "markdown",
   "id": "b6130660",
   "metadata": {},
   "source": [
    "![](img/img_00744.png)"
   ]
  },
  {
   "cell_type": "markdown",
   "id": "4b5956cd",
   "metadata": {},
   "source": [
    "![](img/img_00745.png)"
   ]
  },
  {
   "cell_type": "code",
   "execution_count": null,
   "id": "a2902450",
   "metadata": {},
   "outputs": [],
   "source": [
    "var fsm = fsmFromMermaid(\"ex-06\", \"14-turing-intro.dib\");\n",
    "accept(fsm, \"\", \"ab\", \"aabb\", \"aaabbb\");\n",
    "accept(fsm, \"a\", \"b\", \"aab\", \"abb\");"
   ]
  },
  {
   "cell_type": "markdown",
   "id": "cee56c3d",
   "metadata": {},
   "source": [
    "---"
   ]
  },
  {
   "cell_type": "markdown",
   "id": "e91d9b46",
   "metadata": {},
   "source": [
    "[├Δ TURING MACHINE](http://turingmachinesimulator.com/shared/nzhxaxrbyi)\n",
    "![](img/img_00746.png)"
   ]
  },
  {
   "cell_type": "markdown",
   "id": "e7cb6ec7",
   "metadata": {},
   "source": [
    "![](img/img_00747.png)"
   ]
  },
  {
   "cell_type": "code",
   "execution_count": null,
   "id": "c7a2d0d4",
   "metadata": {},
   "outputs": [],
   "source": [
    "var fsm = fsmFromMermaid(\"ex-07\", \"14-turing-intro.dib\");\n",
    "accept(fsm, \"\", \"abc\", \"aabbcc\", \"aaabbbccc\");\n",
    "accept(fsm, \"a\", \"b\", \"c\", \"aabcc\", \"abbcc\");"
   ]
  },
  {
   "cell_type": "markdown",
   "id": "365426d8",
   "metadata": {},
   "source": [
    "---"
   ]
  },
  {
   "cell_type": "markdown",
   "id": "df2c57f0",
   "metadata": {},
   "source": [
    "[├Δ TURING MACHINE](http://turingmachinesimulator.com/shared/jqeqkuqwuy)\n",
    "![](img/img_00748.png)"
   ]
  },
  {
   "cell_type": "markdown",
   "id": "d322d43b",
   "metadata": {},
   "source": [
    "![](img/img_00749.png)"
   ]
  },
  {
   "cell_type": "code",
   "execution_count": null,
   "id": "11aef3cb",
   "metadata": {},
   "outputs": [],
   "source": [
    "var fsm = fsmFromMermaid(\"ex-08\", \"14-turing-intro.dib\");\n",
    "accept(fsm, \"\");"
   ]
  },
  {
   "cell_type": "markdown",
   "id": "74ae8cd2",
   "metadata": {},
   "source": [
    "---"
   ]
  },
  {
   "cell_type": "markdown",
   "id": "baa51414",
   "metadata": {},
   "source": [
    "[├Δ TURING MACHINE](http://turingmachinesimulator.com/shared/evykuwbnpc)\n",
    "![](img/img_00750.png)"
   ]
  },
  {
   "cell_type": "code",
   "execution_count": 1,
   "id": "981fdaef",
   "metadata": {},
   "outputs": [
    {
     "ename": "CompilationException",
     "evalue": "",
     "output_type": "error",
     "traceback": [
      "\u001b[1m\u001b[30m|   \u001b[1m\u001b[30mvar fsm = \u001b[0m\u001b[1m\u001b[30m\u001b[41mfsmFromMermaid\u001b[0m\u001b[1m\u001b[30m(\"ex-09\", \"14-turing-intro.dib\");\u001b[0m",
      "\u001b[1m\u001b[31mcannot find symbol\u001b[0m",
      "\u001b[1m\u001b[31m  symbol:   method fsmFromMermaid(java.lang.String,java.lang.String)\u001b[0m",
      ""
     ]
    }
   ],
   "source": [
    "var fsm = fsmFromMermaid(\"ex-09\", \"14-turing-intro.dib\");\n",
    "accept(fsm, \"1111#1111\");"
   ]
  },
  {
   "cell_type": "markdown",
   "id": "60a695f0",
   "metadata": {},
   "source": [
    "---"
   ]
  }
 ],
 "metadata": {
  "kernelspec": {
   "display_name": "Java",
   "language": "java",
   "name": "java"
  },
  "language_info": {
   "codemirror_mode": "java",
   "file_extension": ".jshell",
   "mimetype": "text/x-java-source",
   "name": "java",
   "pygments_lexer": "java",
   "version": "21.0.4+7-LTS"
  }
 },
 "nbformat": 4,
 "nbformat_minor": 5
}
