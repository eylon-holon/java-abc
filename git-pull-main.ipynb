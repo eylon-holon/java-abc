{
 "cells": [
  {
   "cell_type": "code",
   "execution_count": 1,
   "metadata": {
    "dotnet_interactive": {
     "language": "csharp"
    },
    "polyglot_notebook": {
     "kernelName": "csharp"
    }
   },
   "outputs": [
    {
     "name": "stderr",
     "output_type": "stream",
     "text": [
      "From https://github.com/eylon-holon/java-abc\n",
      "   327121e3..46811bbb  alma-kimhi        -> origin/alma-kimhi\n",
      "   e4d1b973..86a0abcc  carmel-dayan      -> origin/carmel-dayan\n",
      "   77a4371b..ea710ecb  daniel-yakobovitz -> origin/daniel-yakobovitz\n",
      "   a8e9f8f0..ec0f0e2f  david-madany      -> origin/david-madany\n",
      "   d9fd811f..079258b2  gosha-smeh        -> origin/gosha-smeh\n",
      "   4a96cdea..d51ac5e1  hila-atzmon       -> origin/hila-atzmon\n",
      "   cef87a8c..2e028a69  linoy-netach      -> origin/linoy-netach\n",
      "   fbc720ca..0830d175  main              -> origin/main\n",
      "   5c40af31..07641466  noa-slavinsky     -> origin/noa-slavinsky\n",
      "   b43bac32..51dbd437  shaked-bekerman   -> origin/shaked-bekerman\n",
      "   294fe330..65cbad0e  tamar-tirosh      -> origin/tamar-tirosh\n",
      "   02892dd6..db0ae256  yari-moshe        -> origin/yari-moshe\n"
     ]
    },
    {
     "name": "stdout",
     "output_type": "stream",
     "text": [
      "Already up to date.\n",
      "\n",
      "\n",
      "[eyal-belinsky 4a08dd63] auto commit...\n",
      " 1 file changed, 15 insertions(+), 5 deletions(-)\n",
      "\n"
     ]
    },
    {
     "name": "stderr",
     "output_type": "stream",
     "text": [
      "To https://github.com/eylon-holon/java-abc\n",
      "   ab5ca555..4a08dd63  eyal-belinsky -> eyal-belinsky\n"
     ]
    },
    {
     "name": "stdout",
     "output_type": "stream",
     "text": [
      "\n",
      "Merge made by the 'ort' strategy.\n",
      " 14-turing-machine-2/14-turing-intro.dib            | 216 ++++++++++++\n",
      " 14-turing-machine-2/14-turing-intro.ipynb          | 383 +++++++++++++++++++++\n",
      " 14-turing-machine-2/fsm.ipynb                      |  47 +++\n",
      " 14-turing-machine-2/img/img_00736.png              | Bin 0 -> 25204 bytes\n",
      " 14-turing-machine-2/img/img_00737.png              | Bin 0 -> 33141 bytes\n",
      " 14-turing-machine-2/img/img_00738.png              | Bin 0 -> 31450 bytes\n",
      " 14-turing-machine-2/img/img_00739.png              | Bin 0 -> 31231 bytes\n",
      " 14-turing-machine-2/img/img_00740.png              | Bin 0 -> 28428 bytes\n",
      " 14-turing-machine-2/img/img_00741.png              | Bin 0 -> 31260 bytes\n",
      " 14-turing-machine-2/img/img_00742.png              | Bin 0 -> 16667 bytes\n",
      " 14-turing-machine-2/img/img_00743.png              | Bin 0 -> 29520 bytes\n",
      " 14-turing-machine-2/img/img_00744.png              | Bin 0 -> 18423 bytes\n",
      " 14-turing-machine-2/img/img_00745.png              | Bin 0 -> 19385 bytes\n",
      " 14-turing-machine-2/img/img_00746.png              | Bin 0 -> 17755 bytes\n",
      " 14-turing-machine-2/img/img_00747.png              | Bin 0 -> 38469 bytes\n",
      " 14-turing-machine-2/img/img_00748.png              | Bin 0 -> 28105 bytes\n",
      " 14-turing-machine-2/img/img_00749.png              | Bin 0 -> 16919 bytes\n",
      " 14-turing-machine-2/img/img_00750.png              | Bin 0 -> 42413 bytes\n",
      " .../41-matkonet/41-matkonet-2.ipynb                |  94 +----\n",
      " .../42-prepare/img/img_00796.png                   | Bin 0 -> 14538 bytes\n",
      " 20-formulas-and-bagruts/42-prepare/set-03.ipynb    | 160 +++++++++\n",
      " .../43-bagrut-2025/5-27-2025.dib                   |  22 ++\n",
      " .../43-bagrut-2025/5-27-2025.ipynb                 | 312 +++++++++++++++++\n",
      " 23 files changed, 1159 insertions(+), 75 deletions(-)\n",
      " create mode 100644 14-turing-machine-2/14-turing-intro.dib\n",
      " create mode 100644 14-turing-machine-2/14-turing-intro.ipynb\n",
      " create mode 100644 14-turing-machine-2/fsm.ipynb\n",
      " create mode 100644 14-turing-machine-2/img/img_00736.png\n",
      " create mode 100644 14-turing-machine-2/img/img_00737.png\n",
      " create mode 100644 14-turing-machine-2/img/img_00738.png\n",
      " create mode 100644 14-turing-machine-2/img/img_00739.png\n",
      " create mode 100644 14-turing-machine-2/img/img_00740.png\n",
      " create mode 100644 14-turing-machine-2/img/img_00741.png\n",
      " create mode 100644 14-turing-machine-2/img/img_00742.png\n",
      " create mode 100644 14-turing-machine-2/img/img_00743.png\n",
      " create mode 100644 14-turing-machine-2/img/img_00744.png\n",
      " create mode 100644 14-turing-machine-2/img/img_00745.png\n",
      " create mode 100644 14-turing-machine-2/img/img_00746.png\n",
      " create mode 100644 14-turing-machine-2/img/img_00747.png\n",
      " create mode 100644 14-turing-machine-2/img/img_00748.png\n",
      " create mode 100644 14-turing-machine-2/img/img_00749.png\n",
      " create mode 100644 14-turing-machine-2/img/img_00750.png\n",
      " create mode 100644 20-formulas-and-bagruts/42-prepare/img/img_00796.png\n",
      " create mode 100644 20-formulas-and-bagruts/42-prepare/set-03.ipynb\n",
      " create mode 100644 20-formulas-and-bagruts/43-bagrut-2025/5-27-2025.dib\n",
      " create mode 100644 20-formulas-and-bagruts/43-bagrut-2025/5-27-2025.ipynb\n",
      "\n",
      "\n"
     ]
    },
    {
     "name": "stderr",
     "output_type": "stream",
     "text": [
      "To https://github.com/eylon-holon/java-abc\n",
      "   4a08dd63..5aca8943  eyal-belinsky -> eyal-belinsky\n"
     ]
    }
   ],
   "source": [
    "from eylon.core import *\n",
    "store_all_changes_to_github()\n",
    "get_next_lesson()"
   ]
  }
 ],
 "metadata": {
  "kernelspec": {
   "display_name": "Python 3",
   "language": "python",
   "name": "python3"
  },
  "language_info": {
   "codemirror_mode": {
    "name": "ipython",
    "version": 3
   },
   "file_extension": ".py",
   "mimetype": "text/x-python",
   "name": "python",
   "nbconvert_exporter": "python",
   "pygments_lexer": "ipython3",
   "version": "3.12.1"
  },
  "polyglot_notebook": {
   "kernelInfo": {
    "defaultKernelName": "csharp",
    "items": [
     {
      "aliases": [],
      "name": "csharp"
     }
    ]
   }
  }
 },
 "nbformat": 4,
 "nbformat_minor": 2
}
