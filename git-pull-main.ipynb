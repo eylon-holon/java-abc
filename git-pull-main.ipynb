{
 "cells": [
  {
   "cell_type": "code",
   "execution_count": 1,
   "metadata": {},
   "outputs": [
    {
     "name": "stdout",
     "output_type": "stream",
     "text": [
      "\n",
      "[gosha-smeh 26a42ef] auto commit...\n",
      " 2 files changed, 54 insertions(+), 40 deletions(-)\n",
      "\n"
     ]
    },
    {
     "name": "stderr",
     "output_type": "stream",
     "text": [
      "To https://github.com/eylon-holon/java-abc\n",
      "   70d184a..26a42ef  gosha-smeh -> gosha-smeh\n"
     ]
    },
    {
     "name": "stdout",
     "output_type": "stream",
     "text": [
      "\n"
     ]
    },
    {
     "name": "stderr",
     "output_type": "stream",
     "text": [
      "From https://github.com/eylon-holon/java-abc\n",
      " * branch            main       -> FETCH_HEAD\n",
      "   8b54730..5283877  main       -> origin/main\n"
     ]
    },
    {
     "name": "stdout",
     "output_type": "stream",
     "text": [
      "Auto-merging 11-fsm-nondetermenistic/11-nfsm-intro.ipynb\n",
      "Merge made by the 'ort' strategy.\n",
      " 10-fsm/10-fsm-a03.dib                              |  27 ++\n",
      " 10-fsm/10-fsm-a03.ipynb                            | 169 +++++++++++\n",
      " 10-fsm/img/10-fsm-a03-note-01.png                  | Bin 0 -> 113456 bytes\n",
      " 10-fsm/img/10-fsm-a03-q01.png                      | Bin 0 -> 25345 bytes\n",
      " 10-fsm/img/10-fsm-a03-q02.png                      | Bin 0 -> 44304 bytes\n",
      " 10-fsm/img/10-fsm-a03-q03.png                      | Bin 0 -> 18225 bytes\n",
      " 10-fsm/img/10-fsm-a03-q04.png                      | Bin 0 -> 8337 bytes\n",
      " 10-fsm/img/10-fsm-a03-q05-q06.png                  | Bin 0 -> 18210 bytes\n",
      " 11-fsm-nondetermenistic/11-nfsm-a01.dib            |  16 ++\n",
      " 11-fsm-nondetermenistic/11-nfsm-a01.ipynb          |  32 +++\n",
      " 11-fsm-nondetermenistic/11-nfsm-intro.dib          |  21 ++\n",
      " 11-fsm-nondetermenistic/11-nfsm-intro.ipynb        |  69 +++++\n",
      " 11-fsm-nondetermenistic/fsm.ipynb                  |  11 +-\n",
      " .../img/11-nfsm-a01-note-01.png                    | Bin 0 -> 41181 bytes\n",
      " .../img/11-nfsm-a01-note-02.png                    | Bin 0 -> 9711 bytes\n",
      " 11-fsm-nondetermenistic/img/11-nfsm-a01-q02.png    | Bin 0 -> 15704 bytes\n",
      " 12-fsm-with-stack/12-fsm-hazara.dib                |  30 ++\n",
      " 12-fsm-with-stack/12-fsm-hazara.ipynb              | 203 ++++++++++++++\n",
      " 12-fsm-with-stack/12-fsm-with-stack-a01.dib        |  52 ++++\n",
      " 12-fsm-with-stack/12-fsm-with-stack-a01.ipynb      | 189 +++++++++++++\n",
      " 12-fsm-with-stack/12-fsm-with-stack-intro.dib      |  54 ++++\n",
      " 12-fsm-with-stack/12-fsm-with-stack-intro.ipynb    |  81 ++++++\n",
      " 12-fsm-with-stack/fsm.ipynb                        |  54 ++++\n",
      " .../img/12-fms-with-stack-a01-q01.png              | Bin 0 -> 28805 bytes\n",
      " .../img/12-fms-with-stack-a01-q02.png              | Bin 0 -> 25552 bytes\n",
      " .../img/12-fms-with-stack-a01-q03.png              | Bin 0 -> 47973 bytes\n",
      " .../img/12-fms-with-stack-a01-q04.png              | Bin 0 -> 74423 bytes\n",
      " .../img/12-fms-with-stack-a01-q05.png              | Bin 0 -> 9436 bytes\n",
      " .../img/12-fms-with-stack-a01-q06.png              | Bin 0 -> 35142 bytes\n",
      " .../img/12-fms-with-stack-a01-q07.png              | Bin 0 -> 29898 bytes\n",
      " 12-fsm-with-stack/img/12-fsm-hazara-aslad.png      | Bin 0 -> 26075 bytes\n",
      " 12-fsm-with-stack/img/12-fsm-hazara-q01.png        | Bin 0 -> 147478 bytes\n",
      " 12-fsm-with-stack/img/12-fsm-hazara-q02.png        | Bin 0 -> 153016 bytes\n",
      " 12-fsm-with-stack/img/12-fsm-hazara-q03.png        | Bin 0 -> 48826 bytes\n",
      " 12-fsm-with-stack/img/12-fsm-hazara-q04.png        | Bin 0 -> 46217 bytes\n",
      " 12-fsm-with-stack/img/12-fsm-hazara-q05.png        | Bin 0 -> 34266 bytes\n",
      " 12-fsm-with-stack/img/12-fsm-hazara-q06.png        | Bin 0 -> 39169 bytes\n",
      " 12-fsm-with-stack/img/12-fsm-hazara-q07.png        | Bin 0 -> 80086 bytes\n",
      " .../img/12-fsm-with-stack-intro-01.png             | Bin 0 -> 61021 bytes\n",
      " .../img/12-fsm-with-stack-intro-a^n-b^n.png        | Bin 0 -> 63366 bytes\n",
      " j-core/fsm/DetermenisticFsm.java                   |  12 +-\n",
      " j-core/fsm/FSM.java                                | 100 ++++++-\n",
      " j-core/fsm/FsmFromMermaid.java                     |   8 +-\n",
      " j-core/fsm/FsmFromMermaid2.java                    |  23 +-\n",
      " j-core/fsm/FsmParser.java                          |  49 ++--\n",
      " j-core/fsm/FsmParser2.java                         | 214 ++++++++++++++\n",
      " j-core/fsm/FsmWithStack.java                       | 310 +++++++++++++++++++++\n",
      " j-core/fsm/MermaidFile2.java                       |  45 +--\n",
      " j-core/fsm/NondetermenisticFsm.java                |   4 +-\n",
      " 49 files changed, 1698 insertions(+), 75 deletions(-)\n",
      " create mode 100644 10-fsm/10-fsm-a03.dib\n",
      " create mode 100644 10-fsm/10-fsm-a03.ipynb\n",
      " create mode 100644 10-fsm/img/10-fsm-a03-note-01.png\n",
      " create mode 100644 10-fsm/img/10-fsm-a03-q01.png\n",
      " create mode 100644 10-fsm/img/10-fsm-a03-q02.png\n",
      " create mode 100644 10-fsm/img/10-fsm-a03-q03.png\n",
      " create mode 100644 10-fsm/img/10-fsm-a03-q04.png\n",
      " create mode 100644 10-fsm/img/10-fsm-a03-q05-q06.png\n",
      " create mode 100644 11-fsm-nondetermenistic/11-nfsm-a01.dib\n",
      " create mode 100644 11-fsm-nondetermenistic/11-nfsm-a01.ipynb\n",
      " create mode 100644 11-fsm-nondetermenistic/img/11-nfsm-a01-note-01.png\n",
      " create mode 100644 11-fsm-nondetermenistic/img/11-nfsm-a01-note-02.png\n",
      " create mode 100644 11-fsm-nondetermenistic/img/11-nfsm-a01-q02.png\n",
      " create mode 100644 12-fsm-with-stack/12-fsm-hazara.dib\n",
      " create mode 100644 12-fsm-with-stack/12-fsm-hazara.ipynb\n",
      " create mode 100644 12-fsm-with-stack/12-fsm-with-stack-a01.dib\n",
      " create mode 100644 12-fsm-with-stack/12-fsm-with-stack-a01.ipynb\n",
      " create mode 100644 12-fsm-with-stack/12-fsm-with-stack-intro.dib\n",
      " create mode 100644 12-fsm-with-stack/12-fsm-with-stack-intro.ipynb\n",
      " create mode 100644 12-fsm-with-stack/fsm.ipynb\n",
      " create mode 100644 12-fsm-with-stack/img/12-fms-with-stack-a01-q01.png\n",
      " create mode 100644 12-fsm-with-stack/img/12-fms-with-stack-a01-q02.png\n",
      " create mode 100644 12-fsm-with-stack/img/12-fms-with-stack-a01-q03.png\n",
      " create mode 100644 12-fsm-with-stack/img/12-fms-with-stack-a01-q04.png\n",
      " create mode 100644 12-fsm-with-stack/img/12-fms-with-stack-a01-q05.png\n",
      " create mode 100644 12-fsm-with-stack/img/12-fms-with-stack-a01-q06.png\n",
      " create mode 100644 12-fsm-with-stack/img/12-fms-with-stack-a01-q07.png\n",
      " create mode 100644 12-fsm-with-stack/img/12-fsm-hazara-aslad.png\n",
      " create mode 100644 12-fsm-with-stack/img/12-fsm-hazara-q01.png\n",
      " create mode 100644 12-fsm-with-stack/img/12-fsm-hazara-q02.png\n",
      " create mode 100644 12-fsm-with-stack/img/12-fsm-hazara-q03.png\n",
      " create mode 100644 12-fsm-with-stack/img/12-fsm-hazara-q04.png\n",
      " create mode 100644 12-fsm-with-stack/img/12-fsm-hazara-q05.png\n",
      " create mode 100644 12-fsm-with-stack/img/12-fsm-hazara-q06.png\n",
      " create mode 100644 12-fsm-with-stack/img/12-fsm-hazara-q07.png\n",
      " create mode 100644 12-fsm-with-stack/img/12-fsm-with-stack-intro-01.png\n",
      " create mode 100644 12-fsm-with-stack/img/12-fsm-with-stack-intro-a^n-b^n.png\n",
      " create mode 100644 j-core/fsm/FsmParser2.java\n",
      " create mode 100644 j-core/fsm/FsmWithStack.java\n",
      "\n"
     ]
    },
    {
     "name": "stderr",
     "output_type": "stream",
     "text": [
      "To https://github.com/eylon-holon/java-abc\n",
      "   26a42ef..7cdc910  gosha-smeh -> gosha-smeh\n"
     ]
    }
   ],
   "source": [
    "from eylon.core import *\n",
    "store_all_changes_to_github()\n",
    "get_next_lesson()"
   ]
  }
 ],
 "metadata": {
  "kernelspec": {
   "display_name": "Python 3",
   "language": "python",
   "name": "python3"
  },
  "language_info": {
   "codemirror_mode": {
    "name": "ipython",
    "version": 3
   },
   "file_extension": ".py",
   "mimetype": "text/x-python",
   "name": "python",
   "nbconvert_exporter": "python",
   "pygments_lexer": "ipython3",
   "version": "3.11.9"
  }
 },
 "nbformat": 4,
 "nbformat_minor": 2
}
