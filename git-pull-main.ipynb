{
 "cells": [
  {
   "cell_type": "code",
   "execution_count": 1,
   "metadata": {
    "dotnet_interactive": {
     "language": "csharp"
    },
    "polyglot_notebook": {
     "kernelName": "csharp"
    }
   },
   "outputs": [
    {
     "name": "stderr",
     "output_type": "stream",
     "text": [
      "From https://github.com/eylon-holon/java-abc\n",
      "   d732a92a..e283cb36  alma-kimhi       -> origin/alma-kimhi\n",
      "   c042d081..e4d1b973  carmel-dayan     -> origin/carmel-dayan\n",
      "   eb2199c9..ab5ca555  eyal-belinsky    -> origin/eyal-belinsky\n",
      "   078bd8d8..dc163961  gal-alon         -> origin/gal-alon\n",
      "   be5c2ec9..9f624b2b  gal-osovsky      -> origin/gal-osovsky\n",
      "   af864701..d9fd811f  gosha-smeh       -> origin/gosha-smeh\n",
      "   2e2fe5a4..4a96cdea  hila-atzmon      -> origin/hila-atzmon\n",
      "   f6410a66..cef87a8c  linoy-netach     -> origin/linoy-netach\n",
      "   3beedb4c..82a833c2  main             -> origin/main\n",
      "   6950eff3..5c40af31  noa-slavinsky    -> origin/noa-slavinsky\n",
      "   9dbf7f3a..e12e5c41  orin-baot        -> origin/orin-baot\n",
      "   4335f4a7..b43bac32  shaked-bekerman  -> origin/shaked-bekerman\n",
      "   b9184710..844017c1  tamar-tirosh     -> origin/tamar-tirosh\n",
      "   2f9b43c0..02892dd6  yari-moshe       -> origin/yari-moshe\n",
      "   34f420cd..3d56651f  yehonatan-shafir -> origin/yehonatan-shafir\n",
      "   742e0c61..d3ed20f9  ziv-jungmann     -> origin/ziv-jungmann\n"
     ]
    },
    {
     "name": "stdout",
     "output_type": "stream",
     "text": [
      "Already up to date.\n",
      "\n",
      "\n",
      "[david-madany 143b83c1] auto commit...\n",
      " 2 files changed, 10 insertions(+), 69 deletions(-)\n",
      "\n"
     ]
    },
    {
     "name": "stderr",
     "output_type": "stream",
     "text": [
      "To https://github.com/eylon-holon/java-abc\n",
      "   a8e9f8f0..143b83c1  david-madany -> david-madany\n"
     ]
    },
    {
     "name": "stdout",
     "output_type": "stream",
     "text": [
      "\n",
      "Auto-merging 20-formulas-and-bagruts/20-formula-pages/20-queue.ipynb\n",
      "Auto-merging 20-formulas-and-bagruts/40-mikud/40-mikud-matkonet.ipynb\n",
      "Merge made by the 'ort' strategy.\n",
      " 14-turing-machine-2/14-turing-intro.dib            | 216 +++++\n",
      " 14-turing-machine-2/14-turing-intro.ipynb          | 383 +++++++++\n",
      " 14-turing-machine-2/fsm.ipynb                      |  47 ++\n",
      " 14-turing-machine-2/img/img_00736.png              | Bin 0 -> 25204 bytes\n",
      " 14-turing-machine-2/img/img_00737.png              | Bin 0 -> 33141 bytes\n",
      " 14-turing-machine-2/img/img_00738.png              | Bin 0 -> 31450 bytes\n",
      " 14-turing-machine-2/img/img_00739.png              | Bin 0 -> 31231 bytes\n",
      " 14-turing-machine-2/img/img_00740.png              | Bin 0 -> 28428 bytes\n",
      " 14-turing-machine-2/img/img_00741.png              | Bin 0 -> 31260 bytes\n",
      " 14-turing-machine-2/img/img_00742.png              | Bin 0 -> 16667 bytes\n",
      " 14-turing-machine-2/img/img_00743.png              | Bin 0 -> 29520 bytes\n",
      " 14-turing-machine-2/img/img_00744.png              | Bin 0 -> 18423 bytes\n",
      " 14-turing-machine-2/img/img_00745.png              | Bin 0 -> 19385 bytes\n",
      " 14-turing-machine-2/img/img_00746.png              | Bin 0 -> 17755 bytes\n",
      " 14-turing-machine-2/img/img_00747.png              | Bin 0 -> 38469 bytes\n",
      " 14-turing-machine-2/img/img_00748.png              | Bin 0 -> 28105 bytes\n",
      " 14-turing-machine-2/img/img_00749.png              | Bin 0 -> 16919 bytes\n",
      " 14-turing-machine-2/img/img_00750.png              | Bin 0 -> 42413 bytes\n",
      " .../20-formula-pages/20---index.dib                |   5 +\n",
      " .../20-formula-pages/20--common.ipynb              |   3 +\n",
      " .../20-formula-pages/20-linked-list.ipynb          |  44 +-\n",
      " .../20-formula-pages/20-queue.ipynb                |  42 +-\n",
      " .../20-formula-pages/20-run-time-complexity.ipynb  | 157 ++++\n",
      " .../40-mikud/40-mikud-matkonet.ipynb               | 107 ++-\n",
      " .../41-matkonet/41-matkonet-2.dib                  | 111 +++\n",
      " .../41-matkonet/41-matkonet-2.ipynb                | 901 +++++++++++++++++++++\n",
      " .../41-matkonet/41-matkonet.dib                    | 127 +++\n",
      " .../41-matkonet/41-matkonet.ipynb                  | 690 ++++++++++++++++\n",
      " 20-formulas-and-bagruts/42-prepare/set-01.ipynb    | 298 +++++++\n",
      " 20-formulas-and-bagruts/42-prepare/set-02.ipynb    | 144 ++++\n",
      " 20-formulas-and-bagruts/core/Helpers.java          |  27 +\n",
      " 20-formulas-and-bagruts/core/Queue.java            |   4 +\n",
      " 20-formulas-and-bagruts/formulas.ipynb             |  13 +-\n",
      " 20-formulas-and-bagruts/img/img_00389.png          | Bin 0 -> 48852 bytes\n",
      " 20-formulas-and-bagruts/img/img_00395.png          | Bin 0 -> 13177 bytes\n",
      " 20-formulas-and-bagruts/img/img_00414.png          | Bin 30176 -> 0 bytes\n",
      " 20-formulas-and-bagruts/img/img_00500.png          | Bin 0 -> 39003 bytes\n",
      " 20-formulas-and-bagruts/img/img_00501.png          | Bin 0 -> 3630 bytes\n",
      " 20-formulas-and-bagruts/img/img_00502.png          | Bin 0 -> 2772 bytes\n",
      " 20-formulas-and-bagruts/img/img_00503.png          | Bin 0 -> 8151 bytes\n",
      " 20-formulas-and-bagruts/img/img_00553.png          | Bin 0 -> 55229 bytes\n",
      " 20-formulas-and-bagruts/img/img_00554.png          | Bin 0 -> 4967 bytes\n",
      " 20-formulas-and-bagruts/img/img_00555.png          | Bin 0 -> 19262 bytes\n",
      " 20-formulas-and-bagruts/img/img_00556.png          | Bin 0 -> 44423 bytes\n",
      " 20-formulas-and-bagruts/img/img_00557.png          | Bin 0 -> 4265 bytes\n",
      " 20-formulas-and-bagruts/img/img_00562.png          | Bin 0 -> 46935 bytes\n",
      " 20-formulas-and-bagruts/img/img_00564.png          | Bin 0 -> 34001 bytes\n",
      " 20-formulas-and-bagruts/img/img_00568.png          | Bin 0 -> 108123 bytes\n",
      " 20-formulas-and-bagruts/img/img_00570.png          | Bin 0 -> 20853 bytes\n",
      " 20-formulas-and-bagruts/img/img_00571.png          | Bin 0 -> 3902 bytes\n",
      " 20-formulas-and-bagruts/img/img_00572.png          | Bin 0 -> 51626 bytes\n",
      " 20-formulas-and-bagruts/img/img_00574.png          | Bin 0 -> 33595 bytes\n",
      " 20-formulas-and-bagruts/img/img_00575.png          | Bin 0 -> 56112 bytes\n",
      " 20-formulas-and-bagruts/img/img_00589.png          | Bin 0 -> 85042 bytes\n",
      " 20-formulas-and-bagruts/img/img_00590.png          | Bin 0 -> 9249 bytes\n",
      " 20-formulas-and-bagruts/img/img_00591.png          | Bin 0 -> 68180 bytes\n",
      " 20-formulas-and-bagruts/img/img_00592.png          | Bin 0 -> 53778 bytes\n",
      " 20-formulas-and-bagruts/img/img_00593.png          | Bin 0 -> 40596 bytes\n",
      " 20-formulas-and-bagruts/img/img_00594.png          | Bin 0 -> 71834 bytes\n",
      " 20-formulas-and-bagruts/img/img_00595.png          | Bin 0 -> 45566 bytes\n",
      " 20-formulas-and-bagruts/img/img_00596.png          | Bin 0 -> 20030 bytes\n",
      " 20-formulas-and-bagruts/img/img_00598.png          | Bin 0 -> 215045 bytes\n",
      " 20-formulas-and-bagruts/img/img_00622.png          | Bin 0 -> 14313 bytes\n",
      " 20-formulas-and-bagruts/img/img_00623.png          | Bin 0 -> 24591 bytes\n",
      " 20-formulas-and-bagruts/img/img_00674.png          | Bin 0 -> 17397 bytes\n",
      " 20-formulas-and-bagruts/img/img_00675.png          | Bin 0 -> 20042 bytes\n",
      " 20-formulas-and-bagruts/img/img_00716.png          | Bin 0 -> 23693 bytes\n",
      " 20-formulas-and-bagruts/img/img_00717.png          | Bin 0 -> 16987 bytes\n",
      " 20-formulas-and-bagruts/img/img_00718.png          | Bin 0 -> 14618 bytes\n",
      " 69 files changed, 3235 insertions(+), 84 deletions(-)\n",
      " create mode 100644 14-turing-machine-2/14-turing-intro.dib\n",
      " create mode 100644 14-turing-machine-2/14-turing-intro.ipynb\n",
      " create mode 100644 14-turing-machine-2/fsm.ipynb\n",
      " create mode 100644 14-turing-machine-2/img/img_00736.png\n",
      " create mode 100644 14-turing-machine-2/img/img_00737.png\n",
      " create mode 100644 14-turing-machine-2/img/img_00738.png\n",
      " create mode 100644 14-turing-machine-2/img/img_00739.png\n",
      " create mode 100644 14-turing-machine-2/img/img_00740.png\n",
      " create mode 100644 14-turing-machine-2/img/img_00741.png\n",
      " create mode 100644 14-turing-machine-2/img/img_00742.png\n",
      " create mode 100644 14-turing-machine-2/img/img_00743.png\n",
      " create mode 100644 14-turing-machine-2/img/img_00744.png\n",
      " create mode 100644 14-turing-machine-2/img/img_00745.png\n",
      " create mode 100644 14-turing-machine-2/img/img_00746.png\n",
      " create mode 100644 14-turing-machine-2/img/img_00747.png\n",
      " create mode 100644 14-turing-machine-2/img/img_00748.png\n",
      " create mode 100644 14-turing-machine-2/img/img_00749.png\n",
      " create mode 100644 14-turing-machine-2/img/img_00750.png\n",
      " create mode 100644 20-formulas-and-bagruts/41-matkonet/41-matkonet-2.dib\n",
      " create mode 100644 20-formulas-and-bagruts/41-matkonet/41-matkonet-2.ipynb\n",
      " create mode 100644 20-formulas-and-bagruts/41-matkonet/41-matkonet.dib\n",
      " create mode 100644 20-formulas-and-bagruts/41-matkonet/41-matkonet.ipynb\n",
      " create mode 100644 20-formulas-and-bagruts/42-prepare/set-01.ipynb\n",
      " create mode 100644 20-formulas-and-bagruts/42-prepare/set-02.ipynb\n",
      " create mode 100644 20-formulas-and-bagruts/img/img_00389.png\n",
      " create mode 100644 20-formulas-and-bagruts/img/img_00395.png\n",
      " delete mode 100644 20-formulas-and-bagruts/img/img_00414.png\n",
      " create mode 100644 20-formulas-and-bagruts/img/img_00500.png\n",
      " create mode 100644 20-formulas-and-bagruts/img/img_00501.png\n",
      " create mode 100644 20-formulas-and-bagruts/img/img_00502.png\n",
      " create mode 100644 20-formulas-and-bagruts/img/img_00503.png\n",
      " create mode 100644 20-formulas-and-bagruts/img/img_00553.png\n",
      " create mode 100644 20-formulas-and-bagruts/img/img_00554.png\n",
      " create mode 100644 20-formulas-and-bagruts/img/img_00555.png\n",
      " create mode 100644 20-formulas-and-bagruts/img/img_00556.png\n",
      " create mode 100644 20-formulas-and-bagruts/img/img_00557.png\n",
      " create mode 100644 20-formulas-and-bagruts/img/img_00562.png\n",
      " create mode 100644 20-formulas-and-bagruts/img/img_00564.png\n",
      " create mode 100644 20-formulas-and-bagruts/img/img_00568.png\n",
      " create mode 100644 20-formulas-and-bagruts/img/img_00570.png\n",
      " create mode 100644 20-formulas-and-bagruts/img/img_00571.png\n",
      " create mode 100644 20-formulas-and-bagruts/img/img_00572.png\n",
      " create mode 100644 20-formulas-and-bagruts/img/img_00574.png\n",
      " create mode 100644 20-formulas-and-bagruts/img/img_00575.png\n",
      " create mode 100644 20-formulas-and-bagruts/img/img_00589.png\n",
      " create mode 100644 20-formulas-and-bagruts/img/img_00590.png\n",
      " create mode 100644 20-formulas-and-bagruts/img/img_00591.png\n",
      " create mode 100644 20-formulas-and-bagruts/img/img_00592.png\n",
      " create mode 100644 20-formulas-and-bagruts/img/img_00593.png\n",
      " create mode 100644 20-formulas-and-bagruts/img/img_00594.png\n",
      " create mode 100644 20-formulas-and-bagruts/img/img_00595.png\n",
      " create mode 100644 20-formulas-and-bagruts/img/img_00596.png\n",
      " create mode 100644 20-formulas-and-bagruts/img/img_00598.png\n",
      " create mode 100644 20-formulas-and-bagruts/img/img_00622.png\n",
      " create mode 100644 20-formulas-and-bagruts/img/img_00623.png\n",
      " create mode 100644 20-formulas-and-bagruts/img/img_00674.png\n",
      " create mode 100644 20-formulas-and-bagruts/img/img_00675.png\n",
      " create mode 100644 20-formulas-and-bagruts/img/img_00716.png\n",
      " create mode 100644 20-formulas-and-bagruts/img/img_00717.png\n",
      " create mode 100644 20-formulas-and-bagruts/img/img_00718.png\n",
      "\n",
      "\n"
     ]
    },
    {
     "name": "stderr",
     "output_type": "stream",
     "text": [
      "To https://github.com/eylon-holon/java-abc\n",
      "   143b83c1..5801af44  david-madany -> david-madany\n"
     ]
    }
   ],
   "source": [
    "from eylon.core import *\n",
    "store_all_changes_to_github()\n",
    "get_next_lesson()"
   ]
  }
 ],
 "metadata": {
  "kernelspec": {
   "display_name": "Python 3",
   "language": "python",
   "name": "python3"
  },
  "language_info": {
   "codemirror_mode": {
    "name": "ipython",
    "version": 3
   },
   "file_extension": ".py",
   "mimetype": "text/x-python",
   "name": "python",
   "nbconvert_exporter": "python",
   "pygments_lexer": "ipython3",
   "version": "3.12.1"
  },
  "polyglot_notebook": {
   "kernelInfo": {
    "defaultKernelName": "csharp",
    "items": [
     {
      "aliases": [],
      "name": "csharp"
     }
    ]
   }
  }
 },
 "nbformat": 4,
 "nbformat_minor": 2
}
