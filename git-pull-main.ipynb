{
 "cells": [
  {
   "cell_type": "code",
   "execution_count": 2,
   "metadata": {},
   "outputs": [
    {
     "name": "stderr",
     "output_type": "stream",
     "text": [
      "From https://github.com/eylon-holon/java-abc\n",
      "   baeea76..8bc6d87  carmel-dayan      -> origin/carmel-dayan\n",
      "   a61f771..3dd546c  daniel-yakobovitz -> origin/daniel-yakobovitz\n",
      "   cda38ac..85f6782  david-madany      -> origin/david-madany\n",
      "   79fb6c7..13d2ccd  hila-atzmon       -> origin/hila-atzmon\n",
      "   1fe502c..0323a7e  linoy-netach      -> origin/linoy-netach\n",
      "   5c43ac2..6479bcc  lior-frumkin      -> origin/lior-frumkin\n",
      "   cbc8439..9c44abf  main              -> origin/main\n",
      "   c7ac1f2..ca9f4a0  noa-slavinsky     -> origin/noa-slavinsky\n",
      "   9c65fc9..a5d9d51  shaked-bekerman   -> origin/shaked-bekerman\n",
      "   52a06e1..2cd04fc  tamar-tirosh      -> origin/tamar-tirosh\n",
      "   afd4196..885e1fc  yari-moshe        -> origin/yari-moshe\n",
      "   4d23bdf..349154f  yehonatan-shafir  -> origin/yehonatan-shafir\n",
      "   506761f..14f85ff  ziv-jungmann      -> origin/ziv-jungmann\n"
     ]
    },
    {
     "name": "stdout",
     "output_type": "stream",
     "text": [
      "Updating baeea76..8bc6d87\n",
      "Fast-forward\n",
      " 07-queue-and-stack-2/04-layout-to-code.ipynb | 15 +++---\n",
      " 07-queue-and-stack-2/10-find-element.ipynb   | 18 +++----\n",
      " 10-fsm/10-fsm-a01.ipynb                      |  3 +-\n",
      " 10-fsm/10-fsm-a02.ipynb                      | 75 ++++++++++++++++++++++++++--\n",
      " 10-fsm/10-fsm-a03.ipynb                      | 51 ++++++-------------\n",
      " 5 files changed, 106 insertions(+), 56 deletions(-)\n",
      "\n",
      "\n",
      "[carmel-dayan 19a6b04] auto commit...\n",
      " 2 files changed, 22 insertions(+), 62 deletions(-)\n",
      "\n"
     ]
    },
    {
     "name": "stderr",
     "output_type": "stream",
     "text": [
      "To https://github.com/eylon-holon/java-abc\n",
      "   8bc6d87..19a6b04  carmel-dayan -> carmel-dayan\n"
     ]
    },
    {
     "name": "stdout",
     "output_type": "stream",
     "text": [
      "\n",
      "Merge made by the 'ort' strategy.\n",
      " 10-fsm/10-fsm-a03.solution.dib   | 4 ++--\n",
      " 10-fsm/10-fsm-a03.solution.ipynb | 8 ++++----\n",
      " 2 files changed, 6 insertions(+), 6 deletions(-)\n",
      "\n",
      "\n"
     ]
    },
    {
     "name": "stderr",
     "output_type": "stream",
     "text": [
      "To https://github.com/eylon-holon/java-abc\n",
      "   19a6b04..270b8af  carmel-dayan -> carmel-dayan\n"
     ]
    }
   ],
   "source": [
    "from eylon.core import *\n",
    "store_all_changes_to_github()\n",
    "get_next_lesson()"
   ]
  }
 ],
 "metadata": {
  "kernelspec": {
   "display_name": "Python 3",
   "language": "python",
   "name": "python3"
  },
  "language_info": {
   "codemirror_mode": {
    "name": "ipython",
    "version": 3
   },
   "file_extension": ".py",
   "mimetype": "text/x-python",
   "name": "python",
   "nbconvert_exporter": "python",
   "pygments_lexer": "ipython3",
   "version": "3.12.1"
  }
 },
 "nbformat": 4,
 "nbformat_minor": 2
}
