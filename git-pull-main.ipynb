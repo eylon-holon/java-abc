{
 "cells": [
  {
   "cell_type": "code",
   "execution_count": 1,
   "metadata": {},
   "outputs": [
    {
     "name": "stdout",
     "output_type": "stream",
     "text": [
      "\n",
      "[yehonatan-shafir 6e7dc7d] auto commit...\n",
      " 1 file changed, 47 insertions(+), 7 deletions(-)\n",
      "\n"
     ]
    },
    {
     "name": "stderr",
     "output_type": "stream",
     "text": [
      "To https://github.com/eylon-holon/java-abc\n",
      "   2c2d879..6e7dc7d  yehonatan-shafir -> yehonatan-shafir\n"
     ]
    },
    {
     "name": "stdout",
     "output_type": "stream",
     "text": [
      "\n"
     ]
    },
    {
     "name": "stderr",
     "output_type": "stream",
     "text": [
      "From https://github.com/eylon-holon/java-abc\n",
      " * branch            main       -> FETCH_HEAD\n",
      "   fbc194f..3e6a5b0  main       -> origin/main\n"
     ]
    },
    {
     "name": "stdout",
     "output_type": "stream",
     "text": [
      "Merge made by the 'ort' strategy.\n",
      " 04-data-structures/04-binary-tree-a02.ipynb        | 229 +++++++++++++\n",
      " .../04-binary-tree-a02.solution.ipynb              | 359 +++++++++++++++++++++\n",
      " 04-data-structures/04-binary-tree-a02.trees.dib    |  45 +++\n",
      " 04-data-structures/BinTreeFromMermaid.java         |  27 +-\n",
      " 05-queues/05-linked-list.ipynb                     | 291 +++++++++++++++++\n",
      " 05-queues/05-stack.ipynb                           | 250 ++++++++++++++\n",
      " 05-queues/Node.java                                |  58 ++++\n",
      " 05-queues/Queue.java                               |  39 +++\n",
      " 05-queues/Stack.java                               |  29 ++\n",
      " 05-queues/queues.ipynb                             |  37 +++\n",
      " 10 files changed, 1351 insertions(+), 13 deletions(-)\n",
      " create mode 100644 04-data-structures/04-binary-tree-a02.ipynb\n",
      " create mode 100644 04-data-structures/04-binary-tree-a02.solution.ipynb\n",
      " create mode 100644 04-data-structures/04-binary-tree-a02.trees.dib\n",
      " create mode 100644 05-queues/05-linked-list.ipynb\n",
      " create mode 100644 05-queues/05-stack.ipynb\n",
      " create mode 100644 05-queues/Node.java\n",
      " create mode 100644 05-queues/Queue.java\n",
      " create mode 100644 05-queues/Stack.java\n",
      " create mode 100644 05-queues/queues.ipynb\n",
      "\n"
     ]
    },
    {
     "name": "stderr",
     "output_type": "stream",
     "text": [
      "To https://github.com/eylon-holon/java-abc\n",
      "   6e7dc7d..7c9f0f3  yehonatan-shafir -> yehonatan-shafir\n"
     ]
    }
   ],
   "source": [
    "from eylon.core import  *\n",
    "store_all_changes_to_github()\n",
    "get_next_lesson()"
   ]
  }
 ],
 "metadata": {
  "kernelspec": {
   "display_name": "Python 3",
   "language": "python",
   "name": "python3"
  },
  "language_info": {
   "codemirror_mode": {
    "name": "ipython",
    "version": 3
   },
   "file_extension": ".py",
   "mimetype": "text/x-python",
   "name": "python",
   "nbconvert_exporter": "python",
   "pygments_lexer": "ipython3",
   "version": "3.12.1"
  }
 },
 "nbformat": 4,
 "nbformat_minor": 2
}
