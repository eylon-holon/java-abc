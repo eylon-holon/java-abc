{
 "cells": [
  {
   "cell_type": "code",
   "execution_count": 1,
   "metadata": {},
   "outputs": [
    {
     "name": "stderr",
     "output_type": "stream",
     "text": [
      "From https://github.com/eylon-holon/java-abc\n",
      "   90f1081..8e78752  alma-kimhi       -> origin/alma-kimhi\n",
      "   50e59bc..f6c387d  carmel-dayan     -> origin/carmel-dayan\n",
      "   b4423f6..a8e9f8f  david-madany     -> origin/david-madany\n",
      "   0cc5c23..eb2199c  eyal-belinsky    -> origin/eyal-belinsky\n",
      "   078bd8d..dc16396  gal-alon         -> origin/gal-alon\n",
      "   a466ee5..be5c2ec  gal-osovsky      -> origin/gal-osovsky\n",
      "   189eb40..84f8dfb  gosha-smeh       -> origin/gosha-smeh\n",
      "   1c10a15..5cad36f  hila-atzmon      -> origin/hila-atzmon\n",
      "   117e611..f6410a6  linoy-netach     -> origin/linoy-netach\n",
      "   8e5ebb0..9a51d6b  main             -> origin/main\n",
      "   fb1d788..5c40af3  noa-slavinsky    -> origin/noa-slavinsky\n",
      "   0155db6..4335f4a  shaked-bekerman  -> origin/shaked-bekerman\n",
      "   2bf0119..3f961eb  tamar-tirosh     -> origin/tamar-tirosh\n",
      "   34f420c..3d56651  yehonatan-shafir -> origin/yehonatan-shafir\n",
      "   c6876a4..99aef9c  ziv-jungmann     -> origin/ziv-jungmann\n"
     ]
    },
    {
     "name": "stdout",
     "output_type": "stream",
     "text": [
      "Already up to date.\n",
      "\n",
      "\n",
      "[yari-moshe 9f6bfaf] auto commit...\n",
      " 3 files changed, 28 insertions(+), 9 deletions(-)\n",
      "\n"
     ]
    },
    {
     "name": "stderr",
     "output_type": "stream",
     "text": [
      "To https://github.com/eylon-holon/java-abc\n",
      "   2f9b43c..9f6bfaf  yari-moshe -> yari-moshe\n"
     ]
    },
    {
     "name": "stdout",
     "output_type": "stream",
     "text": [
      "\n",
      "Auto-merging 20-formulas-and-bagruts/20-formula-pages/20-queue.ipynb\n",
      "Merge made by the 'ort' strategy.\n",
      " .../20-formula-pages/20---index.dib                |  29 ++-\n",
      " .../20-formula-pages/20--common.ipynb              |  64 +++---\n",
      " .../20-formula-pages/20-linked-list.ipynb          |  27 +++\n",
      " .../20-formula-pages/20-queue.ipynb                |  30 ++-\n",
      " .../20-formula-pages/_to-add.dib                   |  15 ++\n",
      " .../30-modelim-pages/30-modelim-defs.dib           |  14 +-\n",
      " .../40-mikud/40-mikud-matkonet.dib                 | 105 ++++++++++\n",
      " .../40-mikud/40-mikud-matkonet.ipynb               | 231 ++++++++++++++++++++-\n",
      " 20-formulas-and-bagruts/fsm.ipynb                  |  58 ++++++\n",
      " 20-formulas-and-bagruts/img/img_00363.png          | Bin 87112 -> 0 bytes\n",
      " 20-formulas-and-bagruts/img/img_00389.png          | Bin 0 -> 48852 bytes\n",
      " 20-formulas-and-bagruts/img/img_00406.png          | Bin 0 -> 19530 bytes\n",
      " 20-formulas-and-bagruts/img/img_00407.png          | Bin 0 -> 5388 bytes\n",
      " 20-formulas-and-bagruts/img/img_00413.png          | Bin 0 -> 33310 bytes\n",
      " 20-formulas-and-bagruts/img/img_00423.png          | Bin 0 -> 13120 bytes\n",
      " 20-formulas-and-bagruts/img/img_00425.png          | Bin 0 -> 16297 bytes\n",
      " 20-formulas-and-bagruts/img/img_00426.png          | Bin 0 -> 32035 bytes\n",
      " 20-formulas-and-bagruts/img/img_00427.png          | Bin 0 -> 60208 bytes\n",
      " 18 files changed, 532 insertions(+), 41 deletions(-)\n",
      " create mode 100644 20-formulas-and-bagruts/20-formula-pages/_to-add.dib\n",
      " create mode 100644 20-formulas-and-bagruts/40-mikud/40-mikud-matkonet.dib\n",
      " create mode 100644 20-formulas-and-bagruts/fsm.ipynb\n",
      " delete mode 100644 20-formulas-and-bagruts/img/img_00363.png\n",
      " create mode 100644 20-formulas-and-bagruts/img/img_00389.png\n",
      " create mode 100644 20-formulas-and-bagruts/img/img_00406.png\n",
      " create mode 100644 20-formulas-and-bagruts/img/img_00407.png\n",
      " create mode 100644 20-formulas-and-bagruts/img/img_00413.png\n",
      " create mode 100644 20-formulas-and-bagruts/img/img_00423.png\n",
      " create mode 100644 20-formulas-and-bagruts/img/img_00425.png\n",
      " create mode 100644 20-formulas-and-bagruts/img/img_00426.png\n",
      " create mode 100644 20-formulas-and-bagruts/img/img_00427.png\n",
      "\n",
      "\n"
     ]
    },
    {
     "name": "stderr",
     "output_type": "stream",
     "text": [
      "To https://github.com/eylon-holon/java-abc\n",
      "   9f6bfaf..02892dd  yari-moshe -> yari-moshe\n"
     ]
    }
   ],
   "source": [
    "from eylon.core import *\n",
    "store_all_changes_to_github()\n",
    "get_next_lesson()"
   ]
  }
 ],
 "metadata": {
  "kernelspec": {
   "display_name": "Python 3",
   "language": "python",
   "name": "python3"
  },
  "language_info": {
   "codemirror_mode": {
    "name": "ipython",
    "version": 3
   },
   "file_extension": ".py",
   "mimetype": "text/x-python",
   "name": "python",
   "nbconvert_exporter": "python",
   "pygments_lexer": "ipython3",
   "version": "3.12.1"
  }
 },
 "nbformat": 4,
 "nbformat_minor": 2
}
