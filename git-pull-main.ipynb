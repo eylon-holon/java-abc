{
 "cells": [
  {
   "cell_type": "code",
   "execution_count": null,
   "metadata": {},
   "outputs": [
    {
     "name": "stdout",
     "output_type": "stream",
     "text": [
      "Already up to date.\n",
      "\n",
      "\n",
      "[alma-kimhi 043e4866] auto commit...\n",
      " 1 file changed, 64 insertions(+), 2 deletions(-)\n",
      "\n"
     ]
    },
    {
     "name": "stderr",
     "output_type": "stream",
     "text": [
      "To https://github.com/eylon-holon/java-abc\n",
      "   8e787521..043e4866  alma-kimhi -> alma-kimhi\n"
     ]
    },
    {
     "name": "stdout",
     "output_type": "stream",
     "text": [
      "\n",
      "Merge made by the 'ort' strategy.\n",
      " .../20-formula-pages/20--common.ipynb              |   3 +\n",
      " .../20-formula-pages/20-linked-list.ipynb          |  25 +-\n",
      " .../20-formula-pages/20-queue.ipynb                |   2 +-\n",
      " .../41-matkonet/41-matkonet.dib                    | 100 ++++\n",
      " .../41-matkonet/41-matkonet.ipynb                  | 652 +++++++++++++++++++++\n",
      " 20-formulas-and-bagruts/42-prepare/set-01.ipynb    | 240 ++++++++\n",
      " 20-formulas-and-bagruts/core/Helpers.java          |  27 +\n",
      " 20-formulas-and-bagruts/core/Queue.java            |   4 +\n",
      " 20-formulas-and-bagruts/formulas.ipynb             |  13 +-\n",
      " 20-formulas-and-bagruts/img/img_00395.png          | Bin 0 -> 13177 bytes\n",
      " 20-formulas-and-bagruts/img/img_00500.png          | Bin 0 -> 39003 bytes\n",
      " 20-formulas-and-bagruts/img/img_00501.png          | Bin 0 -> 3630 bytes\n",
      " 20-formulas-and-bagruts/img/img_00502.png          | Bin 0 -> 2772 bytes\n",
      " 20-formulas-and-bagruts/img/img_00503.png          | Bin 0 -> 8151 bytes\n",
      " 20-formulas-and-bagruts/img/img_00553.png          | Bin 0 -> 55229 bytes\n",
      " 20-formulas-and-bagruts/img/img_00554.png          | Bin 0 -> 4967 bytes\n",
      " 20-formulas-and-bagruts/img/img_00555.png          | Bin 0 -> 19262 bytes\n",
      " 20-formulas-and-bagruts/img/img_00556.png          | Bin 0 -> 44423 bytes\n",
      " 20-formulas-and-bagruts/img/img_00557.png          | Bin 0 -> 4265 bytes\n",
      " 20-formulas-and-bagruts/img/img_00562.png          | Bin 0 -> 46935 bytes\n",
      " 20-formulas-and-bagruts/img/img_00564.png          | Bin 0 -> 34001 bytes\n",
      " 20-formulas-and-bagruts/img/img_00568.png          | Bin 0 -> 108123 bytes\n",
      " 20-formulas-and-bagruts/img/img_00570.png          | Bin 0 -> 20853 bytes\n",
      " 20-formulas-and-bagruts/img/img_00571.png          | Bin 0 -> 3902 bytes\n",
      " 20-formulas-and-bagruts/img/img_00572.png          | Bin 0 -> 51626 bytes\n",
      " 20-formulas-and-bagruts/img/img_00573.png          | Bin 0 -> 14321 bytes\n",
      " 20-formulas-and-bagruts/img/img_00574.png          | Bin 0 -> 33595 bytes\n",
      " 20-formulas-and-bagruts/img/img_00575.png          | Bin 0 -> 56112 bytes\n",
      " 20-formulas-and-bagruts/img/img_00589.png          | Bin 0 -> 85042 bytes\n",
      " 20-formulas-and-bagruts/img/img_00590.png          | Bin 0 -> 9249 bytes\n",
      " 20-formulas-and-bagruts/img/img_00591.png          | Bin 0 -> 68180 bytes\n",
      " 20-formulas-and-bagruts/img/img_00592.png          | Bin 0 -> 53778 bytes\n",
      " 20-formulas-and-bagruts/img/img_00593.png          | Bin 0 -> 40596 bytes\n",
      " 20-formulas-and-bagruts/img/img_00594.png          | Bin 0 -> 71834 bytes\n",
      " 20-formulas-and-bagruts/img/img_00595.png          | Bin 0 -> 45566 bytes\n",
      " 20-formulas-and-bagruts/img/img_00596.png          | Bin 0 -> 20030 bytes\n",
      " 36 files changed, 1049 insertions(+), 17 deletions(-)\n",
      " create mode 100644 20-formulas-and-bagruts/41-matkonet/41-matkonet.dib\n",
      " create mode 100644 20-formulas-and-bagruts/41-matkonet/41-matkonet.ipynb\n",
      " create mode 100644 20-formulas-and-bagruts/42-prepare/set-01.ipynb\n",
      " create mode 100644 20-formulas-and-bagruts/img/img_00395.png\n",
      " create mode 100644 20-formulas-and-bagruts/img/img_00500.png\n",
      " create mode 100644 20-formulas-and-bagruts/img/img_00501.png\n",
      " create mode 100644 20-formulas-and-bagruts/img/img_00502.png\n",
      " create mode 100644 20-formulas-and-bagruts/img/img_00503.png\n",
      " create mode 100644 20-formulas-and-bagruts/img/img_00553.png\n",
      " create mode 100644 20-formulas-and-bagruts/img/img_00554.png\n",
      " create mode 100644 20-formulas-and-bagruts/img/img_00555.png\n",
      " create mode 100644 20-formulas-and-bagruts/img/img_00556.png\n",
      " create mode 100644 20-formulas-and-bagruts/img/img_00557.png\n",
      " create mode 100644 20-formulas-and-bagruts/img/img_00562.png\n",
      " create mode 100644 20-formulas-and-bagruts/img/img_00564.png\n",
      " create mode 100644 20-formulas-and-bagruts/img/img_00568.png\n",
      " create mode 100644 20-formulas-and-bagruts/img/img_00570.png\n",
      " create mode 100644 20-formulas-and-bagruts/img/img_00571.png\n",
      " create mode 100644 20-formulas-and-bagruts/img/img_00572.png\n",
      " create mode 100644 20-formulas-and-bagruts/img/img_00573.png\n",
      " create mode 100644 20-formulas-and-bagruts/img/img_00574.png\n",
      " create mode 100644 20-formulas-and-bagruts/img/img_00575.png\n",
      " create mode 100644 20-formulas-and-bagruts/img/img_00589.png\n",
      " create mode 100644 20-formulas-and-bagruts/img/img_00590.png\n",
      " create mode 100644 20-formulas-and-bagruts/img/img_00591.png\n",
      " create mode 100644 20-formulas-and-bagruts/img/img_00592.png\n",
      " create mode 100644 20-formulas-and-bagruts/img/img_00593.png\n",
      " create mode 100644 20-formulas-and-bagruts/img/img_00594.png\n",
      " create mode 100644 20-formulas-and-bagruts/img/img_00595.png\n",
      " create mode 100644 20-formulas-and-bagruts/img/img_00596.png\n",
      "\n",
      "\n"
     ]
    },
    {
     "name": "stderr",
     "output_type": "stream",
     "text": [
      "To https://github.com/eylon-holon/java-abc\n",
      "   043e4866..d909720e  alma-kimhi -> alma-kimhi\n"
     ]
    }
   ],
   "source": [
    "from eylon.core import *\n",
    "store_all_changes_to_github()\n",
    "get_next_lesson()"
   ]
  }
 ],
 "metadata": {
  "kernelspec": {
   "display_name": "Python 3",
   "language": "python",
   "name": "python3"
  },
  "language_info": {
   "codemirror_mode": {
    "name": "ipython",
    "version": 3
   },
   "file_extension": ".py",
   "mimetype": "text/x-python",
   "name": "python",
   "nbconvert_exporter": "python",
   "pygments_lexer": "ipython3",
   "version": "3.12.1"
  }
 },
 "nbformat": 4,
 "nbformat_minor": 2
}
