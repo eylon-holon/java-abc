{
 "cells": [
  {
   "cell_type": "code",
   "execution_count": 1,
   "metadata": {},
   "outputs": [
    {
     "name": "stderr",
     "output_type": "stream",
     "text": [
      "From https://github.com/eylon-holon/java-abc\n",
      "   f6c387d..2351e9d  carmel-dayan -> origin/carmel-dayan\n",
      "   61b4169..53bfb76  gosha-smeh   -> origin/gosha-smeh\n",
      "   95d108c..ac39916  main         -> origin/main\n",
      "   9dbf7f3..e12e5c4  orin-baot    -> origin/orin-baot\n"
     ]
    },
    {
     "name": "stdout",
     "output_type": "stream",
     "text": [
      "Already up to date.\n",
      "\n",
      "\n",
      "[shaked-bekerman cf5738e] auto commit...\n",
      " 2 files changed, 9 insertions(+), 183 deletions(-)\n",
      "\n"
     ]
    },
    {
     "name": "stderr",
     "output_type": "stream",
     "text": [
      "To https://github.com/eylon-holon/java-abc\n",
      "   803b224..cf5738e  shaked-bekerman -> shaked-bekerman\n"
     ]
    },
    {
     "name": "stdout",
     "output_type": "stream",
     "text": [
      "\n",
      "Auto-merging 20-formulas-and-bagruts/42-prepare/set-01.ipynb\n",
      "Merge made by the 'ort' strategy.\n",
      " .../41-matkonet/41-matkonet.dib                    |  29 ++++-\n",
      " .../41-matkonet/41-matkonet.ipynb                  |  42 +++++-\n",
      " 20-formulas-and-bagruts/42-prepare/set-01.ipynb    |  34 ++++-\n",
      " 20-formulas-and-bagruts/42-prepare/set-02.ipynb    | 144 +++++++++++++++++++++\n",
      " 20-formulas-and-bagruts/img/img_00573.png          | Bin 14321 -> 0 bytes\n",
      " 20-formulas-and-bagruts/img/img_00598.png          | Bin 0 -> 215045 bytes\n",
      " 20-formulas-and-bagruts/img/img_00622.png          | Bin 0 -> 14313 bytes\n",
      " 20-formulas-and-bagruts/img/img_00623.png          | Bin 0 -> 24591 bytes\n",
      " 8 files changed, 240 insertions(+), 9 deletions(-)\n",
      " create mode 100644 20-formulas-and-bagruts/42-prepare/set-02.ipynb\n",
      " delete mode 100644 20-formulas-and-bagruts/img/img_00573.png\n",
      " create mode 100644 20-formulas-and-bagruts/img/img_00598.png\n",
      " create mode 100644 20-formulas-and-bagruts/img/img_00622.png\n",
      " create mode 100644 20-formulas-and-bagruts/img/img_00623.png\n",
      "\n",
      "\n"
     ]
    },
    {
     "name": "stderr",
     "output_type": "stream",
     "text": [
      "To https://github.com/eylon-holon/java-abc\n",
      "   cf5738e..ef55e1f  shaked-bekerman -> shaked-bekerman\n"
     ]
    }
   ],
   "source": [
    "from eylon.core import *\n",
    "store_all_changes_to_github()\n",
    "get_next_lesson()"
   ]
  }
 ],
 "metadata": {
  "kernelspec": {
   "display_name": "Python 3",
   "language": "python",
   "name": "python3"
  },
  "language_info": {
   "codemirror_mode": {
    "name": "ipython",
    "version": 3
   },
   "file_extension": ".py",
   "mimetype": "text/x-python",
   "name": "python",
   "nbconvert_exporter": "python",
   "pygments_lexer": "ipython3",
   "version": "3.12.1"
  }
 },
 "nbformat": 4,
 "nbformat_minor": 2
}
