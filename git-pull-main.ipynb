{
 "cells": [
  {
   "cell_type": "code",
   "execution_count": 1,
   "metadata": {
    "dotnet_interactive": {
     "language": "csharp"
    },
    "polyglot_notebook": {
     "kernelName": "csharp"
    }
   },
   "outputs": [
    {
     "name": "stderr",
     "output_type": "stream",
     "text": [
      "From https://github.com/eylon-holon/java-abc\n",
      "   a4178eb..50e59bc  carmel-dayan  -> origin/carmel-dayan\n",
      "   f43e069..b4423f6  david-madany  -> origin/david-madany\n",
      "   3104293..0cc5c23  eyal-belinsky -> origin/eyal-belinsky\n",
      "   9cb5a2b..078bd8d  gal-alon      -> origin/gal-alon\n",
      "   c2fe8f6..1c10a15  hila-atzmon   -> origin/hila-atzmon\n",
      "   a37110a..8e5ebb0  main          -> origin/main\n",
      "   61da300..7b736bc  tamar-tirosh  -> origin/tamar-tirosh\n",
      "   7c0f43c..46d6aed  yari-moshe    -> origin/yari-moshe\n"
     ]
    },
    {
     "name": "stdout",
     "output_type": "stream",
     "text": [
      "Already up to date.\n",
      "\n",
      "\n",
      "[linoy-netach 2ff5ff1] auto commit...\n",
      " 3 files changed, 57 insertions(+), 128 deletions(-)\n",
      "\n"
     ]
    },
    {
     "name": "stderr",
     "output_type": "stream",
     "text": [
      "To https://github.com/eylon-holon/java-abc\n",
      "   5c319f3..2ff5ff1  linoy-netach -> linoy-netach\n"
     ]
    },
    {
     "name": "stdout",
     "output_type": "stream",
     "text": [
      "\n",
      "Merge made by the 'ort' strategy.\n",
      " .../20-formula-pages/20---index.dib                |  26 ++-\n",
      " .../20-formula-pages/20-array.ipynb                |  32 ++++\n",
      " .../20-formula-pages/20-binary-tree.ipynb          |  19 ++\n",
      " .../20-formula-pages/20-linked-list.ipynb          | 212 ++++++++++-----------\n",
      " .../20-formula-pages/20-queue.ipynb                |  79 +++++++-\n",
      " .../21-arrays-in-bagruts/20-array.2022-1.ipynb     |   7 +\n",
      " .../21-arrays-in-bagruts/20-array.2022-2.ipynb     |   7 +\n",
      " .../21-arrays-in-bagruts/20-array.2023-1.ipynb     |   7 +\n",
      " .../21-arrays-in-bagruts/20-array.2023-2.ipynb     |   7 +\n",
      " .../21-arrays-in-bagruts/20-class.2022-3.ipynb     |  94 ---------\n",
      " ...ut-2021-4.ipynb => 20-linked-list.2021-4.ipynb} |  52 +++--\n",
      " ...ut-2021-5.ipynb => 20-linked-list.2021-5.ipynb} |  39 +++-\n",
      " .../20-linked-list.2022-4.ipynb                    |  86 ++++++++-\n",
      " .../20-linked-list.2023-5.ipynb                    | 185 +++++++++++++++++-\n",
      " ...ut-2022-7.ipynb => 20-binary-tree.2022-7.ipynb} |  11 +-\n",
      " .../20-binary-tree.2023-6.ipynb                    |  84 +++++++-\n",
      " .../20-array-of-classes.2023-3.ipynb               |   8 +-\n",
      " .../25-classes-in-bagruts/20-class.2022-3.ipynb    | 126 ++++++++++++\n",
      " .../30-modelim-pages/30-modelim-defs.dib           |  12 ++\n",
      " .../30-modelim-pages/30-modelim-fsm-with-stack.dib |  27 +++\n",
      " .../30-modelim-pages/30-modelim-fsm.dib            |  91 +++++++++\n",
      " .../30-modelim-pages/30-modelim-lang.dib           |  68 +++++++\n",
      " .../30-modelim-pages/30-modelim-nfsm.dib           |  13 ++\n",
      " .../40-mikud/40-mikud-matkonet.ipynb               | 171 +++++++++++++++++\n",
      " 20-formulas-and-bagruts/core/Helpers.java          |  17 ++\n",
      " 20-formulas-and-bagruts/formulas.ipynb             |   4 +-\n",
      " 20-formulas-and-bagruts/img/10-fsm-a03-q05-q06.png | Bin 0 -> 18210 bytes\n",
      " 20-formulas-and-bagruts/img/im2_00368.png          | Bin 0 -> 39803 bytes\n",
      " 20-formulas-and-bagruts/img/im2_00369.png          | Bin 0 -> 28560 bytes\n",
      " 20-formulas-and-bagruts/img/im2_00370.png          | Bin 0 -> 23985 bytes\n",
      " 20-formulas-and-bagruts/img/im2_00371.png          | Bin 0 -> 23682 bytes\n",
      " 20-formulas-and-bagruts/img/im2_00372.png          | Bin 0 -> 23884 bytes\n",
      " 20-formulas-and-bagruts/img/im2_00376.png          | Bin 0 -> 34681 bytes\n",
      " 20-formulas-and-bagruts/img/im2_00377.png          | Bin 0 -> 25663 bytes\n",
      " 20-formulas-and-bagruts/img/img_00358.png          | Bin 0 -> 4003 bytes\n",
      " 20-formulas-and-bagruts/img/img_00359.png          | Bin 0 -> 24402 bytes\n",
      " 20-formulas-and-bagruts/img/img_00360.png          | Bin 0 -> 22396 bytes\n",
      " 20-formulas-and-bagruts/img/img_00361.png          | Bin 0 -> 25776 bytes\n",
      " 20-formulas-and-bagruts/img/img_00362.png          | Bin 0 -> 43622 bytes\n",
      " 20-formulas-and-bagruts/img/img_00363.png          | Bin 0 -> 87112 bytes\n",
      " 20-formulas-and-bagruts/img/img_00364.png          | Bin 0 -> 5845 bytes\n",
      " 20-formulas-and-bagruts/img/img_00365.png          | Bin 0 -> 46403 bytes\n",
      " 20-formulas-and-bagruts/img/img_00366.png          | Bin 0 -> 49638 bytes\n",
      " 20-formulas-and-bagruts/img/img_00367.png          | Bin 0 -> 15229 bytes\n",
      " 20-formulas-and-bagruts/img/img_00368.png          | Bin 0 -> 19898 bytes\n",
      " 20-formulas-and-bagruts/img/img_00369.png          | Bin 0 -> 18932 bytes\n",
      " 20-formulas-and-bagruts/img/img_00371.png          | Bin 0 -> 11971 bytes\n",
      " 20-formulas-and-bagruts/img/img_00372.png          | Bin 0 -> 21570 bytes\n",
      " 20-formulas-and-bagruts/img/img_00373.png          | Bin 0 -> 42129 bytes\n",
      " 20-formulas-and-bagruts/img/img_00374.png          | Bin 0 -> 34869 bytes\n",
      " 20-formulas-and-bagruts/img/img_00401.png          | Bin 0 -> 65386 bytes\n",
      " 51 files changed, 1224 insertions(+), 260 deletions(-)\n",
      " delete mode 100644 20-formulas-and-bagruts/21-arrays-in-bagruts/20-class.2022-3.ipynb\n",
      " rename 20-formulas-and-bagruts/22-linked-lists-in-bugruts/{20-linked-list.bagrut-2021-4.ipynb => 20-linked-list.2021-4.ipynb} (70%)\n",
      " rename 20-formulas-and-bagruts/22-linked-lists-in-bugruts/{20-linked-list.bagrut-2021-5.ipynb => 20-linked-list.2021-5.ipynb} (72%)\n",
      " rename 20-formulas-and-bagruts/23-binary-trees-in-bagruts/{20-binary-tree.bugrut-2022-7.ipynb => 20-binary-tree.2022-7.ipynb} (96%)\n",
      " rename 20-formulas-and-bagruts/{21-arrays-in-bagruts => 25-classes-in-bagruts}/20-array-of-classes.2023-3.ipynb (100%)\n",
      " create mode 100644 20-formulas-and-bagruts/25-classes-in-bagruts/20-class.2022-3.ipynb\n",
      " create mode 100644 20-formulas-and-bagruts/30-modelim-pages/30-modelim-defs.dib\n",
      " create mode 100644 20-formulas-and-bagruts/30-modelim-pages/30-modelim-fsm-with-stack.dib\n",
      " create mode 100644 20-formulas-and-bagruts/30-modelim-pages/30-modelim-fsm.dib\n",
      " create mode 100644 20-formulas-and-bagruts/30-modelim-pages/30-modelim-lang.dib\n",
      " create mode 100644 20-formulas-and-bagruts/30-modelim-pages/30-modelim-nfsm.dib\n",
      " create mode 100644 20-formulas-and-bagruts/40-mikud/40-mikud-matkonet.ipynb\n",
      " create mode 100644 20-formulas-and-bagruts/img/10-fsm-a03-q05-q06.png\n",
      " create mode 100644 20-formulas-and-bagruts/img/im2_00368.png\n",
      " create mode 100644 20-formulas-and-bagruts/img/im2_00369.png\n",
      " create mode 100644 20-formulas-and-bagruts/img/im2_00370.png\n",
      " create mode 100644 20-formulas-and-bagruts/img/im2_00371.png\n",
      " create mode 100644 20-formulas-and-bagruts/img/im2_00372.png\n",
      " create mode 100644 20-formulas-and-bagruts/img/im2_00376.png\n",
      " create mode 100644 20-formulas-and-bagruts/img/im2_00377.png\n",
      " create mode 100644 20-formulas-and-bagruts/img/img_00358.png\n",
      " create mode 100644 20-formulas-and-bagruts/img/img_00359.png\n",
      " create mode 100644 20-formulas-and-bagruts/img/img_00360.png\n",
      " create mode 100644 20-formulas-and-bagruts/img/img_00361.png\n",
      " create mode 100644 20-formulas-and-bagruts/img/img_00362.png\n",
      " create mode 100644 20-formulas-and-bagruts/img/img_00363.png\n",
      " create mode 100644 20-formulas-and-bagruts/img/img_00364.png\n",
      " create mode 100644 20-formulas-and-bagruts/img/img_00365.png\n",
      " create mode 100644 20-formulas-and-bagruts/img/img_00366.png\n",
      " create mode 100644 20-formulas-and-bagruts/img/img_00367.png\n",
      " create mode 100644 20-formulas-and-bagruts/img/img_00368.png\n",
      " create mode 100644 20-formulas-and-bagruts/img/img_00369.png\n",
      " create mode 100644 20-formulas-and-bagruts/img/img_00371.png\n",
      " create mode 100644 20-formulas-and-bagruts/img/img_00372.png\n",
      " create mode 100644 20-formulas-and-bagruts/img/img_00373.png\n",
      " create mode 100644 20-formulas-and-bagruts/img/img_00374.png\n",
      " create mode 100644 20-formulas-and-bagruts/img/img_00401.png\n",
      "\n",
      "\n"
     ]
    },
    {
     "name": "stderr",
     "output_type": "stream",
     "text": [
      "To https://github.com/eylon-holon/java-abc\n",
      "   2ff5ff1..df4a95c  linoy-netach -> linoy-netach\n"
     ]
    }
   ],
   "source": [
    "from eylon.core import *\n",
    "store_all_changes_to_github()\n",
    "get_next_lesson()"
   ]
  }
 ],
 "metadata": {
  "kernelspec": {
   "display_name": "Python 3",
   "language": "python",
   "name": "python3"
  },
  "language_info": {
   "codemirror_mode": {
    "name": "ipython",
    "version": 3
   },
   "file_extension": ".py",
   "mimetype": "text/x-python",
   "name": "python",
   "nbconvert_exporter": "python",
   "pygments_lexer": "ipython3",
   "version": "3.12.1"
  },
  "polyglot_notebook": {
   "kernelInfo": {
    "defaultKernelName": "csharp",
    "items": [
     {
      "aliases": [],
      "name": "csharp"
     }
    ]
   }
  }
 },
 "nbformat": 4,
 "nbformat_minor": 2
}
