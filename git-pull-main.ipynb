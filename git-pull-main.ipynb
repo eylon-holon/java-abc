{
 "cells": [
  {
   "cell_type": "code",
   "execution_count": 1,
   "metadata": {},
   "outputs": [
    {
     "name": "stderr",
     "output_type": "stream",
     "text": [
      "From https://github.com/eylon-holon/java-abc\n",
      "   0025059a..e4d1b973  carmel-dayan  -> origin/carmel-dayan\n",
      "   eb2199c9..e9bcc579  eyal-belinsky -> origin/eyal-belinsky\n",
      "   be5c2ec9..9f624b2b  gal-osovsky   -> origin/gal-osovsky\n",
      "   53bfb766..9ca7da96  gosha-smeh    -> origin/gosha-smeh\n",
      "   7e7b4619..cef87a8c  linoy-netach  -> origin/linoy-netach\n",
      "   ac399167..32c59052  main          -> origin/main\n",
      "   99aef9c3..d3ed20f9  ziv-jungmann  -> origin/ziv-jungmann\n"
     ]
    },
    {
     "name": "stdout",
     "output_type": "stream",
     "text": [
      "Already up to date.\n",
      "\n",
      "\n",
      "[hila-atzmon 02221951] auto commit...\n",
      " 1 file changed, 4 insertions(+), 4 deletions(-)\n",
      "\n"
     ]
    },
    {
     "name": "stderr",
     "output_type": "stream",
     "text": [
      "To https://github.com/eylon-holon/java-abc\n",
      "   2c84f4ef..02221951  hila-atzmon -> hila-atzmon\n"
     ]
    },
    {
     "name": "stdout",
     "output_type": "stream",
     "text": [
      "\n",
      "Auto-merging 20-formulas-and-bagruts/42-prepare/set-01.ipynb\n",
      "Merge made by the 'ort' strategy.\n",
      " .../20-formula-pages/20-run-time-complexity.ipynb  | 149 +++++++++++++++++++++\n",
      " 20-formulas-and-bagruts/42-prepare/set-01.ipynb    |  46 ++++++-\n",
      " 2 files changed, 193 insertions(+), 2 deletions(-)\n",
      "\n",
      "\n"
     ]
    },
    {
     "name": "stderr",
     "output_type": "stream",
     "text": [
      "To https://github.com/eylon-holon/java-abc\n",
      "   02221951..880b30c3  hila-atzmon -> hila-atzmon\n"
     ]
    }
   ],
   "source": [
    "from eylon.core import *\n",
    "store_all_changes_to_github()\n",
    "get_next_lesson()"
   ]
  }
 ],
 "metadata": {
  "kernelspec": {
   "display_name": "Python 3",
   "language": "python",
   "name": "python3"
  },
  "language_info": {
   "codemirror_mode": {
    "name": "ipython",
    "version": 3
   },
   "file_extension": ".py",
   "mimetype": "text/x-python",
   "name": "python",
   "nbconvert_exporter": "python",
   "pygments_lexer": "ipython3",
   "version": "3.12.1"
  }
 },
 "nbformat": 4,
 "nbformat_minor": 2
}
