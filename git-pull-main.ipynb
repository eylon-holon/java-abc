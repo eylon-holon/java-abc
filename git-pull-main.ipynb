{
 "cells": [
  {
   "cell_type": "code",
   "execution_count": 1,
   "metadata": {
    "dotnet_interactive": {
     "language": "csharp"
    },
    "polyglot_notebook": {
     "kernelName": "csharp"
    }
   },
   "outputs": [
    {
     "name": "stderr",
     "output_type": "stream",
     "text": [
      "From https://github.com/eylon-holon/java-abc\n",
      "   a6f321c..e44aca5  alma-kimhi        -> origin/alma-kimhi\n",
      "   b1b277f..c6302db  bat-hen-zaltsman  -> origin/bat-hen-zaltsman\n",
      "   9934e5a..a4178eb  carmel-dayan      -> origin/carmel-dayan\n",
      "   3dd546c..77a4371  daniel-yakobovitz -> origin/daniel-yakobovitz\n",
      "   d6b272c..73804b5  david-madany      -> origin/david-madany\n",
      "   3dd9890..3104293  eyal-belinsky     -> origin/eyal-belinsky\n",
      "   b7fa191..9cb5a2b  gal-alon          -> origin/gal-alon\n",
      "   d088c39..a466ee5  gal-osovsky       -> origin/gal-osovsky\n",
      "   f9b6196..4322c61  hila-atzmon       -> origin/hila-atzmon\n",
      "   0323a7e..6c25b91  linoy-netach      -> origin/linoy-netach\n",
      "   549ecf5..948eb8a  lior-frumkin      -> origin/lior-frumkin\n",
      "   b3ca902..df272ac  main              -> origin/main\n",
      "   cff6fad..20b36f3  orin-baot         -> origin/orin-baot\n",
      "   f3c6574..1bc2bf6  shaked-bekerman   -> origin/shaked-bekerman\n",
      "   2c8199f..23caf5f  tamar-tirosh      -> origin/tamar-tirosh\n",
      "   885e1fc..7c0f43c  yari-moshe        -> origin/yari-moshe\n",
      "   349154f..34f420c  yehonatan-shafir  -> origin/yehonatan-shafir\n",
      "   14f85ff..c9fa7a6  ziv-jungmann      -> origin/ziv-jungmann\n"
     ]
    },
    {
     "name": "stdout",
     "output_type": "stream",
     "text": [
      "Already up to date.\n",
      "\n",
      "\n",
      "[noa-slavinsky ab14a60] auto commit...\n",
      " 5 files changed, 104 insertions(+), 171 deletions(-)\n",
      "\n"
     ]
    },
    {
     "name": "stderr",
     "output_type": "stream",
     "text": [
      "To https://github.com/eylon-holon/java-abc.git\n",
      "   bb575a3..ab14a60  noa-slavinsky -> noa-slavinsky\n"
     ]
    },
    {
     "name": "stdout",
     "output_type": "stream",
     "text": [
      "\n",
      "Merge made by the 'ort' strategy.\n",
      " 20-formula-pages/20-binary-tree.ipynb       | 274 ++++++++++++++++++++++++++++\n",
      " 20-formula-pages/20-linked-list.ipynb       | 134 +++++++++++---\n",
      " 20-formula-pages/20-linked-list.tests.ipynb | 123 +++++++++++++\n",
      " 20-formula-pages/BinNode.java               |  53 ++++++\n",
      " 20-formula-pages/Helpers.java               |  50 +++++\n",
      " 20-formula-pages/Node.ipynb                 |  72 --------\n",
      " 20-formula-pages/Node.java                  |  43 +++++\n",
      " 20-formula-pages/formulas.ipynb             |   9 +-\n",
      " 8 files changed, 661 insertions(+), 97 deletions(-)\n",
      " create mode 100644 20-formula-pages/20-linked-list.tests.ipynb\n",
      " create mode 100644 20-formula-pages/BinNode.java\n",
      " create mode 100644 20-formula-pages/Helpers.java\n",
      " delete mode 100644 20-formula-pages/Node.ipynb\n",
      " create mode 100644 20-formula-pages/Node.java\n",
      "\n",
      "\n"
     ]
    },
    {
     "name": "stderr",
     "output_type": "stream",
     "text": [
      "To https://github.com/eylon-holon/java-abc.git\n",
      "   ab14a60..eeea086  noa-slavinsky -> noa-slavinsky\n"
     ]
    }
   ],
   "source": [
    "from eylon.core import *\n",
    "store_all_changes_to_github()\n",
    "get_next_lesson()"
   ]
  }
 ],
 "metadata": {
  "kernelspec": {
   "display_name": "Python 3",
   "language": "python",
   "name": "python3"
  },
  "language_info": {
   "codemirror_mode": {
    "name": "ipython",
    "version": 3
   },
   "file_extension": ".py",
   "mimetype": "text/x-python",
   "name": "python",
   "nbconvert_exporter": "python",
   "pygments_lexer": "ipython3",
   "version": "3.12.1"
  },
  "polyglot_notebook": {
   "kernelInfo": {
    "defaultKernelName": "csharp",
    "items": [
     {
      "aliases": [],
      "name": "csharp"
     }
    ]
   }
  }
 },
 "nbformat": 4,
 "nbformat_minor": 2
}
