{
 "cells": [
  {
   "cell_type": "code",
   "execution_count": 1,
   "metadata": {
    "dotnet_interactive": {
     "language": "csharp"
    },
    "polyglot_notebook": {
     "kernelName": "csharp"
    }
   },
   "outputs": [
    {
     "name": "stderr",
     "output_type": "stream",
     "text": [
      "From https://github.com/eylon-holon/java-abc\n",
      "   01653b85..d7a2a1ce  alma-kimhi      -> origin/alma-kimhi\n",
      "   b28d7cf0..a9eb3c68  david-madany    -> origin/david-madany\n",
      "   d0504453..8eb169f2  eyal-belinsky   -> origin/eyal-belinsky\n",
      "   9f624b2b..842ecd1a  gal-osovsky     -> origin/gal-osovsky\n",
      "   13b2d417..40628ee1  hila-atzmon     -> origin/hila-atzmon\n",
      "   72cff17c..04815882  main            -> origin/main\n",
      "   d20a5409..790fdfc2  shaked-bekerman -> origin/shaked-bekerman\n"
     ]
    },
    {
     "name": "stdout",
     "output_type": "stream",
     "text": [
      "Already up to date.\n",
      "\n",
      "\n",
      "[noa-slavinsky 36937c4e] auto commit...\n",
      " 1 file changed, 11 insertions(+), 1 deletion(-)\n",
      "\n"
     ]
    },
    {
     "name": "stderr",
     "output_type": "stream",
     "text": [
      "To https://github.com/eylon-holon/java-abc.git\n",
      "   cf0a4c38..36937c4e  noa-slavinsky -> noa-slavinsky\n"
     ]
    },
    {
     "name": "stdout",
     "output_type": "stream",
     "text": [
      "\n",
      "Auto-merging 20-formulas-and-bagruts/42-prepare/set-03.ipynb\n",
      "Merge made by the 'ort' strategy.\n",
      " 20-formulas-and-bagruts/42-prepare/set-03.ipynb | 14 ++++++++++++--\n",
      " 1 file changed, 12 insertions(+), 2 deletions(-)\n",
      "\n",
      "\n"
     ]
    },
    {
     "name": "stderr",
     "output_type": "stream",
     "text": [
      "To https://github.com/eylon-holon/java-abc.git\n",
      "   36937c4e..a56a4b40  noa-slavinsky -> noa-slavinsky\n"
     ]
    }
   ],
   "source": [
    "from eylon.core import *\n",
    "store_all_changes_to_github()\n",
    "get_next_lesson()"
   ]
  }
 ],
 "metadata": {
  "kernelspec": {
   "display_name": "Python 3",
   "language": "python",
   "name": "python3"
  },
  "language_info": {
   "codemirror_mode": {
    "name": "ipython",
    "version": 3
   },
   "file_extension": ".py",
   "mimetype": "text/x-python",
   "name": "python",
   "nbconvert_exporter": "python",
   "pygments_lexer": "ipython3",
   "version": "3.12.1"
  },
  "polyglot_notebook": {
   "kernelInfo": {
    "defaultKernelName": "csharp",
    "items": [
     {
      "aliases": [],
      "name": "csharp"
     }
    ]
   }
  }
 },
 "nbformat": 4,
 "nbformat_minor": 2
}
