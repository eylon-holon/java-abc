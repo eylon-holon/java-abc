{
 "cells": [
  {
   "cell_type": "code",
   "execution_count": 1,
   "metadata": {
    "dotnet_interactive": {
     "language": "csharp"
    },
    "polyglot_notebook": {
     "kernelName": "csharp"
    }
   },
   "outputs": [
    {
     "name": "stderr",
     "output_type": "stream",
     "text": [
      "From https://github.com/eylon-holon/java-abc\n",
      "   a6f321c..e44aca5  alma-kimhi      -> origin/alma-kimhi\n",
      "   d088c39..82130d5  gal-osovsky     -> origin/gal-osovsky\n",
      "   0323a7e..d77d2b2  linoy-netach    -> origin/linoy-netach\n",
      "   549ecf5..0719b4d  lior-frumkin    -> origin/lior-frumkin\n",
      "   b3ca902..df272ac  main            -> origin/main\n",
      "   cff6fad..20b36f3  orin-baot       -> origin/orin-baot\n",
      "   f3c6574..1bc2bf6  shaked-bekerman -> origin/shaked-bekerman\n",
      "   d021127..23caf5f  tamar-tirosh    -> origin/tamar-tirosh\n"
     ]
    },
    {
     "name": "stdout",
     "output_type": "stream",
     "text": [
      "Already up to date.\n",
      "\n",
      "\n",
      "[eyal-belinsky f3ad81f] auto commit...\n",
      " 5 files changed, 158 insertions(+), 108 deletions(-)\n",
      "\n"
     ]
    },
    {
     "name": "stderr",
     "output_type": "stream",
     "text": [
      "To https://github.com/eylon-holon/java-abc\n",
      "   23811d6..f3ad81f  eyal-belinsky -> eyal-belinsky\n"
     ]
    },
    {
     "name": "stdout",
     "output_type": "stream",
     "text": [
      "\n",
      "Merge made by the 'ort' strategy.\n",
      " 20-formula-pages/20-binary-tree.ipynb       | 274 ++++++++++++++++++++++++++++\n",
      " 20-formula-pages/20-linked-list.ipynb       | 134 +++++++++++---\n",
      " 20-formula-pages/20-linked-list.tests.ipynb | 123 +++++++++++++\n",
      " 20-formula-pages/BinNode.java               |  53 ++++++\n",
      " 20-formula-pages/Helpers.java               |  50 +++++\n",
      " 20-formula-pages/Node.ipynb                 |  72 --------\n",
      " 20-formula-pages/Node.java                  |  43 +++++\n",
      " 20-formula-pages/formulas.ipynb             |   9 +-\n",
      " 8 files changed, 661 insertions(+), 97 deletions(-)\n",
      " create mode 100644 20-formula-pages/20-linked-list.tests.ipynb\n",
      " create mode 100644 20-formula-pages/BinNode.java\n",
      " create mode 100644 20-formula-pages/Helpers.java\n",
      " delete mode 100644 20-formula-pages/Node.ipynb\n",
      " create mode 100644 20-formula-pages/Node.java\n",
      "\n",
      "\n"
     ]
    },
    {
     "name": "stderr",
     "output_type": "stream",
     "text": [
      "To https://github.com/eylon-holon/java-abc\n",
      "   f3ad81f..2d927f6  eyal-belinsky -> eyal-belinsky\n"
     ]
    }
   ],
   "source": [
    "from eylon.core import *\n",
    "store_all_changes_to_github()\n",
    "get_next_lesson()"
   ]
  }
 ],
 "metadata": {
  "kernelspec": {
   "display_name": "Python 3",
   "language": "python",
   "name": "python3"
  },
  "language_info": {
   "codemirror_mode": {
    "name": "ipython",
    "version": 3
   },
   "file_extension": ".py",
   "mimetype": "text/x-python",
   "name": "python",
   "nbconvert_exporter": "python",
   "pygments_lexer": "ipython3",
   "version": "3.12.1"
  },
  "polyglot_notebook": {
   "kernelInfo": {
    "defaultKernelName": "csharp",
    "items": [
     {
      "aliases": [],
      "name": "csharp"
     }
    ]
   }
  }
 },
 "nbformat": 4,
 "nbformat_minor": 2
}
