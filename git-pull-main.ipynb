{
 "cells": [
  {
   "cell_type": "code",
   "execution_count": 1,
   "metadata": {},
   "outputs": [
    {
     "name": "stdout",
     "output_type": "stream",
     "text": [
      "\n",
      "[yari-moshe dc13bdb] auto commit...\n",
      " 2 files changed, 33 insertions(+), 52 deletions(-)\n",
      "\n"
     ]
    },
    {
     "name": "stderr",
     "output_type": "stream",
     "text": [
      "To https://github.com/eylon-holon/java-abc\n",
      "   2a34d1c..dc13bdb  yari-moshe -> yari-moshe\n"
     ]
    },
    {
     "name": "stdout",
     "output_type": "stream",
     "text": [
      "\n"
     ]
    },
    {
     "name": "stderr",
     "output_type": "stream",
     "text": [
      "From https://github.com/eylon-holon/java-abc\n",
      " * branch            main       -> FETCH_HEAD\n",
      "   09dc8ad..bc9e592  main       -> origin/main\n"
     ]
    },
    {
     "name": "stdout",
     "output_type": "stream",
     "text": [
      "Merge made by the 'ort' strategy.\n",
      " 12-fsm-with-stack/12-fsm-hazara.dib                |  30 +++\n",
      " 12-fsm-with-stack/12-fsm-hazara.ipynb              | 203 +++++++++++++++++++++\n",
      " 12-fsm-with-stack/12-fsm-with-stack-a01.dib        |  52 ++++++\n",
      " 12-fsm-with-stack/12-fsm-with-stack-a01.ipynb      | 189 +++++++++++++++++++\n",
      " 12-fsm-with-stack/12-fsm-with-stack-intro.dib      |   1 +\n",
      " .../img/12-fms-with-stack-a01-q01.png              | Bin 0 -> 28805 bytes\n",
      " .../img/12-fms-with-stack-a01-q02.png              | Bin 0 -> 25552 bytes\n",
      " .../img/12-fms-with-stack-a01-q03.png              | Bin 0 -> 47973 bytes\n",
      " .../img/12-fms-with-stack-a01-q04.png              | Bin 0 -> 74423 bytes\n",
      " .../img/12-fms-with-stack-a01-q05.png              | Bin 0 -> 9436 bytes\n",
      " .../img/12-fms-with-stack-a01-q06.png              | Bin 0 -> 35142 bytes\n",
      " .../img/12-fms-with-stack-a01-q07.png              | Bin 0 -> 29898 bytes\n",
      " 12-fsm-with-stack/img/12-fsm-hazara-aslad.png      | Bin 0 -> 26075 bytes\n",
      " 12-fsm-with-stack/img/12-fsm-hazara-q01.png        | Bin 0 -> 147478 bytes\n",
      " 12-fsm-with-stack/img/12-fsm-hazara-q02.png        | Bin 0 -> 153016 bytes\n",
      " 12-fsm-with-stack/img/12-fsm-hazara-q03.png        | Bin 0 -> 48826 bytes\n",
      " 12-fsm-with-stack/img/12-fsm-hazara-q04.png        | Bin 0 -> 46217 bytes\n",
      " 12-fsm-with-stack/img/12-fsm-hazara-q05.png        | Bin 0 -> 34266 bytes\n",
      " 12-fsm-with-stack/img/12-fsm-hazara-q06.png        | Bin 0 -> 39169 bytes\n",
      " 12-fsm-with-stack/img/12-fsm-hazara-q07.png        | Bin 0 -> 80086 bytes\n",
      " j-core/fsm/DetermenisticFsm.java                   |   4 +\n",
      " j-core/fsm/FSM.java                                |   5 +\n",
      " j-core/fsm/FsmWithStack.java                       |  42 ++---\n",
      " j-core/fsm/MermaidFile2.java                       |   2 +-\n",
      " j-core/fsm/NondetermenisticFsm.java                |   4 +\n",
      " 25 files changed, 510 insertions(+), 22 deletions(-)\n",
      " create mode 100644 12-fsm-with-stack/12-fsm-hazara.dib\n",
      " create mode 100644 12-fsm-with-stack/12-fsm-hazara.ipynb\n",
      " create mode 100644 12-fsm-with-stack/12-fsm-with-stack-a01.dib\n",
      " create mode 100644 12-fsm-with-stack/12-fsm-with-stack-a01.ipynb\n",
      " create mode 100644 12-fsm-with-stack/img/12-fms-with-stack-a01-q01.png\n",
      " create mode 100644 12-fsm-with-stack/img/12-fms-with-stack-a01-q02.png\n",
      " create mode 100644 12-fsm-with-stack/img/12-fms-with-stack-a01-q03.png\n",
      " create mode 100644 12-fsm-with-stack/img/12-fms-with-stack-a01-q04.png\n",
      " create mode 100644 12-fsm-with-stack/img/12-fms-with-stack-a01-q05.png\n",
      " create mode 100644 12-fsm-with-stack/img/12-fms-with-stack-a01-q06.png\n",
      " create mode 100644 12-fsm-with-stack/img/12-fms-with-stack-a01-q07.png\n",
      " create mode 100644 12-fsm-with-stack/img/12-fsm-hazara-aslad.png\n",
      " create mode 100644 12-fsm-with-stack/img/12-fsm-hazara-q01.png\n",
      " create mode 100644 12-fsm-with-stack/img/12-fsm-hazara-q02.png\n",
      " create mode 100644 12-fsm-with-stack/img/12-fsm-hazara-q03.png\n",
      " create mode 100644 12-fsm-with-stack/img/12-fsm-hazara-q04.png\n",
      " create mode 100644 12-fsm-with-stack/img/12-fsm-hazara-q05.png\n",
      " create mode 100644 12-fsm-with-stack/img/12-fsm-hazara-q06.png\n",
      " create mode 100644 12-fsm-with-stack/img/12-fsm-hazara-q07.png\n",
      "\n"
     ]
    },
    {
     "name": "stderr",
     "output_type": "stream",
     "text": [
      "To https://github.com/eylon-holon/java-abc\n",
      "   dc13bdb..8487387  yari-moshe -> yari-moshe\n"
     ]
    }
   ],
   "source": [
    "from eylon.core import *\n",
    "store_all_changes_to_github()\n",
    "get_next_lesson()"
   ]
  }
 ],
 "metadata": {
  "kernelspec": {
   "display_name": "Python 3",
   "language": "python",
   "name": "python3"
  },
  "language_info": {
   "codemirror_mode": {
    "name": "ipython",
    "version": 3
   },
   "file_extension": ".py",
   "mimetype": "text/x-python",
   "name": "python",
   "nbconvert_exporter": "python",
   "pygments_lexer": "ipython3",
   "version": "3.12.1"
  }
 },
 "nbformat": 4,
 "nbformat_minor": 2
}
