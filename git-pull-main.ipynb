{
 "cells": [
  {
   "cell_type": "code",
   "execution_count": null,
   "metadata": {},
   "outputs": [
    {
     "name": "stdout",
     "output_type": "stream",
     "text": [
      "\n",
      "On branch ziv-jungmann\n",
      "Your branch is up to date with 'origin/ziv-jungmann'.\n",
      "\n",
      "nothing to commit, working tree clean\n",
      "\n"
     ]
    },
    {
     "name": "stderr",
     "output_type": "stream",
     "text": [
      "Everything up-to-date\n"
     ]
    },
    {
     "name": "stdout",
     "output_type": "stream",
     "text": [
      "\n"
     ]
    },
    {
     "name": "stderr",
     "output_type": "stream",
     "text": [
      "From https://github.com/eylon-holon/java-abc\n",
      " * branch            main       -> FETCH_HEAD\n",
      "   7107b20..21071c9  main       -> origin/main\n"
     ]
    },
    {
     "name": "stdout",
     "output_type": "stream",
     "text": [
      "Merge made by the 'ort' strategy.\n",
      " 02-arrays-1d.ipynb      |  99 +++++++++++++++++++++++++++\n",
      " 02-arrays-1d.java.ipynb | 173 ++++++++++++++++++++++++++++++++++++++++++++++++\n",
      " 2 files changed, 272 insertions(+)\n",
      " create mode 100644 02-arrays-1d.ipynb\n",
      " create mode 100644 02-arrays-1d.java.ipynb\n",
      "\n"
     ]
    },
    {
     "name": "stderr",
     "output_type": "stream",
     "text": [
      "To https://github.com/eylon-holon/java-abc\n",
      "   94f2ee6..bf317cf  ziv-jungmann -> ziv-jungmann\n"
     ]
    }
   ],
   "source": [
    "from eylon.core import *\n",
    "store_all_changes_to_github()\n",
    "get_next_lesson()"
   ]
  }
 ],
 "metadata": {
  "kernelspec": {
   "display_name": "Python 3",
   "language": "python",
   "name": "python3"
  },
  "language_info": {
   "codemirror_mode": {
    "name": "ipython",
    "version": 3
   },
   "file_extension": ".py",
   "mimetype": "text/x-python",
   "name": "python",
   "nbconvert_exporter": "python",
   "pygments_lexer": "ipython3",
   "version": "3.12.1"
  }
 },
 "nbformat": 4,
 "nbformat_minor": 2
}
