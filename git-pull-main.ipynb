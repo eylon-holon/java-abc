{
 "cells": [
  {
   "cell_type": "code",
   "execution_count": 1,
   "metadata": {},
   "outputs": [
    {
     "name": "stdout",
     "output_type": "stream",
     "text": [
      "\n",
<<<<<<< HEAD
      "[ziv-jungmann b05d299] auto commit...\n",
      " 4 files changed, 351 insertions(+), 68 deletions(-)\n",
=======
      "On branch gosha-smeh\n",
      "Your branch is up to date with 'origin/gosha-smeh'.\n",
      "\n",
      "nothing to commit, working tree clean\n",
>>>>>>> 5834ca6050cc17e8206cd38ddc14fb3ba1e8b622
      "\n"
     ]
    },
    {
     "name": "stderr",
     "output_type": "stream",
     "text": [
<<<<<<< HEAD
      "To https://github.com/eylon-holon/java-abc\n",
      "   8084800..b05d299  ziv-jungmann -> ziv-jungmann\n"
=======
      "Everything up-to-date\n"
>>>>>>> 5834ca6050cc17e8206cd38ddc14fb3ba1e8b622
     ]
    },
    {
     "name": "stdout",
     "output_type": "stream",
     "text": [
<<<<<<< HEAD
      "\n",
=======
>>>>>>> 5834ca6050cc17e8206cd38ddc14fb3ba1e8b622
      "\n"
     ]
    },
    {
     "name": "stderr",
     "output_type": "stream",
     "text": [
      "From https://github.com/eylon-holon/java-abc\n",
<<<<<<< HEAD
      " * branch            main       -> FETCH_HEAD\n",
      "   545934a..5834ca6  main       -> origin/main\n",
      "error: Your local changes to the following files would be overwritten by merge:\n",
      "\tgit-pull-main.ipynb\n",
      "Please commit your changes or stash them before you merge.\n",
      "Aborting\n",
      "Merge with strategy ort failed.\n"
=======
      " * branch            main       -> FETCH_HEAD\n"
     ]
    },
    {
     "name": "stdout",
     "output_type": "stream",
     "text": [
      "Already up to date.\n",
      "\n"
     ]
    },
    {
     "name": "stderr",
     "output_type": "stream",
     "text": [
      "Everything up-to-date\n"
>>>>>>> 5834ca6050cc17e8206cd38ddc14fb3ba1e8b622
     ]
    }
   ],
   "source": [
    "from eylon.core import *\n",
    "store_all_changes_to_github()\n",
    "get_next_lesson()"
   ]
  }
 ],
 "metadata": {
  "kernelspec": {
   "display_name": "Python 3",
   "language": "python",
   "name": "python3"
  },
  "language_info": {
   "codemirror_mode": {
    "name": "ipython",
    "version": 3
   },
   "file_extension": ".py",
   "mimetype": "text/x-python",
   "name": "python",
   "nbconvert_exporter": "python",
   "pygments_lexer": "ipython3",
   "version": "3.12.1"
  }
 },
 "nbformat": 4,
 "nbformat_minor": 2
}
