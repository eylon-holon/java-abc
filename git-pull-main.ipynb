{
 "cells": [
  {
   "cell_type": "code",
   "execution_count": 3,
   "metadata": {},
   "outputs": [
    {
     "name": "stderr",
     "output_type": "stream",
     "text": [
      "From https://github.com/eylon-holon/java-abc\n",
      "   46811bb..01653b8  alma-kimhi   -> origin/alma-kimhi\n",
      "   ec0f0e2..b28d7cf  david-madany -> origin/david-madany\n",
      "   d51ac5e..13b2d41  hila-atzmon  -> origin/hila-atzmon\n",
      "   0830d17..821887e  main         -> origin/main\n"
     ]
    },
    {
     "name": "stdout",
     "output_type": "stream",
     "text": [
      "Already up to date.\n",
      "\n",
      "\n",
      "[shaked-bekerman 3131d1a] auto commit...\n",
      " 1 file changed, 41 insertions(+), 2 deletions(-)\n",
      "\n"
     ]
    },
    {
     "name": "stderr",
     "output_type": "stream",
     "text": [
      "To https://github.com/eylon-holon/java-abc\n",
      "   b2e4a99..3131d1a  shaked-bekerman -> shaked-bekerman\n"
     ]
    },
    {
     "name": "stdout",
     "output_type": "stream",
     "text": [
      "\n",
      "Merge made by the 'ort' strategy.\n",
      " 20-formulas-and-bagruts/42-prepare/set-03.ipynb | 5 +++--\n",
      " 1 file changed, 3 insertions(+), 2 deletions(-)\n",
      "\n",
      "\n"
     ]
    },
    {
     "name": "stderr",
     "output_type": "stream",
     "text": [
      "To https://github.com/eylon-holon/java-abc\n",
      "   3131d1a..d20a540  shaked-bekerman -> shaked-bekerman\n"
     ]
    }
   ],
   "source": [
    "from eylon.core import *\n",
    "store_all_changes_to_github()\n",
    "get_next_lesson()"
   ]
  }
 ],
 "metadata": {
  "kernelspec": {
   "display_name": "Python 3",
   "language": "python",
   "name": "python3"
  },
  "language_info": {
   "codemirror_mode": {
    "name": "ipython",
    "version": 3
   },
   "file_extension": ".py",
   "mimetype": "text/x-python",
   "name": "python",
   "nbconvert_exporter": "python",
   "pygments_lexer": "ipython3",
   "version": "3.12.1"
  }
 },
 "nbformat": 4,
 "nbformat_minor": 2
}
