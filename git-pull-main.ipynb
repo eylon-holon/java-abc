{
 "cells": [
  {
   "cell_type": "code",
   "execution_count": null,
   "metadata": {},
   "outputs": [
    {
     "name": "stdout",
     "output_type": "stream",
     "text": [
      "\n",
      "[eyal-belinsky 6caa98e] auto commit...\n",
      " 8 files changed, 10 insertions(+), 27 deletions(-)\n",
      " create mode 100644 .ijava-kernel/__pycache__/install.cpython-312.pyc\n",
      " create mode 100644 eylon/__pycache__/classwork.cpython-312.pyc\n",
      " create mode 100644 eylon/__pycache__/config.cpython-312.pyc\n",
      " create mode 100644 eylon/__pycache__/core.cpython-312.pyc\n",
      " create mode 100644 eylon/__pycache__/post.cpython-312.pyc\n",
      " create mode 100644 eylon/__pycache__/utils.cpython-312.pyc\n",
      "\n"
     ]
    },
    {
     "name": "stderr",
     "output_type": "stream",
     "text": [
      "To https://github.com/eylon-holon/java-abc\n",
      "   99eff3e..6caa98e  eyal-belinsky -> eyal-belinsky\n"
     ]
    },
    {
     "name": "stdout",
     "output_type": "stream",
     "text": [
      "\n"
     ]
    },
    {
     "name": "stderr",
     "output_type": "stream",
     "text": [
      "From https://github.com/eylon-holon/java-abc\n",
      " * branch            main       -> FETCH_HEAD\n"
     ]
    },
    {
     "name": "stdout",
     "output_type": "stream",
     "text": [
      "Already up to date.\n",
      "\n"
     ]
    },
    {
     "name": "stderr",
     "output_type": "stream",
     "text": [
      "Everything up-to-date\n"
     ]
    }
   ],
   "source": [
    "from eylon.core import *\n",
    "store_all_changes_to_github()\n",
    "get_next_lesson()"
   ]
  }
 ],
 "metadata": {
  "kernelspec": {
   "display_name": "Python 3",
   "language": "python",
   "name": "python3"
  },
  "language_info": {
   "codemirror_mode": {
    "name": "ipython",
    "version": 3
   },
   "file_extension": ".py",
   "mimetype": "text/x-python",
   "name": "python",
   "nbconvert_exporter": "python",
   "pygments_lexer": "ipython3",
   "version": "3.12.1"
  }
 },
 "nbformat": 4,
 "nbformat_minor": 2
}
