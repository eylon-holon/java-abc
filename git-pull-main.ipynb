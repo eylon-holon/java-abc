{
 "cells": [
  {
   "cell_type": "code",
   "execution_count": 2,
   "metadata": {},
   "outputs": [
    {
     "name": "stderr",
     "output_type": "stream",
     "text": [
      "From https://github.com/eylon-holon/java-abc\n",
      "   50e59bc..c042d08  carmel-dayan    -> origin/carmel-dayan\n",
      "   b4423f6..49673e6  david-madany    -> origin/david-madany\n",
      "   a466ee5..be5c2ec  gal-osovsky     -> origin/gal-osovsky\n",
      "   189eb40..af86470  gosha-smeh      -> origin/gosha-smeh\n",
      "   1c10a15..22adcfb  hila-atzmon     -> origin/hila-atzmon\n",
      "   8e5ebb0..7ffdeec  main            -> origin/main\n",
      "   0155db6..4335f4a  shaked-bekerman -> origin/shaked-bekerman\n",
      "   2bf0119..2e20d73  tamar-tirosh    -> origin/tamar-tirosh\n",
      "   fe8e48c..2f9b43c  yari-moshe      -> origin/yari-moshe\n",
      "   c6876a4..712965e  ziv-jungmann    -> origin/ziv-jungmann\n",
      "hint: You have divergent branches and need to specify how to reconcile them.\n",
      "hint: You can do so by running one of the following commands sometime before\n",
      "hint: your next pull:\n",
      "hint:\n",
      "hint:   git config pull.rebase false  # merge\n",
      "hint:   git config pull.rebase true   # rebase\n",
      "hint:   git config pull.ff only       # fast-forward only\n",
      "hint:\n",
      "hint: You can replace \"git config\" with \"git config --global\" to set a default\n",
      "hint: preference for all repositories. You can also pass --rebase, --no-rebase,\n",
      "hint: or --ff-only on the command line to override the configured default per\n",
      "hint: invocation.\n",
      "fatal: Need to specify how to reconcile divergent branches.\n"
     ]
    },
    {
     "name": "stdout",
     "output_type": "stream",
     "text": [
      "\n",
      "\n",
      "On branch alma-kimhi\n",
      "Your branch and 'origin/alma-kimhi' have diverged,\n",
      "and have 10 and 7 different commits each, respectively.\n",
      "\n",
      "nothing to commit, working tree clean\n",
      "\n"
     ]
    },
    {
     "name": "stderr",
     "output_type": "stream",
     "text": [
      "To https://github.com/eylon-holon/java-abc\n",
      " ! [rejected]        alma-kimhi -> alma-kimhi (non-fast-forward)\n",
      "error: failed to push some refs to 'https://github.com/eylon-holon/java-abc'\n",
      "hint: Updates were rejected because the tip of your current branch is behind\n",
      "hint: its remote counterpart. If you want to integrate the remote changes,\n",
      "hint: use 'git pull' before pushing again.\n",
      "hint: See the 'Note about fast-forwards' in 'git push --help' for details.\n"
     ]
    },
    {
     "name": "stdout",
     "output_type": "stream",
     "text": [
      "\n",
      "Auto-merging 20-formulas-and-bagruts/40-mikud/40-mikud-matkonet.ipynb\n",
      "Merge made by the 'ort' strategy.\n",
      " .../20-formula-pages/20--common.ipynb              |  64 +++++++----\n",
      " .../40-mikud/40-mikud-matkonet.dib                 |  29 +++++\n",
      " .../40-mikud/40-mikud-matkonet.ipynb               | 127 ++++++++++++++++++++-\n",
      " 20-formulas-and-bagruts/40-mikud/fsm.ipynb         |  62 ++++++++++\n",
      " 20-formulas-and-bagruts/img/img_00405.png          | Bin 0 -> 33845 bytes\n",
      " 20-formulas-and-bagruts/img/img_00406.png          | Bin 0 -> 19530 bytes\n",
      " 6 files changed, 252 insertions(+), 30 deletions(-)\n",
      " create mode 100644 20-formulas-and-bagruts/40-mikud/40-mikud-matkonet.dib\n",
      " create mode 100644 20-formulas-and-bagruts/40-mikud/fsm.ipynb\n",
      " create mode 100644 20-formulas-and-bagruts/img/img_00405.png\n",
      " create mode 100644 20-formulas-and-bagruts/img/img_00406.png\n",
      "\n",
      "\n"
     ]
    },
    {
     "name": "stderr",
     "output_type": "stream",
     "text": [
      "To https://github.com/eylon-holon/java-abc\n",
      " ! [rejected]        alma-kimhi -> alma-kimhi (non-fast-forward)\n",
      "error: failed to push some refs to 'https://github.com/eylon-holon/java-abc'\n",
      "hint: Updates were rejected because the tip of your current branch is behind\n",
      "hint: its remote counterpart. If you want to integrate the remote changes,\n",
      "hint: use 'git pull' before pushing again.\n",
      "hint: See the 'Note about fast-forwards' in 'git push --help' for details.\n"
     ]
    }
   ],
   "source": [
    "from eylon.core import *\n",
    "store_all_changes_to_github()\n",
    "get_next_lesson()"
   ]
  }
 ],
 "metadata": {
  "kernelspec": {
   "display_name": "Python 3",
   "language": "python",
   "name": "python3"
  },
  "language_info": {
   "codemirror_mode": {
    "name": "ipython",
    "version": 3
   },
   "file_extension": ".py",
   "mimetype": "text/x-python",
   "name": "python",
   "nbconvert_exporter": "python",
   "pygments_lexer": "ipython3",
   "version": "3.11.9"
  }
 },
 "nbformat": 4,
 "nbformat_minor": 2
}
