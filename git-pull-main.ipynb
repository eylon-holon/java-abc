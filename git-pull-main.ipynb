{
 "cells": [
  {
   "cell_type": "code",
   "execution_count": null,
   "metadata": {},
   "outputs": [
    {
     "name": "stdout",
     "output_type": "stream",
     "text": [
      "\n",
      "On branch bat-hen-zaltsman\n",
      "Your branch is up to date with 'origin/bat-hen-zaltsman'.\n",
      "\n",
      "nothing to commit, working tree clean\n",
      "\n"
     ]
    },
    {
     "name": "stderr",
     "output_type": "stream",
     "text": [
      "Everything up-to-date\n"
     ]
    },
    {
     "name": "stdout",
     "output_type": "stream",
     "text": [
      "\n"
     ]
    },
    {
     "name": "stderr",
     "output_type": "stream",
     "text": [
      "From https://github.com/eylon-holon/java-abc\n",
      " * branch            main       -> FETCH_HEAD\n",
      "   0c0b877..02767ce  main       -> origin/main\n"
     ]
    },
    {
     "name": "stdout",
     "output_type": "stream",
     "text": [
      "Merge made by the 'ort' strategy.\n",
      " 05-queues/10-iterate-them.ipynb         | 133 ++++++++++++++++++++++++++++++++\n",
      " 05-queues/Queue.java                    |  15 +++-\n",
      " 05-queues/Stack.java                    |   6 ++\n",
      " 07-queue-and-stack/01-queue-tests.ipynb |  94 ++++++++++++++++++++++\n",
      " 07-queue-and-stack/02-stack-tests.ipynb |  67 ++++++++++++++++\n",
      " 07-queue-and-stack/Node.java            |  33 ++++++++\n",
      " 07-queue-and-stack/Queue.java           |  21 +++++\n",
      " 07-queue-and-stack/Stack.java           |  21 +++++\n",
      " 07-queue-and-stack/queues.ipynb         |  42 ++++++++++\n",
      " 9 files changed, 431 insertions(+), 1 deletion(-)\n",
      " create mode 100644 05-queues/10-iterate-them.ipynb\n",
      " create mode 100644 07-queue-and-stack/01-queue-tests.ipynb\n",
      " create mode 100644 07-queue-and-stack/02-stack-tests.ipynb\n",
      " create mode 100644 07-queue-and-stack/Node.java\n",
      " create mode 100644 07-queue-and-stack/Queue.java\n",
      " create mode 100644 07-queue-and-stack/Stack.java\n",
      " create mode 100644 07-queue-and-stack/queues.ipynb\n",
      "\n"
     ]
    },
    {
     "name": "stderr",
     "output_type": "stream",
     "text": [
      "To https://github.com/eylon-holon/java-abc\n",
      "   daa4ac0..be3abce  bat-hen-zaltsman -> bat-hen-zaltsman\n"
     ]
    }
   ],
   "source": [
    "from eylon.core import *\n",
    "store_all_changes_to_github()\n",
    "get_next_lesson()"
   ]
  }
 ],
 "metadata": {
  "kernelspec": {
   "display_name": "Python 3",
   "language": "python",
   "name": "python3"
  },
  "language_info": {
   "codemirror_mode": {
    "name": "ipython",
    "version": 3
   },
   "file_extension": ".py",
   "mimetype": "text/x-python",
   "name": "python",
   "nbconvert_exporter": "python",
   "pygments_lexer": "ipython3",
   "version": "3.12.1"
  }
 },
 "nbformat": 4,
 "nbformat_minor": 2
}
