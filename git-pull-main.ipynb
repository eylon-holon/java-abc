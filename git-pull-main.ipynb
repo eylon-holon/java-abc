{
 "cells": [
  {
   "cell_type": "code",
   "execution_count": null,
   "metadata": {},
   "outputs": [
    {
     "name": "stderr",
     "output_type": "stream",
     "text": [
      "From https://github.com/eylon-holon/java-abc\n",
      "   0025059a..e4d1b973  carmel-dayan  -> origin/carmel-dayan\n",
      "   e9bcc579..ab5ca555  eyal-belinsky -> origin/eyal-belinsky\n",
      "   53bfb766..d9fd811f  gosha-smeh    -> origin/gosha-smeh\n",
      "   2c84f4ef..4a96cdea  hila-atzmon   -> origin/hila-atzmon\n",
      "   7e7b4619..cef87a8c  linoy-netach  -> origin/linoy-netach\n",
      "   ac399167..fbc720ca  main          -> origin/main\n"
     ]
    },
    {
     "name": "stdout",
     "output_type": "stream",
     "text": [
      "Already up to date.\n",
      "\n",
      "\n",
      "[alma-kimhi 2854162c] auto commit...\n",
      " 1 file changed, 20 insertions(+), 72 deletions(-)\n",
      "\n"
     ]
    },
    {
     "name": "stderr",
     "output_type": "stream",
     "text": [
      "To https://github.com/eylon-holon/java-abc\n",
      "   327121e3..2854162c  alma-kimhi -> alma-kimhi\n"
     ]
    },
    {
     "name": "stdout",
     "output_type": "stream",
     "text": [
      "\n",
      "Auto-merging 20-formulas-and-bagruts/42-prepare/set-01.ipynb\n",
      "Merge made by the 'ort' strategy.\n",
      " .../20-formula-pages/20-run-time-complexity.ipynb  | 157 ++++\n",
      " .../41-matkonet/41-matkonet-2.dib                  | 111 +++\n",
      " .../41-matkonet/41-matkonet-2.ipynb                | 901 +++++++++++++++++++++\n",
      " 20-formulas-and-bagruts/42-prepare/set-01.ipynb    |  46 +-\n",
      " 20-formulas-and-bagruts/img/img_00674.png          | Bin 0 -> 17397 bytes\n",
      " 20-formulas-and-bagruts/img/img_00675.png          | Bin 0 -> 20042 bytes\n",
      " 20-formulas-and-bagruts/img/img_00716.png          | Bin 0 -> 23693 bytes\n",
      " 20-formulas-and-bagruts/img/img_00717.png          | Bin 0 -> 16987 bytes\n",
      " 20-formulas-and-bagruts/img/img_00718.png          | Bin 0 -> 14618 bytes\n",
      " 9 files changed, 1213 insertions(+), 2 deletions(-)\n",
      " create mode 100644 20-formulas-and-bagruts/41-matkonet/41-matkonet-2.dib\n",
      " create mode 100644 20-formulas-and-bagruts/41-matkonet/41-matkonet-2.ipynb\n",
      " create mode 100644 20-formulas-and-bagruts/img/img_00674.png\n",
      " create mode 100644 20-formulas-and-bagruts/img/img_00675.png\n",
      " create mode 100644 20-formulas-and-bagruts/img/img_00716.png\n",
      " create mode 100644 20-formulas-and-bagruts/img/img_00717.png\n",
      " create mode 100644 20-formulas-and-bagruts/img/img_00718.png\n",
      "\n",
      "\n"
     ]
    },
    {
     "name": "stderr",
     "output_type": "stream",
     "text": [
      "To https://github.com/eylon-holon/java-abc\n",
      "   2854162c..e283cb36  alma-kimhi -> alma-kimhi\n"
     ]
    }
   ],
   "source": [
    "from eylon.core import *\n",
    "store_all_changes_to_github()\n",
    "get_next_lesson()"
   ]
  }
 ],
 "metadata": {
  "kernelspec": {
   "display_name": "Python 3",
   "language": "python",
   "name": "python3"
  },
  "language_info": {
   "codemirror_mode": {
    "name": "ipython",
    "version": 3
   },
   "file_extension": ".py",
   "mimetype": "text/x-python",
   "name": "python",
   "nbconvert_exporter": "python",
   "pygments_lexer": "ipython3",
   "version": "3.12.1"
  }
 },
 "nbformat": 4,
 "nbformat_minor": 2
}
