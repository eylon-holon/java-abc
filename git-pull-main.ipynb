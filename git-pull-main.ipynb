{
 "cells": [
  {
   "cell_type": "code",
   "execution_count": 1,
   "metadata": {},
   "outputs": [
    {
     "name": "stdout",
     "output_type": "stream",
     "text": [
      "\n",
      "[hila-atzmon db5a2c0] auto commit...\n",
      " 2 files changed, 18 insertions(+), 11 deletions(-)\n",
      "\n"
     ]
    },
    {
     "name": "stderr",
     "output_type": "stream",
     "text": [
      "To https://github.com/eylon-holon/java-abc\n",
      "   e88a668..db5a2c0  hila-atzmon -> hila-atzmon\n"
     ]
    },
    {
     "name": "stdout",
     "output_type": "stream",
     "text": [
      "\n"
     ]
    },
    {
     "name": "stderr",
     "output_type": "stream",
     "text": [
      "From https://github.com/eylon-holon/java-abc\n",
      " * branch            main       -> FETCH_HEAD\n",
      "   a1a788c..0c0b877  main       -> origin/main\n"
     ]
    },
    {
     "name": "stdout",
     "output_type": "stream",
     "text": [
      "Merge made by the 'ort' strategy.\n",
      " .../06-values-and-references.ipynb                 | 659 +++++++++++++++++++++\n",
      " 06-value-vs-reference/Node.java                    |  62 ++\n",
      " 06-value-vs-reference/linked-list.ipynb            |  37 ++\n",
      " eylon/JavaUtils.java                               |  35 ++\n",
      " eylon/java-utils.ipynb                             |  37 +-\n",
      " 5 files changed, 808 insertions(+), 22 deletions(-)\n",
      " create mode 100644 06-value-vs-reference/06-values-and-references.ipynb\n",
      " create mode 100644 06-value-vs-reference/Node.java\n",
      " create mode 100644 06-value-vs-reference/linked-list.ipynb\n",
      " create mode 100644 eylon/JavaUtils.java\n",
      "\n"
     ]
    },
    {
     "name": "stderr",
     "output_type": "stream",
     "text": [
      "To https://github.com/eylon-holon/java-abc\n",
      "   db5a2c0..787c20b  hila-atzmon -> hila-atzmon\n"
     ]
    }
   ],
   "source": [
    "from eylon.core import *\n",
    "store_all_changes_to_github()\n",
    "get_next_lesson()"
   ]
  }
 ],
 "metadata": {
  "kernelspec": {
   "display_name": "Python 3",
   "language": "python",
   "name": "python3"
  },
  "language_info": {
   "codemirror_mode": {
    "name": "ipython",
    "version": 3
   },
   "file_extension": ".py",
   "mimetype": "text/x-python",
   "name": "python",
   "nbconvert_exporter": "python",
   "pygments_lexer": "ipython3",
   "version": "3.12.1"
  }
 },
 "nbformat": 4,
 "nbformat_minor": 2
}
