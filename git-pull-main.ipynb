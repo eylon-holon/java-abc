{
 "cells": [
  {
   "cell_type": "code",
   "execution_count": 1,
   "metadata": {
    "dotnet_interactive": {
     "language": "csharp"
    },
    "polyglot_notebook": {
     "kernelName": "csharp"
    }
   },
   "outputs": [
    {
     "name": "stdout",
     "output_type": "stream",
     "text": [
      "\n",
      "[lior-frumkin 383afed] auto commit...\n",
      " 2 files changed, 85 insertions(+), 58 deletions(-)\n",
      "\n"
     ]
    },
    {
     "name": "stderr",
     "output_type": "stream",
     "text": [
      "To https://github.com/eylon-holon/java-abc\n",
      "   8bc19eb..383afed  lior-frumkin -> lior-frumkin\n"
     ]
    },
    {
     "name": "stdout",
     "output_type": "stream",
     "text": [
      "\n"
     ]
    },
    {
     "name": "stderr",
     "output_type": "stream",
     "text": [
      "From https://github.com/eylon-holon/java-abc\n",
      " * branch            main       -> FETCH_HEAD\n",
      "   09dc8ad..5283877  main       -> origin/main\n"
     ]
    },
    {
     "name": "stdout",
     "output_type": "stream",
     "text": [
      "Merge made by the 'ort' strategy.\n",
      " 12-fsm-with-stack/12-fsm-hazara.dib                |  30 +++\n",
      " 12-fsm-with-stack/12-fsm-hazara.ipynb              | 203 +++++++++++++++++++++\n",
      " 12-fsm-with-stack/12-fsm-with-stack-a01.dib        |  52 ++++++\n",
      " 12-fsm-with-stack/12-fsm-with-stack-a01.ipynb      | 189 +++++++++++++++++++\n",
      " .../img/12-fms-with-stack-a01-q01.png              | Bin 0 -> 28805 bytes\n",
      " .../img/12-fms-with-stack-a01-q02.png              | Bin 0 -> 25552 bytes\n",
      " .../img/12-fms-with-stack-a01-q03.png              | Bin 0 -> 47973 bytes\n",
      " .../img/12-fms-with-stack-a01-q04.png              | Bin 0 -> 74423 bytes\n",
      " .../img/12-fms-with-stack-a01-q05.png              | Bin 0 -> 9436 bytes\n",
      " .../img/12-fms-with-stack-a01-q06.png              | Bin 0 -> 35142 bytes\n",
      " .../img/12-fms-with-stack-a01-q07.png              | Bin 0 -> 29898 bytes\n",
      " 12-fsm-with-stack/img/12-fsm-hazara-aslad.png      | Bin 0 -> 26075 bytes\n",
      " 12-fsm-with-stack/img/12-fsm-hazara-q01.png        | Bin 0 -> 147478 bytes\n",
      " 12-fsm-with-stack/img/12-fsm-hazara-q02.png        | Bin 0 -> 153016 bytes\n",
      " 12-fsm-with-stack/img/12-fsm-hazara-q03.png        | Bin 0 -> 48826 bytes\n",
      " 12-fsm-with-stack/img/12-fsm-hazara-q04.png        | Bin 0 -> 46217 bytes\n",
      " 12-fsm-with-stack/img/12-fsm-hazara-q05.png        | Bin 0 -> 34266 bytes\n",
      " 12-fsm-with-stack/img/12-fsm-hazara-q06.png        | Bin 0 -> 39169 bytes\n",
      " 12-fsm-with-stack/img/12-fsm-hazara-q07.png        | Bin 0 -> 80086 bytes\n",
      " 19 files changed, 474 insertions(+)\n",
      " create mode 100644 12-fsm-with-stack/12-fsm-hazara.dib\n",
      " create mode 100644 12-fsm-with-stack/12-fsm-hazara.ipynb\n",
      " create mode 100644 12-fsm-with-stack/12-fsm-with-stack-a01.dib\n",
      " create mode 100644 12-fsm-with-stack/12-fsm-with-stack-a01.ipynb\n",
      " create mode 100644 12-fsm-with-stack/img/12-fms-with-stack-a01-q01.png\n",
      " create mode 100644 12-fsm-with-stack/img/12-fms-with-stack-a01-q02.png\n",
      " create mode 100644 12-fsm-with-stack/img/12-fms-with-stack-a01-q03.png\n",
      " create mode 100644 12-fsm-with-stack/img/12-fms-with-stack-a01-q04.png\n",
      " create mode 100644 12-fsm-with-stack/img/12-fms-with-stack-a01-q05.png\n",
      " create mode 100644 12-fsm-with-stack/img/12-fms-with-stack-a01-q06.png\n",
      " create mode 100644 12-fsm-with-stack/img/12-fms-with-stack-a01-q07.png\n",
      " create mode 100644 12-fsm-with-stack/img/12-fsm-hazara-aslad.png\n",
      " create mode 100644 12-fsm-with-stack/img/12-fsm-hazara-q01.png\n",
      " create mode 100644 12-fsm-with-stack/img/12-fsm-hazara-q02.png\n",
      " create mode 100644 12-fsm-with-stack/img/12-fsm-hazara-q03.png\n",
      " create mode 100644 12-fsm-with-stack/img/12-fsm-hazara-q04.png\n",
      " create mode 100644 12-fsm-with-stack/img/12-fsm-hazara-q05.png\n",
      " create mode 100644 12-fsm-with-stack/img/12-fsm-hazara-q06.png\n",
      " create mode 100644 12-fsm-with-stack/img/12-fsm-hazara-q07.png\n",
      "\n"
     ]
    },
    {
     "name": "stderr",
     "output_type": "stream",
     "text": [
      "To https://github.com/eylon-holon/java-abc\n",
      "   383afed..5c43ac2  lior-frumkin -> lior-frumkin\n"
     ]
    }
   ],
   "source": [
    "from eylon.core import *\n",
    "store_all_changes_to_github()\n",
    "get_next_lesson()"
   ]
  }
 ],
 "metadata": {
  "kernelspec": {
   "display_name": "Python 3",
   "language": "python",
   "name": "python3"
  },
  "language_info": {
   "codemirror_mode": {
    "name": "ipython",
    "version": 3
   },
   "file_extension": ".py",
   "mimetype": "text/x-python",
   "name": "python",
   "nbconvert_exporter": "python",
   "pygments_lexer": "ipython3",
   "version": "3.12.1"
  },
  "polyglot_notebook": {
   "kernelInfo": {
    "defaultKernelName": "csharp",
    "items": [
     {
      "aliases": [],
      "name": "csharp"
     }
    ]
   }
  }
 },
 "nbformat": 4,
 "nbformat_minor": 2
}
