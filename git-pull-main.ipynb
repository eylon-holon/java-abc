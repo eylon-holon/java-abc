{
 "cells": [
  {
   "cell_type": "code",
   "execution_count": 1,
   "metadata": {
    "dotnet_interactive": {
     "language": "csharp"
    },
    "polyglot_notebook": {
     "kernelName": "csharp"
    }
   },
   "outputs": [
    {
     "name": "stderr",
     "output_type": "stream",
     "text": [
      "From https://github.com/eylon-holon/java-abc\n",
      "   2be7acd..d732a92  alma-kimhi    -> origin/alma-kimhi\n",
      "   117e611..f6410a6  linoy-netach  -> origin/linoy-netach\n",
      "   7ffdeec..3beedb4  main          -> origin/main\n",
      "   ad3f765..6950eff  noa-slavinsky -> origin/noa-slavinsky\n",
      "   2e20d73..b918471  tamar-tirosh  -> origin/tamar-tirosh\n",
      "   712965e..742e0c6  ziv-jungmann  -> origin/ziv-jungmann\n"
     ]
    },
    {
     "name": "stdout",
     "output_type": "stream",
     "text": [
      "Already up to date.\n",
      "\n",
      "\n",
      "[eyal-belinsky f035d82] auto commit...\n",
      " 2 files changed, 13 insertions(+), 40 deletions(-)\n",
      "\n"
     ]
    },
    {
     "name": "stderr",
     "output_type": "stream",
     "text": [
      "To https://github.com/eylon-holon/java-abc\n",
      "   55b99b4..f035d82  eyal-belinsky -> eyal-belinsky\n"
     ]
    },
    {
     "name": "stdout",
     "output_type": "stream",
     "text": [
      "\n",
      "Merge made by the 'ort' strategy.\n",
      " .../20-formula-pages/20---index.dib                |  24 ++++-\n",
      " .../20-formula-pages/20-linked-list.ipynb          |   8 ++\n",
      " .../20-formula-pages/20-queue.ipynb                |  72 +++++++++++---\n",
      " .../20-formula-pages/_to-add.dib                   |  15 +++\n",
      " .../30-modelim-pages/30-modelim-defs.dib           |  14 ++-\n",
      " .../40-mikud/40-mikud-matkonet.dib                 | 102 +++++++++++++++++---\n",
      " .../40-mikud/40-mikud-matkonet.ipynb               | 103 +++++++++++++++++----\n",
      " 20-formulas-and-bagruts/{40-mikud => }/fsm.ipynb   |   8 +-\n",
      " 20-formulas-and-bagruts/img/img_00363.png          | Bin 87112 -> 0 bytes\n",
      " 20-formulas-and-bagruts/img/img_00405.png          | Bin 33845 -> 0 bytes\n",
      " 20-formulas-and-bagruts/img/img_00407.png          | Bin 0 -> 5388 bytes\n",
      " 20-formulas-and-bagruts/img/img_00413.png          | Bin 0 -> 33310 bytes\n",
      " 20-formulas-and-bagruts/img/img_00414.png          | Bin 0 -> 30176 bytes\n",
      " 20-formulas-and-bagruts/img/img_00423.png          | Bin 0 -> 13120 bytes\n",
      " 20-formulas-and-bagruts/img/img_00425.png          | Bin 0 -> 16297 bytes\n",
      " 20-formulas-and-bagruts/img/img_00426.png          | Bin 0 -> 32035 bytes\n",
      " 20-formulas-and-bagruts/img/img_00427.png          | Bin 0 -> 60208 bytes\n",
      " 17 files changed, 291 insertions(+), 55 deletions(-)\n",
      " create mode 100644 20-formulas-and-bagruts/20-formula-pages/_to-add.dib\n",
      " rename 20-formulas-and-bagruts/{40-mikud => }/fsm.ipynb (94%)\n",
      " delete mode 100644 20-formulas-and-bagruts/img/img_00363.png\n",
      " delete mode 100644 20-formulas-and-bagruts/img/img_00405.png\n",
      " create mode 100644 20-formulas-and-bagruts/img/img_00407.png\n",
      " create mode 100644 20-formulas-and-bagruts/img/img_00413.png\n",
      " create mode 100644 20-formulas-and-bagruts/img/img_00414.png\n",
      " create mode 100644 20-formulas-and-bagruts/img/img_00423.png\n",
      " create mode 100644 20-formulas-and-bagruts/img/img_00425.png\n",
      " create mode 100644 20-formulas-and-bagruts/img/img_00426.png\n",
      " create mode 100644 20-formulas-and-bagruts/img/img_00427.png\n",
      "\n",
      "\n"
     ]
    },
    {
     "name": "stderr",
     "output_type": "stream",
     "text": [
      "To https://github.com/eylon-holon/java-abc\n",
      "   f035d82..837163b  eyal-belinsky -> eyal-belinsky\n"
     ]
    }
   ],
   "source": [
    "from eylon.core import *\n",
    "store_all_changes_to_github()\n",
    "get_next_lesson()"
   ]
  }
 ],
 "metadata": {
  "kernelspec": {
   "display_name": "Python 3",
   "language": "python",
   "name": "python3"
  },
  "language_info": {
   "codemirror_mode": {
    "name": "ipython",
    "version": 3
   },
   "file_extension": ".py",
   "mimetype": "text/x-python",
   "name": "python",
   "nbconvert_exporter": "python",
   "pygments_lexer": "ipython3",
   "version": "3.12.1"
  },
  "polyglot_notebook": {
   "kernelInfo": {
    "defaultKernelName": "csharp",
    "items": [
     {
      "aliases": [],
      "name": "csharp"
     }
    ]
   }
  }
 },
 "nbformat": 4,
 "nbformat_minor": 2
}
