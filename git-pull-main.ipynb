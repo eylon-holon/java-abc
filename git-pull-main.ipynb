{
 "cells": [
  {
   "cell_type": "code",
   "execution_count": 1,
   "metadata": {
    "dotnet_interactive": {
     "language": "csharp"
    },
    "polyglot_notebook": {
     "kernelName": "csharp"
    }
   },
   "outputs": [
    {
     "name": "stderr",
     "output_type": "stream",
     "text": [
      "From https://github.com/eylon-holon/java-abc\n",
      "   90f1081..2be7acd  alma-kimhi      -> origin/alma-kimhi\n",
      "   50e59bc..c042d08  carmel-dayan    -> origin/carmel-dayan\n",
      "   b4423f6..49673e6  david-madany    -> origin/david-madany\n",
      "   0cc5c23..55b99b4  eyal-belinsky   -> origin/eyal-belinsky\n",
      "   a466ee5..be5c2ec  gal-osovsky     -> origin/gal-osovsky\n",
      "   189eb40..af86470  gosha-smeh      -> origin/gosha-smeh\n",
      "   1c10a15..2e2fe5a  hila-atzmon     -> origin/hila-atzmon\n",
      "   8e5ebb0..7ffdeec  main            -> origin/main\n",
      "   fb1d788..16f2bb5  noa-slavinsky   -> origin/noa-slavinsky\n",
      "   0155db6..4335f4a  shaked-bekerman -> origin/shaked-bekerman\n",
      "   7b736bc..2e20d73  tamar-tirosh    -> origin/tamar-tirosh\n",
      "   fe8e48c..2f9b43c  yari-moshe      -> origin/yari-moshe\n",
      "   c6876a4..712965e  ziv-jungmann    -> origin/ziv-jungmann\n"
     ]
    },
    {
     "name": "stdout",
     "output_type": "stream",
     "text": [
      "Already up to date.\n",
      "\n",
      "\n",
      "[linoy-netach b379695] auto commit...\n",
      " 2 files changed, 7 insertions(+), 18 deletions(-)\n",
      "\n"
     ]
    },
    {
     "name": "stderr",
     "output_type": "stream",
     "text": [
      "To https://github.com/eylon-holon/java-abc\n",
      "   117e611..b379695  linoy-netach -> linoy-netach\n"
     ]
    },
    {
     "name": "stdout",
     "output_type": "stream",
     "text": [
      "\n",
      "Merge made by the 'ort' strategy.\n",
      " .../20-formula-pages/20--common.ipynb              |  64 +++++++----\n",
      " .../40-mikud/40-mikud-matkonet.dib                 |  29 +++++\n",
      " .../40-mikud/40-mikud-matkonet.ipynb               | 127 ++++++++++++++++++++-\n",
      " 20-formulas-and-bagruts/40-mikud/fsm.ipynb         |  62 ++++++++++\n",
      " 20-formulas-and-bagruts/img/img_00405.png          | Bin 0 -> 33845 bytes\n",
      " 20-formulas-and-bagruts/img/img_00406.png          | Bin 0 -> 19530 bytes\n",
      " 6 files changed, 252 insertions(+), 30 deletions(-)\n",
      " create mode 100644 20-formulas-and-bagruts/40-mikud/40-mikud-matkonet.dib\n",
      " create mode 100644 20-formulas-and-bagruts/40-mikud/fsm.ipynb\n",
      " create mode 100644 20-formulas-and-bagruts/img/img_00405.png\n",
      " create mode 100644 20-formulas-and-bagruts/img/img_00406.png\n",
      "\n",
      "\n"
     ]
    },
    {
     "name": "stderr",
     "output_type": "stream",
     "text": [
      "To https://github.com/eylon-holon/java-abc\n",
      "   b379695..f6410a6  linoy-netach -> linoy-netach\n"
     ]
    }
   ],
   "source": [
    "from eylon.core import *\n",
    "store_all_changes_to_github()\n",
    "get_next_lesson()"
   ]
  }
 ],
 "metadata": {
  "kernelspec": {
   "display_name": "Python 3",
   "language": "python",
   "name": "python3"
  },
  "language_info": {
   "codemirror_mode": {
    "name": "ipython",
    "version": 3
   },
   "file_extension": ".py",
   "mimetype": "text/x-python",
   "name": "python",
   "nbconvert_exporter": "python",
   "pygments_lexer": "ipython3",
   "version": "3.12.1"
  },
  "polyglot_notebook": {
   "kernelInfo": {
    "defaultKernelName": "csharp",
    "items": [
     {
      "aliases": [],
      "name": "csharp"
     }
    ]
   }
  }
 },
 "nbformat": 4,
 "nbformat_minor": 2
}
