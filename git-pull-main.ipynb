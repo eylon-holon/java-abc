{
 "cells": [
  {
   "cell_type": "markdown",
   "metadata": {},
   "source": [
    "להריץ בשביל לקבל עבודה הבא"
   ]
  },
  {
   "cell_type": "code",
   "execution_count": null,
   "metadata": {},
   "outputs": [
    {
     "name": "stderr",
     "output_type": "stream",
     "text": [
      "From https://github.com/eylon-holon/java-abc\n",
      "   81101b8..e44aca5  alma-kimhi      -> origin/alma-kimhi\n",
      "   9934e5a..ff9a436  carmel-dayan    -> origin/carmel-dayan\n",
      "   27968f4..6d3620d  david-madany    -> origin/david-madany\n",
      "   4519b60..b3ca902  dev             -> origin/dev\n",
      "   62719ec..23811d6  eyal-belinsky   -> origin/eyal-belinsky\n",
      "   1418ab5..189eb40  gosha-smeh      -> origin/gosha-smeh\n",
      "   020f236..d304c7a  hila-atzmon     -> origin/hila-atzmon\n",
      "   0323a7e..024e44d  linoy-netach    -> origin/linoy-netach\n",
      "   549ecf5..0719b4d  lior-frumkin    -> origin/lior-frumkin\n",
      "   9c44abf..df272ac  main            -> origin/main\n",
      "   a87c2e2..bb575a3  noa-slavinsky   -> origin/noa-slavinsky\n",
      "   672178e..1bc2bf6  shaked-bekerman -> origin/shaked-bekerman\n",
      "   2c8199f..23caf5f  tamar-tirosh    -> origin/tamar-tirosh\n"
     ]
    },
    {
     "name": "stdout",
     "output_type": "stream",
     "text": [
      "Already up to date.\n",
      "\n",
      "\n",
      "On branch gal-osovsky\n",
      "Your branch is up to date with 'origin/gal-osovsky'.\n",
      "\n",
      "nothing to commit, working tree clean\n",
      "\n"
     ]
    },
    {
     "name": "stderr",
     "output_type": "stream",
     "text": [
      "Everything up-to-date\n"
     ]
    },
    {
     "name": "stdout",
     "output_type": "stream",
     "text": [
      "\n",
      "Merge made by the 'ort' strategy.\n",
      " 13-turing-machine/13-turing-intro.ipynb     |  43 +++\n",
      " 13-turing-machine/turing.ipynb              |  31 ++\n",
      " 20-formula-pages/20-algorithms.ipynb        |   0\n",
      " 20-formula-pages/20-array.ipynb             |   0\n",
      " 20-formula-pages/20-binary-tree.ipynb       | 274 ++++++++++++++++++\n",
      " 20-formula-pages/20-class-object.ipynb      |   0\n",
      " 20-formula-pages/20-common.ipynb            |  39 +++\n",
      " 20-formula-pages/20-linked-list.ipynb       | 427 ++++++++++++++++++++++++++++\n",
      " 20-formula-pages/20-linked-list.tests.ipynb | 123 ++++++++\n",
      " 20-formula-pages/20-queue.ipynb             |   0\n",
      " 20-formula-pages/20-string.ipynb            |   0\n",
      " 20-formula-pages/BinNode.java               |  53 ++++\n",
      " 20-formula-pages/Helpers.java               |  50 ++++\n",
      " 20-formula-pages/Node.java                  |  43 +++\n",
      " 20-formula-pages/formulas.ipynb             |  40 +++\n",
      " eylon/Config.java                           |  11 +\n",
      " eylon/JavaUtils.java                        | 114 ++++++++\n",
      " eylon/java-utils.ipynb                      |   6 +-\n",
      " eylon/submit.ipynb                          |  36 +++\n",
      " 19 files changed, 1288 insertions(+), 2 deletions(-)\n",
      " create mode 100644 13-turing-machine/13-turing-intro.ipynb\n",
      " create mode 100644 13-turing-machine/turing.ipynb\n",
      " create mode 100644 20-formula-pages/20-algorithms.ipynb\n",
      " create mode 100644 20-formula-pages/20-array.ipynb\n",
      " create mode 100644 20-formula-pages/20-binary-tree.ipynb\n",
      " create mode 100644 20-formula-pages/20-class-object.ipynb\n",
      " create mode 100644 20-formula-pages/20-common.ipynb\n",
      " create mode 100644 20-formula-pages/20-linked-list.ipynb\n",
      " create mode 100644 20-formula-pages/20-linked-list.tests.ipynb\n",
      " create mode 100644 20-formula-pages/20-queue.ipynb\n",
      " create mode 100644 20-formula-pages/20-string.ipynb\n",
      " create mode 100644 20-formula-pages/BinNode.java\n",
      " create mode 100644 20-formula-pages/Helpers.java\n",
      " create mode 100644 20-formula-pages/Node.java\n",
      " create mode 100644 20-formula-pages/formulas.ipynb\n",
      " create mode 100644 eylon/Config.java\n",
      " create mode 100644 eylon/submit.ipynb\n",
      "\n",
      "\n"
     ]
    },
    {
     "name": "stderr",
     "output_type": "stream",
     "text": [
      "To https://github.com/eylon-holon/java-abc\n",
      "   d088c39..82130d5  gal-osovsky -> gal-osovsky\n"
     ]
    }
   ],
   "source": [
    "from eylon.core import *\n",
    "store_all_changes_to_github()\n",
    "get_next_lesson()"
   ]
  }
 ],
 "metadata": {
  "kernelspec": {
   "display_name": "Python 3",
   "language": "python",
   "name": "python3"
  },
  "language_info": {
   "codemirror_mode": {
    "name": "ipython",
    "version": 3
   },
   "file_extension": ".py",
   "mimetype": "text/x-python",
   "name": "python",
   "nbconvert_exporter": "python",
   "pygments_lexer": "ipython3",
   "version": "3.12.1"
  }
 },
 "nbformat": 4,
 "nbformat_minor": 2
}
