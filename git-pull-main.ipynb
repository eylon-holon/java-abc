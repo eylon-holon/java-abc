{
 "cells": [
  {
   "cell_type": "code",
   "execution_count": 1,
   "metadata": {
    "dotnet_interactive": {
     "language": "csharp"
    },
    "polyglot_notebook": {
     "kernelName": "csharp"
    }
   },
   "outputs": [
    {
     "name": "stderr",
     "output_type": "stream",
     "text": [
      "From https://github.com/eylon-holon/java-abc\n",
      "   00522b7..81101b8  alma-kimhi      -> origin/alma-kimhi\n",
      "   270b8af..9934e5a  carmel-dayan    -> origin/carmel-dayan\n",
      "   85f6782..d6b272c  david-madany    -> origin/david-madany\n",
      "   4519b60..ce7073f  dev             -> origin/dev\n",
      "   4667ab5..62719ec  eyal-belinsky   -> origin/eyal-belinsky\n",
      "   abe7b87..d088c39  gal-osovsky     -> origin/gal-osovsky\n",
      "   1418ab5..189eb40  gosha-smeh      -> origin/gosha-smeh\n",
      "   13d2ccd..020f236  hila-atzmon     -> origin/hila-atzmon\n",
      "   6479bcc..549ecf5  lior-frumkin    -> origin/lior-frumkin\n",
      "   9c44abf..ce7073f  main            -> origin/main\n",
      "   72225b5..cff6fad  orin-baot       -> origin/orin-baot\n",
      "   a5d9d51..672178e  shaked-bekerman -> origin/shaked-bekerman\n",
      "   2cd04fc..2c8199f  tamar-tirosh    -> origin/tamar-tirosh\n"
     ]
    },
    {
     "name": "stdout",
     "output_type": "stream",
     "text": [
      "Already up to date.\n",
      "\n",
      "\n",
      "[noa-slavinsky 30046fa] auto commit...\n",
      " 7 files changed, 173 insertions(+), 44 deletions(-)\n",
      "\n"
     ]
    },
    {
     "name": "stderr",
     "output_type": "stream",
     "text": [
      "To https://github.com/eylon-holon/java-abc.git\n",
      "   a87c2e2..30046fa  noa-slavinsky -> noa-slavinsky\n"
     ]
    },
    {
     "name": "stdout",
     "output_type": "stream",
     "text": [
      "\n",
      "Merge made by the 'ort' strategy.\n",
      " 13-turing-machine/13-turing-intro.ipynb |  43 ++++++++++++\n",
      " 13-turing-machine/turing.ipynb          |  31 +++++++++\n",
      " eylon/Config.java                       |  11 +++\n",
      " eylon/JavaUtils.java                    | 114 ++++++++++++++++++++++++++++++++\n",
      " eylon/java-utils.ipynb                  |   6 +-\n",
      " eylon/submit.ipynb                      |  36 ++++++++++\n",
      " 6 files changed, 239 insertions(+), 2 deletions(-)\n",
      " create mode 100644 13-turing-machine/13-turing-intro.ipynb\n",
      " create mode 100644 13-turing-machine/turing.ipynb\n",
      " create mode 100644 eylon/Config.java\n",
      " create mode 100644 eylon/submit.ipynb\n",
      "\n",
      "\n"
     ]
    },
    {
     "name": "stderr",
     "output_type": "stream",
     "text": [
      "To https://github.com/eylon-holon/java-abc.git\n",
      "   30046fa..5f27111  noa-slavinsky -> noa-slavinsky\n"
     ]
    }
   ],
   "source": [
    "from eylon.core import *\n",
    "store_all_changes_to_github()\n",
    "get_next_lesson()"
   ]
  }
 ],
 "metadata": {
  "kernelspec": {
   "display_name": "Python 3",
   "language": "python",
   "name": "python3"
  },
  "language_info": {
   "codemirror_mode": {
    "name": "ipython",
    "version": 3
   },
   "file_extension": ".py",
   "mimetype": "text/x-python",
   "name": "python",
   "nbconvert_exporter": "python",
   "pygments_lexer": "ipython3",
   "version": "3.12.1"
  },
  "polyglot_notebook": {
   "kernelInfo": {
    "defaultKernelName": "csharp",
    "items": [
     {
      "aliases": [],
      "name": "csharp"
     }
    ]
   }
  }
 },
 "nbformat": 4,
 "nbformat_minor": 2
}
