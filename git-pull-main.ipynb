{
 "cells": [
  {
   "cell_type": "code",
   "execution_count": null,
   "metadata": {},
   "outputs": [
    {
     "name": "stdout",
     "output_type": "stream",
     "text": [
      "\n",
      "[alma-kimhi 75ce48b] auto commit...\n",
      " 1 file changed, 20 insertions(+), 29 deletions(-)\n",
      "\n"
     ]
    },
    {
     "name": "stderr",
     "output_type": "stream",
     "text": [
      "To https://github.com/eylon-holon/java-abc\n",
      "   bf69ffa..75ce48b  alma-kimhi -> alma-kimhi\n"
     ]
    },
    {
     "name": "stdout",
     "output_type": "stream",
     "text": [
      "\n"
     ]
    },
    {
     "name": "stderr",
     "output_type": "stream",
     "text": [
      "From https://github.com/eylon-holon/java-abc\n",
      " * branch            main       -> FETCH_HEAD\n",
      "   6cf1a2d..1a04f47  main       -> origin/main\n"
     ]
    },
    {
     "name": "stdout",
     "output_type": "stream",
     "text": [
      "Merge made by the 'ort' strategy.\n",
      " .../10-find-element.solution.ipynb                 | 129 ++++++\n",
      " 10-fsm/10-fsm-a01.solution.dib                     | 131 ++++++\n",
      " 10-fsm/10-fsm-a01.solution.ipynb                   | 454 +++++++++++++++++++++\n",
      " 10-fsm/10-fsm-a02.solution.dib                     | 203 +++++++++\n",
      " 10-fsm/10-fsm-a02.solution.ipynb                   | 435 ++++++++++++++++++++\n",
      " 10-fsm/fsm.ipynb                                   |  13 +-\n",
      " j-core/fsm/DetermenisticFsm.java                   |   2 +-\n",
      " j-core/fsm/FsmWithStack.java                       |   3 +\n",
      " j-core/fsm/NondetermenisticFsm.java                |   2 +-\n",
      " 9 files changed, 1366 insertions(+), 6 deletions(-)\n",
      " create mode 100644 07-queue-and-stack-2/10-find-element.solution.ipynb\n",
      " create mode 100644 10-fsm/10-fsm-a01.solution.dib\n",
      " create mode 100644 10-fsm/10-fsm-a01.solution.ipynb\n",
      " create mode 100644 10-fsm/10-fsm-a02.solution.dib\n",
      " create mode 100644 10-fsm/10-fsm-a02.solution.ipynb\n",
      "\n"
     ]
    },
    {
     "name": "stderr",
     "output_type": "stream",
     "text": [
      "To https://github.com/eylon-holon/java-abc\n",
      "   75ce48b..82b6543  alma-kimhi -> alma-kimhi\n"
     ]
    }
   ],
   "source": [
    "from eylon.core import *\n",
    "store_all_changes_to_github()\n",
    "get_next_lesson()"
   ]
  }
 ],
 "metadata": {
  "kernelspec": {
   "display_name": "Python 3",
   "language": "python",
   "name": "python3"
  },
  "language_info": {
   "codemirror_mode": {
    "name": "ipython",
    "version": 3
   },
   "file_extension": ".py",
   "mimetype": "text/x-python",
   "name": "python",
   "nbconvert_exporter": "python",
   "pygments_lexer": "ipython3",
   "version": "3.12.1"
  }
 },
 "nbformat": 4,
 "nbformat_minor": 2
}
