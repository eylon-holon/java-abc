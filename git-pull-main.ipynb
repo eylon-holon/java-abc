{
 "cells": [
  {
   "cell_type": "code",
   "execution_count": 1,
   "metadata": {},
   "outputs": [
    {
     "name": "stdout",
     "output_type": "stream",
     "text": [
      "\n",
      "On branch alma-kimhi\n",
      "Your branch is up to date with 'origin/alma-kimhi'.\n",
      "\n",
      "nothing to commit, working tree clean\n",
      "\n"
     ]
    },
    {
     "name": "stderr",
     "output_type": "stream",
     "text": [
      "Everything up-to-date\n"
     ]
    },
    {
     "name": "stdout",
     "output_type": "stream",
     "text": [
      "\n",
      "Auto-merging 07-queue-and-stack-2/10-iterate-them.ipynb\n",
      "CONFLICT (content): Merge conflict in 07-queue-and-stack-2/10-iterate-them.ipynb\n",
      "Auto-merging 10-fsm/10-fsm-a01.ipynb\n",
      "CONFLICT (content): Merge conflict in 10-fsm/10-fsm-a01.ipynb\n",
      "Auto-merging 10-fsm/10-fsm-intro.ipynb\n",
      "CONFLICT (content): Merge conflict in 10-fsm/10-fsm-intro.ipynb\n",
      "Auto-merging 11-fsm-nondetermenistic/11-nfsm-intro.ipynb\n",
      "CONFLICT (content): Merge conflict in 11-fsm-nondetermenistic/11-nfsm-intro.ipynb\n",
      "Auto-merging git-pull-main.ipynb\n",
      "CONFLICT (content): Merge conflict in git-pull-main.ipynb\n",
      "Auto-merging self-grade.ipynb\n",
      "CONFLICT (content): Merge conflict in self-grade.ipynb\n",
      "Automatic merge failed; fix conflicts and then commit the result.\n",
      "\n"
     ]
    },
    {
     "name": "stderr",
     "output_type": "stream",
     "text": [
      "From https://github.com/eylon-holon/java-abc\n",
      " * branch            main       -> FETCH_HEAD\n"
     ]
    }
   ],
   "source": [
    "from eylon.core import *\n",
    "store_all_changes_to_github()\n",
    "get_next_lesson()"
   ]
  }
 ],
 "metadata": {
  "kernelspec": {
   "display_name": "Python 3",
   "language": "python",
   "name": "python3"
  },
  "language_info": {
   "codemirror_mode": {
    "name": "ipython",
    "version": 3
   },
   "file_extension": ".py",
   "mimetype": "text/x-python",
   "name": "python",
   "nbconvert_exporter": "python",
   "pygments_lexer": "ipython3",
   "version": "3.12.1"
  }
 },
 "nbformat": 4,
 "nbformat_minor": 2
}
