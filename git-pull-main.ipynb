{
 "cells": [
  {
   "cell_type": "code",
   "execution_count": null,
   "metadata": {},
   "outputs": [
    {
     "name": "stderr",
     "output_type": "stream",
     "text": [
      "From https://github.com/eylon-holon/java-abc\n",
      "   76182f5..00522b7  alma-kimhi        -> origin/alma-kimhi\n",
      "   8f42f78..270b8af  carmel-dayan      -> origin/carmel-dayan\n",
      "   70d2fdc..3dd546c  daniel-yakobovitz -> origin/daniel-yakobovitz\n",
      "   46bb1ca..85f6782  david-madany      -> origin/david-madany\n",
      "   277ecfb..b7fa191  gal-alon          -> origin/gal-alon\n",
      "   3427515..abe7b87  gal-osovsky       -> origin/gal-osovsky\n",
      "   e63ff26..13d2ccd  hila-atzmon       -> origin/hila-atzmon\n",
      "   1fe502c..0323a7e  linoy-netach      -> origin/linoy-netach\n",
      "   5c43ac2..6479bcc  lior-frumkin      -> origin/lior-frumkin\n",
      "   868f37f..9c44abf  main              -> origin/main\n",
      "   c7ac1f2..a87c2e2  noa-slavinsky     -> origin/noa-slavinsky\n",
      "   9c65fc9..a5d9d51  shaked-bekerman   -> origin/shaked-bekerman\n",
      "   52a06e1..2cd04fc  tamar-tirosh      -> origin/tamar-tirosh\n",
      "   5aa428b..885e1fc  yari-moshe        -> origin/yari-moshe\n",
      "   8f8c190..349154f  yehonatan-shafir  -> origin/yehonatan-shafir\n",
      "   7b9277e..14f85ff  ziv-jungmann      -> origin/ziv-jungmann\n"
     ]
    },
    {
     "name": "stdout",
     "output_type": "stream",
     "text": [
      "Already up to date.\n",
      "\n",
      "\n",
      "[orin-baot 3cfa639] auto commit...\n",
      " 1 file changed, 1 insertion(+), 50 deletions(-)\n",
      "\n"
     ]
    },
    {
     "name": "stderr",
     "output_type": "stream",
     "text": [
      "To https://github.com/eylon-holon/java-abc\n",
      "   72225b5..3cfa639  orin-baot -> orin-baot\n"
     ]
    },
    {
     "name": "stdout",
     "output_type": "stream",
     "text": [
      "\n",
      "Auto-merging eylon/java-jupyter-test.ipynb\n",
      "Merge made by the 'ort' strategy.\n",
      " 10-fsm/10-fsm-a03.solution.dib   | 28 ++-------------\n",
      " 10-fsm/10-fsm-a03.solution.ipynb | 11 +++---\n",
      " eylon/java-jupyter-test.ipynb    | 16 +++++++++\n",
      " tests/04-tests.ipynb             | 78 ----------------------------------------\n",
      " 4 files changed, 25 insertions(+), 108 deletions(-)\n",
      " delete mode 100644 tests/04-tests.ipynb\n",
      "\n",
      "\n"
     ]
    },
    {
     "name": "stderr",
     "output_type": "stream",
     "text": [
      "To https://github.com/eylon-holon/java-abc\n",
      "   3cfa639..cff6fad  orin-baot -> orin-baot\n"
     ]
    }
   ],
   "source": [
    "from eylon.core import *\n",
    "store_all_changes_to_github()\n",
    "get_next_lesson()"
   ]
  }
 ],
 "metadata": {
  "kernelspec": {
   "display_name": "Python 3",
   "language": "python",
   "name": "python3"
  },
  "language_info": {
   "codemirror_mode": {
    "name": "ipython",
    "version": 3
   },
   "file_extension": ".py",
   "mimetype": "text/x-python",
   "name": "python",
   "nbconvert_exporter": "python",
   "pygments_lexer": "ipython3",
   "version": "3.12.1"
  }
 },
 "nbformat": 4,
 "nbformat_minor": 2
}
