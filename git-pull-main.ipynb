{
 "cells": [
  {
   "cell_type": "code",
   "execution_count": 1,
   "metadata": {},
   "outputs": [
    {
     "name": "stderr",
     "output_type": "stream",
     "text": [
      "From https://github.com/eylon-holon/java-abc\n",
      "   078bd8d..dc16396  gal-alon     -> origin/gal-alon\n",
      "   af86470..84f8dfb  gosha-smeh   -> origin/gosha-smeh\n",
      "   2e2fe5a..5cad36f  hila-atzmon  -> origin/hila-atzmon\n",
      "   9e8fa86..9a51d6b  main         -> origin/main\n",
      "   7358da7..3f961eb  tamar-tirosh -> origin/tamar-tirosh\n"
     ]
    },
    {
     "name": "stdout",
     "output_type": "stream",
     "text": [
      "Already up to date.\n",
      "\n",
      "\n",
      "On branch alma-kimhi\n",
      "Your branch is up to date with 'origin/alma-kimhi'.\n",
      "\n",
      "nothing to commit, working tree clean\n",
      "\n"
     ]
    },
    {
     "name": "stderr",
     "output_type": "stream",
     "text": [
      "Everything up-to-date\n"
     ]
    },
    {
     "name": "stdout",
     "output_type": "stream",
     "text": [
      "\n",
      "Auto-merging 20-formulas-and-bagruts/40-mikud/40-mikud-matkonet.ipynb\n",
      "Merge made by the 'ort' strategy.\n",
      " .../20-formula-pages/20---index.dib                |   1 +\n",
      " .../20-formula-pages/20-linked-list.ipynb          |  19 ++++\n",
      " .../20-formula-pages/20-queue.ipynb                |  46 ++-------\n",
      " .../40-mikud/40-mikud-matkonet.ipynb               | 105 ++++++++++++++-------\n",
      " 20-formulas-and-bagruts/img/img_00389.png          | Bin 0 -> 48852 bytes\n",
      " 20-formulas-and-bagruts/img/img_00414.png          | Bin 30176 -> 0 bytes\n",
      " 6 files changed, 100 insertions(+), 71 deletions(-)\n",
      " create mode 100644 20-formulas-and-bagruts/img/img_00389.png\n",
      " delete mode 100644 20-formulas-and-bagruts/img/img_00414.png\n",
      "\n",
      "\n"
     ]
    },
    {
     "name": "stderr",
     "output_type": "stream",
     "text": [
      "To https://github.com/eylon-holon/java-abc\n",
      "   0ccc44f..8e78752  alma-kimhi -> alma-kimhi\n"
     ]
    }
   ],
   "source": [
    "from eylon.core import *\n",
    "store_all_changes_to_github()\n",
    "get_next_lesson()"
   ]
  }
 ],
 "metadata": {
  "kernelspec": {
   "display_name": "Python 3",
   "language": "python",
   "name": "python3"
  },
  "language_info": {
   "codemirror_mode": {
    "name": "ipython",
    "version": 3
   },
   "file_extension": ".py",
   "mimetype": "text/x-python",
   "name": "python",
   "nbconvert_exporter": "python",
   "pygments_lexer": "ipython3",
   "version": "3.12.1"
  }
 },
 "nbformat": 4,
 "nbformat_minor": 2
}
