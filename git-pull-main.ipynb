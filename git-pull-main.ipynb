{
 "cells": [
  {
   "cell_type": "code",
   "execution_count": 1,
   "metadata": {
    "dotnet_interactive": {
     "language": "csharp"
    },
    "polyglot_notebook": {
     "kernelName": "csharp"
    }
   },
   "outputs": [
    {
     "name": "stderr",
     "output_type": "stream",
     "text": [
      "From https://github.com/eylon-holon/java-abc\n",
      "   8c7a1b6..a6f321c  alma-kimhi      -> origin/alma-kimhi\n",
      "   270b8af..9934e5a  carmel-dayan    -> origin/carmel-dayan\n",
      "   27968f4..d6b272c  david-madany    -> origin/david-madany\n",
      "   4519b60..b3ca902  dev             -> origin/dev\n",
      "   abe7b87..d088c39  gal-osovsky     -> origin/gal-osovsky\n",
      "   1418ab5..189eb40  gosha-smeh      -> origin/gosha-smeh\n",
      "   9c44abf..b3ca902  main            -> origin/main\n",
      "   a87c2e2..5f27111  noa-slavinsky   -> origin/noa-slavinsky\n",
      "   a5d9d51..f3c6574  shaked-bekerman -> origin/shaked-bekerman\n"
     ]
    },
    {
     "name": "stdout",
     "output_type": "stream",
     "text": [
      "Already up to date.\n",
      "\n",
      "\n",
      "[eyal-belinsky 5e7a3f2] auto commit...\n",
      " 5 files changed, 33 insertions(+), 23 deletions(-)\n",
      "\n"
     ]
    },
    {
     "name": "stderr",
     "output_type": "stream",
     "text": [
      "To https://github.com/eylon-holon/java-abc\n",
      "   62719ec..5e7a3f2  eyal-belinsky -> eyal-belinsky\n"
     ]
    },
    {
     "name": "stdout",
     "output_type": "stream",
     "text": [
      "\n",
      "Merge made by the 'ort' strategy.\n",
      " 13-turing-machine/13-turing-intro.ipynb |  43 ++++\n",
      " 13-turing-machine/turing.ipynb          |  31 +++\n",
      " 20-formula-pages/20-algorithms.ipynb    |   0\n",
      " 20-formula-pages/20-array.ipynb         |   0\n",
      " 20-formula-pages/20-binary-tree.ipynb   |   0\n",
      " 20-formula-pages/20-class-object.ipynb  |   0\n",
      " 20-formula-pages/20-common.ipynb        |  39 ++++\n",
      " 20-formula-pages/20-linked-list.ipynb   | 339 ++++++++++++++++++++++++++++++++\n",
      " 20-formula-pages/20-queue.ipynb         |   0\n",
      " 20-formula-pages/20-string.ipynb        |   0\n",
      " 20-formula-pages/Node.ipynb             |  72 +++++++\n",
      " 20-formula-pages/formulas.ipynb         |  35 ++++\n",
      " eylon/Config.java                       |  11 ++\n",
      " eylon/JavaUtils.java                    | 114 +++++++++++\n",
      " eylon/java-utils.ipynb                  |   6 +-\n",
      " eylon/submit.ipynb                      |  36 ++++\n",
      " 16 files changed, 724 insertions(+), 2 deletions(-)\n",
      " create mode 100644 13-turing-machine/13-turing-intro.ipynb\n",
      " create mode 100644 13-turing-machine/turing.ipynb\n",
      " create mode 100644 20-formula-pages/20-algorithms.ipynb\n",
      " create mode 100644 20-formula-pages/20-array.ipynb\n",
      " create mode 100644 20-formula-pages/20-binary-tree.ipynb\n",
      " create mode 100644 20-formula-pages/20-class-object.ipynb\n",
      " create mode 100644 20-formula-pages/20-common.ipynb\n",
      " create mode 100644 20-formula-pages/20-linked-list.ipynb\n",
      " create mode 100644 20-formula-pages/20-queue.ipynb\n",
      " create mode 100644 20-formula-pages/20-string.ipynb\n",
      " create mode 100644 20-formula-pages/Node.ipynb\n",
      " create mode 100644 20-formula-pages/formulas.ipynb\n",
      " create mode 100644 eylon/Config.java\n",
      " create mode 100644 eylon/submit.ipynb\n",
      "\n",
      "\n"
     ]
    },
    {
     "name": "stderr",
     "output_type": "stream",
     "text": [
      "To https://github.com/eylon-holon/java-abc\n",
      "   5e7a3f2..3dd9890  eyal-belinsky -> eyal-belinsky\n"
     ]
    }
   ],
   "source": [
    "from eylon.core import *\n",
    "store_all_changes_to_github()\n",
    "get_next_lesson()"
   ]
  }
 ],
 "metadata": {
  "kernelspec": {
   "display_name": "Python 3",
   "language": "python",
   "name": "python3"
  },
  "language_info": {
   "codemirror_mode": {
    "name": "ipython",
    "version": 3
   },
   "file_extension": ".py",
   "mimetype": "text/x-python",
   "name": "python",
   "nbconvert_exporter": "python",
   "pygments_lexer": "ipython3",
   "version": "3.12.1"
  },
  "polyglot_notebook": {
   "kernelInfo": {
    "defaultKernelName": "csharp",
    "items": [
     {
      "aliases": [],
      "name": "csharp"
     }
    ]
   }
  }
 },
 "nbformat": 4,
 "nbformat_minor": 2
}
