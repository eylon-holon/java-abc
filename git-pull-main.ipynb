{
 "cells": [
  {
   "cell_type": "code",
   "execution_count": null,
   "metadata": {},
   "outputs": [
    {
     "name": "stderr",
     "output_type": "stream",
     "text": [
      "From https://github.com/eylon-holon/java-abc\n",
      "   81101b8..a6f321c  alma-kimhi      -> origin/alma-kimhi\n",
      "   27968f4..d6b272c  david-madany    -> origin/david-madany\n",
      "   4519b60..b3ca902  dev             -> origin/dev\n",
      "   62719ec..3dd9890  eyal-belinsky   -> origin/eyal-belinsky\n",
      "   abe7b87..d088c39  gal-osovsky     -> origin/gal-osovsky\n",
      "   1418ab5..189eb40  gosha-smeh      -> origin/gosha-smeh\n",
      "   020f236..d304c7a  hila-atzmon     -> origin/hila-atzmon\n",
      "   9c44abf..b3ca902  main            -> origin/main\n",
      "   a87c2e2..bb575a3  noa-slavinsky   -> origin/noa-slavinsky\n",
      "   672178e..f3c6574  shaked-bekerman -> origin/shaked-bekerman\n"
     ]
    },
    {
     "name": "stdout",
     "output_type": "stream",
     "text": [
      "Already up to date.\n",
      "\n",
      "\n",
      "[carmel-dayan 1dc1215] auto commit...\n",
      " 6 files changed, 161 insertions(+), 114 deletions(-)\n",
      "\n"
     ]
    },
    {
     "name": "stderr",
     "output_type": "stream",
     "text": [
      "To https://github.com/eylon-holon/java-abc\n",
      "   9934e5a..1dc1215  carmel-dayan -> carmel-dayan\n"
     ]
    },
    {
     "name": "stdout",
     "output_type": "stream",
     "text": [
      "\n",
      "Merge made by the 'ort' strategy.\n",
      " 13-turing-machine/13-turing-intro.ipynb |  43 ++++\n",
      " 13-turing-machine/turing.ipynb          |  31 +++\n",
      " 20-formula-pages/20-algorithms.ipynb    |   0\n",
      " 20-formula-pages/20-array.ipynb         |   0\n",
      " 20-formula-pages/20-binary-tree.ipynb   |   0\n",
      " 20-formula-pages/20-class-object.ipynb  |   0\n",
      " 20-formula-pages/20-common.ipynb        |  39 ++++\n",
      " 20-formula-pages/20-linked-list.ipynb   | 339 ++++++++++++++++++++++++++++++++\n",
      " 20-formula-pages/20-queue.ipynb         |   0\n",
      " 20-formula-pages/20-string.ipynb        |   0\n",
      " 20-formula-pages/Node.ipynb             |  72 +++++++\n",
      " 20-formula-pages/formulas.ipynb         |  35 ++++\n",
      " eylon/Config.java                       |  11 ++\n",
      " eylon/JavaUtils.java                    | 114 +++++++++++\n",
      " eylon/java-utils.ipynb                  |   6 +-\n",
      " eylon/submit.ipynb                      |  36 ++++\n",
      " 16 files changed, 724 insertions(+), 2 deletions(-)\n",
      " create mode 100644 13-turing-machine/13-turing-intro.ipynb\n",
      " create mode 100644 13-turing-machine/turing.ipynb\n",
      " create mode 100644 20-formula-pages/20-algorithms.ipynb\n",
      " create mode 100644 20-formula-pages/20-array.ipynb\n",
      " create mode 100644 20-formula-pages/20-binary-tree.ipynb\n",
      " create mode 100644 20-formula-pages/20-class-object.ipynb\n",
      " create mode 100644 20-formula-pages/20-common.ipynb\n",
      " create mode 100644 20-formula-pages/20-linked-list.ipynb\n",
      " create mode 100644 20-formula-pages/20-queue.ipynb\n",
      " create mode 100644 20-formula-pages/20-string.ipynb\n",
      " create mode 100644 20-formula-pages/Node.ipynb\n",
      " create mode 100644 20-formula-pages/formulas.ipynb\n",
      " create mode 100644 eylon/Config.java\n",
      " create mode 100644 eylon/submit.ipynb\n",
      "\n",
      "\n"
     ]
    },
    {
     "name": "stderr",
     "output_type": "stream",
     "text": [
      "To https://github.com/eylon-holon/java-abc\n",
      "   1dc1215..ff9a436  carmel-dayan -> carmel-dayan\n"
     ]
    }
   ],
   "source": [
    "from eylon.core import *\n",
    "store_all_changes_to_github()\n",
    "get_next_lesson()"
   ]
  }
 ],
 "metadata": {
  "kernelspec": {
   "display_name": "Python 3",
   "language": "python",
   "name": "python3"
  },
  "language_info": {
   "codemirror_mode": {
    "name": "ipython",
    "version": 3
   },
   "file_extension": ".py",
   "mimetype": "text/x-python",
   "name": "python",
   "nbconvert_exporter": "python",
   "pygments_lexer": "ipython3",
   "version": "3.12.1"
  }
 },
 "nbformat": 4,
 "nbformat_minor": 2
}
