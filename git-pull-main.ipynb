{
 "cells": [
  {
   "cell_type": "code",
   "execution_count": null,
   "metadata": {},
   "outputs": [
    {
     "name": "stdout",
     "output_type": "stream",
     "text": [
      "\n",
      "[ziv-jungmann b05d299] auto commit...\n",
      " 4 files changed, 351 insertions(+), 68 deletions(-)\n",
      "[gosha-smeh f02e3be] auto commit...\n",
      " 2 files changed, 34 insertions(+), 9 deletions(-)\n",
      "Everything up-to-date\n"
     ]
    },
    {
     "name": "stdout",
     "output_type": "stream",
     "text": [
      "\n",
      " * branch            main       -> FETCH_HEAD\n",
      "   545934a..5834ca6  main       -> origin/main\n",
      "error: Your local changes to the following files would be overwritten by merge:\n",
      "\tgit-pull-main.ipynb\n",
      "Please commit your changes or stash them before you merge.\n",
      "Aborting\n",
      "Merge with strategy ort failed.\n"
     ]
    },
    {
     "name": "stdout",
     "output_type": "stream",
     "text": [
      "Merge made by the 'ort' strategy.\n",
      " 01-welcome/01-welcome.java.solution.ipynb      | 144 ++----\n",
      " 02-arrays-1d/02-arrays-1d.java.solutions.ipynb | 278 ++++++++++++\n",
      " 03-strings/03-strings-2.java.solutions.ipynb   | 581 +++++++++++++++++++++++++\n",
      " common-run-time-errors.ipynb                   | 231 ++++++++++\n",
      " 4 files changed, 1116 insertions(+), 118 deletions(-)\n",
      " create mode 100644 02-arrays-1d/02-arrays-1d.java.solutions.ipynb\n",
      " create mode 100644 03-strings/03-strings-2.java.solutions.ipynb\n",
      " create mode 100644 common-run-time-errors.ipynb\n",
      "\n"
     ]
    },
    {
     "name": "stderr",
     "output_type": "stream",
     "text": [
      "Everything up-to-date\n"
     ]
    }
   ],
   "source": [
    "from eylon.core import *\n",
    "store_all_changes_to_github()\n",
    "get_next_lesson()"
   ]
  }
 ],
 "metadata": {
  "kernelspec": {
   "display_name": "Python 3",
   "language": "python",
   "name": "python3"
  },
  "language_info": {
   "codemirror_mode": {
    "name": "ipython",
    "version": 3
   },
   "file_extension": ".py",
   "mimetype": "text/x-python",
   "name": "python",
   "nbconvert_exporter": "python",
   "pygments_lexer": "ipython3",
   "version": "3.12.1"
  }
 },
 "nbformat": 4,
 "nbformat_minor": 2
}
