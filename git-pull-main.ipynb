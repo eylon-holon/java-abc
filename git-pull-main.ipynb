{
 "cells": [
  {
   "cell_type": "code",
   "execution_count": 2,
   "metadata": {},
   "outputs": [
    {
     "name": "stdout",
     "output_type": "stream",
     "text": [
      "\n",
      "[gosha-smeh eb321f8] auto commit...\n",
      " 1 file changed, 57 insertions(+), 11 deletions(-)\n",
      "\n"
     ]
    },
    {
     "name": "stderr",
     "output_type": "stream",
     "text": [
      "To https://github.com/eylon-holon/java-abc\n",
      "   da9e546..eb321f8  gosha-smeh -> gosha-smeh\n"
     ]
    },
    {
     "name": "stdout",
     "output_type": "stream",
     "text": [
      "\n"
     ]
    },
    {
     "name": "stderr",
     "output_type": "stream",
     "text": [
      "From https://github.com/eylon-holon/java-abc\n",
      " * branch            main       -> FETCH_HEAD\n",
      "   08e4a97..7111bb4  main       -> origin/main\n"
     ]
    },
    {
     "name": "stdout",
     "output_type": "stream",
     "text": [
      "Merge made by the 'ort' strategy.\n",
      " 07-queue-and-stack-2/01-queue-tests.ipynb          |  96 ++++++++++++++++++\n",
      " 07-queue-and-stack-2/02-queue-memory-layout.dib    |  99 ++++++++++++++++++\n",
      " 07-queue-and-stack-2/02-queue-memory-layout.ipynb  | 112 +++++++++++++++++++++\n",
      " .../10-iterate-them.ipynb                          |  88 ++++++++--------\n",
      " 07-queue-and-stack-2/Node.ipynb                    |  68 +++++++++++++\n",
      " 07-queue-and-stack-2/Queue.ipynb                   |  52 ++++++++++\n",
      " 07-queue-and-stack-2/Stack.ipynb                   |  52 ++++++++++\n",
      " 07-queue-and-stack-2/queues.ipynb                  |  65 ++++++++++++\n",
      " 8 files changed, 585 insertions(+), 47 deletions(-)\n",
      " create mode 100644 07-queue-and-stack-2/01-queue-tests.ipynb\n",
      " create mode 100644 07-queue-and-stack-2/02-queue-memory-layout.dib\n",
      " create mode 100644 07-queue-and-stack-2/02-queue-memory-layout.ipynb\n",
      " rename {05-queues => 07-queue-and-stack-2}/10-iterate-them.ipynb (62%)\n",
      " create mode 100644 07-queue-and-stack-2/Node.ipynb\n",
      " create mode 100644 07-queue-and-stack-2/Queue.ipynb\n",
      " create mode 100644 07-queue-and-stack-2/Stack.ipynb\n",
      " create mode 100644 07-queue-and-stack-2/queues.ipynb\n",
      "\n"
     ]
    },
    {
     "name": "stderr",
     "output_type": "stream",
     "text": [
      "To https://github.com/eylon-holon/java-abc\n",
      "   eb321f8..4eef093  gosha-smeh -> gosha-smeh\n"
     ]
    }
   ],
   "source": [
    "from eylon.core import *\n",
    "store_all_changes_to_github()\n",
    "get_next_lesson()"
   ]
  }
 ],
 "metadata": {
  "kernelspec": {
   "display_name": "Python 3",
   "language": "python",
   "name": "python3"
  },
  "language_info": {
   "codemirror_mode": {
    "name": "ipython",
    "version": 3
   },
   "file_extension": ".py",
   "mimetype": "text/x-python",
   "name": "python",
   "nbconvert_exporter": "python",
   "pygments_lexer": "ipython3",
   "version": "3.12.1"
  }
 },
 "nbformat": 4,
 "nbformat_minor": 2
}
