{
 "cells": [
  {
   "cell_type": "code",
   "execution_count": null,
   "metadata": {},
   "outputs": [
    {
     "name": "stderr",
     "output_type": "stream",
     "text": [
      "From https://github.com/eylon-holon/java-abc\n",
      "   4322c61..c2fe8f6  hila-atzmon      -> origin/hila-atzmon\n",
      "   e44aca5..90f1081  alma-kimhi       -> origin/alma-kimhi\n",
      "   ff9a436..50e59bc  carmel-dayan     -> origin/carmel-dayan\n",
      "   73804b5..bdbcfdf  david-madany     -> origin/david-madany\n",
      "   3104293..0cc5c23  eyal-belinsky    -> origin/eyal-belinsky\n",
      "   9cb5a2b..078bd8d  gal-alon         -> origin/gal-alon\n",
      "   d77d2b2..5c319f3  linoy-netach     -> origin/linoy-netach\n",
      "   0719b4d..75f7402  lior-frumkin     -> origin/lior-frumkin\n",
      "   df272ac..8e5ebb0  main             -> origin/main\n",
      "   bb575a3..fb1d788  noa-slavinsky    -> origin/noa-slavinsky\n",
      "   20b36f3..9dbf7f3  orin-baot        -> origin/orin-baot\n",
      "   1bc2bf6..0155db6  shaked-bekerman  -> origin/shaked-bekerman\n",
      "   23caf5f..7b736bc  tamar-tirosh     -> origin/tamar-tirosh\n",
      "   885e1fc..7c0f43c  yari-moshe       -> origin/yari-moshe\n",
      "   349154f..34f420c  yehonatan-shafir -> origin/yehonatan-shafir\n",
      "   14f85ff..c9fa7a6  ziv-jungmann     -> origin/ziv-jungmann\n"
     ]
    },
    {
     "name": "stdout",
     "output_type": "stream",
     "text": [
      "Updating 4322c61..c2fe8f6\n",
      "Fast-forward\n",
      " 07-queue-and-stack-2/04-layout-to-code.ipynb |  8 ++--\n",
      " 08-generics/10-find-element.ipynb            | 62 +++++-----------------------\n",
      " 2 files changed, 15 insertions(+), 55 deletions(-)\n",
      "\n",
      "\n",
      "[hila-atzmon 1c10a15] auto commit...\n",
      " 1 file changed, 6 insertions(+), 43 deletions(-)\n",
      "\n"
     ]
    },
    {
     "name": "stderr",
     "output_type": "stream",
     "text": [
      "To https://github.com/eylon-holon/java-abc\n",
      "   c2fe8f6..1c10a15  hila-atzmon -> hila-atzmon\n"
     ]
    },
    {
     "name": "stdout",
     "output_type": "stream",
     "text": [
      "\n",
      "Auto-merging 02-arrays-1d/02-arrays-1d.java.ipynb\n",
      "CONFLICT (modify/delete): 20-formula-pages/20-linked-list.ipynb deleted in origin/main and modified in HEAD.  Version HEAD of 20-formula-pages/20-linked-list.ipynb left in tree.\n",
      "Automatic merge failed; fix conflicts and then commit the result.\n",
      "\n",
      "\n"
     ]
    },
    {
     "name": "stderr",
     "output_type": "stream",
     "text": [
      "Everything up-to-date\n"
     ]
    }
   ],
   "source": [
    "from eylon.core import *\n",
    "store_all_changes_to_github()\n",
    "get_next_lesson()"
   ]
  }
 ],
 "metadata": {
  "kernelspec": {
   "display_name": "Python 3",
   "language": "python",
   "name": "python3"
  },
  "language_info": {
   "codemirror_mode": {
    "name": "ipython",
    "version": 3
   },
   "file_extension": ".py",
   "mimetype": "text/x-python",
   "name": "python",
   "nbconvert_exporter": "python",
   "pygments_lexer": "ipython3",
   "version": "3.12.1"
  }
 },
 "nbformat": 4,
 "nbformat_minor": 2
}
