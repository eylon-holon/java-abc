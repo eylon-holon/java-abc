{
 "cells": [
  {
   "cell_type": "markdown",
   "metadata": {},
   "source": [
    "להריץ בשביל לקבל עבודה הבא"
   ]
  },
  {
   "cell_type": "code",
   "execution_count": null,
   "metadata": {},
   "outputs": [
    {
     "name": "stderr",
     "output_type": "stream",
     "text": [
      "From https://github.com/eylon-holon/java-abc\n",
      "   327121e3..01653b85  alma-kimhi        -> origin/alma-kimhi\n",
      "   0025059a..86a0abcc  carmel-dayan      -> origin/carmel-dayan\n",
      "   77a4371b..ea710ecb  daniel-yakobovitz -> origin/daniel-yakobovitz\n",
      "   a8e9f8f0..b28d7cf0  david-madany      -> origin/david-madany\n",
      "   e9bcc579..d0504453  eyal-belinsky     -> origin/eyal-belinsky\n",
      "   53bfb766..079258b2  gosha-smeh        -> origin/gosha-smeh\n",
      "   2c84f4ef..13b2d417  hila-atzmon       -> origin/hila-atzmon\n",
      "   7e7b4619..2e028a69  linoy-netach      -> origin/linoy-netach\n",
      "   ac399167..72cff17c  main              -> origin/main\n",
      "   5c40af31..cf0a4c38  noa-slavinsky     -> origin/noa-slavinsky\n",
      "   e12e5c41..4e789dc5  orin-baot         -> origin/orin-baot\n",
      "   b43bac32..d20a5409  shaked-bekerman   -> origin/shaked-bekerman\n",
      "   294fe330..eb1ccd7a  tamar-tirosh      -> origin/tamar-tirosh\n",
      "   02892dd6..db0ae256  yari-moshe        -> origin/yari-moshe\n"
     ]
    },
    {
     "name": "stdout",
     "output_type": "stream",
     "text": [
      "Already up to date.\n",
      "\n",
      "\n",
      "[gal-osovsky babb1f89] auto commit...\n",
      " 1 file changed, 119 insertions(+), 329 deletions(-)\n",
      "\n"
     ]
    },
    {
     "name": "stderr",
     "output_type": "stream",
     "text": [
      "To https://github.com/eylon-holon/java-abc\n",
      "   9f624b2b..babb1f89  gal-osovsky -> gal-osovsky\n"
     ]
    },
    {
     "name": "stdout",
     "output_type": "stream",
     "text": [
      "\n",
      "Merge made by the 'ort' strategy.\n",
      " 14-turing-machine-2/14-turing-intro.dib            | 216 ++++++\n",
      " 14-turing-machine-2/14-turing-intro.ipynb          | 383 ++++++++++\n",
      " 14-turing-machine-2/fsm.ipynb                      |  47 ++\n",
      " 14-turing-machine-2/img/img_00736.png              | Bin 0 -> 25204 bytes\n",
      " 14-turing-machine-2/img/img_00737.png              | Bin 0 -> 33141 bytes\n",
      " 14-turing-machine-2/img/img_00738.png              | Bin 0 -> 31450 bytes\n",
      " 14-turing-machine-2/img/img_00739.png              | Bin 0 -> 31231 bytes\n",
      " 14-turing-machine-2/img/img_00740.png              | Bin 0 -> 28428 bytes\n",
      " 14-turing-machine-2/img/img_00741.png              | Bin 0 -> 31260 bytes\n",
      " 14-turing-machine-2/img/img_00742.png              | Bin 0 -> 16667 bytes\n",
      " 14-turing-machine-2/img/img_00743.png              | Bin 0 -> 29520 bytes\n",
      " 14-turing-machine-2/img/img_00744.png              | Bin 0 -> 18423 bytes\n",
      " 14-turing-machine-2/img/img_00745.png              | Bin 0 -> 19385 bytes\n",
      " 14-turing-machine-2/img/img_00746.png              | Bin 0 -> 17755 bytes\n",
      " 14-turing-machine-2/img/img_00747.png              | Bin 0 -> 38469 bytes\n",
      " 14-turing-machine-2/img/img_00748.png              | Bin 0 -> 28105 bytes\n",
      " 14-turing-machine-2/img/img_00749.png              | Bin 0 -> 16919 bytes\n",
      " 14-turing-machine-2/img/img_00750.png              | Bin 0 -> 42413 bytes\n",
      " .../20-formula-pages/20-run-time-complexity.ipynb  | 157 ++++\n",
      " .../41-matkonet/41-matkonet-2.dib                  | 111 +++\n",
      " .../41-matkonet/41-matkonet-2.ipynb                | 845 +++++++++++++++++++++\n",
      " .../42-prepare/img/img_00796.png                   | Bin 0 -> 14538 bytes\n",
      " 20-formulas-and-bagruts/42-prepare/set-01.ipynb    |  46 +-\n",
      " 20-formulas-and-bagruts/42-prepare/set-03.ipynb    | 162 ++++\n",
      " .../43-bagrut-2025/5-27-2025.dib                   |  22 +\n",
      " .../43-bagrut-2025/5-27-2025.ipynb                 | 312 ++++++++\n",
      " 20-formulas-and-bagruts/img/img_00674.png          | Bin 0 -> 17397 bytes\n",
      " 20-formulas-and-bagruts/img/img_00675.png          | Bin 0 -> 20042 bytes\n",
      " 20-formulas-and-bagruts/img/img_00716.png          | Bin 0 -> 23693 bytes\n",
      " 20-formulas-and-bagruts/img/img_00717.png          | Bin 0 -> 16987 bytes\n",
      " 20-formulas-and-bagruts/img/img_00718.png          | Bin 0 -> 14618 bytes\n",
      " 31 files changed, 2299 insertions(+), 2 deletions(-)\n",
      " create mode 100644 14-turing-machine-2/14-turing-intro.dib\n",
      " create mode 100644 14-turing-machine-2/14-turing-intro.ipynb\n",
      " create mode 100644 14-turing-machine-2/fsm.ipynb\n",
      " create mode 100644 14-turing-machine-2/img/img_00736.png\n",
      " create mode 100644 14-turing-machine-2/img/img_00737.png\n",
      " create mode 100644 14-turing-machine-2/img/img_00738.png\n",
      " create mode 100644 14-turing-machine-2/img/img_00739.png\n",
      " create mode 100644 14-turing-machine-2/img/img_00740.png\n",
      " create mode 100644 14-turing-machine-2/img/img_00741.png\n",
      " create mode 100644 14-turing-machine-2/img/img_00742.png\n",
      " create mode 100644 14-turing-machine-2/img/img_00743.png\n",
      " create mode 100644 14-turing-machine-2/img/img_00744.png\n",
      " create mode 100644 14-turing-machine-2/img/img_00745.png\n",
      " create mode 100644 14-turing-machine-2/img/img_00746.png\n",
      " create mode 100644 14-turing-machine-2/img/img_00747.png\n",
      " create mode 100644 14-turing-machine-2/img/img_00748.png\n",
      " create mode 100644 14-turing-machine-2/img/img_00749.png\n",
      " create mode 100644 14-turing-machine-2/img/img_00750.png\n",
      " create mode 100644 20-formulas-and-bagruts/41-matkonet/41-matkonet-2.dib\n",
      " create mode 100644 20-formulas-and-bagruts/41-matkonet/41-matkonet-2.ipynb\n",
      " create mode 100644 20-formulas-and-bagruts/42-prepare/img/img_00796.png\n",
      " create mode 100644 20-formulas-and-bagruts/42-prepare/set-03.ipynb\n",
      " create mode 100644 20-formulas-and-bagruts/43-bagrut-2025/5-27-2025.dib\n",
      " create mode 100644 20-formulas-and-bagruts/43-bagrut-2025/5-27-2025.ipynb\n",
      " create mode 100644 20-formulas-and-bagruts/img/img_00674.png\n",
      " create mode 100644 20-formulas-and-bagruts/img/img_00675.png\n",
      " create mode 100644 20-formulas-and-bagruts/img/img_00716.png\n",
      " create mode 100644 20-formulas-and-bagruts/img/img_00717.png\n",
      " create mode 100644 20-formulas-and-bagruts/img/img_00718.png\n",
      "\n",
      "\n"
     ]
    },
    {
     "name": "stderr",
     "output_type": "stream",
     "text": [
      "To https://github.com/eylon-holon/java-abc\n",
      "   babb1f89..842ecd1a  gal-osovsky -> gal-osovsky\n"
     ]
    }
   ],
   "source": [
    "from eylon.core import *\n",
    "store_all_changes_to_github()\n",
    "get_next_lesson()"
   ]
  }
 ],
 "metadata": {
  "kernelspec": {
   "display_name": "Python 3",
   "language": "python",
   "name": "python3"
  },
  "language_info": {
   "codemirror_mode": {
    "name": "ipython",
    "version": 3
   },
   "file_extension": ".py",
   "mimetype": "text/x-python",
   "name": "python",
   "nbconvert_exporter": "python",
   "pygments_lexer": "ipython3",
   "version": "3.12.1"
  }
 },
 "nbformat": 4,
 "nbformat_minor": 2
}
