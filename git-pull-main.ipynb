{
 "cells": [
  {
   "cell_type": "code",
   "execution_count": 1,
   "metadata": {
    "dotnet_interactive": {
     "language": "csharp"
    },
    "polyglot_notebook": {
     "kernelName": "csharp"
    }
   },
   "outputs": [
    {
     "name": "stderr",
     "output_type": "stream",
     "text": [
      "From https://github.com/eylon-holon/java-abc\n",
      "   48d9eef..0323a7e  linoy-netach      -> origin/linoy-netach\n",
      "   00522b7..a6f321c  alma-kimhi        -> origin/alma-kimhi\n",
      "   baeea76..ff9a436  carmel-dayan      -> origin/carmel-dayan\n",
      "   a61f771..3dd546c  daniel-yakobovitz -> origin/daniel-yakobovitz\n",
      "   cda38ac..6d3620d  david-madany      -> origin/david-madany\n",
      "   4519b60..b3ca902  dev               -> origin/dev\n",
      "   4667ab5..23811d6  eyal-belinsky     -> origin/eyal-belinsky\n",
      "   abe7b87..d088c39  gal-osovsky       -> origin/gal-osovsky\n",
      "   1418ab5..189eb40  gosha-smeh        -> origin/gosha-smeh\n",
      "   79fb6c7..d304c7a  hila-atzmon       -> origin/hila-atzmon\n",
      "   f33a86f..549ecf5  lior-frumkin      -> origin/lior-frumkin\n",
      "   cbc8439..b3ca902  main              -> origin/main\n",
      "   c7ac1f2..bb575a3  noa-slavinsky     -> origin/noa-slavinsky\n",
      "   72225b5..cff6fad  orin-baot         -> origin/orin-baot\n",
      "   9c65fc9..f3c6574  shaked-bekerman   -> origin/shaked-bekerman\n",
      "   52a06e1..d021127  tamar-tirosh      -> origin/tamar-tirosh\n",
      "   afd4196..885e1fc  yari-moshe        -> origin/yari-moshe\n",
      "   4d23bdf..349154f  yehonatan-shafir  -> origin/yehonatan-shafir\n",
      "   506761f..14f85ff  ziv-jungmann      -> origin/ziv-jungmann\n"
     ]
    },
    {
     "name": "stdout",
     "output_type": "stream",
     "text": [
      "Updating 48d9eef..0323a7e\n",
      "Fast-forward\n",
      " 07-queue-and-stack-2/04-layout-to-code.ipynb |   9 +-\n",
      " 07-queue-and-stack-2/10-find-element.ipynb   |  59 +++++++++--\n",
      " 10-fsm/10-fsm-a01.dib                        |   2 +-\n",
      " 10-fsm/10-fsm-a01.ipynb                      |  81 +++++++++++----\n",
      " 10-fsm/10-fsm-a02.ipynb                      | 150 ++++++++++++++++-----------\n",
      " 10-fsm/10-fsm-a03.ipynb                      |  23 ++--\n",
      " 6 files changed, 216 insertions(+), 108 deletions(-)\n",
      "\n",
      "\n",
      "[linoy-netach 6a6c7e8] auto commit...\n",
      " 1 file changed, 42 insertions(+), 4 deletions(-)\n",
      "\n"
     ]
    },
    {
     "name": "stderr",
     "output_type": "stream",
     "text": [
      "To https://github.com/eylon-holon/java-abc\n",
      "   0323a7e..6a6c7e8  linoy-netach -> linoy-netach\n"
     ]
    },
    {
     "name": "stdout",
     "output_type": "stream",
     "text": [
      "\n",
      "Merge made by the 'ort' strategy.\n",
      " 10-fsm/10-fsm-a03.solution.dib          |   4 +-\n",
      " 10-fsm/10-fsm-a03.solution.ipynb        |   8 +-\n",
      " 13-turing-machine/13-turing-intro.ipynb |  43 ++++\n",
      " 13-turing-machine/turing.ipynb          |  31 +++\n",
      " 20-formula-pages/20-algorithms.ipynb    |   0\n",
      " 20-formula-pages/20-array.ipynb         |   0\n",
      " 20-formula-pages/20-binary-tree.ipynb   |   0\n",
      " 20-formula-pages/20-class-object.ipynb  |   0\n",
      " 20-formula-pages/20-common.ipynb        |  39 ++++\n",
      " 20-formula-pages/20-linked-list.ipynb   | 339 ++++++++++++++++++++++++++++++++\n",
      " 20-formula-pages/20-queue.ipynb         |   0\n",
      " 20-formula-pages/20-string.ipynb        |   0\n",
      " 20-formula-pages/Node.ipynb             |  72 +++++++\n",
      " 20-formula-pages/formulas.ipynb         |  35 ++++\n",
      " eylon/Config.java                       |  11 ++\n",
      " eylon/JavaUtils.java                    | 114 +++++++++++\n",
      " eylon/java-utils.ipynb                  |   6 +-\n",
      " eylon/submit.ipynb                      |  36 ++++\n",
      " 18 files changed, 730 insertions(+), 8 deletions(-)\n",
      " create mode 100644 13-turing-machine/13-turing-intro.ipynb\n",
      " create mode 100644 13-turing-machine/turing.ipynb\n",
      " create mode 100644 20-formula-pages/20-algorithms.ipynb\n",
      " create mode 100644 20-formula-pages/20-array.ipynb\n",
      " create mode 100644 20-formula-pages/20-binary-tree.ipynb\n",
      " create mode 100644 20-formula-pages/20-class-object.ipynb\n",
      " create mode 100644 20-formula-pages/20-common.ipynb\n",
      " create mode 100644 20-formula-pages/20-linked-list.ipynb\n",
      " create mode 100644 20-formula-pages/20-queue.ipynb\n",
      " create mode 100644 20-formula-pages/20-string.ipynb\n",
      " create mode 100644 20-formula-pages/Node.ipynb\n",
      " create mode 100644 20-formula-pages/formulas.ipynb\n",
      " create mode 100644 eylon/Config.java\n",
      " create mode 100644 eylon/submit.ipynb\n",
      "\n",
      "\n"
     ]
    },
    {
     "name": "stderr",
     "output_type": "stream",
     "text": [
      "To https://github.com/eylon-holon/java-abc\n",
      "   6a6c7e8..8e06655  linoy-netach -> linoy-netach\n"
     ]
    }
   ],
   "source": [
    "from eylon.core import *\n",
    "store_all_changes_to_github()\n",
    "get_next_lesson()"
   ]
  }
 ],
 "metadata": {
  "kernelspec": {
   "display_name": "Python 3",
   "language": "python",
   "name": "python3"
  },
  "language_info": {
   "codemirror_mode": {
    "name": "ipython",
    "version": 3
   },
   "file_extension": ".py",
   "mimetype": "text/x-python",
   "name": "python",
   "nbconvert_exporter": "python",
   "pygments_lexer": "ipython3",
   "version": "3.12.1"
  },
  "polyglot_notebook": {
   "kernelInfo": {
    "defaultKernelName": "csharp",
    "items": [
     {
      "aliases": [],
      "name": "csharp"
     }
    ]
   }
  }
 },
 "nbformat": 4,
 "nbformat_minor": 2
}
