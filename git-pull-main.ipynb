{
 "cells": [
  {
   "cell_type": "code",
   "execution_count": 1,
   "metadata": {},
   "outputs": [
    {
     "name": "stdout",
     "output_type": "stream",
     "text": [
      "\n",
      "[alma-kimhi 939238c] auto commit...\n",
      " 2 files changed, 14 insertions(+), 50 deletions(-)\n",
      "\n"
     ]
    },
    {
     "name": "stderr",
     "output_type": "stream",
     "text": [
      "To https://github.com/eylon-holon/java-abc\n",
      "   05e6101..939238c  alma-kimhi -> alma-kimhi\n"
     ]
    },
    {
     "name": "stdout",
     "output_type": "stream",
     "text": [
      "\n"
     ]
    },
    {
     "name": "stderr",
     "output_type": "stream",
     "text": [
      "From https://github.com/eylon-holon/java-abc\n",
      " * branch            main       -> FETCH_HEAD\n"
     ]
    },
    {
     "name": "stdout",
     "output_type": "stream",
     "text": [
      "Merge made by the 'ort' strategy.\n",
      " 10-fsm/10-fsm-a02.dib               |  63 +++++++++\n",
      " 10-fsm/10-fsm-a02.ipynb             | 249 ++++++++++++++++++++++++++++++++++++\n",
      " 10-fsm/img/10-fsm-02-h1.png         | Bin 0 -> 14086 bytes\n",
      " 10-fsm/img/10-fsm-02-h2.png         | Bin 0 -> 11872 bytes\n",
      " 10-fsm/img/10-fsm-a02-q01-alef.png  | Bin 0 -> 5296 bytes\n",
      " 10-fsm/img/10-fsm-a02-q02-bet.png   | Bin 0 -> 4941 bytes\n",
      " 10-fsm/img/10-fsm-a02-q03-gimel.png | Bin 0 -> 4019 bytes\n",
      " 10-fsm/img/10-fsm-a02-q04-daled.png | Bin 0 -> 4917 bytes\n",
      " 10-fsm/img/10-fsm-a02-q05-hei.png   | Bin 0 -> 5476 bytes\n",
      " 10-fsm/img/10-fsm-a02-q06-vav.png   | Bin 0 -> 4055 bytes\n",
      " 10-fsm/img/10-fsm-a02-q07-zain.png  | Bin 0 -> 5802 bytes\n",
      " 10-fsm/img/10-fsm-a02-q08-het.png   | Bin 0 -> 5984 bytes\n",
      " 10-fsm/img/10-fsm-a02-q09-tet.png   | Bin 0 -> 5369 bytes\n",
      " 10-fsm/img/10-fsm-a02-q10-yud.png   | Bin 0 -> 6082 bytes\n",
      " 14 files changed, 312 insertions(+)\n",
      " create mode 100644 10-fsm/10-fsm-a02.dib\n",
      " create mode 100644 10-fsm/10-fsm-a02.ipynb\n",
      " create mode 100644 10-fsm/img/10-fsm-02-h1.png\n",
      " create mode 100644 10-fsm/img/10-fsm-02-h2.png\n",
      " create mode 100644 10-fsm/img/10-fsm-a02-q01-alef.png\n",
      " create mode 100644 10-fsm/img/10-fsm-a02-q02-bet.png\n",
      " create mode 100644 10-fsm/img/10-fsm-a02-q03-gimel.png\n",
      " create mode 100644 10-fsm/img/10-fsm-a02-q04-daled.png\n",
      " create mode 100644 10-fsm/img/10-fsm-a02-q05-hei.png\n",
      " create mode 100644 10-fsm/img/10-fsm-a02-q06-vav.png\n",
      " create mode 100644 10-fsm/img/10-fsm-a02-q07-zain.png\n",
      " create mode 100644 10-fsm/img/10-fsm-a02-q08-het.png\n",
      " create mode 100644 10-fsm/img/10-fsm-a02-q09-tet.png\n",
      " create mode 100644 10-fsm/img/10-fsm-a02-q10-yud.png\n",
      "\n"
     ]
    },
    {
     "name": "stderr",
     "output_type": "stream",
     "text": [
      "To https://github.com/eylon-holon/java-abc\n",
      "   939238c..2f8336f  alma-kimhi -> alma-kimhi\n"
     ]
    }
   ],
   "source": [
    "from eylon.core import *\n",
    "store_all_changes_to_github()\n",
    "get_next_lesson()"
   ]
  }
 ],
 "metadata": {
  "kernelspec": {
   "display_name": "Python 3",
   "language": "python",
   "name": "python3"
  },
  "language_info": {
   "codemirror_mode": {
    "name": "ipython",
    "version": 3
   },
   "file_extension": ".py",
   "mimetype": "text/x-python",
   "name": "python",
   "nbconvert_exporter": "python",
   "pygments_lexer": "ipython3",
   "version": "3.12.1"
  }
 },
 "nbformat": 4,
 "nbformat_minor": 2
}
