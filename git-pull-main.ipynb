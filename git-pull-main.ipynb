{
 "cells": [
  {
   "cell_type": "code",
   "execution_count": 1,
   "metadata": {},
   "outputs": [
    {
     "name": "stdout",
     "output_type": "stream",
     "text": [
      "\n",
      "[hila-atzmon 6145076] auto commit...\n",
      " 1 file changed, 15 insertions(+), 8 deletions(-)\n",
      "\n"
     ]
    },
    {
     "name": "stderr",
     "output_type": "stream",
     "text": [
      "To https://github.com/eylon-holon/java-abc\n",
      "   787c20b..6145076  hila-atzmon -> hila-atzmon\n"
     ]
    },
    {
     "name": "stdout",
     "output_type": "stream",
     "text": [
      "\n"
     ]
    },
    {
     "name": "stderr",
     "output_type": "stream",
     "text": [
      "From https://github.com/eylon-holon/java-abc\n",
      " * branch            main       -> FETCH_HEAD\n",
      "   0c0b877..6ca4dbd  main       -> origin/main\n"
     ]
    },
    {
     "name": "stdout",
     "output_type": "stream",
     "text": [
      "Merge made by the 'ort' strategy.\n",
      " 07-queue-and-stack/01-queue-tests.ipynb | 94 +++++++++++++++++++++++++++++++++\n",
      " 07-queue-and-stack/02-stack-tests.ipynb | 67 +++++++++++++++++++++++\n",
      " 07-queue-and-stack/Node.java            | 33 ++++++++++++\n",
      " 07-queue-and-stack/Queue.java           | 21 ++++++++\n",
      " 07-queue-and-stack/Stack.java           | 21 ++++++++\n",
      " 07-queue-and-stack/queues.ipynb         | 42 +++++++++++++++\n",
      " 6 files changed, 278 insertions(+)\n",
      " create mode 100644 07-queue-and-stack/01-queue-tests.ipynb\n",
      " create mode 100644 07-queue-and-stack/02-stack-tests.ipynb\n",
      " create mode 100644 07-queue-and-stack/Node.java\n",
      " create mode 100644 07-queue-and-stack/Queue.java\n",
      " create mode 100644 07-queue-and-stack/Stack.java\n",
      " create mode 100644 07-queue-and-stack/queues.ipynb\n",
      "\n"
     ]
    },
    {
     "name": "stderr",
     "output_type": "stream",
     "text": [
      "To https://github.com/eylon-holon/java-abc\n",
      "   6145076..db0cfe5  hila-atzmon -> hila-atzmon\n"
     ]
    }
   ],
   "source": [
    "from eylon.core import *\n",
    "store_all_changes_to_github()\n",
    "get_next_lesson()"
   ]
  }
 ],
 "metadata": {
  "kernelspec": {
   "display_name": "Python 3",
   "language": "python",
   "name": "python3"
  },
  "language_info": {
   "codemirror_mode": {
    "name": "ipython",
    "version": 3
   },
   "file_extension": ".py",
   "mimetype": "text/x-python",
   "name": "python",
   "nbconvert_exporter": "python",
   "pygments_lexer": "ipython3",
   "version": "3.12.1"
  }
 },
 "nbformat": 4,
 "nbformat_minor": 2
}
