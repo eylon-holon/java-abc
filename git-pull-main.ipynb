{
 "cells": [
  {
   "cell_type": "code",
   "execution_count": 1,
   "metadata": {},
   "outputs": [
    {
     "name": "stderr",
     "output_type": "stream",
     "text": [
      "From https://github.com/eylon-holon/java-abc\n",
      "   e44aca5..9213715  alma-kimhi        -> origin/alma-kimhi\n",
      "   b1b277f..c6302db  bat-hen-zaltsman  -> origin/bat-hen-zaltsman\n",
      "   ff9a436..a4178eb  carmel-dayan      -> origin/carmel-dayan\n",
      "   3dd546c..77a4371  daniel-yakobovitz -> origin/daniel-yakobovitz\n",
      "   6d3620d..73804b5  david-madany      -> origin/david-madany\n",
      "   23811d6..3104293  eyal-belinsky     -> origin/eyal-belinsky\n",
      "   b7fa191..9cb5a2b  gal-alon          -> origin/gal-alon\n",
      "   82130d5..a466ee5  gal-osovsky       -> origin/gal-osovsky\n",
      "   d304c7a..4322c61  hila-atzmon       -> origin/hila-atzmon\n",
      "   d77d2b2..ad3598c  linoy-netach      -> origin/linoy-netach\n",
      "   0719b4d..948eb8a  lior-frumkin      -> origin/lior-frumkin\n",
      "   df272ac..baa1349  main              -> origin/main\n",
      "   bb575a3..fb1d788  noa-slavinsky     -> origin/noa-slavinsky\n",
      "   1bc2bf6..0155db6  shaked-bekerman   -> origin/shaked-bekerman\n",
      "   23caf5f..439afce  tamar-tirosh      -> origin/tamar-tirosh\n",
      "   885e1fc..7c0f43c  yari-moshe        -> origin/yari-moshe\n",
      "   349154f..34f420c  yehonatan-shafir  -> origin/yehonatan-shafir\n",
      "   14f85ff..c9fa7a6  ziv-jungmann      -> origin/ziv-jungmann\n"
     ]
    },
    {
     "name": "stdout",
     "output_type": "stream",
     "text": [
      "Already up to date.\n",
      "\n",
      "\n",
      "[orin-baot 8d8d708] auto commit...\n",
      " 1 file changed, 6 insertions(+), 65 deletions(-)\n",
      "\n"
     ]
    },
    {
     "name": "stderr",
     "output_type": "stream",
     "text": [
      "To https://github.com/eylon-holon/java-abc\n",
      "   20b36f3..8d8d708  orin-baot -> orin-baot\n"
     ]
    },
    {
     "name": "stdout",
     "output_type": "stream",
     "text": [
      "\n",
      "Merge made by the 'ort' strategy.\n",
      " 20-formula-pages/20--all.dib                       |  36 +++++\n",
      " .../20-binary-tree.bugrut-2022-7.ipynb             |  32 ++++\n",
      " 20-formula-pages/20-binary-tree.ipynb              | 178 ++++++++++++--------\n",
      " .../20-linked-list.bagrut-2021-4.ipynb             |  39 +++++\n",
      " .../20-linked-list.bagrut-2021-5.ipynb             |  88 ++++++++++\n",
      " 20-formula-pages/20-linked-list.ipynb              | 179 ++++++++-------------\n",
      " 20-formula-pages/20-linked-list.tests.ipynb        |  82 +++++++++-\n",
      " 20-formula-pages/img/img_00111.png                 | Bin 0 -> 39002 bytes\n",
      " 20-formula-pages/img/img_00112.png                 | Bin 0 -> 24045 bytes\n",
      " 20-formula-pages/img/img_00113.png                 | Bin 0 -> 25542 bytes\n",
      " 20-formula-pages/img/img_00114.png                 | Bin 0 -> 22384 bytes\n",
      " 20-formula-pages/img/img_00115.png                 | Bin 0 -> 44284 bytes\n",
      " 20-formula-pages/img/img_00116.png                 | Bin 0 -> 19436 bytes\n",
      " 20-formula-pages/img/img_00117.png                 | Bin 0 -> 24582 bytes\n",
      " 20-formula-pages/img/img_00118.png                 | Bin 0 -> 23471 bytes\n",
      " 20-formula-pages/img/img_00119.png                 | Bin 0 -> 46053 bytes\n",
      " 20-formula-pages/img/img_00120.png                 | Bin 0 -> 124323 bytes\n",
      " 20-formula-pages/img/img_00121.png                 | Bin 0 -> 81096 bytes\n",
      " 20-formula-pages/img/img_00122.png                 | Bin 0 -> 35316 bytes\n",
      " 20-formula-pages/img/img_00123.png                 | Bin 0 -> 44621 bytes\n",
      " 20-formula-pages/img/img_00124.png                 | Bin 0 -> 39026 bytes\n",
      " 20-formula-pages/img/img_00125.png                 | Bin 0 -> 8667 bytes\n",
      " 22 files changed, 443 insertions(+), 191 deletions(-)\n",
      " create mode 100644 20-formula-pages/20--all.dib\n",
      " create mode 100644 20-formula-pages/20-binary-tree.bugrut-2022-7.ipynb\n",
      " create mode 100644 20-formula-pages/20-linked-list.bagrut-2021-4.ipynb\n",
      " create mode 100644 20-formula-pages/20-linked-list.bagrut-2021-5.ipynb\n",
      " create mode 100644 20-formula-pages/img/img_00111.png\n",
      " create mode 100644 20-formula-pages/img/img_00112.png\n",
      " create mode 100644 20-formula-pages/img/img_00113.png\n",
      " create mode 100644 20-formula-pages/img/img_00114.png\n",
      " create mode 100644 20-formula-pages/img/img_00115.png\n",
      " create mode 100644 20-formula-pages/img/img_00116.png\n",
      " create mode 100644 20-formula-pages/img/img_00117.png\n",
      " create mode 100644 20-formula-pages/img/img_00118.png\n",
      " create mode 100644 20-formula-pages/img/img_00119.png\n",
      " create mode 100644 20-formula-pages/img/img_00120.png\n",
      " create mode 100644 20-formula-pages/img/img_00121.png\n",
      " create mode 100644 20-formula-pages/img/img_00122.png\n",
      " create mode 100644 20-formula-pages/img/img_00123.png\n",
      " create mode 100644 20-formula-pages/img/img_00124.png\n",
      " create mode 100644 20-formula-pages/img/img_00125.png\n",
      "\n",
      "\n"
     ]
    },
    {
     "name": "stderr",
     "output_type": "stream",
     "text": [
      "To https://github.com/eylon-holon/java-abc\n",
      "   8d8d708..af16975  orin-baot -> orin-baot\n"
     ]
    }
   ],
   "source": [
    "from eylon.core import *\n",
    "store_all_changes_to_github()\n",
    "get_next_lesson()"
   ]
  }
 ],
 "metadata": {
  "kernelspec": {
   "display_name": "Python 3",
   "language": "python",
   "name": "python3"
  },
  "language_info": {
   "codemirror_mode": {
    "name": "ipython",
    "version": 3
   },
   "file_extension": ".py",
   "mimetype": "text/x-python",
   "name": "python",
   "nbconvert_exporter": "python",
   "pygments_lexer": "ipython3",
   "version": "3.12.1"
  }
 },
 "nbformat": 4,
 "nbformat_minor": 2
}
