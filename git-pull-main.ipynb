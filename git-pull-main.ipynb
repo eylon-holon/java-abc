{
 "cells": [
  {
   "cell_type": "code",
   "execution_count": 1,
   "metadata": {},
   "outputs": [
    {
     "name": "stderr",
     "output_type": "stream",
     "text": [
      "From https://github.com/eylon-holon/java-abc\n",
      "   ec0f0e2f..b28d7cf0  david-madany    -> origin/david-madany\n",
      "   ab5ca555..d0504453  eyal-belinsky   -> origin/eyal-belinsky\n",
      "   82a833c2..0830d175  main            -> origin/main\n",
      "   51dbd437..b2e4a992  shaked-bekerman -> origin/shaked-bekerman\n"
     ]
    },
    {
     "name": "stdout",
     "output_type": "stream",
     "text": [
      "Already up to date.\n",
      "\n",
      "\n",
      "[hila-atzmon 5185df22] auto commit...\n",
      " 1 file changed, 4 insertions(+), 18 deletions(-)\n",
      "\n"
     ]
    },
    {
     "name": "stderr",
     "output_type": "stream",
     "text": [
      "To https://github.com/eylon-holon/java-abc\n",
      "   d51ac5e1..5185df22  hila-atzmon -> hila-atzmon\n"
     ]
    },
    {
     "name": "stdout",
     "output_type": "stream",
     "text": [
      "\n",
      "Merge made by the 'ort' strategy.\n",
      " .../41-matkonet/41-matkonet-2.ipynb                |  94 ++-----\n",
      " .../42-prepare/img/img_00796.png                   | Bin 0 -> 14538 bytes\n",
      " 20-formulas-and-bagruts/42-prepare/set-03.ipynb    | 160 +++++++++++\n",
      " .../43-bagrut-2025/5-27-2025.dib                   |  22 ++\n",
      " .../43-bagrut-2025/5-27-2025.ipynb                 | 312 +++++++++++++++++++++\n",
      " 5 files changed, 513 insertions(+), 75 deletions(-)\n",
      " create mode 100644 20-formulas-and-bagruts/42-prepare/img/img_00796.png\n",
      " create mode 100644 20-formulas-and-bagruts/42-prepare/set-03.ipynb\n",
      " create mode 100644 20-formulas-and-bagruts/43-bagrut-2025/5-27-2025.dib\n",
      " create mode 100644 20-formulas-and-bagruts/43-bagrut-2025/5-27-2025.ipynb\n",
      "\n",
      "\n"
     ]
    },
    {
     "name": "stderr",
     "output_type": "stream",
     "text": [
      "To https://github.com/eylon-holon/java-abc\n",
      "   5185df22..bcd0eb07  hila-atzmon -> hila-atzmon\n"
     ]
    }
   ],
   "source": [
    "from eylon.core import *\n",
    "store_all_changes_to_github()\n",
    "get_next_lesson()"
   ]
  }
 ],
 "metadata": {
  "kernelspec": {
   "display_name": "Python 3",
   "language": "python",
   "name": "python3"
  },
  "language_info": {
   "codemirror_mode": {
    "name": "ipython",
    "version": 3
   },
   "file_extension": ".py",
   "mimetype": "text/x-python",
   "name": "python",
   "nbconvert_exporter": "python",
   "pygments_lexer": "ipython3",
   "version": "3.12.1"
  }
 },
 "nbformat": 4,
 "nbformat_minor": 2
}
