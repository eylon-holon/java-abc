{
 "cells": [
  {
   "cell_type": "code",
   "execution_count": 1,
   "metadata": {},
   "outputs": [
    {
     "name": "stdout",
     "output_type": "stream",
     "text": [
      "\n",
      "[gosha-smeh ff81e95] auto commit...\n",
      " 1 file changed, 9 insertions(+), 38 deletions(-)\n",
      "\n"
     ]
    },
    {
     "name": "stderr",
     "output_type": "stream",
     "text": [
      "To https://github.com/eylon-holon/java-abc\n",
      "   28e594f..ff81e95  gosha-smeh -> gosha-smeh\n"
     ]
    },
    {
     "name": "stdout",
     "output_type": "stream",
     "text": [
      "\n"
     ]
    },
    {
     "name": "stderr",
     "output_type": "stream",
     "text": [
      "From https://github.com/eylon-holon/java-abc\n",
      " * branch            main       -> FETCH_HEAD\n",
      "   0e8bb2c..4984a02  main       -> origin/main\n"
     ]
    },
    {
     "name": "stdout",
     "output_type": "stream",
     "text": [
      "Merge made by the 'ort' strategy.\n",
      " 07-queue-and-stack-2/03-basic-memory-layout.dib    | 103 ++++++\n",
      " 07-queue-and-stack-2/03-basic-memory-layout.ipynb  | 129 ++++++++\n",
      " .../03-basic-memory-layout.solution.dib            | 132 ++++++++\n",
      " 07-queue-and-stack-2/04-layout-to-code.dib         | 357 +++++++++++++++++++++\n",
      " 07-queue-and-stack-2/04-layout-to-code.ipynb       | 196 +++++++++++\n",
      " .../04-layout-to-code.solution.ipynb               | 302 +++++++++++++++++\n",
      " 07-queue-and-stack-2/10-find-element.ipynb         |  99 ++++++\n",
      " 07-queue-and-stack-2/Stack.ipynb                   |  10 +-\n",
      " 07-queue-and-stack-2/iterate.ipynb                 |  73 +++++\n",
      " 07-queue-and-stack-2/queues.ipynb                  |   5 +-\n",
      " 08-generics/10-find-element.ipynb                  | 216 +++++++++++++\n",
      " 08-generics/10-find-element.solution.ipynb         | 264 +++++++++++++++\n",
      " 08-generics/Node.ipynb                             |  72 +++++\n",
      " 08-generics/Queue.ipynb                            |  69 ++++\n",
      " 08-generics/Stack.ipynb                            |  56 ++++\n",
      " 08-generics/iterate.ipynb                          |  73 +++++\n",
      " 08-generics/queues.ipynb                           |  54 ++++\n",
      " eylon/JavaUtils.java                               |   3 +-\n",
      " 18 files changed, 2206 insertions(+), 7 deletions(-)\n",
      " create mode 100644 07-queue-and-stack-2/03-basic-memory-layout.dib\n",
      " create mode 100644 07-queue-and-stack-2/03-basic-memory-layout.ipynb\n",
      " create mode 100644 07-queue-and-stack-2/03-basic-memory-layout.solution.dib\n",
      " create mode 100644 07-queue-and-stack-2/04-layout-to-code.dib\n",
      " create mode 100644 07-queue-and-stack-2/04-layout-to-code.ipynb\n",
      " create mode 100644 07-queue-and-stack-2/04-layout-to-code.solution.ipynb\n",
      " create mode 100644 07-queue-and-stack-2/10-find-element.ipynb\n",
      " create mode 100644 07-queue-and-stack-2/iterate.ipynb\n",
      " create mode 100644 08-generics/10-find-element.ipynb\n",
      " create mode 100644 08-generics/10-find-element.solution.ipynb\n",
      " create mode 100644 08-generics/Node.ipynb\n",
      " create mode 100644 08-generics/Queue.ipynb\n",
      " create mode 100644 08-generics/Stack.ipynb\n",
      " create mode 100644 08-generics/iterate.ipynb\n",
      " create mode 100644 08-generics/queues.ipynb\n",
      "\n"
     ]
    },
    {
     "name": "stderr",
     "output_type": "stream",
     "text": [
      "To https://github.com/eylon-holon/java-abc\n",
      "   ff81e95..68fd7c4  gosha-smeh -> gosha-smeh\n"
     ]
    }
   ],
   "source": [
    "from eylon.core import *\n",
    "store_all_changes_to_github()\n",
    "get_next_lesson()"
   ]
  }
 ],
 "metadata": {
  "kernelspec": {
   "display_name": "Python 3",
   "language": "python",
   "name": "python3"
  },
  "language_info": {
   "codemirror_mode": {
    "name": "ipython",
    "version": 3
   },
   "file_extension": ".py",
   "mimetype": "text/x-python",
   "name": "python",
   "nbconvert_exporter": "python",
   "pygments_lexer": "ipython3",
   "version": "3.12.1"
  }
 },
 "nbformat": 4,
 "nbformat_minor": 2
}
