{
 "cells": [
  {
   "cell_type": "markdown",
   "metadata": {},
   "source": [
    "להריץ בשביל לקבל עבודה הבא"
   ]
  },
  {
   "cell_type": "code",
   "execution_count": null,
   "metadata": {},
   "outputs": [
    {
     "name": "stderr",
     "output_type": "stream",
     "text": [
      "From https://github.com/eylon-holon/java-abc\n",
      "   7ffdeec..02ca945  main         -> origin/main\n",
      "   712965e..7ce90ac  ziv-jungmann -> origin/ziv-jungmann\n"
     ]
    },
    {
     "name": "stdout",
     "output_type": "stream",
     "text": [
      "Already up to date.\n",
      "\n",
      "\n",
      "[tamar-tirosh 916b5fe] auto commit...\n",
      " 1 file changed, 40 insertions(+), 2 deletions(-)\n",
      "\n"
     ]
    },
    {
     "name": "stderr",
     "output_type": "stream",
     "text": [
      "To https://github.com/eylon-holon/java-abc\n",
      "   01f1967..916b5fe  tamar-tirosh -> tamar-tirosh\n"
     ]
    },
    {
     "name": "stdout",
     "output_type": "stream",
     "text": [
      "\n",
      "Merge made by the 'ort' strategy.\n",
      " .../40-mikud/40-mikud-matkonet.dib                 | 102 +++++++++++++++++---\n",
      " .../40-mikud/40-mikud-matkonet.ipynb               | 103 +++++++++++++++++----\n",
      " 20-formulas-and-bagruts/{40-mikud => }/fsm.ipynb   |   8 +-\n",
      " 20-formulas-and-bagruts/img/img_00405.png          | Bin 33845 -> 0 bytes\n",
      " 20-formulas-and-bagruts/img/img_00407.png          | Bin 0 -> 5388 bytes\n",
      " 20-formulas-and-bagruts/img/img_00413.png          | Bin 0 -> 33310 bytes\n",
      " 20-formulas-and-bagruts/img/img_00414.png          | Bin 0 -> 30176 bytes\n",
      " 7 files changed, 176 insertions(+), 37 deletions(-)\n",
      " rename 20-formulas-and-bagruts/{40-mikud => }/fsm.ipynb (94%)\n",
      " delete mode 100644 20-formulas-and-bagruts/img/img_00405.png\n",
      " create mode 100644 20-formulas-and-bagruts/img/img_00407.png\n",
      " create mode 100644 20-formulas-and-bagruts/img/img_00413.png\n",
      " create mode 100644 20-formulas-and-bagruts/img/img_00414.png\n",
      "\n",
      "\n"
     ]
    },
    {
     "name": "stderr",
     "output_type": "stream",
     "text": [
      "To https://github.com/eylon-holon/java-abc\n",
      "   916b5fe..676348e  tamar-tirosh -> tamar-tirosh\n"
     ]
    }
   ],
   "source": [
    "from eylon.core import *\n",
    "store_all_changes_to_github()\n",
    "get_next_lesson()"
   ]
  }
 ],
 "metadata": {
  "kernelspec": {
   "display_name": "Python 3",
   "language": "python",
   "name": "python3"
  },
  "language_info": {
   "codemirror_mode": {
    "name": "ipython",
    "version": 3
   },
   "file_extension": ".py",
   "mimetype": "text/x-python",
   "name": "python",
   "nbconvert_exporter": "python",
   "pygments_lexer": "ipython3",
   "version": "3.12.1"
  }
 },
 "nbformat": 4,
 "nbformat_minor": 2
}
