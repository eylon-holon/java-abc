{
 "cells": [
  {
   "cell_type": "code",
   "execution_count": 1,
   "metadata": {},
   "outputs": [
    {
     "name": "stdout",
     "output_type": "stream",
     "text": [
      "\n",
      "[gosha-smeh bb27fbf] auto commit...\n",
      " 1 file changed, 7 insertions(+), 43 deletions(-)\n",
      "\n"
     ]
    },
    {
     "name": "stderr",
     "output_type": "stream",
     "text": [
      "To https://github.com/eylon-holon/java-abc\n",
      "   dfcbee4..bb27fbf  gosha-smeh -> gosha-smeh\n"
     ]
    },
    {
     "name": "stdout",
     "output_type": "stream",
     "text": [
      "\n"
     ]
    },
    {
     "name": "stderr",
     "output_type": "stream",
     "text": [
      "From https://github.com/eylon-holon/java-abc\n",
      " * branch            main       -> FETCH_HEAD\n",
      "   4984a02..8b54730  main       -> origin/main\n"
     ]
    },
    {
     "name": "stdout",
     "output_type": "stream",
     "text": [
      "Merge made by the 'ort' strategy.\n",
      " 10-fsm/fsm.ipynb                            |  19 +--\n",
      " 11-fsm-nondetermenistic/11-nfsm-intro.dib   |  58 +++++++\n",
      " 11-fsm-nondetermenistic/11-nfsm-intro.ipynb |  67 ++++++++\n",
      " 11-fsm-nondetermenistic/fsm.ipynb           |  57 +++++++\n",
      " j-core/fsm/DetermenisticFsm.java            | 213 +++++++++++++++++++++++\n",
      " j-core/fsm/DibFile.java                     |  63 +++++++\n",
      " j-core/fsm/FSM.java                         | 228 +++----------------------\n",
      " j-core/fsm/FsmFromMermaid.java              |  20 +--\n",
      " j-core/fsm/FsmFromMermaid2.java             |  21 +++\n",
      " j-core/fsm/FsmParser.java                   |  61 ++++---\n",
      " j-core/fsm/MermaidFile.java                 |   2 +-\n",
      " j-core/fsm/MermaidFile2.java                | 160 +++++++++++++++++\n",
      " j-core/fsm/NondetermenisticFsm.java         | 256 ++++++++++++++++++++++++++++\n",
      " lib/snakeyaml-2.3.jar                       | Bin 0 -> 342152 bytes\n",
      " 14 files changed, 969 insertions(+), 256 deletions(-)\n",
      " create mode 100644 11-fsm-nondetermenistic/11-nfsm-intro.dib\n",
      " create mode 100644 11-fsm-nondetermenistic/11-nfsm-intro.ipynb\n",
      " create mode 100644 11-fsm-nondetermenistic/fsm.ipynb\n",
      " create mode 100644 j-core/fsm/DetermenisticFsm.java\n",
      " create mode 100644 j-core/fsm/DibFile.java\n",
      " create mode 100644 j-core/fsm/FsmFromMermaid2.java\n",
      " create mode 100644 j-core/fsm/MermaidFile2.java\n",
      " create mode 100644 j-core/fsm/NondetermenisticFsm.java\n",
      " create mode 100644 lib/snakeyaml-2.3.jar\n",
      "\n"
     ]
    },
    {
     "name": "stderr",
     "output_type": "stream",
     "text": [
      "To https://github.com/eylon-holon/java-abc\n",
      "   bb27fbf..c38bbf9  gosha-smeh -> gosha-smeh\n"
     ]
    }
   ],
   "source": [
    "from eylon.core import *\n",
    "store_all_changes_to_github()\n",
    "get_next_lesson()"
   ]
  }
 ],
 "metadata": {
  "kernelspec": {
   "display_name": "Python 3",
   "language": "python",
   "name": "python3"
  },
  "language_info": {
   "codemirror_mode": {
    "name": "ipython",
    "version": 3
   },
   "file_extension": ".py",
   "mimetype": "text/x-python",
   "name": "python",
   "nbconvert_exporter": "python",
   "pygments_lexer": "ipython3",
   "version": "3.12.1"
  }
 },
 "nbformat": 4,
 "nbformat_minor": 2
}
