{
 "cells": [
  {
   "cell_type": "code",
   "execution_count": 1,
   "metadata": {},
   "outputs": [
    {
     "name": "stdout",
     "output_type": "stream",
     "text": [
      "\n",
<<<<<<< HEAD
      "[noa-slavinsky ecabfb7] auto commit...\n",
      " 1 file changed, 41 insertions(+), 12 deletions(-)\n",
=======
      "On branch gosha-smeh\n",
      "Your branch is up to date with 'origin/gosha-smeh'.\n",
      "\n",
      "nothing to commit, working tree clean\n",
>>>>>>> 5834ca6050cc17e8206cd38ddc14fb3ba1e8b622
      "\n"
     ]
    },
    {
     "name": "stderr",
     "output_type": "stream",
     "text": [
<<<<<<< HEAD
      "remote: Permission to eylon-holon/java-abc.git denied to noa-slavinsky-ey.\n",
      "fatal: unable to access 'https://github.com/eylon-holon/java-abc/': The requested URL returned error: 403\n"
=======
      "Everything up-to-date\n"
>>>>>>> 5834ca6050cc17e8206cd38ddc14fb3ba1e8b622
     ]
    },
    {
     "name": "stdout",
     "output_type": "stream",
     "text": [
      "\n"
     ]
    },
    {
     "name": "stderr",
     "output_type": "stream",
     "text": [
      "From https://github.com/eylon-holon/java-abc\n",
<<<<<<< HEAD
      " * branch            main       -> FETCH_HEAD\n",
      "   7302638..545934a  main       -> origin/main\n"
=======
      " * branch            main       -> FETCH_HEAD\n"
>>>>>>> 5834ca6050cc17e8206cd38ddc14fb3ba1e8b622
     ]
    },
    {
     "name": "stdout",
     "output_type": "stream",
     "text": [
<<<<<<< HEAD
      "Merge made by the 'ort' strategy.\n",
      " 03-strings/03-strings-2.java.ipynb | 305 +++++++++++++++++++++++++++++++++++++\n",
      " 1 file changed, 305 insertions(+)\n",
      " create mode 100644 03-strings/03-strings-2.java.ipynb\n",
=======
      "Already up to date.\n",
>>>>>>> 5834ca6050cc17e8206cd38ddc14fb3ba1e8b622
      "\n"
     ]
    },
    {
     "name": "stderr",
     "output_type": "stream",
     "text": [
<<<<<<< HEAD
      "remote: Permission to eylon-holon/java-abc.git denied to noa-slavinsky-ey.\n",
      "fatal: unable to access 'https://github.com/eylon-holon/java-abc/': The requested URL returned error: 403\n"
=======
      "Everything up-to-date\n"
>>>>>>> 5834ca6050cc17e8206cd38ddc14fb3ba1e8b622
     ]
    }
   ],
   "source": [
    "from eylon.core import *\n",
    "store_all_changes_to_github()\n",
    "get_next_lesson()"
   ]
  }
 ],
 "metadata": {
  "kernelspec": {
   "display_name": "Python 3",
   "language": "python",
   "name": "python3"
  },
  "language_info": {
   "codemirror_mode": {
    "name": "ipython",
    "version": 3
   },
   "file_extension": ".py",
   "mimetype": "text/x-python",
   "name": "python",
   "nbconvert_exporter": "python",
   "pygments_lexer": "ipython3",
   "version": "3.12.1"
  }
 },
 "nbformat": 4,
 "nbformat_minor": 2
}
