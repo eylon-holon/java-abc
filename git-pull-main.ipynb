{
 "cells": [
  {
   "cell_type": "code",
   "execution_count": 1,
   "metadata": {},
   "outputs": [
    {
     "name": "stderr",
     "output_type": "stream",
     "text": [
      "From https://github.com/eylon-holon/java-abc\n",
      "   d909720e..327121e3  alma-kimhi      -> origin/alma-kimhi\n",
      "   f6c387d8..2351e9d8  carmel-dayan    -> origin/carmel-dayan\n",
      "   61b4169c..53bfb766  gosha-smeh      -> origin/gosha-smeh\n",
      "   95d108c9..ac399167  main            -> origin/main\n",
      "   9dbf7f3a..e12e5c41  orin-baot       -> origin/orin-baot\n",
      "   4335f4a7..b43bac32  shaked-bekerman -> origin/shaked-bekerman\n",
      "   dbc495fd..294fe330  tamar-tirosh    -> origin/tamar-tirosh\n"
     ]
    },
    {
     "name": "stdout",
     "output_type": "stream",
     "text": [
      "Already up to date.\n",
      "\n",
      "\n",
      "[hila-atzmon 6a16fc99] auto commit...\n",
      " 1 file changed, 9 insertions(+), 29 deletions(-)\n",
      "\n"
     ]
    },
    {
     "name": "stderr",
     "output_type": "stream",
     "text": [
      "To https://github.com/eylon-holon/java-abc\n",
      "   cd0f675f..6a16fc99  hila-atzmon -> hila-atzmon\n"
     ]
    },
    {
     "name": "stdout",
     "output_type": "stream",
     "text": [
      "\n",
      "Auto-merging 20-formulas-and-bagruts/42-prepare/set-01.ipynb\n",
      "Merge made by the 'ort' strategy.\n",
      " .../41-matkonet/41-matkonet.dib                    |  29 ++++-\n",
      " .../41-matkonet/41-matkonet.ipynb                  |  42 +++++-\n",
      " 20-formulas-and-bagruts/42-prepare/set-01.ipynb    |  34 ++++-\n",
      " 20-formulas-and-bagruts/42-prepare/set-02.ipynb    | 144 +++++++++++++++++++++\n",
      " 20-formulas-and-bagruts/img/img_00573.png          | Bin 14321 -> 0 bytes\n",
      " 20-formulas-and-bagruts/img/img_00598.png          | Bin 0 -> 215045 bytes\n",
      " 20-formulas-and-bagruts/img/img_00622.png          | Bin 0 -> 14313 bytes\n",
      " 20-formulas-and-bagruts/img/img_00623.png          | Bin 0 -> 24591 bytes\n",
      " 8 files changed, 240 insertions(+), 9 deletions(-)\n",
      " create mode 100644 20-formulas-and-bagruts/42-prepare/set-02.ipynb\n",
      " delete mode 100644 20-formulas-and-bagruts/img/img_00573.png\n",
      " create mode 100644 20-formulas-and-bagruts/img/img_00598.png\n",
      " create mode 100644 20-formulas-and-bagruts/img/img_00622.png\n",
      " create mode 100644 20-formulas-and-bagruts/img/img_00623.png\n",
      "\n",
      "\n"
     ]
    },
    {
     "name": "stderr",
     "output_type": "stream",
     "text": [
      "To https://github.com/eylon-holon/java-abc\n",
      "   6a16fc99..a51f9a59  hila-atzmon -> hila-atzmon\n"
     ]
    }
   ],
   "source": [
    "from eylon.core import *\n",
    "store_all_changes_to_github()\n",
    "get_next_lesson()"
   ]
  }
 ],
 "metadata": {
  "kernelspec": {
   "display_name": "Python 3",
   "language": "python",
   "name": "python3"
  },
  "language_info": {
   "codemirror_mode": {
    "name": "ipython",
    "version": 3
   },
   "file_extension": ".py",
   "mimetype": "text/x-python",
   "name": "python",
   "nbconvert_exporter": "python",
   "pygments_lexer": "ipython3",
   "version": "3.12.1"
  }
 },
 "nbformat": 4,
 "nbformat_minor": 2
}
