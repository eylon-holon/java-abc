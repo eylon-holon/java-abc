{
 "cells": [
  {
   "cell_type": "code",
   "execution_count": 1,
   "metadata": {},
   "outputs": [
    {
     "name": "stdout",
     "output_type": "stream",
     "text": [
      "\n",
<<<<<<< HEAD
      "[alma-kimhi 77a7a6d] auto commit...\n",
      " 2 files changed, 335 insertions(+), 56 deletions(-)\n",
=======
      "On branch gosha-smeh\n",
      "Your branch is up to date with 'origin/gosha-smeh'.\n",
      "\n",
      "nothing to commit, working tree clean\n",
>>>>>>> 5834ca6050cc17e8206cd38ddc14fb3ba1e8b622
      "\n"
     ]
    },
    {
     "name": "stderr",
     "output_type": "stream",
     "text": [
<<<<<<< HEAD
      "To https://github.com/eylon-holon/java-abc\n",
      "   5be85a8..77a7a6d  alma-kimhi -> alma-kimhi\n"
=======
      "Everything up-to-date\n"
>>>>>>> 5834ca6050cc17e8206cd38ddc14fb3ba1e8b622
     ]
    },
    {
     "name": "stdout",
     "output_type": "stream",
     "text": [
      "\n"
     ]
    },
    {
     "name": "stderr",
     "output_type": "stream",
     "text": [
      "From https://github.com/eylon-holon/java-abc\n",
<<<<<<< HEAD
      " * branch            main       -> FETCH_HEAD\n",
      "   545934a..45beb6b  main       -> origin/main\n"
=======
      " * branch            main       -> FETCH_HEAD\n"
>>>>>>> 5834ca6050cc17e8206cd38ddc14fb3ba1e8b622
     ]
    },
    {
     "name": "stdout",
     "output_type": "stream",
     "text": [
<<<<<<< HEAD
      "Merge made by the 'ort' strategy.\n",
      " 01-welcome/01-welcome.java.solution.ipynb      | 144 ++----\n",
      " 02-arrays-1d/02-arrays-1d.java.solutions.ipynb | 278 ++++++++++++\n",
      " 03-strings/03-strings-2.java.solutions.ipynb   | 581 +++++++++++++++++++++++++\n",
      " common-run-time-errors.ipynb                   | 231 ++++++++++\n",
      " 4 files changed, 1116 insertions(+), 118 deletions(-)\n",
      " create mode 100644 02-arrays-1d/02-arrays-1d.java.solutions.ipynb\n",
      " create mode 100644 03-strings/03-strings-2.java.solutions.ipynb\n",
      " create mode 100644 common-run-time-errors.ipynb\n",
=======
      "Already up to date.\n",
>>>>>>> 5834ca6050cc17e8206cd38ddc14fb3ba1e8b622
      "\n"
     ]
    },
    {
     "name": "stderr",
     "output_type": "stream",
     "text": [
<<<<<<< HEAD
      "To https://github.com/eylon-holon/java-abc\n",
      "   77a7a6d..2f500d8  alma-kimhi -> alma-kimhi\n"
=======
      "Everything up-to-date\n"
>>>>>>> 5834ca6050cc17e8206cd38ddc14fb3ba1e8b622
     ]
    }
   ],
   "source": [
    "from eylon.core import *\n",
    "store_all_changes_to_github()\n",
    "get_next_lesson()"
   ]
  }
 ],
 "metadata": {
  "kernelspec": {
   "display_name": "Python 3",
   "language": "python",
   "name": "python3"
  },
  "language_info": {
   "codemirror_mode": {
    "name": "ipython",
    "version": 3
   },
   "file_extension": ".py",
   "mimetype": "text/x-python",
   "name": "python",
   "nbconvert_exporter": "python",
   "pygments_lexer": "ipython3",
   "version": "3.12.1"
  }
 },
 "nbformat": 4,
 "nbformat_minor": 2
}
