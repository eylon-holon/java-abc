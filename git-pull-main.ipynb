{
 "cells": [
  {
   "cell_type": "code",
   "execution_count": 1,
   "metadata": {},
   "outputs": [
    {
     "name": "stdout",
     "output_type": "stream",
     "text": [
      "\n",
      "[tamar-tirosh f1dea21] auto commit...\n",
      " 2 files changed, 210 insertions(+), 31 deletions(-)\n",
      "\n"
     ]
    },
    {
     "name": "stderr",
     "output_type": "stream",
     "text": [
      "To https://github.com/eylon-holon/java-abc\n",
      "   77ce78f..f1dea21  tamar-tirosh -> tamar-tirosh\n"
     ]
    },
    {
     "name": "stdout",
     "output_type": "stream",
     "text": [
      "\n"
     ]
    },
    {
     "name": "stderr",
     "output_type": "stream",
     "text": [
      "From https://github.com/eylon-holon/java-abc\n",
      " * branch            main       -> FETCH_HEAD\n",
      "   545934a..45beb6b  main       -> origin/main\n"
     ]
    },
    {
     "name": "stdout",
     "output_type": "stream",
     "text": [
      "Merge made by the 'ort' strategy.\n",
      " 01-welcome/01-welcome.java.solution.ipynb      | 144 ++----\n",
      " 02-arrays-1d/02-arrays-1d.java.solutions.ipynb | 278 ++++++++++++\n",
      " 03-strings/03-strings-2.java.solutions.ipynb   | 581 +++++++++++++++++++++++++\n",
      " common-run-time-errors.ipynb                   | 231 ++++++++++\n",
      " 4 files changed, 1116 insertions(+), 118 deletions(-)\n",
      " create mode 100644 02-arrays-1d/02-arrays-1d.java.solutions.ipynb\n",
      " create mode 100644 03-strings/03-strings-2.java.solutions.ipynb\n",
      " create mode 100644 common-run-time-errors.ipynb\n",
      "\n"
     ]
    },
    {
     "name": "stderr",
     "output_type": "stream",
     "text": [
      "To https://github.com/eylon-holon/java-abc\n",
      "   f1dea21..8be4b1a  tamar-tirosh -> tamar-tirosh\n"
     ]
    }
   ],
   "source": [
    "from eylon.core import *\n",
    "store_all_changes_to_github()\n",
    "get_next_lesson()"
   ]
  }
 ],
 "metadata": {
  "kernelspec": {
   "display_name": "Python 3",
   "language": "python",
   "name": "python3"
  },
  "language_info": {
   "codemirror_mode": {
    "name": "ipython",
    "version": 3
   },
   "file_extension": ".py",
   "mimetype": "text/x-python",
   "name": "python",
   "nbconvert_exporter": "python",
   "pygments_lexer": "ipython3",
   "version": "3.12.1"
  }
 },
 "nbformat": 4,
 "nbformat_minor": 2
}
