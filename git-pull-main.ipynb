{
 "cells": [
  {
   "cell_type": "code",
   "execution_count": 1,
   "metadata": {},
   "outputs": [
    {
     "name": "stdout",
     "output_type": "stream",
     "text": [
      "\n",
      "[yari-moshe a7c3b1e] auto commit...\n",
      " 2 files changed, 16 insertions(+), 12 deletions(-)\n",
      "\n"
     ]
    },
    {
     "name": "stderr",
     "output_type": "stream",
     "text": [
      "To https://github.com/eylon-holon/java-abc\n",
      "   194eb59..a7c3b1e  yari-moshe -> yari-moshe\n"
     ]
    },
    {
     "name": "stdout",
     "output_type": "stream",
     "text": [
      "\n"
     ]
    },
    {
     "name": "stderr",
     "output_type": "stream",
     "text": [
      "From https://github.com/eylon-holon/java-abc\n",
      " * branch            main       -> FETCH_HEAD\n",
      "   0c0b877..4984a02  main       -> origin/main\n"
     ]
    },
    {
     "name": "stdout",
     "output_type": "stream",
     "text": [
      "Merge made by the 'ort' strategy.\n",
      " 05-queues/Queue.java                               |  15 +-\n",
      " 05-queues/Stack.java                               |   6 +\n",
      " 07-queue-and-stack-2/01-queue-tests.ipynb          |  96 ++++++\n",
      " 07-queue-and-stack-2/02-queue-memory-layout.dib    | 118 +++++++\n",
      " 07-queue-and-stack-2/02-queue-memory-layout.ipynb  | 168 ++++++++++\n",
      " 07-queue-and-stack-2/03-basic-memory-layout.dib    | 103 ++++++\n",
      " 07-queue-and-stack-2/03-basic-memory-layout.ipynb  | 129 ++++++++\n",
      " .../03-basic-memory-layout.solution.dib            | 132 ++++++++\n",
      " 07-queue-and-stack-2/04-layout-to-code.dib         | 357 +++++++++++++++++++++\n",
      " 07-queue-and-stack-2/04-layout-to-code.ipynb       | 196 +++++++++++\n",
      " .../04-layout-to-code.solution.ipynb               | 302 +++++++++++++++++\n",
      " 07-queue-and-stack-2/10-find-element.ipynb         |  99 ++++++\n",
      " 07-queue-and-stack-2/10-iterate-them.ipynb         | 127 ++++++++\n",
      " 07-queue-and-stack-2/Node.ipynb                    |  68 ++++\n",
      " 07-queue-and-stack-2/Queue.ipynb                   |  69 ++++\n",
      " 07-queue-and-stack-2/Stack.ipynb                   |  56 ++++\n",
      " 07-queue-and-stack-2/iterate.ipynb                 |  73 +++++\n",
      " 07-queue-and-stack-2/queues.ipynb                  |  64 ++++\n",
      " 07-queue-and-stack/01-queue-tests.ipynb            |  94 ++++++\n",
      " 07-queue-and-stack/02-stack-tests.ipynb            |  67 ++++\n",
      " 07-queue-and-stack/Node.java                       |  33 ++\n",
      " 07-queue-and-stack/Queue.java                      |  21 ++\n",
      " 07-queue-and-stack/Stack.java                      |  21 ++\n",
      " 07-queue-and-stack/queues.ipynb                    |  42 +++\n",
      " 08-generics/10-find-element.ipynb                  | 216 +++++++++++++\n",
      " 08-generics/10-find-element.solution.ipynb         | 264 +++++++++++++++\n",
      " 08-generics/Node.ipynb                             |  72 +++++\n",
      " 08-generics/Queue.ipynb                            |  69 ++++\n",
      " 08-generics/Stack.ipynb                            |  56 ++++\n",
      " 08-generics/iterate.ipynb                          |  73 +++++\n",
      " 08-generics/queues.ipynb                           |  54 ++++\n",
      " eylon/JavaUtils.java                               |   3 +-\n",
      " j-core/fsm/FSM.java                                |  13 +-\n",
      " 33 files changed, 3268 insertions(+), 8 deletions(-)\n",
      " create mode 100644 07-queue-and-stack-2/01-queue-tests.ipynb\n",
      " create mode 100644 07-queue-and-stack-2/02-queue-memory-layout.dib\n",
      " create mode 100644 07-queue-and-stack-2/02-queue-memory-layout.ipynb\n",
      " create mode 100644 07-queue-and-stack-2/03-basic-memory-layout.dib\n",
      " create mode 100644 07-queue-and-stack-2/03-basic-memory-layout.ipynb\n",
      " create mode 100644 07-queue-and-stack-2/03-basic-memory-layout.solution.dib\n",
      " create mode 100644 07-queue-and-stack-2/04-layout-to-code.dib\n",
      " create mode 100644 07-queue-and-stack-2/04-layout-to-code.ipynb\n",
      " create mode 100644 07-queue-and-stack-2/04-layout-to-code.solution.ipynb\n",
      " create mode 100644 07-queue-and-stack-2/10-find-element.ipynb\n",
      " create mode 100644 07-queue-and-stack-2/10-iterate-them.ipynb\n",
      " create mode 100644 07-queue-and-stack-2/Node.ipynb\n",
      " create mode 100644 07-queue-and-stack-2/Queue.ipynb\n",
      " create mode 100644 07-queue-and-stack-2/Stack.ipynb\n",
      " create mode 100644 07-queue-and-stack-2/iterate.ipynb\n",
      " create mode 100644 07-queue-and-stack-2/queues.ipynb\n",
      " create mode 100644 07-queue-and-stack/01-queue-tests.ipynb\n",
      " create mode 100644 07-queue-and-stack/02-stack-tests.ipynb\n",
      " create mode 100644 07-queue-and-stack/Node.java\n",
      " create mode 100644 07-queue-and-stack/Queue.java\n",
      " create mode 100644 07-queue-and-stack/Stack.java\n",
      " create mode 100644 07-queue-and-stack/queues.ipynb\n",
      " create mode 100644 08-generics/10-find-element.ipynb\n",
      " create mode 100644 08-generics/10-find-element.solution.ipynb\n",
      " create mode 100644 08-generics/Node.ipynb\n",
      " create mode 100644 08-generics/Queue.ipynb\n",
      " create mode 100644 08-generics/Stack.ipynb\n",
      " create mode 100644 08-generics/iterate.ipynb\n",
      " create mode 100644 08-generics/queues.ipynb\n",
      "\n"
     ]
    },
    {
     "name": "stderr",
     "output_type": "stream",
     "text": [
      "To https://github.com/eylon-holon/java-abc\n",
      "   a7c3b1e..a6d1f61  yari-moshe -> yari-moshe\n"
     ]
    }
   ],
   "source": [
    "from eylon.core import *\n",
    "store_all_changes_to_github()\n",
    "get_next_lesson()"
   ]
  }
 ],
 "metadata": {
  "kernelspec": {
   "display_name": "Python 3",
   "language": "python",
   "name": "python3"
  },
  "language_info": {
   "codemirror_mode": {
    "name": "ipython",
    "version": 3
   },
   "file_extension": ".py",
   "mimetype": "text/x-python",
   "name": "python",
   "nbconvert_exporter": "python",
   "pygments_lexer": "ipython3",
   "version": "3.12.1"
  }
 },
 "nbformat": 4,
 "nbformat_minor": 2
}
