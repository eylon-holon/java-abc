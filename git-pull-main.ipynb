{
 "cells": [
  {
   "cell_type": "code",
   "execution_count": 1,
   "metadata": {},
   "outputs": [
    {
     "name": "stdout",
     "output_type": "stream",
     "text": [
      "Already up to date.\n",
      "\n",
      "\n",
      "[gosha-smeh b59ef5c] auto commit...\n",
      " 1 file changed, 2 insertions(+), 2 deletions(-)\n",
      "\n"
     ]
    },
    {
     "name": "stderr",
     "output_type": "stream",
     "text": [
      "To https://github.com/eylon-holon/java-abc\n",
      "   af86470..b59ef5c  gosha-smeh -> gosha-smeh\n"
     ]
    },
    {
     "name": "stdout",
     "output_type": "stream",
     "text": [
      "\n",
      "Merge made by the 'ort' strategy.\n",
      " .../20-formula-pages/20---index.dib                |  29 +++-\n",
      " .../20-formula-pages/20-linked-list.ipynb          |  27 +++\n",
      " .../20-formula-pages/20-queue.ipynb                |  72 ++++++--\n",
      " .../20-formula-pages/_to-add.dib                   |  15 ++\n",
      " .../30-modelim-pages/30-modelim-defs.dib           |  14 +-\n",
      " .../40-mikud/40-mikud-matkonet.dib                 | 105 ++++++++++++\n",
      " .../40-mikud/40-mikud-matkonet.ipynb               | 183 ++++++++++++++++++++-\n",
      " 20-formulas-and-bagruts/fsm.ipynb                  |  58 +++++++\n",
      " 20-formulas-and-bagruts/img/img_00363.png          | Bin 87112 -> 0 bytes\n",
      " 20-formulas-and-bagruts/img/img_00389.png          | Bin 0 -> 48852 bytes\n",
      " 20-formulas-and-bagruts/img/img_00406.png          | Bin 0 -> 19530 bytes\n",
      " 20-formulas-and-bagruts/img/img_00407.png          | Bin 0 -> 5388 bytes\n",
      " 20-formulas-and-bagruts/img/img_00413.png          | Bin 0 -> 33310 bytes\n",
      " 20-formulas-and-bagruts/img/img_00423.png          | Bin 0 -> 13120 bytes\n",
      " 20-formulas-and-bagruts/img/img_00425.png          | Bin 0 -> 16297 bytes\n",
      " 20-formulas-and-bagruts/img/img_00426.png          | Bin 0 -> 32035 bytes\n",
      " 20-formulas-and-bagruts/img/img_00427.png          | Bin 0 -> 60208 bytes\n",
      " 17 files changed, 482 insertions(+), 21 deletions(-)\n",
      " create mode 100644 20-formulas-and-bagruts/20-formula-pages/_to-add.dib\n",
      " create mode 100644 20-formulas-and-bagruts/40-mikud/40-mikud-matkonet.dib\n",
      " create mode 100644 20-formulas-and-bagruts/fsm.ipynb\n",
      " delete mode 100644 20-formulas-and-bagruts/img/img_00363.png\n",
      " create mode 100644 20-formulas-and-bagruts/img/img_00389.png\n",
      " create mode 100644 20-formulas-and-bagruts/img/img_00406.png\n",
      " create mode 100644 20-formulas-and-bagruts/img/img_00407.png\n",
      " create mode 100644 20-formulas-and-bagruts/img/img_00413.png\n",
      " create mode 100644 20-formulas-and-bagruts/img/img_00423.png\n",
      " create mode 100644 20-formulas-and-bagruts/img/img_00425.png\n",
      " create mode 100644 20-formulas-and-bagruts/img/img_00426.png\n",
      " create mode 100644 20-formulas-and-bagruts/img/img_00427.png\n",
      "\n",
      "\n"
     ]
    },
    {
     "name": "stderr",
     "output_type": "stream",
     "text": [
      "To https://github.com/eylon-holon/java-abc\n",
      "   b59ef5c..e47c9fd  gosha-smeh -> gosha-smeh\n"
     ]
    }
   ],
   "source": [
    "from eylon.core import *\n",
    "store_all_changes_to_github()\n",
    "get_next_lesson()"
   ]
  }
 ],
 "metadata": {
  "kernelspec": {
   "display_name": "Python 3",
   "language": "python",
   "name": "python3"
  },
  "language_info": {
   "codemirror_mode": {
    "name": "ipython",
    "version": 3
   },
   "file_extension": ".py",
   "mimetype": "text/x-python",
   "name": "python",
   "nbconvert_exporter": "python",
   "pygments_lexer": "ipython3",
   "version": "3.12.1"
  }
 },
 "nbformat": 4,
 "nbformat_minor": 2
}
