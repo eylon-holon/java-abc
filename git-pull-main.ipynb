{
 "cells": [
  {
   "cell_type": "code",
   "execution_count": null,
   "metadata": {
    "dotnet_interactive": {
     "language": "csharp"
    },
    "polyglot_notebook": {
     "kernelName": "csharp"
    }
   },
   "outputs": [
    {
     "name": "stderr",
     "output_type": "stream",
     "text": [
      "From https://github.com/eylon-holon/java-abc\n",
      "   46811bbb..d7a2a1ce  alma-kimhi      -> origin/alma-kimhi\n",
      "   d0504453..8eb169f2  eyal-belinsky   -> origin/eyal-belinsky\n",
      "   9f624b2b..842ecd1a  gal-osovsky     -> origin/gal-osovsky\n",
      "   d51ac5e1..13b2d417  hila-atzmon     -> origin/hila-atzmon\n",
      "   0830d175..04815882  main            -> origin/main\n",
      "   07641466..cf0a4c38  noa-slavinsky   -> origin/noa-slavinsky\n",
      "   e12e5c41..4e789dc5  orin-baot       -> origin/orin-baot\n",
      "   b2e4a992..790fdfc2  shaked-bekerman -> origin/shaked-bekerman\n",
      "   65cbad0e..eb1ccd7a  tamar-tirosh    -> origin/tamar-tirosh\n"
     ]
    },
    {
     "name": "stdout",
     "output_type": "stream",
     "text": [
      "Already up to date.\n",
      "\n",
      "\n",
      "[david-madany bbfd99e3] auto commit...\n",
      " 1 file changed, 2 insertions(+), 40 deletions(-)\n",
      "\n"
     ]
    }
   ],
   "source": [
    "from eylon.core import *\n",
    "store_all_changes_to_github()\n",
    "get_next_lesson()"
   ]
  }
 ],
 "metadata": {
  "kernelspec": {
   "display_name": "Python 3",
   "language": "python",
   "name": "python3"
  },
  "language_info": {
   "codemirror_mode": {
    "name": "ipython",
    "version": 3
   },
   "file_extension": ".py",
   "mimetype": "text/x-python",
   "name": "python",
   "nbconvert_exporter": "python",
   "pygments_lexer": "ipython3",
   "version": "3.12.1"
  },
  "polyglot_notebook": {
   "kernelInfo": {
    "defaultKernelName": "csharp",
    "items": [
     {
      "aliases": [],
      "name": "csharp"
     }
    ]
   }
  }
 },
 "nbformat": 4,
 "nbformat_minor": 2
}
