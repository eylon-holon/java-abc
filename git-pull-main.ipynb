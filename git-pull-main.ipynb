{
 "cells": [
  {
   "cell_type": "code",
   "execution_count": 1,
   "metadata": {
    "dotnet_interactive": {
     "language": "csharp"
    },
    "polyglot_notebook": {
     "kernelName": "csharp"
    }
   },
   "outputs": [
    {
     "name": "stdout",
     "output_type": "stream",
     "text": [
      "\n",
      "[noa-slavinsky 78cc989] auto commit...\n",
      " 4 files changed, 91 insertions(+), 62 deletions(-)\n",
      "\n"
     ]
    },
    {
     "name": "stderr",
     "output_type": "stream",
     "text": [
      "remote: Permission to eylon-holon/java-abc.git denied to noa-slavinsky-ey.\n",
      "fatal: unable to access 'https://github.com/eylon-holon/java-abc/': The requested URL returned error: 403\n"
     ]
    },
    {
     "name": "stdout",
     "output_type": "stream",
     "text": [
      "\n"
     ]
    },
    {
     "name": "stderr",
     "output_type": "stream",
     "text": [
      "From https://github.com/eylon-holon/java-abc\n",
      " * branch            main       -> FETCH_HEAD\n",
      "   6ca4dbd..c08e551  main       -> origin/main\n"
     ]
    },
    {
     "name": "stdout",
     "output_type": "stream",
     "text": [
      "Merge made by the 'ort' strategy.\n",
      " 05-queues/Queue.java                              |  15 +-\n",
      " 05-queues/Stack.java                              |   6 +\n",
      " 07-queue-and-stack-2/01-queue-tests.ipynb         |  96 ++++++\n",
      " 07-queue-and-stack-2/02-queue-memory-layout.dib   | 118 +++++++\n",
      " 07-queue-and-stack-2/02-queue-memory-layout.ipynb | 168 ++++++++++\n",
      " 07-queue-and-stack-2/03-basic-memory-layout.dib   | 103 +++++++\n",
      " 07-queue-and-stack-2/03-basic-memory-layout.ipynb | 129 ++++++++\n",
      " 07-queue-and-stack-2/04-layout-to-code.dib        | 357 ++++++++++++++++++++++\n",
      " 07-queue-and-stack-2/04-layout-to-code.ipynb      | 196 ++++++++++++\n",
      " 07-queue-and-stack-2/10-iterate-them.ipynb        | 127 ++++++++\n",
      " 07-queue-and-stack-2/Node.ipynb                   |  68 +++++\n",
      " 07-queue-and-stack-2/Queue.ipynb                  |  69 +++++\n",
      " 07-queue-and-stack-2/Stack.ipynb                  |  52 ++++\n",
      " 07-queue-and-stack-2/queues.ipynb                 |  63 ++++\n",
      " eylon/JavaUtils.java                              |   3 +-\n",
      " j-core/fsm/FSM.java                               |  13 +-\n",
      " 16 files changed, 1575 insertions(+), 8 deletions(-)\n",
      " create mode 100644 07-queue-and-stack-2/01-queue-tests.ipynb\n",
      " create mode 100644 07-queue-and-stack-2/02-queue-memory-layout.dib\n",
      " create mode 100644 07-queue-and-stack-2/02-queue-memory-layout.ipynb\n",
      " create mode 100644 07-queue-and-stack-2/03-basic-memory-layout.dib\n",
      " create mode 100644 07-queue-and-stack-2/03-basic-memory-layout.ipynb\n",
      " create mode 100644 07-queue-and-stack-2/04-layout-to-code.dib\n",
      " create mode 100644 07-queue-and-stack-2/04-layout-to-code.ipynb\n",
      " create mode 100644 07-queue-and-stack-2/10-iterate-them.ipynb\n",
      " create mode 100644 07-queue-and-stack-2/Node.ipynb\n",
      " create mode 100644 07-queue-and-stack-2/Queue.ipynb\n",
      " create mode 100644 07-queue-and-stack-2/Stack.ipynb\n",
      " create mode 100644 07-queue-and-stack-2/queues.ipynb\n",
      "\n"
     ]
    },
    {
     "name": "stderr",
     "output_type": "stream",
     "text": [
      "remote: Permission to eylon-holon/java-abc.git denied to noa-slavinsky-ey.\n",
      "fatal: unable to access 'https://github.com/eylon-holon/java-abc/': The requested URL returned error: 403\n"
     ]
    }
   ],
   "source": [
    "from eylon.core import *\n",
    "store_all_changes_to_github()\n",
    "get_next_lesson()"
   ]
  }
 ],
 "metadata": {
  "kernelspec": {
   "display_name": "Python 3",
   "language": "python",
   "name": "python3"
  },
  "language_info": {
   "codemirror_mode": {
    "name": "ipython",
    "version": 3
   },
   "file_extension": ".py",
   "mimetype": "text/x-python",
   "name": "python",
   "nbconvert_exporter": "python",
   "pygments_lexer": "ipython3",
   "version": "3.12.1"
  },
  "polyglot_notebook": {
   "kernelInfo": {
    "defaultKernelName": "csharp",
    "items": [
     {
      "aliases": [],
      "name": "csharp"
     }
    ]
   }
  }
 },
 "nbformat": 4,
 "nbformat_minor": 2
}
