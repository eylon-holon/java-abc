{
 "cells": [
  {
   "cell_type": "code",
   "execution_count": 1,
   "metadata": {},
   "outputs": [
    {
     "name": "stdout",
     "output_type": "stream",
     "text": [
      "\n",
      "[hila-atzmon 46828ad] auto commit...\n",
      " 3 files changed, 55 insertions(+), 10 deletions(-)\n",
      "\n"
     ]
    },
    {
     "name": "stderr",
     "output_type": "stream",
     "text": [
      "To https://github.com/eylon-holon/java-abc\n",
      "   a2d55fc..46828ad  hila-atzmon -> hila-atzmon\n"
     ]
    },
    {
     "name": "stdout",
     "output_type": "stream",
     "text": [
      "\n",
      "Auto-merging 02-arrays-1d/02-arrays-1d.java.ipynb\n",
      "CONFLICT (content): Merge conflict in 02-arrays-1d/02-arrays-1d.java.ipynb\n",
      "Auto-merging 04-data-structures/04-binary-tree-count-nodes.ipynb\n",
      "Auto-merging 04-data-structures/binary-tree-tests.ipynb\n",
      "CONFLICT (content): Merge conflict in 04-data-structures/binary-tree-tests.ipynb\n",
      "Auto-merging git-pull-main.ipynb\n",
      "Automatic merge failed; fix conflicts and then commit the result.\n",
      "\n"
     ]
    },
    {
     "name": "stderr",
     "output_type": "stream",
     "text": [
      "From https://github.com/eylon-holon/java-abc\n",
      " * branch            main       -> FETCH_HEAD\n",
      "   5834ca6..fbc194f  main       -> origin/main\n"
     ]
    }
   ],
   "source": [
    "from eylon.core import *\n",
    "store_all_changes_to_github()\n",
    "get_next_lesson()"
   ]
  }
 ],
 "metadata": {
  "kernelspec": {
   "display_name": "Python 3",
   "language": "python",
   "name": "python3"
  },
  "language_info": {
   "codemirror_mode": {
    "name": "ipython",
    "version": 3
   },
   "file_extension": ".py",
   "mimetype": "text/x-python",
   "name": "python",
   "nbconvert_exporter": "python",
   "pygments_lexer": "ipython3",
   "version": "3.12.1"
  }
 },
 "nbformat": 4,
 "nbformat_minor": 2
}
