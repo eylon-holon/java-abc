{
 "cells": [
  {
   "cell_type": "code",
   "execution_count": 1,
   "metadata": {
    "dotnet_interactive": {
     "language": "csharp"
    },
    "polyglot_notebook": {
     "kernelName": "csharp"
    }
   },
   "outputs": [
    {
     "name": "stderr",
     "output_type": "stream",
     "text": [
      "From https://github.com/eylon-holon/java-abc\n",
      "   b1b277f..c6302db  bat-hen-zaltsman  -> origin/bat-hen-zaltsman\n",
      "   ff9a436..a4178eb  carmel-dayan      -> origin/carmel-dayan\n",
      "   3dd546c..77a4371  daniel-yakobovitz -> origin/daniel-yakobovitz\n",
      "   6d3620d..73804b5  david-madany      -> origin/david-madany\n",
      "   23811d6..3104293  eyal-belinsky     -> origin/eyal-belinsky\n",
      "   b7fa191..9cb5a2b  gal-alon          -> origin/gal-alon\n",
      "   82130d5..a466ee5  gal-osovsky       -> origin/gal-osovsky\n",
      "   d304c7a..4322c61  hila-atzmon       -> origin/hila-atzmon\n",
      "   0719b4d..948eb8a  lior-frumkin      -> origin/lior-frumkin\n",
      "   cff6fad..20b36f3  orin-baot         -> origin/orin-baot\n",
      "   885e1fc..7c0f43c  yari-moshe        -> origin/yari-moshe\n",
      "   349154f..34f420c  yehonatan-shafir  -> origin/yehonatan-shafir\n",
      "   14f85ff..c9fa7a6  ziv-jungmann      -> origin/ziv-jungmann\n"
     ]
    },
    {
     "name": "stdout",
     "output_type": "stream",
     "text": [
      "Already up to date.\n",
      "\n",
      "\n",
      "[linoy-netach 13b3b96] auto commit...\n",
      " 1 file changed, 2 insertions(+), 40 deletions(-)\n",
      "\n"
     ]
    },
    {
     "name": "stderr",
     "output_type": "stream",
     "text": [
      "To https://github.com/eylon-holon/java-abc\n",
      "   d77d2b2..13b3b96  linoy-netach -> linoy-netach\n"
     ]
    },
    {
     "name": "stdout",
     "output_type": "stream",
     "text": [
      "\n",
      "Already up to date.\n",
      "\n",
      "\n"
     ]
    },
    {
     "name": "stderr",
     "output_type": "stream",
     "text": [
      "Everything up-to-date\n"
     ]
    }
   ],
   "source": [
    "from eylon.core import *\n",
    "store_all_changes_to_github()\n",
    "get_next_lesson()"
   ]
  }
 ],
 "metadata": {
  "kernelspec": {
   "display_name": "Python 3",
   "language": "python",
   "name": "python3"
  },
  "language_info": {
   "codemirror_mode": {
    "name": "ipython",
    "version": 3
   },
   "file_extension": ".py",
   "mimetype": "text/x-python",
   "name": "python",
   "nbconvert_exporter": "python",
   "pygments_lexer": "ipython3",
   "version": "3.12.1"
  },
  "polyglot_notebook": {
   "kernelInfo": {
    "defaultKernelName": "csharp",
    "items": [
     {
      "aliases": [],
      "name": "csharp"
     }
    ]
   }
  }
 },
 "nbformat": 4,
 "nbformat_minor": 2
}
