{
 "cells": [
  {
   "cell_type": "code",
   "execution_count": 1,
   "metadata": {},
   "outputs": [
    {
     "name": "stdout",
     "output_type": "stream",
     "text": [
      "\n",
      "[shaked-bekerman dec8050] auto commit...\n",
      " 2 files changed, 88 insertions(+), 11 deletions(-)\n",
      "\n"
     ]
    },
    {
     "name": "stderr",
     "output_type": "stream",
     "text": [
      "To https://github.com/eylon-holon/java-abc\n",
      "   4059e7d..dec8050  shaked-bekerman -> shaked-bekerman\n"
     ]
    },
    {
     "name": "stdout",
     "output_type": "stream",
     "text": [
      "\n"
     ]
    },
    {
     "name": "stderr",
     "output_type": "stream",
     "text": [
      "From https://github.com/eylon-holon/java-abc\n",
      " * branch            main       -> FETCH_HEAD\n",
      "   781a3f1..0c0b877  main       -> origin/main\n"
     ]
    },
    {
     "name": "stdout",
     "output_type": "stream",
     "text": [
      "Merge made by the 'ort' strategy.\n",
      " 05-queues/05-values-and-references.ipynb           | 515 ++++++++++++++++\n",
      " .../06-values-and-references.ipynb                 | 659 +++++++++++++++++++++\n",
      " 06-value-vs-reference/Node.java                    |  62 ++\n",
      " 06-value-vs-reference/linked-list.ipynb            |  37 ++\n",
      " eylon/JavaUtils.java                               |  35 ++\n",
      " eylon/java-utils.ipynb                             |  37 +-\n",
      " 6 files changed, 1323 insertions(+), 22 deletions(-)\n",
      " create mode 100644 05-queues/05-values-and-references.ipynb\n",
      " create mode 100644 06-value-vs-reference/06-values-and-references.ipynb\n",
      " create mode 100644 06-value-vs-reference/Node.java\n",
      " create mode 100644 06-value-vs-reference/linked-list.ipynb\n",
      " create mode 100644 eylon/JavaUtils.java\n",
      "\n"
     ]
    },
    {
     "name": "stderr",
     "output_type": "stream",
     "text": [
      "To https://github.com/eylon-holon/java-abc\n",
      "   dec8050..63f7df5  shaked-bekerman -> shaked-bekerman\n"
     ]
    }
   ],
   "source": [
    "from eylon.core import *\n",
    "store_all_changes_to_github()\n",
    "get_next_lesson()"
   ]
  }
 ],
 "metadata": {
  "kernelspec": {
   "display_name": "Python 3",
   "language": "python",
   "name": "python3"
  },
  "language_info": {
   "codemirror_mode": {
    "name": "ipython",
    "version": 3
   },
   "file_extension": ".py",
   "mimetype": "text/x-python",
   "name": "python",
   "nbconvert_exporter": "python",
   "pygments_lexer": "ipython3",
   "version": "3.12.1"
  }
 },
 "nbformat": 4,
 "nbformat_minor": 2
}
