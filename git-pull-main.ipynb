{
 "cells": [
  {
   "cell_type": "code",
   "execution_count": 1,
   "metadata": {},
   "outputs": [
    {
     "name": "stdout",
     "output_type": "stream",
     "text": [
      "\n",
      "[linoy-netach 5973d99] auto commit...\n",
      " 5 files changed, 419 insertions(+), 91 deletions(-)\n",
      "\n"
     ]
    },
    {
     "name": "stderr",
     "output_type": "stream",
     "text": [
      "To https://github.com/eylon-holon/java-abc\n",
      "   d4d78c6..5973d99  linoy-netach -> linoy-netach\n"
     ]
    },
    {
     "name": "stdout",
     "output_type": "stream",
     "text": [
      "\n"
     ]
    },
    {
     "name": "stderr",
     "output_type": "stream",
     "text": [
      "From https://github.com/eylon-holon/java-abc\n",
      " * branch            main       -> FETCH_HEAD\n",
      "   e436758..0c0b877  main       -> origin/main\n"
     ]
    },
    {
     "name": "stdout",
     "output_type": "stream",
     "text": [
      "Merge made by the 'ort' strategy.\n",
      " 05-queues/05-values-and-references.ipynb           | 515 ++++++++++++++++\n",
      " .../06-values-and-references.ipynb                 | 659 +++++++++++++++++++++\n",
      " 06-value-vs-reference/Node.java                    |  62 ++\n",
      " 06-value-vs-reference/linked-list.ipynb            |  37 ++\n",
      " eylon/JavaUtils.java                               |  35 ++\n",
      " eylon/core.py                                      |  18 +-\n",
      " eylon/java-utils.ipynb                             |  37 +-\n",
      " self-grade.ipynb                                   |  36 ++\n",
      " 8 files changed, 1376 insertions(+), 23 deletions(-)\n",
      " create mode 100644 05-queues/05-values-and-references.ipynb\n",
      " create mode 100644 06-value-vs-reference/06-values-and-references.ipynb\n",
      " create mode 100644 06-value-vs-reference/Node.java\n",
      " create mode 100644 06-value-vs-reference/linked-list.ipynb\n",
      " create mode 100644 eylon/JavaUtils.java\n",
      " create mode 100644 self-grade.ipynb\n",
      "\n"
     ]
    },
    {
     "name": "stderr",
     "output_type": "stream",
     "text": [
      "To https://github.com/eylon-holon/java-abc\n",
      "   5973d99..b09a5e7  linoy-netach -> linoy-netach\n"
     ]
    }
   ],
   "source": [
    "from eylon.core import *\n",
    "store_all_changes_to_github()\n",
    "get_next_lesson()"
   ]
  }
 ],
 "metadata": {
  "kernelspec": {
   "display_name": "Python 3",
   "language": "python",
   "name": "python3"
  },
  "language_info": {
   "codemirror_mode": {
    "name": "ipython",
    "version": 3
   },
   "file_extension": ".py",
   "mimetype": "text/x-python",
   "name": "python",
   "nbconvert_exporter": "python",
   "pygments_lexer": "ipython3",
   "version": "3.12.1"
  }
 },
 "nbformat": 4,
 "nbformat_minor": 2
}
