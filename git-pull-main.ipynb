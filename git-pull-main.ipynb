{
 "cells": [
  {
   "cell_type": "code",
   "execution_count": 1,
   "metadata": {},
   "outputs": [
    {
     "name": "stderr",
     "output_type": "stream",
     "text": [
      "From https://github.com/eylon-holon/java-abc\n",
      "   b2b90b2..a5d9d51  shaked-bekerman   -> origin/shaked-bekerman\n",
      "   00522b7..81101b8  alma-kimhi        -> origin/alma-kimhi\n",
      "   baeea76..270b8af  carmel-dayan      -> origin/carmel-dayan\n",
      "   a61f771..3dd546c  daniel-yakobovitz -> origin/daniel-yakobovitz\n",
      "   cda38ac..27968f4  david-madany      -> origin/david-madany\n",
      "   4667ab5..62719ec  eyal-belinsky     -> origin/eyal-belinsky\n",
      "   79fb6c7..020f236  hila-atzmon       -> origin/hila-atzmon\n",
      "   48d9eef..0323a7e  linoy-netach      -> origin/linoy-netach\n",
      "   f33a86f..549ecf5  lior-frumkin      -> origin/lior-frumkin\n",
      "   cbc8439..9c44abf  main              -> origin/main\n",
      "   d5e7491..a87c2e2  noa-slavinsky     -> origin/noa-slavinsky\n",
      "   72225b5..cff6fad  orin-baot         -> origin/orin-baot\n",
      "   52a06e1..2c8199f  tamar-tirosh      -> origin/tamar-tirosh\n",
      "   afd4196..885e1fc  yari-moshe        -> origin/yari-moshe\n",
      "   4d23bdf..349154f  yehonatan-shafir  -> origin/yehonatan-shafir\n",
      "   506761f..14f85ff  ziv-jungmann      -> origin/ziv-jungmann\n"
     ]
    },
    {
     "name": "stdout",
     "output_type": "stream",
     "text": [
      "Updating b2b90b2..a5d9d51\n",
      "Fast-forward\n",
      " 07-queue-and-stack-2/03-basic-memory-layout.dib |  3 +\n",
      " 07-queue-and-stack-2/10-find-element.ipynb      | 38 ++++++++--\n",
      " 08-generics/10-find-element.ipynb               | 99 ++++++++++++++++++++-----\n",
      " 10-fsm/10-fsm-a01.ipynb                         |  8 ++\n",
      " 10-fsm/10-fsm-a02.ipynb                         | 21 +++++-\n",
      " 10-fsm/10-fsm-a03.ipynb                         |  7 ++\n",
      " 6 files changed, 151 insertions(+), 25 deletions(-)\n",
      "\n",
      "\n",
      "[shaked-bekerman a6d4654] auto commit...\n",
      " 1 file changed, 1 insertion(+), 1 deletion(-)\n",
      "\n"
     ]
    },
    {
     "name": "stderr",
     "output_type": "stream",
     "text": [
      "To https://github.com/eylon-holon/java-abc\n",
      "   a5d9d51..a6d4654  shaked-bekerman -> shaked-bekerman\n"
     ]
    },
    {
     "name": "stdout",
     "output_type": "stream",
     "text": [
      "\n",
      "Merge made by the 'ort' strategy.\n",
      " 10-fsm/10-fsm-a03.solution.dib   | 4 ++--\n",
      " 10-fsm/10-fsm-a03.solution.ipynb | 8 ++++----\n",
      " 2 files changed, 6 insertions(+), 6 deletions(-)\n",
      "\n",
      "\n"
     ]
    },
    {
     "name": "stderr",
     "output_type": "stream",
     "text": [
      "To https://github.com/eylon-holon/java-abc\n",
      "   a6d4654..231e757  shaked-bekerman -> shaked-bekerman\n"
     ]
    }
   ],
   "source": [
    "from eylon.core import *\n",
    "store_all_changes_to_github()\n",
    "get_next_lesson()"
   ]
  }
 ],
 "metadata": {
  "kernelspec": {
   "display_name": "Python 3",
   "language": "python",
   "name": "python3"
  },
  "language_info": {
   "codemirror_mode": {
    "name": "ipython",
    "version": 3
   },
   "file_extension": ".py",
   "mimetype": "text/x-python",
   "name": "python",
   "nbconvert_exporter": "python",
   "pygments_lexer": "ipython3",
   "version": "3.12.1"
  }
 },
 "nbformat": 4,
 "nbformat_minor": 2
}
