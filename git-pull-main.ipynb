{
 "cells": [
  {
   "cell_type": "code",
   "execution_count": null,
   "metadata": {
    "dotnet_interactive": {
     "language": "csharp"
    },
    "polyglot_notebook": {
     "kernelName": "csharp"
    }
   },
   "outputs": [
    {
     "name": "stdout",
     "output_type": "stream",
     "text": [
      "\n",
      "[daniel-yakobovitz 6b862cc] auto commit...\n",
      " 1 file changed, 19 insertions(+), 50 deletions(-)\n",
      "\n"
     ]
    },
    {
     "name": "stderr",
     "output_type": "stream",
     "text": [
      "To https://github.com/eylon-holon/java-abc\n",
      "   0868ab0..6b862cc  daniel-yakobovitz -> daniel-yakobovitz\n"
     ]
    },
    {
     "name": "stdout",
     "output_type": "stream",
     "text": [
      "\n"
     ]
    },
    {
     "name": "stderr",
     "output_type": "stream",
     "text": [
      "From https://github.com/eylon-holon/java-abc\n",
      " * branch            main       -> FETCH_HEAD\n",
      "   9fd68a0..bc9e592  main       -> origin/main\n"
     ]
    },
    {
     "name": "stdout",
     "output_type": "stream",
     "text": [
      "Merge made by the 'ort' strategy.\n",
      " 11-fsm-nondetermenistic/11-nfsm-a01.dib            |  16 ++\n",
      " 11-fsm-nondetermenistic/11-nfsm-a01.ipynb          |  32 +++\n",
      " 11-fsm-nondetermenistic/fsm.ipynb                  |  11 +-\n",
      " 12-fsm-with-stack/12-fsm-hazara.dib                |  30 ++\n",
      " 12-fsm-with-stack/12-fsm-hazara.ipynb              | 203 ++++++++++++++\n",
      " 12-fsm-with-stack/12-fsm-with-stack-a01.dib        |  52 ++++\n",
      " 12-fsm-with-stack/12-fsm-with-stack-a01.ipynb      | 189 +++++++++++++\n",
      " 12-fsm-with-stack/12-fsm-with-stack-intro.dib      |  55 ++++\n",
      " 12-fsm-with-stack/12-fsm-with-stack-intro.ipynb    |  81 ++++++\n",
      " 12-fsm-with-stack/fsm.ipynb                        |  54 ++++\n",
      " .../img/12-fms-with-stack-a01-q01.png              | Bin 0 -> 28805 bytes\n",
      " .../img/12-fms-with-stack-a01-q02.png              | Bin 0 -> 25552 bytes\n",
      " .../img/12-fms-with-stack-a01-q03.png              | Bin 0 -> 47973 bytes\n",
      " .../img/12-fms-with-stack-a01-q04.png              | Bin 0 -> 74423 bytes\n",
      " .../img/12-fms-with-stack-a01-q05.png              | Bin 0 -> 9436 bytes\n",
      " .../img/12-fms-with-stack-a01-q06.png              | Bin 0 -> 35142 bytes\n",
      " .../img/12-fms-with-stack-a01-q07.png              | Bin 0 -> 29898 bytes\n",
      " 12-fsm-with-stack/img/12-fsm-hazara-aslad.png      | Bin 0 -> 26075 bytes\n",
      " 12-fsm-with-stack/img/12-fsm-hazara-q01.png        | Bin 0 -> 147478 bytes\n",
      " 12-fsm-with-stack/img/12-fsm-hazara-q02.png        | Bin 0 -> 153016 bytes\n",
      " 12-fsm-with-stack/img/12-fsm-hazara-q03.png        | Bin 0 -> 48826 bytes\n",
      " 12-fsm-with-stack/img/12-fsm-hazara-q04.png        | Bin 0 -> 46217 bytes\n",
      " 12-fsm-with-stack/img/12-fsm-hazara-q05.png        | Bin 0 -> 34266 bytes\n",
      " 12-fsm-with-stack/img/12-fsm-hazara-q06.png        | Bin 0 -> 39169 bytes\n",
      " 12-fsm-with-stack/img/12-fsm-hazara-q07.png        | Bin 0 -> 80086 bytes\n",
      " .../img/12-fsm-with-stack-intro-01.png             | Bin 0 -> 61021 bytes\n",
      " .../img/12-fsm-with-stack-intro-a^n-b^n.png        | Bin 0 -> 63366 bytes\n",
      " j-core/fsm/DetermenisticFsm.java                   |  16 +-\n",
      " j-core/fsm/FSM.java                                | 105 ++++++-\n",
      " j-core/fsm/FsmFromMermaid.java                     |   8 +-\n",
      " j-core/fsm/FsmFromMermaid2.java                    |  23 +-\n",
      " j-core/fsm/FsmParser.java                          |  49 ++--\n",
      " j-core/fsm/FsmParser2.java                         | 214 ++++++++++++++\n",
      " j-core/fsm/FsmWithStack.java                       | 310 +++++++++++++++++++++\n",
      " j-core/fsm/MermaidFile2.java                       |  47 +---\n",
      " j-core/fsm/NondetermenisticFsm.java                |   8 +-\n",
      " 36 files changed, 1427 insertions(+), 76 deletions(-)\n",
      " create mode 100644 11-fsm-nondetermenistic/11-nfsm-a01.dib\n",
      " create mode 100644 11-fsm-nondetermenistic/11-nfsm-a01.ipynb\n",
      " create mode 100644 12-fsm-with-stack/12-fsm-hazara.dib\n",
      " create mode 100644 12-fsm-with-stack/12-fsm-hazara.ipynb\n",
      " create mode 100644 12-fsm-with-stack/12-fsm-with-stack-a01.dib\n",
      " create mode 100644 12-fsm-with-stack/12-fsm-with-stack-a01.ipynb\n",
      " create mode 100644 12-fsm-with-stack/12-fsm-with-stack-intro.dib\n",
      " create mode 100644 12-fsm-with-stack/12-fsm-with-stack-intro.ipynb\n",
      " create mode 100644 12-fsm-with-stack/fsm.ipynb\n",
      " create mode 100644 12-fsm-with-stack/img/12-fms-with-stack-a01-q01.png\n",
      " create mode 100644 12-fsm-with-stack/img/12-fms-with-stack-a01-q02.png\n",
      " create mode 100644 12-fsm-with-stack/img/12-fms-with-stack-a01-q03.png\n",
      " create mode 100644 12-fsm-with-stack/img/12-fms-with-stack-a01-q04.png\n",
      " create mode 100644 12-fsm-with-stack/img/12-fms-with-stack-a01-q05.png\n",
      " create mode 100644 12-fsm-with-stack/img/12-fms-with-stack-a01-q06.png\n",
      " create mode 100644 12-fsm-with-stack/img/12-fms-with-stack-a01-q07.png\n",
      " create mode 100644 12-fsm-with-stack/img/12-fsm-hazara-aslad.png\n",
      " create mode 100644 12-fsm-with-stack/img/12-fsm-hazara-q01.png\n",
      " create mode 100644 12-fsm-with-stack/img/12-fsm-hazara-q02.png\n",
      " create mode 100644 12-fsm-with-stack/img/12-fsm-hazara-q03.png\n",
      " create mode 100644 12-fsm-with-stack/img/12-fsm-hazara-q04.png\n",
      " create mode 100644 12-fsm-with-stack/img/12-fsm-hazara-q05.png\n",
      " create mode 100644 12-fsm-with-stack/img/12-fsm-hazara-q06.png\n",
      " create mode 100644 12-fsm-with-stack/img/12-fsm-hazara-q07.png\n",
      " create mode 100644 12-fsm-with-stack/img/12-fsm-with-stack-intro-01.png\n",
      " create mode 100644 12-fsm-with-stack/img/12-fsm-with-stack-intro-a^n-b^n.png\n",
      " create mode 100644 j-core/fsm/FsmParser2.java\n",
      " create mode 100644 j-core/fsm/FsmWithStack.java\n",
      "\n"
     ]
    },
    {
     "name": "stderr",
     "output_type": "stream",
     "text": [
      "To https://github.com/eylon-holon/java-abc\n",
      "   6b862cc..3d91617  daniel-yakobovitz -> daniel-yakobovitz\n"
     ]
    }
   ],
   "source": [
    "from eylon.core import *\n",
    "store_all_changes_to_github()\n",
    "get_next_lesson()"
   ]
  }
 ],
 "metadata": {
  "kernelspec": {
   "display_name": "Python 3",
   "language": "python",
   "name": "python3"
  },
  "language_info": {
   "codemirror_mode": {
    "name": "ipython",
    "version": 3
   },
   "file_extension": ".py",
   "mimetype": "text/x-python",
   "name": "python",
   "nbconvert_exporter": "python",
   "pygments_lexer": "ipython3",
   "version": "3.12.1"
  },
  "polyglot_notebook": {
   "kernelInfo": {
    "defaultKernelName": "csharp",
    "items": [
     {
      "aliases": [],
      "name": "csharp"
     }
    ]
   }
  }
 },
 "nbformat": 4,
 "nbformat_minor": 2
}
