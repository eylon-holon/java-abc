{
 "cells": [
  {
   "cell_type": "code",
   "execution_count": 1,
   "metadata": {
    "dotnet_interactive": {
     "language": "csharp"
    },
    "polyglot_notebook": {
     "kernelName": "csharp"
    }
   },
   "outputs": [
    {
     "name": "stdout",
     "output_type": "stream",
     "text": [
      "\n",
      "[ziv-jungmann 6690bfb] auto commit...\n",
      " 2 files changed, 30 insertions(+), 48 deletions(-)\n",
      "\n"
     ]
    },
    {
     "name": "stderr",
     "output_type": "stream",
     "text": [
      "To https://github.com/eylon-holon/java-abc\n",
      "   68f3220..6690bfb  ziv-jungmann -> ziv-jungmann\n"
     ]
    },
    {
     "name": "stdout",
     "output_type": "stream",
     "text": [
      "\n"
     ]
    },
    {
     "name": "stderr",
     "output_type": "stream",
     "text": [
      "From https://github.com/eylon-holon/java-abc\n",
      " * branch            main       -> FETCH_HEAD\n",
      "   02767ce..eee6f01  main       -> origin/main\n"
     ]
    },
    {
     "name": "stdout",
     "output_type": "stream",
     "text": [
      "Merge made by the 'ort' strategy.\n",
      " 07-queue-and-stack-2/01-queue-tests.ipynb          |  96 ++++++++++++\n",
      " 07-queue-and-stack-2/02-queue-memory-layout.dib    | 118 +++++++++++++++\n",
      " 07-queue-and-stack-2/02-queue-memory-layout.ipynb  | 168 +++++++++++++++++++++\n",
      " 07-queue-and-stack-2/03-basic-memory-layout.dib    | 103 +++++++++++++\n",
      " 07-queue-and-stack-2/03-basic-memory-layout.ipynb  | 129 ++++++++++++++++\n",
      " .../10-iterate-them.ipynb                          |  88 +++++------\n",
      " 07-queue-and-stack-2/Node.ipynb                    |  68 +++++++++\n",
      " 07-queue-and-stack-2/Queue.ipynb                   |  69 +++++++++\n",
      " 07-queue-and-stack-2/Stack.ipynb                   |  52 +++++++\n",
      " 07-queue-and-stack-2/queues.ipynb                  |  63 ++++++++\n",
      " eylon/JavaUtils.java                               |   3 +-\n",
      " j-core/fsm/FSM.java                                |  13 +-\n",
      " 12 files changed, 916 insertions(+), 54 deletions(-)\n",
      " create mode 100644 07-queue-and-stack-2/01-queue-tests.ipynb\n",
      " create mode 100644 07-queue-and-stack-2/02-queue-memory-layout.dib\n",
      " create mode 100644 07-queue-and-stack-2/02-queue-memory-layout.ipynb\n",
      " create mode 100644 07-queue-and-stack-2/03-basic-memory-layout.dib\n",
      " create mode 100644 07-queue-and-stack-2/03-basic-memory-layout.ipynb\n",
      " rename {05-queues => 07-queue-and-stack-2}/10-iterate-them.ipynb (62%)\n",
      " create mode 100644 07-queue-and-stack-2/Node.ipynb\n",
      " create mode 100644 07-queue-and-stack-2/Queue.ipynb\n",
      " create mode 100644 07-queue-and-stack-2/Stack.ipynb\n",
      " create mode 100644 07-queue-and-stack-2/queues.ipynb\n",
      "\n"
     ]
    },
    {
     "name": "stderr",
     "output_type": "stream",
     "text": [
      "To https://github.com/eylon-holon/java-abc\n",
      "   6690bfb..f9d467a  ziv-jungmann -> ziv-jungmann\n"
     ]
    }
   ],
   "source": [
    "from eylon.core import *\n",
    "store_all_changes_to_github()\n",
    "get_next_lesson()"
   ]
  }
 ],
 "metadata": {
  "kernelspec": {
   "display_name": "Python 3",
   "language": "python",
   "name": "python3"
  },
  "language_info": {
   "codemirror_mode": {
    "name": "ipython",
    "version": 3
   },
   "file_extension": ".py",
   "mimetype": "text/x-python",
   "name": "python",
   "nbconvert_exporter": "python",
   "pygments_lexer": "ipython3",
   "version": "3.12.1"
  },
  "polyglot_notebook": {
   "kernelInfo": {
    "defaultKernelName": "csharp",
    "items": [
     {
      "aliases": [],
      "name": "csharp"
     }
    ]
   }
  }
 },
 "nbformat": 4,
 "nbformat_minor": 2
}
