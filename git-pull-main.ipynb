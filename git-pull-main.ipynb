{
 "cells": [
  {
   "cell_type": "code",
   "execution_count": null,
   "metadata": {},
   "outputs": [
    {
     "name": "stderr",
     "output_type": "stream",
     "text": [
      "From https://github.com/eylon-holon/java-abc\n",
      "   a6f321c..e44aca5  alma-kimhi    -> origin/alma-kimhi\n",
      "   9934e5a..ff9a436  carmel-dayan  -> origin/carmel-dayan\n",
      "   d6b272c..6d3620d  david-madany  -> origin/david-madany\n",
      "   62719ec..23811d6  eyal-belinsky -> origin/eyal-belinsky\n",
      "   020f236..d304c7a  hila-atzmon   -> origin/hila-atzmon\n",
      "   0323a7e..78c3ef8  linoy-netach  -> origin/linoy-netach\n",
      "   5f27111..bb575a3  noa-slavinsky -> origin/noa-slavinsky\n",
      "   2c8199f..d021127  tamar-tirosh  -> origin/tamar-tirosh\n"
     ]
    },
    {
     "name": "stdout",
     "output_type": "stream",
     "text": [
      "Already up to date.\n",
      "\n",
      "\n",
      "[shaked-bekerman 1bc2bf6] auto commit...\n",
      " 8 files changed, 250 insertions(+), 88 deletions(-)\n",
      "\n"
     ]
    },
    {
     "name": "stderr",
     "output_type": "stream",
     "text": [
      "To https://github.com/eylon-holon/java-abc\n",
      "   f3c6574..1bc2bf6  shaked-bekerman -> shaked-bekerman\n"
     ]
    },
    {
     "name": "stdout",
     "output_type": "stream",
     "text": [
      "\n",
      "Already up to date.\n",
      "\n",
      "\n"
     ]
    },
    {
     "name": "stderr",
     "output_type": "stream",
     "text": [
      "Everything up-to-date\n"
     ]
    }
   ],
   "source": [
    "from eylon.core import *\n",
    "store_all_changes_to_github()\n",
    "get_next_lesson()"
   ]
  }
 ],
 "metadata": {
  "kernelspec": {
   "display_name": "Python 3",
   "language": "python",
   "name": "python3"
  },
  "language_info": {
   "codemirror_mode": {
    "name": "ipython",
    "version": 3
   },
   "file_extension": ".py",
   "mimetype": "text/x-python",
   "name": "python",
   "nbconvert_exporter": "python",
   "pygments_lexer": "ipython3",
   "version": "3.12.1"
  }
 },
 "nbformat": 4,
 "nbformat_minor": 2
}
