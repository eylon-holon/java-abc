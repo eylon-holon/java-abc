{
 "cells": [
  {
   "cell_type": "code",
   "execution_count": null,
   "metadata": {},
   "outputs": [
    {
     "name": "stderr",
     "output_type": "stream",
     "text": [
      "From https://github.com/eylon-holon/java-abc\n",
      "   9213715..90f1081  alma-kimhi      -> origin/alma-kimhi\n",
      "   a4178eb..50e59bc  carmel-dayan    -> origin/carmel-dayan\n",
      "   73804b5..b4423f6  david-madany    -> origin/david-madany\n",
      "   3104293..0cc5c23  eyal-belinsky   -> origin/eyal-belinsky\n",
      "   9cb5a2b..078bd8d  gal-alon        -> origin/gal-alon\n",
      "   4322c61..1c10a15  hila-atzmon     -> origin/hila-atzmon\n",
      "   6c25b91..117e611  linoy-netach    -> origin/linoy-netach\n",
      "   948eb8a..75f7402  lior-frumkin    -> origin/lior-frumkin\n",
      "   df272ac..8e5ebb0  main            -> origin/main\n",
      "   5f6e53b..fb1d788  noa-slavinsky   -> origin/noa-slavinsky\n",
      "   20b36f3..9dbf7f3  orin-baot       -> origin/orin-baot\n",
      "   1bc2bf6..0155db6  shaked-bekerman -> origin/shaked-bekerman\n",
      "   23caf5f..2bf0119  tamar-tirosh    -> origin/tamar-tirosh\n",
      "   7c0f43c..fe8e48c  yari-moshe      -> origin/yari-moshe\n",
      "   c9fa7a6..c6876a4  ziv-jungmann    -> origin/ziv-jungmann\n",
      "error: Your local changes to the following files would be overwritten by merge:\n",
      "\t20-formula-pages/20-binary-tree.ipynb\n",
      "\tgit-pull-main.ipynb\n",
      "Please commit your changes or stash them before you merge.\n",
      "Aborting\n"
     ]
    },
    {
     "name": "stdout",
     "output_type": "stream",
     "text": [
      "Updating 9213715..90f1081\n",
      "\n",
      "\n",
      "[alma-kimhi 50446f1] auto commit...\n",
      " 2 files changed, 8 insertions(+), 48 deletions(-)\n",
      "\n"
     ]
    },
    {
     "name": "stderr",
     "output_type": "stream",
     "text": [
      "To https://github.com/eylon-holon/java-abc\n",
      " ! [rejected]        alma-kimhi -> alma-kimhi (non-fast-forward)\n",
      "error: failed to push some refs to 'https://github.com/eylon-holon/java-abc'\n",
      "hint: Updates were rejected because the tip of your current branch is behind\n",
      "hint: its remote counterpart. If you want to integrate the remote changes,\n",
      "hint: use 'git pull' before pushing again.\n",
      "hint: See the 'Note about fast-forwards' in 'git push --help' for details.\n"
     ]
    },
    {
     "name": "stdout",
     "output_type": "stream",
     "text": [
      "\n",
      "Auto-merging 02-arrays-1d/02-arrays-1d.java.ipynb\n",
      "CONFLICT (modify/delete): 20-formula-pages/20-binary-tree.ipynb deleted in origin/main and modified in HEAD.  Version HEAD of 20-formula-pages/20-binary-tree.ipynb left in tree.\n",
      "Automatic merge failed; fix conflicts and then commit the result.\n",
      "\n",
      "\n"
     ]
    },
    {
     "name": "stderr",
     "output_type": "stream",
     "text": [
      "To https://github.com/eylon-holon/java-abc\n",
      " ! [rejected]        alma-kimhi -> alma-kimhi (non-fast-forward)\n",
      "error: failed to push some refs to 'https://github.com/eylon-holon/java-abc'\n",
      "hint: Updates were rejected because the tip of your current branch is behind\n",
      "hint: its remote counterpart. If you want to integrate the remote changes,\n",
      "hint: use 'git pull' before pushing again.\n",
      "hint: See the 'Note about fast-forwards' in 'git push --help' for details.\n"
     ]
    }
   ],
   "source": [
    "from eylon.core import *\n",
    "store_all_changes_to_github()\n",
    "get_next_lesson()"
   ]
  }
 ],
 "metadata": {
  "kernelspec": {
   "display_name": "Python 3",
   "language": "python",
   "name": "python3"
  },
  "language_info": {
   "codemirror_mode": {
    "name": "ipython",
    "version": 3
   },
   "file_extension": ".py",
   "mimetype": "text/x-python",
   "name": "python",
   "nbconvert_exporter": "python",
   "pygments_lexer": "ipython3",
   "version": "3.12.1"
  }
 },
 "nbformat": 4,
 "nbformat_minor": 2
}
