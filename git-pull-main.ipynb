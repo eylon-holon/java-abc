{
 "cells": [
  {
   "cell_type": "code",
   "execution_count": 2,
   "metadata": {},
   "outputs": [
    {
     "name": "stderr",
     "output_type": "stream",
     "text": [
      "From https://github.com/eylon-holon/java-abc\n",
      "   e283cb36..46811bbb  alma-kimhi      -> origin/alma-kimhi\n",
      "   e4d1b973..86a0abcc  carmel-dayan    -> origin/carmel-dayan\n",
      "   d9fd811f..079258b2  gosha-smeh      -> origin/gosha-smeh\n",
      "   cef87a8c..2e028a69  linoy-netach    -> origin/linoy-netach\n",
      "   5c40af31..07641466  noa-slavinsky   -> origin/noa-slavinsky\n",
      "   b43bac32..51dbd437  shaked-bekerman -> origin/shaked-bekerman\n",
      "   02892dd6..db0ae256  yari-moshe      -> origin/yari-moshe\n"
     ]
    },
    {
     "name": "stdout",
     "output_type": "stream",
     "text": [
      "Already up to date.\n",
      "\n",
      "\n",
      "[hila-atzmon f473c752] auto commit...\n",
      " 1 file changed, 2 insertions(+), 107 deletions(-)\n",
      "\n"
     ]
    },
    {
     "name": "stderr",
     "output_type": "stream",
     "text": [
      "To https://github.com/eylon-holon/java-abc\n",
      "   c1d5acb7..f473c752  hila-atzmon -> hila-atzmon\n"
     ]
    },
    {
     "name": "stdout",
     "output_type": "stream",
     "text": [
      "\n",
      "Already up to date.\n",
      "\n",
      "\n"
     ]
    },
    {
     "name": "stderr",
     "output_type": "stream",
     "text": [
      "Everything up-to-date\n"
     ]
    }
   ],
   "source": [
    "from eylon.core import *\n",
    "store_all_changes_to_github()\n",
    "get_next_lesson()"
   ]
  }
 ],
 "metadata": {
  "kernelspec": {
   "display_name": "Python 3",
   "language": "python",
   "name": "python3"
  },
  "language_info": {
   "codemirror_mode": {
    "name": "ipython",
    "version": 3
   },
   "file_extension": ".py",
   "mimetype": "text/x-python",
   "name": "python",
   "nbconvert_exporter": "python",
   "pygments_lexer": "ipython3",
   "version": "3.12.1"
  }
 },
 "nbformat": 4,
 "nbformat_minor": 2
}
