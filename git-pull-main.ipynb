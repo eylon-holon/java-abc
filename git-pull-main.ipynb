{
 "cells": [
  {
   "cell_type": "code",
   "execution_count": 1,
   "metadata": {},
   "outputs": [
    {
     "name": "stderr",
     "output_type": "stream",
     "text": [
      "From https://github.com/eylon-holon/java-abc\n",
      "   d909720..46811bb  alma-kimhi        -> origin/alma-kimhi\n",
      "   2351e9d..86a0abc  carmel-dayan      -> origin/carmel-dayan\n",
      "   77a4371..ea710ec  daniel-yakobovitz -> origin/daniel-yakobovitz\n",
      "   a8e9f8f..ec0f0e2  david-madany      -> origin/david-madany\n",
      "   eb2199c..ab5ca55  eyal-belinsky     -> origin/eyal-belinsky\n",
      "   be5c2ec..9f624b2  gal-osovsky       -> origin/gal-osovsky\n",
      "   53bfb76..079258b  gosha-smeh        -> origin/gosha-smeh\n",
      "   cd0f675..c1d5acb  hila-atzmon       -> origin/hila-atzmon\n",
      "   7e7b461..cef87a8  linoy-netach      -> origin/linoy-netach\n",
      "   ac39916..82a833c  main              -> origin/main\n",
      "   dbc495f..65cbad0  tamar-tirosh      -> origin/tamar-tirosh\n",
      "   99aef9c..d3ed20f  ziv-jungmann      -> origin/ziv-jungmann\n"
     ]
    },
    {
     "name": "stdout",
     "output_type": "stream",
     "text": [
      "Already up to date.\n",
      "\n",
      "\n",
      "[shaked-bekerman 72552f7] auto commit...\n",
      " 2 files changed, 14 insertions(+), 77 deletions(-)\n",
      "\n"
     ]
    },
    {
     "name": "stderr",
     "output_type": "stream",
     "text": [
      "To https://github.com/eylon-holon/java-abc\n",
      "   b43bac3..72552f7  shaked-bekerman -> shaked-bekerman\n"
     ]
    },
    {
     "name": "stdout",
     "output_type": "stream",
     "text": [
      "\n",
      "Auto-merging 20-formulas-and-bagruts/42-prepare/set-01.ipynb\n",
      "Merge made by the 'ort' strategy.\n",
      " 14-turing-machine-2/14-turing-intro.dib            | 216 +++++\n",
      " 14-turing-machine-2/14-turing-intro.ipynb          | 383 +++++++++\n",
      " 14-turing-machine-2/fsm.ipynb                      |  47 ++\n",
      " 14-turing-machine-2/img/img_00736.png              | Bin 0 -> 25204 bytes\n",
      " 14-turing-machine-2/img/img_00737.png              | Bin 0 -> 33141 bytes\n",
      " 14-turing-machine-2/img/img_00738.png              | Bin 0 -> 31450 bytes\n",
      " 14-turing-machine-2/img/img_00739.png              | Bin 0 -> 31231 bytes\n",
      " 14-turing-machine-2/img/img_00740.png              | Bin 0 -> 28428 bytes\n",
      " 14-turing-machine-2/img/img_00741.png              | Bin 0 -> 31260 bytes\n",
      " 14-turing-machine-2/img/img_00742.png              | Bin 0 -> 16667 bytes\n",
      " 14-turing-machine-2/img/img_00743.png              | Bin 0 -> 29520 bytes\n",
      " 14-turing-machine-2/img/img_00744.png              | Bin 0 -> 18423 bytes\n",
      " 14-turing-machine-2/img/img_00745.png              | Bin 0 -> 19385 bytes\n",
      " 14-turing-machine-2/img/img_00746.png              | Bin 0 -> 17755 bytes\n",
      " 14-turing-machine-2/img/img_00747.png              | Bin 0 -> 38469 bytes\n",
      " 14-turing-machine-2/img/img_00748.png              | Bin 0 -> 28105 bytes\n",
      " 14-turing-machine-2/img/img_00749.png              | Bin 0 -> 16919 bytes\n",
      " 14-turing-machine-2/img/img_00750.png              | Bin 0 -> 42413 bytes\n",
      " .../20-formula-pages/20-run-time-complexity.ipynb  | 157 ++++\n",
      " .../41-matkonet/41-matkonet-2.dib                  | 111 +++\n",
      " .../41-matkonet/41-matkonet-2.ipynb                | 901 +++++++++++++++++++++\n",
      " 20-formulas-and-bagruts/42-prepare/set-01.ipynb    |  46 +-\n",
      " 20-formulas-and-bagruts/img/img_00674.png          | Bin 0 -> 17397 bytes\n",
      " 20-formulas-and-bagruts/img/img_00675.png          | Bin 0 -> 20042 bytes\n",
      " 20-formulas-and-bagruts/img/img_00716.png          | Bin 0 -> 23693 bytes\n",
      " 20-formulas-and-bagruts/img/img_00717.png          | Bin 0 -> 16987 bytes\n",
      " 20-formulas-and-bagruts/img/img_00718.png          | Bin 0 -> 14618 bytes\n",
      " 27 files changed, 1859 insertions(+), 2 deletions(-)\n",
      " create mode 100644 14-turing-machine-2/14-turing-intro.dib\n",
      " create mode 100644 14-turing-machine-2/14-turing-intro.ipynb\n",
      " create mode 100644 14-turing-machine-2/fsm.ipynb\n",
      " create mode 100644 14-turing-machine-2/img/img_00736.png\n",
      " create mode 100644 14-turing-machine-2/img/img_00737.png\n",
      " create mode 100644 14-turing-machine-2/img/img_00738.png\n",
      " create mode 100644 14-turing-machine-2/img/img_00739.png\n",
      " create mode 100644 14-turing-machine-2/img/img_00740.png\n",
      " create mode 100644 14-turing-machine-2/img/img_00741.png\n",
      " create mode 100644 14-turing-machine-2/img/img_00742.png\n",
      " create mode 100644 14-turing-machine-2/img/img_00743.png\n",
      " create mode 100644 14-turing-machine-2/img/img_00744.png\n",
      " create mode 100644 14-turing-machine-2/img/img_00745.png\n",
      " create mode 100644 14-turing-machine-2/img/img_00746.png\n",
      " create mode 100644 14-turing-machine-2/img/img_00747.png\n",
      " create mode 100644 14-turing-machine-2/img/img_00748.png\n",
      " create mode 100644 14-turing-machine-2/img/img_00749.png\n",
      " create mode 100644 14-turing-machine-2/img/img_00750.png\n",
      " create mode 100644 20-formulas-and-bagruts/41-matkonet/41-matkonet-2.dib\n",
      " create mode 100644 20-formulas-and-bagruts/41-matkonet/41-matkonet-2.ipynb\n",
      " create mode 100644 20-formulas-and-bagruts/img/img_00674.png\n",
      " create mode 100644 20-formulas-and-bagruts/img/img_00675.png\n",
      " create mode 100644 20-formulas-and-bagruts/img/img_00716.png\n",
      " create mode 100644 20-formulas-and-bagruts/img/img_00717.png\n",
      " create mode 100644 20-formulas-and-bagruts/img/img_00718.png\n",
      "\n",
      "\n"
     ]
    },
    {
     "name": "stderr",
     "output_type": "stream",
     "text": [
      "To https://github.com/eylon-holon/java-abc\n",
      "   72552f7..696d16e  shaked-bekerman -> shaked-bekerman\n"
     ]
    }
   ],
   "source": [
    "from eylon.core import *\n",
    "store_all_changes_to_github()\n",
    "get_next_lesson()"
   ]
  }
 ],
 "metadata": {
  "kernelspec": {
   "display_name": "Python 3",
   "language": "python",
   "name": "python3"
  },
  "language_info": {
   "codemirror_mode": {
    "name": "ipython",
    "version": 3
   },
   "file_extension": ".py",
   "mimetype": "text/x-python",
   "name": "python",
   "nbconvert_exporter": "python",
   "pygments_lexer": "ipython3",
   "version": "3.12.1"
  }
 },
 "nbformat": 4,
 "nbformat_minor": 2
}
