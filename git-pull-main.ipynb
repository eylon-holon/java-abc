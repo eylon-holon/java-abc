{
 "cells": [
  {
   "cell_type": "code",
   "execution_count": null,
   "metadata": {},
   "outputs": [
    {
     "name": "stdout",
     "output_type": "stream",
     "text": [
      "\n",
      "[alma-kimhi 7131c55] auto commit...\n",
      " 1 file changed, 4 insertions(+), 4 deletions(-)\n",
      "\n"
     ]
    },
    {
     "name": "stderr",
     "output_type": "stream",
     "text": [
      "To https://github.com/eylon-holon/java-abc\n",
      "   b51b48d..7131c55  alma-kimhi -> alma-kimhi\n"
     ]
    },
    {
     "name": "stdout",
     "output_type": "stream",
     "text": [
      "\n"
     ]
    },
    {
     "name": "stderr",
     "output_type": "stream",
     "text": [
      "From https://github.com/eylon-holon/java-abc\n",
      " * branch            main       -> FETCH_HEAD\n",
      "   9fd68a0..09dc8ad  main       -> origin/main\n"
     ]
    },
    {
     "name": "stdout",
     "output_type": "stream",
     "text": [
      "Merge made by the 'ort' strategy.\n",
      " 11-fsm-nondetermenistic/11-nfsm-a01.dib            |  16 ++\n",
      " 11-fsm-nondetermenistic/11-nfsm-a01.ipynb          |  32 +++\n",
      " 11-fsm-nondetermenistic/fsm.ipynb                  |  11 +-\n",
      " 12-fsm-with-stack/12-fsm-with-stack-intro.dib      |  54 ++++\n",
      " 12-fsm-with-stack/12-fsm-with-stack-intro.ipynb    |  81 ++++++\n",
      " 12-fsm-with-stack/fsm.ipynb                        |  54 ++++\n",
      " .../img/12-fsm-with-stack-intro-01.png             | Bin 0 -> 61021 bytes\n",
      " .../img/12-fsm-with-stack-intro-a^n-b^n.png        | Bin 0 -> 63366 bytes\n",
      " j-core/fsm/DetermenisticFsm.java                   |  12 +-\n",
      " j-core/fsm/FSM.java                                | 100 ++++++-\n",
      " j-core/fsm/FsmFromMermaid.java                     |   8 +-\n",
      " j-core/fsm/FsmFromMermaid2.java                    |  23 +-\n",
      " j-core/fsm/FsmParser.java                          |  49 ++--\n",
      " j-core/fsm/FsmParser2.java                         | 214 ++++++++++++++\n",
      " j-core/fsm/FsmWithStack.java                       | 310 +++++++++++++++++++++\n",
      " j-core/fsm/MermaidFile2.java                       |  45 +--\n",
      " j-core/fsm/NondetermenisticFsm.java                |   4 +-\n",
      " 17 files changed, 938 insertions(+), 75 deletions(-)\n",
      " create mode 100644 11-fsm-nondetermenistic/11-nfsm-a01.dib\n",
      " create mode 100644 11-fsm-nondetermenistic/11-nfsm-a01.ipynb\n",
      " create mode 100644 12-fsm-with-stack/12-fsm-with-stack-intro.dib\n",
      " create mode 100644 12-fsm-with-stack/12-fsm-with-stack-intro.ipynb\n",
      " create mode 100644 12-fsm-with-stack/fsm.ipynb\n",
      " create mode 100644 12-fsm-with-stack/img/12-fsm-with-stack-intro-01.png\n",
      " create mode 100644 12-fsm-with-stack/img/12-fsm-with-stack-intro-a^n-b^n.png\n",
      " create mode 100644 j-core/fsm/FsmParser2.java\n",
      " create mode 100644 j-core/fsm/FsmWithStack.java\n",
      "\n"
     ]
    },
    {
     "name": "stderr",
     "output_type": "stream",
     "text": [
      "To https://github.com/eylon-holon/java-abc\n",
      "   7131c55..3940112  alma-kimhi -> alma-kimhi\n"
     ]
    }
   ],
   "source": [
    "from eylon.core import *\n",
    "store_all_changes_to_github()\n",
    "get_next_lesson()"
   ]
  }
 ],
 "metadata": {
  "kernelspec": {
   "display_name": "Python 3",
   "language": "python",
   "name": "python3"
  },
  "language_info": {
   "codemirror_mode": {
    "name": "ipython",
    "version": 3
   },
   "file_extension": ".py",
   "mimetype": "text/x-python",
   "name": "python",
   "nbconvert_exporter": "python",
   "pygments_lexer": "ipython3",
   "version": "3.12.1"
  }
 },
 "nbformat": 4,
 "nbformat_minor": 2
}
