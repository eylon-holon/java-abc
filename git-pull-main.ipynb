{
 "cells": [
  {
   "cell_type": "code",
   "execution_count": null,
   "metadata": {},
   "outputs": [
    {
     "name": "stderr",
     "output_type": "stream",
     "text": [
      "From https://github.com/eylon-holon/java-abc\n",
      "   85eba1e..81101b8  alma-kimhi      -> origin/alma-kimhi\n",
      "   270b8af..9934e5a  carmel-dayan    -> origin/carmel-dayan\n",
      "   4519b60..ce7073f  dev             -> origin/dev\n",
      "   12f6ebc..62719ec  eyal-belinsky   -> origin/eyal-belinsky\n",
      "   abe7b87..d088c39  gal-osovsky     -> origin/gal-osovsky\n",
      "   1418ab5..189eb40  gosha-smeh      -> origin/gosha-smeh\n",
      "   13d2ccd..020f236  hila-atzmon     -> origin/hila-atzmon\n",
      "   6479bcc..549ecf5  lior-frumkin    -> origin/lior-frumkin\n",
      "   9c44abf..ce7073f  main            -> origin/main\n",
      "   a5d9d51..672178e  shaked-bekerman -> origin/shaked-bekerman\n"
     ]
    },
    {
     "name": "stdout",
     "output_type": "stream",
     "text": [
      "Already up to date.\n",
      "\n",
      "\n",
      "[david-madany 694b01a] auto commit...\n",
      " 3 files changed, 101 insertions(+), 52 deletions(-)\n",
      "\n"
     ]
    },
    {
     "name": "stderr",
     "output_type": "stream",
     "text": [
      "To https://github.com/eylon-holon/java-abc\n",
      "   27968f4..694b01a  david-madany -> david-madany\n"
     ]
    },
    {
     "name": "stdout",
     "output_type": "stream",
     "text": [
      "\n",
      "Merge made by the 'ort' strategy.\n",
      " 13-turing-machine/13-turing-intro.ipynb |  43 ++++++++++++\n",
      " 13-turing-machine/turing.ipynb          |  31 +++++++++\n",
      " eylon/Config.java                       |  11 +++\n",
      " eylon/JavaUtils.java                    | 114 ++++++++++++++++++++++++++++++++\n",
      " eylon/java-utils.ipynb                  |   6 +-\n",
      " eylon/submit.ipynb                      |  36 ++++++++++\n",
      " 6 files changed, 239 insertions(+), 2 deletions(-)\n",
      " create mode 100644 13-turing-machine/13-turing-intro.ipynb\n",
      " create mode 100644 13-turing-machine/turing.ipynb\n",
      " create mode 100644 eylon/Config.java\n",
      " create mode 100644 eylon/submit.ipynb\n",
      "\n",
      "\n"
     ]
    },
    {
     "name": "stderr",
     "output_type": "stream",
     "text": [
      "To https://github.com/eylon-holon/java-abc\n",
      "   694b01a..d6b272c  david-madany -> david-madany\n"
     ]
    }
   ],
   "source": [
    "from eylon.core import *\n",
    "store_all_changes_to_github()\n",
    "get_next_lesson()"
   ]
  }
 ],
 "metadata": {
  "kernelspec": {
   "display_name": "Python 3",
   "language": "python",
   "name": "python3"
  },
  "language_info": {
   "codemirror_mode": {
    "name": "ipython",
    "version": 3
   },
   "file_extension": ".py",
   "mimetype": "text/x-python",
   "name": "python",
   "nbconvert_exporter": "python",
   "pygments_lexer": "ipython3",
   "version": "3.12.1"
  }
 },
 "nbformat": 4,
 "nbformat_minor": 2
}
