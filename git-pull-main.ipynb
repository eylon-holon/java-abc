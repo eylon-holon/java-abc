{
 "cells": [
  {
   "cell_type": "code",
   "execution_count": 1,
   "metadata": {},
   "outputs": [
    {
     "name": "stdout",
     "output_type": "stream",
     "text": [
      "Already up to date.\n",
      "\n",
      "\n",
      "[alma-kimhi a0311079] auto commit...\n",
      " 1 file changed, 41 insertions(+), 35 deletions(-)\n",
      "\n"
     ]
    },
    {
     "name": "stderr",
     "output_type": "stream",
     "text": [
      "To https://github.com/eylon-holon/java-abc\n",
      "   46811bbb..a0311079  alma-kimhi -> alma-kimhi\n"
     ]
    },
    {
     "name": "stdout",
     "output_type": "stream",
     "text": [
      "\n",
      "Merge made by the 'ort' strategy.\n",
      " .../41-matkonet/41-matkonet-2.ipynb                |  94 ++-----\n",
      " .../42-prepare/img/img_00796.png                   | Bin 0 -> 14538 bytes\n",
      " 20-formulas-and-bagruts/42-prepare/set-03.ipynb    | 160 +++++++++++\n",
      " .../43-bagrut-2025/5-27-2025.dib                   |  22 ++\n",
      " .../43-bagrut-2025/5-27-2025.ipynb                 | 312 +++++++++++++++++++++\n",
      " 5 files changed, 513 insertions(+), 75 deletions(-)\n",
      " create mode 100644 20-formulas-and-bagruts/42-prepare/img/img_00796.png\n",
      " create mode 100644 20-formulas-and-bagruts/42-prepare/set-03.ipynb\n",
      " create mode 100644 20-formulas-and-bagruts/43-bagrut-2025/5-27-2025.dib\n",
      " create mode 100644 20-formulas-and-bagruts/43-bagrut-2025/5-27-2025.ipynb\n",
      "\n",
      "\n"
     ]
    },
    {
     "name": "stderr",
     "output_type": "stream",
     "text": [
      "To https://github.com/eylon-holon/java-abc\n",
      "   a0311079..01653b85  alma-kimhi -> alma-kimhi\n"
     ]
    }
   ],
   "source": [
    "from eylon.core import *\n",
    "store_all_changes_to_github()\n",
    "get_next_lesson()"
   ]
  }
 ],
 "metadata": {
  "kernelspec": {
   "display_name": "Python 3",
   "language": "python",
   "name": "python3"
  },
  "language_info": {
   "codemirror_mode": {
    "name": "ipython",
    "version": 3
   },
   "file_extension": ".py",
   "mimetype": "text/x-python",
   "name": "python",
   "nbconvert_exporter": "python",
   "pygments_lexer": "ipython3",
   "version": "3.12.1"
  }
 },
 "nbformat": 4,
 "nbformat_minor": 2
}
