{
 "cells": [
  {
   "cell_type": "code",
   "execution_count": 1,
   "metadata": {},
   "outputs": [
    {
     "name": "stdout",
     "output_type": "stream",
     "text": [
      "\n",
      "[david-madany c8b14b5] auto commit...\n",
      " 3 files changed, 46 insertions(+), 27 deletions(-)\n",
      "\n"
     ]
    },
    {
     "name": "stderr",
     "output_type": "stream",
     "text": [
      "To https://github.com/eylon-holon/java-abc\n",
      "   ea2054d..c8b14b5  david-madany -> david-madany\n"
     ]
    },
    {
     "name": "stdout",
     "output_type": "stream",
     "text": [
      "\n"
     ]
    },
    {
     "name": "stderr",
     "output_type": "stream",
     "text": [
      "From https://github.com/eylon-holon/java-abc\n",
      " * branch            main       -> FETCH_HEAD\n",
      "   02767ce..9fd68a0  main       -> origin/main\n"
     ]
    },
    {
     "name": "stdout",
     "output_type": "stream",
     "text": [
      "Merge made by the 'ort' strategy.\n",
      " 07-queue-and-stack-2/01-queue-tests.ipynb          |  96 ++++++\n",
      " 07-queue-and-stack-2/02-queue-memory-layout.dib    | 118 +++++++\n",
      " 07-queue-and-stack-2/02-queue-memory-layout.ipynb  | 168 ++++++++++\n",
      " 07-queue-and-stack-2/03-basic-memory-layout.dib    | 103 ++++++\n",
      " 07-queue-and-stack-2/03-basic-memory-layout.ipynb  | 129 ++++++++\n",
      " .../03-basic-memory-layout.solution.dib            | 132 ++++++++\n",
      " 07-queue-and-stack-2/04-layout-to-code.dib         | 357 +++++++++++++++++++++\n",
      " 07-queue-and-stack-2/04-layout-to-code.ipynb       | 196 +++++++++++\n",
      " .../04-layout-to-code.solution.ipynb               | 302 +++++++++++++++++\n",
      " 07-queue-and-stack-2/10-find-element.ipynb         |  99 ++++++\n",
      " .../10-iterate-them.ipynb                          |  88 +++--\n",
      " 07-queue-and-stack-2/Node.ipynb                    |  68 ++++\n",
      " 07-queue-and-stack-2/Queue.ipynb                   |  69 ++++\n",
      " 07-queue-and-stack-2/Stack.ipynb                   |  56 ++++\n",
      " 07-queue-and-stack-2/iterate.ipynb                 |  73 +++++\n",
      " 07-queue-and-stack-2/queues.ipynb                  |  64 ++++\n",
      " 08-generics/10-find-element.ipynb                  | 216 +++++++++++++\n",
      " 08-generics/10-find-element.solution.ipynb         | 264 +++++++++++++++\n",
      " 08-generics/Node.ipynb                             |  72 +++++\n",
      " 08-generics/Queue.ipynb                            |  69 ++++\n",
      " 08-generics/Stack.ipynb                            |  56 ++++\n",
      " 08-generics/iterate.ipynb                          |  73 +++++\n",
      " 08-generics/queues.ipynb                           |  54 ++++\n",
      " 10-fsm/10-fsm-a03.dib                              |  27 ++\n",
      " 10-fsm/10-fsm-a03.ipynb                            | 169 ++++++++++\n",
      " 10-fsm/fsm.ipynb                                   |  19 +-\n",
      " 10-fsm/img/10-fsm-a03-note-01.png                  | Bin 0 -> 113456 bytes\n",
      " 10-fsm/img/10-fsm-a03-q01.png                      | Bin 0 -> 25345 bytes\n",
      " 10-fsm/img/10-fsm-a03-q02.png                      | Bin 0 -> 44304 bytes\n",
      " 10-fsm/img/10-fsm-a03-q03.png                      | Bin 0 -> 18225 bytes\n",
      " 10-fsm/img/10-fsm-a03-q04.png                      | Bin 0 -> 8337 bytes\n",
      " 10-fsm/img/10-fsm-a03-q05-q06.png                  | Bin 0 -> 18210 bytes\n",
      " 11-fsm-nondetermenistic/11-nfsm-intro.dib          |  79 +++++\n",
      " 11-fsm-nondetermenistic/11-nfsm-intro.ipynb        | 136 ++++++++\n",
      " 11-fsm-nondetermenistic/fsm.ipynb                  |  57 ++++\n",
      " .../img/11-nfsm-a01-note-01.png                    | Bin 0 -> 41181 bytes\n",
      " .../img/11-nfsm-a01-note-02.png                    | Bin 0 -> 9711 bytes\n",
      " 11-fsm-nondetermenistic/img/11-nfsm-a01-q02.png    | Bin 0 -> 15704 bytes\n",
      " eylon/JavaUtils.java                               |   3 +-\n",
      " j-core/fsm/DetermenisticFsm.java                   | 213 ++++++++++++\n",
      " j-core/fsm/DibFile.java                            |  63 ++++\n",
      " j-core/fsm/FSM.java                                | 225 ++-----------\n",
      " j-core/fsm/FsmFromMermaid.java                     |  20 +-\n",
      " j-core/fsm/FsmFromMermaid2.java                    |  21 ++\n",
      " j-core/fsm/FsmParser.java                          |  61 ++--\n",
      " j-core/fsm/MermaidFile.java                        |   2 +-\n",
      " j-core/fsm/MermaidFile2.java                       | 160 +++++++++\n",
      " j-core/fsm/NondetermenisticFsm.java                | 256 +++++++++++++++\n",
      " lib/snakeyaml-2.3.jar                              | Bin 0 -> 342152 bytes\n",
      " 49 files changed, 4131 insertions(+), 302 deletions(-)\n",
      " create mode 100644 07-queue-and-stack-2/01-queue-tests.ipynb\n",
      " create mode 100644 07-queue-and-stack-2/02-queue-memory-layout.dib\n",
      " create mode 100644 07-queue-and-stack-2/02-queue-memory-layout.ipynb\n",
      " create mode 100644 07-queue-and-stack-2/03-basic-memory-layout.dib\n",
      " create mode 100644 07-queue-and-stack-2/03-basic-memory-layout.ipynb\n",
      " create mode 100644 07-queue-and-stack-2/03-basic-memory-layout.solution.dib\n",
      " create mode 100644 07-queue-and-stack-2/04-layout-to-code.dib\n",
      " create mode 100644 07-queue-and-stack-2/04-layout-to-code.ipynb\n",
      " create mode 100644 07-queue-and-stack-2/04-layout-to-code.solution.ipynb\n",
      " create mode 100644 07-queue-and-stack-2/10-find-element.ipynb\n",
      " rename {05-queues => 07-queue-and-stack-2}/10-iterate-them.ipynb (62%)\n",
      " create mode 100644 07-queue-and-stack-2/Node.ipynb\n",
      " create mode 100644 07-queue-and-stack-2/Queue.ipynb\n",
      " create mode 100644 07-queue-and-stack-2/Stack.ipynb\n",
      " create mode 100644 07-queue-and-stack-2/iterate.ipynb\n",
      " create mode 100644 07-queue-and-stack-2/queues.ipynb\n",
      " create mode 100644 08-generics/10-find-element.ipynb\n",
      " create mode 100644 08-generics/10-find-element.solution.ipynb\n",
      " create mode 100644 08-generics/Node.ipynb\n",
      " create mode 100644 08-generics/Queue.ipynb\n",
      " create mode 100644 08-generics/Stack.ipynb\n",
      " create mode 100644 08-generics/iterate.ipynb\n",
      " create mode 100644 08-generics/queues.ipynb\n",
      " create mode 100644 10-fsm/10-fsm-a03.dib\n",
      " create mode 100644 10-fsm/10-fsm-a03.ipynb\n",
      " create mode 100644 10-fsm/img/10-fsm-a03-note-01.png\n",
      " create mode 100644 10-fsm/img/10-fsm-a03-q01.png\n",
      " create mode 100644 10-fsm/img/10-fsm-a03-q02.png\n",
      " create mode 100644 10-fsm/img/10-fsm-a03-q03.png\n",
      " create mode 100644 10-fsm/img/10-fsm-a03-q04.png\n",
      " create mode 100644 10-fsm/img/10-fsm-a03-q05-q06.png\n",
      " create mode 100644 11-fsm-nondetermenistic/11-nfsm-intro.dib\n",
      " create mode 100644 11-fsm-nondetermenistic/11-nfsm-intro.ipynb\n",
      " create mode 100644 11-fsm-nondetermenistic/fsm.ipynb\n",
      " create mode 100644 11-fsm-nondetermenistic/img/11-nfsm-a01-note-01.png\n",
      " create mode 100644 11-fsm-nondetermenistic/img/11-nfsm-a01-note-02.png\n",
      " create mode 100644 11-fsm-nondetermenistic/img/11-nfsm-a01-q02.png\n",
      " create mode 100644 j-core/fsm/DetermenisticFsm.java\n",
      " create mode 100644 j-core/fsm/DibFile.java\n",
      " create mode 100644 j-core/fsm/FsmFromMermaid2.java\n",
      " create mode 100644 j-core/fsm/MermaidFile2.java\n",
      " create mode 100644 j-core/fsm/NondetermenisticFsm.java\n",
      " create mode 100644 lib/snakeyaml-2.3.jar\n",
      "\n"
     ]
    },
    {
     "name": "stderr",
     "output_type": "stream",
     "text": [
      "To https://github.com/eylon-holon/java-abc\n",
      "   c8b14b5..c742baa  david-madany -> david-madany\n"
     ]
    }
   ],
   "source": [
    "from eylon.core import *\n",
    "store_all_changes_to_github()\n",
    "get_next_lesson()"
   ]
  }
 ],
 "metadata": {
  "kernelspec": {
   "display_name": "Python 3",
   "language": "python",
   "name": "python3"
  },
  "language_info": {
   "codemirror_mode": {
    "name": "ipython",
    "version": 3
   },
   "file_extension": ".py",
   "mimetype": "text/x-python",
   "name": "python",
   "nbconvert_exporter": "python",
   "pygments_lexer": "ipython3",
   "version": "3.12.1"
  }
 },
 "nbformat": 4,
 "nbformat_minor": 2
}
