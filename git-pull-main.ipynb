{
 "cells": [
  {
   "cell_type": "markdown",
   "metadata": {},
   "source": [
    "להריץ בשביל לקבל עבודה הבא"
   ]
  },
  {
   "cell_type": "code",
   "execution_count": 1,
   "metadata": {},
   "outputs": [
    {
     "name": "stderr",
     "output_type": "stream",
     "text": [
      "From https://github.com/eylon-holon/java-abc\n",
      "   6aad07d..2cd04fc  tamar-tirosh      -> origin/tamar-tirosh\n",
      "   baeea76..270b8af  carmel-dayan      -> origin/carmel-dayan\n",
      "   a61f771..3dd546c  daniel-yakobovitz -> origin/daniel-yakobovitz\n",
      "   cda38ac..85f6782  david-madany      -> origin/david-madany\n",
      "   79fb6c7..13d2ccd  hila-atzmon       -> origin/hila-atzmon\n",
      "   48d9eef..0323a7e  linoy-netach      -> origin/linoy-netach\n",
      "   f33a86f..6479bcc  lior-frumkin      -> origin/lior-frumkin\n",
      "   cbc8439..9c44abf  main              -> origin/main\n",
      "   d5e7491..a87c2e2  noa-slavinsky     -> origin/noa-slavinsky\n",
      "   72225b5..cff6fad  orin-baot         -> origin/orin-baot\n",
      "   b2b90b2..a5d9d51  shaked-bekerman   -> origin/shaked-bekerman\n",
      "   afd4196..885e1fc  yari-moshe        -> origin/yari-moshe\n",
      "   4d23bdf..349154f  yehonatan-shafir  -> origin/yehonatan-shafir\n",
      "   506761f..14f85ff  ziv-jungmann      -> origin/ziv-jungmann\n"
     ]
    },
    {
     "name": "stdout",
     "output_type": "stream",
     "text": [
      "Updating 6aad07d..2cd04fc\n",
      "Fast-forward\n",
      " 07-queue-and-stack-2/04-layout-to-code.ipynb | 30 ++++++++++-----------------\n",
      " 07-queue-and-stack-2/10-find-element.ipynb   | 20 ++++++++++++------\n",
      " 08-generics/10-find-element.ipynb            | 25 ++++++++++++++++------\n",
      " 10-fsm/10-fsm-a02.ipynb                      | 31 +++++++++++++++++++++++++++-\n",
      " 10-fsm/10-fsm-a03.dib                        |  2 +-\n",
      " 10-fsm/10-fsm-a03.ipynb                      | 16 +++++++++-----\n",
      " 6 files changed, 86 insertions(+), 38 deletions(-)\n",
      "\n",
      "\n",
      "[tamar-tirosh 130bf48] auto commit...\n",
      " 1 file changed, 1 insertion(+), 117 deletions(-)\n",
      "\n"
     ]
    },
    {
     "name": "stderr",
     "output_type": "stream",
     "text": [
      "To https://github.com/eylon-holon/java-abc\n",
      "   2cd04fc..130bf48  tamar-tirosh -> tamar-tirosh\n"
     ]
    },
    {
     "name": "stdout",
     "output_type": "stream",
     "text": [
      "\n",
      "Merge made by the 'ort' strategy.\n",
      " 10-fsm/10-fsm-a03.solution.dib   | 4 ++--\n",
      " 10-fsm/10-fsm-a03.solution.ipynb | 8 ++++----\n",
      " 2 files changed, 6 insertions(+), 6 deletions(-)\n",
      "\n",
      "\n"
     ]
    },
    {
     "name": "stderr",
     "output_type": "stream",
     "text": [
      "To https://github.com/eylon-holon/java-abc\n",
      "   130bf48..2c8199f  tamar-tirosh -> tamar-tirosh\n"
     ]
    }
   ],
   "source": [
    "from eylon.core import *\n",
    "store_all_changes_to_github()\n",
    "get_next_lesson()"
   ]
  }
 ],
 "metadata": {
  "kernelspec": {
   "display_name": "Python 3",
   "language": "python",
   "name": "python3"
  },
  "language_info": {
   "codemirror_mode": {
    "name": "ipython",
    "version": 3
   },
   "file_extension": ".py",
   "mimetype": "text/x-python",
   "name": "python",
   "nbconvert_exporter": "python",
   "pygments_lexer": "ipython3",
   "version": "3.12.1"
  }
 },
 "nbformat": 4,
 "nbformat_minor": 2
}
