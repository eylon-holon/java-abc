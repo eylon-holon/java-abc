{
 "cells": [
  {
   "cell_type": "code",
   "execution_count": 1,
   "metadata": {},
   "outputs": [
    {
     "name": "stdout",
     "output_type": "stream",
     "text": [
      "\n",
      "[carmel-dayan 75e6c13] auto commit...\n",
      " 3 files changed, 80 insertions(+), 18 deletions(-)\n",
      "\n"
     ]
    },
    {
     "name": "stderr",
     "output_type": "stream",
     "text": [
      "To https://github.com/eylon-holon/java-abc\n",
      "   a03f38d..75e6c13  carmel-dayan -> carmel-dayan\n"
     ]
    },
    {
     "name": "stdout",
     "output_type": "stream",
     "text": [
      "\n"
     ]
    },
    {
     "name": "stderr",
     "output_type": "stream",
     "text": [
      "From https://github.com/eylon-holon/java-abc\n",
      " * branch            main       -> FETCH_HEAD\n",
      "   6ca4dbd..0e8bb2c  main       -> origin/main\n"
     ]
    },
    {
     "name": "stdout",
     "output_type": "stream",
     "text": [
      "Merge made by the 'ort' strategy.\n",
      " 05-queues/Queue.java                              |  15 +-\n",
      " 05-queues/Stack.java                              |   6 +\n",
      " 07-queue-and-stack-2/01-queue-tests.ipynb         |  96 +++++++++++++\n",
      " 07-queue-and-stack-2/02-queue-memory-layout.dib   | 118 +++++++++++++++\n",
      " 07-queue-and-stack-2/02-queue-memory-layout.ipynb | 168 ++++++++++++++++++++++\n",
      " 07-queue-and-stack-2/10-iterate-them.ipynb        | 127 ++++++++++++++++\n",
      " 07-queue-and-stack-2/Node.ipynb                   |  68 +++++++++\n",
      " 07-queue-and-stack-2/Queue.ipynb                  |  69 +++++++++\n",
      " 07-queue-and-stack-2/Stack.ipynb                  |  52 +++++++\n",
      " 07-queue-and-stack-2/queues.ipynb                 |  63 ++++++++\n",
      " j-core/fsm/FSM.java                               |  13 +-\n",
      " 11 files changed, 789 insertions(+), 6 deletions(-)\n",
      " create mode 100644 07-queue-and-stack-2/01-queue-tests.ipynb\n",
      " create mode 100644 07-queue-and-stack-2/02-queue-memory-layout.dib\n",
      " create mode 100644 07-queue-and-stack-2/02-queue-memory-layout.ipynb\n",
      " create mode 100644 07-queue-and-stack-2/10-iterate-them.ipynb\n",
      " create mode 100644 07-queue-and-stack-2/Node.ipynb\n",
      " create mode 100644 07-queue-and-stack-2/Queue.ipynb\n",
      " create mode 100644 07-queue-and-stack-2/Stack.ipynb\n",
      " create mode 100644 07-queue-and-stack-2/queues.ipynb\n",
      "\n"
     ]
    },
    {
     "name": "stderr",
     "output_type": "stream",
     "text": [
      "To https://github.com/eylon-holon/java-abc\n",
      "   75e6c13..e5ad31a  carmel-dayan -> carmel-dayan\n"
     ]
    }
   ],
   "source": [
    "from eylon.core import *\n",
    "store_all_changes_to_github()\n",
    "get_next_lesson()"
   ]
  }
 ],
 "metadata": {
  "kernelspec": {
   "display_name": "Python 3",
   "language": "python",
   "name": "python3"
  },
  "language_info": {
   "codemirror_mode": {
    "name": "ipython",
    "version": 3
   },
   "file_extension": ".py",
   "mimetype": "text/x-python",
   "name": "python",
   "nbconvert_exporter": "python",
   "pygments_lexer": "ipython3",
   "version": "3.12.1"
  }
 },
 "nbformat": 4,
 "nbformat_minor": 2
}
