{
 "cells": [
  {
   "cell_type": "code",
   "execution_count": 1,
   "metadata": {},
   "outputs": [
    {
     "name": "stderr",
     "output_type": "stream",
     "text": [
      "From https://github.com/eylon-holon/java-abc\n",
      "   81101b8..a6f321c  alma-kimhi      -> origin/alma-kimhi\n",
      "   9934e5a..ff9a436  carmel-dayan    -> origin/carmel-dayan\n",
      "   ce7073f..b3ca902  dev             -> origin/dev\n",
      "   62719ec..3dd9890  eyal-belinsky   -> origin/eyal-belinsky\n",
      "   020f236..d304c7a  hila-atzmon     -> origin/hila-atzmon\n",
      "   ce7073f..b3ca902  main            -> origin/main\n",
      "   a87c2e2..bb575a3  noa-slavinsky   -> origin/noa-slavinsky\n",
      "   672178e..f3c6574  shaked-bekerman -> origin/shaked-bekerman\n",
      "   2c8199f..d021127  tamar-tirosh    -> origin/tamar-tirosh\n"
     ]
    },
    {
     "name": "stdout",
     "output_type": "stream",
     "text": [
      "Already up to date.\n",
      "\n",
      "\n",
      "[david-madany 9aaa6d6] auto commit...\n",
      " 2 files changed, 120 insertions(+), 18 deletions(-)\n",
      "\n"
     ]
    },
    {
     "name": "stderr",
     "output_type": "stream",
     "text": [
      "To https://github.com/eylon-holon/java-abc\n",
      "   d6b272c..9aaa6d6  david-madany -> david-madany\n"
     ]
    },
    {
     "name": "stdout",
     "output_type": "stream",
     "text": [
      "\n",
      "Merge made by the 'ort' strategy.\n",
      " 20-formula-pages/20-algorithms.ipynb   |   0\n",
      " 20-formula-pages/20-array.ipynb        |   0\n",
      " 20-formula-pages/20-binary-tree.ipynb  |   0\n",
      " 20-formula-pages/20-class-object.ipynb |   0\n",
      " 20-formula-pages/20-common.ipynb       |  39 ++++\n",
      " 20-formula-pages/20-linked-list.ipynb  | 339 +++++++++++++++++++++++++++++++++\n",
      " 20-formula-pages/20-queue.ipynb        |   0\n",
      " 20-formula-pages/20-string.ipynb       |   0\n",
      " 20-formula-pages/Node.ipynb            |  72 +++++++\n",
      " 20-formula-pages/formulas.ipynb        |  35 ++++\n",
      " 10 files changed, 485 insertions(+)\n",
      " create mode 100644 20-formula-pages/20-algorithms.ipynb\n",
      " create mode 100644 20-formula-pages/20-array.ipynb\n",
      " create mode 100644 20-formula-pages/20-binary-tree.ipynb\n",
      " create mode 100644 20-formula-pages/20-class-object.ipynb\n",
      " create mode 100644 20-formula-pages/20-common.ipynb\n",
      " create mode 100644 20-formula-pages/20-linked-list.ipynb\n",
      " create mode 100644 20-formula-pages/20-queue.ipynb\n",
      " create mode 100644 20-formula-pages/20-string.ipynb\n",
      " create mode 100644 20-formula-pages/Node.ipynb\n",
      " create mode 100644 20-formula-pages/formulas.ipynb\n",
      "\n",
      "\n"
     ]
    },
    {
     "name": "stderr",
     "output_type": "stream",
     "text": [
      "To https://github.com/eylon-holon/java-abc\n",
      "   9aaa6d6..81df4a6  david-madany -> david-madany\n"
     ]
    }
   ],
   "source": [
    "from eylon.core import *\n",
    "store_all_changes_to_github()\n",
    "get_next_lesson()"
   ]
  }
 ],
 "metadata": {
  "kernelspec": {
   "display_name": "Python 3",
   "language": "python",
   "name": "python3"
  },
  "language_info": {
   "codemirror_mode": {
    "name": "ipython",
    "version": 3
   },
   "file_extension": ".py",
   "mimetype": "text/x-python",
   "name": "python",
   "nbconvert_exporter": "python",
   "pygments_lexer": "ipython3",
   "version": "3.12.1"
  }
 },
 "nbformat": 4,
 "nbformat_minor": 2
}
