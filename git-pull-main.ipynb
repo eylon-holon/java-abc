{
 "cells": [
  {
   "cell_type": "code",
   "execution_count": null,
   "metadata": {},
   "outputs": [
    {
     "name": "stderr",
     "output_type": "stream",
     "text": [
      "From https://github.com/eylon-holon/java-abc\n",
      "   d909720..327121e  alma-kimhi      -> origin/alma-kimhi\n",
      "   2351e9d..e4d1b97  carmel-dayan    -> origin/carmel-dayan\n",
      "   eb2199c..e9bcc57  eyal-belinsky   -> origin/eyal-belinsky\n",
      "   be5c2ec..9f624b2  gal-osovsky     -> origin/gal-osovsky\n",
      "   cd0f675..2c84f4e  hila-atzmon     -> origin/hila-atzmon\n",
      "   e8e427d..32c5905  main            -> origin/main\n",
      "   803b224..b43bac3  shaked-bekerman -> origin/shaked-bekerman\n",
      "   dbc495f..294fe33  tamar-tirosh    -> origin/tamar-tirosh\n",
      "   99aef9c..d3ed20f  ziv-jungmann    -> origin/ziv-jungmann\n"
     ]
    },
    {
     "name": "stdout",
     "output_type": "stream",
     "text": [
      "Already up to date.\n",
      "\n",
      "\n",
      "[gosha-smeh 537b529] auto commit...\n",
      " 1 file changed, 8 insertions(+), 35 deletions(-)\n",
      "\n"
     ]
    },
    {
     "name": "stderr",
     "output_type": "stream",
     "text": [
      "To https://github.com/eylon-holon/java-abc\n",
      "   53bfb76..537b529  gosha-smeh -> gosha-smeh\n"
     ]
    },
    {
     "name": "stdout",
     "output_type": "stream",
     "text": [
      "\n",
      "Merge made by the 'ort' strategy.\n",
      " .../20-formula-pages/20-run-time-complexity.ipynb  | 149 +++++++++++++++++++++\n",
      " .../41-matkonet/41-matkonet.dib                    |  29 +++-\n",
      " .../41-matkonet/41-matkonet.ipynb                  |  42 +++++-\n",
      " 20-formulas-and-bagruts/42-prepare/set-01.ipynb    |  88 +++++++++---\n",
      " 20-formulas-and-bagruts/42-prepare/set-02.ipynb    | 144 ++++++++++++++++++++\n",
      " 20-formulas-and-bagruts/img/img_00573.png          | Bin 14321 -> 0 bytes\n",
      " 20-formulas-and-bagruts/img/img_00598.png          | Bin 0 -> 215045 bytes\n",
      " 20-formulas-and-bagruts/img/img_00622.png          | Bin 0 -> 14313 bytes\n",
      " 20-formulas-and-bagruts/img/img_00623.png          | Bin 0 -> 24591 bytes\n",
      " 9 files changed, 434 insertions(+), 18 deletions(-)\n",
      " create mode 100644 20-formulas-and-bagruts/42-prepare/set-02.ipynb\n",
      " delete mode 100644 20-formulas-and-bagruts/img/img_00573.png\n",
      " create mode 100644 20-formulas-and-bagruts/img/img_00598.png\n",
      " create mode 100644 20-formulas-and-bagruts/img/img_00622.png\n",
      " create mode 100644 20-formulas-and-bagruts/img/img_00623.png\n",
      "\n",
      "\n"
     ]
    },
    {
     "name": "stderr",
     "output_type": "stream",
     "text": [
      "To https://github.com/eylon-holon/java-abc\n",
      "   537b529..9ca7da9  gosha-smeh -> gosha-smeh\n"
     ]
    }
   ],
   "source": [
    "from eylon.core import *\n",
    "store_all_changes_to_github()\n",
    "get_next_lesson()"
   ]
  }
 ],
 "metadata": {
  "kernelspec": {
   "display_name": "Python 3",
   "language": "python",
   "name": "python3"
  },
  "language_info": {
   "codemirror_mode": {
    "name": "ipython",
    "version": 3
   },
   "file_extension": ".py",
   "mimetype": "text/x-python",
   "name": "python",
   "nbconvert_exporter": "python",
   "pygments_lexer": "ipython3",
   "version": "3.12.1"
  }
 },
 "nbformat": 4,
 "nbformat_minor": 2
}
