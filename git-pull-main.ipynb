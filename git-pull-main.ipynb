{
 "cells": [
  {
   "cell_type": "code",
   "execution_count": 1,
   "metadata": {},
   "outputs": [
    {
     "name": "stdout",
     "output_type": "stream",
     "text": [
      "\n",
      "[noa-slavinsky 6ed403d] auto commit...\n",
      " 3 files changed, 103 insertions(+), 13 deletions(-)\n",
      "\n"
     ]
    },
    {
     "name": "stderr",
     "output_type": "stream",
     "text": [
      "remote: Permission to eylon-holon/java-abc.git denied to noa-slavinsky-ey.\n",
      "fatal: unable to access 'https://github.com/eylon-holon/java-abc/': The requested URL returned error: 403\n"
     ]
    },
    {
     "name": "stdout",
     "output_type": "stream",
     "text": [
      "\n"
     ]
    },
    {
     "name": "stderr",
     "output_type": "stream",
     "text": [
      "From https://github.com/eylon-holon/java-abc\n",
      " * branch            main       -> FETCH_HEAD\n",
      "   e436758..a1a788c  main       -> origin/main\n"
     ]
    },
    {
     "name": "stdout",
     "output_type": "stream",
     "text": [
      "Merge made by the 'ort' strategy.\n",
      " 05-queues/05-values-and-references.ipynb | 515 +++++++++++++++++++++++++++++++\n",
      " eylon/core.py                            |  18 +-\n",
      " self-grade.ipynb                         |  36 +++\n",
      " 3 files changed, 568 insertions(+), 1 deletion(-)\n",
      " create mode 100644 05-queues/05-values-and-references.ipynb\n",
      " create mode 100644 self-grade.ipynb\n",
      "\n"
     ]
    },
    {
     "name": "stderr",
     "output_type": "stream",
     "text": [
      "remote: Permission to eylon-holon/java-abc.git denied to noa-slavinsky-ey.\n",
      "fatal: unable to access 'https://github.com/eylon-holon/java-abc/': The requested URL returned error: 403\n"
     ]
    }
   ],
   "source": [
    "from eylon.core import *\n",
    "store_all_changes_to_github()\n",
    "get_next_lesson()"
   ]
  }
 ],
 "metadata": {
  "kernelspec": {
   "display_name": "Python 3",
   "language": "python",
   "name": "python3"
  },
  "language_info": {
   "codemirror_mode": {
    "name": "ipython",
    "version": 3
   },
   "file_extension": ".py",
   "mimetype": "text/x-python",
   "name": "python",
   "nbconvert_exporter": "python",
   "pygments_lexer": "ipython3",
   "version": "3.12.1"
  }
 },
 "nbformat": 4,
 "nbformat_minor": 2
}
