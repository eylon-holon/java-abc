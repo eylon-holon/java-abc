{
 "cells": [
  {
   "cell_type": "markdown",
   "metadata": {},
   "source": [
    "להריץ בשביל לקבל עבודה הבא"
   ]
  },
  {
   "cell_type": "code",
   "execution_count": null,
   "metadata": {},
   "outputs": [
    {
     "name": "stderr",
     "output_type": "stream",
     "text": [
      "From https://github.com/eylon-holon/java-abc\n",
      "   90f1081..327121e  alma-kimhi       -> origin/alma-kimhi\n",
      "   c042d08..0025059  carmel-dayan     -> origin/carmel-dayan\n",
      "   10906c4..a8e9f8f  david-madany     -> origin/david-madany\n",
      "   0cc5c23..e9bcc57  eyal-belinsky    -> origin/eyal-belinsky\n",
      "   078bd8d..dc16396  gal-alon         -> origin/gal-alon\n",
      "   af86470..53bfb76  gosha-smeh       -> origin/gosha-smeh\n",
      "   22adcfb..2c84f4e  hila-atzmon      -> origin/hila-atzmon\n",
      "   117e611..7e7b461  linoy-netach     -> origin/linoy-netach\n",
      "   7ffdeec..ac39916  main             -> origin/main\n",
      "   fb1d788..5c40af3  noa-slavinsky    -> origin/noa-slavinsky\n",
      "   9dbf7f3..e12e5c4  orin-baot        -> origin/orin-baot\n",
      "   4335f4a..b43bac3  shaked-bekerman  -> origin/shaked-bekerman\n",
      "   2e20d73..294fe33  tamar-tirosh     -> origin/tamar-tirosh\n",
      "   2f9b43c..02892dd  yari-moshe       -> origin/yari-moshe\n",
      "   34f420c..3d56651  yehonatan-shafir -> origin/yehonatan-shafir\n",
      "   c6876a4..d3ed20f  ziv-jungmann     -> origin/ziv-jungmann\n"
     ]
    },
    {
     "name": "stdout",
     "output_type": "stream",
     "text": [
      "Already up to date.\n",
      "\n",
      "\n",
      "[gal-osovsky e3e385e] auto commit...\n",
      " 1 file changed, 338 insertions(+), 5 deletions(-)\n",
      "\n"
     ]
    },
    {
     "name": "stderr",
     "output_type": "stream",
     "text": [
      "To https://github.com/eylon-holon/java-abc\n",
      "   be5c2ec..e3e385e  gal-osovsky -> gal-osovsky\n"
     ]
    },
    {
     "name": "stdout",
     "output_type": "stream",
     "text": [
      "\n",
      "Merge made by the 'ort' strategy.\n",
      " .../20-formula-pages/20---index.dib                |  29 +-\n",
      " .../20-formula-pages/20--common.ipynb              |   3 +\n",
      " .../20-formula-pages/20-linked-list.ipynb          |  52 +-\n",
      " .../20-formula-pages/20-queue.ipynb                |  34 +-\n",
      " .../20-formula-pages/_to-add.dib                   |  15 +\n",
      " .../30-modelim-pages/30-modelim-defs.dib           |  14 +-\n",
      " .../40-mikud/40-mikud-matkonet.dib                 | 102 ++-\n",
      " .../40-mikud/40-mikud-matkonet.ipynb               | 160 ++++-\n",
      " .../41-matkonet/41-matkonet.dib                    | 127 ++++\n",
      " .../41-matkonet/41-matkonet.ipynb                  | 690 +++++++++++++++++++++\n",
      " 20-formulas-and-bagruts/42-prepare/set-01.ipynb    | 256 ++++++++\n",
      " 20-formulas-and-bagruts/42-prepare/set-02.ipynb    | 144 +++++\n",
      " 20-formulas-and-bagruts/core/Helpers.java          |  27 +\n",
      " 20-formulas-and-bagruts/core/Queue.java            |   4 +\n",
      " 20-formulas-and-bagruts/formulas.ipynb             |  13 +-\n",
      " 20-formulas-and-bagruts/{40-mikud => }/fsm.ipynb   |   8 +-\n",
      " 20-formulas-and-bagruts/img/img_00363.png          | Bin 87112 -> 0 bytes\n",
      " 20-formulas-and-bagruts/img/img_00389.png          | Bin 0 -> 48852 bytes\n",
      " 20-formulas-and-bagruts/img/img_00395.png          | Bin 0 -> 13177 bytes\n",
      " 20-formulas-and-bagruts/img/img_00405.png          | Bin 33845 -> 0 bytes\n",
      " 20-formulas-and-bagruts/img/img_00407.png          | Bin 0 -> 5388 bytes\n",
      " 20-formulas-and-bagruts/img/img_00413.png          | Bin 0 -> 33310 bytes\n",
      " 20-formulas-and-bagruts/img/img_00423.png          | Bin 0 -> 13120 bytes\n",
      " 20-formulas-and-bagruts/img/img_00425.png          | Bin 0 -> 16297 bytes\n",
      " 20-formulas-and-bagruts/img/img_00426.png          | Bin 0 -> 32035 bytes\n",
      " 20-formulas-and-bagruts/img/img_00427.png          | Bin 0 -> 60208 bytes\n",
      " 20-formulas-and-bagruts/img/img_00500.png          | Bin 0 -> 39003 bytes\n",
      " 20-formulas-and-bagruts/img/img_00501.png          | Bin 0 -> 3630 bytes\n",
      " 20-formulas-and-bagruts/img/img_00502.png          | Bin 0 -> 2772 bytes\n",
      " 20-formulas-and-bagruts/img/img_00503.png          | Bin 0 -> 8151 bytes\n",
      " 20-formulas-and-bagruts/img/img_00553.png          | Bin 0 -> 55229 bytes\n",
      " 20-formulas-and-bagruts/img/img_00554.png          | Bin 0 -> 4967 bytes\n",
      " 20-formulas-and-bagruts/img/img_00555.png          | Bin 0 -> 19262 bytes\n",
      " 20-formulas-and-bagruts/img/img_00556.png          | Bin 0 -> 44423 bytes\n",
      " 20-formulas-and-bagruts/img/img_00557.png          | Bin 0 -> 4265 bytes\n",
      " 20-formulas-and-bagruts/img/img_00562.png          | Bin 0 -> 46935 bytes\n",
      " 20-formulas-and-bagruts/img/img_00564.png          | Bin 0 -> 34001 bytes\n",
      " 20-formulas-and-bagruts/img/img_00568.png          | Bin 0 -> 108123 bytes\n",
      " 20-formulas-and-bagruts/img/img_00570.png          | Bin 0 -> 20853 bytes\n",
      " 20-formulas-and-bagruts/img/img_00571.png          | Bin 0 -> 3902 bytes\n",
      " 20-formulas-and-bagruts/img/img_00572.png          | Bin 0 -> 51626 bytes\n",
      " 20-formulas-and-bagruts/img/img_00574.png          | Bin 0 -> 33595 bytes\n",
      " 20-formulas-and-bagruts/img/img_00575.png          | Bin 0 -> 56112 bytes\n",
      " 20-formulas-and-bagruts/img/img_00589.png          | Bin 0 -> 85042 bytes\n",
      " 20-formulas-and-bagruts/img/img_00590.png          | Bin 0 -> 9249 bytes\n",
      " 20-formulas-and-bagruts/img/img_00591.png          | Bin 0 -> 68180 bytes\n",
      " 20-formulas-and-bagruts/img/img_00592.png          | Bin 0 -> 53778 bytes\n",
      " 20-formulas-and-bagruts/img/img_00593.png          | Bin 0 -> 40596 bytes\n",
      " 20-formulas-and-bagruts/img/img_00594.png          | Bin 0 -> 71834 bytes\n",
      " 20-formulas-and-bagruts/img/img_00595.png          | Bin 0 -> 45566 bytes\n",
      " 20-formulas-and-bagruts/img/img_00596.png          | Bin 0 -> 20030 bytes\n",
      " 20-formulas-and-bagruts/img/img_00598.png          | Bin 0 -> 215045 bytes\n",
      " 20-formulas-and-bagruts/img/img_00622.png          | Bin 0 -> 14313 bytes\n",
      " 20-formulas-and-bagruts/img/img_00623.png          | Bin 0 -> 24591 bytes\n",
      " 54 files changed, 1602 insertions(+), 76 deletions(-)\n",
      " create mode 100644 20-formulas-and-bagruts/20-formula-pages/_to-add.dib\n",
      " create mode 100644 20-formulas-and-bagruts/41-matkonet/41-matkonet.dib\n",
      " create mode 100644 20-formulas-and-bagruts/41-matkonet/41-matkonet.ipynb\n",
      " create mode 100644 20-formulas-and-bagruts/42-prepare/set-01.ipynb\n",
      " create mode 100644 20-formulas-and-bagruts/42-prepare/set-02.ipynb\n",
      " rename 20-formulas-and-bagruts/{40-mikud => }/fsm.ipynb (94%)\n",
      " delete mode 100644 20-formulas-and-bagruts/img/img_00363.png\n",
      " create mode 100644 20-formulas-and-bagruts/img/img_00389.png\n",
      " create mode 100644 20-formulas-and-bagruts/img/img_00395.png\n",
      " delete mode 100644 20-formulas-and-bagruts/img/img_00405.png\n",
      " create mode 100644 20-formulas-and-bagruts/img/img_00407.png\n",
      " create mode 100644 20-formulas-and-bagruts/img/img_00413.png\n",
      " create mode 100644 20-formulas-and-bagruts/img/img_00423.png\n",
      " create mode 100644 20-formulas-and-bagruts/img/img_00425.png\n",
      " create mode 100644 20-formulas-and-bagruts/img/img_00426.png\n",
      " create mode 100644 20-formulas-and-bagruts/img/img_00427.png\n",
      " create mode 100644 20-formulas-and-bagruts/img/img_00500.png\n",
      " create mode 100644 20-formulas-and-bagruts/img/img_00501.png\n",
      " create mode 100644 20-formulas-and-bagruts/img/img_00502.png\n",
      " create mode 100644 20-formulas-and-bagruts/img/img_00503.png\n",
      " create mode 100644 20-formulas-and-bagruts/img/img_00553.png\n",
      " create mode 100644 20-formulas-and-bagruts/img/img_00554.png\n",
      " create mode 100644 20-formulas-and-bagruts/img/img_00555.png\n",
      " create mode 100644 20-formulas-and-bagruts/img/img_00556.png\n",
      " create mode 100644 20-formulas-and-bagruts/img/img_00557.png\n",
      " create mode 100644 20-formulas-and-bagruts/img/img_00562.png\n",
      " create mode 100644 20-formulas-and-bagruts/img/img_00564.png\n",
      " create mode 100644 20-formulas-and-bagruts/img/img_00568.png\n",
      " create mode 100644 20-formulas-and-bagruts/img/img_00570.png\n",
      " create mode 100644 20-formulas-and-bagruts/img/img_00571.png\n",
      " create mode 100644 20-formulas-and-bagruts/img/img_00572.png\n",
      " create mode 100644 20-formulas-and-bagruts/img/img_00574.png\n",
      " create mode 100644 20-formulas-and-bagruts/img/img_00575.png\n",
      " create mode 100644 20-formulas-and-bagruts/img/img_00589.png\n",
      " create mode 100644 20-formulas-and-bagruts/img/img_00590.png\n",
      " create mode 100644 20-formulas-and-bagruts/img/img_00591.png\n",
      " create mode 100644 20-formulas-and-bagruts/img/img_00592.png\n",
      " create mode 100644 20-formulas-and-bagruts/img/img_00593.png\n",
      " create mode 100644 20-formulas-and-bagruts/img/img_00594.png\n",
      " create mode 100644 20-formulas-and-bagruts/img/img_00595.png\n",
      " create mode 100644 20-formulas-and-bagruts/img/img_00596.png\n",
      " create mode 100644 20-formulas-and-bagruts/img/img_00598.png\n",
      " create mode 100644 20-formulas-and-bagruts/img/img_00622.png\n",
      " create mode 100644 20-formulas-and-bagruts/img/img_00623.png\n",
      "\n",
      "\n"
     ]
    },
    {
     "name": "stderr",
     "output_type": "stream",
     "text": [
      "To https://github.com/eylon-holon/java-abc\n",
      "   e3e385e..9f624b2  gal-osovsky -> gal-osovsky\n"
     ]
    }
   ],
   "source": [
    "from eylon.core import *\n",
    "store_all_changes_to_github()\n",
    "get_next_lesson()"
   ]
  }
 ],
 "metadata": {
  "kernelspec": {
   "display_name": "Python 3",
   "language": "python",
   "name": "python3"
  },
  "language_info": {
   "codemirror_mode": {
    "name": "ipython",
    "version": 3
   },
   "file_extension": ".py",
   "mimetype": "text/x-python",
   "name": "python",
   "nbconvert_exporter": "python",
   "pygments_lexer": "ipython3",
   "version": "3.12.1"
  }
 },
 "nbformat": 4,
 "nbformat_minor": 2
}
