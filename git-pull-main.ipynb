{
 "cells": [
  {
   "cell_type": "code",
   "execution_count": null,
   "metadata": {
    "dotnet_interactive": {
     "language": "csharp"
    },
    "polyglot_notebook": {
     "kernelName": "csharp"
    }
   },
   "outputs": [
    {
     "name": "stdout",
     "output_type": "stream",
     "text": [
      "\n",
      "[lior-frumkin 9ebec00] auto commit...\n",
      " 2 files changed, 8 insertions(+), 35 deletions(-)\n",
      "\n"
     ]
    },
    {
     "name": "stderr",
     "output_type": "stream",
     "text": [
      "To https://github.com/eylon-holon/java-abc\n",
      "   7de41db..9ebec00  lior-frumkin -> lior-frumkin\n"
     ]
    },
    {
     "name": "stdout",
     "output_type": "stream",
     "text": [
      "\n"
     ]
    },
    {
     "name": "stderr",
     "output_type": "stream",
     "text": [
      "From https://github.com/eylon-holon/java-abc\n",
      " * branch            main       -> FETCH_HEAD\n",
      "   4984a02..9fd68a0  main       -> origin/main\n"
     ]
    },
    {
     "name": "stdout",
     "output_type": "stream",
     "text": [
      "Merge made by the 'ort' strategy.\n",
      " 10-fsm/10-fsm-a03.dib                              |  27 +++\n",
      " 10-fsm/10-fsm-a03.ipynb                            | 169 ++++++++++++++\n",
      " 10-fsm/fsm.ipynb                                   |  19 +-\n",
      " 10-fsm/img/10-fsm-a03-note-01.png                  | Bin 0 -> 113456 bytes\n",
      " 10-fsm/img/10-fsm-a03-q01.png                      | Bin 0 -> 25345 bytes\n",
      " 10-fsm/img/10-fsm-a03-q02.png                      | Bin 0 -> 44304 bytes\n",
      " 10-fsm/img/10-fsm-a03-q03.png                      | Bin 0 -> 18225 bytes\n",
      " 10-fsm/img/10-fsm-a03-q04.png                      | Bin 0 -> 8337 bytes\n",
      " 10-fsm/img/10-fsm-a03-q05-q06.png                  | Bin 0 -> 18210 bytes\n",
      " 11-fsm-nondetermenistic/11-nfsm-intro.dib          |  79 +++++++\n",
      " 11-fsm-nondetermenistic/11-nfsm-intro.ipynb        | 136 +++++++++++\n",
      " 11-fsm-nondetermenistic/fsm.ipynb                  |  57 +++++\n",
      " .../img/11-nfsm-a01-note-01.png                    | Bin 0 -> 41181 bytes\n",
      " .../img/11-nfsm-a01-note-02.png                    | Bin 0 -> 9711 bytes\n",
      " 11-fsm-nondetermenistic/img/11-nfsm-a01-q02.png    | Bin 0 -> 15704 bytes\n",
      " j-core/fsm/DetermenisticFsm.java                   | 213 +++++++++++++++++\n",
      " j-core/fsm/DibFile.java                            |  63 +++++\n",
      " j-core/fsm/FSM.java                                | 228 ++----------------\n",
      " j-core/fsm/FsmFromMermaid.java                     |  20 +-\n",
      " j-core/fsm/FsmFromMermaid2.java                    |  21 ++\n",
      " j-core/fsm/FsmParser.java                          |  61 ++---\n",
      " j-core/fsm/MermaidFile.java                        |   2 +-\n",
      " j-core/fsm/MermaidFile2.java                       | 160 +++++++++++++\n",
      " j-core/fsm/NondetermenisticFsm.java                | 256 +++++++++++++++++++++\n",
      " lib/snakeyaml-2.3.jar                              | Bin 0 -> 342152 bytes\n",
      " 25 files changed, 1255 insertions(+), 256 deletions(-)\n",
      " create mode 100644 10-fsm/10-fsm-a03.dib\n",
      " create mode 100644 10-fsm/10-fsm-a03.ipynb\n",
      " create mode 100644 10-fsm/img/10-fsm-a03-note-01.png\n",
      " create mode 100644 10-fsm/img/10-fsm-a03-q01.png\n",
      " create mode 100644 10-fsm/img/10-fsm-a03-q02.png\n",
      " create mode 100644 10-fsm/img/10-fsm-a03-q03.png\n",
      " create mode 100644 10-fsm/img/10-fsm-a03-q04.png\n",
      " create mode 100644 10-fsm/img/10-fsm-a03-q05-q06.png\n",
      " create mode 100644 11-fsm-nondetermenistic/11-nfsm-intro.dib\n",
      " create mode 100644 11-fsm-nondetermenistic/11-nfsm-intro.ipynb\n",
      " create mode 100644 11-fsm-nondetermenistic/fsm.ipynb\n",
      " create mode 100644 11-fsm-nondetermenistic/img/11-nfsm-a01-note-01.png\n",
      " create mode 100644 11-fsm-nondetermenistic/img/11-nfsm-a01-note-02.png\n",
      " create mode 100644 11-fsm-nondetermenistic/img/11-nfsm-a01-q02.png\n",
      " create mode 100644 j-core/fsm/DetermenisticFsm.java\n",
      " create mode 100644 j-core/fsm/DibFile.java\n",
      " create mode 100644 j-core/fsm/FsmFromMermaid2.java\n",
      " create mode 100644 j-core/fsm/MermaidFile2.java\n",
      " create mode 100644 j-core/fsm/NondetermenisticFsm.java\n",
      " create mode 100644 lib/snakeyaml-2.3.jar\n",
      "\n"
     ]
    },
    {
     "name": "stderr",
     "output_type": "stream",
     "text": [
      "To https://github.com/eylon-holon/java-abc\n",
      "   9ebec00..f4d6746  lior-frumkin -> lior-frumkin\n"
     ]
    }
   ],
   "source": [
    "from eylon.core import *\n",
    "store_all_changes_to_github()\n",
    "get_next_lesson()"
   ]
  }
 ],
 "metadata": {
  "kernelspec": {
   "display_name": "Python 3",
   "language": "python",
   "name": "python3"
  },
  "language_info": {
   "codemirror_mode": {
    "name": "ipython",
    "version": 3
   },
   "file_extension": ".py",
   "mimetype": "text/x-python",
   "name": "python",
   "nbconvert_exporter": "python",
   "pygments_lexer": "ipython3",
   "version": "3.12.1"
  },
  "polyglot_notebook": {
   "kernelInfo": {
    "defaultKernelName": "csharp",
    "items": [
     {
      "aliases": [],
      "name": "csharp"
     }
    ]
   }
  }
 },
 "nbformat": 4,
 "nbformat_minor": 2
}
