{
 "cells": [
  {
   "cell_type": "code",
   "execution_count": null,
   "metadata": {},
   "outputs": [
    {
     "name": "stdout",
     "output_type": "stream",
     "text": [
      "Already up to date.\n",
      "\n",
      "\n",
      "[alma-kimhi 1e0f23db] auto commit...\n",
      " 1 file changed, 35 insertions(+), 19 deletions(-)\n",
      "\n"
     ]
    },
    {
     "name": "stderr",
     "output_type": "stream",
     "text": [
      "To https://github.com/eylon-holon/java-abc\n",
      "   e283cb36..1e0f23db  alma-kimhi -> alma-kimhi\n"
     ]
    },
    {
     "name": "stdout",
     "output_type": "stream",
     "text": [
      "\n",
      "Merge made by the 'ort' strategy.\n",
      " 14-turing-machine-2/14-turing-intro.dib   | 216 +++++++++++++++++\n",
      " 14-turing-machine-2/14-turing-intro.ipynb | 383 ++++++++++++++++++++++++++++++\n",
      " 14-turing-machine-2/fsm.ipynb             |  47 ++++\n",
      " 14-turing-machine-2/img/img_00736.png     | Bin 0 -> 25204 bytes\n",
      " 14-turing-machine-2/img/img_00737.png     | Bin 0 -> 33141 bytes\n",
      " 14-turing-machine-2/img/img_00738.png     | Bin 0 -> 31450 bytes\n",
      " 14-turing-machine-2/img/img_00739.png     | Bin 0 -> 31231 bytes\n",
      " 14-turing-machine-2/img/img_00740.png     | Bin 0 -> 28428 bytes\n",
      " 14-turing-machine-2/img/img_00741.png     | Bin 0 -> 31260 bytes\n",
      " 14-turing-machine-2/img/img_00742.png     | Bin 0 -> 16667 bytes\n",
      " 14-turing-machine-2/img/img_00743.png     | Bin 0 -> 29520 bytes\n",
      " 14-turing-machine-2/img/img_00744.png     | Bin 0 -> 18423 bytes\n",
      " 14-turing-machine-2/img/img_00745.png     | Bin 0 -> 19385 bytes\n",
      " 14-turing-machine-2/img/img_00746.png     | Bin 0 -> 17755 bytes\n",
      " 14-turing-machine-2/img/img_00747.png     | Bin 0 -> 38469 bytes\n",
      " 14-turing-machine-2/img/img_00748.png     | Bin 0 -> 28105 bytes\n",
      " 14-turing-machine-2/img/img_00749.png     | Bin 0 -> 16919 bytes\n",
      " 14-turing-machine-2/img/img_00750.png     | Bin 0 -> 42413 bytes\n",
      " 18 files changed, 646 insertions(+)\n",
      " create mode 100644 14-turing-machine-2/14-turing-intro.dib\n",
      " create mode 100644 14-turing-machine-2/14-turing-intro.ipynb\n",
      " create mode 100644 14-turing-machine-2/fsm.ipynb\n",
      " create mode 100644 14-turing-machine-2/img/img_00736.png\n",
      " create mode 100644 14-turing-machine-2/img/img_00737.png\n",
      " create mode 100644 14-turing-machine-2/img/img_00738.png\n",
      " create mode 100644 14-turing-machine-2/img/img_00739.png\n",
      " create mode 100644 14-turing-machine-2/img/img_00740.png\n",
      " create mode 100644 14-turing-machine-2/img/img_00741.png\n",
      " create mode 100644 14-turing-machine-2/img/img_00742.png\n",
      " create mode 100644 14-turing-machine-2/img/img_00743.png\n",
      " create mode 100644 14-turing-machine-2/img/img_00744.png\n",
      " create mode 100644 14-turing-machine-2/img/img_00745.png\n",
      " create mode 100644 14-turing-machine-2/img/img_00746.png\n",
      " create mode 100644 14-turing-machine-2/img/img_00747.png\n",
      " create mode 100644 14-turing-machine-2/img/img_00748.png\n",
      " create mode 100644 14-turing-machine-2/img/img_00749.png\n",
      " create mode 100644 14-turing-machine-2/img/img_00750.png\n",
      "\n",
      "\n"
     ]
    },
    {
     "name": "stderr",
     "output_type": "stream",
     "text": [
      "To https://github.com/eylon-holon/java-abc\n",
      "   1e0f23db..46811bbb  alma-kimhi -> alma-kimhi\n"
     ]
    }
   ],
   "source": [
    "from eylon.core import *\n",
    "store_all_changes_to_github()\n",
    "get_next_lesson()"
   ]
  }
 ],
 "metadata": {
  "kernelspec": {
   "display_name": "Python 3",
   "language": "python",
   "name": "python3"
  },
  "language_info": {
   "codemirror_mode": {
    "name": "ipython",
    "version": 3
   },
   "file_extension": ".py",
   "mimetype": "text/x-python",
   "name": "python",
   "nbconvert_exporter": "python",
   "pygments_lexer": "ipython3",
   "version": "3.12.1"
  }
 },
 "nbformat": 4,
 "nbformat_minor": 2
}
