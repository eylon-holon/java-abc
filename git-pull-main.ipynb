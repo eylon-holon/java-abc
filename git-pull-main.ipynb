{
 "cells": [
  {
   "cell_type": "code",
   "execution_count": 1,
   "metadata": {},
   "outputs": [
    {
     "name": "stderr",
     "output_type": "stream",
     "text": [
      "From https://github.com/eylon-holon/java-abc\n",
      "   00522b7..81101b8  alma-kimhi      -> origin/alma-kimhi\n",
      "   85f6782..27968f4  david-madany    -> origin/david-madany\n",
      "   4667ab5..62719ec  eyal-belinsky   -> origin/eyal-belinsky\n",
      "   13d2ccd..020f236  hila-atzmon     -> origin/hila-atzmon\n",
      "   6479bcc..549ecf5  lior-frumkin    -> origin/lior-frumkin\n",
      "   ca9f4a0..a87c2e2  noa-slavinsky   -> origin/noa-slavinsky\n",
      "   72225b5..cff6fad  orin-baot       -> origin/orin-baot\n",
      "   a5d9d51..672178e  shaked-bekerman -> origin/shaked-bekerman\n",
      "   2cd04fc..2c8199f  tamar-tirosh    -> origin/tamar-tirosh\n"
     ]
    },
    {
     "name": "stdout",
     "output_type": "stream",
     "text": [
      "Already up to date.\n",
      "\n",
      "\n",
      "[carmel-dayan 9934e5a] auto commit...\n",
      " 5 files changed, 316 insertions(+), 99 deletions(-)\n",
      "\n"
     ]
    },
    {
     "name": "stderr",
     "output_type": "stream",
     "text": [
      "To https://github.com/eylon-holon/java-abc\n",
      "   270b8af..9934e5a  carmel-dayan -> carmel-dayan\n"
     ]
    },
    {
     "name": "stdout",
     "output_type": "stream",
     "text": [
      "\n",
      "Already up to date.\n",
      "\n",
      "\n"
     ]
    },
    {
     "name": "stderr",
     "output_type": "stream",
     "text": [
      "Everything up-to-date\n"
     ]
    }
   ],
   "source": [
    "from eylon.core import *\n",
    "store_all_changes_to_github()\n",
    "get_next_lesson()"
   ]
  }
 ],
 "metadata": {
  "kernelspec": {
   "display_name": "Python 3",
   "language": "python",
   "name": "python3"
  },
  "language_info": {
   "codemirror_mode": {
    "name": "ipython",
    "version": 3
   },
   "file_extension": ".py",
   "mimetype": "text/x-python",
   "name": "python",
   "nbconvert_exporter": "python",
   "pygments_lexer": "ipython3",
   "version": "3.12.1"
  }
 },
 "nbformat": 4,
 "nbformat_minor": 2
}
