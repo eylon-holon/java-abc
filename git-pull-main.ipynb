{
 "cells": [
  {
   "cell_type": "code",
   "execution_count": null,
   "metadata": {},
   "outputs": [
    {
     "name": "stdout",
     "output_type": "stream",
     "text": [
      "\n",
      "On branch yari-moshe\n",
      "Your branch is up to date with 'origin/yari-moshe'.\n",
      "\n",
      "nothing to commit, working tree clean\n",
      "\n"
     ]
    },
    {
     "name": "stderr",
     "output_type": "stream",
     "text": [
      "Everything up-to-date\n"
     ]
    },
    {
     "name": "stdout",
     "output_type": "stream",
     "text": [
      "\n"
     ]
    },
    {
     "name": "stderr",
     "output_type": "stream",
     "text": [
      "From https://github.com/eylon-holon/java-abc\n",
      " * branch            main       -> FETCH_HEAD\n",
      "   7302638..545934a  main       -> origin/main\n"
     ]
    },
    {
     "name": "stdout",
     "output_type": "stream",
     "text": [
      "Merge made by the 'ort' strategy.\n",
      " 03-strings/03-strings-2.java.ipynb | 305 +++++++++++++++++++++++++++++++++++++\n",
      " 1 file changed, 305 insertions(+)\n",
      " create mode 100644 03-strings/03-strings-2.java.ipynb\n",
      "\n"
     ]
    },
    {
     "name": "stderr",
     "output_type": "stream",
     "text": [
      "To https://github.com/eylon-holon/java-abc\n",
      "   729500d..a1ea86c  yari-moshe -> yari-moshe\n"
     ]
    }
   ],
   "source": [
    "from eylon.core import *\n",
    "store_all_changes_to_github()\n",
    "get_next_lesson()"
   ]
  }
 ],
 "metadata": {
  "kernelspec": {
   "display_name": "Python 3",
   "language": "python",
   "name": "python3"
  },
  "language_info": {
   "codemirror_mode": {
    "name": "ipython",
    "version": 3
   },
   "file_extension": ".py",
   "mimetype": "text/x-python",
   "name": "python",
   "nbconvert_exporter": "python",
   "pygments_lexer": "ipython3",
   "version": "3.12.1"
  }
 },
 "nbformat": 4,
 "nbformat_minor": 2
}
