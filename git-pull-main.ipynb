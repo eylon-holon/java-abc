{
 "cells": [
  {
   "cell_type": "code",
   "execution_count": 1,
   "metadata": {
    "dotnet_interactive": {
     "language": "csharp"
    },
    "polyglot_notebook": {
     "kernelName": "csharp"
    }
   },
   "outputs": [
    {
     "name": "stderr",
     "output_type": "stream",
     "text": [
      "From https://github.com/eylon-holon/java-abc\n",
      "   e283cb36..46811bbb  alma-kimhi        -> origin/alma-kimhi\n",
      "   e4d1b973..86a0abcc  carmel-dayan      -> origin/carmel-dayan\n",
      "   77a4371b..ea710ecb  daniel-yakobovitz -> origin/daniel-yakobovitz\n",
      "   ab5ca555..d0504453  eyal-belinsky     -> origin/eyal-belinsky\n",
      "   d9fd811f..079258b2  gosha-smeh        -> origin/gosha-smeh\n",
      "   4a96cdea..d51ac5e1  hila-atzmon       -> origin/hila-atzmon\n",
      "   cef87a8c..2e028a69  linoy-netach      -> origin/linoy-netach\n",
      "   82a833c2..0830d175  main              -> origin/main\n",
      "   5c40af31..07641466  noa-slavinsky     -> origin/noa-slavinsky\n",
      "   b43bac32..b2e4a992  shaked-bekerman   -> origin/shaked-bekerman\n",
      "   844017c1..65cbad0e  tamar-tirosh      -> origin/tamar-tirosh\n",
      "   02892dd6..db0ae256  yari-moshe        -> origin/yari-moshe\n"
     ]
    },
    {
     "name": "stdout",
     "output_type": "stream",
     "text": [
      "Already up to date.\n",
      "\n",
      "\n",
      "[david-madany 558cf410] auto commit...\n",
      " 2 files changed, 17 insertions(+), 201 deletions(-)\n",
      "\n"
     ]
    },
    {
     "name": "stderr",
     "output_type": "stream",
     "text": [
      "To https://github.com/eylon-holon/java-abc\n",
      "   ec0f0e2f..558cf410  david-madany -> david-madany\n"
     ]
    },
    {
     "name": "stdout",
     "output_type": "stream",
     "text": [
      "\n",
      "Merge made by the 'ort' strategy.\n",
      " .../41-matkonet/41-matkonet-2.ipynb                |  94 ++-----\n",
      " .../42-prepare/img/img_00796.png                   | Bin 0 -> 14538 bytes\n",
      " 20-formulas-and-bagruts/42-prepare/set-03.ipynb    | 160 +++++++++++\n",
      " .../43-bagrut-2025/5-27-2025.dib                   |  22 ++\n",
      " .../43-bagrut-2025/5-27-2025.ipynb                 | 312 +++++++++++++++++++++\n",
      " 5 files changed, 513 insertions(+), 75 deletions(-)\n",
      " create mode 100644 20-formulas-and-bagruts/42-prepare/img/img_00796.png\n",
      " create mode 100644 20-formulas-and-bagruts/42-prepare/set-03.ipynb\n",
      " create mode 100644 20-formulas-and-bagruts/43-bagrut-2025/5-27-2025.dib\n",
      " create mode 100644 20-formulas-and-bagruts/43-bagrut-2025/5-27-2025.ipynb\n",
      "\n",
      "\n"
     ]
    },
    {
     "name": "stderr",
     "output_type": "stream",
     "text": [
      "To https://github.com/eylon-holon/java-abc\n",
      "   558cf410..472571fa  david-madany -> david-madany\n"
     ]
    }
   ],
   "source": [
    "from eylon.core import *\n",
    "store_all_changes_to_github()\n",
    "get_next_lesson()"
   ]
  }
 ],
 "metadata": {
  "kernelspec": {
   "display_name": "Python 3",
   "language": "python",
   "name": "python3"
  },
  "language_info": {
   "codemirror_mode": {
    "name": "ipython",
    "version": 3
   },
   "file_extension": ".py",
   "mimetype": "text/x-python",
   "name": "python",
   "nbconvert_exporter": "python",
   "pygments_lexer": "ipython3",
   "version": "3.12.1"
  },
  "polyglot_notebook": {
   "kernelInfo": {
    "defaultKernelName": "csharp",
    "items": [
     {
      "aliases": [],
      "name": "csharp"
     }
    ]
   }
  }
 },
 "nbformat": 4,
 "nbformat_minor": 2
}
