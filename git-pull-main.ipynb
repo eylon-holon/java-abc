{
 "cells": [
  {
   "cell_type": "markdown",
   "metadata": {},
   "source": [
    "להריץ בשביל לקבל עבודה הבא"
   ]
  },
  {
   "cell_type": "code",
   "execution_count": 1,
   "metadata": {},
   "outputs": [
    {
     "name": "stdout",
     "output_type": "stream",
     "text": [
      "\n",
      "[tamar-tirosh 09a8c9f] auto commit...\n",
      " 2 files changed, 151 insertions(+), 93 deletions(-)\n",
      "\n"
     ]
    },
    {
     "name": "stderr",
     "output_type": "stream",
     "text": [
      "To https://github.com/eylon-holon/java-abc\n",
      "   588b6b2..09a8c9f  tamar-tirosh -> tamar-tirosh\n"
     ]
    },
    {
     "name": "stdout",
     "output_type": "stream",
     "text": [
      "\n"
     ]
    },
    {
     "name": "stderr",
     "output_type": "stream",
     "text": [
      "From https://github.com/eylon-holon/java-abc\n",
      " * branch            main       -> FETCH_HEAD\n",
      "   3e6a5b0..ab5ce24  main       -> origin/main\n"
     ]
    },
    {
     "name": "stdout",
     "output_type": "stream",
     "text": [
      "Merge made by the 'ort' strategy.\n",
      " 05-queues/05-linked-list-a02.ipynb          | 460 +++++++++++++++++++++++++\n",
      " 05-queues/05-linked-list-a02.solution.ipynb | 513 ++++++++++++++++++++++++++++\n",
      " 10-fsm/10-fsm-a01.dib                       |  29 ++\n",
      " 10-fsm/10-fsm-a01.ipynb                     | 278 +++++++++++++++\n",
      " 10-fsm/10-fsm-intro.dib                     | 116 +++++++\n",
      " 10-fsm/10-fsm-intro.ipynb                   | 134 ++++++++\n",
      " 10-fsm/fsm.ipynb                            |  53 +++\n",
      " 10-fsm/img/10-fsm-a01-q1.png                | Bin 0 -> 14417 bytes\n",
      " 10-fsm/img/10-fsm-a01-q2.png                | Bin 0 -> 12251 bytes\n",
      " 10-fsm/img/10-fsm-a01-q3.png                | Bin 0 -> 14097 bytes\n",
      " 10-fsm/img/10-fsm-a01-q4.png                | Bin 0 -> 14278 bytes\n",
      " 10-fsm/img/10-fsm-a01-q5.png                | Bin 0 -> 17795 bytes\n",
      " 10-fsm/img/10-fsm-a01-q6.png                | Bin 0 -> 13100 bytes\n",
      " 10-fsm/img/10-fsm-a01-q7.png                | Bin 0 -> 9657 bytes\n",
      " 10-fsm/img/10-fsm-a01-q8.png                | Bin 0 -> 17929 bytes\n",
      " 10-fsm/img/10-fsm-a01-q9.png                | Bin 0 -> 16865 bytes\n",
      " j-core/fsm/FSM.java                         | 252 ++++++++++++++\n",
      " j-core/fsm/FsmFromMermaid.java              |  39 +++\n",
      " j-core/fsm/FsmParser.java                   | 196 +++++++++++\n",
      " j-core/fsm/MermaidFile.java                 | 103 ++++++\n",
      " 20 files changed, 2173 insertions(+)\n",
      " create mode 100644 05-queues/05-linked-list-a02.ipynb\n",
      " create mode 100644 05-queues/05-linked-list-a02.solution.ipynb\n",
      " create mode 100644 10-fsm/10-fsm-a01.dib\n",
      " create mode 100644 10-fsm/10-fsm-a01.ipynb\n",
      " create mode 100644 10-fsm/10-fsm-intro.dib\n",
      " create mode 100644 10-fsm/10-fsm-intro.ipynb\n",
      " create mode 100644 10-fsm/fsm.ipynb\n",
      " create mode 100644 10-fsm/img/10-fsm-a01-q1.png\n",
      " create mode 100644 10-fsm/img/10-fsm-a01-q2.png\n",
      " create mode 100644 10-fsm/img/10-fsm-a01-q3.png\n",
      " create mode 100644 10-fsm/img/10-fsm-a01-q4.png\n",
      " create mode 100644 10-fsm/img/10-fsm-a01-q5.png\n",
      " create mode 100644 10-fsm/img/10-fsm-a01-q6.png\n",
      " create mode 100644 10-fsm/img/10-fsm-a01-q7.png\n",
      " create mode 100644 10-fsm/img/10-fsm-a01-q8.png\n",
      " create mode 100644 10-fsm/img/10-fsm-a01-q9.png\n",
      " create mode 100644 j-core/fsm/FSM.java\n",
      " create mode 100644 j-core/fsm/FsmFromMermaid.java\n",
      " create mode 100644 j-core/fsm/FsmParser.java\n",
      " create mode 100644 j-core/fsm/MermaidFile.java\n",
      "\n"
     ]
    },
    {
     "name": "stderr",
     "output_type": "stream",
     "text": [
      "To https://github.com/eylon-holon/java-abc\n",
      "   09a8c9f..62efe69  tamar-tirosh -> tamar-tirosh\n"
     ]
    }
   ],
   "source": [
    "from eylon.core import *\n",
    "store_all_changes_to_github()\n",
    "get_next_lesson()"
   ]
  }
 ],
 "metadata": {
  "kernelspec": {
   "display_name": "Python 3",
   "language": "python",
   "name": "python3"
  },
  "language_info": {
   "codemirror_mode": {
    "name": "ipython",
    "version": 3
   },
   "file_extension": ".py",
   "mimetype": "text/x-python",
   "name": "python",
   "nbconvert_exporter": "python",
   "pygments_lexer": "ipython3",
   "version": "3.12.1"
  }
 },
 "nbformat": 4,
 "nbformat_minor": 2
}
