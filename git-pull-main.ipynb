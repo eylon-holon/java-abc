{
 "cells": [
  {
   "cell_type": "code",
   "execution_count": 2,
   "metadata": {},
   "outputs": [
    {
     "name": "stderr",
     "output_type": "stream",
     "text": [
      "From https://github.com/eylon-holon/java-abc\n",
      "   bdbcfdf..10906c4  david-madany -> origin/david-madany\n",
      "   189eb40..af86470  gosha-smeh   -> origin/gosha-smeh\n",
      "   c2fe8f6..1c10a15  hila-atzmon  -> origin/hila-atzmon\n",
      "   5c319f3..117e611  linoy-netach -> origin/linoy-netach\n",
      "   8e5ebb0..7ffdeec  main         -> origin/main\n",
      "   61da300..2e20d73  tamar-tirosh -> origin/tamar-tirosh\n",
      "   7c0f43c..2f9b43c  yari-moshe   -> origin/yari-moshe\n",
      "   c9fa7a6..c6876a4  ziv-jungmann -> origin/ziv-jungmann\n"
     ]
    },
    {
     "name": "stdout",
     "output_type": "stream",
     "text": [
      "Already up to date.\n",
      "\n",
      "\n",
      "On branch carmel-dayan\n",
      "Your branch is up to date with 'origin/carmel-dayan'.\n",
      "\n",
      "nothing to commit, working tree clean\n",
      "\n"
     ]
    },
    {
     "name": "stderr",
     "output_type": "stream",
     "text": [
      "Everything up-to-date\n"
     ]
    },
    {
     "name": "stdout",
     "output_type": "stream",
     "text": [
      "\n",
      "Merge made by the 'ort' strategy.\n",
      " .../20-formula-pages/20--common.ipynb              |  64 +++++++----\n",
      " .../40-mikud/40-mikud-matkonet.dib                 |  29 +++++\n",
      " .../40-mikud/40-mikud-matkonet.ipynb               | 127 ++++++++++++++++++++-\n",
      " 20-formulas-and-bagruts/40-mikud/fsm.ipynb         |  62 ++++++++++\n",
      " 20-formulas-and-bagruts/img/img_00405.png          | Bin 0 -> 33845 bytes\n",
      " 20-formulas-and-bagruts/img/img_00406.png          | Bin 0 -> 19530 bytes\n",
      " 6 files changed, 252 insertions(+), 30 deletions(-)\n",
      " create mode 100644 20-formulas-and-bagruts/40-mikud/40-mikud-matkonet.dib\n",
      " create mode 100644 20-formulas-and-bagruts/40-mikud/fsm.ipynb\n",
      " create mode 100644 20-formulas-and-bagruts/img/img_00405.png\n",
      " create mode 100644 20-formulas-and-bagruts/img/img_00406.png\n",
      "\n",
      "\n"
     ]
    },
    {
     "name": "stderr",
     "output_type": "stream",
     "text": [
      "To https://github.com/eylon-holon/java-abc\n",
      "   426422b..c042d08  carmel-dayan -> carmel-dayan\n"
     ]
    }
   ],
   "source": [
    "from eylon.core import *\n",
    "store_all_changes_to_github()\n",
    "get_next_lesson()"
   ]
  }
 ],
 "metadata": {
  "kernelspec": {
   "display_name": "Python 3",
   "language": "python",
   "name": "python3"
  },
  "language_info": {
   "codemirror_mode": {
    "name": "ipython",
    "version": 3
   },
   "file_extension": ".py",
   "mimetype": "text/x-python",
   "name": "python",
   "nbconvert_exporter": "python",
   "pygments_lexer": "ipython3",
   "version": "3.12.1"
  }
 },
 "nbformat": 4,
 "nbformat_minor": 2
}
