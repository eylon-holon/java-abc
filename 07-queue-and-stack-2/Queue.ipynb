{
 "cells": [
  {
   "cell_type": "code",
   "execution_count": 3,
   "metadata": {},
   "outputs": [],
   "source": [
    "%load Node\n",
    "\n",
    "class Queue {\n",
    "    private Node head;\n",
    "\n",
    "    public Queue() {\n",
    "    }\n",
    "\n",
    "    public boolean isEmpty() {\n",
    "        return false;\n",
    "    }\n",
    "\n",
    "    public int head() {\n",
    "        return 0;\n",
    "    }\n",
    "\n",
    "    public void insert(int value) {\n",
    "    }\n",
    "\n",
    "    public int remove() {\n",
    "        return 0;\n",
    "    }\n",
    "}\n"
   ]
  }
 ],
 "metadata": {
  "kernelspec": {
   "display_name": "Java",
   "language": "java",
   "name": "java"
  },
  "language_info": {
   "codemirror_mode": "java",
   "file_extension": ".jshell",
   "mimetype": "text/x-java-source",
   "name": "java",
   "pygments_lexer": "java",
   "version": "23+37-2369"
  }
 },
 "nbformat": 4,
 "nbformat_minor": 2
}
