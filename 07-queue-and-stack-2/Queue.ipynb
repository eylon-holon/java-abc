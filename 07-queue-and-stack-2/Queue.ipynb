{
 "cells": [
  {
   "cell_type": "code",
   "execution_count": null,
   "metadata": {},
   "outputs": [],
   "source": []
  },
  {
   "cell_type": "code",
   "execution_count": 1,
   "metadata": {},
   "outputs": [],
   "source": [
    "%load Node\n",
    "\n",
    "class Queue {\n",
    "    private Node head;\n",
    "\n",
    "    public Queue() {\n",
    "    }\n",
    "\n",
    "    public boolean isEmpty() {\n",
    "        return head == null;\n",
    "    }\n",
    "\n",
    "    public int head() {\n",
    "        return head.getValue();\n",
    "    }\n",
    "\n",
    "    public void insert(int value) {\n",
    "        Node node = new Node(value);\n",
    "        // next of a new node is always null\n",
    "\n",
    "        if (head == null) {\n",
    "            head = node;\n",
    "            return;\n",
    "        }\n",
    "\n",
    "        Node tail = head;\n",
    "        while (tail.getNext() != null) {\n",
    "            tail = tail.getNext();\n",
    "        }\n",
    "\n",
    "        tail.setNext(node);\n",
    "    }\n",
    "\n",
    "    public int remove() {\n",
    "        int value = head.getValue();\n",
    "        head = head.getNext();\n",
    "\n",
    "        return value;\n",
    "    }\n",
    "}\n"
   ]
  }
 ],
 "metadata": {
  "kernelspec": {
   "display_name": "Java",
   "language": "java",
   "name": "java"
  },
  "language_info": {
   "codemirror_mode": "java",
   "file_extension": ".jshell",
   "mimetype": "text/x-java-source",
   "name": "java",
   "pygments_lexer": "java",
   "version": "23+37-2369"
  }
 },
 "nbformat": 4,
 "nbformat_minor": 2
}
