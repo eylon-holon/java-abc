{
 "cells": [
  {
   "cell_type": "code",
   "execution_count": 9,
   "metadata": {
    "vscode": {
     "languageId": "java"
    }
   },
   "outputs": [],
   "source": [
    "void iterate(Queue que) {\n",
    "    Queue tmp = new Queue();\n",
    "\n",
    "    while (!que.isEmpty()) {\n",
    "        int x = que.remove();\n",
    "        tmp.insert(x);\n",
    "\n",
    "        print(x);\n",
    "    }\n",
    "\n",
    "    while (!tmp.isEmpty()) {\n",
    "        que.insert(tmp.remove());\n",
    "    }\n",
    "}"
   ]
  },
  {
   "cell_type": "code",
   "execution_count": 4,
   "metadata": {
    "vscode": {
     "languageId": "java"
    }
   },
   "outputs": [],
   "source": [
    "void iterate(Stack stack) {\n",
    "    Stack tmp = new Stack();\n",
    "\n",
    "    while (!stack.isEmpty()) {\n",
    "        int x = stack.pop();\n",
    "        tmp.push(x);\n",
    "\n",
    "        print(x);\n",
    "    }\n",
    "\n",
    "    while (!tmp.isEmpty()) {\n",
    "        stack.push(tmp.pop());\n",
    "    }\n",
    "}"
   ]
  }
 ],
 "metadata": {
  "kernelspec": {
   "display_name": "Java",
   "language": "java",
   "name": "java"
  },
  "language_info": {
   "codemirror_mode": "java",
   "file_extension": ".jshell",
   "mimetype": "text/x-java-source",
   "name": "Java",
   "pygments_lexer": "java",
   "version": "23+37-2369"
  }
 },
 "nbformat": 4,
 "nbformat_minor": 2
}
