{
 "cells": [
  {
   "cell_type": "markdown",
   "metadata": {},
   "source": [
    "=== S I M P L E - M E M O R Y - L A Y O U T ==="
   ]
  },
  {
   "cell_type": "code",
   "execution_count": 15,
   "metadata": {
    "vscode": {
     "languageId": "java"
    }
   },
   "outputs": [],
   "source": [
    "%load queues\n",
    "\n",
    "int num = 123;\n",
    "String str = \"ABC\";\n",
    "String str2 = \"ABC\";\n",
    "\n",
    "Queue que = new Queue();\n",
    "que.insert(10);\n",
    "que.insert(20);\n",
    "\n",
    "SHOW_MEMORY_LAYOUT(\"Basic memory layout\");"
   ]
  },
  {
   "cell_type": "markdown",
   "metadata": {},
   "source": [
    "=== M O R E - C O M P L E X - M E M O R Y - L A Y O U T ==="
   ]
  },
  {
   "cell_type": "code",
   "execution_count": 3,
   "metadata": {
    "vscode": {
     "languageId": "java"
    }
   },
   "outputs": [],
   "source": [
    "%load queues\n",
    "\n",
    "boolean contains(Queue que, int num) {\n",
    "    Queue tmp = new Queue();\n",
    "    boolean found = false;\n",
    "\n",
    "    while (!que.isEmpty()) {\n",
    "        int value = que.remove();\n",
    "        tmp.insert(value);\n",
    "\n",
    "        if (value == num) {\n",
    "            found = true;\n",
    "            SHOW_MEMORY_LAYOUT(\"contains(que: [111, 222, 333], value: 222)\");\n",
    "        }\n",
    "    }\n",
    "\n",
    "    while (!tmp.isEmpty()) {\n",
    "        que.insert(tmp.remove());\n",
    "    }\n",
    "\n",
    "    return found;\n",
    "}"
   ]
  },
  {
   "cell_type": "code",
   "execution_count": null,
   "metadata": {
    "vscode": {
     "languageId": "java"
    }
   },
   "outputs": [],
   "source": [
    "int[] numbers = new int[] {111, 222, 333};\n",
    "Queue que = queueFromArray(numbers);\n",
    "\n",
    "int num = 222;\n",
    "boolean itsThere = contains(que, num);\n",
    "\n",
    "print(itsThere);\n",
    "System.out.println(numbers);"
   ]
  }
 ],
 "metadata": {
  "kernelspec": {
   "display_name": "Java",
   "language": "java",
   "name": "java"
  },
  "language_info": {
   "codemirror_mode": "java",
   "file_extension": ".jshell",
   "mimetype": "text/x-java-source",
   "name": "Java",
   "pygments_lexer": "java",
   "version": "23+37-2369"
  }
 },
 "nbformat": 4,
 "nbformat_minor": 2
}
