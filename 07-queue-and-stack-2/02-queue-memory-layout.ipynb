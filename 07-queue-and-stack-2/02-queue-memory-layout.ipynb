{
 "cells": [
  {
   "cell_type": "markdown",
   "metadata": {},
   "source": [
    "=== S I M P L E - M E M O R Y - L A Y O U T ==="
   ]
  },
  {
   "cell_type": "code",
   "execution_count": null,
   "metadata": {
    "vscode": {
     "languageId": "java"
    }
   },
   "outputs": [],
   "source": [
    "%load queues\n",
    "\n",
    "int num = 123;\n",
    "String str = \"ABC\";\n",
    "String str2 = \"ABC\";\n",
    "\n",
    "Queue que = new Queue();\n",
    "que.insert(10);\n",
    "que.insert(20);\n",
    "\n",
    "SHOW_MEMORY_LAYOUT(\"Basic memory layout\");"
   ]
  },
  {
   "cell_type": "markdown",
   "metadata": {},
   "source": [
    "=== Q U E U E - M E M O R Y - L A Y O U T ==="
   ]
  },
  {
   "cell_type": "code",
   "execution_count": 17,
   "metadata": {
    "vscode": {
     "languageId": "java"
    }
   },
   "outputs": [],
   "source": [
    "%load queues\n",
    "\n",
    "boolean contains(Queue que, int num) {\n",
    "    Queue tmp = new Queue();\n",
    "    boolean found = false;\n",
    "\n",
    "    while (!que.isEmpty()) {\n",
    "        int value = que.remove();\n",
    "        tmp.insert(value);\n",
    "\n",
    "        if (value == num) {\n",
    "            found = true;\n",
    "            SHOW_MEMORY_LAYOUT(\"contains(que:\" + que + \", value: \" + num + \")\");\n",
    "        }\n",
    "    }\n",
    "\n",
    "    while (!tmp.isEmpty()) {\n",
    "        que.insert(tmp.remove());\n",
    "    }\n",
    "\n",
    "    return found;\n",
    "}"
   ]
  },
  {
   "cell_type": "code",
   "execution_count": null,
   "metadata": {
    "vscode": {
     "languageId": "java"
    }
   },
   "outputs": [],
   "source": [
    "int[] numbers = new int[] {111, 222, 333};\n",
    "Queue que = queueFromArray(numbers);\n",
    "\n",
    "int num = 222;\n",
    "boolean itsThere = contains(que, num);\n",
    "\n",
    "print(itsThere);\n",
    "System.out.println(numbers);"
   ]
  },
  {
   "cell_type": "code",
   "execution_count": null,
   "metadata": {
    "vscode": {
     "languageId": "java"
    }
   },
   "outputs": [],
   "source": [
    "Queue que = queueFromArray(new int[] {23, 45, 67});\n",
    "boolean itsThere = contains(que, 23);\n",
    "\n",
    "print(itsThere);"
   ]
  },
  {
   "cell_type": "markdown",
   "metadata": {},
   "source": [
    "=== S T A C K - M E M O R Y - L A Y O U T ==="
   ]
  },
  {
   "cell_type": "code",
   "execution_count": null,
   "metadata": {
    "vscode": {
     "languageId": "java"
    }
   },
   "outputs": [],
   "source": [
    "%load queues\n",
    "\n",
    "boolean contains(Stack stack, int num) {\n",
    "    return false;\n",
    "}"
   ]
  },
  {
   "cell_type": "code",
   "execution_count": null,
   "metadata": {
    "vscode": {
     "languageId": "java"
    }
   },
   "outputs": [],
   "source": [
    "Queue stack = stackFromArray(new int[] {23, 45, 67});\n",
    "boolean itsThere = contains(stack, 23);\n",
    "\n",
    "print(itsThere);"
   ]
  }
 ],
 "metadata": {
  "kernelspec": {
   "display_name": "Java",
   "language": "java",
   "name": "java"
  },
  "language_info": {
   "codemirror_mode": "java",
   "file_extension": ".jshell",
   "mimetype": "text/x-java-source",
   "name": "Java",
   "pygments_lexer": "java",
   "version": "21.0.4+7-LTS"
  }
 },
 "nbformat": 4,
 "nbformat_minor": 2
}
