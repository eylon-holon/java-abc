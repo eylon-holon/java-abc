{
 "cells": [
  {
   "cell_type": "code",
   "execution_count": 2,
   "metadata": {},
   "outputs": [],
   "source": [
    "class Student {\n",
    "    public String name;\n",
    "    public int grade;\n",
    "\n",
    "    public Student(String name, int grade) {\n",
    "        this.name = name;\n",
    "        this.grade = grade;\n",
    "    }\n",
    "}"
   ]
  },
  {
   "cell_type": "code",
   "execution_count": 3,
   "metadata": {},
   "outputs": [
    {
     "name": "stdout",
     "output_type": "stream",
     "text": [
      "MEMORY LAYOUT FOR:  Q-01 \n"
     ]
    }
   ],
   "source": [
    "%load queues\n",
    "String name = \"Dani\";\n",
    "int grade = 89;\n",
    "Student stu = new Student(name, grade);\n",
    "SHOW_MEMORY_LAYOUT(\"Q-01\");"
   ]
  },
  {
   "cell_type": "code",
   "execution_count": 4,
   "metadata": {},
   "outputs": [
    {
     "name": "stdout",
     "output_type": "stream",
     "text": [
      "MEMORY LAYOUT FOR:  Q-02 \n"
     ]
    }
   ],
   "source": [
    "%load queues\n",
    "Student stu = new Student(\"Dani\", 89);\n",
    "SHOW_MEMORY_LAYOUT(\"Q-02\");"
   ]
  },
  {
   "cell_type": "code",
   "execution_count": 9,
   "metadata": {},
   "outputs": [
    {
     "name": "stdout",
     "output_type": "stream",
     "text": [
      "MEMORY LAYOUT FOR:  Q-03 \n"
     ]
    }
   ],
   "source": [
    "%load queues\n",
    "Node n1 = new Node(1);\n",
    "Node n2 = new Node(2);\n",
    "n1.setNext(n2);\n",
    "Node list = n1;\n",
    "SHOW_MEMORY_LAYOUT(\"Q-03\");"
   ]
  },
  {
   "cell_type": "code",
   "execution_count": 4,
   "metadata": {},
   "outputs": [
    {
     "name": "stdout",
     "output_type": "stream",
     "text": [
      "MEMORY LAYOUT FOR:  Q-04 \n"
     ]
    }
   ],
   "source": [
    "%load queues\n",
    "Node list = new Node(1, new Node(2));\n",
    "SHOW_MEMORY_LAYOUT(\"Q-04\");"
   ]
  },
  {
   "cell_type": "code",
   "execution_count": 21,
   "metadata": {},
   "outputs": [
    {
     "name": "stdout",
     "output_type": "stream",
     "text": [
      "MEMORY LAYOUT FOR:  Q-05 \n"
     ]
    }
   ],
   "source": [
    "%load queues\n",
    "int[] numbers = new int[] {1, 2};\n",
    "Queue que = queueFromArray(numbers);\n",
    "SHOW_MEMORY_LAYOUT(\"Q-05\");"
   ]
  },
  {
   "cell_type": "code",
   "execution_count": null,
   "metadata": {},
   "outputs": [],
   "source": [
    "%load queues\n",
    "Queue que = queueFromArray(new int[] {1, 2});\n",
    "SHOW_MEMORY_LAYOUT(\"Q-06\");"
   ]
  },
  {
   "cell_type": "code",
   "execution_count": 8,
   "metadata": {},
   "outputs": [],
   "source": [
    "%load queues\n",
    "Node n1 = new Node(1);\n",
    "Node n2 = new Node(2);\n",
    "Node[] nodes = new Node[] {n1, n2};\n",
    "SHOW_MEMORY_LAYOUT(\"Q-07\");"
   ]
  },
  {
   "cell_type": "code",
   "execution_count": null,
   "metadata": {},
   "outputs": [],
   "source": [
    "%load queues\n",
    "Node[] nodes = new Node[] {\n",
    "    new Node(1), \n",
    "    new Node(2)\n",
    "};\n",
    "SHOW_MEMORY_LAYOUT(\"Q-08\");"
   ]
  },
  {
   "cell_type": "code",
   "execution_count": 10,
   "metadata": {},
   "outputs": [
    {
     "name": "stdout",
     "output_type": "stream",
     "text": [
      "MEMORY LAYOUT FOR:  Q-09 \n"
     ]
    }
   ],
   "source": [
    "%load queues\n",
    "Node n2 = new Node(2);\n",
    "Node n1 = new Node(1, n2);\n",
    "\n",
    "Node[] nodes = new Node[] {n1, n1, n1};\n",
    "n2.setNext(n1);\n",
    "SHOW_MEMORY_LAYOUT(\"Q-09\");"
   ]
  },
  {
   "cell_type": "code",
   "execution_count": 14,
   "metadata": {},
   "outputs": [
    {
     "name": "stdout",
     "output_type": "stream",
     "text": [
      "MEMORY LAYOUT FOR:  Q-10 \n"
     ]
    }
   ],
   "source": [
    "%load queues\n",
    "Student[] students = new Student[] {\n",
    "    new Student(\"Avi\", 89),\n",
    "    new Student(\"Beni\", 91),\n",
    "    new Student(\"Avi\", 93)\n",
    "};\n",
    "SHOW_MEMORY_LAYOUT(\"Q-10\");"
   ]
  },
  {
   "cell_type": "code",
   "execution_count": 5,
   "metadata": {},
   "outputs": [
    {
     "name": "stdout",
     "output_type": "stream",
     "text": [
      "Enter student's name: carmel\n",
      "Enter student's grage: 100\n",
      "Enter student's name: 0\n",
      "Enter student's grage: \n"
     ]
    },
    {
     "ename": "EvalException",
     "evalue": "For input string: \"\"",
     "output_type": "error",
     "traceback": [
      "\u001b[1m\u001b[31m---------------------------------------------------------------------------\u001b[0m",
      "\u001b[1m\u001b[31mjava.lang.NumberFormatException: For input string: \"\"\u001b[0m",
      "\u001b[1m\u001b[31m\tat java.base/java.lang.NumberFormatException.forInputString(NumberFormatException.java:67)\u001b[0m",
      "\u001b[1m\u001b[31m\tat java.base/java.lang.Integer.parseInt(Integer.java:672)\u001b[0m",
      "\u001b[1m\u001b[31m\tat java.base/java.lang.Integer.parseInt(Integer.java:778)\u001b[0m",
      "\u001b[1m\u001b[31m\tat .inputStudent(#140:1)\u001b[0m",
      "\u001b[1m\u001b[31m\tat .(#142:1)\u001b[0m"
     ]
    }
   ],
   "source": [
    "%load queues\n",
    "\n",
    "Student inputStudent() {\n",
    "    String name = input(\"Enter student's name: \");\n",
    "    int grade = Integer.parseInt(input(\"Enter student's grage: \"));\n",
    "    return new Student(name, grade);\n",
    "}\n",
    "\n",
    "Student stu1 = inputStudent();\n",
    "Student stu2 = inputStudent();\n",
    "SHOW_MEMORY_LAYOUT(\"Q-11\");"
   ]
  }
 ],
 "metadata": {
  "kernelspec": {
   "display_name": "Java",
   "language": "java",
   "name": "java"
  },
  "language_info": {
   "codemirror_mode": "java",
   "file_extension": ".jshell",
   "mimetype": "text/x-java-source",
   "name": "java",
   "pygments_lexer": "java",
   "version": "21.0.4+7-LTS"
  }
 },
 "nbformat": 4,
 "nbformat_minor": 2
}
