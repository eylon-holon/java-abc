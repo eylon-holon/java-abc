{
 "cells": [
  {
   "cell_type": "code",
   "execution_count": 2,
   "metadata": {},
   "outputs": [],
   "source": [
    "class Student {\n",
    "    public String name;\n",
    "    public int grade;\n",
    "\n",
    "    public Student(String name, int grade) {\n",
    "        this.name = name;\n",
    "        this.grade = grade;\n",
    "    }\n",
    "}"
   ]
  },
  {
   "cell_type": "code",
   "execution_count": 5,
   "metadata": {},
   "outputs": [
    {
     "name": "stdout",
     "output_type": "stream",
     "text": [
      "Enter your name: dani\n",
      "Enter your grade: 89\n",
      "MEMORY LAYOUT FOR:  Q-01 \n"
     ]
    }
   ],
   "source": [
    "%load queues\n",
    "\n",
    "String name = input(\"Enter your name: \");\n",
    "int grade = Integer.parseInt(input(\"Enter your grade: \"));\n",
    "Student stu = new Student(name, grade);\n",
    "\n",
    "SHOW_MEMORY_LAYOUT(\"Q-01\");"
   ]
  },
  {
   "cell_type": "code",
   "execution_count": 3,
   "metadata": {},
   "outputs": [
    {
     "name": "stdout",
     "output_type": "stream",
     "text": [
      "Enter your name: dani\n",
      "Enter your grade: 89\n",
      "MEMORY LAYOUT FOR:  Q-02 \n"
     ]
    }
   ],
   "source": [
    "%load queues\n",
    "\n",
    "Student createStudent() {\n",
    "    String name = input(\"Enter your name: \");\n",
    "    int grade = Integer.parseInt(input(\"Enter your grade: \"));\n",
    "    return new Student(name, grade);\n",
    "}\n",
    "\n",
    "Student stu = createStudent();\n",
    "\n",
    "SHOW_MEMORY_LAYOUT(\"Q-02\");"
   ]
  },
  {
   "cell_type": "code",
   "execution_count": null,
   "metadata": {},
   "outputs": [],
   "source": [
    "%load queues\n",
    "\n",
    "Node n1 = new Node(1);\n",
    "Node n2 = new Node(2);\n",
    "\n",
    "\n",
    "SHOW_MEMORY_LAYOUT(\"Q-03\");"
   ]
  },
  {
   "cell_type": "code",
   "execution_count": null,
   "metadata": {},
   "outputs": [],
   "source": [
    "%load queues\n",
    "SHOW_MEMORY_LAYOUT(\"Q-04\");"
   ]
  },
  {
   "cell_type": "code",
   "execution_count": null,
   "metadata": {},
   "outputs": [],
   "source": [
    "%load queues\n",
    "SHOW_MEMORY_LAYOUT(\"Q-05\");"
   ]
  },
  {
   "cell_type": "code",
   "execution_count": null,
   "metadata": {},
   "outputs": [],
   "source": [
    "%load queues\n",
    "SHOW_MEMORY_LAYOUT(\"Q-06\");"
   ]
  },
  {
   "cell_type": "code",
   "execution_count": 8,
   "metadata": {},
   "outputs": [],
   "source": [
    "%load queues\n",
    "SHOW_MEMORY_LAYOUT(\"Q-07\");"
   ]
  },
  {
   "cell_type": "code",
   "execution_count": null,
   "metadata": {},
   "outputs": [],
   "source": [
    "%load queues\n",
    "SHOW_MEMORY_LAYOUT(\"Q-08\");"
   ]
  },
  {
   "cell_type": "code",
   "execution_count": null,
   "metadata": {},
   "outputs": [],
   "source": [
    "%load queues\n",
    "SHOW_MEMORY_LAYOUT(\"Q-09\");"
   ]
  },
  {
   "cell_type": "code",
   "execution_count": null,
   "metadata": {},
   "outputs": [],
   "source": [
    "%load queues\n",
    "SHOW_MEMORY_LAYOUT(\"Q-10\");"
   ]
  },
  {
   "cell_type": "code",
   "execution_count": null,
   "metadata": {},
   "outputs": [],
   "source": [
    "%load queues\n",
    "SHOW_MEMORY_LAYOUT(\"Q-11\");"
   ]
  }
 ],
 "metadata": {
  "kernelspec": {
   "display_name": "Java",
   "language": "java",
   "name": "java"
  },
  "language_info": {
   "codemirror_mode": "java",
   "file_extension": ".jshell",
   "mimetype": "text/x-java-source",
   "name": "java",
   "pygments_lexer": "java",
   "version": "21.0.4+7-LTS"
  }
 },
 "nbformat": 4,
 "nbformat_minor": 2
}
