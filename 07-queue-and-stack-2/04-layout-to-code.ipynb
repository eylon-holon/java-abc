{
 "cells": [
  {
   "cell_type": "code",
   "execution_count": 1,
   "metadata": {},
   "outputs": [],
   "source": [
    "class Student {\n",
    "    public String name;\n",
    "    public int grade;\n",
    "\n",
    "    public Student(String name, int grade) {\n",
    "        this.name = name;\n",
    "        this.grade = grade;\n",
    "    }\n",
    "}"
   ]
  },
  {
   "cell_type": "code",
   "execution_count": null,
   "metadata": {},
   "outputs": [],
   "source": [
    "%load queues\n",
    "\n",
    "String name = new String();\n",
    "name = \"Dani\";\n",
    "int grade = 89;\n",
    "Student s1 = new Student(name, grade);\n",
    "\n",
    "SHOW_MEMORY_LAYOUT(\"Q-01\");"
   ]
  },
  {
   "cell_type": "code",
   "execution_count": 2,
   "metadata": {},
   "outputs": [
    {
     "ename": "CompilationException",
     "evalue": "",
     "output_type": "error",
     "traceback": [
      "\u001b[1m\u001b[30m|   \u001b[1m\u001b[30mStudent s1 = new Student(\u001b[0m\u001b[1m\u001b[30m\u001b[41mDani\u001b[0m\u001b[1m\u001b[30m, 89);\u001b[0m",
      "\u001b[1m\u001b[31mcannot find symbol\u001b[0m",
      "\u001b[1m\u001b[31m  symbol:   variable Dani\u001b[0m",
      ""
     ]
    }
   ],
   "source": [
    "%load queues\n",
    "\n",
    "class Student {\n",
    "    public String name;\n",
    "    public int grade;\n",
    "\n",
    "    public Student(String name, int grade) {\n",
    "        this.name = name;\n",
    "        this.grade = grade;\n",
    "    }\n",
    "}\n",
    "\n",
    "Student s1 = new Student(Dani, 89);\n",
    "\n",
    "SHOW_MEMORY_LAYOUT(\"Q-02\");"
   ]
  },
  {
   "cell_type": "code",
   "execution_count": null,
   "metadata": {},
   "outputs": [],
   "source": [
    "%load queues\n",
    "\n",
    "Node n1 = new Node(1);\n",
    "Node n2 = new Node(2);\n",
    "n1.setNext(n2);\n",
    "\n",
    "SHOW_MEMORY_LAYOUT(\"Q-03\");"
   ]
  },
  {
   "cell_type": "code",
   "execution_count": null,
   "metadata": {},
   "outputs": [],
   "source": [
    "%load queues\n",
    "\n",
    "\n",
    "\n",
    "SHOW_MEMORY_LAYOUT(\"Q-04\");"
   ]
  },
  {
   "cell_type": "code",
   "execution_count": null,
   "metadata": {},
   "outputs": [],
   "source": [
    "%load queues\n",
    "SHOW_MEMORY_LAYOUT(\"Q-05\");"
   ]
  },
  {
   "cell_type": "code",
   "execution_count": null,
   "metadata": {},
   "outputs": [],
   "source": [
    "%load queues\n",
    "SHOW_MEMORY_LAYOUT(\"Q-06\");"
   ]
  },
  {
   "cell_type": "code",
   "execution_count": 8,
   "metadata": {},
   "outputs": [],
   "source": [
    "%load queues\n",
    "SHOW_MEMORY_LAYOUT(\"Q-07\");"
   ]
  },
  {
   "cell_type": "code",
   "execution_count": null,
   "metadata": {},
   "outputs": [],
   "source": [
    "%load queues\n",
    "SHOW_MEMORY_LAYOUT(\"Q-08\");"
   ]
  },
  {
   "cell_type": "code",
   "execution_count": null,
   "metadata": {},
   "outputs": [],
   "source": [
    "%load queues\n",
    "SHOW_MEMORY_LAYOUT(\"Q-09\");"
   ]
  },
  {
   "cell_type": "code",
   "execution_count": null,
   "metadata": {},
   "outputs": [],
   "source": [
    "%load queues\n",
    "SHOW_MEMORY_LAYOUT(\"Q-10\");"
   ]
  },
  {
   "cell_type": "code",
   "execution_count": null,
   "metadata": {},
   "outputs": [],
   "source": [
    "%load queues\n",
    "SHOW_MEMORY_LAYOUT(\"Q-11\");"
   ]
  }
 ],
 "metadata": {
  "kernelspec": {
   "display_name": "Java",
   "language": "java",
   "name": "java"
  },
  "language_info": {
   "codemirror_mode": "java",
   "file_extension": ".jshell",
   "mimetype": "text/x-java-source",
   "name": "java",
   "pygments_lexer": "java",
   "version": "21.0.4+7-LTS"
  }
 },
 "nbformat": 4,
 "nbformat_minor": 2
}
