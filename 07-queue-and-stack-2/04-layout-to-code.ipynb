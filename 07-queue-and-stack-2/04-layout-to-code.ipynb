{
 "cells": [
  {
   "cell_type": "code",
   "execution_count": null,
   "metadata": {},
   "outputs": [],
   "source": [
    "%load ../eylon/submit\n",
    "submit(\"07-04\", \"\");"
   ]
  },
  {
   "cell_type": "code",
   "execution_count": 1,
   "metadata": {},
   "outputs": [],
   "source": [
    "class Student {\n",
    "    public String name;\n",
    "    public int grade;\n",
    "\n",
    "    public Student(String name, int grade) {\n",
    "        this.name = name;\n",
    "        this.grade = grade;\n",
    "    }\n",
    "}"
   ]
  },
  {
   "cell_type": "code",
   "execution_count": 2,
   "metadata": {},
   "outputs": [
    {
     "name": "stdout",
     "output_type": "stream",
     "text": [
      "Enter your name: Dani\n",
      "Enter your grade: 89\n",
      "MEMORY LAYOUT FOR:  Q-01 \n"
     ]
    }
   ],
   "source": [
    "%load queues\n",
    "class Student {\n",
    "    public Student(String name, int grade) {\n",
    "        this.name = name;\n",
    "        this.grade = grade;\n",
    "    }\n",
    "\n",
    "    public int grade;\n",
    "    public String name;\n",
    "}\n",
    "\n",
    "void printStudent(Person p) {\n",
    "    print(p.name, p.grade);\n",
    "    SHOW_MEMORY_LAYOUT(\"Q-02: printStudent\");\n",
    "}\n",
    "\n",
    "String name = input(\"Enter your name: \");\n",
    "int grade = Integer.parseInt(input(\"Enter your grade: \"));\n",
    "Student stu = new Student(name, grade);\n",
    "SHOW_MEMORY_LAYOUT(\"Q-01\");"
   ]
  },
  {
   "cell_type": "code",
   "execution_count": 3,
   "metadata": {},
   "outputs": [
    {
     "name": "stdout",
     "output_type": "stream",
     "text": [
      "Enter your name: Dani\n",
      "Enter your grade: 89\n",
      "MEMORY LAYOUT FOR:  Q-02 \n"
     ]
    }
   ],
   "source": [
    "%load queues\n",
    "Student createStudent() {\n",
    "    String name = input(\"Enter your name: \");\n",
    "    int grade = Integer.parseInt(input(\"Enter your grade: \"));\n",
    "    return new Student(name, grade);\n",
    "}\n",
    "\n",
    "Student stu = createStudent();\n",
    "SHOW_MEMORY_LAYOUT(\"Q-02\");"
   ]
  },
  {
   "cell_type": "code",
   "execution_count": 1,
   "metadata": {},
   "outputs": [
    {
     "name": "stdout",
     "output_type": "stream",
     "text": [
      "MEMORY LAYOUT FOR:  Q-03 \n"
     ]
    }
   ],
   "source": [
    "%load queues\n",
    "Node n1 = new Node (1,  null);\n",
    "Node n2 = new Node (2, null);\n",
    "n1.setNext(n2);\n",
    "SHOW_MEMORY_LAYOUT(\"Q-03\");"
   ]
  },
  {
   "cell_type": "code",
   "execution_count": 8,
   "metadata": {},
   "outputs": [
    {
     "name": "stdout",
     "output_type": "stream",
     "text": [
      "MEMORY LAYOUT FOR:  Q-04 \n"
     ]
    }
   ],
   "source": [
    "%load queues\n",
    "Node list = new Node (1);\n",
    "list.setNext(new Node (2));\n",
    "SHOW_MEMORY_LAYOUT(\"Q-04\");"
   ]
  },
  {
   "cell_type": "code",
   "execution_count": 11,
   "metadata": {},
   "outputs": [
    {
     "name": "stdout",
     "output_type": "stream",
     "text": [
      "MEMORY LAYOUT FOR:  Q-05 \n"
     ]
    }
   ],
   "source": [
    "%load queues\n",
    "int[] numbers = new int[] {1,2};\n",
    "Queue que = queueFromArray(numbers);\n",
    "SHOW_MEMORY_LAYOUT(\"Q-05\");"
   ]
  },
  {
   "cell_type": "code",
   "execution_count": 2,
   "metadata": {},
   "outputs": [
    {
     "name": "stdout",
     "output_type": "stream",
     "text": [
      "MEMORY LAYOUT FOR:  Q-06 \n"
     ]
    }
   ],
   "source": [
    "%load queues\n",
    "Queue que = queueFromArray(new int[] {1,2});\n",
    "SHOW_MEMORY_LAYOUT(\"Q-06\");"
   ]
  },
  {
   "cell_type": "code",
   "execution_count": 3,
   "metadata": {},
   "outputs": [
    {
     "name": "stdout",
     "output_type": "stream",
     "text": [
      "MEMORY LAYOUT FOR:  Q-07 \n"
     ]
    }
   ],
   "source": [
    "%load queues\n",
    "Node n1 = new Node (1,  null);\n",
    "Node n2 = new Node (2, null);\n",
    "Node[] nodes = new Node[] {n1,n2};\n",
    "SHOW_MEMORY_LAYOUT(\"Q-07\");"
   ]
  },
  {
   "cell_type": "code",
   "execution_count": 18,
   "metadata": {},
   "outputs": [
    {
     "name": "stdout",
     "output_type": "stream",
     "text": [
      "MEMORY LAYOUT FOR:  Q-08 \n"
     ]
    }
   ],
   "source": [
    "%load queues\n",
    "Node[] nodes = new Node[] {\n",
    "    new Node (1,  null),\n",
    "    new Node (2, null)\n",
    "};\n",
    "SHOW_MEMORY_LAYOUT(\"Q-08\");"
   ]
  },
  {
   "cell_type": "code",
   "execution_count": null,
   "metadata": {},
   "outputs": [
    {
     "name": "stdout",
     "output_type": "stream",
     "text": [
      "MEMORY LAYOUT FOR:  Q-09 \n"
     ]
    }
   ],
   "source": [
    "%load queues\n",
    "Node n2 = new Node (1);\n",
    "Node n1 = new Node (2, n2);\n",
    "Node[] nodes = new Node[] {n1,n1,n1};\n",
    "n2.setNext(n1);\n",
    "SHOW_MEMORY_LAYOUT(\"Q-09\");"
   ]
  },
  {
   "cell_type": "code",
   "execution_count": 11,
   "metadata": {},
   "outputs": [
    {
     "name": "stdout",
     "output_type": "stream",
     "text": [
      "MEMORY LAYOUT FOR:  Q-10 \n"
     ]
    }
   ],
   "source": [
    "%load queues\n",
    "Student[] students = new Student[] {\n",
    "    new Student (\"Avi\",89),\n",
    "    new Student (\"Avi\",93),\n",
    "    new Student (\"Ben\",91)\n",
    "};\n",
    "SHOW_MEMORY_LAYOUT(\"Q-10\");"
   ]
  },
  {
   "cell_type": "code",
   "execution_count": 13,
   "metadata": {},
   "outputs": [
    {
     "name": "stdout",
     "output_type": "stream",
     "text": [
      "Enter your name: Avi\n",
      "Enter your grade: 23\n",
      "Enter your name: Avi\n",
      "Enter your grade: 24\n",
      "MEMORY LAYOUT FOR:  Q-11 \n"
     ]
    }
   ],
   "source": [
    "%load queues\n",
    "Student inputStudent() {\n",
    "    String name = input(\"Enter your name: \");\n",
    "    int grade = Integer.parseInt(input(\"Enter your grade: \"));\n",
    "    return new Student (name,grade);\n",
    "}\n",
    "Student stu1 = inputStudent();\n",
    "Student stu2 = inputStudent();\n",
    "SHOW_MEMORY_LAYOUT(\"Q-11\");"
   ]
  }
 ],
 "metadata": {
  "kernelspec": {
   "display_name": "Java",
   "language": "java",
   "name": "java"
  },
  "language_info": {
   "codemirror_mode": "java",
   "file_extension": ".jshell",
   "mimetype": "text/x-java-source",
   "name": "java",
   "pygments_lexer": "java",
   "version": "21.0.4+7-LTS"
  }
 },
 "nbformat": 4,
 "nbformat_minor": 2
}
