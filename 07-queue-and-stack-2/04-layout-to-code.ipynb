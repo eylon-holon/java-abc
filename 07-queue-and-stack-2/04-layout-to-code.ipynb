{
 "cells": [
  {
   "cell_type": "code",
   "execution_count": 4,
   "metadata": {
    "vscode": {
     "languageId": "java"
    }
   },
   "outputs": [],
   "source": [
    "class Student {\n",
    "    public String name;\n",
    "    public int grade;\n",
    "\n",
    "    public Student(String name, int grade) {\n",
    "        this.name = name;\n",
    "        this.grade = grade;\n",
    "    }\n",
    "}"
   ]
  },
  {
   "cell_type": "code",
   "execution_count": 15,
   "metadata": {
    "vscode": {
     "languageId": "java"
    }
   },
   "outputs": [
    {
     "name": "stdout",
     "output_type": "stream",
     "text": [
      "MEMORY LAYOUT FOR:  Q-01 \n"
     ]
    }
   ],
   "source": [
    "%load queues\n",
    "String name = \"Dani\";\n",
    "int grade = 89;\n",
    "Student stu = new Student(name, grade);\n",
    "SHOW_MEMORY_LAYOUT(\"Q-01\");"
   ]
  },
  {
   "cell_type": "code",
   "execution_count": 18,
   "metadata": {
    "vscode": {
     "languageId": "java"
    }
   },
   "outputs": [
    {
     "name": "stdout",
     "output_type": "stream",
     "text": [
      "MEMORY LAYOUT FOR:  Q-02 \n"
     ]
    }
   ],
   "source": [
    "%load queues\n",
    "Student stu = new Student(\"Dani\", 89);\n",
    "SHOW_MEMORY_LAYOUT(\"Q-02\");"
   ]
  },
  {
   "cell_type": "code",
   "execution_count": 21,
   "metadata": {
    "vscode": {
     "languageId": "java"
    }
   },
   "outputs": [
    {
     "name": "stdout",
     "output_type": "stream",
     "text": [
      "MEMORY LAYOUT FOR:  Q-03 \n"
     ]
    }
   ],
   "source": [
    "%load queues\n",
    "Node n2 = new Node(2);\n",
    "Node n1 = new Node(1, n2);\n",
    "SHOW_MEMORY_LAYOUT(\"Q-03\");"
   ]
  },
  {
   "cell_type": "code",
   "execution_count": 26,
   "metadata": {
    "vscode": {
     "languageId": "java"
    }
   },
   "outputs": [
    {
     "name": "stdout",
     "output_type": "stream",
     "text": [
      "MEMORY LAYOUT FOR:  Q-04 \n"
     ]
    }
   ],
   "source": [
    "%load queues\n",
    "Node list = new Node(1, new Node(2));\n",
    "SHOW_MEMORY_LAYOUT(\"Q-04\");"
   ]
  },
  {
   "cell_type": "code",
   "execution_count": 29,
   "metadata": {
    "vscode": {
     "languageId": "java"
    }
   },
   "outputs": [
    {
     "name": "stdout",
     "output_type": "stream",
     "text": [
      "MEMORY LAYOUT FOR:  Q-05 \n"
     ]
    }
   ],
   "source": [
    "%load queues\n",
    "var numbers = new int[] {1, 2};\n",
    "Queue que = queueFromArray(numbers);\n",
    "SHOW_MEMORY_LAYOUT(\"Q-05\");"
   ]
  },
  {
   "cell_type": "code",
   "execution_count": 3,
   "metadata": {
    "vscode": {
     "languageId": "java"
    }
   },
   "outputs": [
    {
     "name": "stdout",
     "output_type": "stream",
     "text": [
      "MEMORY LAYOUT FOR:  Q-06 \n"
     ]
    }
   ],
   "source": [
    "%load queues\n",
    "Queue que = queueFromArray(new int[] {1, 2});\n",
    "SHOW_MEMORY_LAYOUT(\"Q-06\");"
   ]
  },
  {
   "cell_type": "code",
   "execution_count": 6,
   "metadata": {
    "vscode": {
     "languageId": "java"
    }
   },
   "outputs": [
    {
     "name": "stdout",
     "output_type": "stream",
     "text": [
      "MEMORY LAYOUT FOR:  Q-07 \n"
     ]
    }
   ],
   "source": [
    "%load queues\n",
    "Node n1 = new Node(1);\n",
    "Node n2 = new Node(2);\n",
    "Node[] nodes = new Node[] {n1, n2};\n",
    "SHOW_MEMORY_LAYOUT(\"Q-07\");"
   ]
  },
  {
   "cell_type": "code",
   "execution_count": 2,
   "metadata": {
    "vscode": {
     "languageId": "java"
    }
   },
   "outputs": [
    {
     "name": "stdout",
     "output_type": "stream",
     "text": [
      "MEMORY LAYOUT FOR:  Q-08 \n"
     ]
    }
   ],
   "source": [
    "%load queues\n",
    "Node[] nodes = new Node[] {new Node(1), new Node(2)};\n",
    "SHOW_MEMORY_LAYOUT(\"Q-08\");"
   ]
  },
  {
   "cell_type": "code",
   "execution_count": 1,
   "metadata": {
    "vscode": {
     "languageId": "java"
    }
   },
   "outputs": [
    {
     "ename": "CompilationException",
     "evalue": "",
     "output_type": "error",
     "traceback": [
      "\u001b[1m\u001b[30m|   \u001b[1m\u001b[30mNode n2 = new Node(2, \u001b[0m\u001b[1m\u001b[30m\u001b[41mn1\u001b[0m\u001b[1m\u001b[30m);\u001b[0m",
      "\u001b[1m\u001b[31mcannot find symbol\u001b[0m",
      "\u001b[1m\u001b[31m  symbol:   variable n1\u001b[0m",
      ""
     ]
    }
   ],
   "source": [
    "%load queues\n",
    "Node n2 = new Node(2, n1);      // GOSHA: n1 is not defined yet\n",
    "Node n1 = new Node(1, n2);\n",
    "Node[] nodes = new Node[] {n1, n1, n1};\n",
    "SHOW_MEMORY_LAYOUT(\"Q-09\");"
   ]
  },
  {
   "cell_type": "code",
   "execution_count": 5,
   "metadata": {
    "vscode": {
     "languageId": "java"
    }
   },
   "outputs": [
    {
     "name": "stdout",
     "output_type": "stream",
     "text": [
      "MEMORY LAYOUT FOR:  Q-10 \n"
     ]
    }
   ],
   "source": [
    "%load queues\n",
    "Student[] students = new Student[] {\n",
    "    new Student(\"Avi\", 89),\n",
    "    new Student(\"Beni\", 91),\n",
    "    new Student(\"Avi\", 93)\n",
    "};\n",
    "SHOW_MEMORY_LAYOUT(\"Q-10\");"
   ]
  },
  {
   "cell_type": "code",
   "execution_count": null,
   "metadata": {
    "vscode": {
     "languageId": "java"
    }
   },
   "outputs": [
    {
     "name": "stdout",
     "output_type": "stream",
     "text": [
      "MEMORY LAYOUT FOR:  Q-11 \n"
     ]
    }
   ],
   "source": [
    "%load queues\n",
    "Student stu1 = new Student(\"Avi\", 89);\n",
    "Student stu2 = new Student(\"Avi\", 91);      // GOSHA: it will be reference to the same \"Avi\"\n",
    "SHOW_MEMORY_LAYOUT(\"Q-11\");"
   ]
  }
 ],
 "metadata": {
  "kernelspec": {
   "display_name": "Java",
   "language": "java",
   "name": "java"
  },
  "language_info": {
   "codemirror_mode": "java",
   "file_extension": ".jshell",
   "mimetype": "text/x-java-source",
   "name": "Java",
   "pygments_lexer": "java",
   "version": "23+37-2369"
  }
 },
 "nbformat": 4,
 "nbformat_minor": 2
}
