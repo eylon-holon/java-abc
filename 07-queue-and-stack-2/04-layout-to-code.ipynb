{
 "cells": [
  {
   "cell_type": "code",
   "execution_count": null,
   "metadata": {
    "vscode": {
     "languageId": "java"
    }
   },
   "outputs": [],
   "source": [
    "%load ../eylon/submit\n",
    "submit(\"07-04\", \"recheck\");"
   ]
  },
  {
   "cell_type": "code",
   "execution_count": null,
   "metadata": {
    "vscode": {
     "languageId": "java"
    }
   },
   "outputs": [],
   "source": [
    "class Student {\n",
    "    public String name;\n",
    "    public int grade;\n",
    "\n",
    "    public Student(String name, int grade) {\n",
    "        this.name = name;\n",
    "        this.grade = grade;\n",
    "    }\n",
    "}"
   ]
  },
  {
   "cell_type": "code",
   "execution_count": null,
   "metadata": {
    "vscode": {
     "languageId": "java"
    }
   },
   "outputs": [],
   "source": [
    "%load queues\n",
    "String name = \"Orin\";\n",
    "int grade = 89;\n",
    "Student stu = new Student(name, grade);\n",
    "SHOW_MEMORY_LAYOUT(\"Q-01\");"
   ]
  },
  {
   "cell_type": "code",
   "execution_count": null,
   "metadata": {
    "vscode": {
     "languageId": "java"
    }
   },
   "outputs": [],
   "source": [
    "%load queues\n",
    "Student stu = new Student(\"Dani\", 89);\n",
    "SHOW_MEMORY_LAYOUT(\"Q-02\");"
   ]
  },
  {
   "cell_type": "code",
   "execution_count": null,
   "metadata": {
    "vscode": {
     "languageId": "java"
    }
   },
   "outputs": [],
   "source": [
    "%load queues\n",
    "Node n1 = new Node(1);\n",
    "Node n2 = new Node(2);\n",
    "n1.setNext(n2);\n",
    "Node list = n1;\n",
    "SHOW_MEMORY_LAYOUT(\"Q-03\");"
   ]
  },
  {
   "cell_type": "code",
   "execution_count": null,
   "metadata": {
    "vscode": {
     "languageId": "java"
    }
   },
   "outputs": [],
   "source": [
    "%load queues\n",
    "SHOW_MEMORY_LAYOUT(\"Q-04\");"
   ]
  },
  {
   "cell_type": "code",
   "execution_count": null,
   "metadata": {
    "vscode": {
     "languageId": "java"
    }
   },
   "outputs": [],
   "source": [
    "%load queues\n",
    "SHOW_MEMORY_LAYOUT(\"Q-05\");"
   ]
  },
  {
   "cell_type": "code",
   "execution_count": null,
   "metadata": {
    "vscode": {
     "languageId": "java"
    }
   },
   "outputs": [],
   "source": [
    "%load queues\n",
    "SHOW_MEMORY_LAYOUT(\"Q-06\");"
   ]
  },
  {
   "cell_type": "code",
   "execution_count": null,
   "metadata": {
    "vscode": {
     "languageId": "java"
    }
   },
   "outputs": [],
   "source": [
    "%load queues\n",
    "SHOW_MEMORY_LAYOUT(\"Q-07\");"
   ]
  },
  {
   "cell_type": "code",
   "execution_count": null,
   "metadata": {
    "vscode": {
     "languageId": "java"
    }
   },
   "outputs": [],
   "source": [
    "%load queues\n",
    "SHOW_MEMORY_LAYOUT(\"Q-08\");"
   ]
  },
  {
   "cell_type": "code",
   "execution_count": null,
   "metadata": {
    "vscode": {
     "languageId": "java"
    }
   },
   "outputs": [],
   "source": [
    "%load queues\n",
    "SHOW_MEMORY_LAYOUT(\"Q-09\");"
   ]
  },
  {
   "cell_type": "code",
   "execution_count": null,
   "metadata": {
    "vscode": {
     "languageId": "java"
    }
   },
   "outputs": [],
   "source": [
    "%load queues\n",
    "SHOW_MEMORY_LAYOUT(\"Q-10\");"
   ]
  },
  {
   "cell_type": "code",
   "execution_count": null,
   "metadata": {
    "vscode": {
     "languageId": "java"
    }
   },
   "outputs": [],
   "source": [
    "%load queues\n",
    "SHOW_MEMORY_LAYOUT(\"Q-11\");"
   ]
  }
 ],
 "metadata": {
  "kernelspec": {
   "display_name": "Java",
   "language": "java",
   "name": "java"
  },
  "language_info": {
   "codemirror_mode": "java",
   "file_extension": ".jshell",
   "mimetype": "text/x-java-source",
   "name": "Java",
   "pygments_lexer": "java",
   "version": "21.0.4+7-LTS"
  }
 },
 "nbformat": 4,
 "nbformat_minor": 2
}
