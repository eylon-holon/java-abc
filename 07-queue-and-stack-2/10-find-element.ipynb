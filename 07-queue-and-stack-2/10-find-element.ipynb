{
 "cells": [
  {
   "cell_type": "markdown",
   "metadata": {},
   "source": [
    "=== F I N D - E L E M E N T - I N - Q U E U E ==="
   ]
  },
  {
   "cell_type": "code",
   "execution_count": 14,
   "metadata": {
    "vscode": {
     "languageId": "java"
    }
   },
   "outputs": [],
   "source": [
    "%load queues\n",
    "boolean has(Queue que, int num) {\n",
    "    Queue tmp = new Queue();\n",
    "    \n",
    "\n",
    "    while (!que.isEmpty()) {\n",
    "        int current = que.remove();\n",
    "        tmp.insert(current);\n",
    "        if (current == num) {\n",
    "            return true;\n",
    "        }\n",
    "    }\n",
    "\n",
    "    while (!tmp.isEmpty()) {\n",
    "        que.insert(tmp.remove());\n",
    "    }\n",
    "\n",
    "    return false;}"
   ]
  },
  {
   "cell_type": "code",
   "execution_count": 15,
   "metadata": {
    "vscode": {
     "languageId": "java"
    }
   },
   "outputs": [
    {
     "name": "stdout",
     "output_type": "stream",
     "text": [
      "false \n",
      "true \n",
      "30 \n",
      "40 \n"
     ]
    }
   ],
   "source": [
    "Queue que = queueFromArray(new int[] {10, 20, 30, 40});\n",
    "print(has(que, 15));\n",
    "print(has(que, 20));\n",
    "iterate(que);"
   ]
  },
  {
   "cell_type": "markdown",
   "metadata": {},
   "source": [
    "=== F I N D - E L E M E N T - I N - S T A C K ==="
   ]
  },
  {
   "cell_type": "code",
   "execution_count": 22,
   "metadata": {
    "vscode": {
     "languageId": "java"
    }
   },
   "outputs": [],
   "source": [
    "%load queues\n",
    "boolean has(Stack stack, int num) {\n",
    "    Stack tmp = new Stack();\n",
    "    boolean found = false;\n",
    "\n",
    "    while (!stack.isEmpty()) {\n",
    "        int current = stack.pop();\n",
    "        tmp.push(current);\n",
    "        if (current == num) {\n",
    "            found = true;\n",
    "        }\n",
    "    }\n",
    "\n",
    "    while (!tmp.isEmpty()) {\n",
    "        stack.push(tmp.pop());\n",
    "    }\n",
    "\n",
    "    return found;                 // GOSHA: missing implementation\n",
    "}"
   ]
  },
  {
   "cell_type": "code",
   "execution_count": 23,
   "metadata": {
    "vscode": {
     "languageId": "java"
    }
   },
   "outputs": [
    {
     "name": "stdout",
     "output_type": "stream",
     "text": [
      "false \n",
      "true \n",
      "10 \n",
      "20 \n",
      "30 \n",
      "40 \n"
     ]
    }
   ],
   "source": [
    "Stack stack = stackFromArray(new int[] {10, 20, 30, 40});\n",
    "print(has(stack, 15));\n",
    "print(has(stack, 20));\n",
    "iterate(stack);"
   ]
  }
 ],
 "metadata": {
  "kernelspec": {
   "display_name": "Java",
   "language": "java",
   "name": "java"
  },
  "language_info": {
   "codemirror_mode": "java",
   "file_extension": ".jshell",
   "mimetype": "text/x-java-source",
   "name": "Java",
   "pygments_lexer": "java",
   "version": "21.0.4+7-LTS"
  }
 },
 "nbformat": 4,
 "nbformat_minor": 2
}
