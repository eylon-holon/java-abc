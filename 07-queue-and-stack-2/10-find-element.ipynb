{
 "cells": [
  {
   "cell_type": "markdown",
   "metadata": {},
   "source": [
    "=== F I N D - E L E M E N T - I N - Q U E U E ==="
   ]
  },
  {
   "cell_type": "code",
   "execution_count": 4,
   "metadata": {},
   "outputs": [],
   "source": [
    "%load queues\n",
    "boolean has(Queue que, int num) {\n",
    "    while (que!=null){\n",
    "        if(que.head()==num)\n",
    "        return true;\n",
    "        else \n",
    "        que.remove();\n",
    "    }\n",
    "    return false;\n",
    "}"
   ]
  },
  {
   "cell_type": "code",
   "execution_count": 5,
   "metadata": {},
   "outputs": [
    {
     "ename": "EvalException",
     "evalue": "Cannot invoke \"REPL.$JShell$23$Node.getValue()\" because \"this.head\" is null",
     "output_type": "error",
     "traceback": [
      "\u001b[1m\u001b[31m---------------------------------------------------------------------------\u001b[0m",
      "\u001b[1m\u001b[31mjava.lang.NullPointerException: Cannot invoke \"REPL.$JShell$23$Node.getValue()\" because \"this.head\" is null\u001b[0m",
      "\u001b[1m\u001b[31m\tat Queue.head(#30:1)\u001b[0m",
      "\u001b[1m\u001b[31m\tat .has(#80:1)\u001b[0m",
      "\u001b[1m\u001b[31m\tat .(#110:1)\u001b[0m"
     ]
    }
   ],
   "source": [
    "Queue que = queueFromArray(new int[] {10, 20, 30, 40});\n",
    "print(has(que, 15));\n",
    "print(has(que, 20));\n",
    "iterate(que);"
   ]
  },
  {
   "cell_type": "markdown",
   "metadata": {},
   "source": [
    "=== F I N D - E L E M E N T - I N - S T A C K ==="
   ]
  },
  {
   "cell_type": "code",
   "execution_count": 4,
   "metadata": {},
   "outputs": [],
   "source": [
    "%load queues\n",
    "boolean has(Stack stack, int num) {\n",
    "    return false;\n",
    "}"
   ]
  },
  {
   "cell_type": "code",
   "execution_count": null,
   "metadata": {},
   "outputs": [],
   "source": [
    "Stack stack = stackFromArray(new int[] {10, 20, 30, 40});\n",
    "print(has(stack, 15));\n",
    "print(has(stack, 20));\n",
    "iterate(stack);"
   ]
  }
 ],
 "metadata": {
  "kernelspec": {
   "display_name": "Java",
   "language": "java",
   "name": "java"
  },
  "language_info": {
   "codemirror_mode": "java",
   "file_extension": ".jshell",
   "mimetype": "text/x-java-source",
   "name": "java",
   "pygments_lexer": "java",
   "version": "21.0.4+7-LTS"
  }
 },
 "nbformat": 4,
 "nbformat_minor": 2
}
