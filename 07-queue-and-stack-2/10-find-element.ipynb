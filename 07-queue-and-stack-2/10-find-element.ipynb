{
 "cells": [
  {
   "cell_type": "markdown",
   "metadata": {},
   "source": [
    "=== F I N D - E L E M E N T - I N - Q U E U E ==="
   ]
  },
  {
   "cell_type": "code",
   "execution_count": 1,
   "metadata": {
    "vscode": {
     "languageId": "java"
    }
   },
   "outputs": [
    {
     "ename": "CompilationException",
     "evalue": "",
     "output_type": "error",
     "traceback": [
      "\u001b[1m\u001b[30m|   \u001b[1m\u001b[30m    if (\u001b[0m\u001b[1m\u001b[30m\u001b[41mque.head\u001b[0m\u001b[1m\u001b[30m == null) {\u001b[0m",
      "\u001b[1m\u001b[31mhead has private access in Queue\u001b[0m",
      "",
      "\u001b[1m\u001b[30m|   \u001b[1m\u001b[30m    if (\u001b[0m\u001b[1m\u001b[30m\u001b[41mque.head\u001b[0m\u001b[1m\u001b[30m == num) {\u001b[0m",
      "\u001b[1m\u001b[31mhead has private access in Queue\u001b[0m",
      "",
      "\u001b[1m\u001b[30m|   \u001b[1m\u001b[30m    if (\u001b[0m\u001b[1m\u001b[30m\u001b[41mque.head == num\u001b[0m\u001b[1m\u001b[30m) {\u001b[0m",
      "\u001b[1m\u001b[31mbad operand types for binary operator '=='\u001b[0m",
      "\u001b[1m\u001b[31m  first type:  Node\u001b[0m",
      "\u001b[1m\u001b[31m  second type: int\u001b[0m",
      "",
      "\u001b[1m\u001b[30m|   \u001b[1m\u001b[30m    return has(\u001b[0m\u001b[1m\u001b[30m\u001b[41mque.head\u001b[0m\u001b[1m\u001b[30m, num);\u001b[0m",
      "\u001b[1m\u001b[31mhead has private access in Queue\u001b[0m",
      ""
     ]
    }
   ],
   "source": [
    "%load queues\n",
    "boolean has(Queue que, int num) {\n",
    "    if (que.head == null) {\n",
    "        return false;\n",
    "    }\n",
    "    if (que.head == num) {\n",
    "        return true;\n",
    "    }\n",
    "    return has(que.head, num);\n",
    "}"
   ]
  },
  {
   "cell_type": "code",
   "execution_count": 5,
   "metadata": {
    "vscode": {
     "languageId": "java"
    }
   },
   "outputs": [
    {
     "ename": "UnresolvedReferenceException",
     "evalue": "Attempt to use definition snippet with unresolved references in MethodSnippet:has/(Queue,int)boolean-\nboolean has(Queue que, int num) {\n    if (que == null) {\n        return false;\n    }\n    if (que.getValue() = num) {\n        return true;\n    }\n    return has(que.getNext(), num);\n}",
     "output_type": "error",
     "traceback": [
      "\u001b[1m\u001b[30m|   \u001b[1m\u001b[30m\u001b[0m",
      "\u001b[1m\u001b[30m|   \u001b[1m\u001b[30mboolean has(Queue que, int num) {\u001b[0m",
      "\u001b[1m\u001b[30m|   \u001b[1m\u001b[30m    if (que == null) {\u001b[0m",
      "\u001b[1m\u001b[30m|   \u001b[1m\u001b[30m        return false;\u001b[0m",
      "\u001b[1m\u001b[30m|   \u001b[1m\u001b[30m    }\u001b[0m",
      "\u001b[1m\u001b[30m|   \u001b[1m\u001b[30m    if (que.getValue() = num) {\u001b[0m",
      "\u001b[1m\u001b[30m|   \u001b[1m\u001b[30m        return true;\u001b[0m",
      "\u001b[1m\u001b[30m|   \u001b[1m\u001b[30m    }\u001b[0m",
      "\u001b[1m\u001b[30m|   \u001b[1m\u001b[30m    return has(que.getNext(), num);\u001b[0m",
      "\u001b[1m\u001b[30m|   \u001b[1m\u001b[30m}\u001b[0m",
      "\u001b[1m\u001b[31mUnresolved dependencies:\u001b[0m",
      "\u001b[1m\u001b[31m   - method getValue()\u001b[0m",
      "\u001b[1m\u001b[31m   - method getNext()\u001b[0m"
     ]
    }
   ],
   "source": [
    "Queue que = queueFromArray(new int[] {10, 20, 30, 40});\n",
    "print(has(que, 15));\n",
    "print(has(que, 20));\n",
    "iterate(que);"
   ]
  },
  {
   "cell_type": "markdown",
   "metadata": {},
   "source": [
    "=== F I N D - E L E M E N T - I N - S T A C K ==="
   ]
  },
  {
   "cell_type": "code",
   "execution_count": 4,
   "metadata": {
    "vscode": {
     "languageId": "java"
    }
   },
   "outputs": [],
   "source": [
    "%load queues\n",
    "boolean has(Stack stack, int num) {\n",
    "    return false;\n",
    "}"
   ]
  },
  {
   "cell_type": "code",
   "execution_count": null,
   "metadata": {
    "vscode": {
     "languageId": "java"
    }
   },
   "outputs": [],
   "source": [
    "Stack stack = stackFromArray(new int[] {10, 20, 30, 40});\n",
    "print(has(stack, 15));\n",
    "print(has(stack, 20));\n",
    "iterate(stack);"
   ]
  }
 ],
 "metadata": {
  "kernelspec": {
   "display_name": "Java",
   "language": "java",
   "name": "java"
  },
  "language_info": {
   "codemirror_mode": "java",
   "file_extension": ".jshell",
   "mimetype": "text/x-java-source",
   "name": "Java",
   "pygments_lexer": "java",
   "version": "23+37-2369"
  }
 },
 "nbformat": 4,
 "nbformat_minor": 2
}
