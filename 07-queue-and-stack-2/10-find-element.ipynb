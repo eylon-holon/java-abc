{
 "cells": [
  {
   "cell_type": "markdown",
   "metadata": {},
   "source": [
    "=== F I N D - E L E M E N T - I N - Q U E U E ==="
   ]
  },
  {
   "cell_type": "code",
   "execution_count": 18,
   "metadata": {
    "vscode": {
     "languageId": "java"
    }
   },
   "outputs": [
    {
     "data": {
      "text/plain": [
       "'08-10' is submitted to Gosha (recheck please). Great job! 👍"
      ]
     },
     "execution_count": 18,
     "metadata": {},
     "output_type": "execute_result"
    }
   ],
   "source": [
    "%load ../eylon/submit\n",
    "submit(\"08-10\", \"recheck please\");"
   ]
  },
  {
   "cell_type": "code",
   "execution_count": 9,
   "metadata": {
    "vscode": {
     "languageId": "java"
    }
   },
   "outputs": [],
   "source": [
    "%load queues\n",
    "boolean has(Queue que, int num) {\n",
    "    Queue tmp = new Queue();\n",
    "    boolean found = false;\n",
    "\n",
    "    while (!que.isEmpty()) {\n",
    "        int x = que.remove();\n",
    "        tmp.insert(x);\n",
    "        if (x == mum) {\n",
    "            found = true;\n",
    "        }\n",
    "    }\n",
    "\n",
    "    while (!tmp.isEmpty()) {\n",
    "        que.insert(tmp.remove());\n",
    "    }\n",
    "\n",
    "    return found;\n",
    "}"
   ]
  },
  {
   "cell_type": "code",
   "execution_count": 11,
   "metadata": {
    "vscode": {
     "languageId": "java"
    }
   },
   "outputs": [
    {
     "ename": "UnresolvedReferenceException",
     "evalue": "Attempt to use definition snippet with unresolved references in MethodSnippet:has/(Queue,int)boolean-\nboolean has(Queue que, int num) {\n    Queue tmp = new Queue();\n    boolean found = false;\n\n    while (!que.isEmpty()) {\n        int x = que.remove();\n        tmp.insert(x);\n        if (x == mum) {\n            found = true;\n        }\n    }\n\n    while (!tmp.isEmpty()) {\n        que.insert(tmp.remove());\n    }\n\n    return found;\n}",
     "output_type": "error",
     "traceback": [
      "\u001b[1m\u001b[30m|   \u001b[1m\u001b[30m\u001b[0m",
      "\u001b[1m\u001b[30m|   \u001b[1m\u001b[30mboolean has(Queue que, int num) {\u001b[0m",
      "\u001b[1m\u001b[30m|   \u001b[1m\u001b[30m    Queue tmp = new Queue();\u001b[0m",
      "\u001b[1m\u001b[30m|   \u001b[1m\u001b[30m    boolean found = false;\u001b[0m",
      "\u001b[1m\u001b[30m|   \u001b[1m\u001b[30m\u001b[0m",
      "\u001b[1m\u001b[30m|   \u001b[1m\u001b[30m    while (!que.isEmpty()) {\u001b[0m",
      "\u001b[1m\u001b[30m|   \u001b[1m\u001b[30m        int x = que.remove();\u001b[0m",
      "\u001b[1m\u001b[30m|   \u001b[1m\u001b[30m        tmp.insert(x);\u001b[0m",
      "\u001b[1m\u001b[30m|   \u001b[1m\u001b[30m        if (x == mum) {\u001b[0m",
      "\u001b[1m\u001b[30m|   \u001b[1m\u001b[30m            found = true;\u001b[0m",
      "\u001b[1m\u001b[30m|   \u001b[1m\u001b[30m        }\u001b[0m",
      "\u001b[1m\u001b[30m|   \u001b[1m\u001b[30m    }\u001b[0m",
      "\u001b[1m\u001b[30m|   \u001b[1m\u001b[30m\u001b[0m",
      "\u001b[1m\u001b[30m|   \u001b[1m\u001b[30m    while (!tmp.isEmpty()) {\u001b[0m",
      "\u001b[1m\u001b[30m|   \u001b[1m\u001b[30m        que.insert(tmp.remove());\u001b[0m",
      "\u001b[1m\u001b[30m|   \u001b[1m\u001b[30m    }\u001b[0m",
      "\u001b[1m\u001b[30m|   \u001b[1m\u001b[30m\u001b[0m",
      "\u001b[1m\u001b[30m|   \u001b[1m\u001b[30m    return found;\u001b[0m",
      "\u001b[1m\u001b[30m|   \u001b[1m\u001b[30m}\u001b[0m",
      "\u001b[1m\u001b[31mUnresolved dependencies:\u001b[0m",
      "\u001b[1m\u001b[31m   - variable mum\u001b[0m"
     ]
    }
   ],
   "source": [
    "// GOSHA: fails to run: no variable mum (typo error in your code)\n",
    "Queue que = queueFromArray(new int[] {10, 20, 30, 40});\n",
    "print(has(que, 15));\n",
    "print(has(que, 20));\n",
    "iterate(que);"
   ]
  },
  {
   "cell_type": "markdown",
   "metadata": {},
   "source": [
    "=== F I N D - E L E M E N T - I N - S T A C K ==="
   ]
  },
  {
   "cell_type": "code",
   "execution_count": 16,
   "metadata": {
    "vscode": {
     "languageId": "java"
    }
   },
   "outputs": [],
   "source": [
    "%load queues\n",
    "boolean has(Stack stack, int num) {\n",
    "    Stack tmp = new Stack();\n",
    "    boolean found = false;\n",
    "    \n",
    "    while (!stack.isEmpty()) {\n",
    "        int x = stack.pop();\n",
    "        tmp.push(x);\n",
    "        if (x == mum) {\n",
    "            found = true;\n",
    "        }\n",
    "    }\n",
    "\n",
    "    while (!tmp.isEmpty()) {\n",
    "        stack.push(tmp.pop());\n",
    "    }\n",
    "\n",
    "    return found;\n",
    "}"
   ]
  },
  {
   "cell_type": "code",
   "execution_count": 17,
   "metadata": {
    "vscode": {
     "languageId": "java"
    }
   },
   "outputs": [
    {
     "ename": "UnresolvedReferenceException",
     "evalue": "Attempt to use definition snippet with unresolved references in MethodSnippet:has/(Stack,int)boolean-\nboolean has(Stack stack, int num) {\n    Stack tmp = new Stack();\n    boolean found = false;\n    \n    while (!stack.isEmpty()) {\n        int x = stack.pop();\n        tmp.push(x);\n        if (x == mum) {\n            found = true;\n        }\n    }\n\n    while (!tmp.isEmpty()) {\n        stack.push(tmp.pop());\n    }\n\n    return found;\n}",
     "output_type": "error",
     "traceback": [
      "\u001b[1m\u001b[30m|   \u001b[1m\u001b[30m\u001b[0m",
      "\u001b[1m\u001b[30m|   \u001b[1m\u001b[30mboolean has(Stack stack, int num) {\u001b[0m",
      "\u001b[1m\u001b[30m|   \u001b[1m\u001b[30m    Stack tmp = new Stack();\u001b[0m",
      "\u001b[1m\u001b[30m|   \u001b[1m\u001b[30m    boolean found = false;\u001b[0m",
      "\u001b[1m\u001b[30m|   \u001b[1m\u001b[30m    \u001b[0m",
      "\u001b[1m\u001b[30m|   \u001b[1m\u001b[30m    while (!stack.isEmpty()) {\u001b[0m",
      "\u001b[1m\u001b[30m|   \u001b[1m\u001b[30m        int x = stack.pop();\u001b[0m",
      "\u001b[1m\u001b[30m|   \u001b[1m\u001b[30m        tmp.push(x);\u001b[0m",
      "\u001b[1m\u001b[30m|   \u001b[1m\u001b[30m        if (x == mum) {\u001b[0m",
      "\u001b[1m\u001b[30m|   \u001b[1m\u001b[30m            found = true;\u001b[0m",
      "\u001b[1m\u001b[30m|   \u001b[1m\u001b[30m        }\u001b[0m",
      "\u001b[1m\u001b[30m|   \u001b[1m\u001b[30m    }\u001b[0m",
      "\u001b[1m\u001b[30m|   \u001b[1m\u001b[30m\u001b[0m",
      "\u001b[1m\u001b[30m|   \u001b[1m\u001b[30m    while (!tmp.isEmpty()) {\u001b[0m",
      "\u001b[1m\u001b[30m|   \u001b[1m\u001b[30m        stack.push(tmp.pop());\u001b[0m",
      "\u001b[1m\u001b[30m|   \u001b[1m\u001b[30m    }\u001b[0m",
      "\u001b[1m\u001b[30m|   \u001b[1m\u001b[30m\u001b[0m",
      "\u001b[1m\u001b[30m|   \u001b[1m\u001b[30m    return found;\u001b[0m",
      "\u001b[1m\u001b[30m|   \u001b[1m\u001b[30m}\u001b[0m",
      "\u001b[1m\u001b[31mUnresolved dependencies:\u001b[0m",
      "\u001b[1m\u001b[31m   - variable mum\u001b[0m"
     ]
    }
   ],
   "source": [
    "Stack stack = stackFromArray(new int[] {10, 20, 30, 40});\n",
    "print(has(stack, 15));\n",
    "print(has(stack, 20));\n",
    "iterate(stack);"
   ]
  }
 ],
 "metadata": {
  "kernelspec": {
   "display_name": "Java",
   "language": "java",
   "name": "java"
  },
  "language_info": {
   "codemirror_mode": "java",
   "file_extension": ".jshell",
   "mimetype": "text/x-java-source",
   "name": "Java",
   "pygments_lexer": "java",
   "version": "21.0.4+7-LTS"
  }
 },
 "nbformat": 4,
 "nbformat_minor": 2
}
