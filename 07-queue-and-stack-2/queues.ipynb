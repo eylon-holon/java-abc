{
 "cells": [
  {
   "cell_type": "code",
   "execution_count": 6,
   "metadata": {},
   "outputs": [],
   "source": [
    "%load ../eylon/java-utils\n",
    "%load Node\n",
    "%load Queue\n",
    "%load Stack\n",
    "\n",
    "void test(boolean expr) {\n",
    "    if (expr) return;\n",
    "    print(\"TEST FAILED\");\n",
    "}\n",
    "\n",
    "void test(boolean expr, String msg) {\n",
    "    System.out.print(expr ? \"OK: \" : \"FAILED: \");\n",
    "    System.out.println(msg);\n",
    "}\n",
    "\n",
    "Queue queueFromArray(int[] nums) {\n",
    "    var que = new Queue();\n",
    "    for (var num: nums) {\n",
    "        que.insert(num);\n",
    "    }\n",
    "    return que;\n",
    "}\n",
    "\n",
    "Stack stackFromArray(int[] nums) {\n",
    "    var stack = new Stack();\n",
    "    for (var num: nums) {\n",
    "        stack.push(num);\n",
    "    }\n",
    "    return stack;\n",
    "}\n",
    "\n",
    "void SHOW_MEMORY_LAYOUT() {}"
   ]
  }
 ],
 "metadata": {
  "kernelspec": {
   "display_name": "Java",
   "language": "java",
   "name": "java"
  },
  "language_info": {
   "codemirror_mode": "java",
   "file_extension": ".jshell",
   "mimetype": "text/x-java-source",
   "name": "java",
   "pygments_lexer": "java",
   "version": "23+37-2369"
  }
 },
 "nbformat": 4,
 "nbformat_minor": 2
}
