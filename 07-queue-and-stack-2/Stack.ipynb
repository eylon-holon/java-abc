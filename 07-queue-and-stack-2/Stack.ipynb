{
 "cells": [
  {
   "cell_type": "code",
   "execution_count": 11,
   "metadata": {},
   "outputs": [],
   "source": [
    "%load Node\n",
    "\n",
    "class Stack {\n",
    "    private Node head;\n",
    "\n",
    "    public Stack() {\n",
    "    }\n",
    "\n",
    "    public boolean isEmpty() {\n",
    "        return head == null;\n",
    "    }\n",
    "\n",
    "    int top() {\n",
    "        return head.getValue();\n",
    "    }\n",
    "\n",
    "    void push(int value) {\n",
    "        Node node = new Node(value, head);\n",
    "        head = node;\n",
    "    }\n",
    "\n",
    "    int pop() {\n",
    "        int value = head.getValue();\n",
    "        head = head.getNext();\n",
    "        return value;\n",
    "    }\n",
    "}"
   ]
  }
 ],
 "metadata": {
  "kernelspec": {
   "display_name": "Java",
   "language": "java",
   "name": "java"
  },
  "language_info": {
   "codemirror_mode": "java",
   "file_extension": ".jshell",
   "mimetype": "text/x-java-source",
   "name": "java",
   "pygments_lexer": "java",
   "version": "23+37-2369"
  }
 },
 "nbformat": 4,
 "nbformat_minor": 2
}
