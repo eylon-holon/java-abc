{
 "cells": [
  {
   "cell_type": "code",
   "execution_count": 11,
   "metadata": {
    "vscode": {
     "languageId": "java"
    }
   },
   "outputs": [],
   "source": [
    "%load Node\n",
    "\n",
    "class Stack {\n",
    "    private Node head;\n",
    "\n",
    "    public Stack() {\n",
    "    }\n",
    "\n",
    "    public boolean isEmpty() {\n",
    "        return false;\n",
    "    }\n",
    "\n",
    "    int top() {\n",
    "        return 0;\n",
    "    }\n",
    "\n",
    "    void push(int value) {\n",
    "    }\n",
    "\n",
    "    int pop() {\n",
    "        return 0;\n",
    "    }\n",
    "}"
   ]
  }
 ],
 "metadata": {
  "kernelspec": {
   "display_name": "Java",
   "language": "java",
   "name": "java"
  },
  "language_info": {
   "codemirror_mode": "java",
   "file_extension": ".jshell",
   "mimetype": "text/x-java-source",
   "name": "Java",
   "pygments_lexer": "java",
   "version": "23+37-2369"
  }
 },
 "nbformat": 4,
 "nbformat_minor": 2
}
