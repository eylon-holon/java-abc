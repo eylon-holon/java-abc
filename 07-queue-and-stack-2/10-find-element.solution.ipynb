{
 "cells": [
  {
   "cell_type": "markdown",
   "metadata": {},
   "source": [
    "=== F I N D - E L E M E N T - I N - Q U E U E ==="
   ]
  },
  {
   "cell_type": "code",
   "execution_count": null,
   "metadata": {
    "vscode": {
     "languageId": "java"
    }
   },
   "outputs": [],
   "source": [
    "%load queues\n",
    "boolean has(Queue que, int num) {\n",
    "    Queue tmp = new Queue();\n",
    "    boolean found = false;\n",
    "\n",
    "    while (!que.isEmpty()) {\n",
    "        int current = que.remove();\n",
    "        tmp.insert(current);\n",
    "        if (current == num) {\n",
    "            found = true;\n",
    "        }\n",
    "    }\n",
    "\n",
    "    while (!tmp.isEmpty()) {\n",
    "        que.insert(tmp.remove());\n",
    "    }\n",
    "\n",
    "    return found;\n",
    "}"
   ]
  },
  {
   "cell_type": "code",
   "execution_count": null,
   "metadata": {
    "vscode": {
     "languageId": "java"
    }
   },
   "outputs": [],
   "source": [
    "Queue que = queueFromArray(new int[] {10, 20, 30, 40});\n",
    "print(has(que, 15));\n",
    "print(has(que, 20));\n",
    "iterate(que);"
   ]
  },
  {
   "cell_type": "markdown",
   "metadata": {},
   "source": [
    "=== F I N D - E L E M E N T - I N - S T A C K ==="
   ]
  },
  {
   "cell_type": "code",
   "execution_count": null,
   "metadata": {
    "vscode": {
     "languageId": "java"
    }
   },
   "outputs": [],
   "source": [
    "%load queues\n",
    "boolean has(Stack stack, int num) {\n",
    "    Stack tmp = new Stack();\n",
    "    boolean found = false;\n",
    "\n",
    "    while (!stack.isEmpty()) {\n",
    "        int current = stack.pop();\n",
    "        tmp.push(current);\n",
    "        if (current == num) {\n",
    "            found = true;\n",
    "        }\n",
    "    }\n",
    "\n",
    "    while (!tmp.isEmpty()) {\n",
    "        stack.push(tmp.pop());\n",
    "    }\n",
    "\n",
    "    return found;\n",
    "}"
   ]
  },
  {
   "cell_type": "code",
   "execution_count": null,
   "metadata": {
    "vscode": {
     "languageId": "java"
    }
   },
   "outputs": [],
   "source": [
    "Stack stack = stackFromArray(new int[] {10, 20, 30, 40});\n",
    "print(has(stack, 15));\n",
    "print(has(stack, 20));\n",
    "iterate(stack);"
   ]
  }
 ],
 "metadata": {
  "kernelspec": {
   "display_name": "Java",
   "language": "java",
   "name": "java"
  },
  "language_info": {
   "codemirror_mode": "java",
   "file_extension": ".jshell",
   "mimetype": "text/x-java-source",
   "name": "Java",
   "pygments_lexer": "java",
   "version": "23+37-2369"
  }
 },
 "nbformat": 4,
 "nbformat_minor": 2
}
