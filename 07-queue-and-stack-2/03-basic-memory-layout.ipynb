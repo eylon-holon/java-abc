{
 "cells": [
  {
   "cell_type": "markdown",
   "metadata": {},
   "source": [
    "Q-01"
   ]
  },
  {
   "cell_type": "code",
   "execution_count": null,
   "metadata": {},
   "outputs": [],
   "source": [
    "%load queues\n",
    "\n",
    "class A {\n",
    "    public A() {\n",
    "        count = 321;\n",
    "    }\n",
    "\n",
    "    private int count;\n",
    "}\n",
    "\n",
    "int num = 123;\n",
    "double d = 12.3;\n",
    "boolean b = true;\n",
    "String str = \"ABC\";\n",
    "int[] nums = new int[] {1, 2, 3};\n",
    "A a = new A();\n",
    "\n",
    "SHOW_MEMORY_LAYOUT(\"Basic values and references\");\n"
   ]
  },
  {
   "cell_type": "markdown",
   "metadata": {},
   "source": [
    "Q-02"
   ]
  },
  {
   "cell_type": "code",
   "execution_count": 1,
   "metadata": {},
   "outputs": [
    {
     "name": "stdout",
     "output_type": "stream",
     "text": [
      "Enter your name: Yossi\n",
      "Enter your age: 27\n",
      "MEMORY LAYOUT FOR:  Q-02: main \n",
      "Yossi 27 \n",
      "MEMORY LAYOUT FOR:  Q-02: printPerson \n"
     ]
    }
   ],
   "source": [
    "%load queues\n",
    "\n",
    "class Person {\n",
    "    public Person(String name, int age) {\n",
    "        this.name = name;\n",
    "        this.age = age;\n",
    "    }\n",
    "\n",
    "    public int age;\n",
    "    public String name;\n",
    "}\n",
    "\n",
    "void printPerson(Person p) {\n",
    "    print(p.name, p.age);\n",
    "    SHOW_MEMORY_LAYOUT(\"Q-02: printPerson\");\n",
    "}\n",
    "\n",
    "String name = input(\"Enter your name: \");\n",
    "int age = Integer.parseInt(input(\"Enter your age: \"));\n",
    "Person person = new Person(name, age);\n",
    "\n",
    "SHOW_MEMORY_LAYOUT(\"Q-02: main\");\n",
    "\n",
    "printPerson(person);\n"
   ]
  },
  {
   "cell_type": "markdown",
   "metadata": {},
   "source": [
    "Q-03"
   ]
  },
  {
   "cell_type": "code",
   "execution_count": 1,
   "metadata": {},
   "outputs": [
    {
     "ename": "CompilationException",
     "evalue": "",
     "output_type": "error",
     "traceback": [
      "\u001b[1m\u001b[30m|   \u001b[1m\u001b[30mPerson createPerson() {\u001b[0m",
      "\u001b[1m\u001b[30m|   \u001b[1m\u001b[30m    String name = input(\"Enter your name: \");\u001b[0m",
      "\u001b[1m\u001b[30m|   \u001b[1m\u001b[30m    int age = Integer.parseInt(input(\"Enter your age: \"));\u001b[0m",
      "\u001b[1m\u001b[30m|   \u001b[1m\u001b[30m    return new Person(name, age);\u001b[0m",
      "\u001b[1m\u001b[30m|   \u001b[1m\u001b[30m}\u001b[0m",
      "\u001b[1m\u001b[31mUnresolved dependencies:\u001b[0m",
      "\u001b[1m\u001b[31m   - class Person\u001b[0m",
      "\u001b[1m\u001b[31m   - method input(java.lang.String)\u001b[0m"
     ]
    }
   ],
   "source": [
    "Person createPerson() {\n",
    "    String name = input(\"Enter your name: \");\n",
    "    int age = Integer.parseInt(input(\"Enter your age: \"));\n",
    "    return new Person(name, age);\n",
    "}\n",
    "\n",
    "Person person = createPerson();\n",
    "\n",
    "SHOW_MEMORY_LAYOUT(\"Q-03: main\");"
   ]
  }
 ],
 "metadata": {
  "kernelspec": {
   "display_name": "Java",
   "language": "java",
   "name": "java"
  },
  "language_info": {
   "codemirror_mode": "java",
   "file_extension": ".jshell",
   "mimetype": "text/x-java-source",
   "name": "java",
   "pygments_lexer": "java",
   "version": "21.0.4+7-LTS"
  }
 },
 "nbformat": 4,
 "nbformat_minor": 2
}
