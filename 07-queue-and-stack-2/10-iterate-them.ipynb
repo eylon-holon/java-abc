{
 "cells": [
  {
   "cell_type": "markdown",
   "metadata": {},
   "source": [
    "=== I t e r a t e -  q u e u e ==="
   ]
  },
  {
   "cell_type": "code",
<<<<<<< HEAD:05-queues/10-iterate-them.ipynb
   "execution_count": 1,
=======
   "execution_count": 10,
>>>>>>> c08e551066d0e7820cc4f426d95fb59ce24072f5:07-queue-and-stack-2/10-iterate-them.ipynb
   "metadata": {
    "vscode": {
     "languageId": "java"
    }
   },
   "outputs": [],
   "source": [
    "%load queues\n",
    "\n",
    "void iterate(Queue que) {\n",
    "    Queue tmp = new Queue();\n",
    "\n",
    "    // get value from queue\n",
    "    // store it to temporary queue\n",
    "    // use the value\n",
    "    while (!que.isEmpty()) {\n",
    "        int x = que.remove();\n",
    "        tmp.insert(x);\n",
    "\n",
    "        print(x);\n",
    "    }\n",
    "\n",
    "    // restore the queue\n",
    "    while (!tmp.isEmpty()) {\n",
    "        que.insert(tmp.remove());\n",
    "    }\n",
    "}"
   ]
  },
  {
   "cell_type": "code",
   "execution_count": null,
   "metadata": {
    "vscode": {
     "languageId": "java"
    }
   },
   "outputs": [],
   "source": [
    "Queue que = queueFromArray(new int[] {1, 2, 3});\n",
    "iterate(que);"
   ]
  },
  {
   "cell_type": "markdown",
   "metadata": {},
   "source": [
    "=== I t e r a t e -  s t a c k ==="
   ]
  },
  {
   "cell_type": "code",
   "execution_count": 14,
   "metadata": {
    "vscode": {
     "languageId": "java"
    }
   },
   "outputs": [],
   "source": [
    "%load queues\n",
    "\n",
    "void iterate(Stack stack) {\n",
    "    Stack tmp = new Stack();\n",
    "\n",
    "    // get value from stack\n",
    "    // store it to temporary stack\n",
    "    // use the value\n",
    "    while (!stack.isEmpty()) {\n",
    "        int x = stack.pop();\n",
    "        tmp.push(x);\n",
    "\n",
    "        print(x);\n",
    "    }\n",
    "\n",
    "    // restore the original stack\n",
    "    while (!tmp.isEmpty()) {\n",
    "        stack.push(tmp.pop());\n",
    "    }\n",
    "}"
   ]
  },
  {
   "cell_type": "code",
   "execution_count": null,
   "metadata": {
    "vscode": {
     "languageId": "java"
    }
   },
   "outputs": [],
   "source": [
    "Stack stack = stackFromArray(new int[] {1, 2, 3});\n",
    "iterate(stack);"
   ]
  }
 ],
 "metadata": {
  "kernelspec": {
   "display_name": "Java",
   "language": "java",
   "name": "java"
  },
  "language_info": {
   "codemirror_mode": "java",
   "file_extension": ".jshell",
   "mimetype": "text/x-java-source",
   "name": "Java",
   "pygments_lexer": "java",
   "version": "21.0.4+7-LTS"
  }
 },
 "nbformat": 4,
 "nbformat_minor": 2
}
