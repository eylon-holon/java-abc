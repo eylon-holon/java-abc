{
 "cells": [
  {
   "cell_type": "code",
   "execution_count": 1,
   "metadata": {
    "vscode": {
     "languageId": "java"
    }
   },
   "outputs": [],
   "source": [
    "class Node {\n",
    "    private int value;\n",
    "    private Node next;\n",
    "\n",
    "    public Node() {\n",
    "        this.value = 0;\n",
    "        this.next = null;\n",
    "    }\n",
    "\n",
    "    public Node(int value) {\n",
    "        this.value = value;\n",
    "        this.next = null;\n",
    "    }\n",
    "\n",
    "    public Node(int value, Node next) {\n",
    "        this.value = value;\n",
    "        this.next = next;\n",
    "    }\n",
    "\n",
    "    public int getValue() {\n",
    "        return value;\n",
    "    }\n",
    "\n",
    "    public Node getNext() {\n",
    "        return next;\n",
    "    }\n",
    "\n",
    "    public boolean hasNext() {\n",
    "        return next != null;\n",
    "    }\n",
    "\n",
    "    public void setValue(int value) {\n",
    "        this.value = value;\n",
    "    }\n",
    "\n",
    "    public void setNext(Node next) {\n",
    "        this.next = next;\n",
    "    }\n",
    "}\n"
   ]
  }
 ],
 "metadata": {
  "kernelspec": {
   "display_name": "Java",
   "language": "java",
   "name": "java"
  },
  "language_info": {
   "codemirror_mode": "java",
   "file_extension": ".jshell",
   "mimetype": "text/x-java-source",
   "name": "Java",
   "pygments_lexer": "java",
   "version": "21.0.4+7-LTS"
  }
 },
 "nbformat": 4,
 "nbformat_minor": 2
}
