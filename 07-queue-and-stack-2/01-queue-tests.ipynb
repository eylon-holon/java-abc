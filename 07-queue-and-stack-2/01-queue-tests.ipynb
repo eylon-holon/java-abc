{
 "cells": [
  {
   "cell_type": "markdown",
   "metadata": {},
   "source": [
    "---\n",
    "Test new queue is empty"
   ]
  },
  {
   "cell_type": "code",
   "execution_count": null,
   "metadata": {
    "vscode": {
     "languageId": "java"
    }
   },
   "outputs": [],
   "source": [
    "%load queues\n",
    "\n",
    "Queue que = new Queue();\n",
    "test(que.isEmpty(), \"que.isEmpty()\");"
   ]
  },
  {
   "cell_type": "markdown",
   "metadata": {},
   "source": [
    "---\n",
    "Test insert -> not-empty -> remove -> empty"
   ]
  },
  {
   "cell_type": "code",
   "execution_count": null,
   "metadata": {
    "vscode": {
     "languageId": "java"
    }
   },
   "outputs": [],
   "source": [
    "%load queues\n",
    "\n",
    "Queue que = new Queue();\n",
    "que.insert(10);\n",
    "\n",
    "test(!que.isEmpty(), \"!que.isEmpty()\");\n",
    "test(que.head() == 10, \"que.head()\");\n",
    "\n",
    "test(que.remove() == 10, \"que.remove()\");\n",
    "test(que.isEmpty(), \"que.isEmpty()\");"
   ]
  },
  {
   "cell_type": "markdown",
   "metadata": {},
   "source": [
    "---\n",
    "Test queue is FIFO"
   ]
  },
  {
   "cell_type": "code",
   "execution_count": null,
   "metadata": {
    "vscode": {
     "languageId": "java"
    }
   },
   "outputs": [],
   "source": [
    "%load queues\n",
    "\n",
    "Queue que = new Queue();\n",
    "que.insert(10);\n",
    "que.insert(20);\n",
    "\n",
    "test(que.head() == 10, \"que.head() == 10\");\n",
    "test(que.remove() == 10, \"que.remove() == 10\");\n",
    "\n",
    "test(que.head() == 20, \"que.head() == 20\");\n",
    "test(que.remove() == 20, \"que.remove() == 20\");\n",
    "\n",
    "test(que.isEmpty(), \"que.isEmpty()\");"
   ]
  }
 ],
 "metadata": {
  "kernelspec": {
   "display_name": "Java",
   "language": "java",
   "name": "java"
  },
  "language_info": {
   "codemirror_mode": "java",
   "file_extension": ".jshell",
   "mimetype": "text/x-java-source",
   "name": "Java",
   "pygments_lexer": "java",
   "version": "23+37-2369"
  }
 },
 "nbformat": 4,
 "nbformat_minor": 2
}
