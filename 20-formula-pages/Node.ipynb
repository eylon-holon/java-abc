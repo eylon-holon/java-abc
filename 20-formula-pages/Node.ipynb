{
 "cells": [
  {
   "cell_type": "code",
   "execution_count": 1,
   "metadata": {
    "vscode": {
     "languageId": "java"
    }
   },
   "outputs": [],
   "source": [
    "class Node<T> {\n",
    "    private T value;\n",
    "    private Node<T> next;\n",
    "\n",
    "    public Node() {\n",
    "        this.value = null;\n",
    "        this.next = null;\n",
    "    }\n",
    "\n",
    "    public Node(T value) {\n",
    "        this.value = value;\n",
    "        this.next = null;\n",
    "    }\n",
    "\n",
    "    public Node(T value, Node<T> next) {\n",
    "        this.value = value;\n",
    "        this.next = next;\n",
    "    }\n",
    "\n",
    "    public T getValue() {\n",
    "        return value;\n",
    "    }\n",
    "\n",
    "    public Node<T> getNext() {\n",
    "        return next;\n",
    "    }\n",
    "\n",
    "    public boolean hasNext() {\n",
    "        return next != null;\n",
    "    }\n",
    "\n",
    "    public void setValue(T value) {\n",
    "        this.value = value;\n",
    "    }\n",
    "\n",
    "    public void setNext(Node<T> next) {\n",
    "        this.next = next;\n",
    "    }\n",
    "}\n"
   ]
  }
 ],
 "metadata": {
  "kernelspec": {
   "display_name": "Java",
   "language": "java",
   "name": "java"
  },
  "language_info": {
   "codemirror_mode": "java",
   "file_extension": ".jshell",
   "mimetype": "text/x-java-source",
   "name": "Java",
   "pygments_lexer": "java",
   "version": "23+37-2369"
  }
 },
 "nbformat": 4,
 "nbformat_minor": 2
}
