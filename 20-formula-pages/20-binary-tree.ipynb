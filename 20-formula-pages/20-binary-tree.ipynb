{
 "cells": [
  {
   "cell_type": "code",
   "execution_count": 1,
   "metadata": {
    "vscode": {
     "languageId": "java"
    }
   },
   "outputs": [],
   "source": [
    "%load formulas"
   ]
  },
  {
   "cell_type": "code",
   "execution_count": 11,
   "metadata": {
    "vscode": {
     "languageId": "java"
    }
   },
   "outputs": [],
   "source": [
    "static <T> int count(BinNode<T> node) {\n",
    "    if (node == null) {\n",
    "        return 0;\n",
    "    }\n",
    "    return 1 + \n",
    "        count(node.getLeft()) + \n",
    "        count(node.getRight());\n",
    "}"
   ]
  },
  {
   "cell_type": "code",
   "execution_count": 12,
   "metadata": {
    "vscode": {
     "languageId": "java"
    }
   },
   "outputs": [],
   "source": [
    "static <T> boolean isBalanced(BinNode<T> node) {\n",
    "    if (node == null) {\n",
    "        return true;\n",
    "    }\n",
    "\n",
    "    int balance = Math.abs(count(node.getLeft()) - count(node.getRight()));\n",
    "\n",
    "    return balance <= 1 &&\n",
    "        isBalanced(node.getLeft()) &&\n",
    "        isBalanced(node.getRight());\n",
    "}"
   ]
  },
  {
   "cell_type": "code",
   "execution_count": 13,
   "metadata": {
    "vscode": {
     "languageId": "java"
    }
   },
   "outputs": [],
   "source": [
    "static boolean contains(BinNode<Integer> node, int num) {\n",
    "    if (node == null) {\n",
    "        return false;\n",
    "    }\n",
    "    if (node.getValue() == num) {\n",
    "        return true;\n",
    "    }\n",
    "    return\n",
    "        contains(node.getLeft(), num) || \n",
    "        contains(node.getRight(), num);\n",
    "}"
   ]
  },
  {
   "cell_type": "code",
   "execution_count": 14,
   "metadata": {
    "vscode": {
     "languageId": "java"
    }
   },
   "outputs": [],
   "source": [
    "static boolean contains(BinNode<String> node, String str) {\n",
    "    return false;\n",
    "}"
   ]
  },
  {
   "cell_type": "code",
   "execution_count": 15,
   "metadata": {
    "vscode": {
     "languageId": "java"
    }
   },
   "outputs": [],
   "source": [
    "static int count(BinNode<Integer> node, int num) {\n",
    "    if (node == null) {\n",
    "        return 0;\n",
    "    }\n",
    "\n",
    "    int me = node.getValue() == num ? 1 : 0;\n",
    "\n",
    "    return me + \n",
    "        count(node.getLeft(), num) + \n",
    "        count(node.getRight(), num);\n",
    "}"
   ]
  },
  {
   "cell_type": "code",
   "execution_count": 24,
   "metadata": {
    "vscode": {
     "languageId": "java"
    }
   },
   "outputs": [],
   "source": [
    "static int countLeaves(BinNode<Integer> node) {\n",
    "    if (node == null) {\n",
    "        return 0;\n",
    "    }\n",
    "    if (node.getLeft() == null && node.getRight() == null) {\n",
    "        return 1;\n",
    "    }\n",
    "    return \n",
    "        countLeaves(node.getLeft()) + \n",
    "        countLeaves(node.getRight());\n",
    "}"
   ]
  },
  {
   "cell_type": "code",
   "execution_count": 16,
   "metadata": {
    "vscode": {
     "languageId": "java"
    }
   },
   "outputs": [],
   "source": [
    "static int count(BinNode<String> node, String str) {\n",
    "    return -1;\n",
    "}"
   ]
  },
  {
   "cell_type": "code",
   "execution_count": 17,
   "metadata": {
    "vscode": {
     "languageId": "java"
    }
   },
   "outputs": [],
   "source": [
    "static int countEvens(BinNode<Integer> node) {\n",
    "    return - 1;\n",
    "}"
   ]
  },
  {
   "cell_type": "code",
   "execution_count": 18,
   "metadata": {
    "vscode": {
     "languageId": "java"
    }
   },
   "outputs": [],
   "source": [
    "static boolean same(BinNode<Integer> l1, BinNode<Integer> l2) {\n",
    "    if (l1 == null && l2 == null) {\n",
    "        return true;\n",
    "    }\n",
    "    if (l1 == null || l2 == null) {\n",
    "        return false;\n",
    "    }\n",
    "    return l1.getValue() == l2.getValue() &&\n",
    "        same(l1.getLeft(), l2.getLeft()) &&\n",
    "        same(l1.getRight(), l2.getRight());\n",
    "}"
   ]
  },
  {
   "cell_type": "code",
   "execution_count": 21,
   "metadata": {
    "vscode": {
     "languageId": "java"
    }
   },
   "outputs": [],
   "source": [
    "static int depth(BinNode<Integer> node) {\n",
    "    if (node == null) {\n",
    "        return 0;\n",
    "    }\n",
    "    return 1 + Math.max(\n",
    "        depth(node.getLeft()), \n",
    "        depth(node.getRight()));\n",
    "}"
   ]
  },
  {
   "cell_type": "code",
   "execution_count": 22,
   "metadata": {
    "vscode": {
     "languageId": "java"
    }
   },
   "outputs": [],
   "source": [
    "static int findMaxPath(BinNode<Integer> node) {\n",
    "    if (node == null) {\n",
    "        return 0;\n",
    "    }\n",
    "    return node.getValue() + Math.max(\n",
    "        findMaxPath(node.getLeft()), \n",
    "        findMaxPath(node.getRight()));\n",
    "}"
   ]
  },
  {
   "cell_type": "code",
   "execution_count": 23,
   "metadata": {
    "vscode": {
     "languageId": "java"
    }
   },
   "outputs": [],
   "source": [
    "static int findMinPath(BinNode<Integer> node) {\n",
    "    if (node == null) {\n",
    "        return 0;\n",
    "    }\n",
    "    return node.getValue() + Math.min(\n",
    "        findMinPath(node.getLeft()), \n",
    "        findMinPath(node.getRight()));\n",
    "}"
   ]
  }
 ],
 "metadata": {
  "kernelspec": {
   "display_name": "Java",
   "language": "java",
   "name": "java"
  },
  "language_info": {
   "codemirror_mode": "java",
   "file_extension": ".jshell",
   "mimetype": "text/x-java-source",
   "name": "Java",
   "pygments_lexer": "java",
   "version": "21.0.4+7-LTS"
  }
 },
 "nbformat": 4,
 "nbformat_minor": 2
}
