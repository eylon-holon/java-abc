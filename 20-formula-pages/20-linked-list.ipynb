{
 "cells": [
  {
   "cell_type": "code",
   "execution_count": 2,
   "metadata": {},
   "outputs": [],
   "source": [
    "%load formulas"
   ]
  },
  {
   "cell_type": "code",
   "execution_count": null,
   "metadata": {},
   "outputs": [],
   "source": [
    "public static\n",
    "int countNodes(Node<Integer> node) {\n",
    "    int count = 0;\n",
    "    while (node != null) {\n",
    "        count++;\n",
    "        node = node.getNext();\n",
    "    }\n",
    "    return count;\n",
    "}"
   ]
  },
  {
   "cell_type": "code",
   "execution_count": null,
   "metadata": {},
   "outputs": [],
   "source": [
    "public static\n",
    "boolean contains(Node<Integer> node, int num) {\n",
    "    while (node != null) {\n",
    "        if (node.getValue() == num) {\n",
    "            return true;\n",
    "        }\n",
    "        node = node.getNext();\n",
    "    }\n",
    "    return false;\n",
    "}"
   ]
  },
  {
   "cell_type": "code",
   "execution_count": null,
   "metadata": {},
   "outputs": [],
   "source": [
    "public static\n",
    "int min(Node<Integer> node) {\n",
    "    int mn = Integer.MAX_VALUE;\n",
    "    while (node != null) {\n",
    "        mn = Math.min(mn, node.getValue());\n",
    "        node = node.getNext();\n",
    "    }\n",
    "    return mn;\n",
    "}\n"
   ]
  },
  {
   "cell_type": "code",
   "execution_count": null,
   "metadata": {},
   "outputs": [],
   "source": [
    "public static\n",
    "int countValue(Node<String> node, String str) {\n",
    "    int count = 0;\n",
    "    while (node != null) {\n",
    "        if (node.getValue().equals(str)) {\n",
    "            count++;\n",
    "        }\n",
    "        node = node.getNext();\n",
    "    }\n",
    "    return count;\n",
    "}"
   ]
  },
  {
   "cell_type": "code",
   "execution_count": null,
   "metadata": {},
   "outputs": [],
   "source": [
    "public static\n",
    "boolean prefix(Node<Integer> l1, Node<Integer> l2) {\n",
    "    while (l1 != null && l2 != null) {\n",
    "        if (l1.getValue() != l2.getValue()) {\n",
    "            return false;\n",
    "        }\n",
    "        l1 = l1.getNext();\n",
    "        l2 = l2.getNext();\n",
    "    }\n",
    "    return l2 == null;\n",
    "}"
   ]
  },
  {
   "cell_type": "code",
   "execution_count": null,
   "metadata": {},
   "outputs": [],
   "source": [
    "public static\n",
    "boolean same(Node<Integer> l1, Node<Integer> l2) {\n",
    "    while (l1 != null && l2 != null) {\n",
    "        if (l1.getValue() != l2.getValue()) {\n",
    "            return false;\n",
    "        }\n",
    "        l1 = l1.getNext();\n",
    "        l2 = l2.getNext();\n",
    "    }\n",
    "    return l1 == null && l2 == null;\n",
    "}"
   ]
  },
  {
   "cell_type": "code",
   "execution_count": null,
   "metadata": {},
   "outputs": [],
   "source": [
    "public static\n",
    "Node<Integer> addToHead(Node<Integer> list, int num) {\n",
    "    Node<Integer> newNode = new Node<Integer>(num, list);\n",
    "    return newNode;\n",
    "}"
   ]
  },
  {
   "cell_type": "code",
   "execution_count": null,
   "metadata": {},
   "outputs": [],
   "source": [
    "public static\n",
    "Node<Integer> addToTail(Node<Integer> list, int num) {\n",
    "    Node<Integer> newNode = new Node<Integer>(num);\n",
    "    if (list == null) {\n",
    "        return newNode;\n",
    "    }\n",
    "    Node<Integer> node = list;\n",
    "    while (node.getNext() != null) {\n",
    "        node = node.getNext();\n",
    "    }\n",
    "    node.setNext(newNode);\n",
    "    return list;\n",
    "}"
   ]
  },
  {
   "cell_type": "code",
   "execution_count": null,
   "metadata": {},
   "outputs": [],
   "source": [
    "public static\n",
    "Node<Integer> addToOrdered(Node<Integer> list, int num) {\n",
    "    Node<Integer> newNode = new Node<Integer>(num);\n",
    "    if (list == null) {\n",
    "        return newNode;\n",
    "    }\n",
    "    if (num < list.getValue()) {\n",
    "        newNode.setNext(list);\n",
    "        return newNode;\n",
    "    }\n",
    "    Node<Integer> node = list;\n",
    "    while (node.getNext() != null && node.getNext().getValue() < num) {\n",
    "        node = node.getNext();\n",
    "    }\n",
    "    newNode.setNext(node.getNext());\n",
    "    node.setNext(newNode);\n",
    "    return list;\n",
    "}"
   ]
  },
  {
   "cell_type": "code",
   "execution_count": null,
   "metadata": {},
   "outputs": [],
   "source": [
    "public static\n",
    "Node<Integer> removeFromHead(Node<Integer> list) {\n",
    "    if (list == null) {\n",
    "        return null;\n",
    "    }\n",
    "    return list.getNext();\n",
    "}"
   ]
  },
  {
   "cell_type": "code",
   "execution_count": null,
   "metadata": {},
   "outputs": [],
   "source": [
    "public static\n",
    "Node<Integer> removeFromTail(Node<Integer> list) {\n",
    "    if (list == null) {\n",
    "        return null;\n",
    "    }\n",
    "    if (list.getNext() == null) {\n",
    "        return null;\n",
    "    }\n",
    "    Node<Integer> node = list;\n",
    "    while (node.getNext().getNext() != null) {\n",
    "        node = node.getNext();\n",
    "    }\n",
    "    node.setNext(null);\n",
    "    return list;\n",
    "}"
   ]
  },
  {
   "cell_type": "code",
   "execution_count": null,
   "metadata": {},
   "outputs": [],
   "source": [
    "public static\n",
    "Node<Integer> removeOne(Node<Integer> list, int num) {\n",
    "    if (list == null) {\n",
    "        return null;\n",
    "    }\n",
    "    if (list.getValue() == num) {\n",
    "        return list.getNext();\n",
    "    }\n",
    "    Node<Integer> node = list;\n",
    "    while (node.getNext() != null) {\n",
    "        if (node.getNext().getValue() == num) {\n",
    "            node.setNext(node.getNext().getNext());\n",
    "            return list;\n",
    "        }\n",
    "        node = node.getNext();\n",
    "    }\n",
    "    return list;\n",
    "}"
   ]
  },
  {
   "cell_type": "code",
   "execution_count": null,
   "metadata": {},
   "outputs": [],
   "source": [
    "public static\n",
    "Node<Integer> removeAll(Node<Integer> list, int num) {\n",
    "    if (list == null) {\n",
    "        return null;\n",
    "    }\n",
    "    while (list != null && list.getValue() == num) {\n",
    "        list = list.getNext();\n",
    "    }\n",
    "    Node<Integer> node = list;\n",
    "    while (node != null && node.getNext() != null) {\n",
    "        if (node.getNext().getValue() == num) {\n",
    "            Node<Integer> next = node.getNext();\n",
    "            while (next != null && next.getValue() == num) {\n",
    "                next = next.getNext();\n",
    "            }\n",
    "            node.setNext(next);\n",
    "        }\n",
    "        node = node.getNext();\n",
    "    }\n",
    "    return list;\n",
    "}"
   ]
  },
  {
   "cell_type": "code",
   "execution_count": null,
   "metadata": {},
   "outputs": [],
   "source": [
    "public class Student {\n",
    "    public Student(String name, int age) {}\n",
    "    public String getName() { return \"\"; }\n",
    "    public int getAge() { return -1; }\n",
    "}"
   ]
  },
  {
   "cell_type": "code",
   "execution_count": null,
   "metadata": {},
   "outputs": [],
   "source": [
    "public static\n",
    "Student findByName(Node<Student> node, String name) {\n",
    "    while (node != null) {\n",
    "        Student student = node.getValue();\n",
    "        if (student.getName().equals(name)) {\n",
    "            return student;\n",
    "        }\n",
    "        node = node.getNext();\n",
    "    }\n",
    "    return null;\n",
    "}"
   ]
  },
  {
   "cell_type": "code",
   "execution_count": null,
   "metadata": {},
   "outputs": [],
   "source": [
    "public static\n",
    "boolean sameStudents(Node<Student> l1, Node<Student> l2) {\n",
    "    while (l1 != null && l2 != null) {\n",
    "        Student stu1 = l1.getValue();\n",
    "        Student stu2 = l2.getValue();\n",
    "        if (!stu1.getName().equals(stu2.getName()) || stu1.getAge() != stu2.getAge()) {\n",
    "            return false;\n",
    "        }\n",
    "        l1 = l1.getNext();\n",
    "        l2 = l2.getNext();\n",
    "    }\n",
    "    return l1 == null && l2 == null;\n",
    "}"
   ]
  },
  {
   "cell_type": "markdown",
   "metadata": {},
   "source": [
    "---"
   ]
  },
  {
   "cell_type": "code",
   "execution_count": 13,
   "metadata": {},
   "outputs": [],
   "source": [
    "Student findYoungest(Node<Student> node) {\n",
    "    return null;\n",
    "}"
   ]
  },
  {
   "cell_type": "code",
   "execution_count": 14,
   "metadata": {},
   "outputs": [],
   "source": [
    "int countOlderThan(Node<Student> node, int age) {\n",
    "    return -1;\n",
    "}"
   ]
  },
  {
   "cell_type": "code",
   "execution_count": 15,
   "metadata": {},
   "outputs": [],
   "source": [
    "int countNamesakes(Node<Student> node, String name) {\n",
    "    return -1;\n",
    "}"
   ]
  },
  {
   "cell_type": "code",
   "execution_count": 16,
   "metadata": {},
   "outputs": [],
   "source": [
    "class Person {\n",
    "    public Person(String name, String family) {}\n",
    "    public String getName() { return \"\"; }\n",
    "    public String getFamily() { return \"\"; }\n",
    "}"
   ]
  },
  {
   "cell_type": "code",
   "execution_count": 17,
   "metadata": {},
   "outputs": [],
   "source": [
    "Person findPerson(Node<Person> node, String name, String family) {\n",
    "    return null;\n",
    "}"
   ]
  }
 ],
 "metadata": {
  "kernelspec": {
   "display_name": "Java",
   "language": "java",
   "name": "java"
  },
  "language_info": {
   "codemirror_mode": "java",
   "file_extension": ".jshell",
   "mimetype": "text/x-java-source",
   "name": "java",
   "pygments_lexer": "java",
   "version": "23+37-2369"
  }
 },
 "nbformat": 4,
 "nbformat_minor": 2
}
