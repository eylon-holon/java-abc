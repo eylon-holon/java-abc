{
 "cells": [
  {
   "cell_type": "code",
   "execution_count": 2,
   "metadata": {
    "vscode": {
     "languageId": "java"
    }
   },
   "outputs": [],
   "source": [
    "%load formulas"
   ]
  },
  {
   "cell_type": "code",
   "execution_count": 3,
   "metadata": {
    "vscode": {
     "languageId": "java"
    }
   },
   "outputs": [],
   "source": [
    "static int count(Node<Integer> node) {\n",
    "    int count = 0;\n",
    "    while (node != null) {\n",
    "        count++;\n",
    "        node = node.getNext();\n",
    "    }\n",
    "    return count;\n",
    "}"
   ]
  },
  {
   "cell_type": "code",
   "execution_count": 4,
   "metadata": {
    "vscode": {
     "languageId": "java"
    }
   },
   "outputs": [],
   "source": [
    "static boolean contains(Node<Integer> node, int num) {\n",
    "    while (node != null) {\n",
    "        if (node.getValue() == num) {\n",
    "            return true;\n",
    "        }\n",
    "        node = node.getNext();\n",
    "    }\n",
    "    return false;\n",
    "}"
   ]
  },
  {
   "cell_type": "code",
   "execution_count": 5,
   "metadata": {
    "vscode": {
     "languageId": "java"
    }
   },
   "outputs": [],
   "source": [
    "static int count(Node<String> node, int str) {\n",
    "    int count = 0;\n",
    "    while (node != null) {\n",
    "        if (node.getValue().equals(num)) {\n",
    "            count++;\n",
    "        }\n",
    "        node = node.getNext();\n",
    "    }\n",
    "    return count;\n",
    "}"
   ]
  },
  {
   "cell_type": "code",
   "execution_count": 6,
   "metadata": {
    "vscode": {
     "languageId": "java"
    }
   },
   "outputs": [],
   "source": [
    "static Node<Integer> addToHead(Node<Integer> list, int num) {\n",
    "    Node<Integer> newNode = new Node<Integer>(num, list);\n",
    "    return newNode;\n",
    "}"
   ]
  },
  {
   "cell_type": "code",
   "execution_count": 7,
   "metadata": {
    "vscode": {
     "languageId": "java"
    }
   },
   "outputs": [],
   "source": [
    "static Node<Integer> addToTail(Node<Integer> list, int num) {\n",
    "    Node<Integer> newNode = new Node<Integer>(num);\n",
    "    if (list == null) {\n",
    "        return newNode;\n",
    "    }\n",
    "    Node<Integer> node = list;\n",
    "    while (node.getNext() != null) {\n",
    "        node = node.getNext();\n",
    "    }\n",
    "    node.setNext(newNode);\n",
    "    return list;\n",
    "}"
   ]
  },
  {
   "cell_type": "code",
   "execution_count": null,
   "metadata": {
    "vscode": {
     "languageId": "java"
    }
   },
   "outputs": [],
   "source": [
    "static Node<Integer> addToOrdered(Node<Integer> list, int num) {\n",
    "    Node<Integer> newNode = new Node<Integer>(num);\n",
    "    if (list == null) {\n",
    "        return newNode;\n",
    "    }\n",
    "    if (num < list.getValue()) {\n",
    "        newNode.setNext(list);\n",
    "        return newNode;\n",
    "    }\n",
    "    Node<Integer> node = list;\n",
    "    while (node.getNext() != null && node.getNext().getValue() < num) {\n",
    "        node = node.getNext();\n",
    "    }\n",
    "    newNode.setNext(node.getNext());\n",
    "    node.setNext(newNode);\n",
    "    return list;\n",
    "}"
   ]
  },
  {
   "cell_type": "code",
   "execution_count": null,
   "metadata": {
    "vscode": {
     "languageId": "java"
    }
   },
   "outputs": [],
   "source": [
    "static Node<Integer> removeFromHead(Node<Integer> list) {\n",
    "    if (list == null) {\n",
    "        return null;\n",
    "    }\n",
    "    return list.getNext();\n",
    "}"
   ]
  },
  {
   "cell_type": "code",
   "execution_count": null,
   "metadata": {
    "vscode": {
     "languageId": "java"
    }
   },
   "outputs": [],
   "source": [
    "static Node<Integer> removeFromTail(Node<Integer> list) {\n",
    "    if (list == null) {\n",
    "        return null;\n",
    "    }\n",
    "    if (list.getNext() == null) {\n",
    "        return null;\n",
    "    }\n",
    "    Node<Integer> node = list;\n",
    "    while (node.getNext().getNext() != null) {\n",
    "        node = node.getNext();\n",
    "    }\n",
    "    node.setNext(null);\n",
    "    return list;\n",
    "}"
   ]
  },
  {
   "cell_type": "code",
   "execution_count": null,
   "metadata": {
    "vscode": {
     "languageId": "java"
    }
   },
   "outputs": [],
   "source": [
    "static Node<Integer> removeOne(Node<Integer> list, int num) {\n",
    "    if (list == null) {\n",
    "        return null;\n",
    "    }\n",
    "    if (list.getValue() == num) {\n",
    "        return list.getNext();\n",
    "    }\n",
    "    Node<Integer> node = list;\n",
    "    while (node.getNext() != null) {\n",
    "        if (node.getNext().getValue() == num) {\n",
    "            node.setNext(node.getNext().getNext());\n",
    "            return list;\n",
    "        }\n",
    "        node = node.getNext();\n",
    "    }\n",
    "    return list;\n",
    "}"
   ]
  },
  {
   "cell_type": "code",
   "execution_count": null,
   "metadata": {
    "vscode": {
     "languageId": "java"
    }
   },
   "outputs": [],
   "source": [
    "static Node<Integer> removeAll(Node<Integer> list, int num) {\n",
    "    while (list != null && list.getValue() == num) {\n",
    "        list = list.getNext();\n",
    "    }\n",
    "    Node<Integer> node = list;\n",
    "    while (node != null && node.getNext() != null) {\n",
    "        if (node.getNext().getValue() == num) {\n",
    "            node.setNext(node.getNext().getNext());\n",
    "        } else {\n",
    "            node = node.getNext();\n",
    "        }\n",
    "    }\n",
    "    return list;\n",
    "}"
   ]
  },
  {
   "cell_type": "code",
   "execution_count": 10,
   "metadata": {
    "vscode": {
     "languageId": "java"
    }
   },
   "outputs": [],
   "source": [
    "class Student {\n",
    "    public Student(String name, int age) {}\n",
    "    public String getName() { return \"\"; }\n",
    "    public int getAge() { return -1; }\n",
    "}"
   ]
  },
  {
   "cell_type": "code",
   "execution_count": 11,
   "metadata": {
    "vscode": {
     "languageId": "java"
    }
   },
   "outputs": [],
   "source": [
    "Student findByName(Node<Student> node, String name) {\n",
    "    while (node != null) {\n",
    "        Student student = node.getValue();\n",
    "        if (student.getName().equals(name)) {\n",
    "            return student;\n",
    "        }\n",
    "        node = node.getNext();\n",
    "    }\n",
    "    return null;\n",
    "}"
   ]
  },
  {
   "cell_type": "code",
   "execution_count": 12,
   "metadata": {
    "vscode": {
     "languageId": "java"
    }
   },
   "outputs": [],
   "source": [
    "boolean sameStudents(Node<Student> l1, Node<Student> l2) {\n",
    "    while (l1 != null && l2 != null) {\n",
    "        Student stu1 = l1.getValue();\n",
    "        Student stu2 = l2.getValue();\n",
    "        if (!stu1.getName().equals(stu2.getName()) || stu1.getAge() != stu2.getAge()) {\n",
    "            return false;\n",
    "        }\n",
    "        l1 = l1.getNext();\n",
    "        l2 = l2.getNext();\n",
    "    }\n",
    "    return l1 == null && l2 == null;\n",
    "}"
   ]
  },
  {
   "cell_type": "markdown",
   "metadata": {},
   "source": [
    "---"
   ]
  },
  {
   "cell_type": "code",
   "execution_count": 13,
   "metadata": {
    "vscode": {
     "languageId": "java"
    }
   },
   "outputs": [],
   "source": [
    "Student findYoungest(Node<Student> node) {\n",
    "    return null;\n",
    "}"
   ]
  },
  {
   "cell_type": "code",
   "execution_count": 14,
   "metadata": {
    "vscode": {
     "languageId": "java"
    }
   },
   "outputs": [],
   "source": [
    "int countOlderThan(Node<Student> node, int age) {\n",
    "    return -1;\n",
    "}"
   ]
  },
  {
   "cell_type": "code",
   "execution_count": 15,
   "metadata": {
    "vscode": {
     "languageId": "java"
    }
   },
   "outputs": [],
   "source": [
    "int countNamesakes(Node<Student> node, String name) {\n",
    "    return -1;\n",
    "}"
   ]
  },
  {
   "cell_type": "code",
   "execution_count": 16,
   "metadata": {
    "vscode": {
     "languageId": "java"
    }
   },
   "outputs": [],
   "source": [
    "class Person {\n",
    "    public Person(String name, String family) {}\n",
    "    public String getName() { return \"\"; }\n",
    "    public String getFamily() { return \"\"; }\n",
    "}"
   ]
  },
  {
   "cell_type": "code",
   "execution_count": 17,
   "metadata": {
    "vscode": {
     "languageId": "java"
    }
   },
   "outputs": [],
   "source": [
    "Person findPerson(Node<Person> node, String name, String family) {\n",
    "    return null;\n",
    "}"
   ]
  },
  {
   "cell_type": "code",
   "execution_count": 18,
   "metadata": {
    "vscode": {
     "languageId": "java"
    }
   },
   "outputs": [],
   "source": [
    "boolean sameNumbers(Node<Integer> l1, Node<Integer> l2) {\n",
    "    return false;\n",
    "}"
   ]
  }
 ],
 "metadata": {
  "kernelspec": {
   "display_name": "Java",
   "language": "java",
   "name": "java"
  },
  "language_info": {
   "codemirror_mode": "java",
   "file_extension": ".jshell",
   "mimetype": "text/x-java-source",
   "name": "Java",
   "pygments_lexer": "java",
   "version": "23+37-2369"
  }
 },
 "nbformat": 4,
 "nbformat_minor": 2
}
