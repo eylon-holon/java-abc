{
 "cells": [
  {
   "cell_type": "markdown",
   "metadata": {},
   "source": [
    "![](img/img_00120.png)"
   ]
  },
  {
   "cell_type": "markdown",
   "metadata": {},
   "source": [
    "![](img/img_00121.png)"
   ]
  },
  {
   "cell_type": "markdown",
   "metadata": {},
   "source": [
    "![](img/img_00122.png)"
   ]
  },
  {
   "cell_type": "code",
   "execution_count": 4,
   "metadata": {
    "vscode": {
     "languageId": "java"
    }
   },
   "outputs": [],
   "source": [
    "%load formulas\n",
    "\n",
    "public static\n",
    "boolean wordFromRoot(BinNode<Character> node, String str) {\n",
    "    if (str.isEmpty()) {\n",
    "        return true;\n",
    "    }\n",
    "    if (node == null) {\n",
    "        return false;\n",
    "    }\n",
    "    if (node.getValue() != str.charAt(0)) {\n",
    "        return false;\n",
    "    }\n",
    "    return \n",
    "        wordFromRoot(node.getLeft(), str.substring(1)) || \n",
    "        wordFromRoot(node.getRight(), str.substring(1));\n",
    "}"
   ]
  },
  {
   "cell_type": "code",
   "execution_count": 9,
   "metadata": {
    "vscode": {
     "languageId": "java"
    }
   },
   "outputs": [
    {
     "name": "stdout",
     "output_type": "stream",
     "text": [
      "true \n"
     ]
    }
   ],
   "source": [
    "BinNode<Character> tree = \n",
    "    new BinNode<>('h', \n",
    "        new BinNode<>('n', \n",
    "            new BinNode<>('p'),\n",
    "            null\n",
    "        ), \n",
    "        new BinNode<>('e', \n",
    "            new BinNode<>('u'),\n",
    "            new BinNode<>('l',\n",
    "                new BinNode<>('p',\n",
    "                    null,\n",
    "                    new BinNode<>('u')\n",
    "                ),\n",
    "                null\n",
    "            )\n",
    "        )\n",
    "    );           \n",
    "    \n",
    "    print(wordFromRoot(tree, \"help\"));"
   ]
  }
 ],
 "metadata": {
  "kernelspec": {
   "display_name": "Java",
   "language": "java",
   "name": "java"
  },
  "language_info": {
   "codemirror_mode": "java",
   "file_extension": ".jshell",
   "mimetype": "text/x-java-source",
   "name": "Java",
   "pygments_lexer": "java",
   "version": "23+37-2369"
  }
 },
 "nbformat": 4,
 "nbformat_minor": 2
}
