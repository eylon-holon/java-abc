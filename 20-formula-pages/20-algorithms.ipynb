{
 "cells": [
  {
   "cell_type": "code",
   "execution_count": null,
   "metadata": {
    "vscode": {
     "languageId": "java"
    }
   },
   "outputs": [],
   "source": [
    "%load formulas"
   ]
  },
  {
   "cell_type": "code",
   "execution_count": null,
   "metadata": {
    "vscode": {
     "languageId": "java"
    }
   },
   "outputs": [],
   "source": [
    "public static\n",
    "int[] countFrequences(int[] arr) {\n",
    "    int[] freqs = new int[arr.length];\n",
    "    for (int i = 0; i < arr.length; i++) {\n",
    "        freqs[arr[i]]++;\n",
    "    }\n",
    "    return freqs;\n",
    "}"
   ]
  }
 ],
 "metadata": {
  "language_info": {
   "name": "python"
  }
 },
 "nbformat": 4,
 "nbformat_minor": 2
}
