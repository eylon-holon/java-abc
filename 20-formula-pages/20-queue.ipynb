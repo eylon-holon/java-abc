{
 "cells": [
  {
   "cell_type": "markdown",
   "metadata": {},
   "source": [
    "| Queue function  | Example  | הסבר  |\n",
    "|---|---|---|\n",
    "| `Queue()`                 | `Queue<Integer> que = new Queue<Integer>();` |  פעולה הבונה תור ריק של מספרים|\n",
    "| `boolean isEmpty()`       | `while (!que.isEmpty()) {` <br> `}`          | פעולה המחזירה אמת אם התור ריק ושקר אחרת |\n",
    "| `T head()`                | `int num = que.head();`                      | הפעולה מחזירה את האיבר שבראש התור מבלי להוציאו. <br> תנאי קדם: התור לא ריק |\n",
    "| `void insert(T x)`        | `que.insert(10);`                            | הפעולה מוסיפה את המספר לסוף התור |\n",
    "| `T remove()`              | `int num = que.remove();`                    | הפעולה מוציאה ומחזירה את האיבר שבראש התור <br> תנאי קדם: התור לא ריק |\n",
    "| ``                        |                                             |  |"
   ]
  },
  {
   "cell_type": "code",
   "execution_count": null,
   "metadata": {
    "vscode": {
     "languageId": "java"
    }
   },
   "outputs": [],
   "source": [
    "%load formulas"
   ]
  },
  {
   "cell_type": "code",
   "execution_count": null,
   "metadata": {
    "vscode": {
     "languageId": "java"
    }
   },
   "outputs": [],
   "source": [
    "public static\n",
    "void printQueue(Queue<Integer> que) {\n",
    "    Queue<Integer> tmp = nwe Queue<Integer>();\n",
    "    while (!que.isEmpty()) {\n",
    "        int x = que.remove();\n",
    "        System.out.print(x + \" \");\n",
    "        tmp.insert(x);\n",
    "    }\n",
    "    while (!tmp.isEmpty()) {\n",
    "        que.insert(tmp.remove());\n",
    "    }\n",
    "    System.out.println();\n",
    "}"
   ]
  },
  {
   "cell_type": "code",
   "execution_count": null,
   "metadata": {
    "vscode": {
     "languageId": "java"
    }
   },
   "outputs": [],
   "source": [
    "public static\n",
    "boolean contains(Queue<Integer> que, int value) {\n",
    "    Queue<Integer> tmp = new Queue<Integer>();\n",
    "    boolean found = false;\n",
    "    while (!que.isEmpty()) {\n",
    "        int x = que.remove();\n",
    "        if (x == value) {\n",
    "            found = true;\n",
    "        }\n",
    "        tmp.insert(x);\n",
    "    }\n",
    "    while (!tmp.isEmpty()) {\n",
    "        que.insert(tmp.remove());\n",
    "    }\n",
    "    return found;\n",
    "}"
   ]
  }
 ],
 "metadata": {
  "language_info": {
   "name": "python"
  }
 },
 "nbformat": 4,
 "nbformat_minor": 2
}
