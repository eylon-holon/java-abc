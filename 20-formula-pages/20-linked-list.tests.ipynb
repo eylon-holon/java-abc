{
 "cells": [
  {
   "cell_type": "code",
   "execution_count": 2,
   "metadata": {
    "vscode": {
     "languageId": "java"
    }
   },
   "outputs": [],
   "source": [
    "%load 20-linked-list"
   ]
  },
  {
   "cell_type": "code",
   "execution_count": 3,
   "metadata": {
    "vscode": {
     "languageId": "java"
    }
   },
   "outputs": [
    {
     "name": "stdout",
     "output_type": "stream",
     "text": [
      "[1, 2, 4, 5] \n",
      "[1, 2, 4, 5, 6] \n",
      "[0, 1, 2, 4, 5, 6] \n",
      "[0, 1, 2, 3, 4, 5, 6] \n",
      "[1, 2, 3, 4, 5] \n",
      "[0, 1, 2, 3, 3, 4, 5, 6] \n",
      "[1, 2, 3, 4, 5] \n",
      "[0, 0, 1, 2, 3, 3, 3, 4, 5, 6, 6] \n",
      "[1, 2, 4, 5] \n",
      "[1, 2, 4, 5] \n"
     ]
    }
   ],
   "source": [
    "var list = listFromArray(new int[] {1, 2, 4, 5});\n",
    "print(list);\n",
    "\n",
    "list = addToTail(list, 6);\n",
    "print(list);\n",
    "\n",
    "list = addToHead(list, 0);\n",
    "print(list);\n",
    "\n",
    "list = addToOrdered(list, 3);\n",
    "print(list);\n",
    "\n",
    "list = removeFromHead(list);\n",
    "list = removeFromTail(list);\n",
    "print(list);\n",
    "\n",
    "list = addToOrdered(list, 0);\n",
    "list = addToOrdered(list, 6);\n",
    "list = addToOrdered(list, 3);\n",
    "print(list);\n",
    "\n",
    "list = removeOne(list, 0);\n",
    "list = removeOne(list, 6);\n",
    "list = removeOne(list, 3);\n",
    "print(list);\n",
    "\n",
    "list = addToHead(list, 0);\n",
    "list = addToOrdered(list, 0);\n",
    "list = addToTail(list, 6);\n",
    "list = addToOrdered(list, 6);\n",
    "list = addToOrdered(list, 3);\n",
    "list = addToOrdered(list, 3);\n",
    "print(list);\n",
    "\n",
    "list = removeAll(list, 0);\n",
    "list = removeAll(list, 6);\n",
    "list = removeAll(list, 3);\n",
    "print(list);\n",
    "\n",
    "list = removeOne(list, 10);\n",
    "list = removeAll(list, 10);\n",
    "print(list);"
   ]
  },
  {
   "cell_type": "code",
   "execution_count": 4,
   "metadata": {
    "vscode": {
     "languageId": "java"
    }
   },
   "outputs": [
    {
     "name": "stdout",
     "output_type": "stream",
     "text": [
      "[1] \n",
      "null \n",
      "null \n",
      "null \n",
      "null \n"
     ]
    }
   ],
   "source": [
    "var list = addToHead(null, 1);\n",
    "print(list);\n",
    "\n",
    "print(removeFromHead(list));\n",
    "print(removeFromTail(list));\n",
    "print(removeOne(list, 1));\n",
    "print(removeAll(list, 1));"
   ]
  },
  {
   "cell_type": "code",
   "execution_count": 5,
   "metadata": {
    "vscode": {
     "languageId": "java"
    }
   },
   "outputs": [
    {
     "name": "stdout",
     "output_type": "stream",
     "text": [
      "null \n",
      "null \n",
      "null \n",
      "null \n"
     ]
    }
   ],
   "source": [
    "print(removeFromHead(null));\n",
    "print(removeFromTail(null));\n",
    "print(removeOne(null, 1));\n",
    "print(removeAll(null, 1));"
   ]
  },
  {
   "cell_type": "code",
   "execution_count": null,
   "metadata": {
    "vscode": {
     "languageId": "java"
    }
   },
   "outputs": [],
   "source": [
    "public static Node removeAll(Node head, int value) {\n",
    "    // Dummy node to handle edge cases\n",
    "    Node dummy = new Node(0);\n",
    "    dummy.next = head;\n",
    "    Node current = dummy;\n",
    "\n",
    "    while (current.next != null) {\n",
    "        if (current.next.data == value) {\n",
    "            current.next = current.next.next; // Remove the node\n",
    "        } else {\n",
    "            current = current.next; // Move to the next node\n",
    "        }\n",
    "    }\n",
    "\n",
    "    return dummy.next;\n",
    "}"
   ]
  }
 ],
 "metadata": {
  "kernelspec": {
   "display_name": "Java",
   "language": "java",
   "name": "java"
  },
  "language_info": {
   "codemirror_mode": "java",
   "file_extension": ".jshell",
   "mimetype": "text/x-java-source",
   "name": "Java",
   "pygments_lexer": "java",
   "version": "23+37-2369"
  }
 },
 "nbformat": 4,
 "nbformat_minor": 2
}
