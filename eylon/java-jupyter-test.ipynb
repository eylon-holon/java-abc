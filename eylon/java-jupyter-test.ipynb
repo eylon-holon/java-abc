{
 "cells": [
  {
   "cell_type": "code",
<<<<<<< HEAD:java-jupyter-test.ipynb
   "execution_count": 2,
   "metadata": {},
=======
   "execution_count": 5,
   "metadata": {
    "vscode": {
     "languageId": "java"
    }
   },
>>>>>>> 7107b20255b9786fcab4508557bdbb54f0d7bd77:eylon/java-jupyter-test.ipynb
   "outputs": [],
   "source": [
    "void print(String str) {\n",
    "    System.out.println(str);\n",
    "}\n",
    "String input(String prompt) {\n",
    "    print(prompt);\n",
    "    return new Scanner(System.in).nextLine();\n",
    "}"
   ]
  },
  {
   "cell_type": "code",
   "execution_count": 3,
   "metadata": {},
   "outputs": [
    {
     "name": "stdout",
     "output_type": "stream",
     "text": [
      "What's you name? \n",
      "Hi david\n"
     ]
    }
   ],
   "source": [
    "String name = input(\"What's you name? \");\n",
    "print(\"Hi \" + name);"
   ]
  },
  {
   "cell_type": "code",
<<<<<<< HEAD:java-jupyter-test.ipynb
   "execution_count": 4,
   "metadata": {},
=======
   "execution_count": 6,
   "metadata": {
    "vscode": {
     "languageId": "java"
    }
   },
>>>>>>> 7107b20255b9786fcab4508557bdbb54f0d7bd77:eylon/java-jupyter-test.ipynb
   "outputs": [],
   "source": [
    "interface IHaveAbcFunction {\n",
    "    void abc(String str);\n",
    "}\n",
    "void run(IHaveAbcFunction func, String str) {\n",
    "    func.abc(str);\n",
    "}"
   ]
  },
  {
   "cell_type": "code",
   "execution_count": null,
   "metadata": {},
   "outputs": [],
   "source": [
    "run(str -> print(str), \"run(...) just calls any function that gets a string as its argument!\")"
   ]
  },
  {
   "cell_type": "code",
<<<<<<< HEAD:java-jupyter-test.ipynb
   "execution_count": 4,
   "metadata": {},
=======
   "execution_count": 8,
   "metadata": {
    "vscode": {
     "languageId": "java"
    }
   },
>>>>>>> 7107b20255b9786fcab4508557bdbb54f0d7bd77:eylon/java-jupyter-test.ipynb
   "outputs": [],
   "source": [
    "String os(String cmd) throws IOException {\n",
    "    Scanner s = new Scanner(Runtime.getRuntime().exec(cmd).getInputStream()).useDelimiter(\"\\\\A\");\n",
    "    return s.hasNext() ? s.next() : \"\";\n",
    "}\n",
    "\n",
    "String post(String fname) throws IOException {\n",
    "    return os(\"python config/core-cmd.py post_to_log 01-welcome \" + fname);\n",
    "}"
   ]
  },
  {
   "cell_type": "code",
   "execution_count": null,
   "metadata": {},
   "outputs": [],
   "source": [
    "post(\"Java-is-here\");\n"
   ]
  },
  {
   "cell_type": "code",
   "execution_count": null,
   "metadata": {},
   "outputs": [],
   "source": [
    "%maven org.knowm.xchart:xchart:3.5.2\n",
    "import org.knowm.xchart.*;\n",
    "\n",
    "double[] xData = new double[] { 0.0, 1.0, 2.0 };\n",
    "double[] yData = new double[] { 2.0, 1.0, 0.0 };\n",
    "\n",
    "XYChart chart = QuickChart.getChart(\"Sample Chart\", \"X\", \"Y\", \"y(x)\", xData, yData);\n",
    "\n",
    "BitmapEncoder.getBufferedImage(chart);"
   ]
  },
  {
   "cell_type": "code",
   "execution_count": null,
   "metadata": {},
   "outputs": [],
   "source": [
    "post(\"chart\")"
   ]
  }
 ],
 "metadata": {
  "kernelspec": {
   "display_name": "Java",
   "language": "java",
   "name": "java"
  },
  "language_info": {
   "codemirror_mode": "java",
   "file_extension": ".jshell",
   "mimetype": "text/x-java-source",
   "name": "java",
   "pygments_lexer": "java",
   "version": "21.0.4+7-LTS"
  }
 },
 "nbformat": 4,
 "nbformat_minor": 2
}
