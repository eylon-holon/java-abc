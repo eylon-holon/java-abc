{
 "cells": [
  {
   "cell_type": "code",
   "execution_count": null,
   "metadata": {},
   "outputs": [],
   "source": [
    "import java.util.Scanner;  \n",
    "\n",
    "void print(Object... args) {\n",
    "    for (var arg : args) {\n",
    "        System.out.print(arg);\n",
    "        System.out.print(' ');\n",
    "    }\n",
    "    System.out.println();\n",
    "}\n",
    "\n",
    "String input(String prompt) {\n",
    "    var scanner = new Scanner(System.in);\n",
    "\n",
    "    System.out.print(prompt);\n",
    "    var answer = scanner.nextLine();\n",
    "    \n",
    "    System.out.println();\n",
    "\n",
    "    return answer;\n",
    "}"
   ]
  }
 ],
 "metadata": {
  "kernelspec": {
   "display_name": "Java",
   "language": "java",
   "name": "java"
  },
  "language_info": {
   "name": "java"
  }
 },
 "nbformat": 4,
 "nbformat_minor": 2
}
