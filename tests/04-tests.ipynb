{
 "cells": [
  {
   "cell_type": "code",
   "execution_count": 1,
   "metadata": {},
   "outputs": [
    {
     "name": "stdout",
     "output_type": "stream",
     "text": [
      "123 456 Hello Bob!! \n"
     ]
    }
   ],
   "source": [
    "%load ../eylon/java-utils\n",
    "print(123, 456, \"Hello\", \"Bob!!\");"
   ]
  },
  {
   "cell_type": "code",
   "execution_count": 2,
   "metadata": {},
   "outputs": [
    {
     "name": "stdout",
     "output_type": "stream",
     "text": [
      "Type your name: \n",
      "Hello Gosha \n"
     ]
    }
   ],
   "source": [
    "var name = input(\"Type your name: \");\n",
    "print(\"Hello\", name);"
   ]
  },
  {
   "cell_type": "code",
   "execution_count": 3,
   "metadata": {},
   "outputs": [
    {
     "name": "stdout",
     "output_type": "stream",
     "text": [
      "[##########] 100%\r"
     ]
    }
   ],
   "source": [
    "for (int i = 0; i++ < 10; ) {\n",
    "    System.out.print(\"[\" + \"#\".repeat(i) + \"] \" + i*10 + \"%\\r\");\n",
    "    Thread.sleep(300);\n",
    "}"
   ]
  }
 ],
 "metadata": {
  "kernelspec": {
   "display_name": "Java",
   "language": "java",
   "name": "java"
  },
  "language_info": {
   "codemirror_mode": "java",
   "file_extension": ".jshell",
   "mimetype": "text/x-java-source",
   "name": "java",
   "pygments_lexer": "java",
   "version": "23+37-2369"
  }
 },
 "nbformat": 4,
 "nbformat_minor": 2
}
