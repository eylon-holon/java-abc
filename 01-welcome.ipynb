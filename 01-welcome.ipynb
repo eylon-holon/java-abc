{
 "cells": [
  {
   "cell_type": "markdown",
   "metadata": {},
   "source": [
    "תתחילו עבודה בלהריץ את הפונקציה הבא"
   ]
  },
  {
   "cell_type": "code",
   "execution_count": 1,
   "metadata": {},
   "outputs": [
    {
     "name": "stdout",
     "output_type": "stream",
     "text": [
      "Let's start 🙌, those are waiting 🛠️:  hello(),hello2(),more()\n"
     ]
    }
   ],
   "source": [
    "from eylon.core import *\n",
    "start({\n",
    "    \"hello()\": [['Gosha'], ['Hi Gosha']],\n",
    "    \"hello2()\": [['David'], ['Hi David']],\n",
    "    \"more()\": [['Alex'], ['Hi Alex']]\n",
    "})"
   ]
  },
  {
   "cell_type": "markdown",
   "metadata": {},
   "source": [
    "עכשיו מימשו את הפונקציה ותריצו את ההגדרה"
   ]
  },
  {
   "cell_type": "code",
   "execution_count": 7,
   "metadata": {},
   "outputs": [
    {
     "name": "stdout",
     "output_type": "stream",
     "text": [
      "Hi Gosha\n",
      "Congrats main! Got it: '01-welcome.hello'. Gosha is happy :) 👍\n"
     ]
    }
   ],
   "source": [
    "def hello():\n",
    "    name = input(\"Whats's your name? \")\n",
    "    print(\"Hi\", name)\n",
    "\n",
    "submit(hello)"
   ]
  },
  {
   "cell_type": "markdown",
   "metadata": {},
   "source": [
    "תריצו את הגדרה של פונקציה שמימשתם"
   ]
  },
  {
   "cell_type": "markdown",
   "metadata": {},
   "source": [
    "סיימו את העבודה בהגשה של הפונקציה"
   ]
  },
  {
   "cell_type": "code",
   "execution_count": 8,
   "metadata": {},
   "outputs": [
    {
     "name": "stdout",
     "output_type": "stream",
     "text": [
      "Hi David\n",
      "Congrats main! Got it: '01-welcome.hello2'. Gosha is happy :) 👍\n"
     ]
    }
   ],
   "source": [
    "def hello2():\n",
    "    name = input(\"Whats's your name? 2\")\n",
    "    print(\"Hi \" + name)\n",
    "\n",
    "submit(hello2)"
   ]
  },
  {
   "cell_type": "code",
   "execution_count": 10,
   "metadata": {},
   "outputs": [
    {
     "name": "stdout",
     "output_type": "stream",
     "text": [
      "Hi Alex\n",
      "Congrats main! Got it: '01-welcome.more'. Gosha is happy :) 👍\n"
     ]
    }
   ],
   "source": [
    "def more():\n",
    "    print(\"Hi Alex\")\n",
    "\n",
    "submit(more)"
   ]
  }
 ],
 "metadata": {
  "kernelspec": {
   "display_name": "Python 3",
   "language": "python",
   "name": "python3"
  },
  "language_info": {
   "codemirror_mode": {
    "name": "ipython",
    "version": 3
   },
   "file_extension": ".py",
   "mimetype": "text/x-python",
   "name": "python",
   "nbconvert_exporter": "python",
   "pygments_lexer": "ipython3",
   "version": "3.11.9"
  }
 },
 "nbformat": 4,
 "nbformat_minor": 2
}
