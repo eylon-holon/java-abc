{
 "cells": [
  {
   "cell_type": "markdown",
   "metadata": {},
   "source": [
    "תתחילו עבודה בלהריץ את הפונקציה הבא"
   ]
  },
  {
   "cell_type": "code",
   "execution_count": 1,
   "metadata": {},
   "outputs": [
    {
     "name": "stdout",
     "output_type": "stream",
     "text": [
      "Let's start 🙌, those are waiting 🛠️:  'hello()','hello2()','more()'\n"
     ]
    }
   ],
   "source": [
    "from eylon.core import *\n",
    "def hello(): pass\n",
    "def hello2(): pass\n",
    "def more(): pass\n",
    "start({\n",
    "    hello: [['name'], ['Hi {name}']],\n",
    "    hello2: [['name'], ['Hi {name}']],\n",
    "    more: [['name'], ['Hi {name}']]\n",
    "})"
   ]
  },
  {
   "cell_type": "markdown",
   "metadata": {},
   "source": [
    "עכשיו מימשו את הפונקציה ותריצו את ההגדרה"
   ]
  },
  {
   "cell_type": "code",
   "execution_count": 2,
   "metadata": {},
   "outputs": [],
   "source": [
    "def hello():\n",
    "    name = input(\"Whats's your name? \")\n",
    "    print(\"Hi \" + name)"
   ]
  },
  {
   "cell_type": "code",
   "execution_count": 3,
   "metadata": {},
   "outputs": [],
   "source": [
    "def hello2():\n",
    "    name = input(\"Whats's your name? 2\")\n",
    "    print(\"Hi \" + name)"
   ]
  },
  {
   "cell_type": "code",
   "execution_count": 4,
   "metadata": {},
   "outputs": [],
   "source": [
    "def more():\n",
    "    pass"
   ]
  },
  {
   "cell_type": "markdown",
   "metadata": {},
   "source": [
    "תריצו את הגדרה של פונקציה שמימשתם"
   ]
  },
  {
   "cell_type": "code",
   "execution_count": null,
   "metadata": {},
   "outputs": [],
   "source": [
    "hello()"
   ]
  },
  {
   "cell_type": "markdown",
   "metadata": {},
   "source": [
    "סיימו את העבודה בהגשה של הפונקציה"
   ]
  },
  {
   "cell_type": "code",
   "execution_count": null,
   "metadata": {},
   "outputs": [],
   "source": [
    "submit(hello, ['Gosha'])"
   ]
  },
  {
   "cell_type": "code",
   "execution_count": null,
   "metadata": {},
   "outputs": [],
   "source": [
    "submit(hello2, ['Gosha'])"
   ]
  },
  {
   "cell_type": "code",
   "execution_count": null,
   "metadata": {},
   "outputs": [],
   "source": [
    "submit(more, ['Gosha'])"
   ]
  },
  {
   "cell_type": "markdown",
   "metadata": {},
   "source": [
    "להריץ בשביל לקבל עבודה הבא"
   ]
  },
  {
   "cell_type": "code",
   "execution_count": 9,
   "metadata": {},
   "outputs": [],
   "source": [
    "from eylon.core import get_next_class\n",
    "get_next_class()"
   ]
  },
  {
   "cell_type": "code",
   "execution_count": 10,
   "metadata": {},
   "outputs": [],
   "source": [
    "from git import Repo\n"
   ]
  }
 ],
 "metadata": {
  "kernelspec": {
   "display_name": "Python 3",
   "language": "python",
   "name": "python3"
  },
  "language_info": {
   "codemirror_mode": {
    "name": "ipython",
    "version": 3
   },
   "file_extension": ".py",
   "mimetype": "text/x-python",
   "name": "python",
   "nbconvert_exporter": "python",
   "pygments_lexer": "ipython3",
   "version": "3.11.9"
  }
 },
 "nbformat": 4,
 "nbformat_minor": 2
}
