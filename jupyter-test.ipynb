{
 "cells": [
  {
   "cell_type": "code",
   "execution_count": 1,
   "metadata": {
    "vscode": {
     "languageId": "java"
    }
   },
   "outputs": [
    {
     "name": "stdout",
     "output_type": "stream",
     "text": [
      "Hello world! - 34.0\n"
     ]
    }
   ],
   "source": [
    "double d = 34;\n",
    "String str = \"Hello world! - \";\n",
    "System.out.println(str + d);"
   ]
  },
  {
   "cell_type": "code",
   "execution_count": 3,
   "metadata": {
    "vscode": {
     "languageId": "java"
    }
   },
   "outputs": [],
   "source": [
    "interface IFoo {\n",
    "    void invoke(String str);\n",
    "}\n",
    "\n",
    "void run(IFoo foo, String str) {\n",
    "    foo.invoke(str);\n",
    "}\n",
    "\n",
    "void foo(String str) {\n",
    "    System.out.println(str);\n",
    "}"
   ]
  },
  {
   "cell_type": "code",
   "execution_count": 4,
   "metadata": {
    "vscode": {
     "languageId": "java"
    }
   },
   "outputs": [
    {
     "name": "stdout",
     "output_type": "stream",
     "text": [
      "It worked!!!\n"
     ]
    }
   ],
   "source": [
    "run(str -> foo(str), \"It worked!!!\")"
   ]
  }
 ],
 "metadata": {
  "kernelspec": {
   "display_name": "Java",
   "language": "java",
   "name": "java"
  },
  "language_info": {
   "codemirror_mode": "java",
   "file_extension": ".jshell",
   "mimetype": "text/x-java-source",
   "name": "Java",
   "pygments_lexer": "java",
   "version": "23+37-2369"
  }
 },
 "nbformat": 4,
 "nbformat_minor": 2
}
