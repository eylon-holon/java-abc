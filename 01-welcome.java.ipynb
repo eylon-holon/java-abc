{
 "cells": [
  {
   "cell_type": "code",
   "execution_count": 1,
   "metadata": {
    "vscode": {
     "languageId": "java"
    }
   },
   "outputs": [],
   "source": [
    "int min(int[] a) {\n",
    "    int min = a[0];\n",
    "    for (int i = 0; i < a.length; i++) {\n",
    "        if (a[i] < min)\n",
    "        min = a[i];\n",
    "    }\n",
    "    return min;\n",
    "}"
   ]
  },
  {
   "cell_type": "code",
   "execution_count": 5,
   "metadata": {
    "vscode": {
     "languageId": "java"
    }
   },
   "outputs": [
    {
     "name": "stdout",
     "output_type": "stream",
     "text": [
      "1\n",
      "-3\n",
      "-20\n"
     ]
    }
   ],
   "source": [
    "System.out.println(min(new int[] {1, 2, 3}));\n",
    "System.out.println(min(new int[] {1, 2, -3}));\n",
    "System.out.println(min(new int[] {-1, -20, -3}));"
   ]
  },
  {
   "cell_type": "code",
   "execution_count": 3,
   "metadata": {
    "vscode": {
     "languageId": "java"
    }
   },
   "outputs": [],
   "source": [
    "int max(int[] a) {\n",
    "    int max = a[0];\n",
    "    for (int i = 0; i < a.length; i++) {\n",
    "        if (a[i] > max)\n",
    "        max = a[i];\n",
    "    }\n",
    "    return max;\n",
    "}"
   ]
  },
  {
   "cell_type": "code",
   "execution_count": 4,
   "metadata": {
    "vscode": {
     "languageId": "java"
    }
   },
   "outputs": [
    {
     "name": "stdout",
     "output_type": "stream",
     "text": [
      "3\n",
      "2\n",
      "-1\n"
     ]
    }
   ],
   "source": [
    "System.out.println(max(new int[] {1, 2, 3}));\n",
    "System.out.println(max(new int[] {1, 2, -3}));\n",
    "System.out.println(max(new int[] {-1, -20, -3}));"
   ]
  },
  {
   "cell_type": "code",
   "execution_count": 10,
   "metadata": {
    "vscode": {
     "languageId": "java"
    }
   },
   "outputs": [],
   "source": [
    "int average(int[] a) {\n",
    "    int sum = 0;\n",
    "    for (int i = 0; i < a.length; i++) {\n",
    "        sum = sum + a[i];\n",
    "    }\n",
    "    return sum / a.length;\n",
    "}"
   ]
  },
  {
   "cell_type": "code",
   "execution_count": 18,
   "metadata": {
    "vscode": {
     "languageId": "java"
    }
   },
   "outputs": [],
   "source": [
    "int min2d(int[][] m) {\n",
    "    int min = a[0][0];\n",
    "    for (int i = 0; i<a.length; i++) {\n",
    "        for (int j = 0; j<a[0].length; j++) {\n",
    "            if (min < a[i][j])\n",
    "                min = a[i][j];\n",
    "        }  \n",
    "    }\n",
    "    return min;\n",
    "}"
   ]
  },
  {
   "cell_type": "code",
   "execution_count": 19,
   "metadata": {
    "vscode": {
     "languageId": "java"
    }
   },
   "outputs": [],
   "source": [
    "int max2d(int[][] m) {\n",
    "    int max = a[0][0];\n",
    "    for (int i = 0; i<a.length; i++) {\n",
    "        for (int j = 0; j<a[0].length; j++) {\n",
    "            if (max > a[i][j])\n",
    "                max = a[i][j];\n",
    "        }\n",
    "    }\n",
    "    return max;\n",
    "}"
   ]
  }
 ],
 "metadata": {
  "kernelspec": {
   "display_name": "Java",
   "language": "java",
   "name": "java"
  },
  "language_info": {
   "codemirror_mode": "java",
   "file_extension": ".jshell",
   "mimetype": "text/x-java-source",
   "name": "Java",
   "pygments_lexer": "java",
   "version": "21.0.4+7-LTS"
  }
 },
 "nbformat": 4,
 "nbformat_minor": 2
}
